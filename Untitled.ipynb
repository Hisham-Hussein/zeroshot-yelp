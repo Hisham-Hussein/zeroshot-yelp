{
 "cells": [
  {
   "cell_type": "markdown",
   "metadata": {},
   "source": [
    "# Exploratory Data Analysis "
   ]
  },
  {
   "cell_type": "code",
   "execution_count": 1,
   "metadata": {},
   "outputs": [],
   "source": [
    "#!pip install pandas-profiling[notebook,html]\n",
    "#!pip install plotly\n",
    "#!pip install chart_studio"
   ]
  },
  {
   "cell_type": "code",
   "execution_count": 2,
   "metadata": {},
   "outputs": [],
   "source": [
    "#plotly.offline doesn't push your charts to the clouds\n",
    "import plotly.offline as pyo\n",
    "#allows us to create the Data and Figure objects\n",
    "from plotly.graph_objs import *\n",
    "#plotly.plotly pushes your charts to the cloud  \n",
    "# import chart_studio.plotly as py\n",
    "import plotly.figure_factory as ff\n",
    "import plotly.express as px\n",
    "\n",
    "# work with cufflinks offline and set its theme\n",
    "import plotly.io as pio\n",
    "pio.templates.default = \"plotly_white\"\n",
    "\n",
    "import matplotlib.pyplot as plt\n",
    "%matplotlib inline\n",
    "\n",
    "import pandas as pd\n",
    "from pandas_profiling import ProfileReport\n",
    "from googletrans import Translator\n",
    "import datetime as dt\n",
    "\n",
    "import numpy as np\n",
    "\n",
    "import os\n",
    "import json\n",
    "import re\n",
    "import sys"
   ]
  },
  {
   "cell_type": "code",
   "execution_count": 3,
   "metadata": {},
   "outputs": [
    {
     "name": "stdout",
     "output_type": "stream",
     "text": [
      "1.0.3\n"
     ]
    }
   ],
   "source": [
    "print(pd.__version__)"
   ]
  },
  {
   "cell_type": "code",
   "execution_count": 4,
   "metadata": {},
   "outputs": [],
   "source": [
    "def print_full(x):\n",
    "    pd.set_option('display.max_colwidth', None)\n",
    "    return x\n",
    "\n",
    "def reset():\n",
    "    pd.reset_option('display.max_colwidth')"
   ]
  },
  {
   "cell_type": "code",
   "execution_count": 8,
   "metadata": {},
   "outputs": [],
   "source": [
    "df = pd.read_json('data/AMAZON_FASHION_5.json', lines=True)"
   ]
  },
  {
   "cell_type": "code",
   "execution_count": 9,
   "metadata": {},
   "outputs": [
    {
     "name": "stdout",
     "output_type": "stream",
     "text": [
      "<class 'pandas.core.frame.DataFrame'>\n",
      "RangeIndex: 3176 entries, 0 to 3175\n",
      "Data columns (total 12 columns):\n",
      " #   Column          Non-Null Count  Dtype  \n",
      "---  ------          --------------  -----  \n",
      " 0   overall         3176 non-null   int64  \n",
      " 1   verified        3176 non-null   bool   \n",
      " 2   reviewTime      3176 non-null   object \n",
      " 3   reviewerID      3176 non-null   object \n",
      " 4   asin            3176 non-null   object \n",
      " 5   style           3107 non-null   object \n",
      " 6   reviewerName    3176 non-null   object \n",
      " 7   reviewText      3160 non-null   object \n",
      " 8   summary         3176 non-null   object \n",
      " 9   unixReviewTime  3176 non-null   int64  \n",
      " 10  vote            297 non-null    float64\n",
      " 11  image           106 non-null    object \n",
      "dtypes: bool(1), float64(1), int64(2), object(8)\n",
      "memory usage: 276.2+ KB\n"
     ]
    }
   ],
   "source": [
    "df.info()"
   ]
  },
  {
   "cell_type": "code",
   "execution_count": 11,
   "metadata": {},
   "outputs": [
    {
     "data": {
      "text/html": [
       "<div>\n",
       "<style scoped>\n",
       "    .dataframe tbody tr th:only-of-type {\n",
       "        vertical-align: middle;\n",
       "    }\n",
       "\n",
       "    .dataframe tbody tr th {\n",
       "        vertical-align: top;\n",
       "    }\n",
       "\n",
       "    .dataframe thead th {\n",
       "        text-align: right;\n",
       "    }\n",
       "</style>\n",
       "<table border=\"1\" class=\"dataframe\">\n",
       "  <thead>\n",
       "    <tr style=\"text-align: right;\">\n",
       "      <th></th>\n",
       "      <th>overall</th>\n",
       "      <th>verified</th>\n",
       "      <th>reviewTime</th>\n",
       "      <th>reviewerID</th>\n",
       "      <th>asin</th>\n",
       "      <th>style</th>\n",
       "      <th>reviewerName</th>\n",
       "      <th>reviewText</th>\n",
       "      <th>summary</th>\n",
       "      <th>unixReviewTime</th>\n",
       "      <th>vote</th>\n",
       "      <th>image</th>\n",
       "    </tr>\n",
       "  </thead>\n",
       "  <tbody>\n",
       "    <tr>\n",
       "      <th>0</th>\n",
       "      <td>5</td>\n",
       "      <td>True</td>\n",
       "      <td>09 4, 2015</td>\n",
       "      <td>ALJ66O1Y6SLHA</td>\n",
       "      <td>B000K2PJ4K</td>\n",
       "      <td>{'Size:': ' Big Boys', 'Color:': ' Blue/Orange'}</td>\n",
       "      <td>Tonya B.</td>\n",
       "      <td>Great product and price!</td>\n",
       "      <td>Five Stars</td>\n",
       "      <td>1441324800</td>\n",
       "      <td>NaN</td>\n",
       "      <td>NaN</td>\n",
       "    </tr>\n",
       "    <tr>\n",
       "      <th>1</th>\n",
       "      <td>5</td>\n",
       "      <td>True</td>\n",
       "      <td>09 4, 2015</td>\n",
       "      <td>ALJ66O1Y6SLHA</td>\n",
       "      <td>B000K2PJ4K</td>\n",
       "      <td>{'Size:': ' Big Boys', 'Color:': ' Black (3746...</td>\n",
       "      <td>Tonya B.</td>\n",
       "      <td>Great product and price!</td>\n",
       "      <td>Five Stars</td>\n",
       "      <td>1441324800</td>\n",
       "      <td>NaN</td>\n",
       "      <td>NaN</td>\n",
       "    </tr>\n",
       "    <tr>\n",
       "      <th>2</th>\n",
       "      <td>5</td>\n",
       "      <td>True</td>\n",
       "      <td>09 4, 2015</td>\n",
       "      <td>ALJ66O1Y6SLHA</td>\n",
       "      <td>B000K2PJ4K</td>\n",
       "      <td>{'Size:': ' Big Boys', 'Color:': ' Blue/Gray L...</td>\n",
       "      <td>Tonya B.</td>\n",
       "      <td>Great product and price!</td>\n",
       "      <td>Five Stars</td>\n",
       "      <td>1441324800</td>\n",
       "      <td>NaN</td>\n",
       "      <td>NaN</td>\n",
       "    </tr>\n",
       "    <tr>\n",
       "      <th>3</th>\n",
       "      <td>5</td>\n",
       "      <td>True</td>\n",
       "      <td>09 4, 2015</td>\n",
       "      <td>ALJ66O1Y6SLHA</td>\n",
       "      <td>B000K2PJ4K</td>\n",
       "      <td>{'Size:': ' Big Boys', 'Color:': ' Blue (37867...</td>\n",
       "      <td>Tonya B.</td>\n",
       "      <td>Great product and price!</td>\n",
       "      <td>Five Stars</td>\n",
       "      <td>1441324800</td>\n",
       "      <td>NaN</td>\n",
       "      <td>NaN</td>\n",
       "    </tr>\n",
       "    <tr>\n",
       "      <th>4</th>\n",
       "      <td>5</td>\n",
       "      <td>True</td>\n",
       "      <td>09 4, 2015</td>\n",
       "      <td>ALJ66O1Y6SLHA</td>\n",
       "      <td>B000K2PJ4K</td>\n",
       "      <td>{'Size:': ' Big Boys', 'Color:': ' Blue/Pink'}</td>\n",
       "      <td>Tonya B.</td>\n",
       "      <td>Great product and price!</td>\n",
       "      <td>Five Stars</td>\n",
       "      <td>1441324800</td>\n",
       "      <td>NaN</td>\n",
       "      <td>NaN</td>\n",
       "    </tr>\n",
       "    <tr>\n",
       "      <th>5</th>\n",
       "      <td>3</td>\n",
       "      <td>True</td>\n",
       "      <td>05 6, 2015</td>\n",
       "      <td>A3W11493KS6Z2L</td>\n",
       "      <td>B000K2PJ4K</td>\n",
       "      <td>{'Size:': ' Little Boys', 'Color:': ' White/Bl...</td>\n",
       "      <td>NaeNae</td>\n",
       "      <td>Waaay too small. Will use for futur children!</td>\n",
       "      <td>Oops!</td>\n",
       "      <td>1430870400</td>\n",
       "      <td>NaN</td>\n",
       "      <td>NaN</td>\n",
       "    </tr>\n",
       "    <tr>\n",
       "      <th>6</th>\n",
       "      <td>5</td>\n",
       "      <td>True</td>\n",
       "      <td>05 6, 2015</td>\n",
       "      <td>A3W11493KS6Z2L</td>\n",
       "      <td>B000K2PJ4K</td>\n",
       "      <td>{'Size:': ' Little Boys', 'Color:': ' Blue/Ora...</td>\n",
       "      <td>NaeNae</td>\n",
       "      <td>Stays vibrant after many washes</td>\n",
       "      <td>Great</td>\n",
       "      <td>1430870400</td>\n",
       "      <td>NaN</td>\n",
       "      <td>NaN</td>\n",
       "    </tr>\n",
       "    <tr>\n",
       "      <th>7</th>\n",
       "      <td>5</td>\n",
       "      <td>True</td>\n",
       "      <td>05 6, 2015</td>\n",
       "      <td>A3W11493KS6Z2L</td>\n",
       "      <td>B000K2PJ4K</td>\n",
       "      <td>{'Size:': ' Little Boys', 'Color:': ' Blue (37...</td>\n",
       "      <td>NaeNae</td>\n",
       "      <td>Stays vibrant after many washes</td>\n",
       "      <td>Good</td>\n",
       "      <td>1430870400</td>\n",
       "      <td>NaN</td>\n",
       "      <td>NaN</td>\n",
       "    </tr>\n",
       "    <tr>\n",
       "      <th>8</th>\n",
       "      <td>5</td>\n",
       "      <td>True</td>\n",
       "      <td>05 6, 2015</td>\n",
       "      <td>A3W11493KS6Z2L</td>\n",
       "      <td>B000K2PJ4K</td>\n",
       "      <td>{'Size:': ' Little Boys', 'Color:': ' Blue/Pink'}</td>\n",
       "      <td>NaeNae</td>\n",
       "      <td>My son really likes the pink. Ones which I was...</td>\n",
       "      <td>Great</td>\n",
       "      <td>1430870400</td>\n",
       "      <td>NaN</td>\n",
       "      <td>NaN</td>\n",
       "    </tr>\n",
       "    <tr>\n",
       "      <th>9</th>\n",
       "      <td>3</td>\n",
       "      <td>True</td>\n",
       "      <td>05 6, 2015</td>\n",
       "      <td>A3W11493KS6Z2L</td>\n",
       "      <td>B000K2PJ4K</td>\n",
       "      <td>{'Size:': ' Little Boys', 'Color:': ' Light Bl...</td>\n",
       "      <td>NaeNae</td>\n",
       "      <td>Waaay too small. Will use for future child.</td>\n",
       "      <td>Oops!</td>\n",
       "      <td>1430870400</td>\n",
       "      <td>NaN</td>\n",
       "      <td>NaN</td>\n",
       "    </tr>\n",
       "    <tr>\n",
       "      <th>10</th>\n",
       "      <td>2</td>\n",
       "      <td>True</td>\n",
       "      <td>01 25, 2018</td>\n",
       "      <td>A3HX4X3TIABWOV</td>\n",
       "      <td>B000KPIHQ4</td>\n",
       "      <td>{'Size Name:': ' Men's 6-6.5, Women's 8-8.5', ...</td>\n",
       "      <td>Denise A. Conte</td>\n",
       "      <td>Relieved my Plantar Fascitis for 3 Days. Then ...</td>\n",
       "      <td>These were recommended by my Podiatrist</td>\n",
       "      <td>1516838400</td>\n",
       "      <td>NaN</td>\n",
       "      <td>NaN</td>\n",
       "    </tr>\n",
       "    <tr>\n",
       "      <th>11</th>\n",
       "      <td>2</td>\n",
       "      <td>True</td>\n",
       "      <td>01 5, 2017</td>\n",
       "      <td>AW8UBYMNJ894V</td>\n",
       "      <td>B000KPIHQ4</td>\n",
       "      <td>{'Size Name:': ' Men's 8-8.5, Women's 10-10.5'...</td>\n",
       "      <td>Cognizant Consumer</td>\n",
       "      <td>This is my 6th pair and they are the best thin...</td>\n",
       "      <td>Not the same as all my other pairs.</td>\n",
       "      <td>1483574400</td>\n",
       "      <td>NaN</td>\n",
       "      <td>NaN</td>\n",
       "    </tr>\n",
       "    <tr>\n",
       "      <th>12</th>\n",
       "      <td>5</td>\n",
       "      <td>True</td>\n",
       "      <td>10 17, 2016</td>\n",
       "      <td>A265UZVOZWTTXQ</td>\n",
       "      <td>B000KPIHQ4</td>\n",
       "      <td>NaN</td>\n",
       "      <td>William_Jasper</td>\n",
       "      <td>We have used these inserts for years.  They pr...</td>\n",
       "      <td>Great inserts</td>\n",
       "      <td>1476662400</td>\n",
       "      <td>NaN</td>\n",
       "      <td>NaN</td>\n",
       "    </tr>\n",
       "    <tr>\n",
       "      <th>13</th>\n",
       "      <td>5</td>\n",
       "      <td>True</td>\n",
       "      <td>08 22, 2016</td>\n",
       "      <td>AW8UBYMNJ894V</td>\n",
       "      <td>B000KPIHQ4</td>\n",
       "      <td>NaN</td>\n",
       "      <td>Cognizant Consumer</td>\n",
       "      <td>Pinnacle seems to have more cushioning so my h...</td>\n",
       "      <td>Personal favorite</td>\n",
       "      <td>1471824000</td>\n",
       "      <td>NaN</td>\n",
       "      <td>NaN</td>\n",
       "    </tr>\n",
       "    <tr>\n",
       "      <th>14</th>\n",
       "      <td>5</td>\n",
       "      <td>True</td>\n",
       "      <td>03 23, 2016</td>\n",
       "      <td>A265UZVOZWTTXQ</td>\n",
       "      <td>B000KPIHQ4</td>\n",
       "      <td>NaN</td>\n",
       "      <td>William_Jasper</td>\n",
       "      <td>Excellent insole with good support.</td>\n",
       "      <td>Five Stars</td>\n",
       "      <td>1458691200</td>\n",
       "      <td>NaN</td>\n",
       "      <td>NaN</td>\n",
       "    </tr>\n",
       "    <tr>\n",
       "      <th>15</th>\n",
       "      <td>5</td>\n",
       "      <td>True</td>\n",
       "      <td>06 24, 2015</td>\n",
       "      <td>AW8UBYMNJ894V</td>\n",
       "      <td>B000KPIHQ4</td>\n",
       "      <td>NaN</td>\n",
       "      <td>Cognizant Consumer</td>\n",
       "      <td>A little more cushion than the Powerstep Prote...</td>\n",
       "      <td>Great comfort!</td>\n",
       "      <td>1435104000</td>\n",
       "      <td>NaN</td>\n",
       "      <td>NaN</td>\n",
       "    </tr>\n",
       "    <tr>\n",
       "      <th>16</th>\n",
       "      <td>5</td>\n",
       "      <td>True</td>\n",
       "      <td>11 17, 2014</td>\n",
       "      <td>A265UZVOZWTTXQ</td>\n",
       "      <td>B000KPIHQ4</td>\n",
       "      <td>NaN</td>\n",
       "      <td>William_Jasper</td>\n",
       "      <td>These insoles help my heels feel much better. ...</td>\n",
       "      <td>These insoles help my heel feels much better. ...</td>\n",
       "      <td>1416182400</td>\n",
       "      <td>NaN</td>\n",
       "      <td>NaN</td>\n",
       "    </tr>\n",
       "    <tr>\n",
       "      <th>17</th>\n",
       "      <td>2</td>\n",
       "      <td>True</td>\n",
       "      <td>01 25, 2018</td>\n",
       "      <td>A3HX4X3TIABWOV</td>\n",
       "      <td>B000V0IBDM</td>\n",
       "      <td>NaN</td>\n",
       "      <td>Denise A. Conte</td>\n",
       "      <td>Relieved my Plantar Fascitis for 3 Days. Then ...</td>\n",
       "      <td>These were recommended by my Podiatrist</td>\n",
       "      <td>1516838400</td>\n",
       "      <td>NaN</td>\n",
       "      <td>NaN</td>\n",
       "    </tr>\n",
       "    <tr>\n",
       "      <th>18</th>\n",
       "      <td>2</td>\n",
       "      <td>True</td>\n",
       "      <td>01 5, 2017</td>\n",
       "      <td>AW8UBYMNJ894V</td>\n",
       "      <td>B000V0IBDM</td>\n",
       "      <td>NaN</td>\n",
       "      <td>Cognizant Consumer</td>\n",
       "      <td>This is my 6th pair and they are the best thin...</td>\n",
       "      <td>Not the same as all my other pairs.</td>\n",
       "      <td>1483574400</td>\n",
       "      <td>NaN</td>\n",
       "      <td>NaN</td>\n",
       "    </tr>\n",
       "    <tr>\n",
       "      <th>19</th>\n",
       "      <td>5</td>\n",
       "      <td>True</td>\n",
       "      <td>10 17, 2016</td>\n",
       "      <td>A265UZVOZWTTXQ</td>\n",
       "      <td>B000V0IBDM</td>\n",
       "      <td>NaN</td>\n",
       "      <td>William_Jasper</td>\n",
       "      <td>We have used these inserts for years.  They pr...</td>\n",
       "      <td>Great inserts</td>\n",
       "      <td>1476662400</td>\n",
       "      <td>NaN</td>\n",
       "      <td>NaN</td>\n",
       "    </tr>\n",
       "  </tbody>\n",
       "</table>\n",
       "</div>"
      ],
      "text/plain": [
       "    overall  verified   reviewTime      reviewerID        asin  \\\n",
       "0         5      True   09 4, 2015   ALJ66O1Y6SLHA  B000K2PJ4K   \n",
       "1         5      True   09 4, 2015   ALJ66O1Y6SLHA  B000K2PJ4K   \n",
       "2         5      True   09 4, 2015   ALJ66O1Y6SLHA  B000K2PJ4K   \n",
       "3         5      True   09 4, 2015   ALJ66O1Y6SLHA  B000K2PJ4K   \n",
       "4         5      True   09 4, 2015   ALJ66O1Y6SLHA  B000K2PJ4K   \n",
       "5         3      True   05 6, 2015  A3W11493KS6Z2L  B000K2PJ4K   \n",
       "6         5      True   05 6, 2015  A3W11493KS6Z2L  B000K2PJ4K   \n",
       "7         5      True   05 6, 2015  A3W11493KS6Z2L  B000K2PJ4K   \n",
       "8         5      True   05 6, 2015  A3W11493KS6Z2L  B000K2PJ4K   \n",
       "9         3      True   05 6, 2015  A3W11493KS6Z2L  B000K2PJ4K   \n",
       "10        2      True  01 25, 2018  A3HX4X3TIABWOV  B000KPIHQ4   \n",
       "11        2      True   01 5, 2017   AW8UBYMNJ894V  B000KPIHQ4   \n",
       "12        5      True  10 17, 2016  A265UZVOZWTTXQ  B000KPIHQ4   \n",
       "13        5      True  08 22, 2016   AW8UBYMNJ894V  B000KPIHQ4   \n",
       "14        5      True  03 23, 2016  A265UZVOZWTTXQ  B000KPIHQ4   \n",
       "15        5      True  06 24, 2015   AW8UBYMNJ894V  B000KPIHQ4   \n",
       "16        5      True  11 17, 2014  A265UZVOZWTTXQ  B000KPIHQ4   \n",
       "17        2      True  01 25, 2018  A3HX4X3TIABWOV  B000V0IBDM   \n",
       "18        2      True   01 5, 2017   AW8UBYMNJ894V  B000V0IBDM   \n",
       "19        5      True  10 17, 2016  A265UZVOZWTTXQ  B000V0IBDM   \n",
       "\n",
       "                                                style        reviewerName  \\\n",
       "0    {'Size:': ' Big Boys', 'Color:': ' Blue/Orange'}            Tonya B.   \n",
       "1   {'Size:': ' Big Boys', 'Color:': ' Black (3746...            Tonya B.   \n",
       "2   {'Size:': ' Big Boys', 'Color:': ' Blue/Gray L...            Tonya B.   \n",
       "3   {'Size:': ' Big Boys', 'Color:': ' Blue (37867...            Tonya B.   \n",
       "4      {'Size:': ' Big Boys', 'Color:': ' Blue/Pink'}            Tonya B.   \n",
       "5   {'Size:': ' Little Boys', 'Color:': ' White/Bl...              NaeNae   \n",
       "6   {'Size:': ' Little Boys', 'Color:': ' Blue/Ora...              NaeNae   \n",
       "7   {'Size:': ' Little Boys', 'Color:': ' Blue (37...              NaeNae   \n",
       "8   {'Size:': ' Little Boys', 'Color:': ' Blue/Pink'}              NaeNae   \n",
       "9   {'Size:': ' Little Boys', 'Color:': ' Light Bl...              NaeNae   \n",
       "10  {'Size Name:': ' Men's 6-6.5, Women's 8-8.5', ...     Denise A. Conte   \n",
       "11  {'Size Name:': ' Men's 8-8.5, Women's 10-10.5'...  Cognizant Consumer   \n",
       "12                                                NaN      William_Jasper   \n",
       "13                                                NaN  Cognizant Consumer   \n",
       "14                                                NaN      William_Jasper   \n",
       "15                                                NaN  Cognizant Consumer   \n",
       "16                                                NaN      William_Jasper   \n",
       "17                                                NaN     Denise A. Conte   \n",
       "18                                                NaN  Cognizant Consumer   \n",
       "19                                                NaN      William_Jasper   \n",
       "\n",
       "                                           reviewText  \\\n",
       "0                            Great product and price!   \n",
       "1                            Great product and price!   \n",
       "2                            Great product and price!   \n",
       "3                            Great product and price!   \n",
       "4                            Great product and price!   \n",
       "5       Waaay too small. Will use for futur children!   \n",
       "6                     Stays vibrant after many washes   \n",
       "7                     Stays vibrant after many washes   \n",
       "8   My son really likes the pink. Ones which I was...   \n",
       "9         Waaay too small. Will use for future child.   \n",
       "10  Relieved my Plantar Fascitis for 3 Days. Then ...   \n",
       "11  This is my 6th pair and they are the best thin...   \n",
       "12  We have used these inserts for years.  They pr...   \n",
       "13  Pinnacle seems to have more cushioning so my h...   \n",
       "14                Excellent insole with good support.   \n",
       "15  A little more cushion than the Powerstep Prote...   \n",
       "16  These insoles help my heels feel much better. ...   \n",
       "17  Relieved my Plantar Fascitis for 3 Days. Then ...   \n",
       "18  This is my 6th pair and they are the best thin...   \n",
       "19  We have used these inserts for years.  They pr...   \n",
       "\n",
       "                                              summary  unixReviewTime  vote  \\\n",
       "0                                          Five Stars      1441324800   NaN   \n",
       "1                                          Five Stars      1441324800   NaN   \n",
       "2                                          Five Stars      1441324800   NaN   \n",
       "3                                          Five Stars      1441324800   NaN   \n",
       "4                                          Five Stars      1441324800   NaN   \n",
       "5                                               Oops!      1430870400   NaN   \n",
       "6                                               Great      1430870400   NaN   \n",
       "7                                                Good      1430870400   NaN   \n",
       "8                                               Great      1430870400   NaN   \n",
       "9                                               Oops!      1430870400   NaN   \n",
       "10            These were recommended by my Podiatrist      1516838400   NaN   \n",
       "11                Not the same as all my other pairs.      1483574400   NaN   \n",
       "12                                      Great inserts      1476662400   NaN   \n",
       "13                                  Personal favorite      1471824000   NaN   \n",
       "14                                         Five Stars      1458691200   NaN   \n",
       "15                                     Great comfort!      1435104000   NaN   \n",
       "16  These insoles help my heel feels much better. ...      1416182400   NaN   \n",
       "17            These were recommended by my Podiatrist      1516838400   NaN   \n",
       "18                Not the same as all my other pairs.      1483574400   NaN   \n",
       "19                                      Great inserts      1476662400   NaN   \n",
       "\n",
       "   image  \n",
       "0    NaN  \n",
       "1    NaN  \n",
       "2    NaN  \n",
       "3    NaN  \n",
       "4    NaN  \n",
       "5    NaN  \n",
       "6    NaN  \n",
       "7    NaN  \n",
       "8    NaN  \n",
       "9    NaN  \n",
       "10   NaN  \n",
       "11   NaN  \n",
       "12   NaN  \n",
       "13   NaN  \n",
       "14   NaN  \n",
       "15   NaN  \n",
       "16   NaN  \n",
       "17   NaN  \n",
       "18   NaN  \n",
       "19   NaN  "
      ]
     },
     "execution_count": 11,
     "metadata": {},
     "output_type": "execute_result"
    }
   ],
   "source": [
    "df.head(20)"
   ]
  },
  {
   "cell_type": "code",
   "execution_count": 17,
   "metadata": {},
   "outputs": [
    {
     "data": {
      "text/plain": [
       "overall             int64\n",
       "verified             bool\n",
       "reviewTime         object\n",
       "reviewerID         object\n",
       "asin               object\n",
       "style              object\n",
       "reviewerName       object\n",
       "reviewText         object\n",
       "summary            object\n",
       "unixReviewTime      int64\n",
       "vote              float64\n",
       "image              object\n",
       "dtype: object"
      ]
     },
     "execution_count": 17,
     "metadata": {},
     "output_type": "execute_result"
    }
   ],
   "source": [
    "df.dtypes"
   ]
  },
  {
   "cell_type": "code",
   "execution_count": 16,
   "metadata": {},
   "outputs": [
    {
     "ename": "TypeError",
     "evalue": "unhashable type: 'list'",
     "output_type": "error",
     "traceback": [
      "\u001b[1;31m---------------------------------------------------------------------------\u001b[0m",
      "\u001b[1;31mTypeError\u001b[0m                                 Traceback (most recent call last)",
      "\u001b[1;32m<ipython-input-16-3bb6f50395ec>\u001b[0m in \u001b[0;36m<module>\u001b[1;34m\u001b[0m\n\u001b[1;32m----> 1\u001b[1;33m \u001b[0mdf\u001b[0m\u001b[1;33m.\u001b[0m\u001b[0mdrop\u001b[0m\u001b[1;33m(\u001b[0m\u001b[1;34m'style'\u001b[0m\u001b[1;33m,\u001b[0m \u001b[0maxis\u001b[0m\u001b[1;33m=\u001b[0m\u001b[1;36m1\u001b[0m\u001b[1;33m)\u001b[0m\u001b[1;33m.\u001b[0m\u001b[0mduplicated\u001b[0m\u001b[1;33m(\u001b[0m\u001b[1;33m)\u001b[0m\u001b[1;33m\u001b[0m\u001b[1;33m\u001b[0m\u001b[0m\n\u001b[0m",
      "\u001b[1;32mD:\\Anaconda3\\envs\\tf2\\lib\\site-packages\\pandas\\core\\frame.py\u001b[0m in \u001b[0;36mduplicated\u001b[1;34m(self, subset, keep)\u001b[0m\n\u001b[0;32m   4886\u001b[0m \u001b[1;33m\u001b[0m\u001b[0m\n\u001b[0;32m   4887\u001b[0m         \u001b[0mvals\u001b[0m \u001b[1;33m=\u001b[0m \u001b[1;33m(\u001b[0m\u001b[0mcol\u001b[0m\u001b[1;33m.\u001b[0m\u001b[0mvalues\u001b[0m \u001b[1;32mfor\u001b[0m \u001b[0mname\u001b[0m\u001b[1;33m,\u001b[0m \u001b[0mcol\u001b[0m \u001b[1;32min\u001b[0m \u001b[0mself\u001b[0m\u001b[1;33m.\u001b[0m\u001b[0mitems\u001b[0m\u001b[1;33m(\u001b[0m\u001b[1;33m)\u001b[0m \u001b[1;32mif\u001b[0m \u001b[0mname\u001b[0m \u001b[1;32min\u001b[0m \u001b[0msubset\u001b[0m\u001b[1;33m)\u001b[0m\u001b[1;33m\u001b[0m\u001b[1;33m\u001b[0m\u001b[0m\n\u001b[1;32m-> 4888\u001b[1;33m         \u001b[0mlabels\u001b[0m\u001b[1;33m,\u001b[0m \u001b[0mshape\u001b[0m \u001b[1;33m=\u001b[0m \u001b[0mmap\u001b[0m\u001b[1;33m(\u001b[0m\u001b[0mlist\u001b[0m\u001b[1;33m,\u001b[0m \u001b[0mzip\u001b[0m\u001b[1;33m(\u001b[0m\u001b[1;33m*\u001b[0m\u001b[0mmap\u001b[0m\u001b[1;33m(\u001b[0m\u001b[0mf\u001b[0m\u001b[1;33m,\u001b[0m \u001b[0mvals\u001b[0m\u001b[1;33m)\u001b[0m\u001b[1;33m)\u001b[0m\u001b[1;33m)\u001b[0m\u001b[1;33m\u001b[0m\u001b[1;33m\u001b[0m\u001b[0m\n\u001b[0m\u001b[0;32m   4889\u001b[0m \u001b[1;33m\u001b[0m\u001b[0m\n\u001b[0;32m   4890\u001b[0m         \u001b[0mids\u001b[0m \u001b[1;33m=\u001b[0m \u001b[0mget_group_index\u001b[0m\u001b[1;33m(\u001b[0m\u001b[0mlabels\u001b[0m\u001b[1;33m,\u001b[0m \u001b[0mshape\u001b[0m\u001b[1;33m,\u001b[0m \u001b[0msort\u001b[0m\u001b[1;33m=\u001b[0m\u001b[1;32mFalse\u001b[0m\u001b[1;33m,\u001b[0m \u001b[0mxnull\u001b[0m\u001b[1;33m=\u001b[0m\u001b[1;32mFalse\u001b[0m\u001b[1;33m)\u001b[0m\u001b[1;33m\u001b[0m\u001b[1;33m\u001b[0m\u001b[0m\n",
      "\u001b[1;32mD:\\Anaconda3\\envs\\tf2\\lib\\site-packages\\pandas\\core\\frame.py\u001b[0m in \u001b[0;36mf\u001b[1;34m(vals)\u001b[0m\n\u001b[0;32m   4861\u001b[0m         \u001b[1;32mdef\u001b[0m \u001b[0mf\u001b[0m\u001b[1;33m(\u001b[0m\u001b[0mvals\u001b[0m\u001b[1;33m)\u001b[0m\u001b[1;33m:\u001b[0m\u001b[1;33m\u001b[0m\u001b[1;33m\u001b[0m\u001b[0m\n\u001b[0;32m   4862\u001b[0m             labels, shape = algorithms.factorize(\n\u001b[1;32m-> 4863\u001b[1;33m                 \u001b[0mvals\u001b[0m\u001b[1;33m,\u001b[0m \u001b[0msize_hint\u001b[0m\u001b[1;33m=\u001b[0m\u001b[0mmin\u001b[0m\u001b[1;33m(\u001b[0m\u001b[0mlen\u001b[0m\u001b[1;33m(\u001b[0m\u001b[0mself\u001b[0m\u001b[1;33m)\u001b[0m\u001b[1;33m,\u001b[0m \u001b[0m_SIZE_HINT_LIMIT\u001b[0m\u001b[1;33m)\u001b[0m\u001b[1;33m\u001b[0m\u001b[1;33m\u001b[0m\u001b[0m\n\u001b[0m\u001b[0;32m   4864\u001b[0m             )\n\u001b[0;32m   4865\u001b[0m             \u001b[1;32mreturn\u001b[0m \u001b[0mlabels\u001b[0m\u001b[1;33m.\u001b[0m\u001b[0mastype\u001b[0m\u001b[1;33m(\u001b[0m\u001b[1;34m\"i8\"\u001b[0m\u001b[1;33m,\u001b[0m \u001b[0mcopy\u001b[0m\u001b[1;33m=\u001b[0m\u001b[1;32mFalse\u001b[0m\u001b[1;33m)\u001b[0m\u001b[1;33m,\u001b[0m \u001b[0mlen\u001b[0m\u001b[1;33m(\u001b[0m\u001b[0mshape\u001b[0m\u001b[1;33m)\u001b[0m\u001b[1;33m\u001b[0m\u001b[1;33m\u001b[0m\u001b[0m\n",
      "\u001b[1;32mD:\\Anaconda3\\envs\\tf2\\lib\\site-packages\\pandas\\core\\algorithms.py\u001b[0m in \u001b[0;36mfactorize\u001b[1;34m(values, sort, na_sentinel, size_hint)\u001b[0m\n\u001b[0;32m    634\u001b[0m \u001b[1;33m\u001b[0m\u001b[0m\n\u001b[0;32m    635\u001b[0m         codes, uniques = _factorize_array(\n\u001b[1;32m--> 636\u001b[1;33m             \u001b[0mvalues\u001b[0m\u001b[1;33m,\u001b[0m \u001b[0mna_sentinel\u001b[0m\u001b[1;33m=\u001b[0m\u001b[0mna_sentinel\u001b[0m\u001b[1;33m,\u001b[0m \u001b[0msize_hint\u001b[0m\u001b[1;33m=\u001b[0m\u001b[0msize_hint\u001b[0m\u001b[1;33m,\u001b[0m \u001b[0mna_value\u001b[0m\u001b[1;33m=\u001b[0m\u001b[0mna_value\u001b[0m\u001b[1;33m\u001b[0m\u001b[1;33m\u001b[0m\u001b[0m\n\u001b[0m\u001b[0;32m    637\u001b[0m         )\n\u001b[0;32m    638\u001b[0m \u001b[1;33m\u001b[0m\u001b[0m\n",
      "\u001b[1;32mD:\\Anaconda3\\envs\\tf2\\lib\\site-packages\\pandas\\core\\algorithms.py\u001b[0m in \u001b[0;36m_factorize_array\u001b[1;34m(values, na_sentinel, size_hint, na_value)\u001b[0m\n\u001b[0;32m    482\u001b[0m \u001b[1;33m\u001b[0m\u001b[0m\n\u001b[0;32m    483\u001b[0m     \u001b[0mtable\u001b[0m \u001b[1;33m=\u001b[0m \u001b[0mhash_klass\u001b[0m\u001b[1;33m(\u001b[0m\u001b[0msize_hint\u001b[0m \u001b[1;32mor\u001b[0m \u001b[0mlen\u001b[0m\u001b[1;33m(\u001b[0m\u001b[0mvalues\u001b[0m\u001b[1;33m)\u001b[0m\u001b[1;33m)\u001b[0m\u001b[1;33m\u001b[0m\u001b[1;33m\u001b[0m\u001b[0m\n\u001b[1;32m--> 484\u001b[1;33m     \u001b[0muniques\u001b[0m\u001b[1;33m,\u001b[0m \u001b[0mcodes\u001b[0m \u001b[1;33m=\u001b[0m \u001b[0mtable\u001b[0m\u001b[1;33m.\u001b[0m\u001b[0mfactorize\u001b[0m\u001b[1;33m(\u001b[0m\u001b[0mvalues\u001b[0m\u001b[1;33m,\u001b[0m \u001b[0mna_sentinel\u001b[0m\u001b[1;33m=\u001b[0m\u001b[0mna_sentinel\u001b[0m\u001b[1;33m,\u001b[0m \u001b[0mna_value\u001b[0m\u001b[1;33m=\u001b[0m\u001b[0mna_value\u001b[0m\u001b[1;33m)\u001b[0m\u001b[1;33m\u001b[0m\u001b[1;33m\u001b[0m\u001b[0m\n\u001b[0m\u001b[0;32m    485\u001b[0m \u001b[1;33m\u001b[0m\u001b[0m\n\u001b[0;32m    486\u001b[0m     \u001b[0mcodes\u001b[0m \u001b[1;33m=\u001b[0m \u001b[0mensure_platform_int\u001b[0m\u001b[1;33m(\u001b[0m\u001b[0mcodes\u001b[0m\u001b[1;33m)\u001b[0m\u001b[1;33m\u001b[0m\u001b[1;33m\u001b[0m\u001b[0m\n",
      "\u001b[1;32mpandas\\_libs\\hashtable_class_helper.pxi\u001b[0m in \u001b[0;36mpandas._libs.hashtable.PyObjectHashTable.factorize\u001b[1;34m()\u001b[0m\n",
      "\u001b[1;32mpandas\\_libs\\hashtable_class_helper.pxi\u001b[0m in \u001b[0;36mpandas._libs.hashtable.PyObjectHashTable._unique\u001b[1;34m()\u001b[0m\n",
      "\u001b[1;31mTypeError\u001b[0m: unhashable type: 'list'"
     ]
    }
   ],
   "source": [
    "df.drop('style', axis=1).duplicated()"
   ]
  },
  {
   "cell_type": "code",
   "execution_count": null,
   "metadata": {},
   "outputs": [],
   "source": []
  },
  {
   "cell_type": "markdown",
   "metadata": {},
   "source": [
    "## Data Preparation, Cleaning and Normalization"
   ]
  },
  {
   "cell_type": "markdown",
   "metadata": {},
   "source": [
    "- Capitalize all column names\n",
    "- Change the Target Column name to `Radicalism`\n",
    "- Change the `created at` column name to `Date`\n",
    "- Map Target classes to: `Radical` `Unradical`, `Unrelated`\n",
    "- Drop irrelevant Columns: `Tweet id`\n",
    "- Change `Favorite Count` to integer type\n",
    "- Check for Duplications and drop them\n",
    "- Check for missing values"
   ]
  },
  {
   "cell_type": "markdown",
   "metadata": {},
   "source": [
    "### Capitalize all column names"
   ]
  },
  {
   "cell_type": "code",
   "execution_count": 405,
   "metadata": {},
   "outputs": [
    {
     "data": {
      "text/plain": [
       "Index(['Tweet id', 'Created at', 'Tweet', 'Favourite count', 'Retweet count',\n",
       "       'Language', 'Author', 'In_reply_to_screen_name',\n",
       "       'In_reply_to_user_id_str', 'In_reply_to_status_id_str', 'Username',\n",
       "       'Radical ? 0 unrelated'],\n",
       "      dtype='object')"
      ]
     },
     "execution_count": 405,
     "metadata": {},
     "output_type": "execute_result"
    }
   ],
   "source": [
    "df.columns = [col.capitalize() for col in df.columns]\n",
    "df.columns"
   ]
  },
  {
   "cell_type": "markdown",
   "metadata": {},
   "source": [
    "### Change Some Column Names"
   ]
  },
  {
   "cell_type": "code",
   "execution_count": 406,
   "metadata": {},
   "outputs": [],
   "source": [
    "df = df.rename(columns={\"Radical ? 0 unrelated\": \"Radicalism\",\n",
    "                        \"Created at\": \"Date\"})"
   ]
  },
  {
   "cell_type": "markdown",
   "metadata": {},
   "source": [
    "### Map Target classes to: `Radical` `Unradical`, `Unrelated`"
   ]
  },
  {
   "cell_type": "code",
   "execution_count": 407,
   "metadata": {},
   "outputs": [],
   "source": [
    "df['Radicalism'] = df['Radicalism'].map({\"T\": \"Radical\", \"F\": \"Nonradical\", 0: \"Unrelated\"})"
   ]
  },
  {
   "cell_type": "code",
   "execution_count": 408,
   "metadata": {},
   "outputs": [
    {
     "data": {
      "text/plain": [
       "Nonradical    11455\n",
       "Radical       10133\n",
       "Unrelated      2479\n",
       "Name: Radicalism, dtype: int64"
      ]
     },
     "execution_count": 408,
     "metadata": {},
     "output_type": "execute_result"
    }
   ],
   "source": [
    "df['Radicalism'].value_counts()"
   ]
  },
  {
   "cell_type": "markdown",
   "metadata": {},
   "source": [
    "### Drop irrelevant Columns"
   ]
  },
  {
   "cell_type": "code",
   "execution_count": 409,
   "metadata": {},
   "outputs": [],
   "source": [
    "drop_cols = ['Tweet id']"
   ]
  },
  {
   "cell_type": "code",
   "execution_count": 410,
   "metadata": {},
   "outputs": [],
   "source": [
    "df.drop(drop_cols, axis=1, inplace=True)"
   ]
  },
  {
   "cell_type": "markdown",
   "metadata": {},
   "source": [
    "### Cast Some Columns to Their Appropriate Data Type"
   ]
  },
  {
   "cell_type": "code",
   "execution_count": 411,
   "metadata": {},
   "outputs": [
    {
     "data": {
      "text/plain": [
       "0     22082\n",
       "1      1366\n",
       "2       278\n",
       "3        97\n",
       "4        55\n",
       "5        51\n",
       "6        38\n",
       "8        19\n",
       "7        17\n",
       "10       17\n",
       "9        13\n",
       "11        9\n",
       "12        6\n",
       "13        6\n",
       "14        4\n",
       "16        4\n",
       "15        3\n",
       "18        3\n",
       "19        2\n",
       "21        2\n",
       "25        2\n",
       "82        1\n",
       "17        1\n",
       "36        1\n",
       "F         1\n",
       "Name: Favourite count, dtype: int64"
      ]
     },
     "execution_count": 411,
     "metadata": {},
     "output_type": "execute_result"
    }
   ],
   "source": [
    "df['Favourite count'].value_counts()"
   ]
  },
  {
   "cell_type": "code",
   "execution_count": 412,
   "metadata": {},
   "outputs": [],
   "source": [
    "df = df[df['Favourite count'] != 'F']"
   ]
  },
  {
   "cell_type": "code",
   "execution_count": 413,
   "metadata": {},
   "outputs": [
    {
     "data": {
      "text/plain": [
       "0     22082\n",
       "1      1366\n",
       "2       278\n",
       "3        97\n",
       "4        55\n",
       "5        51\n",
       "6        38\n",
       "8        19\n",
       "10       17\n",
       "7        17\n",
       "9        13\n",
       "11        9\n",
       "12        6\n",
       "13        6\n",
       "14        4\n",
       "16        4\n",
       "15        3\n",
       "18        3\n",
       "19        2\n",
       "21        2\n",
       "25        2\n",
       "36        1\n",
       "17        1\n",
       "82        1\n",
       "Name: Favourite count, dtype: int64"
      ]
     },
     "execution_count": 413,
     "metadata": {},
     "output_type": "execute_result"
    }
   ],
   "source": [
    "df['Favourite count'].value_counts()"
   ]
  },
  {
   "cell_type": "code",
   "execution_count": 414,
   "metadata": {},
   "outputs": [],
   "source": [
    "df['Favourite count'] = df['Favourite count'].astype('int64')"
   ]
  },
  {
   "cell_type": "code",
   "execution_count": 415,
   "metadata": {},
   "outputs": [
    {
     "data": {
      "text/plain": [
       "14.989251136779785"
      ]
     },
     "execution_count": 415,
     "metadata": {},
     "output_type": "execute_result"
    }
   ],
   "source": [
    "df.memory_usage(deep=True).sum()/1024**2"
   ]
  },
  {
   "cell_type": "code",
   "execution_count": null,
   "metadata": {},
   "outputs": [],
   "source": []
  }
 ],
 "metadata": {
  "kernelspec": {
   "display_name": "Python 3",
   "language": "python",
   "name": "python3"
  },
  "language_info": {
   "codemirror_mode": {
    "name": "ipython",
    "version": 3
   },
   "file_extension": ".py",
   "mimetype": "text/x-python",
   "name": "python",
   "nbconvert_exporter": "python",
   "pygments_lexer": "ipython3",
   "version": "3.7.6"
  },
  "toc": {
   "base_numbering": 1,
   "nav_menu": {},
   "number_sections": true,
   "sideBar": true,
   "skip_h1_title": false,
   "title_cell": "Table of Contents",
   "title_sidebar": "Contents",
   "toc_cell": false,
   "toc_position": {},
   "toc_section_display": true,
   "toc_window_display": false
  }
 },
 "nbformat": 4,
 "nbformat_minor": 4
}
