{
 "cells": [
  {
   "cell_type": "markdown",
   "metadata": {},
   "source": [
    "# (1) Data Preparation"
   ]
  },
  {
   "cell_type": "markdown",
   "metadata": {},
   "source": [
    "## Introduction\n",
    "\n",
    "This article uses the famous yelp academic data set\n",
    "\n",
    "**Description of the data:**\n",
    "\n",
    "Get the data <a href='https://www.yelp.com/dataset' target='_blank'>here</a>\n"
   ]
  },
  {
   "cell_type": "code",
   "execution_count": 1,
   "metadata": {},
   "outputs": [],
   "source": [
    "#!pip install pandas-profiling[notebook,html]\n",
    "#!pip install plotly\n",
    "#!pip install chart_studio\n"
   ]
  },
  {
   "cell_type": "code",
   "execution_count": 2,
   "metadata": {},
   "outputs": [
    {
     "name": "stderr",
     "output_type": "stream",
     "text": [
      "\n",
      "Bad key \"text.kerning_factor\" on line 4 in\n",
      "D:\\Anaconda3\\envs\\tf2\\lib\\site-packages\\matplotlib\\mpl-data\\stylelib\\_classic_test_patch.mplstyle.\n",
      "You probably need to get an updated matplotlibrc file from\n",
      "https://github.com/matplotlib/matplotlib/blob/v3.1.3/matplotlibrc.template\n",
      "or from the matplotlib source distribution\n"
     ]
    }
   ],
   "source": [
    "#plotly.offline doesn't push your charts to the clouds\n",
    "import plotly.offline as pyo\n",
    "#allows us to create the Data and Figure objects\n",
    "from plotly.graph_objs import *\n",
    "#plotly.plotly pushes your charts to the cloud  \n",
    "# import chart_studio.plotly as py\n",
    "import plotly.figure_factory as ff\n",
    "import plotly.express as px\n",
    "\n",
    "# work with cufflinks offline and set its theme\n",
    "import plotly.io as pio\n",
    "pio.templates.default = \"plotly_white\"\n",
    "\n",
    "import matplotlib.pyplot as plt\n",
    "%matplotlib inline\n",
    "\n",
    "import pandas as pd\n",
    "from pandas_profiling import ProfileReport\n",
    "import datetime as dt\n",
    "\n",
    "import numpy as np\n",
    "\n",
    "import os\n",
    "import json\n",
    "import re\n",
    "import sys"
   ]
  },
  {
   "cell_type": "code",
   "execution_count": 3,
   "metadata": {},
   "outputs": [
    {
     "name": "stdout",
     "output_type": "stream",
     "text": [
      "1.2.1\n"
     ]
    }
   ],
   "source": [
    "print(pd.__version__)"
   ]
  },
  {
   "cell_type": "code",
   "execution_count": 4,
   "metadata": {},
   "outputs": [],
   "source": [
    "def print_full(x):\n",
    "    pd.set_option('display.max_colwidth', None)\n",
    "    return x\n",
    "\n",
    "def reset():\n",
    "    pd.reset_option('display.max_colwidth')"
   ]
  },
  {
   "cell_type": "markdown",
   "metadata": {},
   "source": [
    "### Reading and Cleaning The Business Data "
   ]
  },
  {
   "cell_type": "code",
   "execution_count": 5,
   "metadata": {},
   "outputs": [],
   "source": [
    "business = pd.read_json('data/yelp_dataset/yelp_academic_dataset_business.json', lines=True, orient='records')"
   ]
  },
  {
   "cell_type": "code",
   "execution_count": 6,
   "metadata": {},
   "outputs": [
    {
     "name": "stdout",
     "output_type": "stream",
     "text": [
      "<class 'pandas.core.frame.DataFrame'>\n",
      "RangeIndex: 209393 entries, 0 to 209392\n",
      "Data columns (total 14 columns):\n",
      " #   Column        Non-Null Count   Dtype  \n",
      "---  ------        --------------   -----  \n",
      " 0   business_id   209393 non-null  object \n",
      " 1   name          209393 non-null  object \n",
      " 2   address       209393 non-null  object \n",
      " 3   city          209393 non-null  object \n",
      " 4   state         209393 non-null  object \n",
      " 5   postal_code   209393 non-null  object \n",
      " 6   latitude      209393 non-null  float64\n",
      " 7   longitude     209393 non-null  float64\n",
      " 8   stars         209393 non-null  float64\n",
      " 9   review_count  209393 non-null  int64  \n",
      " 10  is_open       209393 non-null  int64  \n",
      " 11  attributes    180348 non-null  object \n",
      " 12  categories    208869 non-null  object \n",
      " 13  hours         164550 non-null  object \n",
      "dtypes: float64(3), int64(2), object(9)\n",
      "memory usage: 22.4+ MB\n"
     ]
    }
   ],
   "source": [
    "business.info()"
   ]
  },
  {
   "cell_type": "code",
   "execution_count": 7,
   "metadata": {},
   "outputs": [
    {
     "data": {
      "text/html": [
       "<div>\n",
       "<style scoped>\n",
       "    .dataframe tbody tr th:only-of-type {\n",
       "        vertical-align: middle;\n",
       "    }\n",
       "\n",
       "    .dataframe tbody tr th {\n",
       "        vertical-align: top;\n",
       "    }\n",
       "\n",
       "    .dataframe thead th {\n",
       "        text-align: right;\n",
       "    }\n",
       "</style>\n",
       "<table border=\"1\" class=\"dataframe\">\n",
       "  <thead>\n",
       "    <tr style=\"text-align: right;\">\n",
       "      <th></th>\n",
       "      <th>business_id</th>\n",
       "      <th>name</th>\n",
       "      <th>address</th>\n",
       "      <th>city</th>\n",
       "      <th>state</th>\n",
       "      <th>postal_code</th>\n",
       "      <th>latitude</th>\n",
       "      <th>longitude</th>\n",
       "      <th>stars</th>\n",
       "      <th>review_count</th>\n",
       "      <th>is_open</th>\n",
       "      <th>attributes</th>\n",
       "      <th>categories</th>\n",
       "      <th>hours</th>\n",
       "    </tr>\n",
       "  </thead>\n",
       "  <tbody>\n",
       "    <tr>\n",
       "      <th>0</th>\n",
       "      <td>f9NumwFMBDn751xgFiRbNA</td>\n",
       "      <td>The Range At Lake Norman</td>\n",
       "      <td>10913 Bailey Rd</td>\n",
       "      <td>Cornelius</td>\n",
       "      <td>NC</td>\n",
       "      <td>28031</td>\n",
       "      <td>35.462724</td>\n",
       "      <td>-80.852612</td>\n",
       "      <td>3.5</td>\n",
       "      <td>36</td>\n",
       "      <td>1</td>\n",
       "      <td>{'BusinessAcceptsCreditCards': 'True', 'BikePa...</td>\n",
       "      <td>Active Life, Gun/Rifle Ranges, Guns &amp; Ammo, Sh...</td>\n",
       "      <td>{'Monday': '10:0-18:0', 'Tuesday': '11:0-20:0'...</td>\n",
       "    </tr>\n",
       "    <tr>\n",
       "      <th>1</th>\n",
       "      <td>Yzvjg0SayhoZgCljUJRF9Q</td>\n",
       "      <td>Carlos Santo, NMD</td>\n",
       "      <td>8880 E Via Linda, Ste 107</td>\n",
       "      <td>Scottsdale</td>\n",
       "      <td>AZ</td>\n",
       "      <td>85258</td>\n",
       "      <td>33.569404</td>\n",
       "      <td>-111.890264</td>\n",
       "      <td>5.0</td>\n",
       "      <td>4</td>\n",
       "      <td>1</td>\n",
       "      <td>{'GoodForKids': 'True', 'ByAppointmentOnly': '...</td>\n",
       "      <td>Health &amp; Medical, Fitness &amp; Instruction, Yoga,...</td>\n",
       "      <td>None</td>\n",
       "    </tr>\n",
       "    <tr>\n",
       "      <th>2</th>\n",
       "      <td>XNoUzKckATkOD1hP6vghZg</td>\n",
       "      <td>Felinus</td>\n",
       "      <td>3554 Rue Notre-Dame O</td>\n",
       "      <td>Montreal</td>\n",
       "      <td>QC</td>\n",
       "      <td>H4C 1P4</td>\n",
       "      <td>45.479984</td>\n",
       "      <td>-73.580070</td>\n",
       "      <td>5.0</td>\n",
       "      <td>5</td>\n",
       "      <td>1</td>\n",
       "      <td>None</td>\n",
       "      <td>Pets, Pet Services, Pet Groomers</td>\n",
       "      <td>None</td>\n",
       "    </tr>\n",
       "    <tr>\n",
       "      <th>3</th>\n",
       "      <td>6OAZjbxqM5ol29BuHsil3w</td>\n",
       "      <td>Nevada House of Hose</td>\n",
       "      <td>1015 Sharp Cir</td>\n",
       "      <td>North Las Vegas</td>\n",
       "      <td>NV</td>\n",
       "      <td>89030</td>\n",
       "      <td>36.219728</td>\n",
       "      <td>-115.127725</td>\n",
       "      <td>2.5</td>\n",
       "      <td>3</td>\n",
       "      <td>0</td>\n",
       "      <td>{'BusinessAcceptsCreditCards': 'True', 'ByAppo...</td>\n",
       "      <td>Hardware Stores, Home Services, Building Suppl...</td>\n",
       "      <td>{'Monday': '7:0-16:0', 'Tuesday': '7:0-16:0', ...</td>\n",
       "    </tr>\n",
       "    <tr>\n",
       "      <th>4</th>\n",
       "      <td>51M2Kk903DFYI6gnB5I6SQ</td>\n",
       "      <td>USE MY GUY SERVICES LLC</td>\n",
       "      <td>4827 E Downing Cir</td>\n",
       "      <td>Mesa</td>\n",
       "      <td>AZ</td>\n",
       "      <td>85205</td>\n",
       "      <td>33.428065</td>\n",
       "      <td>-111.726648</td>\n",
       "      <td>4.5</td>\n",
       "      <td>26</td>\n",
       "      <td>1</td>\n",
       "      <td>{'BusinessAcceptsCreditCards': 'True', 'ByAppo...</td>\n",
       "      <td>Home Services, Plumbing, Electricians, Handyma...</td>\n",
       "      <td>{'Monday': '0:0-0:0', 'Tuesday': '9:0-16:0', '...</td>\n",
       "    </tr>\n",
       "  </tbody>\n",
       "</table>\n",
       "</div>"
      ],
      "text/plain": [
       "              business_id                      name  \\\n",
       "0  f9NumwFMBDn751xgFiRbNA  The Range At Lake Norman   \n",
       "1  Yzvjg0SayhoZgCljUJRF9Q         Carlos Santo, NMD   \n",
       "2  XNoUzKckATkOD1hP6vghZg                   Felinus   \n",
       "3  6OAZjbxqM5ol29BuHsil3w      Nevada House of Hose   \n",
       "4  51M2Kk903DFYI6gnB5I6SQ   USE MY GUY SERVICES LLC   \n",
       "\n",
       "                     address             city state postal_code   latitude  \\\n",
       "0            10913 Bailey Rd        Cornelius    NC       28031  35.462724   \n",
       "1  8880 E Via Linda, Ste 107       Scottsdale    AZ       85258  33.569404   \n",
       "2      3554 Rue Notre-Dame O         Montreal    QC     H4C 1P4  45.479984   \n",
       "3             1015 Sharp Cir  North Las Vegas    NV       89030  36.219728   \n",
       "4         4827 E Downing Cir             Mesa    AZ       85205  33.428065   \n",
       "\n",
       "    longitude  stars  review_count  is_open  \\\n",
       "0  -80.852612    3.5            36        1   \n",
       "1 -111.890264    5.0             4        1   \n",
       "2  -73.580070    5.0             5        1   \n",
       "3 -115.127725    2.5             3        0   \n",
       "4 -111.726648    4.5            26        1   \n",
       "\n",
       "                                          attributes  \\\n",
       "0  {'BusinessAcceptsCreditCards': 'True', 'BikePa...   \n",
       "1  {'GoodForKids': 'True', 'ByAppointmentOnly': '...   \n",
       "2                                               None   \n",
       "3  {'BusinessAcceptsCreditCards': 'True', 'ByAppo...   \n",
       "4  {'BusinessAcceptsCreditCards': 'True', 'ByAppo...   \n",
       "\n",
       "                                          categories  \\\n",
       "0  Active Life, Gun/Rifle Ranges, Guns & Ammo, Sh...   \n",
       "1  Health & Medical, Fitness & Instruction, Yoga,...   \n",
       "2                   Pets, Pet Services, Pet Groomers   \n",
       "3  Hardware Stores, Home Services, Building Suppl...   \n",
       "4  Home Services, Plumbing, Electricians, Handyma...   \n",
       "\n",
       "                                               hours  \n",
       "0  {'Monday': '10:0-18:0', 'Tuesday': '11:0-20:0'...  \n",
       "1                                               None  \n",
       "2                                               None  \n",
       "3  {'Monday': '7:0-16:0', 'Tuesday': '7:0-16:0', ...  \n",
       "4  {'Monday': '0:0-0:0', 'Tuesday': '9:0-16:0', '...  "
      ]
     },
     "execution_count": 7,
     "metadata": {},
     "output_type": "execute_result"
    }
   ],
   "source": [
    "business.head()"
   ]
  },
  {
   "cell_type": "markdown",
   "metadata": {},
   "source": [
    "Only keep the businesses that are still open in the dataset"
   ]
  },
  {
   "cell_type": "code",
   "execution_count": 8,
   "metadata": {},
   "outputs": [
    {
     "name": "stdout",
     "output_type": "stream",
     "text": [
      "<class 'pandas.core.frame.DataFrame'>\n",
      "Int64Index: 168903 entries, 0 to 209392\n",
      "Data columns (total 14 columns):\n",
      " #   Column        Non-Null Count   Dtype  \n",
      "---  ------        --------------   -----  \n",
      " 0   business_id   168903 non-null  object \n",
      " 1   name          168903 non-null  object \n",
      " 2   address       168903 non-null  object \n",
      " 3   city          168903 non-null  object \n",
      " 4   state         168903 non-null  object \n",
      " 5   postal_code   168903 non-null  object \n",
      " 6   latitude      168903 non-null  float64\n",
      " 7   longitude     168903 non-null  float64\n",
      " 8   stars         168903 non-null  float64\n",
      " 9   review_count  168903 non-null  int64  \n",
      " 10  is_open       168903 non-null  int64  \n",
      " 11  attributes    143470 non-null  object \n",
      " 12  categories    168401 non-null  object \n",
      " 13  hours         137502 non-null  object \n",
      "dtypes: float64(3), int64(2), object(9)\n",
      "memory usage: 19.3+ MB\n"
     ]
    }
   ],
   "source": [
    "# 1 = open, 0 = closed\n",
    "business = business[business['is_open']==1]\n",
    "business.info()"
   ]
  },
  {
   "cell_type": "markdown",
   "metadata": {},
   "source": [
    "Drop any irrelevant columns (Must keep business_id to merge with reviews)"
   ]
  },
  {
   "cell_type": "code",
   "execution_count": 9,
   "metadata": {},
   "outputs": [],
   "source": [
    "drop_columns = ['hours','is_open']\n",
    "business = business.drop(drop_columns, axis=1)"
   ]
  },
  {
   "cell_type": "code",
   "execution_count": 10,
   "metadata": {},
   "outputs": [],
   "source": [
    "business_explode = business.assign(categories = business.categories.str.split(', ')).explode('categories')"
   ]
  },
  {
   "cell_type": "code",
   "execution_count": 11,
   "metadata": {},
   "outputs": [
    {
     "data": {
      "text/html": [
       "<div>\n",
       "<style scoped>\n",
       "    .dataframe tbody tr th:only-of-type {\n",
       "        vertical-align: middle;\n",
       "    }\n",
       "\n",
       "    .dataframe tbody tr th {\n",
       "        vertical-align: top;\n",
       "    }\n",
       "\n",
       "    .dataframe thead th {\n",
       "        text-align: right;\n",
       "    }\n",
       "</style>\n",
       "<table border=\"1\" class=\"dataframe\">\n",
       "  <thead>\n",
       "    <tr style=\"text-align: right;\">\n",
       "      <th></th>\n",
       "      <th>business_id</th>\n",
       "      <th>name</th>\n",
       "      <th>address</th>\n",
       "      <th>city</th>\n",
       "      <th>state</th>\n",
       "      <th>postal_code</th>\n",
       "      <th>latitude</th>\n",
       "      <th>longitude</th>\n",
       "      <th>stars</th>\n",
       "      <th>review_count</th>\n",
       "      <th>attributes</th>\n",
       "      <th>categories</th>\n",
       "    </tr>\n",
       "  </thead>\n",
       "  <tbody>\n",
       "    <tr>\n",
       "      <th>0</th>\n",
       "      <td>f9NumwFMBDn751xgFiRbNA</td>\n",
       "      <td>The Range At Lake Norman</td>\n",
       "      <td>10913 Bailey Rd</td>\n",
       "      <td>Cornelius</td>\n",
       "      <td>NC</td>\n",
       "      <td>28031</td>\n",
       "      <td>35.462724</td>\n",
       "      <td>-80.852612</td>\n",
       "      <td>3.5</td>\n",
       "      <td>36</td>\n",
       "      <td>{'BusinessAcceptsCreditCards': 'True', 'BikePa...</td>\n",
       "      <td>Active Life</td>\n",
       "    </tr>\n",
       "    <tr>\n",
       "      <th>0</th>\n",
       "      <td>f9NumwFMBDn751xgFiRbNA</td>\n",
       "      <td>The Range At Lake Norman</td>\n",
       "      <td>10913 Bailey Rd</td>\n",
       "      <td>Cornelius</td>\n",
       "      <td>NC</td>\n",
       "      <td>28031</td>\n",
       "      <td>35.462724</td>\n",
       "      <td>-80.852612</td>\n",
       "      <td>3.5</td>\n",
       "      <td>36</td>\n",
       "      <td>{'BusinessAcceptsCreditCards': 'True', 'BikePa...</td>\n",
       "      <td>Gun/Rifle Ranges</td>\n",
       "    </tr>\n",
       "    <tr>\n",
       "      <th>0</th>\n",
       "      <td>f9NumwFMBDn751xgFiRbNA</td>\n",
       "      <td>The Range At Lake Norman</td>\n",
       "      <td>10913 Bailey Rd</td>\n",
       "      <td>Cornelius</td>\n",
       "      <td>NC</td>\n",
       "      <td>28031</td>\n",
       "      <td>35.462724</td>\n",
       "      <td>-80.852612</td>\n",
       "      <td>3.5</td>\n",
       "      <td>36</td>\n",
       "      <td>{'BusinessAcceptsCreditCards': 'True', 'BikePa...</td>\n",
       "      <td>Guns &amp; Ammo</td>\n",
       "    </tr>\n",
       "    <tr>\n",
       "      <th>0</th>\n",
       "      <td>f9NumwFMBDn751xgFiRbNA</td>\n",
       "      <td>The Range At Lake Norman</td>\n",
       "      <td>10913 Bailey Rd</td>\n",
       "      <td>Cornelius</td>\n",
       "      <td>NC</td>\n",
       "      <td>28031</td>\n",
       "      <td>35.462724</td>\n",
       "      <td>-80.852612</td>\n",
       "      <td>3.5</td>\n",
       "      <td>36</td>\n",
       "      <td>{'BusinessAcceptsCreditCards': 'True', 'BikePa...</td>\n",
       "      <td>Shopping</td>\n",
       "    </tr>\n",
       "    <tr>\n",
       "      <th>1</th>\n",
       "      <td>Yzvjg0SayhoZgCljUJRF9Q</td>\n",
       "      <td>Carlos Santo, NMD</td>\n",
       "      <td>8880 E Via Linda, Ste 107</td>\n",
       "      <td>Scottsdale</td>\n",
       "      <td>AZ</td>\n",
       "      <td>85258</td>\n",
       "      <td>33.569404</td>\n",
       "      <td>-111.890264</td>\n",
       "      <td>5.0</td>\n",
       "      <td>4</td>\n",
       "      <td>{'GoodForKids': 'True', 'ByAppointmentOnly': '...</td>\n",
       "      <td>Health &amp; Medical</td>\n",
       "    </tr>\n",
       "  </tbody>\n",
       "</table>\n",
       "</div>"
      ],
      "text/plain": [
       "              business_id                      name  \\\n",
       "0  f9NumwFMBDn751xgFiRbNA  The Range At Lake Norman   \n",
       "0  f9NumwFMBDn751xgFiRbNA  The Range At Lake Norman   \n",
       "0  f9NumwFMBDn751xgFiRbNA  The Range At Lake Norman   \n",
       "0  f9NumwFMBDn751xgFiRbNA  The Range At Lake Norman   \n",
       "1  Yzvjg0SayhoZgCljUJRF9Q         Carlos Santo, NMD   \n",
       "\n",
       "                     address        city state postal_code   latitude  \\\n",
       "0            10913 Bailey Rd   Cornelius    NC       28031  35.462724   \n",
       "0            10913 Bailey Rd   Cornelius    NC       28031  35.462724   \n",
       "0            10913 Bailey Rd   Cornelius    NC       28031  35.462724   \n",
       "0            10913 Bailey Rd   Cornelius    NC       28031  35.462724   \n",
       "1  8880 E Via Linda, Ste 107  Scottsdale    AZ       85258  33.569404   \n",
       "\n",
       "    longitude  stars  review_count  \\\n",
       "0  -80.852612    3.5            36   \n",
       "0  -80.852612    3.5            36   \n",
       "0  -80.852612    3.5            36   \n",
       "0  -80.852612    3.5            36   \n",
       "1 -111.890264    5.0             4   \n",
       "\n",
       "                                          attributes        categories  \n",
       "0  {'BusinessAcceptsCreditCards': 'True', 'BikePa...       Active Life  \n",
       "0  {'BusinessAcceptsCreditCards': 'True', 'BikePa...  Gun/Rifle Ranges  \n",
       "0  {'BusinessAcceptsCreditCards': 'True', 'BikePa...       Guns & Ammo  \n",
       "0  {'BusinessAcceptsCreditCards': 'True', 'BikePa...          Shopping  \n",
       "1  {'GoodForKids': 'True', 'ByAppointmentOnly': '...  Health & Medical  "
      ]
     },
     "execution_count": 11,
     "metadata": {},
     "output_type": "execute_result"
    }
   ],
   "source": [
    "business_explode.head()"
   ]
  },
  {
   "cell_type": "markdown",
   "metadata": {},
   "source": [
    "### Keep only Restaurants with High Review Volume"
   ]
  },
  {
   "cell_type": "code",
   "execution_count": 13,
   "metadata": {},
   "outputs": [],
   "source": [
    "business = business.dropna(subset=['categories'])"
   ]
  },
  {
   "cell_type": "code",
   "execution_count": 14,
   "metadata": {},
   "outputs": [
    {
     "data": {
      "text/html": [
       "<div>\n",
       "<style scoped>\n",
       "    .dataframe tbody tr th:only-of-type {\n",
       "        vertical-align: middle;\n",
       "    }\n",
       "\n",
       "    .dataframe tbody tr th {\n",
       "        vertical-align: top;\n",
       "    }\n",
       "\n",
       "    .dataframe thead th {\n",
       "        text-align: right;\n",
       "    }\n",
       "</style>\n",
       "<table border=\"1\" class=\"dataframe\">\n",
       "  <thead>\n",
       "    <tr style=\"text-align: right;\">\n",
       "      <th></th>\n",
       "      <th>business_id</th>\n",
       "      <th>name</th>\n",
       "      <th>address</th>\n",
       "      <th>city</th>\n",
       "      <th>state</th>\n",
       "      <th>postal_code</th>\n",
       "      <th>latitude</th>\n",
       "      <th>longitude</th>\n",
       "      <th>stars</th>\n",
       "      <th>review_count</th>\n",
       "      <th>attributes</th>\n",
       "      <th>categories</th>\n",
       "    </tr>\n",
       "  </thead>\n",
       "  <tbody>\n",
       "    <tr>\n",
       "      <th>8</th>\n",
       "      <td>pQeaRpvuhoEqudo3uymHIQ</td>\n",
       "      <td>The Empanadas House</td>\n",
       "      <td>404 E Green St</td>\n",
       "      <td>Champaign</td>\n",
       "      <td>IL</td>\n",
       "      <td>61820</td>\n",
       "      <td>40.110446</td>\n",
       "      <td>-88.233073</td>\n",
       "      <td>4.5</td>\n",
       "      <td>5</td>\n",
       "      <td>{'RestaurantsAttire': 'u'casual'', 'Restaurant...</td>\n",
       "      <td>Ethnic Food, Food Trucks, Specialty Food, Impo...</td>\n",
       "    </tr>\n",
       "    <tr>\n",
       "      <th>24</th>\n",
       "      <td>eBEfgOPG7pvFhb2wcG9I7w</td>\n",
       "      <td>Philthy Phillys</td>\n",
       "      <td>15480 Bayview Avenue, unit D0110</td>\n",
       "      <td>Aurora</td>\n",
       "      <td>ON</td>\n",
       "      <td>L4G 7J1</td>\n",
       "      <td>44.010962</td>\n",
       "      <td>-79.448677</td>\n",
       "      <td>4.5</td>\n",
       "      <td>4</td>\n",
       "      <td>{'RestaurantsTableService': 'False', 'Restaura...</td>\n",
       "      <td>Restaurants, Cheesesteaks, Poutineries</td>\n",
       "    </tr>\n",
       "    <tr>\n",
       "      <th>25</th>\n",
       "      <td>lu7vtrp_bE9PnxWfA8g4Pg</td>\n",
       "      <td>Banzai Sushi</td>\n",
       "      <td>300 John Street</td>\n",
       "      <td>Thornhill</td>\n",
       "      <td>ON</td>\n",
       "      <td>L3T 5W4</td>\n",
       "      <td>43.820492</td>\n",
       "      <td>-79.398466</td>\n",
       "      <td>4.5</td>\n",
       "      <td>7</td>\n",
       "      <td>{'GoodForKids': 'True', 'RestaurantsTakeOut': ...</td>\n",
       "      <td>Japanese, Fast Food, Food Court, Restaurants</td>\n",
       "    </tr>\n",
       "    <tr>\n",
       "      <th>30</th>\n",
       "      <td>9sRGfSVEfLhN_km60YruTA</td>\n",
       "      <td>Apadana Restaurant</td>\n",
       "      <td>13071 Yonge Street</td>\n",
       "      <td>Richmond Hill</td>\n",
       "      <td>ON</td>\n",
       "      <td>L4E 1A5</td>\n",
       "      <td>43.947011</td>\n",
       "      <td>-79.454862</td>\n",
       "      <td>3.0</td>\n",
       "      <td>3</td>\n",
       "      <td>{'Ambience': '{'touristy': False, 'hipster': F...</td>\n",
       "      <td>Persian/Iranian, Turkish, Middle Eastern, Rest...</td>\n",
       "    </tr>\n",
       "    <tr>\n",
       "      <th>33</th>\n",
       "      <td>vjTVxnsQEZ34XjYNS-XUpA</td>\n",
       "      <td>Wetzel's Pretzels</td>\n",
       "      <td>4550 East Cactus Rd, #KSFC-4</td>\n",
       "      <td>Phoenix</td>\n",
       "      <td>AZ</td>\n",
       "      <td>85032</td>\n",
       "      <td>33.602822</td>\n",
       "      <td>-111.983533</td>\n",
       "      <td>4.0</td>\n",
       "      <td>10</td>\n",
       "      <td>{'GoodForKids': 'True', 'RestaurantsTakeOut': ...</td>\n",
       "      <td>Food, Pretzels, Bakeries, Fast Food, Restaurants</td>\n",
       "    </tr>\n",
       "  </tbody>\n",
       "</table>\n",
       "</div>"
      ],
      "text/plain": [
       "               business_id                 name  \\\n",
       "8   pQeaRpvuhoEqudo3uymHIQ  The Empanadas House   \n",
       "24  eBEfgOPG7pvFhb2wcG9I7w      Philthy Phillys   \n",
       "25  lu7vtrp_bE9PnxWfA8g4Pg         Banzai Sushi   \n",
       "30  9sRGfSVEfLhN_km60YruTA   Apadana Restaurant   \n",
       "33  vjTVxnsQEZ34XjYNS-XUpA    Wetzel's Pretzels   \n",
       "\n",
       "                             address           city state postal_code  \\\n",
       "8                     404 E Green St      Champaign    IL       61820   \n",
       "24  15480 Bayview Avenue, unit D0110         Aurora    ON     L4G 7J1   \n",
       "25                   300 John Street      Thornhill    ON     L3T 5W4   \n",
       "30                13071 Yonge Street  Richmond Hill    ON     L4E 1A5   \n",
       "33      4550 East Cactus Rd, #KSFC-4        Phoenix    AZ       85032   \n",
       "\n",
       "     latitude   longitude  stars  review_count  \\\n",
       "8   40.110446  -88.233073    4.5             5   \n",
       "24  44.010962  -79.448677    4.5             4   \n",
       "25  43.820492  -79.398466    4.5             7   \n",
       "30  43.947011  -79.454862    3.0             3   \n",
       "33  33.602822 -111.983533    4.0            10   \n",
       "\n",
       "                                           attributes  \\\n",
       "8   {'RestaurantsAttire': 'u'casual'', 'Restaurant...   \n",
       "24  {'RestaurantsTableService': 'False', 'Restaura...   \n",
       "25  {'GoodForKids': 'True', 'RestaurantsTakeOut': ...   \n",
       "30  {'Ambience': '{'touristy': False, 'hipster': F...   \n",
       "33  {'GoodForKids': 'True', 'RestaurantsTakeOut': ...   \n",
       "\n",
       "                                           categories  \n",
       "8   Ethnic Food, Food Trucks, Specialty Food, Impo...  \n",
       "24             Restaurants, Cheesesteaks, Poutineries  \n",
       "25       Japanese, Fast Food, Food Court, Restaurants  \n",
       "30  Persian/Iranian, Turkish, Middle Eastern, Rest...  \n",
       "33   Food, Pretzels, Bakeries, Fast Food, Restaurants  "
      ]
     },
     "execution_count": 14,
     "metadata": {},
     "output_type": "execute_result"
    }
   ],
   "source": [
    "restaurants = business[business['categories'].str.contains('Restaurants', flags=re.IGNORECASE)]\n",
    "restaurants.head()"
   ]
  },
  {
   "cell_type": "code",
   "execution_count": 15,
   "metadata": {},
   "outputs": [
    {
     "name": "stdout",
     "output_type": "stream",
     "text": [
      "<class 'pandas.core.frame.DataFrame'>\n",
      "Int64Index: 43965 entries, 8 to 209390\n",
      "Data columns (total 12 columns):\n",
      " #   Column        Non-Null Count  Dtype  \n",
      "---  ------        --------------  -----  \n",
      " 0   business_id   43965 non-null  object \n",
      " 1   name          43965 non-null  object \n",
      " 2   address       43965 non-null  object \n",
      " 3   city          43965 non-null  object \n",
      " 4   state         43965 non-null  object \n",
      " 5   postal_code   43965 non-null  object \n",
      " 6   latitude      43965 non-null  float64\n",
      " 7   longitude     43965 non-null  float64\n",
      " 8   stars         43965 non-null  float64\n",
      " 9   review_count  43965 non-null  int64  \n",
      " 10  attributes    42804 non-null  object \n",
      " 11  categories    43965 non-null  object \n",
      "dtypes: float64(3), int64(1), object(8)\n",
      "memory usage: 4.4+ MB\n"
     ]
    }
   ],
   "source": [
    "restaurants.info()"
   ]
  },
  {
   "cell_type": "code",
   "execution_count": 16,
   "metadata": {},
   "outputs": [],
   "source": [
    "n_review = 3000"
   ]
  },
  {
   "cell_type": "code",
   "execution_count": 19,
   "metadata": {},
   "outputs": [
    {
     "data": {
      "text/plain": [
       "name\n",
       " China                       10\n",
       "#1 Hawaiian Barbecue         47\n",
       "#1Brothers Pizza             84\n",
       "&Company Resto Bar           54\n",
       "'ONO Poké Bar                90\n",
       "00 Gelato                    67\n",
       "0109 Dessert & Chocolate    213\n",
       "1 Brother's Pizza            36\n",
       "1 Brothers Pizza             68\n",
       "1 Hawaiian Barbecue         140\n",
       "Name: review_count, dtype: int64"
      ]
     },
     "execution_count": 19,
     "metadata": {},
     "output_type": "execute_result"
    }
   ],
   "source": [
    "review_count_by_restaurant = restaurants.groupby('name')['review_count'].sum()\n",
    "review_count_by_restaurant.head(10)"
   ]
  },
  {
   "cell_type": "code",
   "execution_count": 20,
   "metadata": {},
   "outputs": [
    {
     "data": {
      "text/plain": [
       "Index(['Angry Crab Shack', 'Applebee's Grill + Bar',\n",
       "       'BJ's Restaurant & Brewhouse', 'Bacchanal Buffet', 'Barro's Pizza',\n",
       "       'Black Bear Diner', 'Blaze Fast-Fire'd Pizza', 'Bobby Q', 'Bouchon',\n",
       "       'Buca di Beppo Italian Restaurant',\n",
       "       ...\n",
       "       'The Habit Burger Grill', 'The Peppermill Restaurant & Fireside Lounge',\n",
       "       'The Venetian Las Vegas', 'Topgolf', 'Tropical Smoothie Cafe',\n",
       "       'Wendy's', 'Wicked Spoon', 'Yard House',\n",
       "       'Yardbird Southern Table & Bar', 'Zipps Sports Grill'],\n",
       "      dtype='object', name='name', length=110)"
      ]
     },
     "execution_count": 20,
     "metadata": {},
     "output_type": "execute_result"
    }
   ],
   "source": [
    "big_restaurant_names = review_count_by_restaurant[review_count_by_restaurant > n_review].index\n",
    "big_restaurant_names"
   ]
  },
  {
   "cell_type": "code",
   "execution_count": 21,
   "metadata": {},
   "outputs": [],
   "source": [
    "big_restaurant = restaurants[restaurants['name'].isin(big_restaurant_names)]"
   ]
  },
  {
   "cell_type": "code",
   "execution_count": 22,
   "metadata": {},
   "outputs": [
    {
     "data": {
      "text/plain": [
       "name\n",
       "Circus Circus Las Vegas Hotel and Casino     3037\n",
       "Pampas Las Vegas                             3040\n",
       "Lazy Dog Restaurant & Bar                    3041\n",
       "The Habit Burger Grill                       3079\n",
       "Barro's Pizza                                3079\n",
       "                                            ...  \n",
       "Mon Ami Gabi                                 9264\n",
       "Bacchanal Buffet                            10129\n",
       "Chipotle Mexican Grill                      10789\n",
       "Hash House A Go Go                          12767\n",
       "McDonald's                                  18980\n",
       "Name: review_count, Length: 110, dtype: int64"
      ]
     },
     "execution_count": 22,
     "metadata": {},
     "output_type": "execute_result"
    }
   ],
   "source": [
    "big_restaurant.groupby('name')['review_count'].sum().sort_values()"
   ]
  },
  {
   "cell_type": "code",
   "execution_count": 23,
   "metadata": {},
   "outputs": [],
   "source": [
    "reset()"
   ]
  },
  {
   "cell_type": "code",
   "execution_count": 26,
   "metadata": {},
   "outputs": [
    {
     "data": {
      "text/html": [
       "<div>\n",
       "<style scoped>\n",
       "    .dataframe tbody tr th:only-of-type {\n",
       "        vertical-align: middle;\n",
       "    }\n",
       "\n",
       "    .dataframe tbody tr th {\n",
       "        vertical-align: top;\n",
       "    }\n",
       "\n",
       "    .dataframe thead th {\n",
       "        text-align: right;\n",
       "    }\n",
       "</style>\n",
       "<table border=\"1\" class=\"dataframe\">\n",
       "  <thead>\n",
       "    <tr style=\"text-align: right;\">\n",
       "      <th></th>\n",
       "      <th>business_id</th>\n",
       "      <th>name</th>\n",
       "      <th>address</th>\n",
       "      <th>city</th>\n",
       "      <th>state</th>\n",
       "      <th>postal_code</th>\n",
       "      <th>latitude</th>\n",
       "      <th>longitude</th>\n",
       "      <th>stars</th>\n",
       "      <th>review_count</th>\n",
       "      <th>attributes</th>\n",
       "      <th>categories</th>\n",
       "    </tr>\n",
       "  </thead>\n",
       "  <tbody>\n",
       "    <tr>\n",
       "      <th>49</th>\n",
       "      <td>tLpkSwdtqqoXwU0JAGnApw</td>\n",
       "      <td>Wendy's</td>\n",
       "      <td>4602 Northfield Road</td>\n",
       "      <td>Cleveland</td>\n",
       "      <td>OH</td>\n",
       "      <td>44128</td>\n",
       "      <td>41.434614</td>\n",
       "      <td>-81.527026</td>\n",
       "      <td>3.5</td>\n",
       "      <td>7</td>\n",
       "      <td>{'RestaurantsDelivery': 'False', 'BusinessAcce...</td>\n",
       "      <td>Restaurants, Fast Food, Burgers</td>\n",
       "    </tr>\n",
       "    <tr>\n",
       "      <th>101</th>\n",
       "      <td>MTx-Zdl_KcU_z9G832XAjg</td>\n",
       "      <td>Taco Bell</td>\n",
       "      <td>8033 N Durango Dr</td>\n",
       "      <td>Las Vegas</td>\n",
       "      <td>NV</td>\n",
       "      <td>89131</td>\n",
       "      <td>36.307495</td>\n",
       "      <td>-115.279059</td>\n",
       "      <td>2.5</td>\n",
       "      <td>37</td>\n",
       "      <td>{'OutdoorSeating': 'False', 'Alcohol': 'u'none...</td>\n",
       "      <td>Fast Food, Restaurants</td>\n",
       "    </tr>\n",
       "    <tr>\n",
       "      <th>250</th>\n",
       "      <td>ypILNgy7QFskKAdcPKB2RQ</td>\n",
       "      <td>KFC</td>\n",
       "      <td>1667 Ebenezer Rd</td>\n",
       "      <td>Rock Hill</td>\n",
       "      <td>SC</td>\n",
       "      <td>29732</td>\n",
       "      <td>34.956131</td>\n",
       "      <td>-81.046257</td>\n",
       "      <td>2.0</td>\n",
       "      <td>5</td>\n",
       "      <td>{'GoodForKids': 'True', 'WiFi': ''free'', 'Res...</td>\n",
       "      <td>Restaurants, Fast Food, Chicken Shop, Chicken ...</td>\n",
       "    </tr>\n",
       "    <tr>\n",
       "      <th>280</th>\n",
       "      <td>CfwrsG76Wm4iLS22v_wAcg</td>\n",
       "      <td>McDonald's</td>\n",
       "      <td>6421 Pearl Rd</td>\n",
       "      <td>Parma Heights</td>\n",
       "      <td>OH</td>\n",
       "      <td>44130</td>\n",
       "      <td>41.385949</td>\n",
       "      <td>-81.768113</td>\n",
       "      <td>2.5</td>\n",
       "      <td>15</td>\n",
       "      <td>{'Ambience': '{'romantic': False, 'intimate': ...</td>\n",
       "      <td>Restaurants, Coffee &amp; Tea, Burgers, Fast Food,...</td>\n",
       "    </tr>\n",
       "    <tr>\n",
       "      <th>283</th>\n",
       "      <td>_V4CzzA7Z9h4qyLIdG-KUg</td>\n",
       "      <td>Wendy's</td>\n",
       "      <td>5214 Sunset Rd</td>\n",
       "      <td>Charlotte</td>\n",
       "      <td>NC</td>\n",
       "      <td>28269</td>\n",
       "      <td>35.307994</td>\n",
       "      <td>-80.841429</td>\n",
       "      <td>1.5</td>\n",
       "      <td>18</td>\n",
       "      <td>{'RestaurantsTakeOut': 'True', 'GoodForKids': ...</td>\n",
       "      <td>Restaurants, Hot Dogs, Burgers, Fast Food</td>\n",
       "    </tr>\n",
       "  </tbody>\n",
       "</table>\n",
       "</div>"
      ],
      "text/plain": [
       "                business_id        name               address           city  \\\n",
       "49   tLpkSwdtqqoXwU0JAGnApw     Wendy's  4602 Northfield Road      Cleveland   \n",
       "101  MTx-Zdl_KcU_z9G832XAjg   Taco Bell     8033 N Durango Dr      Las Vegas   \n",
       "250  ypILNgy7QFskKAdcPKB2RQ         KFC      1667 Ebenezer Rd      Rock Hill   \n",
       "280  CfwrsG76Wm4iLS22v_wAcg  McDonald's         6421 Pearl Rd  Parma Heights   \n",
       "283  _V4CzzA7Z9h4qyLIdG-KUg     Wendy's        5214 Sunset Rd      Charlotte   \n",
       "\n",
       "    state postal_code   latitude   longitude  stars  review_count  \\\n",
       "49     OH       44128  41.434614  -81.527026    3.5             7   \n",
       "101    NV       89131  36.307495 -115.279059    2.5            37   \n",
       "250    SC       29732  34.956131  -81.046257    2.0             5   \n",
       "280    OH       44130  41.385949  -81.768113    2.5            15   \n",
       "283    NC       28269  35.307994  -80.841429    1.5            18   \n",
       "\n",
       "                                            attributes  \\\n",
       "49   {'RestaurantsDelivery': 'False', 'BusinessAcce...   \n",
       "101  {'OutdoorSeating': 'False', 'Alcohol': 'u'none...   \n",
       "250  {'GoodForKids': 'True', 'WiFi': ''free'', 'Res...   \n",
       "280  {'Ambience': '{'romantic': False, 'intimate': ...   \n",
       "283  {'RestaurantsTakeOut': 'True', 'GoodForKids': ...   \n",
       "\n",
       "                                            categories  \n",
       "49                     Restaurants, Fast Food, Burgers  \n",
       "101                             Fast Food, Restaurants  \n",
       "250  Restaurants, Fast Food, Chicken Shop, Chicken ...  \n",
       "280  Restaurants, Coffee & Tea, Burgers, Fast Food,...  \n",
       "283          Restaurants, Hot Dogs, Burgers, Fast Food  "
      ]
     },
     "execution_count": 26,
     "metadata": {},
     "output_type": "execute_result"
    }
   ],
   "source": [
    "big_restaurant.head()"
   ]
  },
  {
   "cell_type": "code",
   "execution_count": 27,
   "metadata": {},
   "outputs": [
    {
     "name": "stdout",
     "output_type": "stream",
     "text": [
      "<class 'pandas.core.frame.DataFrame'>\n",
      "Int64Index: 5909 entries, 49 to 209390\n",
      "Data columns (total 12 columns):\n",
      " #   Column        Non-Null Count  Dtype  \n",
      "---  ------        --------------  -----  \n",
      " 0   business_id   5909 non-null   object \n",
      " 1   name          5909 non-null   object \n",
      " 2   address       5909 non-null   object \n",
      " 3   city          5909 non-null   object \n",
      " 4   state         5909 non-null   object \n",
      " 5   postal_code   5909 non-null   object \n",
      " 6   latitude      5909 non-null   float64\n",
      " 7   longitude     5909 non-null   float64\n",
      " 8   stars         5909 non-null   float64\n",
      " 9   review_count  5909 non-null   int64  \n",
      " 10  attributes    5838 non-null   object \n",
      " 11  categories    5909 non-null   object \n",
      "dtypes: float64(3), int64(1), object(8)\n",
      "memory usage: 600.1+ KB\n"
     ]
    }
   ],
   "source": [
    "big_restaurant.info()"
   ]
  },
  {
   "cell_type": "markdown",
   "metadata": {},
   "source": [
    "#### Additional Cleaning "
   ]
  },
  {
   "cell_type": "code",
   "execution_count": 29,
   "metadata": {},
   "outputs": [
    {
     "data": {
      "text/plain": [
       "business_id      0\n",
       "name             0\n",
       "address          0\n",
       "city             0\n",
       "state            0\n",
       "postal_code      0\n",
       "latitude         0\n",
       "longitude        0\n",
       "stars            0\n",
       "review_count     0\n",
       "attributes      71\n",
       "categories       0\n",
       "dtype: int64"
      ]
     },
     "execution_count": 29,
     "metadata": {},
     "output_type": "execute_result"
    }
   ],
   "source": [
    "big_restaurant.isna().sum()"
   ]
  },
  {
   "cell_type": "markdown",
   "metadata": {},
   "source": [
    "## Reading the Reviews "
   ]
  },
  {
   "cell_type": "code",
   "execution_count": 31,
   "metadata": {},
   "outputs": [
    {
     "data": {
      "text/plain": [
       "20"
      ]
     },
     "execution_count": 31,
     "metadata": {},
     "output_type": "execute_result"
    }
   ],
   "source": [
    "import gc\n",
    "gc.collect()"
   ]
  },
  {
   "cell_type": "code",
   "execution_count": 32,
   "metadata": {},
   "outputs": [],
   "source": [
    "size = 100000"
   ]
  },
  {
   "cell_type": "code",
   "execution_count": 34,
   "metadata": {},
   "outputs": [],
   "source": [
    "review_reader = pd.read_json('data/yelp_dataset/yelp_academic_dataset_review.json', \n",
    "                             lines=True, \n",
    "                             dtype={'review_id':str,'user_id':str,\n",
    "                                    'business_id':str,'stars':int,\n",
    "                                    'date':str,'text':str,'useful':int,\n",
    "                                    'funny':int,'cool':int},\n",
    "                             chunksize=size)\n",
    "\n"
   ]
  },
  {
   "cell_type": "code",
   "execution_count": 36,
   "metadata": {},
   "outputs": [
    {
     "data": {
      "text/plain": [
       "<pandas.io.json._json.JsonReader at 0x1a8ca028f88>"
      ]
     },
     "execution_count": 36,
     "metadata": {},
     "output_type": "execute_result"
    }
   ],
   "source": [
    "review_reader"
   ]
  },
  {
   "cell_type": "code",
   "execution_count": 37,
   "metadata": {},
   "outputs": [
    {
     "name": "stdout",
     "output_type": "stream",
     "text": [
      "5897 out of 100,000 related reviews\n",
      "5876 out of 100,000 related reviews\n",
      "5990 out of 100,000 related reviews\n",
      "6115 out of 100,000 related reviews\n",
      "5886 out of 100,000 related reviews\n",
      "5568 out of 100,000 related reviews\n",
      "5333 out of 100,000 related reviews\n",
      "5642 out of 100,000 related reviews\n",
      "7217 out of 100,000 related reviews\n",
      "7198 out of 100,000 related reviews\n",
      "7227 out of 100,000 related reviews\n",
      "7234 out of 100,000 related reviews\n",
      "7157 out of 100,000 related reviews\n",
      "7219 out of 100,000 related reviews\n",
      "6474 out of 100,000 related reviews\n",
      "6353 out of 100,000 related reviews\n",
      "6831 out of 100,000 related reviews\n",
      "6735 out of 100,000 related reviews\n",
      "6743 out of 100,000 related reviews\n",
      "6785 out of 100,000 related reviews\n",
      "6899 out of 100,000 related reviews\n",
      "7131 out of 100,000 related reviews\n",
      "6830 out of 100,000 related reviews\n",
      "7235 out of 100,000 related reviews\n",
      "8780 out of 100,000 related reviews\n",
      "8681 out of 100,000 related reviews\n",
      "8606 out of 100,000 related reviews\n",
      "8874 out of 100,000 related reviews\n",
      "8668 out of 100,000 related reviews\n",
      "8690 out of 100,000 related reviews\n",
      "8515 out of 100,000 related reviews\n",
      "8407 out of 100,000 related reviews\n",
      "7110 out of 100,000 related reviews\n",
      "7013 out of 100,000 related reviews\n",
      "6753 out of 100,000 related reviews\n",
      "6754 out of 100,000 related reviews\n",
      "6809 out of 100,000 related reviews\n",
      "6768 out of 100,000 related reviews\n",
      "6895 out of 100,000 related reviews\n",
      "6687 out of 100,000 related reviews\n",
      "8447 out of 100,000 related reviews\n",
      "9211 out of 100,000 related reviews\n",
      "9155 out of 100,000 related reviews\n",
      "9110 out of 100,000 related reviews\n",
      "8860 out of 100,000 related reviews\n",
      "8309 out of 100,000 related reviews\n",
      "7604 out of 100,000 related reviews\n",
      "6946 out of 100,000 related reviews\n",
      "6907 out of 100,000 related reviews\n",
      "6759 out of 100,000 related reviews\n",
      "6764 out of 100,000 related reviews\n",
      "6824 out of 100,000 related reviews\n",
      "6576 out of 100,000 related reviews\n",
      "6359 out of 100,000 related reviews\n",
      "5531 out of 100,000 related reviews\n",
      "5082 out of 100,000 related reviews\n",
      "8238 out of 100,000 related reviews\n",
      "8315 out of 100,000 related reviews\n",
      "8305 out of 100,000 related reviews\n",
      "8329 out of 100,000 related reviews\n",
      "8021 out of 100,000 related reviews\n",
      "7529 out of 100,000 related reviews\n",
      "6645 out of 100,000 related reviews\n",
      "6410 out of 100,000 related reviews\n",
      "6022 out of 100,000 related reviews\n",
      "5935 out of 100,000 related reviews\n",
      "5952 out of 100,000 related reviews\n",
      "5849 out of 100,000 related reviews\n",
      "5850 out of 100,000 related reviews\n",
      "5875 out of 100,000 related reviews\n",
      "5272 out of 100,000 related reviews\n",
      "5084 out of 100,000 related reviews\n",
      "7026 out of 100,000 related reviews\n",
      "7124 out of 100,000 related reviews\n",
      "7075 out of 100,000 related reviews\n",
      "7172 out of 100,000 related reviews\n",
      "7052 out of 100,000 related reviews\n",
      "7053 out of 100,000 related reviews\n",
      "6110 out of 100,000 related reviews\n",
      "6270 out of 100,000 related reviews\n",
      "1703 out of 100,000 related reviews\n"
     ]
    }
   ],
   "source": [
    "# There are multiple chunks to be read\n",
    "chunk_list = []\n",
    "for review_chunk in review_reader:\n",
    "    # Drop columns that aren't needed\n",
    "    review_chunk = review_chunk.drop(['review_id','funny','cool'], axis=1)\n",
    "    # Renaming column name to avoid conflict with business overall star rating\n",
    "    review_chunk = review_chunk.rename(columns={'stars': 'review_stars'})\n",
    "    # Inner merge with edited business file so only reviews related to the business remaining\n",
    "    chunk_merged = pd.merge(big_restaurant, review_chunk, on='business_id', how='inner')\n",
    "    # Show feedback on progress\n",
    "    print(f\"{chunk_merged.shape[0]} out of {size:,} related reviews\")\n",
    "    chunk_list.append(chunk_merged)\n",
    "# After trimming down the review file, concatenate all relevant data back to one dataframe\n",
    "df = pd.concat(chunk_list, ignore_index=True, axis=0)"
   ]
  },
  {
   "cell_type": "code",
   "execution_count": 38,
   "metadata": {},
   "outputs": [
    {
     "data": {
      "text/plain": [
       "20"
      ]
     },
     "execution_count": 38,
     "metadata": {},
     "output_type": "execute_result"
    }
   ],
   "source": [
    "gc.collect()"
   ]
  },
  {
   "cell_type": "code",
   "execution_count": null,
   "metadata": {},
   "outputs": [],
   "source": []
  },
  {
   "cell_type": "code",
   "execution_count": 39,
   "metadata": {},
   "outputs": [
    {
     "data": {
      "text/html": [
       "<div>\n",
       "<style scoped>\n",
       "    .dataframe tbody tr th:only-of-type {\n",
       "        vertical-align: middle;\n",
       "    }\n",
       "\n",
       "    .dataframe tbody tr th {\n",
       "        vertical-align: top;\n",
       "    }\n",
       "\n",
       "    .dataframe thead th {\n",
       "        text-align: right;\n",
       "    }\n",
       "</style>\n",
       "<table border=\"1\" class=\"dataframe\">\n",
       "  <thead>\n",
       "    <tr style=\"text-align: right;\">\n",
       "      <th></th>\n",
       "      <th>business_id</th>\n",
       "      <th>name</th>\n",
       "      <th>address</th>\n",
       "      <th>city</th>\n",
       "      <th>state</th>\n",
       "      <th>postal_code</th>\n",
       "      <th>latitude</th>\n",
       "      <th>longitude</th>\n",
       "      <th>stars</th>\n",
       "      <th>review_count</th>\n",
       "      <th>attributes</th>\n",
       "      <th>categories</th>\n",
       "      <th>user_id</th>\n",
       "      <th>review_stars</th>\n",
       "      <th>useful</th>\n",
       "      <th>text</th>\n",
       "      <th>date</th>\n",
       "    </tr>\n",
       "  </thead>\n",
       "  <tbody>\n",
       "    <tr>\n",
       "      <th>0</th>\n",
       "      <td>MTx-Zdl_KcU_z9G832XAjg</td>\n",
       "      <td>Taco Bell</td>\n",
       "      <td>8033 N Durango Dr</td>\n",
       "      <td>Las Vegas</td>\n",
       "      <td>NV</td>\n",
       "      <td>89131</td>\n",
       "      <td>36.307495</td>\n",
       "      <td>-115.279059</td>\n",
       "      <td>2.5</td>\n",
       "      <td>37</td>\n",
       "      <td>{'OutdoorSeating': 'False', 'Alcohol': 'u'none...</td>\n",
       "      <td>Fast Food, Restaurants</td>\n",
       "      <td>OE5MNd5PVORXxcrHEoWPdA</td>\n",
       "      <td>1</td>\n",
       "      <td>1</td>\n",
       "      <td>Do not stop here if you are wanting fast food....</td>\n",
       "      <td>2016-07-04 21:04:10</td>\n",
       "    </tr>\n",
       "    <tr>\n",
       "      <th>1</th>\n",
       "      <td>MTx-Zdl_KcU_z9G832XAjg</td>\n",
       "      <td>Taco Bell</td>\n",
       "      <td>8033 N Durango Dr</td>\n",
       "      <td>Las Vegas</td>\n",
       "      <td>NV</td>\n",
       "      <td>89131</td>\n",
       "      <td>36.307495</td>\n",
       "      <td>-115.279059</td>\n",
       "      <td>2.5</td>\n",
       "      <td>37</td>\n",
       "      <td>{'OutdoorSeating': 'False', 'Alcohol': 'u'none...</td>\n",
       "      <td>Fast Food, Restaurants</td>\n",
       "      <td>z0O_MNIPTvwjw-YCjCM5rw</td>\n",
       "      <td>1</td>\n",
       "      <td>0</td>\n",
       "      <td>I was really irritated because i said no chees...</td>\n",
       "      <td>2018-05-20 08:12:21</td>\n",
       "    </tr>\n",
       "    <tr>\n",
       "      <th>2</th>\n",
       "      <td>MTx-Zdl_KcU_z9G832XAjg</td>\n",
       "      <td>Taco Bell</td>\n",
       "      <td>8033 N Durango Dr</td>\n",
       "      <td>Las Vegas</td>\n",
       "      <td>NV</td>\n",
       "      <td>89131</td>\n",
       "      <td>36.307495</td>\n",
       "      <td>-115.279059</td>\n",
       "      <td>2.5</td>\n",
       "      <td>37</td>\n",
       "      <td>{'OutdoorSeating': 'False', 'Alcohol': 'u'none...</td>\n",
       "      <td>Fast Food, Restaurants</td>\n",
       "      <td>7S2wwOSVSRn4CEZdtQKG_Q</td>\n",
       "      <td>4</td>\n",
       "      <td>3</td>\n",
       "      <td>\"Yo Quiero Taco Bell!\" \\n\\nFor a Taco Bell thi...</td>\n",
       "      <td>2014-05-12 00:45:44</td>\n",
       "    </tr>\n",
       "    <tr>\n",
       "      <th>3</th>\n",
       "      <td>ypILNgy7QFskKAdcPKB2RQ</td>\n",
       "      <td>KFC</td>\n",
       "      <td>1667 Ebenezer Rd</td>\n",
       "      <td>Rock Hill</td>\n",
       "      <td>SC</td>\n",
       "      <td>29732</td>\n",
       "      <td>34.956131</td>\n",
       "      <td>-81.046257</td>\n",
       "      <td>2.0</td>\n",
       "      <td>5</td>\n",
       "      <td>{'GoodForKids': 'True', 'WiFi': ''free'', 'Res...</td>\n",
       "      <td>Restaurants, Fast Food, Chicken Shop, Chicken ...</td>\n",
       "      <td>tDXj_pyGBFrQ9dj29uErBA</td>\n",
       "      <td>1</td>\n",
       "      <td>0</td>\n",
       "      <td>Ordered 2 large sides at drive up window. Got ...</td>\n",
       "      <td>2017-03-04 12:58:01</td>\n",
       "    </tr>\n",
       "    <tr>\n",
       "      <th>4</th>\n",
       "      <td>CfwrsG76Wm4iLS22v_wAcg</td>\n",
       "      <td>McDonald's</td>\n",
       "      <td>6421 Pearl Rd</td>\n",
       "      <td>Parma Heights</td>\n",
       "      <td>OH</td>\n",
       "      <td>44130</td>\n",
       "      <td>41.385949</td>\n",
       "      <td>-81.768113</td>\n",
       "      <td>2.5</td>\n",
       "      <td>15</td>\n",
       "      <td>{'Ambience': '{'romantic': False, 'intimate': ...</td>\n",
       "      <td>Restaurants, Coffee &amp; Tea, Burgers, Fast Food,...</td>\n",
       "      <td>VULFcmvS5-zp1wt-aokPwA</td>\n",
       "      <td>1</td>\n",
       "      <td>0</td>\n",
       "      <td>Try cleaning your play area once in a while. I...</td>\n",
       "      <td>2016-02-13 22:57:36</td>\n",
       "    </tr>\n",
       "  </tbody>\n",
       "</table>\n",
       "</div>"
      ],
      "text/plain": [
       "              business_id        name            address           city state  \\\n",
       "0  MTx-Zdl_KcU_z9G832XAjg   Taco Bell  8033 N Durango Dr      Las Vegas    NV   \n",
       "1  MTx-Zdl_KcU_z9G832XAjg   Taco Bell  8033 N Durango Dr      Las Vegas    NV   \n",
       "2  MTx-Zdl_KcU_z9G832XAjg   Taco Bell  8033 N Durango Dr      Las Vegas    NV   \n",
       "3  ypILNgy7QFskKAdcPKB2RQ         KFC   1667 Ebenezer Rd      Rock Hill    SC   \n",
       "4  CfwrsG76Wm4iLS22v_wAcg  McDonald's      6421 Pearl Rd  Parma Heights    OH   \n",
       "\n",
       "  postal_code   latitude   longitude  stars  review_count  \\\n",
       "0       89131  36.307495 -115.279059    2.5            37   \n",
       "1       89131  36.307495 -115.279059    2.5            37   \n",
       "2       89131  36.307495 -115.279059    2.5            37   \n",
       "3       29732  34.956131  -81.046257    2.0             5   \n",
       "4       44130  41.385949  -81.768113    2.5            15   \n",
       "\n",
       "                                          attributes  \\\n",
       "0  {'OutdoorSeating': 'False', 'Alcohol': 'u'none...   \n",
       "1  {'OutdoorSeating': 'False', 'Alcohol': 'u'none...   \n",
       "2  {'OutdoorSeating': 'False', 'Alcohol': 'u'none...   \n",
       "3  {'GoodForKids': 'True', 'WiFi': ''free'', 'Res...   \n",
       "4  {'Ambience': '{'romantic': False, 'intimate': ...   \n",
       "\n",
       "                                          categories                 user_id  \\\n",
       "0                             Fast Food, Restaurants  OE5MNd5PVORXxcrHEoWPdA   \n",
       "1                             Fast Food, Restaurants  z0O_MNIPTvwjw-YCjCM5rw   \n",
       "2                             Fast Food, Restaurants  7S2wwOSVSRn4CEZdtQKG_Q   \n",
       "3  Restaurants, Fast Food, Chicken Shop, Chicken ...  tDXj_pyGBFrQ9dj29uErBA   \n",
       "4  Restaurants, Coffee & Tea, Burgers, Fast Food,...  VULFcmvS5-zp1wt-aokPwA   \n",
       "\n",
       "   review_stars  useful                                               text  \\\n",
       "0             1       1  Do not stop here if you are wanting fast food....   \n",
       "1             1       0  I was really irritated because i said no chees...   \n",
       "2             4       3  \"Yo Quiero Taco Bell!\" \\n\\nFor a Taco Bell thi...   \n",
       "3             1       0  Ordered 2 large sides at drive up window. Got ...   \n",
       "4             1       0  Try cleaning your play area once in a while. I...   \n",
       "\n",
       "                  date  \n",
       "0  2016-07-04 21:04:10  \n",
       "1  2018-05-20 08:12:21  \n",
       "2  2014-05-12 00:45:44  \n",
       "3  2017-03-04 12:58:01  \n",
       "4  2016-02-13 22:57:36  "
      ]
     },
     "execution_count": 39,
     "metadata": {},
     "output_type": "execute_result"
    }
   ],
   "source": [
    "df.head()"
   ]
  },
  {
   "cell_type": "code",
   "execution_count": 42,
   "metadata": {},
   "outputs": [
    {
     "data": {
      "text/plain": [
       "business_id       0\n",
       "name              0\n",
       "address           0\n",
       "city              0\n",
       "state             0\n",
       "postal_code       0\n",
       "latitude          0\n",
       "longitude         0\n",
       "stars             0\n",
       "review_count      0\n",
       "attributes      336\n",
       "categories        0\n",
       "user_id           0\n",
       "review_stars      0\n",
       "useful            0\n",
       "text              0\n",
       "date              0\n",
       "dtype: int64"
      ]
     },
     "execution_count": 42,
     "metadata": {},
     "output_type": "execute_result"
    }
   ],
   "source": [
    "df.isna().sum()"
   ]
  },
  {
   "cell_type": "code",
   "execution_count": 43,
   "metadata": {},
   "outputs": [
    {
     "name": "stdout",
     "output_type": "stream",
     "text": [
      "<class 'pandas.core.frame.DataFrame'>\n",
      "RangeIndex: 564245 entries, 0 to 564244\n",
      "Data columns (total 17 columns):\n",
      " #   Column        Non-Null Count   Dtype  \n",
      "---  ------        --------------   -----  \n",
      " 0   business_id   564245 non-null  object \n",
      " 1   name          564245 non-null  object \n",
      " 2   address       564245 non-null  object \n",
      " 3   city          564245 non-null  object \n",
      " 4   state         564245 non-null  object \n",
      " 5   postal_code   564245 non-null  object \n",
      " 6   latitude      564245 non-null  float64\n",
      " 7   longitude     564245 non-null  float64\n",
      " 8   stars         564245 non-null  float64\n",
      " 9   review_count  564245 non-null  int64  \n",
      " 10  attributes    563909 non-null  object \n",
      " 11  categories    564245 non-null  object \n",
      " 12  user_id       564245 non-null  object \n",
      " 13  review_stars  564245 non-null  int32  \n",
      " 14  useful        564245 non-null  int32  \n",
      " 15  text          564245 non-null  object \n",
      " 16  date          564245 non-null  object \n",
      "dtypes: float64(3), int32(2), int64(1), object(11)\n",
      "memory usage: 68.9+ MB\n"
     ]
    }
   ],
   "source": [
    "df.info()"
   ]
  },
  {
   "cell_type": "code",
   "execution_count": 44,
   "metadata": {},
   "outputs": [
    {
     "data": {
      "text/plain": [
       "McDonald's                                  19849\n",
       "Hash House A Go Go                          13004\n",
       "Chipotle Mexican Grill                      11188\n",
       "Bacchanal Buffet                            10417\n",
       "Mon Ami Gabi                                 9536\n",
       "                                            ...  \n",
       "Barro's Pizza                                3227\n",
       "Lazy Dog Restaurant & Bar                    3185\n",
       "The Habit Burger Grill                       3184\n",
       "Circus Circus Las Vegas Hotel and Casino     3110\n",
       "Pampas Las Vegas                             3098\n",
       "Name: name, Length: 110, dtype: int64"
      ]
     },
     "execution_count": 44,
     "metadata": {},
     "output_type": "execute_result"
    }
   ],
   "source": [
    "df['name'].value_counts()"
   ]
  },
  {
   "cell_type": "code",
   "execution_count": 49,
   "metadata": {},
   "outputs": [
    {
     "data": {
      "text/plain": [
       "1194.603063583374"
      ]
     },
     "execution_count": 49,
     "metadata": {},
     "output_type": "execute_result"
    }
   ],
   "source": [
    "df.memory_usage(deep=True).sum()/1024**2"
   ]
  },
  {
   "cell_type": "markdown",
   "metadata": {},
   "source": [
    "### Formulation of the Problem\n",
    "\n",
    "We'll treat the problem as a multi-class classification problem, where we have 3 classes:\n",
    "\n",
    "- Positive: corresponds to 4 & 5-star reviews\n",
    "\n",
    "- Negative: corresponds to 1 & 2-star reviews\n",
    "\n",
    "- Neutral: corresponds to 3-star reviews"
   ]
  },
  {
   "cell_type": "code",
   "execution_count": 50,
   "metadata": {},
   "outputs": [],
   "source": [
    "def star_to_sentiment(star_rating):\n",
    "    if star_rating > 3:\n",
    "        sentiment = 'Positive'\n",
    "    elif star_rating < 3:\n",
    "        sentiment = 'Negative'\n",
    "    else:\n",
    "        sentiment = 'Neutral'\n",
    "        \n",
    "    return sentiment"
   ]
  },
  {
   "cell_type": "code",
   "execution_count": 51,
   "metadata": {
    "jupyter": {
     "outputs_hidden": true
    }
   },
   "outputs": [],
   "source": [
    "df['sentiment'] = df['review_stars'].apply(star_to_sentiment)"
   ]
  },
  {
   "cell_type": "code",
   "execution_count": 52,
   "metadata": {},
   "outputs": [
    {
     "data": {
      "text/html": [
       "<div>\n",
       "<style scoped>\n",
       "    .dataframe tbody tr th:only-of-type {\n",
       "        vertical-align: middle;\n",
       "    }\n",
       "\n",
       "    .dataframe tbody tr th {\n",
       "        vertical-align: top;\n",
       "    }\n",
       "\n",
       "    .dataframe thead th {\n",
       "        text-align: right;\n",
       "    }\n",
       "</style>\n",
       "<table border=\"1\" class=\"dataframe\">\n",
       "  <thead>\n",
       "    <tr style=\"text-align: right;\">\n",
       "      <th></th>\n",
       "      <th>business_id</th>\n",
       "      <th>name</th>\n",
       "      <th>address</th>\n",
       "      <th>city</th>\n",
       "      <th>state</th>\n",
       "      <th>postal_code</th>\n",
       "      <th>latitude</th>\n",
       "      <th>longitude</th>\n",
       "      <th>stars</th>\n",
       "      <th>review_count</th>\n",
       "      <th>attributes</th>\n",
       "      <th>categories</th>\n",
       "      <th>user_id</th>\n",
       "      <th>review_stars</th>\n",
       "      <th>useful</th>\n",
       "      <th>text</th>\n",
       "      <th>date</th>\n",
       "      <th>sentiment</th>\n",
       "    </tr>\n",
       "  </thead>\n",
       "  <tbody>\n",
       "    <tr>\n",
       "      <th>0</th>\n",
       "      <td>MTx-Zdl_KcU_z9G832XAjg</td>\n",
       "      <td>Taco Bell</td>\n",
       "      <td>8033 N Durango Dr</td>\n",
       "      <td>Las Vegas</td>\n",
       "      <td>NV</td>\n",
       "      <td>89131</td>\n",
       "      <td>36.307495</td>\n",
       "      <td>-115.279059</td>\n",
       "      <td>2.5</td>\n",
       "      <td>37</td>\n",
       "      <td>{'OutdoorSeating': 'False', 'Alcohol': 'u'none...</td>\n",
       "      <td>Fast Food, Restaurants</td>\n",
       "      <td>OE5MNd5PVORXxcrHEoWPdA</td>\n",
       "      <td>1</td>\n",
       "      <td>1</td>\n",
       "      <td>Do not stop here if you are wanting fast food....</td>\n",
       "      <td>2016-07-04 21:04:10</td>\n",
       "      <td>Negative</td>\n",
       "    </tr>\n",
       "    <tr>\n",
       "      <th>1</th>\n",
       "      <td>MTx-Zdl_KcU_z9G832XAjg</td>\n",
       "      <td>Taco Bell</td>\n",
       "      <td>8033 N Durango Dr</td>\n",
       "      <td>Las Vegas</td>\n",
       "      <td>NV</td>\n",
       "      <td>89131</td>\n",
       "      <td>36.307495</td>\n",
       "      <td>-115.279059</td>\n",
       "      <td>2.5</td>\n",
       "      <td>37</td>\n",
       "      <td>{'OutdoorSeating': 'False', 'Alcohol': 'u'none...</td>\n",
       "      <td>Fast Food, Restaurants</td>\n",
       "      <td>z0O_MNIPTvwjw-YCjCM5rw</td>\n",
       "      <td>1</td>\n",
       "      <td>0</td>\n",
       "      <td>I was really irritated because i said no chees...</td>\n",
       "      <td>2018-05-20 08:12:21</td>\n",
       "      <td>Negative</td>\n",
       "    </tr>\n",
       "    <tr>\n",
       "      <th>2</th>\n",
       "      <td>MTx-Zdl_KcU_z9G832XAjg</td>\n",
       "      <td>Taco Bell</td>\n",
       "      <td>8033 N Durango Dr</td>\n",
       "      <td>Las Vegas</td>\n",
       "      <td>NV</td>\n",
       "      <td>89131</td>\n",
       "      <td>36.307495</td>\n",
       "      <td>-115.279059</td>\n",
       "      <td>2.5</td>\n",
       "      <td>37</td>\n",
       "      <td>{'OutdoorSeating': 'False', 'Alcohol': 'u'none...</td>\n",
       "      <td>Fast Food, Restaurants</td>\n",
       "      <td>7S2wwOSVSRn4CEZdtQKG_Q</td>\n",
       "      <td>4</td>\n",
       "      <td>3</td>\n",
       "      <td>\"Yo Quiero Taco Bell!\" \\n\\nFor a Taco Bell thi...</td>\n",
       "      <td>2014-05-12 00:45:44</td>\n",
       "      <td>Positive</td>\n",
       "    </tr>\n",
       "    <tr>\n",
       "      <th>3</th>\n",
       "      <td>ypILNgy7QFskKAdcPKB2RQ</td>\n",
       "      <td>KFC</td>\n",
       "      <td>1667 Ebenezer Rd</td>\n",
       "      <td>Rock Hill</td>\n",
       "      <td>SC</td>\n",
       "      <td>29732</td>\n",
       "      <td>34.956131</td>\n",
       "      <td>-81.046257</td>\n",
       "      <td>2.0</td>\n",
       "      <td>5</td>\n",
       "      <td>{'GoodForKids': 'True', 'WiFi': ''free'', 'Res...</td>\n",
       "      <td>Restaurants, Fast Food, Chicken Shop, Chicken ...</td>\n",
       "      <td>tDXj_pyGBFrQ9dj29uErBA</td>\n",
       "      <td>1</td>\n",
       "      <td>0</td>\n",
       "      <td>Ordered 2 large sides at drive up window. Got ...</td>\n",
       "      <td>2017-03-04 12:58:01</td>\n",
       "      <td>Negative</td>\n",
       "    </tr>\n",
       "    <tr>\n",
       "      <th>4</th>\n",
       "      <td>CfwrsG76Wm4iLS22v_wAcg</td>\n",
       "      <td>McDonald's</td>\n",
       "      <td>6421 Pearl Rd</td>\n",
       "      <td>Parma Heights</td>\n",
       "      <td>OH</td>\n",
       "      <td>44130</td>\n",
       "      <td>41.385949</td>\n",
       "      <td>-81.768113</td>\n",
       "      <td>2.5</td>\n",
       "      <td>15</td>\n",
       "      <td>{'Ambience': '{'romantic': False, 'intimate': ...</td>\n",
       "      <td>Restaurants, Coffee &amp; Tea, Burgers, Fast Food,...</td>\n",
       "      <td>VULFcmvS5-zp1wt-aokPwA</td>\n",
       "      <td>1</td>\n",
       "      <td>0</td>\n",
       "      <td>Try cleaning your play area once in a while. I...</td>\n",
       "      <td>2016-02-13 22:57:36</td>\n",
       "      <td>Negative</td>\n",
       "    </tr>\n",
       "  </tbody>\n",
       "</table>\n",
       "</div>"
      ],
      "text/plain": [
       "              business_id        name            address           city state  \\\n",
       "0  MTx-Zdl_KcU_z9G832XAjg   Taco Bell  8033 N Durango Dr      Las Vegas    NV   \n",
       "1  MTx-Zdl_KcU_z9G832XAjg   Taco Bell  8033 N Durango Dr      Las Vegas    NV   \n",
       "2  MTx-Zdl_KcU_z9G832XAjg   Taco Bell  8033 N Durango Dr      Las Vegas    NV   \n",
       "3  ypILNgy7QFskKAdcPKB2RQ         KFC   1667 Ebenezer Rd      Rock Hill    SC   \n",
       "4  CfwrsG76Wm4iLS22v_wAcg  McDonald's      6421 Pearl Rd  Parma Heights    OH   \n",
       "\n",
       "  postal_code   latitude   longitude  stars  review_count  \\\n",
       "0       89131  36.307495 -115.279059    2.5            37   \n",
       "1       89131  36.307495 -115.279059    2.5            37   \n",
       "2       89131  36.307495 -115.279059    2.5            37   \n",
       "3       29732  34.956131  -81.046257    2.0             5   \n",
       "4       44130  41.385949  -81.768113    2.5            15   \n",
       "\n",
       "                                          attributes  \\\n",
       "0  {'OutdoorSeating': 'False', 'Alcohol': 'u'none...   \n",
       "1  {'OutdoorSeating': 'False', 'Alcohol': 'u'none...   \n",
       "2  {'OutdoorSeating': 'False', 'Alcohol': 'u'none...   \n",
       "3  {'GoodForKids': 'True', 'WiFi': ''free'', 'Res...   \n",
       "4  {'Ambience': '{'romantic': False, 'intimate': ...   \n",
       "\n",
       "                                          categories                 user_id  \\\n",
       "0                             Fast Food, Restaurants  OE5MNd5PVORXxcrHEoWPdA   \n",
       "1                             Fast Food, Restaurants  z0O_MNIPTvwjw-YCjCM5rw   \n",
       "2                             Fast Food, Restaurants  7S2wwOSVSRn4CEZdtQKG_Q   \n",
       "3  Restaurants, Fast Food, Chicken Shop, Chicken ...  tDXj_pyGBFrQ9dj29uErBA   \n",
       "4  Restaurants, Coffee & Tea, Burgers, Fast Food,...  VULFcmvS5-zp1wt-aokPwA   \n",
       "\n",
       "   review_stars  useful                                               text  \\\n",
       "0             1       1  Do not stop here if you are wanting fast food....   \n",
       "1             1       0  I was really irritated because i said no chees...   \n",
       "2             4       3  \"Yo Quiero Taco Bell!\" \\n\\nFor a Taco Bell thi...   \n",
       "3             1       0  Ordered 2 large sides at drive up window. Got ...   \n",
       "4             1       0  Try cleaning your play area once in a while. I...   \n",
       "\n",
       "                  date sentiment  \n",
       "0  2016-07-04 21:04:10  Negative  \n",
       "1  2018-05-20 08:12:21  Negative  \n",
       "2  2014-05-12 00:45:44  Positive  \n",
       "3  2017-03-04 12:58:01  Negative  \n",
       "4  2016-02-13 22:57:36  Negative  "
      ]
     },
     "execution_count": 52,
     "metadata": {},
     "output_type": "execute_result"
    }
   ],
   "source": [
    "df.head()"
   ]
  },
  {
   "cell_type": "code",
   "execution_count": 53,
   "metadata": {},
   "outputs": [
    {
     "data": {
      "text/plain": [
       "{'OutdoorSeating': 'False',\n",
       " 'Alcohol': \"u'none'\",\n",
       " 'RestaurantsAttire': \"u'casual'\",\n",
       " 'BusinessAcceptsCreditCards': 'True',\n",
       " 'NoiseLevel': \"u'average'\",\n",
       " 'Ambience': \"{'romantic': False, 'intimate': False, 'touristy': False, 'hipster': False, 'divey': False, 'classy': False, 'trendy': False, 'upscale': False, 'casual': False}\",\n",
       " 'BusinessParking': \"{'garage': False, 'street': False, 'validated': False, 'lot': False, 'valet': False}\",\n",
       " 'RestaurantsReservations': 'False',\n",
       " 'RestaurantsTakeOut': 'True',\n",
       " 'RestaurantsPriceRange2': '1',\n",
       " 'WiFi': \"u'no'\",\n",
       " 'RestaurantsGoodForGroups': 'True',\n",
       " 'GoodForKids': 'True',\n",
       " 'RestaurantsDelivery': 'False',\n",
       " 'BikeParking': 'False',\n",
       " 'GoodForMeal': \"{'dessert': False, 'latenight': False, 'lunch': False, 'dinner': False, 'brunch': False, 'breakfast': False}\",\n",
       " 'DriveThru': 'True',\n",
       " 'Caters': 'False',\n",
       " 'HasTV': 'True',\n",
       " 'DogsAllowed': 'False'}"
      ]
     },
     "execution_count": 53,
     "metadata": {},
     "output_type": "execute_result"
    }
   ],
   "source": [
    "df['attributes'].iloc[0]"
   ]
  },
  {
   "cell_type": "code",
   "execution_count": 54,
   "metadata": {},
   "outputs": [],
   "source": [
    "if not os.path.isdir('data'):\n",
    "    os.path.makedirs('data')"
   ]
  },
  {
   "cell_type": "code",
   "execution_count": 55,
   "metadata": {},
   "outputs": [],
   "source": [
    "df.to_csv('data/data_clean_1.csv', index=False)"
   ]
  },
  {
   "cell_type": "code",
   "execution_count": 56,
   "metadata": {},
   "outputs": [],
   "source": [
    "df = pd.read_csv('data/data_clean_1.csv', parse_dates=['date'])"
   ]
  },
  {
   "cell_type": "code",
   "execution_count": 57,
   "metadata": {},
   "outputs": [
    {
     "name": "stdout",
     "output_type": "stream",
     "text": [
      "<class 'pandas.core.frame.DataFrame'>\n",
      "RangeIndex: 564245 entries, 0 to 564244\n",
      "Data columns (total 18 columns):\n",
      " #   Column        Non-Null Count   Dtype         \n",
      "---  ------        --------------   -----         \n",
      " 0   business_id   564245 non-null  object        \n",
      " 1   name          564245 non-null  object        \n",
      " 2   address       564245 non-null  object        \n",
      " 3   city          564245 non-null  object        \n",
      " 4   state         564245 non-null  object        \n",
      " 5   postal_code   564240 non-null  object        \n",
      " 6   latitude      564245 non-null  float64       \n",
      " 7   longitude     564245 non-null  float64       \n",
      " 8   stars         564245 non-null  float64       \n",
      " 9   review_count  564245 non-null  int64         \n",
      " 10  attributes    563909 non-null  object        \n",
      " 11  categories    564245 non-null  object        \n",
      " 12  user_id       564245 non-null  object        \n",
      " 13  review_stars  564245 non-null  int64         \n",
      " 14  useful        564245 non-null  int64         \n",
      " 15  text          564245 non-null  object        \n",
      " 16  date          564245 non-null  datetime64[ns]\n",
      " 17  sentiment     564245 non-null  object        \n",
      "dtypes: datetime64[ns](1), float64(3), int64(3), object(11)\n",
      "memory usage: 77.5+ MB\n"
     ]
    }
   ],
   "source": [
    "df.info()"
   ]
  },
  {
   "cell_type": "code",
   "execution_count": null,
   "metadata": {
    "jupyter": {
     "outputs_hidden": true
    }
   },
   "outputs": [],
   "source": []
  },
  {
   "cell_type": "code",
   "execution_count": null,
   "metadata": {
    "jupyter": {
     "outputs_hidden": true
    }
   },
   "outputs": [],
   "source": []
  }
 ],
 "metadata": {
  "anaconda-cloud": {},
  "kernelspec": {
   "display_name": "Python 3",
   "language": "python",
   "name": "python3"
  },
  "language_info": {
   "codemirror_mode": {
    "name": "ipython",
    "version": 3
   },
   "file_extension": ".py",
   "mimetype": "text/x-python",
   "name": "python",
   "nbconvert_exporter": "python",
   "pygments_lexer": "ipython3",
   "version": "3.7.6"
  },
  "toc": {
   "base_numbering": 1,
   "nav_menu": {},
   "number_sections": true,
   "sideBar": true,
   "skip_h1_title": false,
   "title_cell": "Table of Contents",
   "title_sidebar": "Contents",
   "toc_cell": false,
   "toc_position": {},
   "toc_section_display": "block",
   "toc_window_display": false
  }
 },
 "nbformat": 4,
 "nbformat_minor": 4
}
