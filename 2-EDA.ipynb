{
 "cells": [
  {
   "cell_type": "markdown",
   "metadata": {},
   "source": [
    "# (2) EDA"
   ]
  },
  {
   "cell_type": "code",
   "execution_count": 3,
   "metadata": {},
   "outputs": [
    {
     "data": {
      "text/html": [
       "        <script type=\"text/javascript\">\n",
       "        window.PlotlyConfig = {MathJaxConfig: 'local'};\n",
       "        if (window.MathJax) {MathJax.Hub.Config({SVG: {font: \"STIX-Web\"}});}\n",
       "        if (typeof require !== 'undefined') {\n",
       "        require.undef(\"plotly\");\n",
       "        requirejs.config({\n",
       "            paths: {\n",
       "                'plotly': ['https://cdn.plot.ly/plotly-latest.min']\n",
       "            }\n",
       "        });\n",
       "        require(['plotly'], function(Plotly) {\n",
       "            window._Plotly = Plotly;\n",
       "        });\n",
       "        }\n",
       "        </script>\n",
       "        "
      ]
     },
     "metadata": {},
     "output_type": "display_data"
    }
   ],
   "source": [
    "#plotly.offline doesn't push your charts to the clouds\n",
    "import plotly.offline as pyo\n",
    "#allows us to create the Data and Figure objects\n",
    "from plotly.graph_objs import *\n",
    "#plotly.plotly pushes your charts to the cloud  \n",
    "# import chart_studio.plotly as py\n",
    "import plotly.figure_factory as ff\n",
    "import plotly.express as px\n",
    "\n",
    "import matplotlib.pyplot as plt\n",
    "%matplotlib inline\n",
    "\n",
    "# import cufflings to easily plot pandas data frames\n",
    "import cufflinks as cf\n",
    "# work with cufflinks offline and set its theme\n",
    "import plotly.io as pio\n",
    "pio.templates.default = \"plotly_white\"\n",
    "\n",
    "cf.go_offline()\n",
    "cf.set_config_file(theme='white')\n",
    "\n",
    "import pandas as pd\n",
    "import numpy as np\n",
    "\n",
    "# from utils import *\n",
    "\n",
    "import os\n",
    "import json\n",
    "import re"
   ]
  },
  {
   "cell_type": "code",
   "execution_count": 4,
   "metadata": {},
   "outputs": [
    {
     "data": {
      "text/plain": [
       "['ggplot', 'pearl', 'solar', 'space', 'white', 'polar', 'henanigans']"
      ]
     },
     "execution_count": 4,
     "metadata": {},
     "output_type": "execute_result"
    }
   ],
   "source": [
    "cf.getThemes()"
   ]
  },
  {
   "cell_type": "code",
   "execution_count": null,
   "metadata": {},
   "outputs": [],
   "source": []
  },
  {
   "cell_type": "code",
   "execution_count": 5,
   "metadata": {},
   "outputs": [],
   "source": [
    "def print_full(x):\n",
    "    pd.set_option('display.max_colwidth', None)\n",
    "    return x\n",
    "\n",
    "def reset():\n",
    "    pd.reset_option('display.max_colwidth')"
   ]
  },
  {
   "cell_type": "code",
   "execution_count": 6,
   "metadata": {},
   "outputs": [],
   "source": [
    "# categoricals = ['business_id', 'business_name', 'year', 'month', 'day']\n",
    "\n",
    "# data_types = {col: 'category' for col in categoricals}\n",
    "# data_types.update({'stars': 'int16'})\n",
    " \n",
    "# data_types"
   ]
  },
  {
   "cell_type": "code",
   "execution_count": 9,
   "metadata": {},
   "outputs": [],
   "source": [
    "reviews_big = pd.read_hdf('data/reviews_big.h5', 'reviews_big').drop(['user_id', 'useful', 'funny', 'cool'], axis=1)"
   ]
  },
  {
   "cell_type": "code",
   "execution_count": 10,
   "metadata": {},
   "outputs": [
    {
     "name": "stdout",
     "output_type": "stream",
     "text": [
      "<class 'pandas.core.frame.DataFrame'>\n",
      "DatetimeIndex: 1231938 entries, 2016-05-28 to 2012-05-05\n",
      "Data columns (total 8 columns):\n",
      " #   Column         Non-Null Count    Dtype   \n",
      "---  ------         --------------    -----   \n",
      " 0   business_id    1231938 non-null  category\n",
      " 1   stars          1231938 non-null  int32   \n",
      " 2   text           1231938 non-null  object  \n",
      " 3   year           1231938 non-null  category\n",
      " 4   month          1231938 non-null  category\n",
      " 5   day            1231938 non-null  category\n",
      " 6   business_name  1231938 non-null  category\n",
      " 7   sentiment      1231938 non-null  category\n",
      "dtypes: category(6), int32(1), object(1)\n",
      "memory usage: 45.5+ MB\n"
     ]
    }
   ],
   "source": [
    "reviews_big.info()"
   ]
  },
  {
   "cell_type": "code",
   "execution_count": 11,
   "metadata": {},
   "outputs": [
    {
     "data": {
      "text/plain": [
       "818.8430728912354"
      ]
     },
     "execution_count": 11,
     "metadata": {},
     "output_type": "execute_result"
    }
   ],
   "source": [
    "reviews_big.memory_usage(deep=True).sum()/1024**2"
   ]
  },
  {
   "cell_type": "code",
   "execution_count": 12,
   "metadata": {},
   "outputs": [],
   "source": [
    "business_big = pd.read_hdf('data/business_big.h5', 'business_big')"
   ]
  },
  {
   "cell_type": "code",
   "execution_count": 13,
   "metadata": {},
   "outputs": [
    {
     "name": "stdout",
     "output_type": "stream",
     "text": [
      "<class 'pandas.core.frame.DataFrame'>\n",
      "Index: 11644 entries, lHYiCS-y8AFjUitv6MGpxg to pUhU5ohYv65g8B47dTXAKA\n",
      "Data columns (total 12 columns):\n",
      " #   Column        Non-Null Count  Dtype  \n",
      "---  ------        --------------  -----  \n",
      " 0   name          11644 non-null  object \n",
      " 1   neighborhood  3887 non-null   object \n",
      " 2   address       11644 non-null  object \n",
      " 3   city          11644 non-null  object \n",
      " 4   state         11644 non-null  object \n",
      " 5   postal_code   11636 non-null  object \n",
      " 6   latitude      11644 non-null  float64\n",
      " 7   longitude     11644 non-null  float64\n",
      " 8   stars         11644 non-null  float64\n",
      " 9   review_count  11644 non-null  int64  \n",
      " 10  is_open       11644 non-null  int64  \n",
      " 11  categories    11644 non-null  object \n",
      "dtypes: float64(3), int64(2), object(7)\n",
      "memory usage: 1.2+ MB\n"
     ]
    }
   ],
   "source": [
    "business_big.info()"
   ]
  },
  {
   "cell_type": "code",
   "execution_count": 14,
   "metadata": {},
   "outputs": [],
   "source": [
    "restaurants_big = pd.read_csv('data/restaurants_big.csv', index_col=0, header=None).iloc[:, 0]"
   ]
  },
  {
   "cell_type": "code",
   "execution_count": 15,
   "metadata": {},
   "outputs": [
    {
     "data": {
      "text/html": [
       "<div>\n",
       "<style scoped>\n",
       "    .dataframe tbody tr th:only-of-type {\n",
       "        vertical-align: middle;\n",
       "    }\n",
       "\n",
       "    .dataframe tbody tr th {\n",
       "        vertical-align: top;\n",
       "    }\n",
       "\n",
       "    .dataframe thead th {\n",
       "        text-align: right;\n",
       "    }\n",
       "</style>\n",
       "<table border=\"1\" class=\"dataframe\">\n",
       "  <thead>\n",
       "    <tr style=\"text-align: right;\">\n",
       "      <th></th>\n",
       "      <th>business_id</th>\n",
       "      <th>stars</th>\n",
       "      <th>text</th>\n",
       "      <th>year</th>\n",
       "      <th>month</th>\n",
       "      <th>day</th>\n",
       "      <th>business_name</th>\n",
       "      <th>sentiment</th>\n",
       "    </tr>\n",
       "    <tr>\n",
       "      <th>date</th>\n",
       "      <th></th>\n",
       "      <th></th>\n",
       "      <th></th>\n",
       "      <th></th>\n",
       "      <th></th>\n",
       "      <th></th>\n",
       "      <th></th>\n",
       "      <th></th>\n",
       "    </tr>\n",
       "  </thead>\n",
       "  <tbody>\n",
       "    <tr>\n",
       "      <th>2016-05-28</th>\n",
       "      <td>VR6GpWIda3SfvPC-lg9H3w</td>\n",
       "      <td>5</td>\n",
       "      <td>Small unassuming place that changes their menu...</td>\n",
       "      <td>2016</td>\n",
       "      <td>5</td>\n",
       "      <td>Sat</td>\n",
       "      <td>tuck shop</td>\n",
       "      <td>pos</td>\n",
       "    </tr>\n",
       "    <tr>\n",
       "      <th>2016-05-28</th>\n",
       "      <td>ACFtxLv8pGrrxMm6EgjreA</td>\n",
       "      <td>4</td>\n",
       "      <td>Love coming here. Yes the place always needs t...</td>\n",
       "      <td>2016</td>\n",
       "      <td>5</td>\n",
       "      <td>Sat</td>\n",
       "      <td>five guys</td>\n",
       "      <td>pos</td>\n",
       "    </tr>\n",
       "  </tbody>\n",
       "</table>\n",
       "</div>"
      ],
      "text/plain": [
       "                       business_id  stars  \\\n",
       "date                                        \n",
       "2016-05-28  VR6GpWIda3SfvPC-lg9H3w      5   \n",
       "2016-05-28  ACFtxLv8pGrrxMm6EgjreA      4   \n",
       "\n",
       "                                                         text  year month  \\\n",
       "date                                                                        \n",
       "2016-05-28  Small unassuming place that changes their menu...  2016     5   \n",
       "2016-05-28  Love coming here. Yes the place always needs t...  2016     5   \n",
       "\n",
       "            day business_name sentiment  \n",
       "date                                     \n",
       "2016-05-28  Sat     tuck shop       pos  \n",
       "2016-05-28  Sat     five guys       pos  "
      ]
     },
     "execution_count": 15,
     "metadata": {},
     "output_type": "execute_result"
    }
   ],
   "source": [
    "reviews_big.head(2)"
   ]
  },
  {
   "cell_type": "code",
   "execution_count": 16,
   "metadata": {},
   "outputs": [
    {
     "data": {
      "text/html": [
       "<div>\n",
       "<style scoped>\n",
       "    .dataframe tbody tr th:only-of-type {\n",
       "        vertical-align: middle;\n",
       "    }\n",
       "\n",
       "    .dataframe tbody tr th {\n",
       "        vertical-align: top;\n",
       "    }\n",
       "\n",
       "    .dataframe thead th {\n",
       "        text-align: right;\n",
       "    }\n",
       "</style>\n",
       "<table border=\"1\" class=\"dataframe\">\n",
       "  <thead>\n",
       "    <tr style=\"text-align: right;\">\n",
       "      <th></th>\n",
       "      <th>name</th>\n",
       "      <th>neighborhood</th>\n",
       "      <th>address</th>\n",
       "      <th>city</th>\n",
       "      <th>state</th>\n",
       "      <th>postal_code</th>\n",
       "      <th>latitude</th>\n",
       "      <th>longitude</th>\n",
       "      <th>stars</th>\n",
       "      <th>review_count</th>\n",
       "      <th>is_open</th>\n",
       "      <th>categories</th>\n",
       "    </tr>\n",
       "    <tr>\n",
       "      <th>business_id</th>\n",
       "      <th></th>\n",
       "      <th></th>\n",
       "      <th></th>\n",
       "      <th></th>\n",
       "      <th></th>\n",
       "      <th></th>\n",
       "      <th></th>\n",
       "      <th></th>\n",
       "      <th></th>\n",
       "      <th></th>\n",
       "      <th></th>\n",
       "      <th></th>\n",
       "    </tr>\n",
       "  </thead>\n",
       "  <tbody>\n",
       "    <tr>\n",
       "      <th>lHYiCS-y8AFjUitv6MGpxg</th>\n",
       "      <td>starbucks</td>\n",
       "      <td>Liberty Village</td>\n",
       "      <td>\"85 Hanna Avenue\"</td>\n",
       "      <td>Toronto</td>\n",
       "      <td>ON</td>\n",
       "      <td>M6K 3S3</td>\n",
       "      <td>43.639863</td>\n",
       "      <td>-79.419533</td>\n",
       "      <td>4.0</td>\n",
       "      <td>21</td>\n",
       "      <td>1</td>\n",
       "      <td>Food;Coffee &amp; Tea</td>\n",
       "    </tr>\n",
       "    <tr>\n",
       "      <th>Dj0S-Oe4ytRJzMGUPgYUkw</th>\n",
       "      <td>panera bread</td>\n",
       "      <td>NaN</td>\n",
       "      <td>\"38295 Chestnut Ridge Rd\"</td>\n",
       "      <td>Elyria</td>\n",
       "      <td>OH</td>\n",
       "      <td>44035</td>\n",
       "      <td>41.343078</td>\n",
       "      <td>-82.067140</td>\n",
       "      <td>2.0</td>\n",
       "      <td>4</td>\n",
       "      <td>1</td>\n",
       "      <td>Soup;Salad;Sandwiches;Restaurants</td>\n",
       "    </tr>\n",
       "  </tbody>\n",
       "</table>\n",
       "</div>"
      ],
      "text/plain": [
       "                                name     neighborhood  \\\n",
       "business_id                                             \n",
       "lHYiCS-y8AFjUitv6MGpxg     starbucks  Liberty Village   \n",
       "Dj0S-Oe4ytRJzMGUPgYUkw  panera bread              NaN   \n",
       "\n",
       "                                          address     city state postal_code  \\\n",
       "business_id                                                                    \n",
       "lHYiCS-y8AFjUitv6MGpxg          \"85 Hanna Avenue\"  Toronto    ON     M6K 3S3   \n",
       "Dj0S-Oe4ytRJzMGUPgYUkw  \"38295 Chestnut Ridge Rd\"   Elyria    OH       44035   \n",
       "\n",
       "                         latitude  longitude  stars  review_count  is_open  \\\n",
       "business_id                                                                  \n",
       "lHYiCS-y8AFjUitv6MGpxg  43.639863 -79.419533    4.0            21        1   \n",
       "Dj0S-Oe4ytRJzMGUPgYUkw  41.343078 -82.067140    2.0             4        1   \n",
       "\n",
       "                                               categories  \n",
       "business_id                                                \n",
       "lHYiCS-y8AFjUitv6MGpxg                  Food;Coffee & Tea  \n",
       "Dj0S-Oe4ytRJzMGUPgYUkw  Soup;Salad;Sandwiches;Restaurants  "
      ]
     },
     "execution_count": 16,
     "metadata": {},
     "output_type": "execute_result"
    }
   ],
   "source": [
    "business_big.head(2)"
   ]
  },
  {
   "cell_type": "code",
   "execution_count": 17,
   "metadata": {},
   "outputs": [
    {
     "data": {
      "text/plain": [
       "0\n",
       "NaN                   business_name\n",
       "mcdonalds                     10323\n",
       "hash house a go go             9840\n",
       "Name: 1, dtype: object"
      ]
     },
     "execution_count": 17,
     "metadata": {},
     "output_type": "execute_result"
    }
   ],
   "source": [
    "restaurants_big.head(3)"
   ]
  },
  {
   "cell_type": "code",
   "execution_count": null,
   "metadata": {},
   "outputs": [],
   "source": []
  },
  {
   "cell_type": "markdown",
   "metadata": {},
   "source": [
    "### Exploratory Data Analysis"
   ]
  },
  {
   "cell_type": "code",
   "execution_count": 34,
   "metadata": {},
   "outputs": [],
   "source": [
    "df_sample = reviews_big.groupby('sentiment', group_keys=False).apply(lambda g: g.sample(frac=0.25))"
   ]
  },
  {
   "cell_type": "code",
   "execution_count": 35,
   "metadata": {},
   "outputs": [],
   "source": [
    "df_sample['text_length'] = df_sample['text'].apply(lambda text: len(text.split()))"
   ]
  },
  {
   "cell_type": "code",
   "execution_count": 50,
   "metadata": {},
   "outputs": [
    {
     "data": {
      "text/plain": [
       "125.0"
      ]
     },
     "execution_count": 50,
     "metadata": {},
     "output_type": "execute_result"
    }
   ],
   "source": [
    "(df_sample['text_length']\n",
    " .quantile(0.7)) "
   ]
  },
  {
   "cell_type": "code",
   "execution_count": null,
   "metadata": {},
   "outputs": [],
   "source": [
    "8732/60/60"
   ]
  },
  {
   "cell_type": "code",
   "execution_count": 45,
   "metadata": {},
   "outputs": [
    {
     "data": {
      "text/plain": [
       "304960"
      ]
     },
     "execution_count": 45,
     "metadata": {},
     "output_type": "execute_result"
    }
   ],
   "source": [
    "4765*64"
   ]
  },
  {
   "cell_type": "code",
   "execution_count": 41,
   "metadata": {},
   "outputs": [
    {
     "data": {
      "text/plain": [
       "date\n",
       "2013-08-03     (78.0, 142.0]\n",
       "2013-03-18     (78.0, 142.0]\n",
       "2017-08-04     (78.0, 142.0]\n",
       "2017-07-15      (42.0, 78.0]\n",
       "2015-04-16     (78.0, 142.0]\n",
       "                   ...      \n",
       "2016-04-06     (0.999, 42.0]\n",
       "2016-10-08    (234.0, 308.0]\n",
       "2011-08-20     (0.999, 42.0]\n",
       "2017-09-14     (0.999, 42.0]\n",
       "2016-06-06     (0.999, 42.0]\n",
       "Name: text_length, Length: 307984, dtype: category\n",
       "Categories (6, interval[float64]): [(0.999, 42.0] < (42.0, 78.0] < (78.0, 142.0] < (142.0, 234.0] < (234.0, 308.0] < (308.0, 507.0]]"
      ]
     },
     "execution_count": 41,
     "metadata": {},
     "output_type": "execute_result"
    }
   ],
   "source": [
    "pd.qcut(df_sample['text_length'], [0.0, 0.25, 0.5, 0.75, 0.9, 0.95, 0.99])"
   ]
  },
  {
   "cell_type": "markdown",
   "metadata": {},
   "source": [
    "#### Sentiment overall Distribution"
   ]
  },
  {
   "cell_type": "code",
   "execution_count": 14,
   "metadata": {},
   "outputs": [
    {
     "data": {
      "application/vnd.plotly.v1+json": {
       "config": {
        "linkText": "Export to plot.ly",
        "plotlyServerURL": "https://plot.ly",
        "showLink": true
       },
       "data": [
        {
         "marker": {
          "color": "rgba(255, 153, 51, 0.6)",
          "line": {
           "color": "rgba(255, 153, 51, 1.0)",
           "width": 1
          }
         },
         "name": "sentiment",
         "orientation": "v",
         "text": "",
         "type": "bar",
         "x": [
          "pos",
          "neg",
          "neu"
         ],
         "y": [
          0.6462183973544123,
          0.21747523008463088,
          0.1363063725609568
         ]
        }
       ],
       "layout": {
        "template": {
         "data": {
          "bar": [
           {
            "error_x": {
             "color": "#2a3f5f"
            },
            "error_y": {
             "color": "#2a3f5f"
            },
            "marker": {
             "line": {
              "color": "white",
              "width": 0.5
             }
            },
            "type": "bar"
           }
          ],
          "barpolar": [
           {
            "marker": {
             "line": {
              "color": "white",
              "width": 0.5
             }
            },
            "type": "barpolar"
           }
          ],
          "carpet": [
           {
            "aaxis": {
             "endlinecolor": "#2a3f5f",
             "gridcolor": "#C8D4E3",
             "linecolor": "#C8D4E3",
             "minorgridcolor": "#C8D4E3",
             "startlinecolor": "#2a3f5f"
            },
            "baxis": {
             "endlinecolor": "#2a3f5f",
             "gridcolor": "#C8D4E3",
             "linecolor": "#C8D4E3",
             "minorgridcolor": "#C8D4E3",
             "startlinecolor": "#2a3f5f"
            },
            "type": "carpet"
           }
          ],
          "choropleth": [
           {
            "colorbar": {
             "outlinewidth": 0,
             "ticks": ""
            },
            "type": "choropleth"
           }
          ],
          "contour": [
           {
            "colorbar": {
             "outlinewidth": 0,
             "ticks": ""
            },
            "colorscale": [
             [
              0,
              "#0d0887"
             ],
             [
              0.1111111111111111,
              "#46039f"
             ],
             [
              0.2222222222222222,
              "#7201a8"
             ],
             [
              0.3333333333333333,
              "#9c179e"
             ],
             [
              0.4444444444444444,
              "#bd3786"
             ],
             [
              0.5555555555555556,
              "#d8576b"
             ],
             [
              0.6666666666666666,
              "#ed7953"
             ],
             [
              0.7777777777777778,
              "#fb9f3a"
             ],
             [
              0.8888888888888888,
              "#fdca26"
             ],
             [
              1,
              "#f0f921"
             ]
            ],
            "type": "contour"
           }
          ],
          "contourcarpet": [
           {
            "colorbar": {
             "outlinewidth": 0,
             "ticks": ""
            },
            "type": "contourcarpet"
           }
          ],
          "heatmap": [
           {
            "colorbar": {
             "outlinewidth": 0,
             "ticks": ""
            },
            "colorscale": [
             [
              0,
              "#0d0887"
             ],
             [
              0.1111111111111111,
              "#46039f"
             ],
             [
              0.2222222222222222,
              "#7201a8"
             ],
             [
              0.3333333333333333,
              "#9c179e"
             ],
             [
              0.4444444444444444,
              "#bd3786"
             ],
             [
              0.5555555555555556,
              "#d8576b"
             ],
             [
              0.6666666666666666,
              "#ed7953"
             ],
             [
              0.7777777777777778,
              "#fb9f3a"
             ],
             [
              0.8888888888888888,
              "#fdca26"
             ],
             [
              1,
              "#f0f921"
             ]
            ],
            "type": "heatmap"
           }
          ],
          "heatmapgl": [
           {
            "colorbar": {
             "outlinewidth": 0,
             "ticks": ""
            },
            "colorscale": [
             [
              0,
              "#0d0887"
             ],
             [
              0.1111111111111111,
              "#46039f"
             ],
             [
              0.2222222222222222,
              "#7201a8"
             ],
             [
              0.3333333333333333,
              "#9c179e"
             ],
             [
              0.4444444444444444,
              "#bd3786"
             ],
             [
              0.5555555555555556,
              "#d8576b"
             ],
             [
              0.6666666666666666,
              "#ed7953"
             ],
             [
              0.7777777777777778,
              "#fb9f3a"
             ],
             [
              0.8888888888888888,
              "#fdca26"
             ],
             [
              1,
              "#f0f921"
             ]
            ],
            "type": "heatmapgl"
           }
          ],
          "histogram": [
           {
            "marker": {
             "colorbar": {
              "outlinewidth": 0,
              "ticks": ""
             }
            },
            "type": "histogram"
           }
          ],
          "histogram2d": [
           {
            "colorbar": {
             "outlinewidth": 0,
             "ticks": ""
            },
            "colorscale": [
             [
              0,
              "#0d0887"
             ],
             [
              0.1111111111111111,
              "#46039f"
             ],
             [
              0.2222222222222222,
              "#7201a8"
             ],
             [
              0.3333333333333333,
              "#9c179e"
             ],
             [
              0.4444444444444444,
              "#bd3786"
             ],
             [
              0.5555555555555556,
              "#d8576b"
             ],
             [
              0.6666666666666666,
              "#ed7953"
             ],
             [
              0.7777777777777778,
              "#fb9f3a"
             ],
             [
              0.8888888888888888,
              "#fdca26"
             ],
             [
              1,
              "#f0f921"
             ]
            ],
            "type": "histogram2d"
           }
          ],
          "histogram2dcontour": [
           {
            "colorbar": {
             "outlinewidth": 0,
             "ticks": ""
            },
            "colorscale": [
             [
              0,
              "#0d0887"
             ],
             [
              0.1111111111111111,
              "#46039f"
             ],
             [
              0.2222222222222222,
              "#7201a8"
             ],
             [
              0.3333333333333333,
              "#9c179e"
             ],
             [
              0.4444444444444444,
              "#bd3786"
             ],
             [
              0.5555555555555556,
              "#d8576b"
             ],
             [
              0.6666666666666666,
              "#ed7953"
             ],
             [
              0.7777777777777778,
              "#fb9f3a"
             ],
             [
              0.8888888888888888,
              "#fdca26"
             ],
             [
              1,
              "#f0f921"
             ]
            ],
            "type": "histogram2dcontour"
           }
          ],
          "mesh3d": [
           {
            "colorbar": {
             "outlinewidth": 0,
             "ticks": ""
            },
            "type": "mesh3d"
           }
          ],
          "parcoords": [
           {
            "line": {
             "colorbar": {
              "outlinewidth": 0,
              "ticks": ""
             }
            },
            "type": "parcoords"
           }
          ],
          "pie": [
           {
            "automargin": true,
            "type": "pie"
           }
          ],
          "scatter": [
           {
            "marker": {
             "colorbar": {
              "outlinewidth": 0,
              "ticks": ""
             }
            },
            "type": "scatter"
           }
          ],
          "scatter3d": [
           {
            "line": {
             "colorbar": {
              "outlinewidth": 0,
              "ticks": ""
             }
            },
            "marker": {
             "colorbar": {
              "outlinewidth": 0,
              "ticks": ""
             }
            },
            "type": "scatter3d"
           }
          ],
          "scattercarpet": [
           {
            "marker": {
             "colorbar": {
              "outlinewidth": 0,
              "ticks": ""
             }
            },
            "type": "scattercarpet"
           }
          ],
          "scattergeo": [
           {
            "marker": {
             "colorbar": {
              "outlinewidth": 0,
              "ticks": ""
             }
            },
            "type": "scattergeo"
           }
          ],
          "scattergl": [
           {
            "marker": {
             "colorbar": {
              "outlinewidth": 0,
              "ticks": ""
             }
            },
            "type": "scattergl"
           }
          ],
          "scattermapbox": [
           {
            "marker": {
             "colorbar": {
              "outlinewidth": 0,
              "ticks": ""
             }
            },
            "type": "scattermapbox"
           }
          ],
          "scatterpolar": [
           {
            "marker": {
             "colorbar": {
              "outlinewidth": 0,
              "ticks": ""
             }
            },
            "type": "scatterpolar"
           }
          ],
          "scatterpolargl": [
           {
            "marker": {
             "colorbar": {
              "outlinewidth": 0,
              "ticks": ""
             }
            },
            "type": "scatterpolargl"
           }
          ],
          "scatterternary": [
           {
            "marker": {
             "colorbar": {
              "outlinewidth": 0,
              "ticks": ""
             }
            },
            "type": "scatterternary"
           }
          ],
          "surface": [
           {
            "colorbar": {
             "outlinewidth": 0,
             "ticks": ""
            },
            "colorscale": [
             [
              0,
              "#0d0887"
             ],
             [
              0.1111111111111111,
              "#46039f"
             ],
             [
              0.2222222222222222,
              "#7201a8"
             ],
             [
              0.3333333333333333,
              "#9c179e"
             ],
             [
              0.4444444444444444,
              "#bd3786"
             ],
             [
              0.5555555555555556,
              "#d8576b"
             ],
             [
              0.6666666666666666,
              "#ed7953"
             ],
             [
              0.7777777777777778,
              "#fb9f3a"
             ],
             [
              0.8888888888888888,
              "#fdca26"
             ],
             [
              1,
              "#f0f921"
             ]
            ],
            "type": "surface"
           }
          ],
          "table": [
           {
            "cells": {
             "fill": {
              "color": "#EBF0F8"
             },
             "line": {
              "color": "white"
             }
            },
            "header": {
             "fill": {
              "color": "#C8D4E3"
             },
             "line": {
              "color": "white"
             }
            },
            "type": "table"
           }
          ]
         },
         "layout": {
          "annotationdefaults": {
           "arrowcolor": "#2a3f5f",
           "arrowhead": 0,
           "arrowwidth": 1
          },
          "coloraxis": {
           "colorbar": {
            "outlinewidth": 0,
            "ticks": ""
           }
          },
          "colorscale": {
           "diverging": [
            [
             0,
             "#8e0152"
            ],
            [
             0.1,
             "#c51b7d"
            ],
            [
             0.2,
             "#de77ae"
            ],
            [
             0.3,
             "#f1b6da"
            ],
            [
             0.4,
             "#fde0ef"
            ],
            [
             0.5,
             "#f7f7f7"
            ],
            [
             0.6,
             "#e6f5d0"
            ],
            [
             0.7,
             "#b8e186"
            ],
            [
             0.8,
             "#7fbc41"
            ],
            [
             0.9,
             "#4d9221"
            ],
            [
             1,
             "#276419"
            ]
           ],
           "sequential": [
            [
             0,
             "#0d0887"
            ],
            [
             0.1111111111111111,
             "#46039f"
            ],
            [
             0.2222222222222222,
             "#7201a8"
            ],
            [
             0.3333333333333333,
             "#9c179e"
            ],
            [
             0.4444444444444444,
             "#bd3786"
            ],
            [
             0.5555555555555556,
             "#d8576b"
            ],
            [
             0.6666666666666666,
             "#ed7953"
            ],
            [
             0.7777777777777778,
             "#fb9f3a"
            ],
            [
             0.8888888888888888,
             "#fdca26"
            ],
            [
             1,
             "#f0f921"
            ]
           ],
           "sequentialminus": [
            [
             0,
             "#0d0887"
            ],
            [
             0.1111111111111111,
             "#46039f"
            ],
            [
             0.2222222222222222,
             "#7201a8"
            ],
            [
             0.3333333333333333,
             "#9c179e"
            ],
            [
             0.4444444444444444,
             "#bd3786"
            ],
            [
             0.5555555555555556,
             "#d8576b"
            ],
            [
             0.6666666666666666,
             "#ed7953"
            ],
            [
             0.7777777777777778,
             "#fb9f3a"
            ],
            [
             0.8888888888888888,
             "#fdca26"
            ],
            [
             1,
             "#f0f921"
            ]
           ]
          },
          "colorway": [
           "#636efa",
           "#EF553B",
           "#00cc96",
           "#ab63fa",
           "#FFA15A",
           "#19d3f3",
           "#FF6692",
           "#B6E880",
           "#FF97FF",
           "#FECB52"
          ],
          "font": {
           "color": "#2a3f5f"
          },
          "geo": {
           "bgcolor": "white",
           "lakecolor": "white",
           "landcolor": "white",
           "showlakes": true,
           "showland": true,
           "subunitcolor": "#C8D4E3"
          },
          "hoverlabel": {
           "align": "left"
          },
          "hovermode": "closest",
          "mapbox": {
           "style": "light"
          },
          "paper_bgcolor": "white",
          "plot_bgcolor": "white",
          "polar": {
           "angularaxis": {
            "gridcolor": "#EBF0F8",
            "linecolor": "#EBF0F8",
            "ticks": ""
           },
           "bgcolor": "white",
           "radialaxis": {
            "gridcolor": "#EBF0F8",
            "linecolor": "#EBF0F8",
            "ticks": ""
           }
          },
          "scene": {
           "xaxis": {
            "backgroundcolor": "white",
            "gridcolor": "#DFE8F3",
            "gridwidth": 2,
            "linecolor": "#EBF0F8",
            "showbackground": true,
            "ticks": "",
            "zerolinecolor": "#EBF0F8"
           },
           "yaxis": {
            "backgroundcolor": "white",
            "gridcolor": "#DFE8F3",
            "gridwidth": 2,
            "linecolor": "#EBF0F8",
            "showbackground": true,
            "ticks": "",
            "zerolinecolor": "#EBF0F8"
           },
           "zaxis": {
            "backgroundcolor": "white",
            "gridcolor": "#DFE8F3",
            "gridwidth": 2,
            "linecolor": "#EBF0F8",
            "showbackground": true,
            "ticks": "",
            "zerolinecolor": "#EBF0F8"
           }
          },
          "shapedefaults": {
           "line": {
            "color": "#2a3f5f"
           }
          },
          "ternary": {
           "aaxis": {
            "gridcolor": "#DFE8F3",
            "linecolor": "#A2B1C6",
            "ticks": ""
           },
           "baxis": {
            "gridcolor": "#DFE8F3",
            "linecolor": "#A2B1C6",
            "ticks": ""
           },
           "bgcolor": "white",
           "caxis": {
            "gridcolor": "#DFE8F3",
            "linecolor": "#A2B1C6",
            "ticks": ""
           }
          },
          "title": {
           "x": 0.05
          },
          "xaxis": {
           "automargin": true,
           "gridcolor": "#EBF0F8",
           "linecolor": "#EBF0F8",
           "ticks": "",
           "title": {
            "standoff": 15
           },
           "zerolinecolor": "#EBF0F8",
           "zerolinewidth": 2
          },
          "yaxis": {
           "automargin": true,
           "gridcolor": "#EBF0F8",
           "linecolor": "#EBF0F8",
           "ticks": "",
           "title": {
            "standoff": 15
           },
           "zerolinecolor": "#EBF0F8",
           "zerolinewidth": 2
          }
         }
        },
        "title": {
         "text": "Sentiment Distribution"
        },
        "width": 550,
        "yaxis": {
         "tickformat": "%"
        }
       }
      },
      "text/html": [
       "<div>\n",
       "        \n",
       "        \n",
       "            <div id=\"4ceae2f9-9ac6-400a-9a00-924aef4656ee\" class=\"plotly-graph-div\" style=\"height:525px; width:550px;\"></div>\n",
       "            <script type=\"text/javascript\">\n",
       "                require([\"plotly\"], function(Plotly) {\n",
       "                    window.PLOTLYENV=window.PLOTLYENV || {};\n",
       "                    window.PLOTLYENV.BASE_URL='https://plot.ly';\n",
       "                    \n",
       "                if (document.getElementById(\"4ceae2f9-9ac6-400a-9a00-924aef4656ee\")) {\n",
       "                    Plotly.newPlot(\n",
       "                        '4ceae2f9-9ac6-400a-9a00-924aef4656ee',\n",
       "                        [{\"marker\": {\"color\": \"rgba(255, 153, 51, 0.6)\", \"line\": {\"color\": \"rgba(255, 153, 51, 1.0)\", \"width\": 1}}, \"name\": \"sentiment\", \"orientation\": \"v\", \"text\": \"\", \"type\": \"bar\", \"x\": [\"pos\", \"neg\", \"neu\"], \"y\": [0.6462183973544123, 0.21747523008463088, 0.1363063725609568]}],\n",
       "                        {\"template\": {\"data\": {\"bar\": [{\"error_x\": {\"color\": \"#2a3f5f\"}, \"error_y\": {\"color\": \"#2a3f5f\"}, \"marker\": {\"line\": {\"color\": \"white\", \"width\": 0.5}}, \"type\": \"bar\"}], \"barpolar\": [{\"marker\": {\"line\": {\"color\": \"white\", \"width\": 0.5}}, \"type\": \"barpolar\"}], \"carpet\": [{\"aaxis\": {\"endlinecolor\": \"#2a3f5f\", \"gridcolor\": \"#C8D4E3\", \"linecolor\": \"#C8D4E3\", \"minorgridcolor\": \"#C8D4E3\", \"startlinecolor\": \"#2a3f5f\"}, \"baxis\": {\"endlinecolor\": \"#2a3f5f\", \"gridcolor\": \"#C8D4E3\", \"linecolor\": \"#C8D4E3\", \"minorgridcolor\": \"#C8D4E3\", \"startlinecolor\": \"#2a3f5f\"}, \"type\": \"carpet\"}], \"choropleth\": [{\"colorbar\": {\"outlinewidth\": 0, \"ticks\": \"\"}, \"type\": \"choropleth\"}], \"contour\": [{\"colorbar\": {\"outlinewidth\": 0, \"ticks\": \"\"}, \"colorscale\": [[0.0, \"#0d0887\"], [0.1111111111111111, \"#46039f\"], [0.2222222222222222, \"#7201a8\"], [0.3333333333333333, \"#9c179e\"], [0.4444444444444444, \"#bd3786\"], [0.5555555555555556, \"#d8576b\"], [0.6666666666666666, \"#ed7953\"], [0.7777777777777778, \"#fb9f3a\"], [0.8888888888888888, \"#fdca26\"], [1.0, \"#f0f921\"]], \"type\": \"contour\"}], \"contourcarpet\": [{\"colorbar\": {\"outlinewidth\": 0, \"ticks\": \"\"}, \"type\": \"contourcarpet\"}], \"heatmap\": [{\"colorbar\": {\"outlinewidth\": 0, \"ticks\": \"\"}, \"colorscale\": [[0.0, \"#0d0887\"], [0.1111111111111111, \"#46039f\"], [0.2222222222222222, \"#7201a8\"], [0.3333333333333333, \"#9c179e\"], [0.4444444444444444, \"#bd3786\"], [0.5555555555555556, \"#d8576b\"], [0.6666666666666666, \"#ed7953\"], [0.7777777777777778, \"#fb9f3a\"], [0.8888888888888888, \"#fdca26\"], [1.0, \"#f0f921\"]], \"type\": \"heatmap\"}], \"heatmapgl\": [{\"colorbar\": {\"outlinewidth\": 0, \"ticks\": \"\"}, \"colorscale\": [[0.0, \"#0d0887\"], [0.1111111111111111, \"#46039f\"], [0.2222222222222222, \"#7201a8\"], [0.3333333333333333, \"#9c179e\"], [0.4444444444444444, \"#bd3786\"], [0.5555555555555556, \"#d8576b\"], [0.6666666666666666, \"#ed7953\"], [0.7777777777777778, \"#fb9f3a\"], [0.8888888888888888, \"#fdca26\"], [1.0, \"#f0f921\"]], \"type\": \"heatmapgl\"}], \"histogram\": [{\"marker\": {\"colorbar\": {\"outlinewidth\": 0, \"ticks\": \"\"}}, \"type\": \"histogram\"}], \"histogram2d\": [{\"colorbar\": {\"outlinewidth\": 0, \"ticks\": \"\"}, \"colorscale\": [[0.0, \"#0d0887\"], [0.1111111111111111, \"#46039f\"], [0.2222222222222222, \"#7201a8\"], [0.3333333333333333, \"#9c179e\"], [0.4444444444444444, \"#bd3786\"], [0.5555555555555556, \"#d8576b\"], [0.6666666666666666, \"#ed7953\"], [0.7777777777777778, \"#fb9f3a\"], [0.8888888888888888, \"#fdca26\"], [1.0, \"#f0f921\"]], \"type\": \"histogram2d\"}], \"histogram2dcontour\": [{\"colorbar\": {\"outlinewidth\": 0, \"ticks\": \"\"}, \"colorscale\": [[0.0, \"#0d0887\"], [0.1111111111111111, \"#46039f\"], [0.2222222222222222, \"#7201a8\"], [0.3333333333333333, \"#9c179e\"], [0.4444444444444444, \"#bd3786\"], [0.5555555555555556, \"#d8576b\"], [0.6666666666666666, \"#ed7953\"], [0.7777777777777778, \"#fb9f3a\"], [0.8888888888888888, \"#fdca26\"], [1.0, \"#f0f921\"]], \"type\": \"histogram2dcontour\"}], \"mesh3d\": [{\"colorbar\": {\"outlinewidth\": 0, \"ticks\": \"\"}, \"type\": \"mesh3d\"}], \"parcoords\": [{\"line\": {\"colorbar\": {\"outlinewidth\": 0, \"ticks\": \"\"}}, \"type\": \"parcoords\"}], \"pie\": [{\"automargin\": true, \"type\": \"pie\"}], \"scatter\": [{\"marker\": {\"colorbar\": {\"outlinewidth\": 0, \"ticks\": \"\"}}, \"type\": \"scatter\"}], \"scatter3d\": [{\"line\": {\"colorbar\": {\"outlinewidth\": 0, \"ticks\": \"\"}}, \"marker\": {\"colorbar\": {\"outlinewidth\": 0, \"ticks\": \"\"}}, \"type\": \"scatter3d\"}], \"scattercarpet\": [{\"marker\": {\"colorbar\": {\"outlinewidth\": 0, \"ticks\": \"\"}}, \"type\": \"scattercarpet\"}], \"scattergeo\": [{\"marker\": {\"colorbar\": {\"outlinewidth\": 0, \"ticks\": \"\"}}, \"type\": \"scattergeo\"}], \"scattergl\": [{\"marker\": {\"colorbar\": {\"outlinewidth\": 0, \"ticks\": \"\"}}, \"type\": \"scattergl\"}], \"scattermapbox\": [{\"marker\": {\"colorbar\": {\"outlinewidth\": 0, \"ticks\": \"\"}}, \"type\": \"scattermapbox\"}], \"scatterpolar\": [{\"marker\": {\"colorbar\": {\"outlinewidth\": 0, \"ticks\": \"\"}}, \"type\": \"scatterpolar\"}], \"scatterpolargl\": [{\"marker\": {\"colorbar\": {\"outlinewidth\": 0, \"ticks\": \"\"}}, \"type\": \"scatterpolargl\"}], \"scatterternary\": [{\"marker\": {\"colorbar\": {\"outlinewidth\": 0, \"ticks\": \"\"}}, \"type\": \"scatterternary\"}], \"surface\": [{\"colorbar\": {\"outlinewidth\": 0, \"ticks\": \"\"}, \"colorscale\": [[0.0, \"#0d0887\"], [0.1111111111111111, \"#46039f\"], [0.2222222222222222, \"#7201a8\"], [0.3333333333333333, \"#9c179e\"], [0.4444444444444444, \"#bd3786\"], [0.5555555555555556, \"#d8576b\"], [0.6666666666666666, \"#ed7953\"], [0.7777777777777778, \"#fb9f3a\"], [0.8888888888888888, \"#fdca26\"], [1.0, \"#f0f921\"]], \"type\": \"surface\"}], \"table\": [{\"cells\": {\"fill\": {\"color\": \"#EBF0F8\"}, \"line\": {\"color\": \"white\"}}, \"header\": {\"fill\": {\"color\": \"#C8D4E3\"}, \"line\": {\"color\": \"white\"}}, \"type\": \"table\"}]}, \"layout\": {\"annotationdefaults\": {\"arrowcolor\": \"#2a3f5f\", \"arrowhead\": 0, \"arrowwidth\": 1}, \"coloraxis\": {\"colorbar\": {\"outlinewidth\": 0, \"ticks\": \"\"}}, \"colorscale\": {\"diverging\": [[0, \"#8e0152\"], [0.1, \"#c51b7d\"], [0.2, \"#de77ae\"], [0.3, \"#f1b6da\"], [0.4, \"#fde0ef\"], [0.5, \"#f7f7f7\"], [0.6, \"#e6f5d0\"], [0.7, \"#b8e186\"], [0.8, \"#7fbc41\"], [0.9, \"#4d9221\"], [1, \"#276419\"]], \"sequential\": [[0.0, \"#0d0887\"], [0.1111111111111111, \"#46039f\"], [0.2222222222222222, \"#7201a8\"], [0.3333333333333333, \"#9c179e\"], [0.4444444444444444, \"#bd3786\"], [0.5555555555555556, \"#d8576b\"], [0.6666666666666666, \"#ed7953\"], [0.7777777777777778, \"#fb9f3a\"], [0.8888888888888888, \"#fdca26\"], [1.0, \"#f0f921\"]], \"sequentialminus\": [[0.0, \"#0d0887\"], [0.1111111111111111, \"#46039f\"], [0.2222222222222222, \"#7201a8\"], [0.3333333333333333, \"#9c179e\"], [0.4444444444444444, \"#bd3786\"], [0.5555555555555556, \"#d8576b\"], [0.6666666666666666, \"#ed7953\"], [0.7777777777777778, \"#fb9f3a\"], [0.8888888888888888, \"#fdca26\"], [1.0, \"#f0f921\"]]}, \"colorway\": [\"#636efa\", \"#EF553B\", \"#00cc96\", \"#ab63fa\", \"#FFA15A\", \"#19d3f3\", \"#FF6692\", \"#B6E880\", \"#FF97FF\", \"#FECB52\"], \"font\": {\"color\": \"#2a3f5f\"}, \"geo\": {\"bgcolor\": \"white\", \"lakecolor\": \"white\", \"landcolor\": \"white\", \"showlakes\": true, \"showland\": true, \"subunitcolor\": \"#C8D4E3\"}, \"hoverlabel\": {\"align\": \"left\"}, \"hovermode\": \"closest\", \"mapbox\": {\"style\": \"light\"}, \"paper_bgcolor\": \"white\", \"plot_bgcolor\": \"white\", \"polar\": {\"angularaxis\": {\"gridcolor\": \"#EBF0F8\", \"linecolor\": \"#EBF0F8\", \"ticks\": \"\"}, \"bgcolor\": \"white\", \"radialaxis\": {\"gridcolor\": \"#EBF0F8\", \"linecolor\": \"#EBF0F8\", \"ticks\": \"\"}}, \"scene\": {\"xaxis\": {\"backgroundcolor\": \"white\", \"gridcolor\": \"#DFE8F3\", \"gridwidth\": 2, \"linecolor\": \"#EBF0F8\", \"showbackground\": true, \"ticks\": \"\", \"zerolinecolor\": \"#EBF0F8\"}, \"yaxis\": {\"backgroundcolor\": \"white\", \"gridcolor\": \"#DFE8F3\", \"gridwidth\": 2, \"linecolor\": \"#EBF0F8\", \"showbackground\": true, \"ticks\": \"\", \"zerolinecolor\": \"#EBF0F8\"}, \"zaxis\": {\"backgroundcolor\": \"white\", \"gridcolor\": \"#DFE8F3\", \"gridwidth\": 2, \"linecolor\": \"#EBF0F8\", \"showbackground\": true, \"ticks\": \"\", \"zerolinecolor\": \"#EBF0F8\"}}, \"shapedefaults\": {\"line\": {\"color\": \"#2a3f5f\"}}, \"ternary\": {\"aaxis\": {\"gridcolor\": \"#DFE8F3\", \"linecolor\": \"#A2B1C6\", \"ticks\": \"\"}, \"baxis\": {\"gridcolor\": \"#DFE8F3\", \"linecolor\": \"#A2B1C6\", \"ticks\": \"\"}, \"bgcolor\": \"white\", \"caxis\": {\"gridcolor\": \"#DFE8F3\", \"linecolor\": \"#A2B1C6\", \"ticks\": \"\"}}, \"title\": {\"x\": 0.05}, \"xaxis\": {\"automargin\": true, \"gridcolor\": \"#EBF0F8\", \"linecolor\": \"#EBF0F8\", \"ticks\": \"\", \"title\": {\"standoff\": 15}, \"zerolinecolor\": \"#EBF0F8\", \"zerolinewidth\": 2}, \"yaxis\": {\"automargin\": true, \"gridcolor\": \"#EBF0F8\", \"linecolor\": \"#EBF0F8\", \"ticks\": \"\", \"title\": {\"standoff\": 15}, \"zerolinecolor\": \"#EBF0F8\", \"zerolinewidth\": 2}}}, \"title\": {\"text\": \"Sentiment Distribution\"}, \"width\": 550, \"yaxis\": {\"tickformat\": \"%\"}},\n",
       "                        {\"showLink\": true, \"linkText\": \"Export to plot.ly\", \"plotlyServerURL\": \"https://plot.ly\", \"responsive\": true}\n",
       "                    ).then(function(){\n",
       "                            \n",
       "var gd = document.getElementById('4ceae2f9-9ac6-400a-9a00-924aef4656ee');\n",
       "var x = new MutationObserver(function (mutations, observer) {{\n",
       "        var display = window.getComputedStyle(gd).display;\n",
       "        if (!display || display === 'none') {{\n",
       "            console.log([gd, 'removed!']);\n",
       "            Plotly.purge(gd);\n",
       "            observer.disconnect();\n",
       "        }}\n",
       "}});\n",
       "\n",
       "// Listen for the removal of the full notebook cells\n",
       "var notebookContainer = gd.closest('#notebook-container');\n",
       "if (notebookContainer) {{\n",
       "    x.observe(notebookContainer, {childList: true});\n",
       "}}\n",
       "\n",
       "// Listen for the clearing of the current output cell\n",
       "var outputEl = gd.closest('.output');\n",
       "if (outputEl) {{\n",
       "    x.observe(outputEl, {childList: true});\n",
       "}}\n",
       "\n",
       "                        })\n",
       "                };\n",
       "                });\n",
       "            </script>\n",
       "        </div>"
      ]
     },
     "metadata": {},
     "output_type": "display_data"
    }
   ],
   "source": [
    "(reviews_big['sentiment']\n",
    " .value_counts(normalize=True)\n",
    " .iplot(kind='bar',\n",
    "        layout=dict(title='Sentiment Distribution', width=550,\n",
    "                    yaxis=dict(tickformat='%'))))"
   ]
  },
  {
   "cell_type": "code",
   "execution_count": 15,
   "metadata": {},
   "outputs": [
    {
     "data": {
      "application/vnd.plotly.v1+json": {
       "config": {
        "linkText": "Export to plot.ly",
        "plotlyServerURL": "https://plot.ly",
        "showLink": true
       },
       "data": [
        {
         "marker": {
          "color": "rgba(255, 153, 51, 0.6)",
          "line": {
           "color": "rgba(255, 153, 51, 1.0)",
           "width": 1
          }
         },
         "name": "1",
         "orientation": "v",
         "text": "",
         "type": "bar",
         "x": [
          null,
          "mcdonalds",
          "hash house a go go",
          "chipotle mexican grill",
          "mon ami gabi",
          "bacchanal buffet",
          "buffalo wild wings",
          "wicked spoon",
          "in-n-out burger",
          "gordon ramsay burgr",
          "earl of sandwich",
          "panera bread",
          "subway",
          "yard house",
          "grimaldis pizzeria",
          "dennys",
          "the cheesecake factory",
          "bachi burger",
          "oreganos pizza bistro",
          "pita jungle"
         ],
         "y": [
          "business_name",
          "10323",
          "9840",
          "7980",
          "7362",
          "7006",
          "5998",
          "5951",
          "5598",
          "5448",
          "5442",
          "5028",
          "4848",
          "4737",
          "4702",
          "4586",
          "4519",
          "4463",
          "4403",
          "4305"
         ]
        }
       ],
       "layout": {
        "template": {
         "data": {
          "bar": [
           {
            "error_x": {
             "color": "#2a3f5f"
            },
            "error_y": {
             "color": "#2a3f5f"
            },
            "marker": {
             "line": {
              "color": "white",
              "width": 0.5
             }
            },
            "type": "bar"
           }
          ],
          "barpolar": [
           {
            "marker": {
             "line": {
              "color": "white",
              "width": 0.5
             }
            },
            "type": "barpolar"
           }
          ],
          "carpet": [
           {
            "aaxis": {
             "endlinecolor": "#2a3f5f",
             "gridcolor": "#C8D4E3",
             "linecolor": "#C8D4E3",
             "minorgridcolor": "#C8D4E3",
             "startlinecolor": "#2a3f5f"
            },
            "baxis": {
             "endlinecolor": "#2a3f5f",
             "gridcolor": "#C8D4E3",
             "linecolor": "#C8D4E3",
             "minorgridcolor": "#C8D4E3",
             "startlinecolor": "#2a3f5f"
            },
            "type": "carpet"
           }
          ],
          "choropleth": [
           {
            "colorbar": {
             "outlinewidth": 0,
             "ticks": ""
            },
            "type": "choropleth"
           }
          ],
          "contour": [
           {
            "colorbar": {
             "outlinewidth": 0,
             "ticks": ""
            },
            "colorscale": [
             [
              0,
              "#0d0887"
             ],
             [
              0.1111111111111111,
              "#46039f"
             ],
             [
              0.2222222222222222,
              "#7201a8"
             ],
             [
              0.3333333333333333,
              "#9c179e"
             ],
             [
              0.4444444444444444,
              "#bd3786"
             ],
             [
              0.5555555555555556,
              "#d8576b"
             ],
             [
              0.6666666666666666,
              "#ed7953"
             ],
             [
              0.7777777777777778,
              "#fb9f3a"
             ],
             [
              0.8888888888888888,
              "#fdca26"
             ],
             [
              1,
              "#f0f921"
             ]
            ],
            "type": "contour"
           }
          ],
          "contourcarpet": [
           {
            "colorbar": {
             "outlinewidth": 0,
             "ticks": ""
            },
            "type": "contourcarpet"
           }
          ],
          "heatmap": [
           {
            "colorbar": {
             "outlinewidth": 0,
             "ticks": ""
            },
            "colorscale": [
             [
              0,
              "#0d0887"
             ],
             [
              0.1111111111111111,
              "#46039f"
             ],
             [
              0.2222222222222222,
              "#7201a8"
             ],
             [
              0.3333333333333333,
              "#9c179e"
             ],
             [
              0.4444444444444444,
              "#bd3786"
             ],
             [
              0.5555555555555556,
              "#d8576b"
             ],
             [
              0.6666666666666666,
              "#ed7953"
             ],
             [
              0.7777777777777778,
              "#fb9f3a"
             ],
             [
              0.8888888888888888,
              "#fdca26"
             ],
             [
              1,
              "#f0f921"
             ]
            ],
            "type": "heatmap"
           }
          ],
          "heatmapgl": [
           {
            "colorbar": {
             "outlinewidth": 0,
             "ticks": ""
            },
            "colorscale": [
             [
              0,
              "#0d0887"
             ],
             [
              0.1111111111111111,
              "#46039f"
             ],
             [
              0.2222222222222222,
              "#7201a8"
             ],
             [
              0.3333333333333333,
              "#9c179e"
             ],
             [
              0.4444444444444444,
              "#bd3786"
             ],
             [
              0.5555555555555556,
              "#d8576b"
             ],
             [
              0.6666666666666666,
              "#ed7953"
             ],
             [
              0.7777777777777778,
              "#fb9f3a"
             ],
             [
              0.8888888888888888,
              "#fdca26"
             ],
             [
              1,
              "#f0f921"
             ]
            ],
            "type": "heatmapgl"
           }
          ],
          "histogram": [
           {
            "marker": {
             "colorbar": {
              "outlinewidth": 0,
              "ticks": ""
             }
            },
            "type": "histogram"
           }
          ],
          "histogram2d": [
           {
            "colorbar": {
             "outlinewidth": 0,
             "ticks": ""
            },
            "colorscale": [
             [
              0,
              "#0d0887"
             ],
             [
              0.1111111111111111,
              "#46039f"
             ],
             [
              0.2222222222222222,
              "#7201a8"
             ],
             [
              0.3333333333333333,
              "#9c179e"
             ],
             [
              0.4444444444444444,
              "#bd3786"
             ],
             [
              0.5555555555555556,
              "#d8576b"
             ],
             [
              0.6666666666666666,
              "#ed7953"
             ],
             [
              0.7777777777777778,
              "#fb9f3a"
             ],
             [
              0.8888888888888888,
              "#fdca26"
             ],
             [
              1,
              "#f0f921"
             ]
            ],
            "type": "histogram2d"
           }
          ],
          "histogram2dcontour": [
           {
            "colorbar": {
             "outlinewidth": 0,
             "ticks": ""
            },
            "colorscale": [
             [
              0,
              "#0d0887"
             ],
             [
              0.1111111111111111,
              "#46039f"
             ],
             [
              0.2222222222222222,
              "#7201a8"
             ],
             [
              0.3333333333333333,
              "#9c179e"
             ],
             [
              0.4444444444444444,
              "#bd3786"
             ],
             [
              0.5555555555555556,
              "#d8576b"
             ],
             [
              0.6666666666666666,
              "#ed7953"
             ],
             [
              0.7777777777777778,
              "#fb9f3a"
             ],
             [
              0.8888888888888888,
              "#fdca26"
             ],
             [
              1,
              "#f0f921"
             ]
            ],
            "type": "histogram2dcontour"
           }
          ],
          "mesh3d": [
           {
            "colorbar": {
             "outlinewidth": 0,
             "ticks": ""
            },
            "type": "mesh3d"
           }
          ],
          "parcoords": [
           {
            "line": {
             "colorbar": {
              "outlinewidth": 0,
              "ticks": ""
             }
            },
            "type": "parcoords"
           }
          ],
          "pie": [
           {
            "automargin": true,
            "type": "pie"
           }
          ],
          "scatter": [
           {
            "marker": {
             "colorbar": {
              "outlinewidth": 0,
              "ticks": ""
             }
            },
            "type": "scatter"
           }
          ],
          "scatter3d": [
           {
            "line": {
             "colorbar": {
              "outlinewidth": 0,
              "ticks": ""
             }
            },
            "marker": {
             "colorbar": {
              "outlinewidth": 0,
              "ticks": ""
             }
            },
            "type": "scatter3d"
           }
          ],
          "scattercarpet": [
           {
            "marker": {
             "colorbar": {
              "outlinewidth": 0,
              "ticks": ""
             }
            },
            "type": "scattercarpet"
           }
          ],
          "scattergeo": [
           {
            "marker": {
             "colorbar": {
              "outlinewidth": 0,
              "ticks": ""
             }
            },
            "type": "scattergeo"
           }
          ],
          "scattergl": [
           {
            "marker": {
             "colorbar": {
              "outlinewidth": 0,
              "ticks": ""
             }
            },
            "type": "scattergl"
           }
          ],
          "scattermapbox": [
           {
            "marker": {
             "colorbar": {
              "outlinewidth": 0,
              "ticks": ""
             }
            },
            "type": "scattermapbox"
           }
          ],
          "scatterpolar": [
           {
            "marker": {
             "colorbar": {
              "outlinewidth": 0,
              "ticks": ""
             }
            },
            "type": "scatterpolar"
           }
          ],
          "scatterpolargl": [
           {
            "marker": {
             "colorbar": {
              "outlinewidth": 0,
              "ticks": ""
             }
            },
            "type": "scatterpolargl"
           }
          ],
          "scatterternary": [
           {
            "marker": {
             "colorbar": {
              "outlinewidth": 0,
              "ticks": ""
             }
            },
            "type": "scatterternary"
           }
          ],
          "surface": [
           {
            "colorbar": {
             "outlinewidth": 0,
             "ticks": ""
            },
            "colorscale": [
             [
              0,
              "#0d0887"
             ],
             [
              0.1111111111111111,
              "#46039f"
             ],
             [
              0.2222222222222222,
              "#7201a8"
             ],
             [
              0.3333333333333333,
              "#9c179e"
             ],
             [
              0.4444444444444444,
              "#bd3786"
             ],
             [
              0.5555555555555556,
              "#d8576b"
             ],
             [
              0.6666666666666666,
              "#ed7953"
             ],
             [
              0.7777777777777778,
              "#fb9f3a"
             ],
             [
              0.8888888888888888,
              "#fdca26"
             ],
             [
              1,
              "#f0f921"
             ]
            ],
            "type": "surface"
           }
          ],
          "table": [
           {
            "cells": {
             "fill": {
              "color": "#EBF0F8"
             },
             "line": {
              "color": "white"
             }
            },
            "header": {
             "fill": {
              "color": "#C8D4E3"
             },
             "line": {
              "color": "white"
             }
            },
            "type": "table"
           }
          ]
         },
         "layout": {
          "annotationdefaults": {
           "arrowcolor": "#2a3f5f",
           "arrowhead": 0,
           "arrowwidth": 1
          },
          "coloraxis": {
           "colorbar": {
            "outlinewidth": 0,
            "ticks": ""
           }
          },
          "colorscale": {
           "diverging": [
            [
             0,
             "#8e0152"
            ],
            [
             0.1,
             "#c51b7d"
            ],
            [
             0.2,
             "#de77ae"
            ],
            [
             0.3,
             "#f1b6da"
            ],
            [
             0.4,
             "#fde0ef"
            ],
            [
             0.5,
             "#f7f7f7"
            ],
            [
             0.6,
             "#e6f5d0"
            ],
            [
             0.7,
             "#b8e186"
            ],
            [
             0.8,
             "#7fbc41"
            ],
            [
             0.9,
             "#4d9221"
            ],
            [
             1,
             "#276419"
            ]
           ],
           "sequential": [
            [
             0,
             "#0d0887"
            ],
            [
             0.1111111111111111,
             "#46039f"
            ],
            [
             0.2222222222222222,
             "#7201a8"
            ],
            [
             0.3333333333333333,
             "#9c179e"
            ],
            [
             0.4444444444444444,
             "#bd3786"
            ],
            [
             0.5555555555555556,
             "#d8576b"
            ],
            [
             0.6666666666666666,
             "#ed7953"
            ],
            [
             0.7777777777777778,
             "#fb9f3a"
            ],
            [
             0.8888888888888888,
             "#fdca26"
            ],
            [
             1,
             "#f0f921"
            ]
           ],
           "sequentialminus": [
            [
             0,
             "#0d0887"
            ],
            [
             0.1111111111111111,
             "#46039f"
            ],
            [
             0.2222222222222222,
             "#7201a8"
            ],
            [
             0.3333333333333333,
             "#9c179e"
            ],
            [
             0.4444444444444444,
             "#bd3786"
            ],
            [
             0.5555555555555556,
             "#d8576b"
            ],
            [
             0.6666666666666666,
             "#ed7953"
            ],
            [
             0.7777777777777778,
             "#fb9f3a"
            ],
            [
             0.8888888888888888,
             "#fdca26"
            ],
            [
             1,
             "#f0f921"
            ]
           ]
          },
          "colorway": [
           "#636efa",
           "#EF553B",
           "#00cc96",
           "#ab63fa",
           "#FFA15A",
           "#19d3f3",
           "#FF6692",
           "#B6E880",
           "#FF97FF",
           "#FECB52"
          ],
          "font": {
           "color": "#2a3f5f"
          },
          "geo": {
           "bgcolor": "white",
           "lakecolor": "white",
           "landcolor": "white",
           "showlakes": true,
           "showland": true,
           "subunitcolor": "#C8D4E3"
          },
          "hoverlabel": {
           "align": "left"
          },
          "hovermode": "closest",
          "mapbox": {
           "style": "light"
          },
          "paper_bgcolor": "white",
          "plot_bgcolor": "white",
          "polar": {
           "angularaxis": {
            "gridcolor": "#EBF0F8",
            "linecolor": "#EBF0F8",
            "ticks": ""
           },
           "bgcolor": "white",
           "radialaxis": {
            "gridcolor": "#EBF0F8",
            "linecolor": "#EBF0F8",
            "ticks": ""
           }
          },
          "scene": {
           "xaxis": {
            "backgroundcolor": "white",
            "gridcolor": "#DFE8F3",
            "gridwidth": 2,
            "linecolor": "#EBF0F8",
            "showbackground": true,
            "ticks": "",
            "zerolinecolor": "#EBF0F8"
           },
           "yaxis": {
            "backgroundcolor": "white",
            "gridcolor": "#DFE8F3",
            "gridwidth": 2,
            "linecolor": "#EBF0F8",
            "showbackground": true,
            "ticks": "",
            "zerolinecolor": "#EBF0F8"
           },
           "zaxis": {
            "backgroundcolor": "white",
            "gridcolor": "#DFE8F3",
            "gridwidth": 2,
            "linecolor": "#EBF0F8",
            "showbackground": true,
            "ticks": "",
            "zerolinecolor": "#EBF0F8"
           }
          },
          "shapedefaults": {
           "line": {
            "color": "#2a3f5f"
           }
          },
          "ternary": {
           "aaxis": {
            "gridcolor": "#DFE8F3",
            "linecolor": "#A2B1C6",
            "ticks": ""
           },
           "baxis": {
            "gridcolor": "#DFE8F3",
            "linecolor": "#A2B1C6",
            "ticks": ""
           },
           "bgcolor": "white",
           "caxis": {
            "gridcolor": "#DFE8F3",
            "linecolor": "#A2B1C6",
            "ticks": ""
           }
          },
          "title": {
           "x": 0.05
          },
          "xaxis": {
           "automargin": true,
           "gridcolor": "#EBF0F8",
           "linecolor": "#EBF0F8",
           "ticks": "",
           "title": {
            "standoff": 15
           },
           "zerolinecolor": "#EBF0F8",
           "zerolinewidth": 2
          },
          "yaxis": {
           "automargin": true,
           "gridcolor": "#EBF0F8",
           "linecolor": "#EBF0F8",
           "ticks": "",
           "title": {
            "standoff": 15
           },
           "zerolinecolor": "#EBF0F8",
           "zerolinewidth": 2
          }
         }
        },
        "title": {
         "text": "Top 20 Reviewed Restaurants"
        },
        "yaxis": {
         "title": {
          "text": "# of Reveiws"
         }
        }
       }
      },
      "text/html": [
       "<div>\n",
       "        \n",
       "        \n",
       "            <div id=\"6f996c64-ebab-4c5a-bce7-5cb65b1e70e1\" class=\"plotly-graph-div\" style=\"height:525px; width:100%;\"></div>\n",
       "            <script type=\"text/javascript\">\n",
       "                require([\"plotly\"], function(Plotly) {\n",
       "                    window.PLOTLYENV=window.PLOTLYENV || {};\n",
       "                    window.PLOTLYENV.BASE_URL='https://plot.ly';\n",
       "                    \n",
       "                if (document.getElementById(\"6f996c64-ebab-4c5a-bce7-5cb65b1e70e1\")) {\n",
       "                    Plotly.newPlot(\n",
       "                        '6f996c64-ebab-4c5a-bce7-5cb65b1e70e1',\n",
       "                        [{\"marker\": {\"color\": \"rgba(255, 153, 51, 0.6)\", \"line\": {\"color\": \"rgba(255, 153, 51, 1.0)\", \"width\": 1}}, \"name\": \"1\", \"orientation\": \"v\", \"text\": \"\", \"type\": \"bar\", \"x\": [null, \"mcdonalds\", \"hash house a go go\", \"chipotle mexican grill\", \"mon ami gabi\", \"bacchanal buffet\", \"buffalo wild wings\", \"wicked spoon\", \"in-n-out burger\", \"gordon ramsay burgr\", \"earl of sandwich\", \"panera bread\", \"subway\", \"yard house\", \"grimaldis pizzeria\", \"dennys\", \"the cheesecake factory\", \"bachi burger\", \"oreganos pizza bistro\", \"pita jungle\"], \"y\": [\"business_name\", \"10323\", \"9840\", \"7980\", \"7362\", \"7006\", \"5998\", \"5951\", \"5598\", \"5448\", \"5442\", \"5028\", \"4848\", \"4737\", \"4702\", \"4586\", \"4519\", \"4463\", \"4403\", \"4305\"]}],\n",
       "                        {\"template\": {\"data\": {\"bar\": [{\"error_x\": {\"color\": \"#2a3f5f\"}, \"error_y\": {\"color\": \"#2a3f5f\"}, \"marker\": {\"line\": {\"color\": \"white\", \"width\": 0.5}}, \"type\": \"bar\"}], \"barpolar\": [{\"marker\": {\"line\": {\"color\": \"white\", \"width\": 0.5}}, \"type\": \"barpolar\"}], \"carpet\": [{\"aaxis\": {\"endlinecolor\": \"#2a3f5f\", \"gridcolor\": \"#C8D4E3\", \"linecolor\": \"#C8D4E3\", \"minorgridcolor\": \"#C8D4E3\", \"startlinecolor\": \"#2a3f5f\"}, \"baxis\": {\"endlinecolor\": \"#2a3f5f\", \"gridcolor\": \"#C8D4E3\", \"linecolor\": \"#C8D4E3\", \"minorgridcolor\": \"#C8D4E3\", \"startlinecolor\": \"#2a3f5f\"}, \"type\": \"carpet\"}], \"choropleth\": [{\"colorbar\": {\"outlinewidth\": 0, \"ticks\": \"\"}, \"type\": \"choropleth\"}], \"contour\": [{\"colorbar\": {\"outlinewidth\": 0, \"ticks\": \"\"}, \"colorscale\": [[0.0, \"#0d0887\"], [0.1111111111111111, \"#46039f\"], [0.2222222222222222, \"#7201a8\"], [0.3333333333333333, \"#9c179e\"], [0.4444444444444444, \"#bd3786\"], [0.5555555555555556, \"#d8576b\"], [0.6666666666666666, \"#ed7953\"], [0.7777777777777778, \"#fb9f3a\"], [0.8888888888888888, \"#fdca26\"], [1.0, \"#f0f921\"]], \"type\": \"contour\"}], \"contourcarpet\": [{\"colorbar\": {\"outlinewidth\": 0, \"ticks\": \"\"}, \"type\": \"contourcarpet\"}], \"heatmap\": [{\"colorbar\": {\"outlinewidth\": 0, \"ticks\": \"\"}, \"colorscale\": [[0.0, \"#0d0887\"], [0.1111111111111111, \"#46039f\"], [0.2222222222222222, \"#7201a8\"], [0.3333333333333333, \"#9c179e\"], [0.4444444444444444, \"#bd3786\"], [0.5555555555555556, \"#d8576b\"], [0.6666666666666666, \"#ed7953\"], [0.7777777777777778, \"#fb9f3a\"], [0.8888888888888888, \"#fdca26\"], [1.0, \"#f0f921\"]], \"type\": \"heatmap\"}], \"heatmapgl\": [{\"colorbar\": {\"outlinewidth\": 0, \"ticks\": \"\"}, \"colorscale\": [[0.0, \"#0d0887\"], [0.1111111111111111, \"#46039f\"], [0.2222222222222222, \"#7201a8\"], [0.3333333333333333, \"#9c179e\"], [0.4444444444444444, \"#bd3786\"], [0.5555555555555556, \"#d8576b\"], [0.6666666666666666, \"#ed7953\"], [0.7777777777777778, \"#fb9f3a\"], [0.8888888888888888, \"#fdca26\"], [1.0, \"#f0f921\"]], \"type\": \"heatmapgl\"}], \"histogram\": [{\"marker\": {\"colorbar\": {\"outlinewidth\": 0, \"ticks\": \"\"}}, \"type\": \"histogram\"}], \"histogram2d\": [{\"colorbar\": {\"outlinewidth\": 0, \"ticks\": \"\"}, \"colorscale\": [[0.0, \"#0d0887\"], [0.1111111111111111, \"#46039f\"], [0.2222222222222222, \"#7201a8\"], [0.3333333333333333, \"#9c179e\"], [0.4444444444444444, \"#bd3786\"], [0.5555555555555556, \"#d8576b\"], [0.6666666666666666, \"#ed7953\"], [0.7777777777777778, \"#fb9f3a\"], [0.8888888888888888, \"#fdca26\"], [1.0, \"#f0f921\"]], \"type\": \"histogram2d\"}], \"histogram2dcontour\": [{\"colorbar\": {\"outlinewidth\": 0, \"ticks\": \"\"}, \"colorscale\": [[0.0, \"#0d0887\"], [0.1111111111111111, \"#46039f\"], [0.2222222222222222, \"#7201a8\"], [0.3333333333333333, \"#9c179e\"], [0.4444444444444444, \"#bd3786\"], [0.5555555555555556, \"#d8576b\"], [0.6666666666666666, \"#ed7953\"], [0.7777777777777778, \"#fb9f3a\"], [0.8888888888888888, \"#fdca26\"], [1.0, \"#f0f921\"]], \"type\": \"histogram2dcontour\"}], \"mesh3d\": [{\"colorbar\": {\"outlinewidth\": 0, \"ticks\": \"\"}, \"type\": \"mesh3d\"}], \"parcoords\": [{\"line\": {\"colorbar\": {\"outlinewidth\": 0, \"ticks\": \"\"}}, \"type\": \"parcoords\"}], \"pie\": [{\"automargin\": true, \"type\": \"pie\"}], \"scatter\": [{\"marker\": {\"colorbar\": {\"outlinewidth\": 0, \"ticks\": \"\"}}, \"type\": \"scatter\"}], \"scatter3d\": [{\"line\": {\"colorbar\": {\"outlinewidth\": 0, \"ticks\": \"\"}}, \"marker\": {\"colorbar\": {\"outlinewidth\": 0, \"ticks\": \"\"}}, \"type\": \"scatter3d\"}], \"scattercarpet\": [{\"marker\": {\"colorbar\": {\"outlinewidth\": 0, \"ticks\": \"\"}}, \"type\": \"scattercarpet\"}], \"scattergeo\": [{\"marker\": {\"colorbar\": {\"outlinewidth\": 0, \"ticks\": \"\"}}, \"type\": \"scattergeo\"}], \"scattergl\": [{\"marker\": {\"colorbar\": {\"outlinewidth\": 0, \"ticks\": \"\"}}, \"type\": \"scattergl\"}], \"scattermapbox\": [{\"marker\": {\"colorbar\": {\"outlinewidth\": 0, \"ticks\": \"\"}}, \"type\": \"scattermapbox\"}], \"scatterpolar\": [{\"marker\": {\"colorbar\": {\"outlinewidth\": 0, \"ticks\": \"\"}}, \"type\": \"scatterpolar\"}], \"scatterpolargl\": [{\"marker\": {\"colorbar\": {\"outlinewidth\": 0, \"ticks\": \"\"}}, \"type\": \"scatterpolargl\"}], \"scatterternary\": [{\"marker\": {\"colorbar\": {\"outlinewidth\": 0, \"ticks\": \"\"}}, \"type\": \"scatterternary\"}], \"surface\": [{\"colorbar\": {\"outlinewidth\": 0, \"ticks\": \"\"}, \"colorscale\": [[0.0, \"#0d0887\"], [0.1111111111111111, \"#46039f\"], [0.2222222222222222, \"#7201a8\"], [0.3333333333333333, \"#9c179e\"], [0.4444444444444444, \"#bd3786\"], [0.5555555555555556, \"#d8576b\"], [0.6666666666666666, \"#ed7953\"], [0.7777777777777778, \"#fb9f3a\"], [0.8888888888888888, \"#fdca26\"], [1.0, \"#f0f921\"]], \"type\": \"surface\"}], \"table\": [{\"cells\": {\"fill\": {\"color\": \"#EBF0F8\"}, \"line\": {\"color\": \"white\"}}, \"header\": {\"fill\": {\"color\": \"#C8D4E3\"}, \"line\": {\"color\": \"white\"}}, \"type\": \"table\"}]}, \"layout\": {\"annotationdefaults\": {\"arrowcolor\": \"#2a3f5f\", \"arrowhead\": 0, \"arrowwidth\": 1}, \"coloraxis\": {\"colorbar\": {\"outlinewidth\": 0, \"ticks\": \"\"}}, \"colorscale\": {\"diverging\": [[0, \"#8e0152\"], [0.1, \"#c51b7d\"], [0.2, \"#de77ae\"], [0.3, \"#f1b6da\"], [0.4, \"#fde0ef\"], [0.5, \"#f7f7f7\"], [0.6, \"#e6f5d0\"], [0.7, \"#b8e186\"], [0.8, \"#7fbc41\"], [0.9, \"#4d9221\"], [1, \"#276419\"]], \"sequential\": [[0.0, \"#0d0887\"], [0.1111111111111111, \"#46039f\"], [0.2222222222222222, \"#7201a8\"], [0.3333333333333333, \"#9c179e\"], [0.4444444444444444, \"#bd3786\"], [0.5555555555555556, \"#d8576b\"], [0.6666666666666666, \"#ed7953\"], [0.7777777777777778, \"#fb9f3a\"], [0.8888888888888888, \"#fdca26\"], [1.0, \"#f0f921\"]], \"sequentialminus\": [[0.0, \"#0d0887\"], [0.1111111111111111, \"#46039f\"], [0.2222222222222222, \"#7201a8\"], [0.3333333333333333, \"#9c179e\"], [0.4444444444444444, \"#bd3786\"], [0.5555555555555556, \"#d8576b\"], [0.6666666666666666, \"#ed7953\"], [0.7777777777777778, \"#fb9f3a\"], [0.8888888888888888, \"#fdca26\"], [1.0, \"#f0f921\"]]}, \"colorway\": [\"#636efa\", \"#EF553B\", \"#00cc96\", \"#ab63fa\", \"#FFA15A\", \"#19d3f3\", \"#FF6692\", \"#B6E880\", \"#FF97FF\", \"#FECB52\"], \"font\": {\"color\": \"#2a3f5f\"}, \"geo\": {\"bgcolor\": \"white\", \"lakecolor\": \"white\", \"landcolor\": \"white\", \"showlakes\": true, \"showland\": true, \"subunitcolor\": \"#C8D4E3\"}, \"hoverlabel\": {\"align\": \"left\"}, \"hovermode\": \"closest\", \"mapbox\": {\"style\": \"light\"}, \"paper_bgcolor\": \"white\", \"plot_bgcolor\": \"white\", \"polar\": {\"angularaxis\": {\"gridcolor\": \"#EBF0F8\", \"linecolor\": \"#EBF0F8\", \"ticks\": \"\"}, \"bgcolor\": \"white\", \"radialaxis\": {\"gridcolor\": \"#EBF0F8\", \"linecolor\": \"#EBF0F8\", \"ticks\": \"\"}}, \"scene\": {\"xaxis\": {\"backgroundcolor\": \"white\", \"gridcolor\": \"#DFE8F3\", \"gridwidth\": 2, \"linecolor\": \"#EBF0F8\", \"showbackground\": true, \"ticks\": \"\", \"zerolinecolor\": \"#EBF0F8\"}, \"yaxis\": {\"backgroundcolor\": \"white\", \"gridcolor\": \"#DFE8F3\", \"gridwidth\": 2, \"linecolor\": \"#EBF0F8\", \"showbackground\": true, \"ticks\": \"\", \"zerolinecolor\": \"#EBF0F8\"}, \"zaxis\": {\"backgroundcolor\": \"white\", \"gridcolor\": \"#DFE8F3\", \"gridwidth\": 2, \"linecolor\": \"#EBF0F8\", \"showbackground\": true, \"ticks\": \"\", \"zerolinecolor\": \"#EBF0F8\"}}, \"shapedefaults\": {\"line\": {\"color\": \"#2a3f5f\"}}, \"ternary\": {\"aaxis\": {\"gridcolor\": \"#DFE8F3\", \"linecolor\": \"#A2B1C6\", \"ticks\": \"\"}, \"baxis\": {\"gridcolor\": \"#DFE8F3\", \"linecolor\": \"#A2B1C6\", \"ticks\": \"\"}, \"bgcolor\": \"white\", \"caxis\": {\"gridcolor\": \"#DFE8F3\", \"linecolor\": \"#A2B1C6\", \"ticks\": \"\"}}, \"title\": {\"x\": 0.05}, \"xaxis\": {\"automargin\": true, \"gridcolor\": \"#EBF0F8\", \"linecolor\": \"#EBF0F8\", \"ticks\": \"\", \"title\": {\"standoff\": 15}, \"zerolinecolor\": \"#EBF0F8\", \"zerolinewidth\": 2}, \"yaxis\": {\"automargin\": true, \"gridcolor\": \"#EBF0F8\", \"linecolor\": \"#EBF0F8\", \"ticks\": \"\", \"title\": {\"standoff\": 15}, \"zerolinecolor\": \"#EBF0F8\", \"zerolinewidth\": 2}}}, \"title\": {\"text\": \"Top 20 Reviewed Restaurants\"}, \"yaxis\": {\"title\": {\"text\": \"# of Reveiws\"}}},\n",
       "                        {\"showLink\": true, \"linkText\": \"Export to plot.ly\", \"plotlyServerURL\": \"https://plot.ly\", \"responsive\": true}\n",
       "                    ).then(function(){\n",
       "                            \n",
       "var gd = document.getElementById('6f996c64-ebab-4c5a-bce7-5cb65b1e70e1');\n",
       "var x = new MutationObserver(function (mutations, observer) {{\n",
       "        var display = window.getComputedStyle(gd).display;\n",
       "        if (!display || display === 'none') {{\n",
       "            console.log([gd, 'removed!']);\n",
       "            Plotly.purge(gd);\n",
       "            observer.disconnect();\n",
       "        }}\n",
       "}});\n",
       "\n",
       "// Listen for the removal of the full notebook cells\n",
       "var notebookContainer = gd.closest('#notebook-container');\n",
       "if (notebookContainer) {{\n",
       "    x.observe(notebookContainer, {childList: true});\n",
       "}}\n",
       "\n",
       "// Listen for the clearing of the current output cell\n",
       "var outputEl = gd.closest('.output');\n",
       "if (outputEl) {{\n",
       "    x.observe(outputEl, {childList: true});\n",
       "}}\n",
       "\n",
       "                        })\n",
       "                };\n",
       "                });\n",
       "            </script>\n",
       "        </div>"
      ]
     },
     "metadata": {},
     "output_type": "display_data"
    }
   ],
   "source": [
    "n_reviewed = 20\n",
    "restaurants_big.head(n_reviewed).iplot(kind='bar', color='orange', \n",
    "                                       layout=dict(title=f'Top {n_reviewed} Reviewed Restaurants',\n",
    "                                                   yaxis=dict(title='# of Reveiws')))"
   ]
  },
  {
   "cell_type": "markdown",
   "metadata": {},
   "source": [
    "### Analyzing Star Ratings across Restaurants and Branches"
   ]
  },
  {
   "cell_type": "code",
   "execution_count": 16,
   "metadata": {},
   "outputs": [],
   "source": [
    "# df_biggest['Rating'] = df_biggest['Rating'].astype('str')"
   ]
  },
  {
   "cell_type": "markdown",
   "metadata": {},
   "source": [
    "#### By Brands"
   ]
  },
  {
   "cell_type": "code",
   "execution_count": 17,
   "metadata": {},
   "outputs": [],
   "source": [
    "rename_dict = {'neg': 'Negative',\n",
    "               'neu': 'Neutral',\n",
    "               'pos': 'Positive'}"
   ]
  },
  {
   "cell_type": "code",
   "execution_count": 18,
   "metadata": {},
   "outputs": [
    {
     "data": {
      "text/html": [
       "<div>\n",
       "<style scoped>\n",
       "    .dataframe tbody tr th:only-of-type {\n",
       "        vertical-align: middle;\n",
       "    }\n",
       "\n",
       "    .dataframe tbody tr th {\n",
       "        vertical-align: top;\n",
       "    }\n",
       "\n",
       "    .dataframe thead th {\n",
       "        text-align: right;\n",
       "    }\n",
       "</style>\n",
       "<table border=\"1\" class=\"dataframe\">\n",
       "  <thead>\n",
       "    <tr style=\"text-align: right;\">\n",
       "      <th>stars</th>\n",
       "      <th>1</th>\n",
       "      <th>2</th>\n",
       "      <th>3</th>\n",
       "      <th>4</th>\n",
       "      <th>5</th>\n",
       "    </tr>\n",
       "    <tr>\n",
       "      <th>business_name</th>\n",
       "      <th></th>\n",
       "      <th></th>\n",
       "      <th></th>\n",
       "      <th></th>\n",
       "      <th></th>\n",
       "    </tr>\n",
       "  </thead>\n",
       "  <tbody>\n",
       "    <tr>\n",
       "      <th>tuck shop</th>\n",
       "      <td>11</td>\n",
       "      <td>26</td>\n",
       "      <td>47</td>\n",
       "      <td>161</td>\n",
       "      <td>336</td>\n",
       "    </tr>\n",
       "    <tr>\n",
       "      <th>five guys</th>\n",
       "      <td>376</td>\n",
       "      <td>499</td>\n",
       "      <td>791</td>\n",
       "      <td>1324</td>\n",
       "      <td>1164</td>\n",
       "    </tr>\n",
       "    <tr>\n",
       "      <th>kinka izakaya original</th>\n",
       "      <td>31</td>\n",
       "      <td>52</td>\n",
       "      <td>172</td>\n",
       "      <td>427</td>\n",
       "      <td>502</td>\n",
       "    </tr>\n",
       "    <tr>\n",
       "      <th>schwartzs</th>\n",
       "      <td>61</td>\n",
       "      <td>113</td>\n",
       "      <td>294</td>\n",
       "      <td>632</td>\n",
       "      <td>854</td>\n",
       "    </tr>\n",
       "    <tr>\n",
       "      <th>the burgers priest</th>\n",
       "      <td>81</td>\n",
       "      <td>145</td>\n",
       "      <td>223</td>\n",
       "      <td>397</td>\n",
       "      <td>353</td>\n",
       "    </tr>\n",
       "    <tr>\n",
       "      <th>...</th>\n",
       "      <td>...</td>\n",
       "      <td>...</td>\n",
       "      <td>...</td>\n",
       "      <td>...</td>\n",
       "      <td>...</td>\n",
       "    </tr>\n",
       "    <tr>\n",
       "      <th>urban turban</th>\n",
       "      <td>88</td>\n",
       "      <td>33</td>\n",
       "      <td>48</td>\n",
       "      <td>93</td>\n",
       "      <td>366</td>\n",
       "    </tr>\n",
       "    <tr>\n",
       "      <th>levetto</th>\n",
       "      <td>23</td>\n",
       "      <td>27</td>\n",
       "      <td>62</td>\n",
       "      <td>181</td>\n",
       "      <td>254</td>\n",
       "    </tr>\n",
       "    <tr>\n",
       "      <th>brgr</th>\n",
       "      <td>42</td>\n",
       "      <td>94</td>\n",
       "      <td>136</td>\n",
       "      <td>157</td>\n",
       "      <td>98</td>\n",
       "    </tr>\n",
       "    <tr>\n",
       "      <th>teakwoods tavern &amp; grill</th>\n",
       "      <td>36</td>\n",
       "      <td>58</td>\n",
       "      <td>92</td>\n",
       "      <td>182</td>\n",
       "      <td>151</td>\n",
       "    </tr>\n",
       "    <tr>\n",
       "      <th>dierks bentleys whiskey row</th>\n",
       "      <td>93</td>\n",
       "      <td>63</td>\n",
       "      <td>60</td>\n",
       "      <td>122</td>\n",
       "      <td>179</td>\n",
       "    </tr>\n",
       "  </tbody>\n",
       "</table>\n",
       "<p>1079 rows × 5 columns</p>\n",
       "</div>"
      ],
      "text/plain": [
       "stars                          1    2    3     4     5\n",
       "business_name                                         \n",
       "tuck shop                     11   26   47   161   336\n",
       "five guys                    376  499  791  1324  1164\n",
       "kinka izakaya original        31   52  172   427   502\n",
       "schwartzs                     61  113  294   632   854\n",
       "the burgers priest            81  145  223   397   353\n",
       "...                          ...  ...  ...   ...   ...\n",
       "urban turban                  88   33   48    93   366\n",
       "levetto                       23   27   62   181   254\n",
       "brgr                          42   94  136   157    98\n",
       "teakwoods tavern & grill      36   58   92   182   151\n",
       "dierks bentleys whiskey row   93   63   60   122   179\n",
       "\n",
       "[1079 rows x 5 columns]"
      ]
     },
     "execution_count": 18,
     "metadata": {},
     "output_type": "execute_result"
    }
   ],
   "source": [
    "star_stats = (reviews_big\n",
    "              .groupby(['business_name', 'stars'], observed=True)\n",
    "              .size()\n",
    "              .unstack()\n",
    "              .fillna(0))\n",
    "star_stats"
   ]
  },
  {
   "cell_type": "code",
   "execution_count": 19,
   "metadata": {},
   "outputs": [],
   "source": [
    "sentiment_stats = (reviews_big\n",
    "                   .groupby(['business_name', 'sentiment'], observed=True)\n",
    "                   .size()\n",
    "                   .unstack()\n",
    "                   .fillna(0))"
   ]
  },
  {
   "cell_type": "code",
   "execution_count": 20,
   "metadata": {},
   "outputs": [
    {
     "data": {
      "text/html": [
       "<div>\n",
       "<style scoped>\n",
       "    .dataframe tbody tr th:only-of-type {\n",
       "        vertical-align: middle;\n",
       "    }\n",
       "\n",
       "    .dataframe tbody tr th {\n",
       "        vertical-align: top;\n",
       "    }\n",
       "\n",
       "    .dataframe thead th {\n",
       "        text-align: right;\n",
       "    }\n",
       "</style>\n",
       "<table border=\"1\" class=\"dataframe\">\n",
       "  <thead>\n",
       "    <tr style=\"text-align: right;\">\n",
       "      <th>sentiment</th>\n",
       "      <th>pos</th>\n",
       "      <th>neu</th>\n",
       "      <th>neg</th>\n",
       "    </tr>\n",
       "    <tr>\n",
       "      <th>business_name</th>\n",
       "      <th></th>\n",
       "      <th></th>\n",
       "      <th></th>\n",
       "    </tr>\n",
       "  </thead>\n",
       "  <tbody>\n",
       "    <tr>\n",
       "      <th>tuck shop</th>\n",
       "      <td>497</td>\n",
       "      <td>47</td>\n",
       "      <td>37</td>\n",
       "    </tr>\n",
       "    <tr>\n",
       "      <th>five guys</th>\n",
       "      <td>2488</td>\n",
       "      <td>791</td>\n",
       "      <td>875</td>\n",
       "    </tr>\n",
       "    <tr>\n",
       "      <th>kinka izakaya original</th>\n",
       "      <td>929</td>\n",
       "      <td>172</td>\n",
       "      <td>83</td>\n",
       "    </tr>\n",
       "    <tr>\n",
       "      <th>schwartzs</th>\n",
       "      <td>1486</td>\n",
       "      <td>294</td>\n",
       "      <td>174</td>\n",
       "    </tr>\n",
       "    <tr>\n",
       "      <th>the burgers priest</th>\n",
       "      <td>750</td>\n",
       "      <td>223</td>\n",
       "      <td>226</td>\n",
       "    </tr>\n",
       "  </tbody>\n",
       "</table>\n",
       "</div>"
      ],
      "text/plain": [
       "sentiment                pos  neu  neg\n",
       "business_name                         \n",
       "tuck shop                497   47   37\n",
       "five guys               2488  791  875\n",
       "kinka izakaya original   929  172   83\n",
       "schwartzs               1486  294  174\n",
       "the burgers priest       750  223  226"
      ]
     },
     "execution_count": 20,
     "metadata": {},
     "output_type": "execute_result"
    }
   ],
   "source": [
    "sentiment_stats.head()"
   ]
  },
  {
   "cell_type": "code",
   "execution_count": 21,
   "metadata": {},
   "outputs": [],
   "source": [
    "sentiment_rates = (sentiment_stats\n",
    "                    .apply(lambda row: row/row.sum(), axis=1)\n",
    "                    .round(3)\n",
    "                    .rename(columns=rename_dict)\n",
    "                    .sort_values('Positive', ascending=False))"
   ]
  },
  {
   "cell_type": "code",
   "execution_count": 22,
   "metadata": {},
   "outputs": [
    {
     "data": {
      "text/html": [
       "<div>\n",
       "<style scoped>\n",
       "    .dataframe tbody tr th:only-of-type {\n",
       "        vertical-align: middle;\n",
       "    }\n",
       "\n",
       "    .dataframe tbody tr th {\n",
       "        vertical-align: top;\n",
       "    }\n",
       "\n",
       "    .dataframe thead th {\n",
       "        text-align: right;\n",
       "    }\n",
       "</style>\n",
       "<table border=\"1\" class=\"dataframe\">\n",
       "  <thead>\n",
       "    <tr style=\"text-align: right;\">\n",
       "      <th>sentiment</th>\n",
       "      <th>Positive</th>\n",
       "      <th>Neutral</th>\n",
       "      <th>Negative</th>\n",
       "    </tr>\n",
       "    <tr>\n",
       "      <th>business_name</th>\n",
       "      <th></th>\n",
       "      <th></th>\n",
       "      <th></th>\n",
       "    </tr>\n",
       "  </thead>\n",
       "  <tbody>\n",
       "    <tr>\n",
       "      <th>brew tea bar</th>\n",
       "      <td>0.979</td>\n",
       "      <td>0.013</td>\n",
       "      <td>0.009</td>\n",
       "    </tr>\n",
       "    <tr>\n",
       "      <th>little miss bbq</th>\n",
       "      <td>0.954</td>\n",
       "      <td>0.026</td>\n",
       "      <td>0.020</td>\n",
       "    </tr>\n",
       "    <tr>\n",
       "      <th>poke express</th>\n",
       "      <td>0.951</td>\n",
       "      <td>0.028</td>\n",
       "      <td>0.020</td>\n",
       "    </tr>\n",
       "    <tr>\n",
       "      <th>the goodwich</th>\n",
       "      <td>0.941</td>\n",
       "      <td>0.031</td>\n",
       "      <td>0.027</td>\n",
       "    </tr>\n",
       "    <tr>\n",
       "      <th>bronze cafe at the center</th>\n",
       "      <td>0.939</td>\n",
       "      <td>0.034</td>\n",
       "      <td>0.027</td>\n",
       "    </tr>\n",
       "    <tr>\n",
       "      <th>grouchy johns coffee</th>\n",
       "      <td>0.937</td>\n",
       "      <td>0.035</td>\n",
       "      <td>0.028</td>\n",
       "    </tr>\n",
       "    <tr>\n",
       "      <th>baguette cafe</th>\n",
       "      <td>0.936</td>\n",
       "      <td>0.033</td>\n",
       "      <td>0.030</td>\n",
       "    </tr>\n",
       "    <tr>\n",
       "      <th>soho japanese restaurant</th>\n",
       "      <td>0.931</td>\n",
       "      <td>0.037</td>\n",
       "      <td>0.032</td>\n",
       "    </tr>\n",
       "    <tr>\n",
       "      <th>greek wraps</th>\n",
       "      <td>0.927</td>\n",
       "      <td>0.037</td>\n",
       "      <td>0.037</td>\n",
       "    </tr>\n",
       "    <tr>\n",
       "      <th>kabuto</th>\n",
       "      <td>0.925</td>\n",
       "      <td>0.042</td>\n",
       "      <td>0.034</td>\n",
       "    </tr>\n",
       "    <tr>\n",
       "      <th>welcome diner</th>\n",
       "      <td>0.924</td>\n",
       "      <td>0.034</td>\n",
       "      <td>0.042</td>\n",
       "    </tr>\n",
       "    <tr>\n",
       "      <th>cafe monarch</th>\n",
       "      <td>0.922</td>\n",
       "      <td>0.043</td>\n",
       "      <td>0.035</td>\n",
       "    </tr>\n",
       "    <tr>\n",
       "      <th>zookz sandwiches</th>\n",
       "      <td>0.915</td>\n",
       "      <td>0.057</td>\n",
       "      <td>0.028</td>\n",
       "    </tr>\n",
       "    <tr>\n",
       "      <th>postino arcadia</th>\n",
       "      <td>0.913</td>\n",
       "      <td>0.051</td>\n",
       "      <td>0.035</td>\n",
       "    </tr>\n",
       "    <tr>\n",
       "      <th>gangnam asian bbq dining</th>\n",
       "      <td>0.911</td>\n",
       "      <td>0.049</td>\n",
       "      <td>0.040</td>\n",
       "    </tr>\n",
       "  </tbody>\n",
       "</table>\n",
       "</div>"
      ],
      "text/plain": [
       "sentiment                  Positive  Neutral  Negative\n",
       "business_name                                         \n",
       "brew tea bar                  0.979    0.013     0.009\n",
       "little miss bbq               0.954    0.026     0.020\n",
       "poke express                  0.951    0.028     0.020\n",
       "the goodwich                  0.941    0.031     0.027\n",
       "bronze cafe at the center     0.939    0.034     0.027\n",
       "grouchy johns coffee          0.937    0.035     0.028\n",
       "baguette cafe                 0.936    0.033     0.030\n",
       "soho japanese restaurant      0.931    0.037     0.032\n",
       "greek wraps                   0.927    0.037     0.037\n",
       "kabuto                        0.925    0.042     0.034\n",
       "welcome diner                 0.924    0.034     0.042\n",
       "cafe monarch                  0.922    0.043     0.035\n",
       "zookz sandwiches              0.915    0.057     0.028\n",
       "postino arcadia               0.913    0.051     0.035\n",
       "gangnam asian bbq dining      0.911    0.049     0.040"
      ]
     },
     "execution_count": 22,
     "metadata": {},
     "output_type": "execute_result"
    }
   ],
   "source": [
    "sentiment_rates.head(15)"
   ]
  },
  {
   "cell_type": "code",
   "execution_count": 23,
   "metadata": {},
   "outputs": [
    {
     "data": {
      "text/html": [
       "<div>\n",
       "<style scoped>\n",
       "    .dataframe tbody tr th:only-of-type {\n",
       "        vertical-align: middle;\n",
       "    }\n",
       "\n",
       "    .dataframe tbody tr th {\n",
       "        vertical-align: top;\n",
       "    }\n",
       "\n",
       "    .dataframe thead th {\n",
       "        text-align: right;\n",
       "    }\n",
       "</style>\n",
       "<table border=\"1\" class=\"dataframe\">\n",
       "  <thead>\n",
       "    <tr style=\"text-align: right;\">\n",
       "      <th>sentiment</th>\n",
       "      <th>Positive</th>\n",
       "      <th>Neutral</th>\n",
       "      <th>Negative</th>\n",
       "    </tr>\n",
       "    <tr>\n",
       "      <th>business_name</th>\n",
       "      <th></th>\n",
       "      <th></th>\n",
       "      <th></th>\n",
       "    </tr>\n",
       "  </thead>\n",
       "  <tbody>\n",
       "    <tr>\n",
       "      <th>lvh - las vegas hotel &amp; casino</th>\n",
       "      <td>0.277</td>\n",
       "      <td>0.245</td>\n",
       "      <td>0.478</td>\n",
       "    </tr>\n",
       "    <tr>\n",
       "      <th>senor frogs</th>\n",
       "      <td>0.276</td>\n",
       "      <td>0.152</td>\n",
       "      <td>0.572</td>\n",
       "    </tr>\n",
       "    <tr>\n",
       "      <th>palace station hotel &amp; casino</th>\n",
       "      <td>0.271</td>\n",
       "      <td>0.197</td>\n",
       "      <td>0.532</td>\n",
       "    </tr>\n",
       "    <tr>\n",
       "      <th>mgm grand buffet</th>\n",
       "      <td>0.263</td>\n",
       "      <td>0.239</td>\n",
       "      <td>0.499</td>\n",
       "    </tr>\n",
       "    <tr>\n",
       "      <th>wild wing</th>\n",
       "      <td>0.259</td>\n",
       "      <td>0.162</td>\n",
       "      <td>0.578</td>\n",
       "    </tr>\n",
       "    <tr>\n",
       "      <th>little caesars pizza</th>\n",
       "      <td>0.258</td>\n",
       "      <td>0.137</td>\n",
       "      <td>0.605</td>\n",
       "    </tr>\n",
       "    <tr>\n",
       "      <th>pizza hut</th>\n",
       "      <td>0.252</td>\n",
       "      <td>0.089</td>\n",
       "      <td>0.659</td>\n",
       "    </tr>\n",
       "    <tr>\n",
       "      <th>wendys</th>\n",
       "      <td>0.250</td>\n",
       "      <td>0.131</td>\n",
       "      <td>0.618</td>\n",
       "    </tr>\n",
       "    <tr>\n",
       "      <th>the buffet at ti</th>\n",
       "      <td>0.250</td>\n",
       "      <td>0.243</td>\n",
       "      <td>0.507</td>\n",
       "    </tr>\n",
       "    <tr>\n",
       "      <th>the buffet at luxor</th>\n",
       "      <td>0.231</td>\n",
       "      <td>0.215</td>\n",
       "      <td>0.554</td>\n",
       "    </tr>\n",
       "    <tr>\n",
       "      <th>hooters casino hotel las vegas</th>\n",
       "      <td>0.226</td>\n",
       "      <td>0.187</td>\n",
       "      <td>0.587</td>\n",
       "    </tr>\n",
       "    <tr>\n",
       "      <th>riviera hotel &amp; casino</th>\n",
       "      <td>0.219</td>\n",
       "      <td>0.180</td>\n",
       "      <td>0.600</td>\n",
       "    </tr>\n",
       "    <tr>\n",
       "      <th>burger king</th>\n",
       "      <td>0.205</td>\n",
       "      <td>0.143</td>\n",
       "      <td>0.652</td>\n",
       "    </tr>\n",
       "    <tr>\n",
       "      <th>mcdonalds</th>\n",
       "      <td>0.196</td>\n",
       "      <td>0.123</td>\n",
       "      <td>0.681</td>\n",
       "    </tr>\n",
       "    <tr>\n",
       "      <th>kfc</th>\n",
       "      <td>0.134</td>\n",
       "      <td>0.091</td>\n",
       "      <td>0.775</td>\n",
       "    </tr>\n",
       "  </tbody>\n",
       "</table>\n",
       "</div>"
      ],
      "text/plain": [
       "sentiment                       Positive  Neutral  Negative\n",
       "business_name                                              \n",
       "lvh - las vegas hotel & casino     0.277    0.245     0.478\n",
       "senor frogs                        0.276    0.152     0.572\n",
       "palace station hotel & casino      0.271    0.197     0.532\n",
       "mgm grand buffet                   0.263    0.239     0.499\n",
       "wild wing                          0.259    0.162     0.578\n",
       "little caesars pizza               0.258    0.137     0.605\n",
       "pizza hut                          0.252    0.089     0.659\n",
       "wendys                             0.250    0.131     0.618\n",
       "the buffet at ti                   0.250    0.243     0.507\n",
       "the buffet at luxor                0.231    0.215     0.554\n",
       "hooters casino hotel las vegas     0.226    0.187     0.587\n",
       "riviera hotel & casino             0.219    0.180     0.600\n",
       "burger king                        0.205    0.143     0.652\n",
       "mcdonalds                          0.196    0.123     0.681\n",
       "kfc                                0.134    0.091     0.775"
      ]
     },
     "execution_count": 23,
     "metadata": {},
     "output_type": "execute_result"
    }
   ],
   "source": [
    "sentiment_rates.tail(15)"
   ]
  },
  {
   "cell_type": "code",
   "execution_count": 24,
   "metadata": {},
   "outputs": [],
   "source": [
    "# by_business_rating['Pos Rate'] = (by_business_rating\n",
    "#                                      .apply(lambda x: x.loc[[4, 5]].sum()/x.loc[[1,2,3,4,5]].sum(), axis=1)\n",
    "#                                      .values)\n",
    "\n",
    "# by_business_rating['Neg Rate'] = (by_business_rating\n",
    "#                                      .apply(lambda x: x.loc[[1, 2]].sum()/x.loc[[1,2,3,4,5]].sum(), axis=1))\n",
    "\n",
    "# by_business_rating['Neutral Rate'] = (by_business_rating\n",
    "#                                     .apply(lambda x: x.loc[3]/x.loc[[1,2,3,4,5]].sum(), axis=1))"
   ]
  },
  {
   "cell_type": "code",
   "execution_count": 25,
   "metadata": {},
   "outputs": [],
   "source": [
    "# by_business_rating.sort_values('Pos Rate', ascending=False).head()"
   ]
  },
  {
   "cell_type": "code",
   "execution_count": 26,
   "metadata": {},
   "outputs": [
    {
     "data": {
      "text/html": [
       "<div style=\"display:inline-block;padding:10px;\"><div>accent</div><div style=\"background-color:rgb(127,201,127);height:20px;width:20px;margin-bottom:0px;display:inline-block;\"></div><div style=\"background-color:rgb(190,174,212);height:20px;width:20px;margin-bottom:0px;display:inline-block;\"></div><div style=\"background-color:rgb(253,192,134);height:20px;width:20px;margin-bottom:0px;display:inline-block;\"></div><div style=\"background-color:rgb(255,255,153);height:20px;width:20px;margin-bottom:0px;display:inline-block;\"></div><div style=\"background-color:rgb(56,108,176);height:20px;width:20px;margin-bottom:0px;display:inline-block;\"></div><div style=\"background-color:rgb(240,2,127);height:20px;width:20px;margin-bottom:0px;display:inline-block;\"></div><div style=\"background-color:rgb(191,91,23);height:20px;width:20px;margin-bottom:0px;display:inline-block;\"></div><div style=\"background-color:rgb(102,102,102);height:20px;width:20px;margin-bottom:0px;display:inline-block;\"></div></div><div style=\"display:inline-block;padding:10px;\"><div>blues</div><div style=\"background-color:rgb(247,251,255);height:20px;width:20px;margin-bottom:0px;display:inline-block;\"></div><div style=\"background-color:rgb(222,235,247);height:20px;width:20px;margin-bottom:0px;display:inline-block;\"></div><div style=\"background-color:rgb(198,219,239);height:20px;width:20px;margin-bottom:0px;display:inline-block;\"></div><div style=\"background-color:rgb(158,202,225);height:20px;width:20px;margin-bottom:0px;display:inline-block;\"></div><div style=\"background-color:rgb(107,174,214);height:20px;width:20px;margin-bottom:0px;display:inline-block;\"></div><div style=\"background-color:rgb(66,146,198);height:20px;width:20px;margin-bottom:0px;display:inline-block;\"></div><div style=\"background-color:rgb(33,113,181);height:20px;width:20px;margin-bottom:0px;display:inline-block;\"></div><div style=\"background-color:rgb(8,81,156);height:20px;width:20px;margin-bottom:0px;display:inline-block;\"></div><div style=\"background-color:rgb(8,48,107);height:20px;width:20px;margin-bottom:0px;display:inline-block;\"></div></div><div style=\"display:inline-block;padding:10px;\"><div>brbg</div><div style=\"background-color:rgb(84,48,5);height:20px;width:20px;margin-bottom:0px;display:inline-block;\"></div><div style=\"background-color:rgb(140,81,10);height:20px;width:20px;margin-bottom:0px;display:inline-block;\"></div><div style=\"background-color:rgb(191,129,45);height:20px;width:20px;margin-bottom:0px;display:inline-block;\"></div><div style=\"background-color:rgb(223,194,125);height:20px;width:20px;margin-bottom:0px;display:inline-block;\"></div><div style=\"background-color:rgb(246,232,195);height:20px;width:20px;margin-bottom:0px;display:inline-block;\"></div><div style=\"background-color:rgb(245,245,245);height:20px;width:20px;margin-bottom:0px;display:inline-block;\"></div><div style=\"background-color:rgb(199,234,229);height:20px;width:20px;margin-bottom:0px;display:inline-block;\"></div><div style=\"background-color:rgb(128,205,193);height:20px;width:20px;margin-bottom:0px;display:inline-block;\"></div><div style=\"background-color:rgb(53,151,143);height:20px;width:20px;margin-bottom:0px;display:inline-block;\"></div><div style=\"background-color:rgb(1,102,94);height:20px;width:20px;margin-bottom:0px;display:inline-block;\"></div><div style=\"background-color:rgb(0,60,48);height:20px;width:20px;margin-bottom:0px;display:inline-block;\"></div></div><div style=\"display:inline-block;padding:10px;\"><div>bugn</div><div style=\"background-color:rgb(247,252,253);height:20px;width:20px;margin-bottom:0px;display:inline-block;\"></div><div style=\"background-color:rgb(229,245,249);height:20px;width:20px;margin-bottom:0px;display:inline-block;\"></div><div style=\"background-color:rgb(204,236,230);height:20px;width:20px;margin-bottom:0px;display:inline-block;\"></div><div style=\"background-color:rgb(153,216,201);height:20px;width:20px;margin-bottom:0px;display:inline-block;\"></div><div style=\"background-color:rgb(102,194,164);height:20px;width:20px;margin-bottom:0px;display:inline-block;\"></div><div style=\"background-color:rgb(65,174,118);height:20px;width:20px;margin-bottom:0px;display:inline-block;\"></div><div style=\"background-color:rgb(35,139,69);height:20px;width:20px;margin-bottom:0px;display:inline-block;\"></div><div style=\"background-color:rgb(0,109,44);height:20px;width:20px;margin-bottom:0px;display:inline-block;\"></div><div style=\"background-color:rgb(0,68,27);height:20px;width:20px;margin-bottom:0px;display:inline-block;\"></div></div><div style=\"display:inline-block;padding:10px;\"><div>bupu</div><div style=\"background-color:rgb(247,252,253);height:20px;width:20px;margin-bottom:0px;display:inline-block;\"></div><div style=\"background-color:rgb(224,236,244);height:20px;width:20px;margin-bottom:0px;display:inline-block;\"></div><div style=\"background-color:rgb(191,211,230);height:20px;width:20px;margin-bottom:0px;display:inline-block;\"></div><div style=\"background-color:rgb(158,188,218);height:20px;width:20px;margin-bottom:0px;display:inline-block;\"></div><div style=\"background-color:rgb(140,150,198);height:20px;width:20px;margin-bottom:0px;display:inline-block;\"></div><div style=\"background-color:rgb(140,107,177);height:20px;width:20px;margin-bottom:0px;display:inline-block;\"></div><div style=\"background-color:rgb(136,65,157);height:20px;width:20px;margin-bottom:0px;display:inline-block;\"></div><div style=\"background-color:rgb(129,15,124);height:20px;width:20px;margin-bottom:0px;display:inline-block;\"></div><div style=\"background-color:rgb(77,0,75);height:20px;width:20px;margin-bottom:0px;display:inline-block;\"></div></div><div style=\"display:inline-block;padding:10px;\"><div>dark2</div><div style=\"background-color:rgb(27,158,119);height:20px;width:20px;margin-bottom:0px;display:inline-block;\"></div><div style=\"background-color:rgb(217,95,2);height:20px;width:20px;margin-bottom:0px;display:inline-block;\"></div><div style=\"background-color:rgb(117,112,179);height:20px;width:20px;margin-bottom:0px;display:inline-block;\"></div><div style=\"background-color:rgb(231,41,138);height:20px;width:20px;margin-bottom:0px;display:inline-block;\"></div><div style=\"background-color:rgb(102,166,30);height:20px;width:20px;margin-bottom:0px;display:inline-block;\"></div><div style=\"background-color:rgb(230,171,2);height:20px;width:20px;margin-bottom:0px;display:inline-block;\"></div><div style=\"background-color:rgb(166,118,29);height:20px;width:20px;margin-bottom:0px;display:inline-block;\"></div><div style=\"background-color:rgb(102,102,102);height:20px;width:20px;margin-bottom:0px;display:inline-block;\"></div></div><div style=\"display:inline-block;padding:10px;\"><div>dflt</div><div style=\"background-color:rgb(255, 153, 51);height:20px;width:20px;margin-bottom:0px;display:inline-block;\"></div><div style=\"background-color:rgb(55, 128, 191);height:20px;width:20px;margin-bottom:0px;display:inline-block;\"></div><div style=\"background-color:rgb(50, 171, 96);height:20px;width:20px;margin-bottom:0px;display:inline-block;\"></div><div style=\"background-color:rgb(128, 0, 128);height:20px;width:20px;margin-bottom:0px;display:inline-block;\"></div><div style=\"background-color:rgb(219, 64, 82);height:20px;width:20px;margin-bottom:0px;display:inline-block;\"></div><div style=\"background-color:rgb(0, 128, 128);height:20px;width:20px;margin-bottom:0px;display:inline-block;\"></div><div style=\"background-color:rgb(255, 255, 51);height:20px;width:20px;margin-bottom:0px;display:inline-block;\"></div><div style=\"background-color:rgb(128, 128, 0);height:20px;width:20px;margin-bottom:0px;display:inline-block;\"></div><div style=\"background-color:rgb(251, 128, 114);height:20px;width:20px;margin-bottom:0px;display:inline-block;\"></div><div style=\"background-color:rgb(128, 177, 211);height:20px;width:20px;margin-bottom:0px;display:inline-block;\"></div></div><div style=\"display:inline-block;padding:10px;\"><div>ggplot</div><div style=\"background-color:rgb(226, 74, 51);height:20px;width:20px;margin-bottom:0px;display:inline-block;\"></div><div style=\"background-color:rgb(62, 111, 176);height:20px;width:20px;margin-bottom:0px;display:inline-block;\"></div><div style=\"background-color:rgb(132, 118, 202);height:20px;width:20px;margin-bottom:0px;display:inline-block;\"></div><div style=\"background-color:rgb(101, 101, 101);height:20px;width:20px;margin-bottom:0px;display:inline-block;\"></div><div style=\"background-color:rgb(251, 193, 94);height:20px;width:20px;margin-bottom:0px;display:inline-block;\"></div><div style=\"background-color:rgb(142, 186, 66);height:20px;width:20px;margin-bottom:0px;display:inline-block;\"></div><div style=\"background-color:rgb(255, 181, 184);height:20px;width:20px;margin-bottom:0px;display:inline-block;\"></div></div><div style=\"display:inline-block;padding:10px;\"><div>gnbu</div><div style=\"background-color:rgb(247,252,240);height:20px;width:20px;margin-bottom:0px;display:inline-block;\"></div><div style=\"background-color:rgb(224,243,219);height:20px;width:20px;margin-bottom:0px;display:inline-block;\"></div><div style=\"background-color:rgb(204,235,197);height:20px;width:20px;margin-bottom:0px;display:inline-block;\"></div><div style=\"background-color:rgb(168,221,181);height:20px;width:20px;margin-bottom:0px;display:inline-block;\"></div><div style=\"background-color:rgb(123,204,196);height:20px;width:20px;margin-bottom:0px;display:inline-block;\"></div><div style=\"background-color:rgb(78,179,211);height:20px;width:20px;margin-bottom:0px;display:inline-block;\"></div><div style=\"background-color:rgb(43,140,190);height:20px;width:20px;margin-bottom:0px;display:inline-block;\"></div><div style=\"background-color:rgb(8,104,172);height:20px;width:20px;margin-bottom:0px;display:inline-block;\"></div><div style=\"background-color:rgb(8,64,129);height:20px;width:20px;margin-bottom:0px;display:inline-block;\"></div></div><div style=\"display:inline-block;padding:10px;\"><div>greens</div><div style=\"background-color:rgb(247,252,245);height:20px;width:20px;margin-bottom:0px;display:inline-block;\"></div><div style=\"background-color:rgb(229,245,224);height:20px;width:20px;margin-bottom:0px;display:inline-block;\"></div><div style=\"background-color:rgb(199,233,192);height:20px;width:20px;margin-bottom:0px;display:inline-block;\"></div><div style=\"background-color:rgb(161,217,155);height:20px;width:20px;margin-bottom:0px;display:inline-block;\"></div><div style=\"background-color:rgb(116,196,118);height:20px;width:20px;margin-bottom:0px;display:inline-block;\"></div><div style=\"background-color:rgb(65,171,93);height:20px;width:20px;margin-bottom:0px;display:inline-block;\"></div><div style=\"background-color:rgb(35,139,69);height:20px;width:20px;margin-bottom:0px;display:inline-block;\"></div><div style=\"background-color:rgb(0,109,44);height:20px;width:20px;margin-bottom:0px;display:inline-block;\"></div><div style=\"background-color:rgb(0,68,27);height:20px;width:20px;margin-bottom:0px;display:inline-block;\"></div></div><div style=\"display:inline-block;padding:10px;\"><div>greys</div><div style=\"background-color:rgb(255,255,255);height:20px;width:20px;margin-bottom:0px;display:inline-block;\"></div><div style=\"background-color:rgb(240,240,240);height:20px;width:20px;margin-bottom:0px;display:inline-block;\"></div><div style=\"background-color:rgb(217,217,217);height:20px;width:20px;margin-bottom:0px;display:inline-block;\"></div><div style=\"background-color:rgb(189,189,189);height:20px;width:20px;margin-bottom:0px;display:inline-block;\"></div><div style=\"background-color:rgb(150,150,150);height:20px;width:20px;margin-bottom:0px;display:inline-block;\"></div><div style=\"background-color:rgb(115,115,115);height:20px;width:20px;margin-bottom:0px;display:inline-block;\"></div><div style=\"background-color:rgb(82,82,82);height:20px;width:20px;margin-bottom:0px;display:inline-block;\"></div><div style=\"background-color:rgb(37,37,37);height:20px;width:20px;margin-bottom:0px;display:inline-block;\"></div><div style=\"background-color:rgb(0,0,0);height:20px;width:20px;margin-bottom:0px;display:inline-block;\"></div></div><div style=\"display:inline-block;padding:10px;\"><div>oranges</div><div style=\"background-color:rgb(255,245,235);height:20px;width:20px;margin-bottom:0px;display:inline-block;\"></div><div style=\"background-color:rgb(254,230,206);height:20px;width:20px;margin-bottom:0px;display:inline-block;\"></div><div style=\"background-color:rgb(253,208,162);height:20px;width:20px;margin-bottom:0px;display:inline-block;\"></div><div style=\"background-color:rgb(253,174,107);height:20px;width:20px;margin-bottom:0px;display:inline-block;\"></div><div style=\"background-color:rgb(253,141,60);height:20px;width:20px;margin-bottom:0px;display:inline-block;\"></div><div style=\"background-color:rgb(241,105,19);height:20px;width:20px;margin-bottom:0px;display:inline-block;\"></div><div style=\"background-color:rgb(217,72,1);height:20px;width:20px;margin-bottom:0px;display:inline-block;\"></div><div style=\"background-color:rgb(166,54,3);height:20px;width:20px;margin-bottom:0px;display:inline-block;\"></div><div style=\"background-color:rgb(127,39,4);height:20px;width:20px;margin-bottom:0px;display:inline-block;\"></div></div><div style=\"display:inline-block;padding:10px;\"><div>original</div><div style=\"background-color:rgb(255, 153, 51);height:20px;width:20px;margin-bottom:0px;display:inline-block;\"></div><div style=\"background-color:rgb(55, 128, 191);height:20px;width:20px;margin-bottom:0px;display:inline-block;\"></div><div style=\"background-color:rgb(50, 171, 96);height:20px;width:20px;margin-bottom:0px;display:inline-block;\"></div><div style=\"background-color:rgb(128, 0, 128);height:20px;width:20px;margin-bottom:0px;display:inline-block;\"></div><div style=\"background-color:rgb(219, 64, 82);height:20px;width:20px;margin-bottom:0px;display:inline-block;\"></div><div style=\"background-color:rgb(0, 128, 128);height:20px;width:20px;margin-bottom:0px;display:inline-block;\"></div><div style=\"background-color:rgb(255, 255, 51);height:20px;width:20px;margin-bottom:0px;display:inline-block;\"></div><div style=\"background-color:rgb(128, 128, 0);height:20px;width:20px;margin-bottom:0px;display:inline-block;\"></div><div style=\"background-color:rgb(251, 128, 114);height:20px;width:20px;margin-bottom:0px;display:inline-block;\"></div><div style=\"background-color:rgb(128, 177, 211);height:20px;width:20px;margin-bottom:0px;display:inline-block;\"></div></div><div style=\"display:inline-block;padding:10px;\"><div>orrd</div><div style=\"background-color:rgb(255,247,236);height:20px;width:20px;margin-bottom:0px;display:inline-block;\"></div><div style=\"background-color:rgb(254,232,200);height:20px;width:20px;margin-bottom:0px;display:inline-block;\"></div><div style=\"background-color:rgb(253,212,158);height:20px;width:20px;margin-bottom:0px;display:inline-block;\"></div><div style=\"background-color:rgb(253,187,132);height:20px;width:20px;margin-bottom:0px;display:inline-block;\"></div><div style=\"background-color:rgb(252,141,89);height:20px;width:20px;margin-bottom:0px;display:inline-block;\"></div><div style=\"background-color:rgb(239,101,72);height:20px;width:20px;margin-bottom:0px;display:inline-block;\"></div><div style=\"background-color:rgb(215,48,31);height:20px;width:20px;margin-bottom:0px;display:inline-block;\"></div><div style=\"background-color:rgb(179,0,0);height:20px;width:20px;margin-bottom:0px;display:inline-block;\"></div><div style=\"background-color:rgb(127,0,0);height:20px;width:20px;margin-bottom:0px;display:inline-block;\"></div></div><div style=\"display:inline-block;padding:10px;\"><div>paired</div><div style=\"background-color:rgb(166,206,227);height:20px;width:20px;margin-bottom:0px;display:inline-block;\"></div><div style=\"background-color:rgb(31,120,180);height:20px;width:20px;margin-bottom:0px;display:inline-block;\"></div><div style=\"background-color:rgb(178,223,138);height:20px;width:20px;margin-bottom:0px;display:inline-block;\"></div><div style=\"background-color:rgb(51,160,44);height:20px;width:20px;margin-bottom:0px;display:inline-block;\"></div><div style=\"background-color:rgb(251,154,153);height:20px;width:20px;margin-bottom:0px;display:inline-block;\"></div><div style=\"background-color:rgb(227,26,28);height:20px;width:20px;margin-bottom:0px;display:inline-block;\"></div><div style=\"background-color:rgb(253,191,111);height:20px;width:20px;margin-bottom:0px;display:inline-block;\"></div><div style=\"background-color:rgb(255,127,0);height:20px;width:20px;margin-bottom:0px;display:inline-block;\"></div><div style=\"background-color:rgb(202,178,214);height:20px;width:20px;margin-bottom:0px;display:inline-block;\"></div><div style=\"background-color:rgb(106,61,154);height:20px;width:20px;margin-bottom:0px;display:inline-block;\"></div><div style=\"background-color:rgb(255,255,153);height:20px;width:20px;margin-bottom:0px;display:inline-block;\"></div><div style=\"background-color:rgb(177,89,40);height:20px;width:20px;margin-bottom:0px;display:inline-block;\"></div></div><div style=\"display:inline-block;padding:10px;\"><div>pastel1</div><div style=\"background-color:rgb(251,180,174);height:20px;width:20px;margin-bottom:0px;display:inline-block;\"></div><div style=\"background-color:rgb(179,205,227);height:20px;width:20px;margin-bottom:0px;display:inline-block;\"></div><div style=\"background-color:rgb(204,235,197);height:20px;width:20px;margin-bottom:0px;display:inline-block;\"></div><div style=\"background-color:rgb(222,203,228);height:20px;width:20px;margin-bottom:0px;display:inline-block;\"></div><div style=\"background-color:rgb(254,217,166);height:20px;width:20px;margin-bottom:0px;display:inline-block;\"></div><div style=\"background-color:rgb(255,255,204);height:20px;width:20px;margin-bottom:0px;display:inline-block;\"></div><div style=\"background-color:rgb(229,216,189);height:20px;width:20px;margin-bottom:0px;display:inline-block;\"></div><div style=\"background-color:rgb(253,218,236);height:20px;width:20px;margin-bottom:0px;display:inline-block;\"></div><div style=\"background-color:rgb(242,242,242);height:20px;width:20px;margin-bottom:0px;display:inline-block;\"></div></div><div style=\"display:inline-block;padding:10px;\"><div>pastel2</div><div style=\"background-color:rgb(179,226,205);height:20px;width:20px;margin-bottom:0px;display:inline-block;\"></div><div style=\"background-color:rgb(253,205,172);height:20px;width:20px;margin-bottom:0px;display:inline-block;\"></div><div style=\"background-color:rgb(203,213,232);height:20px;width:20px;margin-bottom:0px;display:inline-block;\"></div><div style=\"background-color:rgb(244,202,228);height:20px;width:20px;margin-bottom:0px;display:inline-block;\"></div><div style=\"background-color:rgb(230,245,201);height:20px;width:20px;margin-bottom:0px;display:inline-block;\"></div><div style=\"background-color:rgb(255,242,174);height:20px;width:20px;margin-bottom:0px;display:inline-block;\"></div><div style=\"background-color:rgb(241,226,204);height:20px;width:20px;margin-bottom:0px;display:inline-block;\"></div><div style=\"background-color:rgb(204,204,204);height:20px;width:20px;margin-bottom:0px;display:inline-block;\"></div></div><div style=\"display:inline-block;padding:10px;\"><div>piyg</div><div style=\"background-color:rgb(142,1,82);height:20px;width:20px;margin-bottom:0px;display:inline-block;\"></div><div style=\"background-color:rgb(197,27,125);height:20px;width:20px;margin-bottom:0px;display:inline-block;\"></div><div style=\"background-color:rgb(222,119,174);height:20px;width:20px;margin-bottom:0px;display:inline-block;\"></div><div style=\"background-color:rgb(241,182,218);height:20px;width:20px;margin-bottom:0px;display:inline-block;\"></div><div style=\"background-color:rgb(253,224,239);height:20px;width:20px;margin-bottom:0px;display:inline-block;\"></div><div style=\"background-color:rgb(247,247,247);height:20px;width:20px;margin-bottom:0px;display:inline-block;\"></div><div style=\"background-color:rgb(230,245,208);height:20px;width:20px;margin-bottom:0px;display:inline-block;\"></div><div style=\"background-color:rgb(184,225,134);height:20px;width:20px;margin-bottom:0px;display:inline-block;\"></div><div style=\"background-color:rgb(127,188,65);height:20px;width:20px;margin-bottom:0px;display:inline-block;\"></div><div style=\"background-color:rgb(77,146,33);height:20px;width:20px;margin-bottom:0px;display:inline-block;\"></div><div style=\"background-color:rgb(39,100,25);height:20px;width:20px;margin-bottom:0px;display:inline-block;\"></div></div><div style=\"display:inline-block;padding:10px;\"><div>plotly</div><div style=\"background-color:rgb(31, 119, 180);height:20px;width:20px;margin-bottom:0px;display:inline-block;\"></div><div style=\"background-color:rgb(255, 127, 14);height:20px;width:20px;margin-bottom:0px;display:inline-block;\"></div><div style=\"background-color:rgb(44, 160, 44);height:20px;width:20px;margin-bottom:0px;display:inline-block;\"></div><div style=\"background-color:rgb(214, 39, 40);height:20px;width:20px;margin-bottom:0px;display:inline-block;\"></div><div style=\"background-color:rgb(148, 103, 189);height:20px;width:20px;margin-bottom:0px;display:inline-block;\"></div><div style=\"background-color:rgb(140, 86, 75);height:20px;width:20px;margin-bottom:0px;display:inline-block;\"></div><div style=\"background-color:rgb(227, 119, 194);height:20px;width:20px;margin-bottom:0px;display:inline-block;\"></div><div style=\"background-color:rgb(127, 127, 127);height:20px;width:20px;margin-bottom:0px;display:inline-block;\"></div><div style=\"background-color:rgb(188, 189, 34);height:20px;width:20px;margin-bottom:0px;display:inline-block;\"></div><div style=\"background-color:rgb(23, 190, 207);height:20px;width:20px;margin-bottom:0px;display:inline-block;\"></div></div><div style=\"display:inline-block;padding:10px;\"><div>polar</div><div style=\"background-color:rgb(0, 128, 240);height:20px;width:20px;margin-bottom:0px;display:inline-block;\"></div><div style=\"background-color:rgb(238, 118, 0);height:20px;width:20px;margin-bottom:0px;display:inline-block;\"></div><div style=\"background-color:rgb(48, 144, 84);height:20px;width:20px;margin-bottom:0px;display:inline-block;\"></div><div style=\"background-color:rgb(98, 98, 222);height:20px;width:20px;margin-bottom:0px;display:inline-block;\"></div><div style=\"background-color:rgb(217, 66, 85);height:20px;width:20px;margin-bottom:0px;display:inline-block;\"></div><div style=\"background-color:rgb(173, 252, 252);height:20px;width:20px;margin-bottom:0px;display:inline-block;\"></div><div style=\"background-color:rgb(70, 160, 240);height:20px;width:20px;margin-bottom:0px;display:inline-block;\"></div></div><div style=\"display:inline-block;padding:10px;\"><div>prgn</div><div style=\"background-color:rgb(64,0,75);height:20px;width:20px;margin-bottom:0px;display:inline-block;\"></div><div style=\"background-color:rgb(118,42,131);height:20px;width:20px;margin-bottom:0px;display:inline-block;\"></div><div style=\"background-color:rgb(153,112,171);height:20px;width:20px;margin-bottom:0px;display:inline-block;\"></div><div style=\"background-color:rgb(194,165,207);height:20px;width:20px;margin-bottom:0px;display:inline-block;\"></div><div style=\"background-color:rgb(231,212,232);height:20px;width:20px;margin-bottom:0px;display:inline-block;\"></div><div style=\"background-color:rgb(247,247,247);height:20px;width:20px;margin-bottom:0px;display:inline-block;\"></div><div style=\"background-color:rgb(217,240,211);height:20px;width:20px;margin-bottom:0px;display:inline-block;\"></div><div style=\"background-color:rgb(166,219,160);height:20px;width:20px;margin-bottom:0px;display:inline-block;\"></div><div style=\"background-color:rgb(90,174,97);height:20px;width:20px;margin-bottom:0px;display:inline-block;\"></div><div style=\"background-color:rgb(27,120,55);height:20px;width:20px;margin-bottom:0px;display:inline-block;\"></div><div style=\"background-color:rgb(0,68,27);height:20px;width:20px;margin-bottom:0px;display:inline-block;\"></div></div><div style=\"display:inline-block;padding:10px;\"><div>pubu</div><div style=\"background-color:rgb(255,247,251);height:20px;width:20px;margin-bottom:0px;display:inline-block;\"></div><div style=\"background-color:rgb(236,231,242);height:20px;width:20px;margin-bottom:0px;display:inline-block;\"></div><div style=\"background-color:rgb(208,209,230);height:20px;width:20px;margin-bottom:0px;display:inline-block;\"></div><div style=\"background-color:rgb(166,189,219);height:20px;width:20px;margin-bottom:0px;display:inline-block;\"></div><div style=\"background-color:rgb(116,169,207);height:20px;width:20px;margin-bottom:0px;display:inline-block;\"></div><div style=\"background-color:rgb(54,144,192);height:20px;width:20px;margin-bottom:0px;display:inline-block;\"></div><div style=\"background-color:rgb(5,112,176);height:20px;width:20px;margin-bottom:0px;display:inline-block;\"></div><div style=\"background-color:rgb(4,90,141);height:20px;width:20px;margin-bottom:0px;display:inline-block;\"></div><div style=\"background-color:rgb(2,56,88);height:20px;width:20px;margin-bottom:0px;display:inline-block;\"></div></div><div style=\"display:inline-block;padding:10px;\"><div>pubugn</div><div style=\"background-color:rgb(255,247,251);height:20px;width:20px;margin-bottom:0px;display:inline-block;\"></div><div style=\"background-color:rgb(236,226,240);height:20px;width:20px;margin-bottom:0px;display:inline-block;\"></div><div style=\"background-color:rgb(208,209,230);height:20px;width:20px;margin-bottom:0px;display:inline-block;\"></div><div style=\"background-color:rgb(166,189,219);height:20px;width:20px;margin-bottom:0px;display:inline-block;\"></div><div style=\"background-color:rgb(103,169,207);height:20px;width:20px;margin-bottom:0px;display:inline-block;\"></div><div style=\"background-color:rgb(54,144,192);height:20px;width:20px;margin-bottom:0px;display:inline-block;\"></div><div style=\"background-color:rgb(2,129,138);height:20px;width:20px;margin-bottom:0px;display:inline-block;\"></div><div style=\"background-color:rgb(1,108,89);height:20px;width:20px;margin-bottom:0px;display:inline-block;\"></div><div style=\"background-color:rgb(1,70,54);height:20px;width:20px;margin-bottom:0px;display:inline-block;\"></div></div><div style=\"display:inline-block;padding:10px;\"><div>puor</div><div style=\"background-color:rgb(127,59,8);height:20px;width:20px;margin-bottom:0px;display:inline-block;\"></div><div style=\"background-color:rgb(179,88,6);height:20px;width:20px;margin-bottom:0px;display:inline-block;\"></div><div style=\"background-color:rgb(224,130,20);height:20px;width:20px;margin-bottom:0px;display:inline-block;\"></div><div style=\"background-color:rgb(253,184,99);height:20px;width:20px;margin-bottom:0px;display:inline-block;\"></div><div style=\"background-color:rgb(254,224,182);height:20px;width:20px;margin-bottom:0px;display:inline-block;\"></div><div style=\"background-color:rgb(247,247,247);height:20px;width:20px;margin-bottom:0px;display:inline-block;\"></div><div style=\"background-color:rgb(216,218,235);height:20px;width:20px;margin-bottom:0px;display:inline-block;\"></div><div style=\"background-color:rgb(178,171,210);height:20px;width:20px;margin-bottom:0px;display:inline-block;\"></div><div style=\"background-color:rgb(128,115,172);height:20px;width:20px;margin-bottom:0px;display:inline-block;\"></div><div style=\"background-color:rgb(84,39,136);height:20px;width:20px;margin-bottom:0px;display:inline-block;\"></div><div style=\"background-color:rgb(45,0,75);height:20px;width:20px;margin-bottom:0px;display:inline-block;\"></div></div><div style=\"display:inline-block;padding:10px;\"><div>purd</div><div style=\"background-color:rgb(247,244,249);height:20px;width:20px;margin-bottom:0px;display:inline-block;\"></div><div style=\"background-color:rgb(231,225,239);height:20px;width:20px;margin-bottom:0px;display:inline-block;\"></div><div style=\"background-color:rgb(212,185,218);height:20px;width:20px;margin-bottom:0px;display:inline-block;\"></div><div style=\"background-color:rgb(201,148,199);height:20px;width:20px;margin-bottom:0px;display:inline-block;\"></div><div style=\"background-color:rgb(223,101,176);height:20px;width:20px;margin-bottom:0px;display:inline-block;\"></div><div style=\"background-color:rgb(231,41,138);height:20px;width:20px;margin-bottom:0px;display:inline-block;\"></div><div style=\"background-color:rgb(206,18,86);height:20px;width:20px;margin-bottom:0px;display:inline-block;\"></div><div style=\"background-color:rgb(152,0,67);height:20px;width:20px;margin-bottom:0px;display:inline-block;\"></div><div style=\"background-color:rgb(103,0,31);height:20px;width:20px;margin-bottom:0px;display:inline-block;\"></div></div><div style=\"display:inline-block;padding:10px;\"><div>purples</div><div style=\"background-color:rgb(252,251,253);height:20px;width:20px;margin-bottom:0px;display:inline-block;\"></div><div style=\"background-color:rgb(239,237,245);height:20px;width:20px;margin-bottom:0px;display:inline-block;\"></div><div style=\"background-color:rgb(218,218,235);height:20px;width:20px;margin-bottom:0px;display:inline-block;\"></div><div style=\"background-color:rgb(188,189,220);height:20px;width:20px;margin-bottom:0px;display:inline-block;\"></div><div style=\"background-color:rgb(158,154,200);height:20px;width:20px;margin-bottom:0px;display:inline-block;\"></div><div style=\"background-color:rgb(128,125,186);height:20px;width:20px;margin-bottom:0px;display:inline-block;\"></div><div style=\"background-color:rgb(106,81,163);height:20px;width:20px;margin-bottom:0px;display:inline-block;\"></div><div style=\"background-color:rgb(84,39,143);height:20px;width:20px;margin-bottom:0px;display:inline-block;\"></div><div style=\"background-color:rgb(63,0,125);height:20px;width:20px;margin-bottom:0px;display:inline-block;\"></div></div><div style=\"display:inline-block;padding:10px;\"><div>rdbu</div><div style=\"background-color:rgb(103,0,31);height:20px;width:20px;margin-bottom:0px;display:inline-block;\"></div><div style=\"background-color:rgb(178,24,43);height:20px;width:20px;margin-bottom:0px;display:inline-block;\"></div><div style=\"background-color:rgb(214,96,77);height:20px;width:20px;margin-bottom:0px;display:inline-block;\"></div><div style=\"background-color:rgb(244,165,130);height:20px;width:20px;margin-bottom:0px;display:inline-block;\"></div><div style=\"background-color:rgb(253,219,199);height:20px;width:20px;margin-bottom:0px;display:inline-block;\"></div><div style=\"background-color:rgb(247,247,247);height:20px;width:20px;margin-bottom:0px;display:inline-block;\"></div><div style=\"background-color:rgb(209,229,240);height:20px;width:20px;margin-bottom:0px;display:inline-block;\"></div><div style=\"background-color:rgb(146,197,222);height:20px;width:20px;margin-bottom:0px;display:inline-block;\"></div><div style=\"background-color:rgb(67,147,195);height:20px;width:20px;margin-bottom:0px;display:inline-block;\"></div><div style=\"background-color:rgb(33,102,172);height:20px;width:20px;margin-bottom:0px;display:inline-block;\"></div><div style=\"background-color:rgb(5,48,97);height:20px;width:20px;margin-bottom:0px;display:inline-block;\"></div></div><div style=\"display:inline-block;padding:10px;\"><div>rdgy</div><div style=\"background-color:rgb(103,0,31);height:20px;width:20px;margin-bottom:0px;display:inline-block;\"></div><div style=\"background-color:rgb(178,24,43);height:20px;width:20px;margin-bottom:0px;display:inline-block;\"></div><div style=\"background-color:rgb(214,96,77);height:20px;width:20px;margin-bottom:0px;display:inline-block;\"></div><div style=\"background-color:rgb(244,165,130);height:20px;width:20px;margin-bottom:0px;display:inline-block;\"></div><div style=\"background-color:rgb(253,219,199);height:20px;width:20px;margin-bottom:0px;display:inline-block;\"></div><div style=\"background-color:rgb(255,255,255);height:20px;width:20px;margin-bottom:0px;display:inline-block;\"></div><div style=\"background-color:rgb(224,224,224);height:20px;width:20px;margin-bottom:0px;display:inline-block;\"></div><div style=\"background-color:rgb(186,186,186);height:20px;width:20px;margin-bottom:0px;display:inline-block;\"></div><div style=\"background-color:rgb(135,135,135);height:20px;width:20px;margin-bottom:0px;display:inline-block;\"></div><div style=\"background-color:rgb(77,77,77);height:20px;width:20px;margin-bottom:0px;display:inline-block;\"></div><div style=\"background-color:rgb(26,26,26);height:20px;width:20px;margin-bottom:0px;display:inline-block;\"></div></div><div style=\"display:inline-block;padding:10px;\"><div>rdpu</div><div style=\"background-color:rgb(255,247,243);height:20px;width:20px;margin-bottom:0px;display:inline-block;\"></div><div style=\"background-color:rgb(253,224,221);height:20px;width:20px;margin-bottom:0px;display:inline-block;\"></div><div style=\"background-color:rgb(252,197,192);height:20px;width:20px;margin-bottom:0px;display:inline-block;\"></div><div style=\"background-color:rgb(250,159,181);height:20px;width:20px;margin-bottom:0px;display:inline-block;\"></div><div style=\"background-color:rgb(247,104,161);height:20px;width:20px;margin-bottom:0px;display:inline-block;\"></div><div style=\"background-color:rgb(221,52,151);height:20px;width:20px;margin-bottom:0px;display:inline-block;\"></div><div style=\"background-color:rgb(174,1,126);height:20px;width:20px;margin-bottom:0px;display:inline-block;\"></div><div style=\"background-color:rgb(122,1,119);height:20px;width:20px;margin-bottom:0px;display:inline-block;\"></div><div style=\"background-color:rgb(73,0,106);height:20px;width:20px;margin-bottom:0px;display:inline-block;\"></div></div><div style=\"display:inline-block;padding:10px;\"><div>rdylbu</div><div style=\"background-color:rgb(165,0,38);height:20px;width:20px;margin-bottom:0px;display:inline-block;\"></div><div style=\"background-color:rgb(215,48,39);height:20px;width:20px;margin-bottom:0px;display:inline-block;\"></div><div style=\"background-color:rgb(244,109,67);height:20px;width:20px;margin-bottom:0px;display:inline-block;\"></div><div style=\"background-color:rgb(253,174,97);height:20px;width:20px;margin-bottom:0px;display:inline-block;\"></div><div style=\"background-color:rgb(254,224,144);height:20px;width:20px;margin-bottom:0px;display:inline-block;\"></div><div style=\"background-color:rgb(255,255,191);height:20px;width:20px;margin-bottom:0px;display:inline-block;\"></div><div style=\"background-color:rgb(224,243,248);height:20px;width:20px;margin-bottom:0px;display:inline-block;\"></div><div style=\"background-color:rgb(171,217,233);height:20px;width:20px;margin-bottom:0px;display:inline-block;\"></div><div style=\"background-color:rgb(116,173,209);height:20px;width:20px;margin-bottom:0px;display:inline-block;\"></div><div style=\"background-color:rgb(69,117,180);height:20px;width:20px;margin-bottom:0px;display:inline-block;\"></div><div style=\"background-color:rgb(49,54,149);height:20px;width:20px;margin-bottom:0px;display:inline-block;\"></div></div><div style=\"display:inline-block;padding:10px;\"><div>rdylgn</div><div style=\"background-color:rgb(165,0,38);height:20px;width:20px;margin-bottom:0px;display:inline-block;\"></div><div style=\"background-color:rgb(215,48,39);height:20px;width:20px;margin-bottom:0px;display:inline-block;\"></div><div style=\"background-color:rgb(244,109,67);height:20px;width:20px;margin-bottom:0px;display:inline-block;\"></div><div style=\"background-color:rgb(253,174,97);height:20px;width:20px;margin-bottom:0px;display:inline-block;\"></div><div style=\"background-color:rgb(254,224,139);height:20px;width:20px;margin-bottom:0px;display:inline-block;\"></div><div style=\"background-color:rgb(255,255,191);height:20px;width:20px;margin-bottom:0px;display:inline-block;\"></div><div style=\"background-color:rgb(217,239,139);height:20px;width:20px;margin-bottom:0px;display:inline-block;\"></div><div style=\"background-color:rgb(166,217,106);height:20px;width:20px;margin-bottom:0px;display:inline-block;\"></div><div style=\"background-color:rgb(102,189,99);height:20px;width:20px;margin-bottom:0px;display:inline-block;\"></div><div style=\"background-color:rgb(26,152,80);height:20px;width:20px;margin-bottom:0px;display:inline-block;\"></div><div style=\"background-color:rgb(0,104,55);height:20px;width:20px;margin-bottom:0px;display:inline-block;\"></div></div><div style=\"display:inline-block;padding:10px;\"><div>reds</div><div style=\"background-color:rgb(255,245,240);height:20px;width:20px;margin-bottom:0px;display:inline-block;\"></div><div style=\"background-color:rgb(254,224,210);height:20px;width:20px;margin-bottom:0px;display:inline-block;\"></div><div style=\"background-color:rgb(252,187,161);height:20px;width:20px;margin-bottom:0px;display:inline-block;\"></div><div style=\"background-color:rgb(252,146,114);height:20px;width:20px;margin-bottom:0px;display:inline-block;\"></div><div style=\"background-color:rgb(251,106,74);height:20px;width:20px;margin-bottom:0px;display:inline-block;\"></div><div style=\"background-color:rgb(239,59,44);height:20px;width:20px;margin-bottom:0px;display:inline-block;\"></div><div style=\"background-color:rgb(203,24,29);height:20px;width:20px;margin-bottom:0px;display:inline-block;\"></div><div style=\"background-color:rgb(165,15,21);height:20px;width:20px;margin-bottom:0px;display:inline-block;\"></div><div style=\"background-color:rgb(103,0,13);height:20px;width:20px;margin-bottom:0px;display:inline-block;\"></div></div><div style=\"display:inline-block;padding:10px;\"><div>set1</div><div style=\"background-color:rgb(228,26,28);height:20px;width:20px;margin-bottom:0px;display:inline-block;\"></div><div style=\"background-color:rgb(55,126,184);height:20px;width:20px;margin-bottom:0px;display:inline-block;\"></div><div style=\"background-color:rgb(77,175,74);height:20px;width:20px;margin-bottom:0px;display:inline-block;\"></div><div style=\"background-color:rgb(152,78,163);height:20px;width:20px;margin-bottom:0px;display:inline-block;\"></div><div style=\"background-color:rgb(255,127,0);height:20px;width:20px;margin-bottom:0px;display:inline-block;\"></div><div style=\"background-color:rgb(255,255,51);height:20px;width:20px;margin-bottom:0px;display:inline-block;\"></div><div style=\"background-color:rgb(166,86,40);height:20px;width:20px;margin-bottom:0px;display:inline-block;\"></div><div style=\"background-color:rgb(247,129,191);height:20px;width:20px;margin-bottom:0px;display:inline-block;\"></div><div style=\"background-color:rgb(153,153,153);height:20px;width:20px;margin-bottom:0px;display:inline-block;\"></div></div><div style=\"display:inline-block;padding:10px;\"><div>set2</div><div style=\"background-color:rgb(102,194,165);height:20px;width:20px;margin-bottom:0px;display:inline-block;\"></div><div style=\"background-color:rgb(252,141,98);height:20px;width:20px;margin-bottom:0px;display:inline-block;\"></div><div style=\"background-color:rgb(141,160,203);height:20px;width:20px;margin-bottom:0px;display:inline-block;\"></div><div style=\"background-color:rgb(231,138,195);height:20px;width:20px;margin-bottom:0px;display:inline-block;\"></div><div style=\"background-color:rgb(166,216,84);height:20px;width:20px;margin-bottom:0px;display:inline-block;\"></div><div style=\"background-color:rgb(255,217,47);height:20px;width:20px;margin-bottom:0px;display:inline-block;\"></div><div style=\"background-color:rgb(229,196,148);height:20px;width:20px;margin-bottom:0px;display:inline-block;\"></div><div style=\"background-color:rgb(179,179,179);height:20px;width:20px;margin-bottom:0px;display:inline-block;\"></div></div><div style=\"display:inline-block;padding:10px;\"><div>set3</div><div style=\"background-color:rgb(141,211,199);height:20px;width:20px;margin-bottom:0px;display:inline-block;\"></div><div style=\"background-color:rgb(255,255,179);height:20px;width:20px;margin-bottom:0px;display:inline-block;\"></div><div style=\"background-color:rgb(190,186,218);height:20px;width:20px;margin-bottom:0px;display:inline-block;\"></div><div style=\"background-color:rgb(251,128,114);height:20px;width:20px;margin-bottom:0px;display:inline-block;\"></div><div style=\"background-color:rgb(128,177,211);height:20px;width:20px;margin-bottom:0px;display:inline-block;\"></div><div style=\"background-color:rgb(253,180,98);height:20px;width:20px;margin-bottom:0px;display:inline-block;\"></div><div style=\"background-color:rgb(179,222,105);height:20px;width:20px;margin-bottom:0px;display:inline-block;\"></div><div style=\"background-color:rgb(252,205,229);height:20px;width:20px;margin-bottom:0px;display:inline-block;\"></div><div style=\"background-color:rgb(217,217,217);height:20px;width:20px;margin-bottom:0px;display:inline-block;\"></div><div style=\"background-color:rgb(188,128,189);height:20px;width:20px;margin-bottom:0px;display:inline-block;\"></div><div style=\"background-color:rgb(204,235,197);height:20px;width:20px;margin-bottom:0px;display:inline-block;\"></div><div style=\"background-color:rgb(255,237,111);height:20px;width:20px;margin-bottom:0px;display:inline-block;\"></div></div><div style=\"display:inline-block;padding:10px;\"><div>spectral</div><div style=\"background-color:rgb(158,1,66);height:20px;width:20px;margin-bottom:0px;display:inline-block;\"></div><div style=\"background-color:rgb(213,62,79);height:20px;width:20px;margin-bottom:0px;display:inline-block;\"></div><div style=\"background-color:rgb(244,109,67);height:20px;width:20px;margin-bottom:0px;display:inline-block;\"></div><div style=\"background-color:rgb(253,174,97);height:20px;width:20px;margin-bottom:0px;display:inline-block;\"></div><div style=\"background-color:rgb(254,224,139);height:20px;width:20px;margin-bottom:0px;display:inline-block;\"></div><div style=\"background-color:rgb(255,255,191);height:20px;width:20px;margin-bottom:0px;display:inline-block;\"></div><div style=\"background-color:rgb(230,245,152);height:20px;width:20px;margin-bottom:0px;display:inline-block;\"></div><div style=\"background-color:rgb(171,221,164);height:20px;width:20px;margin-bottom:0px;display:inline-block;\"></div><div style=\"background-color:rgb(102,194,165);height:20px;width:20px;margin-bottom:0px;display:inline-block;\"></div><div style=\"background-color:rgb(50,136,189);height:20px;width:20px;margin-bottom:0px;display:inline-block;\"></div><div style=\"background-color:rgb(94,79,162);height:20px;width:20px;margin-bottom:0px;display:inline-block;\"></div></div><div style=\"display:inline-block;padding:10px;\"><div>ylgn</div><div style=\"background-color:rgb(255,255,229);height:20px;width:20px;margin-bottom:0px;display:inline-block;\"></div><div style=\"background-color:rgb(247,252,185);height:20px;width:20px;margin-bottom:0px;display:inline-block;\"></div><div style=\"background-color:rgb(217,240,163);height:20px;width:20px;margin-bottom:0px;display:inline-block;\"></div><div style=\"background-color:rgb(173,221,142);height:20px;width:20px;margin-bottom:0px;display:inline-block;\"></div><div style=\"background-color:rgb(120,198,121);height:20px;width:20px;margin-bottom:0px;display:inline-block;\"></div><div style=\"background-color:rgb(65,171,93);height:20px;width:20px;margin-bottom:0px;display:inline-block;\"></div><div style=\"background-color:rgb(35,132,67);height:20px;width:20px;margin-bottom:0px;display:inline-block;\"></div><div style=\"background-color:rgb(0,104,55);height:20px;width:20px;margin-bottom:0px;display:inline-block;\"></div><div style=\"background-color:rgb(0,69,41);height:20px;width:20px;margin-bottom:0px;display:inline-block;\"></div></div><div style=\"display:inline-block;padding:10px;\"><div>ylgnbu</div><div style=\"background-color:rgb(255,255,217);height:20px;width:20px;margin-bottom:0px;display:inline-block;\"></div><div style=\"background-color:rgb(237,248,177);height:20px;width:20px;margin-bottom:0px;display:inline-block;\"></div><div style=\"background-color:rgb(199,233,180);height:20px;width:20px;margin-bottom:0px;display:inline-block;\"></div><div style=\"background-color:rgb(127,205,187);height:20px;width:20px;margin-bottom:0px;display:inline-block;\"></div><div style=\"background-color:rgb(65,182,196);height:20px;width:20px;margin-bottom:0px;display:inline-block;\"></div><div style=\"background-color:rgb(29,145,192);height:20px;width:20px;margin-bottom:0px;display:inline-block;\"></div><div style=\"background-color:rgb(34,94,168);height:20px;width:20px;margin-bottom:0px;display:inline-block;\"></div><div style=\"background-color:rgb(37,52,148);height:20px;width:20px;margin-bottom:0px;display:inline-block;\"></div><div style=\"background-color:rgb(8,29,88);height:20px;width:20px;margin-bottom:0px;display:inline-block;\"></div></div><div style=\"display:inline-block;padding:10px;\"><div>ylorbr</div><div style=\"background-color:rgb(255,255,229);height:20px;width:20px;margin-bottom:0px;display:inline-block;\"></div><div style=\"background-color:rgb(255,247,188);height:20px;width:20px;margin-bottom:0px;display:inline-block;\"></div><div style=\"background-color:rgb(254,227,145);height:20px;width:20px;margin-bottom:0px;display:inline-block;\"></div><div style=\"background-color:rgb(254,196,79);height:20px;width:20px;margin-bottom:0px;display:inline-block;\"></div><div style=\"background-color:rgb(254,153,41);height:20px;width:20px;margin-bottom:0px;display:inline-block;\"></div><div style=\"background-color:rgb(236,112,20);height:20px;width:20px;margin-bottom:0px;display:inline-block;\"></div><div style=\"background-color:rgb(204,76,2);height:20px;width:20px;margin-bottom:0px;display:inline-block;\"></div><div style=\"background-color:rgb(153,52,4);height:20px;width:20px;margin-bottom:0px;display:inline-block;\"></div><div style=\"background-color:rgb(102,37,6);height:20px;width:20px;margin-bottom:0px;display:inline-block;\"></div></div><div style=\"display:inline-block;padding:10px;\"><div>ylorrd</div><div style=\"background-color:rgb(255,255,204);height:20px;width:20px;margin-bottom:0px;display:inline-block;\"></div><div style=\"background-color:rgb(255,237,160);height:20px;width:20px;margin-bottom:0px;display:inline-block;\"></div><div style=\"background-color:rgb(254,217,118);height:20px;width:20px;margin-bottom:0px;display:inline-block;\"></div><div style=\"background-color:rgb(254,178,76);height:20px;width:20px;margin-bottom:0px;display:inline-block;\"></div><div style=\"background-color:rgb(253,141,60);height:20px;width:20px;margin-bottom:0px;display:inline-block;\"></div><div style=\"background-color:rgb(252,78,42);height:20px;width:20px;margin-bottom:0px;display:inline-block;\"></div><div style=\"background-color:rgb(227,26,28);height:20px;width:20px;margin-bottom:0px;display:inline-block;\"></div><div style=\"background-color:rgb(189,0,38);height:20px;width:20px;margin-bottom:0px;display:inline-block;\"></div><div style=\"background-color:rgb(128,0,38);height:20px;width:20px;margin-bottom:0px;display:inline-block;\"></div></div>"
      ],
      "text/plain": [
       "<IPython.core.display.HTML object>"
      ]
     },
     "metadata": {},
     "output_type": "display_data"
    }
   ],
   "source": [
    "cf.colors.scales() "
   ]
  },
  {
   "cell_type": "code",
   "execution_count": 27,
   "metadata": {},
   "outputs": [
    {
     "data": {
      "application/vnd.plotly.v1+json": {
       "config": {
        "linkText": "Export to plot.ly",
        "plotlyServerURL": "https://plot.ly",
        "showLink": true
       },
       "data": [
        {
         "marker": {
          "color": "rgba(77, 175, 74, 0.6)",
          "line": {
           "color": "rgba(77, 175, 74, 1.0)",
           "width": 1
          }
         },
         "name": "Positive",
         "orientation": "v",
         "text": "",
         "type": "bar",
         "x": [
          "brew tea bar",
          "little miss bbq",
          "poke express",
          "the goodwich",
          "bronze cafe at the center",
          "grouchy johns coffee",
          "baguette cafe",
          "soho japanese restaurant",
          "greek wraps",
          "kabuto",
          "welcome diner",
          "cafe monarch",
          "zookz sandwiches",
          "postino arcadia",
          "gangnam asian bbq dining"
         ],
         "y": [
          0.979,
          0.954,
          0.951,
          0.941,
          0.939,
          0.937,
          0.936,
          0.931,
          0.927,
          0.925,
          0.924,
          0.922,
          0.915,
          0.913,
          0.911
         ]
        },
        {
         "marker": {
          "color": "rgba(55, 126, 184, 0.6)",
          "line": {
           "color": "rgba(55, 126, 184, 1.0)",
           "width": 1
          }
         },
         "name": "Neutral",
         "orientation": "v",
         "text": "",
         "type": "bar",
         "x": [
          "brew tea bar",
          "little miss bbq",
          "poke express",
          "the goodwich",
          "bronze cafe at the center",
          "grouchy johns coffee",
          "baguette cafe",
          "soho japanese restaurant",
          "greek wraps",
          "kabuto",
          "welcome diner",
          "cafe monarch",
          "zookz sandwiches",
          "postino arcadia",
          "gangnam asian bbq dining"
         ],
         "y": [
          0.013,
          0.026,
          0.028,
          0.031,
          0.034,
          0.035,
          0.033,
          0.037,
          0.037,
          0.042,
          0.034,
          0.043,
          0.057,
          0.051,
          0.049
         ]
        },
        {
         "marker": {
          "color": "rgba(228, 26, 28, 0.6)",
          "line": {
           "color": "rgba(228, 26, 28, 1.0)",
           "width": 1
          }
         },
         "name": "Negative",
         "orientation": "v",
         "text": "",
         "type": "bar",
         "x": [
          "brew tea bar",
          "little miss bbq",
          "poke express",
          "the goodwich",
          "bronze cafe at the center",
          "grouchy johns coffee",
          "baguette cafe",
          "soho japanese restaurant",
          "greek wraps",
          "kabuto",
          "welcome diner",
          "cafe monarch",
          "zookz sandwiches",
          "postino arcadia",
          "gangnam asian bbq dining"
         ],
         "y": [
          0.009,
          0.02,
          0.02,
          0.027,
          0.027,
          0.028,
          0.03,
          0.032,
          0.037,
          0.034,
          0.042,
          0.035,
          0.028,
          0.035,
          0.04
         ]
        }
       ],
       "layout": {
        "template": {
         "data": {
          "bar": [
           {
            "error_x": {
             "color": "#2a3f5f"
            },
            "error_y": {
             "color": "#2a3f5f"
            },
            "marker": {
             "line": {
              "color": "white",
              "width": 0.5
             }
            },
            "type": "bar"
           }
          ],
          "barpolar": [
           {
            "marker": {
             "line": {
              "color": "white",
              "width": 0.5
             }
            },
            "type": "barpolar"
           }
          ],
          "carpet": [
           {
            "aaxis": {
             "endlinecolor": "#2a3f5f",
             "gridcolor": "#C8D4E3",
             "linecolor": "#C8D4E3",
             "minorgridcolor": "#C8D4E3",
             "startlinecolor": "#2a3f5f"
            },
            "baxis": {
             "endlinecolor": "#2a3f5f",
             "gridcolor": "#C8D4E3",
             "linecolor": "#C8D4E3",
             "minorgridcolor": "#C8D4E3",
             "startlinecolor": "#2a3f5f"
            },
            "type": "carpet"
           }
          ],
          "choropleth": [
           {
            "colorbar": {
             "outlinewidth": 0,
             "ticks": ""
            },
            "type": "choropleth"
           }
          ],
          "contour": [
           {
            "colorbar": {
             "outlinewidth": 0,
             "ticks": ""
            },
            "colorscale": [
             [
              0,
              "#0d0887"
             ],
             [
              0.1111111111111111,
              "#46039f"
             ],
             [
              0.2222222222222222,
              "#7201a8"
             ],
             [
              0.3333333333333333,
              "#9c179e"
             ],
             [
              0.4444444444444444,
              "#bd3786"
             ],
             [
              0.5555555555555556,
              "#d8576b"
             ],
             [
              0.6666666666666666,
              "#ed7953"
             ],
             [
              0.7777777777777778,
              "#fb9f3a"
             ],
             [
              0.8888888888888888,
              "#fdca26"
             ],
             [
              1,
              "#f0f921"
             ]
            ],
            "type": "contour"
           }
          ],
          "contourcarpet": [
           {
            "colorbar": {
             "outlinewidth": 0,
             "ticks": ""
            },
            "type": "contourcarpet"
           }
          ],
          "heatmap": [
           {
            "colorbar": {
             "outlinewidth": 0,
             "ticks": ""
            },
            "colorscale": [
             [
              0,
              "#0d0887"
             ],
             [
              0.1111111111111111,
              "#46039f"
             ],
             [
              0.2222222222222222,
              "#7201a8"
             ],
             [
              0.3333333333333333,
              "#9c179e"
             ],
             [
              0.4444444444444444,
              "#bd3786"
             ],
             [
              0.5555555555555556,
              "#d8576b"
             ],
             [
              0.6666666666666666,
              "#ed7953"
             ],
             [
              0.7777777777777778,
              "#fb9f3a"
             ],
             [
              0.8888888888888888,
              "#fdca26"
             ],
             [
              1,
              "#f0f921"
             ]
            ],
            "type": "heatmap"
           }
          ],
          "heatmapgl": [
           {
            "colorbar": {
             "outlinewidth": 0,
             "ticks": ""
            },
            "colorscale": [
             [
              0,
              "#0d0887"
             ],
             [
              0.1111111111111111,
              "#46039f"
             ],
             [
              0.2222222222222222,
              "#7201a8"
             ],
             [
              0.3333333333333333,
              "#9c179e"
             ],
             [
              0.4444444444444444,
              "#bd3786"
             ],
             [
              0.5555555555555556,
              "#d8576b"
             ],
             [
              0.6666666666666666,
              "#ed7953"
             ],
             [
              0.7777777777777778,
              "#fb9f3a"
             ],
             [
              0.8888888888888888,
              "#fdca26"
             ],
             [
              1,
              "#f0f921"
             ]
            ],
            "type": "heatmapgl"
           }
          ],
          "histogram": [
           {
            "marker": {
             "colorbar": {
              "outlinewidth": 0,
              "ticks": ""
             }
            },
            "type": "histogram"
           }
          ],
          "histogram2d": [
           {
            "colorbar": {
             "outlinewidth": 0,
             "ticks": ""
            },
            "colorscale": [
             [
              0,
              "#0d0887"
             ],
             [
              0.1111111111111111,
              "#46039f"
             ],
             [
              0.2222222222222222,
              "#7201a8"
             ],
             [
              0.3333333333333333,
              "#9c179e"
             ],
             [
              0.4444444444444444,
              "#bd3786"
             ],
             [
              0.5555555555555556,
              "#d8576b"
             ],
             [
              0.6666666666666666,
              "#ed7953"
             ],
             [
              0.7777777777777778,
              "#fb9f3a"
             ],
             [
              0.8888888888888888,
              "#fdca26"
             ],
             [
              1,
              "#f0f921"
             ]
            ],
            "type": "histogram2d"
           }
          ],
          "histogram2dcontour": [
           {
            "colorbar": {
             "outlinewidth": 0,
             "ticks": ""
            },
            "colorscale": [
             [
              0,
              "#0d0887"
             ],
             [
              0.1111111111111111,
              "#46039f"
             ],
             [
              0.2222222222222222,
              "#7201a8"
             ],
             [
              0.3333333333333333,
              "#9c179e"
             ],
             [
              0.4444444444444444,
              "#bd3786"
             ],
             [
              0.5555555555555556,
              "#d8576b"
             ],
             [
              0.6666666666666666,
              "#ed7953"
             ],
             [
              0.7777777777777778,
              "#fb9f3a"
             ],
             [
              0.8888888888888888,
              "#fdca26"
             ],
             [
              1,
              "#f0f921"
             ]
            ],
            "type": "histogram2dcontour"
           }
          ],
          "mesh3d": [
           {
            "colorbar": {
             "outlinewidth": 0,
             "ticks": ""
            },
            "type": "mesh3d"
           }
          ],
          "parcoords": [
           {
            "line": {
             "colorbar": {
              "outlinewidth": 0,
              "ticks": ""
             }
            },
            "type": "parcoords"
           }
          ],
          "pie": [
           {
            "automargin": true,
            "type": "pie"
           }
          ],
          "scatter": [
           {
            "marker": {
             "colorbar": {
              "outlinewidth": 0,
              "ticks": ""
             }
            },
            "type": "scatter"
           }
          ],
          "scatter3d": [
           {
            "line": {
             "colorbar": {
              "outlinewidth": 0,
              "ticks": ""
             }
            },
            "marker": {
             "colorbar": {
              "outlinewidth": 0,
              "ticks": ""
             }
            },
            "type": "scatter3d"
           }
          ],
          "scattercarpet": [
           {
            "marker": {
             "colorbar": {
              "outlinewidth": 0,
              "ticks": ""
             }
            },
            "type": "scattercarpet"
           }
          ],
          "scattergeo": [
           {
            "marker": {
             "colorbar": {
              "outlinewidth": 0,
              "ticks": ""
             }
            },
            "type": "scattergeo"
           }
          ],
          "scattergl": [
           {
            "marker": {
             "colorbar": {
              "outlinewidth": 0,
              "ticks": ""
             }
            },
            "type": "scattergl"
           }
          ],
          "scattermapbox": [
           {
            "marker": {
             "colorbar": {
              "outlinewidth": 0,
              "ticks": ""
             }
            },
            "type": "scattermapbox"
           }
          ],
          "scatterpolar": [
           {
            "marker": {
             "colorbar": {
              "outlinewidth": 0,
              "ticks": ""
             }
            },
            "type": "scatterpolar"
           }
          ],
          "scatterpolargl": [
           {
            "marker": {
             "colorbar": {
              "outlinewidth": 0,
              "ticks": ""
             }
            },
            "type": "scatterpolargl"
           }
          ],
          "scatterternary": [
           {
            "marker": {
             "colorbar": {
              "outlinewidth": 0,
              "ticks": ""
             }
            },
            "type": "scatterternary"
           }
          ],
          "surface": [
           {
            "colorbar": {
             "outlinewidth": 0,
             "ticks": ""
            },
            "colorscale": [
             [
              0,
              "#0d0887"
             ],
             [
              0.1111111111111111,
              "#46039f"
             ],
             [
              0.2222222222222222,
              "#7201a8"
             ],
             [
              0.3333333333333333,
              "#9c179e"
             ],
             [
              0.4444444444444444,
              "#bd3786"
             ],
             [
              0.5555555555555556,
              "#d8576b"
             ],
             [
              0.6666666666666666,
              "#ed7953"
             ],
             [
              0.7777777777777778,
              "#fb9f3a"
             ],
             [
              0.8888888888888888,
              "#fdca26"
             ],
             [
              1,
              "#f0f921"
             ]
            ],
            "type": "surface"
           }
          ],
          "table": [
           {
            "cells": {
             "fill": {
              "color": "#EBF0F8"
             },
             "line": {
              "color": "white"
             }
            },
            "header": {
             "fill": {
              "color": "#C8D4E3"
             },
             "line": {
              "color": "white"
             }
            },
            "type": "table"
           }
          ]
         },
         "layout": {
          "annotationdefaults": {
           "arrowcolor": "#2a3f5f",
           "arrowhead": 0,
           "arrowwidth": 1
          },
          "coloraxis": {
           "colorbar": {
            "outlinewidth": 0,
            "ticks": ""
           }
          },
          "colorscale": {
           "diverging": [
            [
             0,
             "#8e0152"
            ],
            [
             0.1,
             "#c51b7d"
            ],
            [
             0.2,
             "#de77ae"
            ],
            [
             0.3,
             "#f1b6da"
            ],
            [
             0.4,
             "#fde0ef"
            ],
            [
             0.5,
             "#f7f7f7"
            ],
            [
             0.6,
             "#e6f5d0"
            ],
            [
             0.7,
             "#b8e186"
            ],
            [
             0.8,
             "#7fbc41"
            ],
            [
             0.9,
             "#4d9221"
            ],
            [
             1,
             "#276419"
            ]
           ],
           "sequential": [
            [
             0,
             "#0d0887"
            ],
            [
             0.1111111111111111,
             "#46039f"
            ],
            [
             0.2222222222222222,
             "#7201a8"
            ],
            [
             0.3333333333333333,
             "#9c179e"
            ],
            [
             0.4444444444444444,
             "#bd3786"
            ],
            [
             0.5555555555555556,
             "#d8576b"
            ],
            [
             0.6666666666666666,
             "#ed7953"
            ],
            [
             0.7777777777777778,
             "#fb9f3a"
            ],
            [
             0.8888888888888888,
             "#fdca26"
            ],
            [
             1,
             "#f0f921"
            ]
           ],
           "sequentialminus": [
            [
             0,
             "#0d0887"
            ],
            [
             0.1111111111111111,
             "#46039f"
            ],
            [
             0.2222222222222222,
             "#7201a8"
            ],
            [
             0.3333333333333333,
             "#9c179e"
            ],
            [
             0.4444444444444444,
             "#bd3786"
            ],
            [
             0.5555555555555556,
             "#d8576b"
            ],
            [
             0.6666666666666666,
             "#ed7953"
            ],
            [
             0.7777777777777778,
             "#fb9f3a"
            ],
            [
             0.8888888888888888,
             "#fdca26"
            ],
            [
             1,
             "#f0f921"
            ]
           ]
          },
          "colorway": [
           "#636efa",
           "#EF553B",
           "#00cc96",
           "#ab63fa",
           "#FFA15A",
           "#19d3f3",
           "#FF6692",
           "#B6E880",
           "#FF97FF",
           "#FECB52"
          ],
          "font": {
           "color": "#2a3f5f"
          },
          "geo": {
           "bgcolor": "white",
           "lakecolor": "white",
           "landcolor": "white",
           "showlakes": true,
           "showland": true,
           "subunitcolor": "#C8D4E3"
          },
          "hoverlabel": {
           "align": "left"
          },
          "hovermode": "closest",
          "mapbox": {
           "style": "light"
          },
          "paper_bgcolor": "white",
          "plot_bgcolor": "white",
          "polar": {
           "angularaxis": {
            "gridcolor": "#EBF0F8",
            "linecolor": "#EBF0F8",
            "ticks": ""
           },
           "bgcolor": "white",
           "radialaxis": {
            "gridcolor": "#EBF0F8",
            "linecolor": "#EBF0F8",
            "ticks": ""
           }
          },
          "scene": {
           "xaxis": {
            "backgroundcolor": "white",
            "gridcolor": "#DFE8F3",
            "gridwidth": 2,
            "linecolor": "#EBF0F8",
            "showbackground": true,
            "ticks": "",
            "zerolinecolor": "#EBF0F8"
           },
           "yaxis": {
            "backgroundcolor": "white",
            "gridcolor": "#DFE8F3",
            "gridwidth": 2,
            "linecolor": "#EBF0F8",
            "showbackground": true,
            "ticks": "",
            "zerolinecolor": "#EBF0F8"
           },
           "zaxis": {
            "backgroundcolor": "white",
            "gridcolor": "#DFE8F3",
            "gridwidth": 2,
            "linecolor": "#EBF0F8",
            "showbackground": true,
            "ticks": "",
            "zerolinecolor": "#EBF0F8"
           }
          },
          "shapedefaults": {
           "line": {
            "color": "#2a3f5f"
           }
          },
          "ternary": {
           "aaxis": {
            "gridcolor": "#DFE8F3",
            "linecolor": "#A2B1C6",
            "ticks": ""
           },
           "baxis": {
            "gridcolor": "#DFE8F3",
            "linecolor": "#A2B1C6",
            "ticks": ""
           },
           "bgcolor": "white",
           "caxis": {
            "gridcolor": "#DFE8F3",
            "linecolor": "#A2B1C6",
            "ticks": ""
           }
          },
          "title": {
           "x": 0.05
          },
          "xaxis": {
           "automargin": true,
           "gridcolor": "#EBF0F8",
           "linecolor": "#EBF0F8",
           "ticks": "",
           "title": {
            "standoff": 15
           },
           "zerolinecolor": "#EBF0F8",
           "zerolinewidth": 2
          },
          "yaxis": {
           "automargin": true,
           "gridcolor": "#EBF0F8",
           "linecolor": "#EBF0F8",
           "ticks": "",
           "title": {
            "standoff": 15
           },
           "zerolinecolor": "#EBF0F8",
           "zerolinewidth": 2
          }
         }
        },
        "title": {
         "text": "Best 15 Businesses<br>(Based on Positive Rate)"
        },
        "yaxis": {
         "tickformat": ".1%",
         "title": {
          "text": "Sentiment Rate"
         }
        }
       }
      },
      "text/html": [
       "<div>\n",
       "        \n",
       "        \n",
       "            <div id=\"b16bcb90-e730-4cd3-9229-54fe7264799a\" class=\"plotly-graph-div\" style=\"height:525px; width:100%;\"></div>\n",
       "            <script type=\"text/javascript\">\n",
       "                require([\"plotly\"], function(Plotly) {\n",
       "                    window.PLOTLYENV=window.PLOTLYENV || {};\n",
       "                    window.PLOTLYENV.BASE_URL='https://plot.ly';\n",
       "                    \n",
       "                if (document.getElementById(\"b16bcb90-e730-4cd3-9229-54fe7264799a\")) {\n",
       "                    Plotly.newPlot(\n",
       "                        'b16bcb90-e730-4cd3-9229-54fe7264799a',\n",
       "                        [{\"marker\": {\"color\": \"rgba(77, 175, 74, 0.6)\", \"line\": {\"color\": \"rgba(77, 175, 74, 1.0)\", \"width\": 1}}, \"name\": \"Positive\", \"orientation\": \"v\", \"text\": \"\", \"type\": \"bar\", \"x\": [\"brew tea bar\", \"little miss bbq\", \"poke express\", \"the goodwich\", \"bronze cafe at the center\", \"grouchy johns coffee\", \"baguette cafe\", \"soho japanese restaurant\", \"greek wraps\", \"kabuto\", \"welcome diner\", \"cafe monarch\", \"zookz sandwiches\", \"postino arcadia\", \"gangnam asian bbq dining\"], \"y\": [0.979, 0.954, 0.951, 0.941, 0.939, 0.937, 0.936, 0.931, 0.927, 0.925, 0.924, 0.922, 0.915, 0.913, 0.911]}, {\"marker\": {\"color\": \"rgba(55, 126, 184, 0.6)\", \"line\": {\"color\": \"rgba(55, 126, 184, 1.0)\", \"width\": 1}}, \"name\": \"Neutral\", \"orientation\": \"v\", \"text\": \"\", \"type\": \"bar\", \"x\": [\"brew tea bar\", \"little miss bbq\", \"poke express\", \"the goodwich\", \"bronze cafe at the center\", \"grouchy johns coffee\", \"baguette cafe\", \"soho japanese restaurant\", \"greek wraps\", \"kabuto\", \"welcome diner\", \"cafe monarch\", \"zookz sandwiches\", \"postino arcadia\", \"gangnam asian bbq dining\"], \"y\": [0.013, 0.026, 0.028, 0.031, 0.034, 0.035, 0.033, 0.037, 0.037, 0.042, 0.034, 0.043, 0.057, 0.051, 0.049]}, {\"marker\": {\"color\": \"rgba(228, 26, 28, 0.6)\", \"line\": {\"color\": \"rgba(228, 26, 28, 1.0)\", \"width\": 1}}, \"name\": \"Negative\", \"orientation\": \"v\", \"text\": \"\", \"type\": \"bar\", \"x\": [\"brew tea bar\", \"little miss bbq\", \"poke express\", \"the goodwich\", \"bronze cafe at the center\", \"grouchy johns coffee\", \"baguette cafe\", \"soho japanese restaurant\", \"greek wraps\", \"kabuto\", \"welcome diner\", \"cafe monarch\", \"zookz sandwiches\", \"postino arcadia\", \"gangnam asian bbq dining\"], \"y\": [0.009, 0.02, 0.02, 0.027, 0.027, 0.028, 0.03, 0.032, 0.037, 0.034, 0.042, 0.035, 0.028, 0.035, 0.04]}],\n",
       "                        {\"template\": {\"data\": {\"bar\": [{\"error_x\": {\"color\": \"#2a3f5f\"}, \"error_y\": {\"color\": \"#2a3f5f\"}, \"marker\": {\"line\": {\"color\": \"white\", \"width\": 0.5}}, \"type\": \"bar\"}], \"barpolar\": [{\"marker\": {\"line\": {\"color\": \"white\", \"width\": 0.5}}, \"type\": \"barpolar\"}], \"carpet\": [{\"aaxis\": {\"endlinecolor\": \"#2a3f5f\", \"gridcolor\": \"#C8D4E3\", \"linecolor\": \"#C8D4E3\", \"minorgridcolor\": \"#C8D4E3\", \"startlinecolor\": \"#2a3f5f\"}, \"baxis\": {\"endlinecolor\": \"#2a3f5f\", \"gridcolor\": \"#C8D4E3\", \"linecolor\": \"#C8D4E3\", \"minorgridcolor\": \"#C8D4E3\", \"startlinecolor\": \"#2a3f5f\"}, \"type\": \"carpet\"}], \"choropleth\": [{\"colorbar\": {\"outlinewidth\": 0, \"ticks\": \"\"}, \"type\": \"choropleth\"}], \"contour\": [{\"colorbar\": {\"outlinewidth\": 0, \"ticks\": \"\"}, \"colorscale\": [[0.0, \"#0d0887\"], [0.1111111111111111, \"#46039f\"], [0.2222222222222222, \"#7201a8\"], [0.3333333333333333, \"#9c179e\"], [0.4444444444444444, \"#bd3786\"], [0.5555555555555556, \"#d8576b\"], [0.6666666666666666, \"#ed7953\"], [0.7777777777777778, \"#fb9f3a\"], [0.8888888888888888, \"#fdca26\"], [1.0, \"#f0f921\"]], \"type\": \"contour\"}], \"contourcarpet\": [{\"colorbar\": {\"outlinewidth\": 0, \"ticks\": \"\"}, \"type\": \"contourcarpet\"}], \"heatmap\": [{\"colorbar\": {\"outlinewidth\": 0, \"ticks\": \"\"}, \"colorscale\": [[0.0, \"#0d0887\"], [0.1111111111111111, \"#46039f\"], [0.2222222222222222, \"#7201a8\"], [0.3333333333333333, \"#9c179e\"], [0.4444444444444444, \"#bd3786\"], [0.5555555555555556, \"#d8576b\"], [0.6666666666666666, \"#ed7953\"], [0.7777777777777778, \"#fb9f3a\"], [0.8888888888888888, \"#fdca26\"], [1.0, \"#f0f921\"]], \"type\": \"heatmap\"}], \"heatmapgl\": [{\"colorbar\": {\"outlinewidth\": 0, \"ticks\": \"\"}, \"colorscale\": [[0.0, \"#0d0887\"], [0.1111111111111111, \"#46039f\"], [0.2222222222222222, \"#7201a8\"], [0.3333333333333333, \"#9c179e\"], [0.4444444444444444, \"#bd3786\"], [0.5555555555555556, \"#d8576b\"], [0.6666666666666666, \"#ed7953\"], [0.7777777777777778, \"#fb9f3a\"], [0.8888888888888888, \"#fdca26\"], [1.0, \"#f0f921\"]], \"type\": \"heatmapgl\"}], \"histogram\": [{\"marker\": {\"colorbar\": {\"outlinewidth\": 0, \"ticks\": \"\"}}, \"type\": \"histogram\"}], \"histogram2d\": [{\"colorbar\": {\"outlinewidth\": 0, \"ticks\": \"\"}, \"colorscale\": [[0.0, \"#0d0887\"], [0.1111111111111111, \"#46039f\"], [0.2222222222222222, \"#7201a8\"], [0.3333333333333333, \"#9c179e\"], [0.4444444444444444, \"#bd3786\"], [0.5555555555555556, \"#d8576b\"], [0.6666666666666666, \"#ed7953\"], [0.7777777777777778, \"#fb9f3a\"], [0.8888888888888888, \"#fdca26\"], [1.0, \"#f0f921\"]], \"type\": \"histogram2d\"}], \"histogram2dcontour\": [{\"colorbar\": {\"outlinewidth\": 0, \"ticks\": \"\"}, \"colorscale\": [[0.0, \"#0d0887\"], [0.1111111111111111, \"#46039f\"], [0.2222222222222222, \"#7201a8\"], [0.3333333333333333, \"#9c179e\"], [0.4444444444444444, \"#bd3786\"], [0.5555555555555556, \"#d8576b\"], [0.6666666666666666, \"#ed7953\"], [0.7777777777777778, \"#fb9f3a\"], [0.8888888888888888, \"#fdca26\"], [1.0, \"#f0f921\"]], \"type\": \"histogram2dcontour\"}], \"mesh3d\": [{\"colorbar\": {\"outlinewidth\": 0, \"ticks\": \"\"}, \"type\": \"mesh3d\"}], \"parcoords\": [{\"line\": {\"colorbar\": {\"outlinewidth\": 0, \"ticks\": \"\"}}, \"type\": \"parcoords\"}], \"pie\": [{\"automargin\": true, \"type\": \"pie\"}], \"scatter\": [{\"marker\": {\"colorbar\": {\"outlinewidth\": 0, \"ticks\": \"\"}}, \"type\": \"scatter\"}], \"scatter3d\": [{\"line\": {\"colorbar\": {\"outlinewidth\": 0, \"ticks\": \"\"}}, \"marker\": {\"colorbar\": {\"outlinewidth\": 0, \"ticks\": \"\"}}, \"type\": \"scatter3d\"}], \"scattercarpet\": [{\"marker\": {\"colorbar\": {\"outlinewidth\": 0, \"ticks\": \"\"}}, \"type\": \"scattercarpet\"}], \"scattergeo\": [{\"marker\": {\"colorbar\": {\"outlinewidth\": 0, \"ticks\": \"\"}}, \"type\": \"scattergeo\"}], \"scattergl\": [{\"marker\": {\"colorbar\": {\"outlinewidth\": 0, \"ticks\": \"\"}}, \"type\": \"scattergl\"}], \"scattermapbox\": [{\"marker\": {\"colorbar\": {\"outlinewidth\": 0, \"ticks\": \"\"}}, \"type\": \"scattermapbox\"}], \"scatterpolar\": [{\"marker\": {\"colorbar\": {\"outlinewidth\": 0, \"ticks\": \"\"}}, \"type\": \"scatterpolar\"}], \"scatterpolargl\": [{\"marker\": {\"colorbar\": {\"outlinewidth\": 0, \"ticks\": \"\"}}, \"type\": \"scatterpolargl\"}], \"scatterternary\": [{\"marker\": {\"colorbar\": {\"outlinewidth\": 0, \"ticks\": \"\"}}, \"type\": \"scatterternary\"}], \"surface\": [{\"colorbar\": {\"outlinewidth\": 0, \"ticks\": \"\"}, \"colorscale\": [[0.0, \"#0d0887\"], [0.1111111111111111, \"#46039f\"], [0.2222222222222222, \"#7201a8\"], [0.3333333333333333, \"#9c179e\"], [0.4444444444444444, \"#bd3786\"], [0.5555555555555556, \"#d8576b\"], [0.6666666666666666, \"#ed7953\"], [0.7777777777777778, \"#fb9f3a\"], [0.8888888888888888, \"#fdca26\"], [1.0, \"#f0f921\"]], \"type\": \"surface\"}], \"table\": [{\"cells\": {\"fill\": {\"color\": \"#EBF0F8\"}, \"line\": {\"color\": \"white\"}}, \"header\": {\"fill\": {\"color\": \"#C8D4E3\"}, \"line\": {\"color\": \"white\"}}, \"type\": \"table\"}]}, \"layout\": {\"annotationdefaults\": {\"arrowcolor\": \"#2a3f5f\", \"arrowhead\": 0, \"arrowwidth\": 1}, \"coloraxis\": {\"colorbar\": {\"outlinewidth\": 0, \"ticks\": \"\"}}, \"colorscale\": {\"diverging\": [[0, \"#8e0152\"], [0.1, \"#c51b7d\"], [0.2, \"#de77ae\"], [0.3, \"#f1b6da\"], [0.4, \"#fde0ef\"], [0.5, \"#f7f7f7\"], [0.6, \"#e6f5d0\"], [0.7, \"#b8e186\"], [0.8, \"#7fbc41\"], [0.9, \"#4d9221\"], [1, \"#276419\"]], \"sequential\": [[0.0, \"#0d0887\"], [0.1111111111111111, \"#46039f\"], [0.2222222222222222, \"#7201a8\"], [0.3333333333333333, \"#9c179e\"], [0.4444444444444444, \"#bd3786\"], [0.5555555555555556, \"#d8576b\"], [0.6666666666666666, \"#ed7953\"], [0.7777777777777778, \"#fb9f3a\"], [0.8888888888888888, \"#fdca26\"], [1.0, \"#f0f921\"]], \"sequentialminus\": [[0.0, \"#0d0887\"], [0.1111111111111111, \"#46039f\"], [0.2222222222222222, \"#7201a8\"], [0.3333333333333333, \"#9c179e\"], [0.4444444444444444, \"#bd3786\"], [0.5555555555555556, \"#d8576b\"], [0.6666666666666666, \"#ed7953\"], [0.7777777777777778, \"#fb9f3a\"], [0.8888888888888888, \"#fdca26\"], [1.0, \"#f0f921\"]]}, \"colorway\": [\"#636efa\", \"#EF553B\", \"#00cc96\", \"#ab63fa\", \"#FFA15A\", \"#19d3f3\", \"#FF6692\", \"#B6E880\", \"#FF97FF\", \"#FECB52\"], \"font\": {\"color\": \"#2a3f5f\"}, \"geo\": {\"bgcolor\": \"white\", \"lakecolor\": \"white\", \"landcolor\": \"white\", \"showlakes\": true, \"showland\": true, \"subunitcolor\": \"#C8D4E3\"}, \"hoverlabel\": {\"align\": \"left\"}, \"hovermode\": \"closest\", \"mapbox\": {\"style\": \"light\"}, \"paper_bgcolor\": \"white\", \"plot_bgcolor\": \"white\", \"polar\": {\"angularaxis\": {\"gridcolor\": \"#EBF0F8\", \"linecolor\": \"#EBF0F8\", \"ticks\": \"\"}, \"bgcolor\": \"white\", \"radialaxis\": {\"gridcolor\": \"#EBF0F8\", \"linecolor\": \"#EBF0F8\", \"ticks\": \"\"}}, \"scene\": {\"xaxis\": {\"backgroundcolor\": \"white\", \"gridcolor\": \"#DFE8F3\", \"gridwidth\": 2, \"linecolor\": \"#EBF0F8\", \"showbackground\": true, \"ticks\": \"\", \"zerolinecolor\": \"#EBF0F8\"}, \"yaxis\": {\"backgroundcolor\": \"white\", \"gridcolor\": \"#DFE8F3\", \"gridwidth\": 2, \"linecolor\": \"#EBF0F8\", \"showbackground\": true, \"ticks\": \"\", \"zerolinecolor\": \"#EBF0F8\"}, \"zaxis\": {\"backgroundcolor\": \"white\", \"gridcolor\": \"#DFE8F3\", \"gridwidth\": 2, \"linecolor\": \"#EBF0F8\", \"showbackground\": true, \"ticks\": \"\", \"zerolinecolor\": \"#EBF0F8\"}}, \"shapedefaults\": {\"line\": {\"color\": \"#2a3f5f\"}}, \"ternary\": {\"aaxis\": {\"gridcolor\": \"#DFE8F3\", \"linecolor\": \"#A2B1C6\", \"ticks\": \"\"}, \"baxis\": {\"gridcolor\": \"#DFE8F3\", \"linecolor\": \"#A2B1C6\", \"ticks\": \"\"}, \"bgcolor\": \"white\", \"caxis\": {\"gridcolor\": \"#DFE8F3\", \"linecolor\": \"#A2B1C6\", \"ticks\": \"\"}}, \"title\": {\"x\": 0.05}, \"xaxis\": {\"automargin\": true, \"gridcolor\": \"#EBF0F8\", \"linecolor\": \"#EBF0F8\", \"ticks\": \"\", \"title\": {\"standoff\": 15}, \"zerolinecolor\": \"#EBF0F8\", \"zerolinewidth\": 2}, \"yaxis\": {\"automargin\": true, \"gridcolor\": \"#EBF0F8\", \"linecolor\": \"#EBF0F8\", \"ticks\": \"\", \"title\": {\"standoff\": 15}, \"zerolinecolor\": \"#EBF0F8\", \"zerolinewidth\": 2}}}, \"title\": {\"text\": \"Best 15 Businesses<br>(Based on Positive Rate)\"}, \"yaxis\": {\"tickformat\": \".1%\", \"title\": {\"text\": \"Sentiment Rate\"}}},\n",
       "                        {\"showLink\": true, \"linkText\": \"Export to plot.ly\", \"plotlyServerURL\": \"https://plot.ly\", \"responsive\": true}\n",
       "                    ).then(function(){\n",
       "                            \n",
       "var gd = document.getElementById('b16bcb90-e730-4cd3-9229-54fe7264799a');\n",
       "var x = new MutationObserver(function (mutations, observer) {{\n",
       "        var display = window.getComputedStyle(gd).display;\n",
       "        if (!display || display === 'none') {{\n",
       "            console.log([gd, 'removed!']);\n",
       "            Plotly.purge(gd);\n",
       "            observer.disconnect();\n",
       "        }}\n",
       "}});\n",
       "\n",
       "// Listen for the removal of the full notebook cells\n",
       "var notebookContainer = gd.closest('#notebook-container');\n",
       "if (notebookContainer) {{\n",
       "    x.observe(notebookContainer, {childList: true});\n",
       "}}\n",
       "\n",
       "// Listen for the clearing of the current output cell\n",
       "var outputEl = gd.closest('.output');\n",
       "if (outputEl) {{\n",
       "    x.observe(outputEl, {childList: true});\n",
       "}}\n",
       "\n",
       "                        })\n",
       "                };\n",
       "                });\n",
       "            </script>\n",
       "        </div>"
      ]
     },
     "metadata": {},
     "output_type": "display_data"
    }
   ],
   "source": [
    "n_business=15\n",
    "\n",
    "(sentiment_rates\n",
    " .sort_values('Positive', ascending=False)\n",
    " .iloc[0:n_business]\n",
    " .iplot(kind='bar',\n",
    "        colorscale='-set1',\n",
    "        layout=dict(title=f'Best {n_business} Businesses<br>(Based on Positive Rate)',\n",
    "                    yaxis=dict(title='Sentiment Rate',\n",
    "                               tickformat='.1%'))))"
   ]
  },
  {
   "cell_type": "code",
   "execution_count": null,
   "metadata": {},
   "outputs": [],
   "source": []
  },
  {
   "cell_type": "code",
   "execution_count": 28,
   "metadata": {},
   "outputs": [
    {
     "data": {
      "application/vnd.plotly.v1+json": {
       "config": {
        "linkText": "Export to plot.ly",
        "plotlyServerURL": "https://plot.ly",
        "showLink": true
       },
       "data": [
        {
         "marker": {
          "color": "rgba(77, 175, 74, 0.6)",
          "line": {
           "color": "rgba(77, 175, 74, 1.0)",
           "width": 1
          }
         },
         "name": "Positive",
         "orientation": "v",
         "text": "",
         "type": "bar",
         "x": [
          "kfc",
          "mcdonalds",
          "pizza hut",
          "burger king",
          "wendys",
          "papa johns pizza",
          "little caesars pizza",
          "popeyes louisiana kitchen",
          "riviera hotel & casino",
          "tropical smoothie cafe",
          "hooters casino hotel las vegas",
          "carls jr",
          "wild wing",
          "carls jr.",
          "churchs chicken"
         ],
         "y": [
          0.134,
          0.196,
          0.252,
          0.205,
          0.25,
          0.298,
          0.258,
          0.284,
          0.219,
          0.3,
          0.226,
          0.308,
          0.259,
          0.302,
          0.283
         ]
        },
        {
         "marker": {
          "color": "rgba(55, 126, 184, 0.6)",
          "line": {
           "color": "rgba(55, 126, 184, 1.0)",
           "width": 1
          }
         },
         "name": "Neutral",
         "orientation": "v",
         "text": "",
         "type": "bar",
         "x": [
          "kfc",
          "mcdonalds",
          "pizza hut",
          "burger king",
          "wendys",
          "papa johns pizza",
          "little caesars pizza",
          "popeyes louisiana kitchen",
          "riviera hotel & casino",
          "tropical smoothie cafe",
          "hooters casino hotel las vegas",
          "carls jr",
          "wild wing",
          "carls jr.",
          "churchs chicken"
         ],
         "y": [
          0.091,
          0.123,
          0.089,
          0.143,
          0.131,
          0.095,
          0.137,
          0.115,
          0.18,
          0.112,
          0.187,
          0.112,
          0.162,
          0.121,
          0.141
         ]
        },
        {
         "marker": {
          "color": "rgba(228, 26, 28, 0.6)",
          "line": {
           "color": "rgba(228, 26, 28, 1.0)",
           "width": 1
          }
         },
         "name": "Negative",
         "orientation": "v",
         "text": "",
         "type": "bar",
         "x": [
          "kfc",
          "mcdonalds",
          "pizza hut",
          "burger king",
          "wendys",
          "papa johns pizza",
          "little caesars pizza",
          "popeyes louisiana kitchen",
          "riviera hotel & casino",
          "tropical smoothie cafe",
          "hooters casino hotel las vegas",
          "carls jr",
          "wild wing",
          "carls jr.",
          "churchs chicken"
         ],
         "y": [
          0.775,
          0.681,
          0.659,
          0.652,
          0.618,
          0.608,
          0.605,
          0.6,
          0.6,
          0.588,
          0.587,
          0.58,
          0.578,
          0.577,
          0.576
         ]
        }
       ],
       "layout": {
        "template": {
         "data": {
          "bar": [
           {
            "error_x": {
             "color": "#2a3f5f"
            },
            "error_y": {
             "color": "#2a3f5f"
            },
            "marker": {
             "line": {
              "color": "white",
              "width": 0.5
             }
            },
            "type": "bar"
           }
          ],
          "barpolar": [
           {
            "marker": {
             "line": {
              "color": "white",
              "width": 0.5
             }
            },
            "type": "barpolar"
           }
          ],
          "carpet": [
           {
            "aaxis": {
             "endlinecolor": "#2a3f5f",
             "gridcolor": "#C8D4E3",
             "linecolor": "#C8D4E3",
             "minorgridcolor": "#C8D4E3",
             "startlinecolor": "#2a3f5f"
            },
            "baxis": {
             "endlinecolor": "#2a3f5f",
             "gridcolor": "#C8D4E3",
             "linecolor": "#C8D4E3",
             "minorgridcolor": "#C8D4E3",
             "startlinecolor": "#2a3f5f"
            },
            "type": "carpet"
           }
          ],
          "choropleth": [
           {
            "colorbar": {
             "outlinewidth": 0,
             "ticks": ""
            },
            "type": "choropleth"
           }
          ],
          "contour": [
           {
            "colorbar": {
             "outlinewidth": 0,
             "ticks": ""
            },
            "colorscale": [
             [
              0,
              "#0d0887"
             ],
             [
              0.1111111111111111,
              "#46039f"
             ],
             [
              0.2222222222222222,
              "#7201a8"
             ],
             [
              0.3333333333333333,
              "#9c179e"
             ],
             [
              0.4444444444444444,
              "#bd3786"
             ],
             [
              0.5555555555555556,
              "#d8576b"
             ],
             [
              0.6666666666666666,
              "#ed7953"
             ],
             [
              0.7777777777777778,
              "#fb9f3a"
             ],
             [
              0.8888888888888888,
              "#fdca26"
             ],
             [
              1,
              "#f0f921"
             ]
            ],
            "type": "contour"
           }
          ],
          "contourcarpet": [
           {
            "colorbar": {
             "outlinewidth": 0,
             "ticks": ""
            },
            "type": "contourcarpet"
           }
          ],
          "heatmap": [
           {
            "colorbar": {
             "outlinewidth": 0,
             "ticks": ""
            },
            "colorscale": [
             [
              0,
              "#0d0887"
             ],
             [
              0.1111111111111111,
              "#46039f"
             ],
             [
              0.2222222222222222,
              "#7201a8"
             ],
             [
              0.3333333333333333,
              "#9c179e"
             ],
             [
              0.4444444444444444,
              "#bd3786"
             ],
             [
              0.5555555555555556,
              "#d8576b"
             ],
             [
              0.6666666666666666,
              "#ed7953"
             ],
             [
              0.7777777777777778,
              "#fb9f3a"
             ],
             [
              0.8888888888888888,
              "#fdca26"
             ],
             [
              1,
              "#f0f921"
             ]
            ],
            "type": "heatmap"
           }
          ],
          "heatmapgl": [
           {
            "colorbar": {
             "outlinewidth": 0,
             "ticks": ""
            },
            "colorscale": [
             [
              0,
              "#0d0887"
             ],
             [
              0.1111111111111111,
              "#46039f"
             ],
             [
              0.2222222222222222,
              "#7201a8"
             ],
             [
              0.3333333333333333,
              "#9c179e"
             ],
             [
              0.4444444444444444,
              "#bd3786"
             ],
             [
              0.5555555555555556,
              "#d8576b"
             ],
             [
              0.6666666666666666,
              "#ed7953"
             ],
             [
              0.7777777777777778,
              "#fb9f3a"
             ],
             [
              0.8888888888888888,
              "#fdca26"
             ],
             [
              1,
              "#f0f921"
             ]
            ],
            "type": "heatmapgl"
           }
          ],
          "histogram": [
           {
            "marker": {
             "colorbar": {
              "outlinewidth": 0,
              "ticks": ""
             }
            },
            "type": "histogram"
           }
          ],
          "histogram2d": [
           {
            "colorbar": {
             "outlinewidth": 0,
             "ticks": ""
            },
            "colorscale": [
             [
              0,
              "#0d0887"
             ],
             [
              0.1111111111111111,
              "#46039f"
             ],
             [
              0.2222222222222222,
              "#7201a8"
             ],
             [
              0.3333333333333333,
              "#9c179e"
             ],
             [
              0.4444444444444444,
              "#bd3786"
             ],
             [
              0.5555555555555556,
              "#d8576b"
             ],
             [
              0.6666666666666666,
              "#ed7953"
             ],
             [
              0.7777777777777778,
              "#fb9f3a"
             ],
             [
              0.8888888888888888,
              "#fdca26"
             ],
             [
              1,
              "#f0f921"
             ]
            ],
            "type": "histogram2d"
           }
          ],
          "histogram2dcontour": [
           {
            "colorbar": {
             "outlinewidth": 0,
             "ticks": ""
            },
            "colorscale": [
             [
              0,
              "#0d0887"
             ],
             [
              0.1111111111111111,
              "#46039f"
             ],
             [
              0.2222222222222222,
              "#7201a8"
             ],
             [
              0.3333333333333333,
              "#9c179e"
             ],
             [
              0.4444444444444444,
              "#bd3786"
             ],
             [
              0.5555555555555556,
              "#d8576b"
             ],
             [
              0.6666666666666666,
              "#ed7953"
             ],
             [
              0.7777777777777778,
              "#fb9f3a"
             ],
             [
              0.8888888888888888,
              "#fdca26"
             ],
             [
              1,
              "#f0f921"
             ]
            ],
            "type": "histogram2dcontour"
           }
          ],
          "mesh3d": [
           {
            "colorbar": {
             "outlinewidth": 0,
             "ticks": ""
            },
            "type": "mesh3d"
           }
          ],
          "parcoords": [
           {
            "line": {
             "colorbar": {
              "outlinewidth": 0,
              "ticks": ""
             }
            },
            "type": "parcoords"
           }
          ],
          "pie": [
           {
            "automargin": true,
            "type": "pie"
           }
          ],
          "scatter": [
           {
            "marker": {
             "colorbar": {
              "outlinewidth": 0,
              "ticks": ""
             }
            },
            "type": "scatter"
           }
          ],
          "scatter3d": [
           {
            "line": {
             "colorbar": {
              "outlinewidth": 0,
              "ticks": ""
             }
            },
            "marker": {
             "colorbar": {
              "outlinewidth": 0,
              "ticks": ""
             }
            },
            "type": "scatter3d"
           }
          ],
          "scattercarpet": [
           {
            "marker": {
             "colorbar": {
              "outlinewidth": 0,
              "ticks": ""
             }
            },
            "type": "scattercarpet"
           }
          ],
          "scattergeo": [
           {
            "marker": {
             "colorbar": {
              "outlinewidth": 0,
              "ticks": ""
             }
            },
            "type": "scattergeo"
           }
          ],
          "scattergl": [
           {
            "marker": {
             "colorbar": {
              "outlinewidth": 0,
              "ticks": ""
             }
            },
            "type": "scattergl"
           }
          ],
          "scattermapbox": [
           {
            "marker": {
             "colorbar": {
              "outlinewidth": 0,
              "ticks": ""
             }
            },
            "type": "scattermapbox"
           }
          ],
          "scatterpolar": [
           {
            "marker": {
             "colorbar": {
              "outlinewidth": 0,
              "ticks": ""
             }
            },
            "type": "scatterpolar"
           }
          ],
          "scatterpolargl": [
           {
            "marker": {
             "colorbar": {
              "outlinewidth": 0,
              "ticks": ""
             }
            },
            "type": "scatterpolargl"
           }
          ],
          "scatterternary": [
           {
            "marker": {
             "colorbar": {
              "outlinewidth": 0,
              "ticks": ""
             }
            },
            "type": "scatterternary"
           }
          ],
          "surface": [
           {
            "colorbar": {
             "outlinewidth": 0,
             "ticks": ""
            },
            "colorscale": [
             [
              0,
              "#0d0887"
             ],
             [
              0.1111111111111111,
              "#46039f"
             ],
             [
              0.2222222222222222,
              "#7201a8"
             ],
             [
              0.3333333333333333,
              "#9c179e"
             ],
             [
              0.4444444444444444,
              "#bd3786"
             ],
             [
              0.5555555555555556,
              "#d8576b"
             ],
             [
              0.6666666666666666,
              "#ed7953"
             ],
             [
              0.7777777777777778,
              "#fb9f3a"
             ],
             [
              0.8888888888888888,
              "#fdca26"
             ],
             [
              1,
              "#f0f921"
             ]
            ],
            "type": "surface"
           }
          ],
          "table": [
           {
            "cells": {
             "fill": {
              "color": "#EBF0F8"
             },
             "line": {
              "color": "white"
             }
            },
            "header": {
             "fill": {
              "color": "#C8D4E3"
             },
             "line": {
              "color": "white"
             }
            },
            "type": "table"
           }
          ]
         },
         "layout": {
          "annotationdefaults": {
           "arrowcolor": "#2a3f5f",
           "arrowhead": 0,
           "arrowwidth": 1
          },
          "coloraxis": {
           "colorbar": {
            "outlinewidth": 0,
            "ticks": ""
           }
          },
          "colorscale": {
           "diverging": [
            [
             0,
             "#8e0152"
            ],
            [
             0.1,
             "#c51b7d"
            ],
            [
             0.2,
             "#de77ae"
            ],
            [
             0.3,
             "#f1b6da"
            ],
            [
             0.4,
             "#fde0ef"
            ],
            [
             0.5,
             "#f7f7f7"
            ],
            [
             0.6,
             "#e6f5d0"
            ],
            [
             0.7,
             "#b8e186"
            ],
            [
             0.8,
             "#7fbc41"
            ],
            [
             0.9,
             "#4d9221"
            ],
            [
             1,
             "#276419"
            ]
           ],
           "sequential": [
            [
             0,
             "#0d0887"
            ],
            [
             0.1111111111111111,
             "#46039f"
            ],
            [
             0.2222222222222222,
             "#7201a8"
            ],
            [
             0.3333333333333333,
             "#9c179e"
            ],
            [
             0.4444444444444444,
             "#bd3786"
            ],
            [
             0.5555555555555556,
             "#d8576b"
            ],
            [
             0.6666666666666666,
             "#ed7953"
            ],
            [
             0.7777777777777778,
             "#fb9f3a"
            ],
            [
             0.8888888888888888,
             "#fdca26"
            ],
            [
             1,
             "#f0f921"
            ]
           ],
           "sequentialminus": [
            [
             0,
             "#0d0887"
            ],
            [
             0.1111111111111111,
             "#46039f"
            ],
            [
             0.2222222222222222,
             "#7201a8"
            ],
            [
             0.3333333333333333,
             "#9c179e"
            ],
            [
             0.4444444444444444,
             "#bd3786"
            ],
            [
             0.5555555555555556,
             "#d8576b"
            ],
            [
             0.6666666666666666,
             "#ed7953"
            ],
            [
             0.7777777777777778,
             "#fb9f3a"
            ],
            [
             0.8888888888888888,
             "#fdca26"
            ],
            [
             1,
             "#f0f921"
            ]
           ]
          },
          "colorway": [
           "#636efa",
           "#EF553B",
           "#00cc96",
           "#ab63fa",
           "#FFA15A",
           "#19d3f3",
           "#FF6692",
           "#B6E880",
           "#FF97FF",
           "#FECB52"
          ],
          "font": {
           "color": "#2a3f5f"
          },
          "geo": {
           "bgcolor": "white",
           "lakecolor": "white",
           "landcolor": "white",
           "showlakes": true,
           "showland": true,
           "subunitcolor": "#C8D4E3"
          },
          "hoverlabel": {
           "align": "left"
          },
          "hovermode": "closest",
          "mapbox": {
           "style": "light"
          },
          "paper_bgcolor": "white",
          "plot_bgcolor": "white",
          "polar": {
           "angularaxis": {
            "gridcolor": "#EBF0F8",
            "linecolor": "#EBF0F8",
            "ticks": ""
           },
           "bgcolor": "white",
           "radialaxis": {
            "gridcolor": "#EBF0F8",
            "linecolor": "#EBF0F8",
            "ticks": ""
           }
          },
          "scene": {
           "xaxis": {
            "backgroundcolor": "white",
            "gridcolor": "#DFE8F3",
            "gridwidth": 2,
            "linecolor": "#EBF0F8",
            "showbackground": true,
            "ticks": "",
            "zerolinecolor": "#EBF0F8"
           },
           "yaxis": {
            "backgroundcolor": "white",
            "gridcolor": "#DFE8F3",
            "gridwidth": 2,
            "linecolor": "#EBF0F8",
            "showbackground": true,
            "ticks": "",
            "zerolinecolor": "#EBF0F8"
           },
           "zaxis": {
            "backgroundcolor": "white",
            "gridcolor": "#DFE8F3",
            "gridwidth": 2,
            "linecolor": "#EBF0F8",
            "showbackground": true,
            "ticks": "",
            "zerolinecolor": "#EBF0F8"
           }
          },
          "shapedefaults": {
           "line": {
            "color": "#2a3f5f"
           }
          },
          "ternary": {
           "aaxis": {
            "gridcolor": "#DFE8F3",
            "linecolor": "#A2B1C6",
            "ticks": ""
           },
           "baxis": {
            "gridcolor": "#DFE8F3",
            "linecolor": "#A2B1C6",
            "ticks": ""
           },
           "bgcolor": "white",
           "caxis": {
            "gridcolor": "#DFE8F3",
            "linecolor": "#A2B1C6",
            "ticks": ""
           }
          },
          "title": {
           "x": 0.05
          },
          "xaxis": {
           "automargin": true,
           "gridcolor": "#EBF0F8",
           "linecolor": "#EBF0F8",
           "ticks": "",
           "title": {
            "standoff": 15
           },
           "zerolinecolor": "#EBF0F8",
           "zerolinewidth": 2
          },
          "yaxis": {
           "automargin": true,
           "gridcolor": "#EBF0F8",
           "linecolor": "#EBF0F8",
           "ticks": "",
           "title": {
            "standoff": 15
           },
           "zerolinecolor": "#EBF0F8",
           "zerolinewidth": 2
          }
         }
        },
        "title": {
         "text": "Worst 15 Businesses<br>(Based on Negative Rate)"
        },
        "yaxis": {
         "tickformat": ".1%",
         "title": {
          "text": "Sentiment Rate"
         }
        }
       }
      },
      "text/html": [
       "<div>\n",
       "        \n",
       "        \n",
       "            <div id=\"993e4e21-b5bb-4e10-a536-013fa0c91d98\" class=\"plotly-graph-div\" style=\"height:525px; width:100%;\"></div>\n",
       "            <script type=\"text/javascript\">\n",
       "                require([\"plotly\"], function(Plotly) {\n",
       "                    window.PLOTLYENV=window.PLOTLYENV || {};\n",
       "                    window.PLOTLYENV.BASE_URL='https://plot.ly';\n",
       "                    \n",
       "                if (document.getElementById(\"993e4e21-b5bb-4e10-a536-013fa0c91d98\")) {\n",
       "                    Plotly.newPlot(\n",
       "                        '993e4e21-b5bb-4e10-a536-013fa0c91d98',\n",
       "                        [{\"marker\": {\"color\": \"rgba(77, 175, 74, 0.6)\", \"line\": {\"color\": \"rgba(77, 175, 74, 1.0)\", \"width\": 1}}, \"name\": \"Positive\", \"orientation\": \"v\", \"text\": \"\", \"type\": \"bar\", \"x\": [\"kfc\", \"mcdonalds\", \"pizza hut\", \"burger king\", \"wendys\", \"papa johns pizza\", \"little caesars pizza\", \"popeyes louisiana kitchen\", \"riviera hotel & casino\", \"tropical smoothie cafe\", \"hooters casino hotel las vegas\", \"carls jr\", \"wild wing\", \"carls jr.\", \"churchs chicken\"], \"y\": [0.134, 0.196, 0.252, 0.205, 0.25, 0.298, 0.258, 0.284, 0.219, 0.3, 0.226, 0.308, 0.259, 0.302, 0.283]}, {\"marker\": {\"color\": \"rgba(55, 126, 184, 0.6)\", \"line\": {\"color\": \"rgba(55, 126, 184, 1.0)\", \"width\": 1}}, \"name\": \"Neutral\", \"orientation\": \"v\", \"text\": \"\", \"type\": \"bar\", \"x\": [\"kfc\", \"mcdonalds\", \"pizza hut\", \"burger king\", \"wendys\", \"papa johns pizza\", \"little caesars pizza\", \"popeyes louisiana kitchen\", \"riviera hotel & casino\", \"tropical smoothie cafe\", \"hooters casino hotel las vegas\", \"carls jr\", \"wild wing\", \"carls jr.\", \"churchs chicken\"], \"y\": [0.091, 0.123, 0.089, 0.143, 0.131, 0.095, 0.137, 0.115, 0.18, 0.112, 0.187, 0.112, 0.162, 0.121, 0.141]}, {\"marker\": {\"color\": \"rgba(228, 26, 28, 0.6)\", \"line\": {\"color\": \"rgba(228, 26, 28, 1.0)\", \"width\": 1}}, \"name\": \"Negative\", \"orientation\": \"v\", \"text\": \"\", \"type\": \"bar\", \"x\": [\"kfc\", \"mcdonalds\", \"pizza hut\", \"burger king\", \"wendys\", \"papa johns pizza\", \"little caesars pizza\", \"popeyes louisiana kitchen\", \"riviera hotel & casino\", \"tropical smoothie cafe\", \"hooters casino hotel las vegas\", \"carls jr\", \"wild wing\", \"carls jr.\", \"churchs chicken\"], \"y\": [0.775, 0.681, 0.659, 0.652, 0.618, 0.608, 0.605, 0.6, 0.6, 0.588, 0.587, 0.58, 0.578, 0.577, 0.576]}],\n",
       "                        {\"template\": {\"data\": {\"bar\": [{\"error_x\": {\"color\": \"#2a3f5f\"}, \"error_y\": {\"color\": \"#2a3f5f\"}, \"marker\": {\"line\": {\"color\": \"white\", \"width\": 0.5}}, \"type\": \"bar\"}], \"barpolar\": [{\"marker\": {\"line\": {\"color\": \"white\", \"width\": 0.5}}, \"type\": \"barpolar\"}], \"carpet\": [{\"aaxis\": {\"endlinecolor\": \"#2a3f5f\", \"gridcolor\": \"#C8D4E3\", \"linecolor\": \"#C8D4E3\", \"minorgridcolor\": \"#C8D4E3\", \"startlinecolor\": \"#2a3f5f\"}, \"baxis\": {\"endlinecolor\": \"#2a3f5f\", \"gridcolor\": \"#C8D4E3\", \"linecolor\": \"#C8D4E3\", \"minorgridcolor\": \"#C8D4E3\", \"startlinecolor\": \"#2a3f5f\"}, \"type\": \"carpet\"}], \"choropleth\": [{\"colorbar\": {\"outlinewidth\": 0, \"ticks\": \"\"}, \"type\": \"choropleth\"}], \"contour\": [{\"colorbar\": {\"outlinewidth\": 0, \"ticks\": \"\"}, \"colorscale\": [[0.0, \"#0d0887\"], [0.1111111111111111, \"#46039f\"], [0.2222222222222222, \"#7201a8\"], [0.3333333333333333, \"#9c179e\"], [0.4444444444444444, \"#bd3786\"], [0.5555555555555556, \"#d8576b\"], [0.6666666666666666, \"#ed7953\"], [0.7777777777777778, \"#fb9f3a\"], [0.8888888888888888, \"#fdca26\"], [1.0, \"#f0f921\"]], \"type\": \"contour\"}], \"contourcarpet\": [{\"colorbar\": {\"outlinewidth\": 0, \"ticks\": \"\"}, \"type\": \"contourcarpet\"}], \"heatmap\": [{\"colorbar\": {\"outlinewidth\": 0, \"ticks\": \"\"}, \"colorscale\": [[0.0, \"#0d0887\"], [0.1111111111111111, \"#46039f\"], [0.2222222222222222, \"#7201a8\"], [0.3333333333333333, \"#9c179e\"], [0.4444444444444444, \"#bd3786\"], [0.5555555555555556, \"#d8576b\"], [0.6666666666666666, \"#ed7953\"], [0.7777777777777778, \"#fb9f3a\"], [0.8888888888888888, \"#fdca26\"], [1.0, \"#f0f921\"]], \"type\": \"heatmap\"}], \"heatmapgl\": [{\"colorbar\": {\"outlinewidth\": 0, \"ticks\": \"\"}, \"colorscale\": [[0.0, \"#0d0887\"], [0.1111111111111111, \"#46039f\"], [0.2222222222222222, \"#7201a8\"], [0.3333333333333333, \"#9c179e\"], [0.4444444444444444, \"#bd3786\"], [0.5555555555555556, \"#d8576b\"], [0.6666666666666666, \"#ed7953\"], [0.7777777777777778, \"#fb9f3a\"], [0.8888888888888888, \"#fdca26\"], [1.0, \"#f0f921\"]], \"type\": \"heatmapgl\"}], \"histogram\": [{\"marker\": {\"colorbar\": {\"outlinewidth\": 0, \"ticks\": \"\"}}, \"type\": \"histogram\"}], \"histogram2d\": [{\"colorbar\": {\"outlinewidth\": 0, \"ticks\": \"\"}, \"colorscale\": [[0.0, \"#0d0887\"], [0.1111111111111111, \"#46039f\"], [0.2222222222222222, \"#7201a8\"], [0.3333333333333333, \"#9c179e\"], [0.4444444444444444, \"#bd3786\"], [0.5555555555555556, \"#d8576b\"], [0.6666666666666666, \"#ed7953\"], [0.7777777777777778, \"#fb9f3a\"], [0.8888888888888888, \"#fdca26\"], [1.0, \"#f0f921\"]], \"type\": \"histogram2d\"}], \"histogram2dcontour\": [{\"colorbar\": {\"outlinewidth\": 0, \"ticks\": \"\"}, \"colorscale\": [[0.0, \"#0d0887\"], [0.1111111111111111, \"#46039f\"], [0.2222222222222222, \"#7201a8\"], [0.3333333333333333, \"#9c179e\"], [0.4444444444444444, \"#bd3786\"], [0.5555555555555556, \"#d8576b\"], [0.6666666666666666, \"#ed7953\"], [0.7777777777777778, \"#fb9f3a\"], [0.8888888888888888, \"#fdca26\"], [1.0, \"#f0f921\"]], \"type\": \"histogram2dcontour\"}], \"mesh3d\": [{\"colorbar\": {\"outlinewidth\": 0, \"ticks\": \"\"}, \"type\": \"mesh3d\"}], \"parcoords\": [{\"line\": {\"colorbar\": {\"outlinewidth\": 0, \"ticks\": \"\"}}, \"type\": \"parcoords\"}], \"pie\": [{\"automargin\": true, \"type\": \"pie\"}], \"scatter\": [{\"marker\": {\"colorbar\": {\"outlinewidth\": 0, \"ticks\": \"\"}}, \"type\": \"scatter\"}], \"scatter3d\": [{\"line\": {\"colorbar\": {\"outlinewidth\": 0, \"ticks\": \"\"}}, \"marker\": {\"colorbar\": {\"outlinewidth\": 0, \"ticks\": \"\"}}, \"type\": \"scatter3d\"}], \"scattercarpet\": [{\"marker\": {\"colorbar\": {\"outlinewidth\": 0, \"ticks\": \"\"}}, \"type\": \"scattercarpet\"}], \"scattergeo\": [{\"marker\": {\"colorbar\": {\"outlinewidth\": 0, \"ticks\": \"\"}}, \"type\": \"scattergeo\"}], \"scattergl\": [{\"marker\": {\"colorbar\": {\"outlinewidth\": 0, \"ticks\": \"\"}}, \"type\": \"scattergl\"}], \"scattermapbox\": [{\"marker\": {\"colorbar\": {\"outlinewidth\": 0, \"ticks\": \"\"}}, \"type\": \"scattermapbox\"}], \"scatterpolar\": [{\"marker\": {\"colorbar\": {\"outlinewidth\": 0, \"ticks\": \"\"}}, \"type\": \"scatterpolar\"}], \"scatterpolargl\": [{\"marker\": {\"colorbar\": {\"outlinewidth\": 0, \"ticks\": \"\"}}, \"type\": \"scatterpolargl\"}], \"scatterternary\": [{\"marker\": {\"colorbar\": {\"outlinewidth\": 0, \"ticks\": \"\"}}, \"type\": \"scatterternary\"}], \"surface\": [{\"colorbar\": {\"outlinewidth\": 0, \"ticks\": \"\"}, \"colorscale\": [[0.0, \"#0d0887\"], [0.1111111111111111, \"#46039f\"], [0.2222222222222222, \"#7201a8\"], [0.3333333333333333, \"#9c179e\"], [0.4444444444444444, \"#bd3786\"], [0.5555555555555556, \"#d8576b\"], [0.6666666666666666, \"#ed7953\"], [0.7777777777777778, \"#fb9f3a\"], [0.8888888888888888, \"#fdca26\"], [1.0, \"#f0f921\"]], \"type\": \"surface\"}], \"table\": [{\"cells\": {\"fill\": {\"color\": \"#EBF0F8\"}, \"line\": {\"color\": \"white\"}}, \"header\": {\"fill\": {\"color\": \"#C8D4E3\"}, \"line\": {\"color\": \"white\"}}, \"type\": \"table\"}]}, \"layout\": {\"annotationdefaults\": {\"arrowcolor\": \"#2a3f5f\", \"arrowhead\": 0, \"arrowwidth\": 1}, \"coloraxis\": {\"colorbar\": {\"outlinewidth\": 0, \"ticks\": \"\"}}, \"colorscale\": {\"diverging\": [[0, \"#8e0152\"], [0.1, \"#c51b7d\"], [0.2, \"#de77ae\"], [0.3, \"#f1b6da\"], [0.4, \"#fde0ef\"], [0.5, \"#f7f7f7\"], [0.6, \"#e6f5d0\"], [0.7, \"#b8e186\"], [0.8, \"#7fbc41\"], [0.9, \"#4d9221\"], [1, \"#276419\"]], \"sequential\": [[0.0, \"#0d0887\"], [0.1111111111111111, \"#46039f\"], [0.2222222222222222, \"#7201a8\"], [0.3333333333333333, \"#9c179e\"], [0.4444444444444444, \"#bd3786\"], [0.5555555555555556, \"#d8576b\"], [0.6666666666666666, \"#ed7953\"], [0.7777777777777778, \"#fb9f3a\"], [0.8888888888888888, \"#fdca26\"], [1.0, \"#f0f921\"]], \"sequentialminus\": [[0.0, \"#0d0887\"], [0.1111111111111111, \"#46039f\"], [0.2222222222222222, \"#7201a8\"], [0.3333333333333333, \"#9c179e\"], [0.4444444444444444, \"#bd3786\"], [0.5555555555555556, \"#d8576b\"], [0.6666666666666666, \"#ed7953\"], [0.7777777777777778, \"#fb9f3a\"], [0.8888888888888888, \"#fdca26\"], [1.0, \"#f0f921\"]]}, \"colorway\": [\"#636efa\", \"#EF553B\", \"#00cc96\", \"#ab63fa\", \"#FFA15A\", \"#19d3f3\", \"#FF6692\", \"#B6E880\", \"#FF97FF\", \"#FECB52\"], \"font\": {\"color\": \"#2a3f5f\"}, \"geo\": {\"bgcolor\": \"white\", \"lakecolor\": \"white\", \"landcolor\": \"white\", \"showlakes\": true, \"showland\": true, \"subunitcolor\": \"#C8D4E3\"}, \"hoverlabel\": {\"align\": \"left\"}, \"hovermode\": \"closest\", \"mapbox\": {\"style\": \"light\"}, \"paper_bgcolor\": \"white\", \"plot_bgcolor\": \"white\", \"polar\": {\"angularaxis\": {\"gridcolor\": \"#EBF0F8\", \"linecolor\": \"#EBF0F8\", \"ticks\": \"\"}, \"bgcolor\": \"white\", \"radialaxis\": {\"gridcolor\": \"#EBF0F8\", \"linecolor\": \"#EBF0F8\", \"ticks\": \"\"}}, \"scene\": {\"xaxis\": {\"backgroundcolor\": \"white\", \"gridcolor\": \"#DFE8F3\", \"gridwidth\": 2, \"linecolor\": \"#EBF0F8\", \"showbackground\": true, \"ticks\": \"\", \"zerolinecolor\": \"#EBF0F8\"}, \"yaxis\": {\"backgroundcolor\": \"white\", \"gridcolor\": \"#DFE8F3\", \"gridwidth\": 2, \"linecolor\": \"#EBF0F8\", \"showbackground\": true, \"ticks\": \"\", \"zerolinecolor\": \"#EBF0F8\"}, \"zaxis\": {\"backgroundcolor\": \"white\", \"gridcolor\": \"#DFE8F3\", \"gridwidth\": 2, \"linecolor\": \"#EBF0F8\", \"showbackground\": true, \"ticks\": \"\", \"zerolinecolor\": \"#EBF0F8\"}}, \"shapedefaults\": {\"line\": {\"color\": \"#2a3f5f\"}}, \"ternary\": {\"aaxis\": {\"gridcolor\": \"#DFE8F3\", \"linecolor\": \"#A2B1C6\", \"ticks\": \"\"}, \"baxis\": {\"gridcolor\": \"#DFE8F3\", \"linecolor\": \"#A2B1C6\", \"ticks\": \"\"}, \"bgcolor\": \"white\", \"caxis\": {\"gridcolor\": \"#DFE8F3\", \"linecolor\": \"#A2B1C6\", \"ticks\": \"\"}}, \"title\": {\"x\": 0.05}, \"xaxis\": {\"automargin\": true, \"gridcolor\": \"#EBF0F8\", \"linecolor\": \"#EBF0F8\", \"ticks\": \"\", \"title\": {\"standoff\": 15}, \"zerolinecolor\": \"#EBF0F8\", \"zerolinewidth\": 2}, \"yaxis\": {\"automargin\": true, \"gridcolor\": \"#EBF0F8\", \"linecolor\": \"#EBF0F8\", \"ticks\": \"\", \"title\": {\"standoff\": 15}, \"zerolinecolor\": \"#EBF0F8\", \"zerolinewidth\": 2}}}, \"title\": {\"text\": \"Worst 15 Businesses<br>(Based on Negative Rate)\"}, \"yaxis\": {\"tickformat\": \".1%\", \"title\": {\"text\": \"Sentiment Rate\"}}},\n",
       "                        {\"showLink\": true, \"linkText\": \"Export to plot.ly\", \"plotlyServerURL\": \"https://plot.ly\", \"responsive\": true}\n",
       "                    ).then(function(){\n",
       "                            \n",
       "var gd = document.getElementById('993e4e21-b5bb-4e10-a536-013fa0c91d98');\n",
       "var x = new MutationObserver(function (mutations, observer) {{\n",
       "        var display = window.getComputedStyle(gd).display;\n",
       "        if (!display || display === 'none') {{\n",
       "            console.log([gd, 'removed!']);\n",
       "            Plotly.purge(gd);\n",
       "            observer.disconnect();\n",
       "        }}\n",
       "}});\n",
       "\n",
       "// Listen for the removal of the full notebook cells\n",
       "var notebookContainer = gd.closest('#notebook-container');\n",
       "if (notebookContainer) {{\n",
       "    x.observe(notebookContainer, {childList: true});\n",
       "}}\n",
       "\n",
       "// Listen for the clearing of the current output cell\n",
       "var outputEl = gd.closest('.output');\n",
       "if (outputEl) {{\n",
       "    x.observe(outputEl, {childList: true});\n",
       "}}\n",
       "\n",
       "                        })\n",
       "                };\n",
       "                });\n",
       "            </script>\n",
       "        </div>"
      ]
     },
     "metadata": {},
     "output_type": "display_data"
    }
   ],
   "source": [
    "(sentiment_rates\n",
    " .sort_values('Negative', ascending=False)\n",
    " .iloc[0:n_business]\n",
    " .iplot(kind='bar',\n",
    "        colorscale='-set1',\n",
    "        layout=dict(title=f'Worst {n_business} Businesses<br>(Based on Negative Rate)',\n",
    "                    yaxis=dict(title='Sentiment Rate',\n",
    "                               tickformat='.1%'))))"
   ]
  },
  {
   "cell_type": "markdown",
   "metadata": {},
   "source": [
    "#### The Equation for Computing Avg. Star Rating\n",
    "$$\\frac{\\sum_{i=1}^{n}w_i \\cdot a_i}{\\sum_{i=1}^{n}w_i}$$"
   ]
  },
  {
   "cell_type": "code",
   "execution_count": 29,
   "metadata": {},
   "outputs": [],
   "source": [
    "star_array = np.array([1,2,3,4,5])\n",
    "                        \n",
    "star_stats['Avg. Rating'] = star_stats.apply(lambda row: (row * star_array).sum()/row.sum(), axis=1)"
   ]
  },
  {
   "cell_type": "code",
   "execution_count": 30,
   "metadata": {},
   "outputs": [
    {
     "data": {
      "text/html": [
       "<div>\n",
       "<style scoped>\n",
       "    .dataframe tbody tr th:only-of-type {\n",
       "        vertical-align: middle;\n",
       "    }\n",
       "\n",
       "    .dataframe tbody tr th {\n",
       "        vertical-align: top;\n",
       "    }\n",
       "\n",
       "    .dataframe thead th {\n",
       "        text-align: right;\n",
       "    }\n",
       "</style>\n",
       "<table border=\"1\" class=\"dataframe\">\n",
       "  <thead>\n",
       "    <tr style=\"text-align: right;\">\n",
       "      <th>stars</th>\n",
       "      <th>1</th>\n",
       "      <th>2</th>\n",
       "      <th>3</th>\n",
       "      <th>4</th>\n",
       "      <th>5</th>\n",
       "      <th>Avg. Rating</th>\n",
       "    </tr>\n",
       "    <tr>\n",
       "      <th>business_name</th>\n",
       "      <th></th>\n",
       "      <th></th>\n",
       "      <th></th>\n",
       "      <th></th>\n",
       "      <th></th>\n",
       "      <th></th>\n",
       "    </tr>\n",
       "  </thead>\n",
       "  <tbody>\n",
       "    <tr>\n",
       "      <th>kfc</th>\n",
       "      <td>1488</td>\n",
       "      <td>281</td>\n",
       "      <td>208</td>\n",
       "      <td>141</td>\n",
       "      <td>165</td>\n",
       "      <td>1.779676</td>\n",
       "    </tr>\n",
       "    <tr>\n",
       "      <th>mcdonalds</th>\n",
       "      <td>5649</td>\n",
       "      <td>1378</td>\n",
       "      <td>1273</td>\n",
       "      <td>1056</td>\n",
       "      <td>967</td>\n",
       "      <td>2.061707</td>\n",
       "    </tr>\n",
       "    <tr>\n",
       "      <th>burger king</th>\n",
       "      <td>1366</td>\n",
       "      <td>450</td>\n",
       "      <td>398</td>\n",
       "      <td>288</td>\n",
       "      <td>283</td>\n",
       "      <td>2.164093</td>\n",
       "    </tr>\n",
       "    <tr>\n",
       "      <th>pizza hut</th>\n",
       "      <td>2018</td>\n",
       "      <td>391</td>\n",
       "      <td>327</td>\n",
       "      <td>386</td>\n",
       "      <td>535</td>\n",
       "      <td>2.187585</td>\n",
       "    </tr>\n",
       "    <tr>\n",
       "      <th>wendys</th>\n",
       "      <td>1403</td>\n",
       "      <td>457</td>\n",
       "      <td>395</td>\n",
       "      <td>382</td>\n",
       "      <td>371</td>\n",
       "      <td>2.288896</td>\n",
       "    </tr>\n",
       "    <tr>\n",
       "      <th>...</th>\n",
       "      <td>...</td>\n",
       "      <td>...</td>\n",
       "      <td>...</td>\n",
       "      <td>...</td>\n",
       "      <td>...</td>\n",
       "      <td>...</td>\n",
       "    </tr>\n",
       "    <tr>\n",
       "      <th>grouchy johns coffee</th>\n",
       "      <td>10</td>\n",
       "      <td>16</td>\n",
       "      <td>32</td>\n",
       "      <td>143</td>\n",
       "      <td>721</td>\n",
       "      <td>4.680043</td>\n",
       "    </tr>\n",
       "    <tr>\n",
       "      <th>bronze cafe at the center</th>\n",
       "      <td>7</td>\n",
       "      <td>10</td>\n",
       "      <td>21</td>\n",
       "      <td>81</td>\n",
       "      <td>500</td>\n",
       "      <td>4.707593</td>\n",
       "    </tr>\n",
       "    <tr>\n",
       "      <th>poke express</th>\n",
       "      <td>12</td>\n",
       "      <td>6</td>\n",
       "      <td>25</td>\n",
       "      <td>142</td>\n",
       "      <td>701</td>\n",
       "      <td>4.708804</td>\n",
       "    </tr>\n",
       "    <tr>\n",
       "      <th>little miss bbq</th>\n",
       "      <td>11</td>\n",
       "      <td>19</td>\n",
       "      <td>38</td>\n",
       "      <td>122</td>\n",
       "      <td>1275</td>\n",
       "      <td>4.795904</td>\n",
       "    </tr>\n",
       "    <tr>\n",
       "      <th>brew tea bar</th>\n",
       "      <td>4</td>\n",
       "      <td>6</td>\n",
       "      <td>15</td>\n",
       "      <td>113</td>\n",
       "      <td>1027</td>\n",
       "      <td>4.848069</td>\n",
       "    </tr>\n",
       "  </tbody>\n",
       "</table>\n",
       "<p>1079 rows × 6 columns</p>\n",
       "</div>"
      ],
      "text/plain": [
       "stars                         1     2     3     4     5  Avg. Rating\n",
       "business_name                                                       \n",
       "kfc                        1488   281   208   141   165     1.779676\n",
       "mcdonalds                  5649  1378  1273  1056   967     2.061707\n",
       "burger king                1366   450   398   288   283     2.164093\n",
       "pizza hut                  2018   391   327   386   535     2.187585\n",
       "wendys                     1403   457   395   382   371     2.288896\n",
       "...                         ...   ...   ...   ...   ...          ...\n",
       "grouchy johns coffee         10    16    32   143   721     4.680043\n",
       "bronze cafe at the center     7    10    21    81   500     4.707593\n",
       "poke express                 12     6    25   142   701     4.708804\n",
       "little miss bbq              11    19    38   122  1275     4.795904\n",
       "brew tea bar                  4     6    15   113  1027     4.848069\n",
       "\n",
       "[1079 rows x 6 columns]"
      ]
     },
     "execution_count": 30,
     "metadata": {},
     "output_type": "execute_result"
    }
   ],
   "source": [
    "star_stats.sort_values('Avg. Rating')"
   ]
  },
  {
   "cell_type": "code",
   "execution_count": 31,
   "metadata": {},
   "outputs": [
    {
     "data": {
      "application/vnd.plotly.v1+json": {
       "config": {
        "linkText": "Export to plot.ly",
        "plotlyServerURL": "https://plot.ly",
        "showLink": true
       },
       "data": [
        {
         "marker": {
          "color": "rgba(55, 128, 191, 0.6)",
          "line": {
           "color": "rgba(55, 128, 191, 1.0)",
           "width": 1
          }
         },
         "name": "Avg. Rating",
         "orientation": "h",
         "text": "",
         "type": "bar",
         "x": [
          4.5,
          4.505843071786311,
          4.507415254237288,
          4.511150758251561,
          4.52054794520548,
          4.526774595267746,
          4.529014844804318,
          4.541297935103245,
          4.546526867627785,
          4.548523206751055,
          4.549632352941177,
          4.551059730250482,
          4.5610997963340125,
          4.567411083540116,
          4.599686028257457,
          4.605721393034826,
          4.606585788561525,
          4.61501976284585,
          4.617977528089888,
          4.641955835962145,
          4.656307129798903,
          4.673611111111111,
          4.676470588235294,
          4.679207920792079,
          4.67984496124031,
          4.68004338394794,
          4.707592891760905,
          4.708803611738149,
          4.795904436860068,
          4.848068669527897
         ],
         "y": [
          "harumi sushi",
          "pomo pizzeria - phoenix",
          "sunrise coffee",
          "mr. mamas",
          "maskadores taco shop",
          "veggie house",
          "hobak korean bbq",
          "detroit coney grill",
          "welcome diner",
          "ronalds donuts",
          "gangnam asian bbq dining",
          "greek wraps",
          "the great greek",
          "juans flaming fajitas & cantina",
          "zookz sandwiches",
          "mr mamas",
          "most wanted taco shop",
          "gaucho parrilla argentina",
          "casanova brothers pizza",
          "arawan thai bistro and dessert",
          "the goodwich",
          "cafe monarch",
          "baguette cafe",
          "kabuto",
          "soho japanese restaurant",
          "grouchy johns coffee",
          "bronze cafe at the center",
          "poke express",
          "little miss bbq",
          "brew tea bar"
         ]
        }
       ],
       "layout": {
        "height": 700,
        "margin": {
         "l": 100
        },
        "template": {
         "data": {
          "bar": [
           {
            "error_x": {
             "color": "#2a3f5f"
            },
            "error_y": {
             "color": "#2a3f5f"
            },
            "marker": {
             "line": {
              "color": "white",
              "width": 0.5
             }
            },
            "type": "bar"
           }
          ],
          "barpolar": [
           {
            "marker": {
             "line": {
              "color": "white",
              "width": 0.5
             }
            },
            "type": "barpolar"
           }
          ],
          "carpet": [
           {
            "aaxis": {
             "endlinecolor": "#2a3f5f",
             "gridcolor": "#C8D4E3",
             "linecolor": "#C8D4E3",
             "minorgridcolor": "#C8D4E3",
             "startlinecolor": "#2a3f5f"
            },
            "baxis": {
             "endlinecolor": "#2a3f5f",
             "gridcolor": "#C8D4E3",
             "linecolor": "#C8D4E3",
             "minorgridcolor": "#C8D4E3",
             "startlinecolor": "#2a3f5f"
            },
            "type": "carpet"
           }
          ],
          "choropleth": [
           {
            "colorbar": {
             "outlinewidth": 0,
             "ticks": ""
            },
            "type": "choropleth"
           }
          ],
          "contour": [
           {
            "colorbar": {
             "outlinewidth": 0,
             "ticks": ""
            },
            "colorscale": [
             [
              0,
              "#0d0887"
             ],
             [
              0.1111111111111111,
              "#46039f"
             ],
             [
              0.2222222222222222,
              "#7201a8"
             ],
             [
              0.3333333333333333,
              "#9c179e"
             ],
             [
              0.4444444444444444,
              "#bd3786"
             ],
             [
              0.5555555555555556,
              "#d8576b"
             ],
             [
              0.6666666666666666,
              "#ed7953"
             ],
             [
              0.7777777777777778,
              "#fb9f3a"
             ],
             [
              0.8888888888888888,
              "#fdca26"
             ],
             [
              1,
              "#f0f921"
             ]
            ],
            "type": "contour"
           }
          ],
          "contourcarpet": [
           {
            "colorbar": {
             "outlinewidth": 0,
             "ticks": ""
            },
            "type": "contourcarpet"
           }
          ],
          "heatmap": [
           {
            "colorbar": {
             "outlinewidth": 0,
             "ticks": ""
            },
            "colorscale": [
             [
              0,
              "#0d0887"
             ],
             [
              0.1111111111111111,
              "#46039f"
             ],
             [
              0.2222222222222222,
              "#7201a8"
             ],
             [
              0.3333333333333333,
              "#9c179e"
             ],
             [
              0.4444444444444444,
              "#bd3786"
             ],
             [
              0.5555555555555556,
              "#d8576b"
             ],
             [
              0.6666666666666666,
              "#ed7953"
             ],
             [
              0.7777777777777778,
              "#fb9f3a"
             ],
             [
              0.8888888888888888,
              "#fdca26"
             ],
             [
              1,
              "#f0f921"
             ]
            ],
            "type": "heatmap"
           }
          ],
          "heatmapgl": [
           {
            "colorbar": {
             "outlinewidth": 0,
             "ticks": ""
            },
            "colorscale": [
             [
              0,
              "#0d0887"
             ],
             [
              0.1111111111111111,
              "#46039f"
             ],
             [
              0.2222222222222222,
              "#7201a8"
             ],
             [
              0.3333333333333333,
              "#9c179e"
             ],
             [
              0.4444444444444444,
              "#bd3786"
             ],
             [
              0.5555555555555556,
              "#d8576b"
             ],
             [
              0.6666666666666666,
              "#ed7953"
             ],
             [
              0.7777777777777778,
              "#fb9f3a"
             ],
             [
              0.8888888888888888,
              "#fdca26"
             ],
             [
              1,
              "#f0f921"
             ]
            ],
            "type": "heatmapgl"
           }
          ],
          "histogram": [
           {
            "marker": {
             "colorbar": {
              "outlinewidth": 0,
              "ticks": ""
             }
            },
            "type": "histogram"
           }
          ],
          "histogram2d": [
           {
            "colorbar": {
             "outlinewidth": 0,
             "ticks": ""
            },
            "colorscale": [
             [
              0,
              "#0d0887"
             ],
             [
              0.1111111111111111,
              "#46039f"
             ],
             [
              0.2222222222222222,
              "#7201a8"
             ],
             [
              0.3333333333333333,
              "#9c179e"
             ],
             [
              0.4444444444444444,
              "#bd3786"
             ],
             [
              0.5555555555555556,
              "#d8576b"
             ],
             [
              0.6666666666666666,
              "#ed7953"
             ],
             [
              0.7777777777777778,
              "#fb9f3a"
             ],
             [
              0.8888888888888888,
              "#fdca26"
             ],
             [
              1,
              "#f0f921"
             ]
            ],
            "type": "histogram2d"
           }
          ],
          "histogram2dcontour": [
           {
            "colorbar": {
             "outlinewidth": 0,
             "ticks": ""
            },
            "colorscale": [
             [
              0,
              "#0d0887"
             ],
             [
              0.1111111111111111,
              "#46039f"
             ],
             [
              0.2222222222222222,
              "#7201a8"
             ],
             [
              0.3333333333333333,
              "#9c179e"
             ],
             [
              0.4444444444444444,
              "#bd3786"
             ],
             [
              0.5555555555555556,
              "#d8576b"
             ],
             [
              0.6666666666666666,
              "#ed7953"
             ],
             [
              0.7777777777777778,
              "#fb9f3a"
             ],
             [
              0.8888888888888888,
              "#fdca26"
             ],
             [
              1,
              "#f0f921"
             ]
            ],
            "type": "histogram2dcontour"
           }
          ],
          "mesh3d": [
           {
            "colorbar": {
             "outlinewidth": 0,
             "ticks": ""
            },
            "type": "mesh3d"
           }
          ],
          "parcoords": [
           {
            "line": {
             "colorbar": {
              "outlinewidth": 0,
              "ticks": ""
             }
            },
            "type": "parcoords"
           }
          ],
          "pie": [
           {
            "automargin": true,
            "type": "pie"
           }
          ],
          "scatter": [
           {
            "marker": {
             "colorbar": {
              "outlinewidth": 0,
              "ticks": ""
             }
            },
            "type": "scatter"
           }
          ],
          "scatter3d": [
           {
            "line": {
             "colorbar": {
              "outlinewidth": 0,
              "ticks": ""
             }
            },
            "marker": {
             "colorbar": {
              "outlinewidth": 0,
              "ticks": ""
             }
            },
            "type": "scatter3d"
           }
          ],
          "scattercarpet": [
           {
            "marker": {
             "colorbar": {
              "outlinewidth": 0,
              "ticks": ""
             }
            },
            "type": "scattercarpet"
           }
          ],
          "scattergeo": [
           {
            "marker": {
             "colorbar": {
              "outlinewidth": 0,
              "ticks": ""
             }
            },
            "type": "scattergeo"
           }
          ],
          "scattergl": [
           {
            "marker": {
             "colorbar": {
              "outlinewidth": 0,
              "ticks": ""
             }
            },
            "type": "scattergl"
           }
          ],
          "scattermapbox": [
           {
            "marker": {
             "colorbar": {
              "outlinewidth": 0,
              "ticks": ""
             }
            },
            "type": "scattermapbox"
           }
          ],
          "scatterpolar": [
           {
            "marker": {
             "colorbar": {
              "outlinewidth": 0,
              "ticks": ""
             }
            },
            "type": "scatterpolar"
           }
          ],
          "scatterpolargl": [
           {
            "marker": {
             "colorbar": {
              "outlinewidth": 0,
              "ticks": ""
             }
            },
            "type": "scatterpolargl"
           }
          ],
          "scatterternary": [
           {
            "marker": {
             "colorbar": {
              "outlinewidth": 0,
              "ticks": ""
             }
            },
            "type": "scatterternary"
           }
          ],
          "surface": [
           {
            "colorbar": {
             "outlinewidth": 0,
             "ticks": ""
            },
            "colorscale": [
             [
              0,
              "#0d0887"
             ],
             [
              0.1111111111111111,
              "#46039f"
             ],
             [
              0.2222222222222222,
              "#7201a8"
             ],
             [
              0.3333333333333333,
              "#9c179e"
             ],
             [
              0.4444444444444444,
              "#bd3786"
             ],
             [
              0.5555555555555556,
              "#d8576b"
             ],
             [
              0.6666666666666666,
              "#ed7953"
             ],
             [
              0.7777777777777778,
              "#fb9f3a"
             ],
             [
              0.8888888888888888,
              "#fdca26"
             ],
             [
              1,
              "#f0f921"
             ]
            ],
            "type": "surface"
           }
          ],
          "table": [
           {
            "cells": {
             "fill": {
              "color": "#EBF0F8"
             },
             "line": {
              "color": "white"
             }
            },
            "header": {
             "fill": {
              "color": "#C8D4E3"
             },
             "line": {
              "color": "white"
             }
            },
            "type": "table"
           }
          ]
         },
         "layout": {
          "annotationdefaults": {
           "arrowcolor": "#2a3f5f",
           "arrowhead": 0,
           "arrowwidth": 1
          },
          "coloraxis": {
           "colorbar": {
            "outlinewidth": 0,
            "ticks": ""
           }
          },
          "colorscale": {
           "diverging": [
            [
             0,
             "#8e0152"
            ],
            [
             0.1,
             "#c51b7d"
            ],
            [
             0.2,
             "#de77ae"
            ],
            [
             0.3,
             "#f1b6da"
            ],
            [
             0.4,
             "#fde0ef"
            ],
            [
             0.5,
             "#f7f7f7"
            ],
            [
             0.6,
             "#e6f5d0"
            ],
            [
             0.7,
             "#b8e186"
            ],
            [
             0.8,
             "#7fbc41"
            ],
            [
             0.9,
             "#4d9221"
            ],
            [
             1,
             "#276419"
            ]
           ],
           "sequential": [
            [
             0,
             "#0d0887"
            ],
            [
             0.1111111111111111,
             "#46039f"
            ],
            [
             0.2222222222222222,
             "#7201a8"
            ],
            [
             0.3333333333333333,
             "#9c179e"
            ],
            [
             0.4444444444444444,
             "#bd3786"
            ],
            [
             0.5555555555555556,
             "#d8576b"
            ],
            [
             0.6666666666666666,
             "#ed7953"
            ],
            [
             0.7777777777777778,
             "#fb9f3a"
            ],
            [
             0.8888888888888888,
             "#fdca26"
            ],
            [
             1,
             "#f0f921"
            ]
           ],
           "sequentialminus": [
            [
             0,
             "#0d0887"
            ],
            [
             0.1111111111111111,
             "#46039f"
            ],
            [
             0.2222222222222222,
             "#7201a8"
            ],
            [
             0.3333333333333333,
             "#9c179e"
            ],
            [
             0.4444444444444444,
             "#bd3786"
            ],
            [
             0.5555555555555556,
             "#d8576b"
            ],
            [
             0.6666666666666666,
             "#ed7953"
            ],
            [
             0.7777777777777778,
             "#fb9f3a"
            ],
            [
             0.8888888888888888,
             "#fdca26"
            ],
            [
             1,
             "#f0f921"
            ]
           ]
          },
          "colorway": [
           "#636efa",
           "#EF553B",
           "#00cc96",
           "#ab63fa",
           "#FFA15A",
           "#19d3f3",
           "#FF6692",
           "#B6E880",
           "#FF97FF",
           "#FECB52"
          ],
          "font": {
           "color": "#2a3f5f"
          },
          "geo": {
           "bgcolor": "white",
           "lakecolor": "white",
           "landcolor": "white",
           "showlakes": true,
           "showland": true,
           "subunitcolor": "#C8D4E3"
          },
          "hoverlabel": {
           "align": "left"
          },
          "hovermode": "closest",
          "mapbox": {
           "style": "light"
          },
          "paper_bgcolor": "white",
          "plot_bgcolor": "white",
          "polar": {
           "angularaxis": {
            "gridcolor": "#EBF0F8",
            "linecolor": "#EBF0F8",
            "ticks": ""
           },
           "bgcolor": "white",
           "radialaxis": {
            "gridcolor": "#EBF0F8",
            "linecolor": "#EBF0F8",
            "ticks": ""
           }
          },
          "scene": {
           "xaxis": {
            "backgroundcolor": "white",
            "gridcolor": "#DFE8F3",
            "gridwidth": 2,
            "linecolor": "#EBF0F8",
            "showbackground": true,
            "ticks": "",
            "zerolinecolor": "#EBF0F8"
           },
           "yaxis": {
            "backgroundcolor": "white",
            "gridcolor": "#DFE8F3",
            "gridwidth": 2,
            "linecolor": "#EBF0F8",
            "showbackground": true,
            "ticks": "",
            "zerolinecolor": "#EBF0F8"
           },
           "zaxis": {
            "backgroundcolor": "white",
            "gridcolor": "#DFE8F3",
            "gridwidth": 2,
            "linecolor": "#EBF0F8",
            "showbackground": true,
            "ticks": "",
            "zerolinecolor": "#EBF0F8"
           }
          },
          "shapedefaults": {
           "line": {
            "color": "#2a3f5f"
           }
          },
          "ternary": {
           "aaxis": {
            "gridcolor": "#DFE8F3",
            "linecolor": "#A2B1C6",
            "ticks": ""
           },
           "baxis": {
            "gridcolor": "#DFE8F3",
            "linecolor": "#A2B1C6",
            "ticks": ""
           },
           "bgcolor": "white",
           "caxis": {
            "gridcolor": "#DFE8F3",
            "linecolor": "#A2B1C6",
            "ticks": ""
           }
          },
          "title": {
           "x": 0.05
          },
          "xaxis": {
           "automargin": true,
           "gridcolor": "#EBF0F8",
           "linecolor": "#EBF0F8",
           "ticks": "",
           "title": {
            "standoff": 15
           },
           "zerolinecolor": "#EBF0F8",
           "zerolinewidth": 2
          },
          "yaxis": {
           "automargin": true,
           "gridcolor": "#EBF0F8",
           "linecolor": "#EBF0F8",
           "ticks": "",
           "title": {
            "standoff": 15
           },
           "zerolinecolor": "#EBF0F8",
           "zerolinewidth": 2
          }
         }
        },
        "title": {
         "text": "Best Brands<br>(Based on Avg. Rating)"
        },
        "xaxis": {
         "range": [
          4.4799999999999995,
          4.9
         ],
         "tickvals": [
          4.46,
          4.51,
          4.56,
          4.609999999999999,
          4.659999999999999,
          4.709999999999999,
          4.759999999999999,
          4.809999999999999,
          4.8599999999999985
         ],
         "title": {
          "text": "Avg. Star Rating"
         }
        }
       }
      },
      "text/html": [
       "<div>\n",
       "        \n",
       "        \n",
       "            <div id=\"e42a6be9-9cdc-4615-bc12-8c54c277b0b5\" class=\"plotly-graph-div\" style=\"height:700px; width:100%;\"></div>\n",
       "            <script type=\"text/javascript\">\n",
       "                require([\"plotly\"], function(Plotly) {\n",
       "                    window.PLOTLYENV=window.PLOTLYENV || {};\n",
       "                    window.PLOTLYENV.BASE_URL='https://plot.ly';\n",
       "                    \n",
       "                if (document.getElementById(\"e42a6be9-9cdc-4615-bc12-8c54c277b0b5\")) {\n",
       "                    Plotly.newPlot(\n",
       "                        'e42a6be9-9cdc-4615-bc12-8c54c277b0b5',\n",
       "                        [{\"marker\": {\"color\": \"rgba(55, 128, 191, 0.6)\", \"line\": {\"color\": \"rgba(55, 128, 191, 1.0)\", \"width\": 1}}, \"name\": \"Avg. Rating\", \"orientation\": \"h\", \"text\": \"\", \"type\": \"bar\", \"x\": [4.5, 4.505843071786311, 4.507415254237288, 4.511150758251561, 4.52054794520548, 4.526774595267746, 4.529014844804318, 4.541297935103245, 4.546526867627785, 4.548523206751055, 4.549632352941177, 4.551059730250482, 4.5610997963340125, 4.567411083540116, 4.599686028257457, 4.605721393034826, 4.606585788561525, 4.61501976284585, 4.617977528089888, 4.641955835962145, 4.656307129798903, 4.673611111111111, 4.676470588235294, 4.679207920792079, 4.67984496124031, 4.68004338394794, 4.707592891760905, 4.708803611738149, 4.795904436860068, 4.848068669527897], \"y\": [\"harumi sushi\", \"pomo pizzeria - phoenix\", \"sunrise coffee\", \"mr. mamas\", \"maskadores taco shop\", \"veggie house\", \"hobak korean bbq\", \"detroit coney grill\", \"welcome diner\", \"ronalds donuts\", \"gangnam asian bbq dining\", \"greek wraps\", \"the great greek\", \"juans flaming fajitas & cantina\", \"zookz sandwiches\", \"mr mamas\", \"most wanted taco shop\", \"gaucho parrilla argentina\", \"casanova brothers pizza\", \"arawan thai bistro and dessert\", \"the goodwich\", \"cafe monarch\", \"baguette cafe\", \"kabuto\", \"soho japanese restaurant\", \"grouchy johns coffee\", \"bronze cafe at the center\", \"poke express\", \"little miss bbq\", \"brew tea bar\"]}],\n",
       "                        {\"height\": 700, \"margin\": {\"l\": 100}, \"template\": {\"data\": {\"bar\": [{\"error_x\": {\"color\": \"#2a3f5f\"}, \"error_y\": {\"color\": \"#2a3f5f\"}, \"marker\": {\"line\": {\"color\": \"white\", \"width\": 0.5}}, \"type\": \"bar\"}], \"barpolar\": [{\"marker\": {\"line\": {\"color\": \"white\", \"width\": 0.5}}, \"type\": \"barpolar\"}], \"carpet\": [{\"aaxis\": {\"endlinecolor\": \"#2a3f5f\", \"gridcolor\": \"#C8D4E3\", \"linecolor\": \"#C8D4E3\", \"minorgridcolor\": \"#C8D4E3\", \"startlinecolor\": \"#2a3f5f\"}, \"baxis\": {\"endlinecolor\": \"#2a3f5f\", \"gridcolor\": \"#C8D4E3\", \"linecolor\": \"#C8D4E3\", \"minorgridcolor\": \"#C8D4E3\", \"startlinecolor\": \"#2a3f5f\"}, \"type\": \"carpet\"}], \"choropleth\": [{\"colorbar\": {\"outlinewidth\": 0, \"ticks\": \"\"}, \"type\": \"choropleth\"}], \"contour\": [{\"colorbar\": {\"outlinewidth\": 0, \"ticks\": \"\"}, \"colorscale\": [[0.0, \"#0d0887\"], [0.1111111111111111, \"#46039f\"], [0.2222222222222222, \"#7201a8\"], [0.3333333333333333, \"#9c179e\"], [0.4444444444444444, \"#bd3786\"], [0.5555555555555556, \"#d8576b\"], [0.6666666666666666, \"#ed7953\"], [0.7777777777777778, \"#fb9f3a\"], [0.8888888888888888, \"#fdca26\"], [1.0, \"#f0f921\"]], \"type\": \"contour\"}], \"contourcarpet\": [{\"colorbar\": {\"outlinewidth\": 0, \"ticks\": \"\"}, \"type\": \"contourcarpet\"}], \"heatmap\": [{\"colorbar\": {\"outlinewidth\": 0, \"ticks\": \"\"}, \"colorscale\": [[0.0, \"#0d0887\"], [0.1111111111111111, \"#46039f\"], [0.2222222222222222, \"#7201a8\"], [0.3333333333333333, \"#9c179e\"], [0.4444444444444444, \"#bd3786\"], [0.5555555555555556, \"#d8576b\"], [0.6666666666666666, \"#ed7953\"], [0.7777777777777778, \"#fb9f3a\"], [0.8888888888888888, \"#fdca26\"], [1.0, \"#f0f921\"]], \"type\": \"heatmap\"}], \"heatmapgl\": [{\"colorbar\": {\"outlinewidth\": 0, \"ticks\": \"\"}, \"colorscale\": [[0.0, \"#0d0887\"], [0.1111111111111111, \"#46039f\"], [0.2222222222222222, \"#7201a8\"], [0.3333333333333333, \"#9c179e\"], [0.4444444444444444, \"#bd3786\"], [0.5555555555555556, \"#d8576b\"], [0.6666666666666666, \"#ed7953\"], [0.7777777777777778, \"#fb9f3a\"], [0.8888888888888888, \"#fdca26\"], [1.0, \"#f0f921\"]], \"type\": \"heatmapgl\"}], \"histogram\": [{\"marker\": {\"colorbar\": {\"outlinewidth\": 0, \"ticks\": \"\"}}, \"type\": \"histogram\"}], \"histogram2d\": [{\"colorbar\": {\"outlinewidth\": 0, \"ticks\": \"\"}, \"colorscale\": [[0.0, \"#0d0887\"], [0.1111111111111111, \"#46039f\"], [0.2222222222222222, \"#7201a8\"], [0.3333333333333333, \"#9c179e\"], [0.4444444444444444, \"#bd3786\"], [0.5555555555555556, \"#d8576b\"], [0.6666666666666666, \"#ed7953\"], [0.7777777777777778, \"#fb9f3a\"], [0.8888888888888888, \"#fdca26\"], [1.0, \"#f0f921\"]], \"type\": \"histogram2d\"}], \"histogram2dcontour\": [{\"colorbar\": {\"outlinewidth\": 0, \"ticks\": \"\"}, \"colorscale\": [[0.0, \"#0d0887\"], [0.1111111111111111, \"#46039f\"], [0.2222222222222222, \"#7201a8\"], [0.3333333333333333, \"#9c179e\"], [0.4444444444444444, \"#bd3786\"], [0.5555555555555556, \"#d8576b\"], [0.6666666666666666, \"#ed7953\"], [0.7777777777777778, \"#fb9f3a\"], [0.8888888888888888, \"#fdca26\"], [1.0, \"#f0f921\"]], \"type\": \"histogram2dcontour\"}], \"mesh3d\": [{\"colorbar\": {\"outlinewidth\": 0, \"ticks\": \"\"}, \"type\": \"mesh3d\"}], \"parcoords\": [{\"line\": {\"colorbar\": {\"outlinewidth\": 0, \"ticks\": \"\"}}, \"type\": \"parcoords\"}], \"pie\": [{\"automargin\": true, \"type\": \"pie\"}], \"scatter\": [{\"marker\": {\"colorbar\": {\"outlinewidth\": 0, \"ticks\": \"\"}}, \"type\": \"scatter\"}], \"scatter3d\": [{\"line\": {\"colorbar\": {\"outlinewidth\": 0, \"ticks\": \"\"}}, \"marker\": {\"colorbar\": {\"outlinewidth\": 0, \"ticks\": \"\"}}, \"type\": \"scatter3d\"}], \"scattercarpet\": [{\"marker\": {\"colorbar\": {\"outlinewidth\": 0, \"ticks\": \"\"}}, \"type\": \"scattercarpet\"}], \"scattergeo\": [{\"marker\": {\"colorbar\": {\"outlinewidth\": 0, \"ticks\": \"\"}}, \"type\": \"scattergeo\"}], \"scattergl\": [{\"marker\": {\"colorbar\": {\"outlinewidth\": 0, \"ticks\": \"\"}}, \"type\": \"scattergl\"}], \"scattermapbox\": [{\"marker\": {\"colorbar\": {\"outlinewidth\": 0, \"ticks\": \"\"}}, \"type\": \"scattermapbox\"}], \"scatterpolar\": [{\"marker\": {\"colorbar\": {\"outlinewidth\": 0, \"ticks\": \"\"}}, \"type\": \"scatterpolar\"}], \"scatterpolargl\": [{\"marker\": {\"colorbar\": {\"outlinewidth\": 0, \"ticks\": \"\"}}, \"type\": \"scatterpolargl\"}], \"scatterternary\": [{\"marker\": {\"colorbar\": {\"outlinewidth\": 0, \"ticks\": \"\"}}, \"type\": \"scatterternary\"}], \"surface\": [{\"colorbar\": {\"outlinewidth\": 0, \"ticks\": \"\"}, \"colorscale\": [[0.0, \"#0d0887\"], [0.1111111111111111, \"#46039f\"], [0.2222222222222222, \"#7201a8\"], [0.3333333333333333, \"#9c179e\"], [0.4444444444444444, \"#bd3786\"], [0.5555555555555556, \"#d8576b\"], [0.6666666666666666, \"#ed7953\"], [0.7777777777777778, \"#fb9f3a\"], [0.8888888888888888, \"#fdca26\"], [1.0, \"#f0f921\"]], \"type\": \"surface\"}], \"table\": [{\"cells\": {\"fill\": {\"color\": \"#EBF0F8\"}, \"line\": {\"color\": \"white\"}}, \"header\": {\"fill\": {\"color\": \"#C8D4E3\"}, \"line\": {\"color\": \"white\"}}, \"type\": \"table\"}]}, \"layout\": {\"annotationdefaults\": {\"arrowcolor\": \"#2a3f5f\", \"arrowhead\": 0, \"arrowwidth\": 1}, \"coloraxis\": {\"colorbar\": {\"outlinewidth\": 0, \"ticks\": \"\"}}, \"colorscale\": {\"diverging\": [[0, \"#8e0152\"], [0.1, \"#c51b7d\"], [0.2, \"#de77ae\"], [0.3, \"#f1b6da\"], [0.4, \"#fde0ef\"], [0.5, \"#f7f7f7\"], [0.6, \"#e6f5d0\"], [0.7, \"#b8e186\"], [0.8, \"#7fbc41\"], [0.9, \"#4d9221\"], [1, \"#276419\"]], \"sequential\": [[0.0, \"#0d0887\"], [0.1111111111111111, \"#46039f\"], [0.2222222222222222, \"#7201a8\"], [0.3333333333333333, \"#9c179e\"], [0.4444444444444444, \"#bd3786\"], [0.5555555555555556, \"#d8576b\"], [0.6666666666666666, \"#ed7953\"], [0.7777777777777778, \"#fb9f3a\"], [0.8888888888888888, \"#fdca26\"], [1.0, \"#f0f921\"]], \"sequentialminus\": [[0.0, \"#0d0887\"], [0.1111111111111111, \"#46039f\"], [0.2222222222222222, \"#7201a8\"], [0.3333333333333333, \"#9c179e\"], [0.4444444444444444, \"#bd3786\"], [0.5555555555555556, \"#d8576b\"], [0.6666666666666666, \"#ed7953\"], [0.7777777777777778, \"#fb9f3a\"], [0.8888888888888888, \"#fdca26\"], [1.0, \"#f0f921\"]]}, \"colorway\": [\"#636efa\", \"#EF553B\", \"#00cc96\", \"#ab63fa\", \"#FFA15A\", \"#19d3f3\", \"#FF6692\", \"#B6E880\", \"#FF97FF\", \"#FECB52\"], \"font\": {\"color\": \"#2a3f5f\"}, \"geo\": {\"bgcolor\": \"white\", \"lakecolor\": \"white\", \"landcolor\": \"white\", \"showlakes\": true, \"showland\": true, \"subunitcolor\": \"#C8D4E3\"}, \"hoverlabel\": {\"align\": \"left\"}, \"hovermode\": \"closest\", \"mapbox\": {\"style\": \"light\"}, \"paper_bgcolor\": \"white\", \"plot_bgcolor\": \"white\", \"polar\": {\"angularaxis\": {\"gridcolor\": \"#EBF0F8\", \"linecolor\": \"#EBF0F8\", \"ticks\": \"\"}, \"bgcolor\": \"white\", \"radialaxis\": {\"gridcolor\": \"#EBF0F8\", \"linecolor\": \"#EBF0F8\", \"ticks\": \"\"}}, \"scene\": {\"xaxis\": {\"backgroundcolor\": \"white\", \"gridcolor\": \"#DFE8F3\", \"gridwidth\": 2, \"linecolor\": \"#EBF0F8\", \"showbackground\": true, \"ticks\": \"\", \"zerolinecolor\": \"#EBF0F8\"}, \"yaxis\": {\"backgroundcolor\": \"white\", \"gridcolor\": \"#DFE8F3\", \"gridwidth\": 2, \"linecolor\": \"#EBF0F8\", \"showbackground\": true, \"ticks\": \"\", \"zerolinecolor\": \"#EBF0F8\"}, \"zaxis\": {\"backgroundcolor\": \"white\", \"gridcolor\": \"#DFE8F3\", \"gridwidth\": 2, \"linecolor\": \"#EBF0F8\", \"showbackground\": true, \"ticks\": \"\", \"zerolinecolor\": \"#EBF0F8\"}}, \"shapedefaults\": {\"line\": {\"color\": \"#2a3f5f\"}}, \"ternary\": {\"aaxis\": {\"gridcolor\": \"#DFE8F3\", \"linecolor\": \"#A2B1C6\", \"ticks\": \"\"}, \"baxis\": {\"gridcolor\": \"#DFE8F3\", \"linecolor\": \"#A2B1C6\", \"ticks\": \"\"}, \"bgcolor\": \"white\", \"caxis\": {\"gridcolor\": \"#DFE8F3\", \"linecolor\": \"#A2B1C6\", \"ticks\": \"\"}}, \"title\": {\"x\": 0.05}, \"xaxis\": {\"automargin\": true, \"gridcolor\": \"#EBF0F8\", \"linecolor\": \"#EBF0F8\", \"ticks\": \"\", \"title\": {\"standoff\": 15}, \"zerolinecolor\": \"#EBF0F8\", \"zerolinewidth\": 2}, \"yaxis\": {\"automargin\": true, \"gridcolor\": \"#EBF0F8\", \"linecolor\": \"#EBF0F8\", \"ticks\": \"\", \"title\": {\"standoff\": 15}, \"zerolinecolor\": \"#EBF0F8\", \"zerolinewidth\": 2}}}, \"title\": {\"text\": \"Best Brands<br>(Based on Avg. Rating)\"}, \"xaxis\": {\"range\": [4.4799999999999995, 4.9], \"tickvals\": [4.46, 4.51, 4.56, 4.609999999999999, 4.659999999999999, 4.709999999999999, 4.759999999999999, 4.809999999999999, 4.8599999999999985], \"title\": {\"text\": \"Avg. Star Rating\"}}},\n",
       "                        {\"showLink\": true, \"linkText\": \"Export to plot.ly\", \"plotlyServerURL\": \"https://plot.ly\", \"responsive\": true}\n",
       "                    ).then(function(){\n",
       "                            \n",
       "var gd = document.getElementById('e42a6be9-9cdc-4615-bc12-8c54c277b0b5');\n",
       "var x = new MutationObserver(function (mutations, observer) {{\n",
       "        var display = window.getComputedStyle(gd).display;\n",
       "        if (!display || display === 'none') {{\n",
       "            console.log([gd, 'removed!']);\n",
       "            Plotly.purge(gd);\n",
       "            observer.disconnect();\n",
       "        }}\n",
       "}});\n",
       "\n",
       "// Listen for the removal of the full notebook cells\n",
       "var notebookContainer = gd.closest('#notebook-container');\n",
       "if (notebookContainer) {{\n",
       "    x.observe(notebookContainer, {childList: true});\n",
       "}}\n",
       "\n",
       "// Listen for the clearing of the current output cell\n",
       "var outputEl = gd.closest('.output');\n",
       "if (outputEl) {{\n",
       "    x.observe(outputEl, {childList: true});\n",
       "}}\n",
       "\n",
       "                        })\n",
       "                };\n",
       "                });\n",
       "            </script>\n",
       "        </div>"
      ]
     },
     "metadata": {},
     "output_type": "display_data"
    }
   ],
   "source": [
    "n_top = 30\n",
    "\n",
    "best_business = star_stats.sort_values('Avg. Rating', ascending=True).tail(n_top)\n",
    "\n",
    "x_min = round(best_business['Avg. Rating'].min() * 0.99, 2)\n",
    "x_max = round(best_business['Avg. Rating'].max() * 1.01, 2)\n",
    "\n",
    "\n",
    "(best_business\n",
    " .loc[:, ['Avg. Rating']]\n",
    " .iplot(kind='bar',\n",
    "        orientation='h', color='blue',\n",
    "        layout=dict(title='Best Brands<br>(Based on Avg. Rating)',\n",
    "                    height=700,\n",
    "                    margin=dict(l=100),\n",
    "                    xaxis=dict(title='Avg. Star Rating',\n",
    "                               range=[x_min+0.02, x_max],\n",
    "                               tickvals=np.arange(x_min, x_max, 0.05)))))"
   ]
  },
  {
   "cell_type": "markdown",
   "metadata": {},
   "source": [
    "### Homework: Repeat the last plot for the Worst Brands"
   ]
  },
  {
   "cell_type": "code",
   "execution_count": null,
   "metadata": {},
   "outputs": [],
   "source": []
  },
  {
   "cell_type": "markdown",
   "metadata": {},
   "source": [
    "### How about Progression over Time?"
   ]
  },
  {
   "cell_type": "markdown",
   "metadata": {},
   "source": [
    "If you're KFC's manager or owner, you'd propably be very disappointed now by the stats above. But was it always this bad? or maybe your customer sentiments have changed over time? Let's find out"
   ]
  },
  {
   "cell_type": "code",
   "execution_count": 32,
   "metadata": {},
   "outputs": [
    {
     "data": {
      "text/html": [
       "<div>\n",
       "<style scoped>\n",
       "    .dataframe tbody tr th:only-of-type {\n",
       "        vertical-align: middle;\n",
       "    }\n",
       "\n",
       "    .dataframe tbody tr th {\n",
       "        vertical-align: top;\n",
       "    }\n",
       "\n",
       "    .dataframe thead th {\n",
       "        text-align: right;\n",
       "    }\n",
       "</style>\n",
       "<table border=\"1\" class=\"dataframe\">\n",
       "  <thead>\n",
       "    <tr style=\"text-align: right;\">\n",
       "      <th></th>\n",
       "      <th>business_id</th>\n",
       "      <th>stars</th>\n",
       "      <th>text</th>\n",
       "      <th>year</th>\n",
       "      <th>month</th>\n",
       "      <th>day</th>\n",
       "      <th>business_name</th>\n",
       "      <th>sentiment</th>\n",
       "    </tr>\n",
       "    <tr>\n",
       "      <th>date</th>\n",
       "      <th></th>\n",
       "      <th></th>\n",
       "      <th></th>\n",
       "      <th></th>\n",
       "      <th></th>\n",
       "      <th></th>\n",
       "      <th></th>\n",
       "      <th></th>\n",
       "    </tr>\n",
       "  </thead>\n",
       "  <tbody>\n",
       "    <tr>\n",
       "      <th>2012-01-01</th>\n",
       "      <td>GIfZNMP0oIJCje_Xp0Bgrw</td>\n",
       "      <td>3</td>\n",
       "      <td>I'm sad to say this, but I think I'm done with...</td>\n",
       "      <td>2012</td>\n",
       "      <td>1</td>\n",
       "      <td>Sun</td>\n",
       "      <td>the greenhouse tavern</td>\n",
       "      <td>neu</td>\n",
       "    </tr>\n",
       "    <tr>\n",
       "      <th>2012-01-01</th>\n",
       "      <td>7fxebHYUwIF6CakxSr70iQ</td>\n",
       "      <td>4</td>\n",
       "      <td>Went in for lunch. Had a nice glass I rose and...</td>\n",
       "      <td>2012</td>\n",
       "      <td>1</td>\n",
       "      <td>Sun</td>\n",
       "      <td>carnevino</td>\n",
       "      <td>pos</td>\n",
       "    </tr>\n",
       "    <tr>\n",
       "      <th>2012-01-01</th>\n",
       "      <td>gRCEObNuHtI61xR32ytqNQ</td>\n",
       "      <td>4</td>\n",
       "      <td>Review for tower rooms,  Feast Buffet, and Gra...</td>\n",
       "      <td>2012</td>\n",
       "      <td>1</td>\n",
       "      <td>Sun</td>\n",
       "      <td>palace station hotel &amp; casino</td>\n",
       "      <td>pos</td>\n",
       "    </tr>\n",
       "    <tr>\n",
       "      <th>2012-01-01</th>\n",
       "      <td>h6Y1-KfN2XBkcrV85CS8yg</td>\n",
       "      <td>1</td>\n",
       "      <td>Don't do it!!  Don't even think about doing it...</td>\n",
       "      <td>2012</td>\n",
       "      <td>1</td>\n",
       "      <td>Sun</td>\n",
       "      <td>studio movie grill</td>\n",
       "      <td>neg</td>\n",
       "    </tr>\n",
       "    <tr>\n",
       "      <th>2012-01-01</th>\n",
       "      <td>XXW_OFaYQkkGOGniujZFHg</td>\n",
       "      <td>5</td>\n",
       "      <td>I'm in utter disbelief that I haven't written ...</td>\n",
       "      <td>2012</td>\n",
       "      <td>1</td>\n",
       "      <td>Sun</td>\n",
       "      <td>the peppermill restaurant &amp; fireside lounge</td>\n",
       "      <td>pos</td>\n",
       "    </tr>\n",
       "    <tr>\n",
       "      <th>...</th>\n",
       "      <td>...</td>\n",
       "      <td>...</td>\n",
       "      <td>...</td>\n",
       "      <td>...</td>\n",
       "      <td>...</td>\n",
       "      <td>...</td>\n",
       "      <td>...</td>\n",
       "      <td>...</td>\n",
       "    </tr>\n",
       "    <tr>\n",
       "      <th>2014-06-30</th>\n",
       "      <td>_B3jnaQVtDXqydea1y92fQ</td>\n",
       "      <td>4</td>\n",
       "      <td>I guess the word is surprised, it was surprisi...</td>\n",
       "      <td>2014</td>\n",
       "      <td>6</td>\n",
       "      <td>Mon</td>\n",
       "      <td>texas roadhouse</td>\n",
       "      <td>pos</td>\n",
       "    </tr>\n",
       "    <tr>\n",
       "      <th>2014-06-30</th>\n",
       "      <td>oMtdUzMdo5W5qrldiOGROg</td>\n",
       "      <td>5</td>\n",
       "      <td>wonderful lunch special. the tea is awesome. t...</td>\n",
       "      <td>2014</td>\n",
       "      <td>6</td>\n",
       "      <td>Mon</td>\n",
       "      <td>sushi brokers</td>\n",
       "      <td>pos</td>\n",
       "    </tr>\n",
       "    <tr>\n",
       "      <th>2014-06-30</th>\n",
       "      <td>9w18Hgg_UmI18YyVTP_E3Q</td>\n",
       "      <td>1</td>\n",
       "      <td>We stopped by for some breakfast tacos on Satu...</td>\n",
       "      <td>2014</td>\n",
       "      <td>6</td>\n",
       "      <td>Mon</td>\n",
       "      <td>fuzzys taco shop</td>\n",
       "      <td>neg</td>\n",
       "    </tr>\n",
       "    <tr>\n",
       "      <th>2014-06-30</th>\n",
       "      <td>2iTsRqUsPGRH1li1WVRvKQ</td>\n",
       "      <td>5</td>\n",
       "      <td>Let me gather my thoughts... It's difficult to...</td>\n",
       "      <td>2014</td>\n",
       "      <td>6</td>\n",
       "      <td>Mon</td>\n",
       "      <td>carson kitchen</td>\n",
       "      <td>pos</td>\n",
       "    </tr>\n",
       "    <tr>\n",
       "      <th>2014-06-30</th>\n",
       "      <td>MgHWbwuxxb_txhI3lK_bKg</td>\n",
       "      <td>4</td>\n",
       "      <td>Good location. Good service. Delicious drinks ...</td>\n",
       "      <td>2014</td>\n",
       "      <td>6</td>\n",
       "      <td>Mon</td>\n",
       "      <td>the main ingredient ale house and café</td>\n",
       "      <td>pos</td>\n",
       "    </tr>\n",
       "  </tbody>\n",
       "</table>\n",
       "<p>277149 rows × 8 columns</p>\n",
       "</div>"
      ],
      "text/plain": [
       "                       business_id  stars  \\\n",
       "date                                        \n",
       "2012-01-01  GIfZNMP0oIJCje_Xp0Bgrw      3   \n",
       "2012-01-01  7fxebHYUwIF6CakxSr70iQ      4   \n",
       "2012-01-01  gRCEObNuHtI61xR32ytqNQ      4   \n",
       "2012-01-01  h6Y1-KfN2XBkcrV85CS8yg      1   \n",
       "2012-01-01  XXW_OFaYQkkGOGniujZFHg      5   \n",
       "...                            ...    ...   \n",
       "2014-06-30  _B3jnaQVtDXqydea1y92fQ      4   \n",
       "2014-06-30  oMtdUzMdo5W5qrldiOGROg      5   \n",
       "2014-06-30  9w18Hgg_UmI18YyVTP_E3Q      1   \n",
       "2014-06-30  2iTsRqUsPGRH1li1WVRvKQ      5   \n",
       "2014-06-30  MgHWbwuxxb_txhI3lK_bKg      4   \n",
       "\n",
       "                                                         text  year month  \\\n",
       "date                                                                        \n",
       "2012-01-01  I'm sad to say this, but I think I'm done with...  2012     1   \n",
       "2012-01-01  Went in for lunch. Had a nice glass I rose and...  2012     1   \n",
       "2012-01-01  Review for tower rooms,  Feast Buffet, and Gra...  2012     1   \n",
       "2012-01-01  Don't do it!!  Don't even think about doing it...  2012     1   \n",
       "2012-01-01  I'm in utter disbelief that I haven't written ...  2012     1   \n",
       "...                                                       ...   ...   ...   \n",
       "2014-06-30  I guess the word is surprised, it was surprisi...  2014     6   \n",
       "2014-06-30  wonderful lunch special. the tea is awesome. t...  2014     6   \n",
       "2014-06-30  We stopped by for some breakfast tacos on Satu...  2014     6   \n",
       "2014-06-30  Let me gather my thoughts... It's difficult to...  2014     6   \n",
       "2014-06-30  Good location. Good service. Delicious drinks ...  2014     6   \n",
       "\n",
       "            day                                business_name sentiment  \n",
       "date                                                                    \n",
       "2012-01-01  Sun                        the greenhouse tavern       neu  \n",
       "2012-01-01  Sun                                    carnevino       pos  \n",
       "2012-01-01  Sun                palace station hotel & casino       pos  \n",
       "2012-01-01  Sun                           studio movie grill       neg  \n",
       "2012-01-01  Sun  the peppermill restaurant & fireside lounge       pos  \n",
       "...         ...                                          ...       ...  \n",
       "2014-06-30  Mon                              texas roadhouse       pos  \n",
       "2014-06-30  Mon                                sushi brokers       pos  \n",
       "2014-06-30  Mon                             fuzzys taco shop       neg  \n",
       "2014-06-30  Mon                               carson kitchen       pos  \n",
       "2014-06-30  Mon       the main ingredient ale house and café       pos  \n",
       "\n",
       "[277149 rows x 8 columns]"
      ]
     },
     "execution_count": 32,
     "metadata": {},
     "output_type": "execute_result"
    }
   ],
   "source": [
    "reviews_big.loc['2012': '06-2014'].sort_index()"
   ]
  },
  {
   "cell_type": "code",
   "execution_count": 33,
   "metadata": {},
   "outputs": [
    {
     "data": {
      "application/vnd.plotly.v1+json": {
       "config": {
        "linkText": "Export to plot.ly",
        "plotlyServerURL": "https://plot.ly",
        "showLink": true
       },
       "data": [
        {
         "line": {
          "color": "rgba(255, 153, 51, 1.0)",
          "dash": "solid",
          "shape": "linear",
          "width": 1.3
         },
         "marker": {
          "size": 7,
          "symbol": "circle"
         },
         "mode": "markers+lines",
         "name": "neg",
         "text": "",
         "type": "scatter",
         "x": [
          "2005-12-31",
          "2006-12-31",
          "2007-12-31",
          "2008-12-31",
          "2009-12-31",
          "2010-12-31",
          "2011-12-31",
          "2012-12-31",
          "2013-12-31",
          "2014-12-31",
          "2015-12-31",
          "2016-12-31",
          "2017-12-31"
         ],
         "y": [
          1,
          0,
          0,
          3,
          17,
          18,
          26,
          61,
          108,
          204,
          346,
          449,
          536
         ]
        },
        {
         "line": {
          "color": "rgba(55, 128, 191, 1.0)",
          "dash": "solid",
          "shape": "linear",
          "width": 1.3
         },
         "marker": {
          "size": 7,
          "symbol": "circle"
         },
         "mode": "markers+lines",
         "name": "neu",
         "text": "",
         "type": "scatter",
         "x": [
          "2005-12-31",
          "2006-12-31",
          "2007-12-31",
          "2008-12-31",
          "2009-12-31",
          "2010-12-31",
          "2011-12-31",
          "2012-12-31",
          "2013-12-31",
          "2014-12-31",
          "2015-12-31",
          "2016-12-31",
          "2017-12-31"
         ],
         "y": [
          0,
          0,
          0,
          1,
          2,
          10,
          11,
          16,
          31,
          27,
          38,
          28,
          44
         ]
        },
        {
         "line": {
          "color": "rgba(50, 171, 96, 1.0)",
          "dash": "solid",
          "shape": "linear",
          "width": 1.3
         },
         "marker": {
          "size": 7,
          "symbol": "circle"
         },
         "mode": "markers+lines",
         "name": "pos",
         "text": "",
         "type": "scatter",
         "x": [
          "2005-12-31",
          "2006-12-31",
          "2007-12-31",
          "2008-12-31",
          "2009-12-31",
          "2010-12-31",
          "2011-12-31",
          "2012-12-31",
          "2013-12-31",
          "2014-12-31",
          "2015-12-31",
          "2016-12-31",
          "2017-12-31"
         ],
         "y": [
          0,
          0,
          0,
          2,
          2,
          8,
          8,
          14,
          24,
          26,
          61,
          75,
          86
         ]
        }
       ],
       "layout": {
        "template": {
         "data": {
          "bar": [
           {
            "error_x": {
             "color": "#2a3f5f"
            },
            "error_y": {
             "color": "#2a3f5f"
            },
            "marker": {
             "line": {
              "color": "white",
              "width": 0.5
             }
            },
            "type": "bar"
           }
          ],
          "barpolar": [
           {
            "marker": {
             "line": {
              "color": "white",
              "width": 0.5
             }
            },
            "type": "barpolar"
           }
          ],
          "carpet": [
           {
            "aaxis": {
             "endlinecolor": "#2a3f5f",
             "gridcolor": "#C8D4E3",
             "linecolor": "#C8D4E3",
             "minorgridcolor": "#C8D4E3",
             "startlinecolor": "#2a3f5f"
            },
            "baxis": {
             "endlinecolor": "#2a3f5f",
             "gridcolor": "#C8D4E3",
             "linecolor": "#C8D4E3",
             "minorgridcolor": "#C8D4E3",
             "startlinecolor": "#2a3f5f"
            },
            "type": "carpet"
           }
          ],
          "choropleth": [
           {
            "colorbar": {
             "outlinewidth": 0,
             "ticks": ""
            },
            "type": "choropleth"
           }
          ],
          "contour": [
           {
            "colorbar": {
             "outlinewidth": 0,
             "ticks": ""
            },
            "colorscale": [
             [
              0,
              "#0d0887"
             ],
             [
              0.1111111111111111,
              "#46039f"
             ],
             [
              0.2222222222222222,
              "#7201a8"
             ],
             [
              0.3333333333333333,
              "#9c179e"
             ],
             [
              0.4444444444444444,
              "#bd3786"
             ],
             [
              0.5555555555555556,
              "#d8576b"
             ],
             [
              0.6666666666666666,
              "#ed7953"
             ],
             [
              0.7777777777777778,
              "#fb9f3a"
             ],
             [
              0.8888888888888888,
              "#fdca26"
             ],
             [
              1,
              "#f0f921"
             ]
            ],
            "type": "contour"
           }
          ],
          "contourcarpet": [
           {
            "colorbar": {
             "outlinewidth": 0,
             "ticks": ""
            },
            "type": "contourcarpet"
           }
          ],
          "heatmap": [
           {
            "colorbar": {
             "outlinewidth": 0,
             "ticks": ""
            },
            "colorscale": [
             [
              0,
              "#0d0887"
             ],
             [
              0.1111111111111111,
              "#46039f"
             ],
             [
              0.2222222222222222,
              "#7201a8"
             ],
             [
              0.3333333333333333,
              "#9c179e"
             ],
             [
              0.4444444444444444,
              "#bd3786"
             ],
             [
              0.5555555555555556,
              "#d8576b"
             ],
             [
              0.6666666666666666,
              "#ed7953"
             ],
             [
              0.7777777777777778,
              "#fb9f3a"
             ],
             [
              0.8888888888888888,
              "#fdca26"
             ],
             [
              1,
              "#f0f921"
             ]
            ],
            "type": "heatmap"
           }
          ],
          "heatmapgl": [
           {
            "colorbar": {
             "outlinewidth": 0,
             "ticks": ""
            },
            "colorscale": [
             [
              0,
              "#0d0887"
             ],
             [
              0.1111111111111111,
              "#46039f"
             ],
             [
              0.2222222222222222,
              "#7201a8"
             ],
             [
              0.3333333333333333,
              "#9c179e"
             ],
             [
              0.4444444444444444,
              "#bd3786"
             ],
             [
              0.5555555555555556,
              "#d8576b"
             ],
             [
              0.6666666666666666,
              "#ed7953"
             ],
             [
              0.7777777777777778,
              "#fb9f3a"
             ],
             [
              0.8888888888888888,
              "#fdca26"
             ],
             [
              1,
              "#f0f921"
             ]
            ],
            "type": "heatmapgl"
           }
          ],
          "histogram": [
           {
            "marker": {
             "colorbar": {
              "outlinewidth": 0,
              "ticks": ""
             }
            },
            "type": "histogram"
           }
          ],
          "histogram2d": [
           {
            "colorbar": {
             "outlinewidth": 0,
             "ticks": ""
            },
            "colorscale": [
             [
              0,
              "#0d0887"
             ],
             [
              0.1111111111111111,
              "#46039f"
             ],
             [
              0.2222222222222222,
              "#7201a8"
             ],
             [
              0.3333333333333333,
              "#9c179e"
             ],
             [
              0.4444444444444444,
              "#bd3786"
             ],
             [
              0.5555555555555556,
              "#d8576b"
             ],
             [
              0.6666666666666666,
              "#ed7953"
             ],
             [
              0.7777777777777778,
              "#fb9f3a"
             ],
             [
              0.8888888888888888,
              "#fdca26"
             ],
             [
              1,
              "#f0f921"
             ]
            ],
            "type": "histogram2d"
           }
          ],
          "histogram2dcontour": [
           {
            "colorbar": {
             "outlinewidth": 0,
             "ticks": ""
            },
            "colorscale": [
             [
              0,
              "#0d0887"
             ],
             [
              0.1111111111111111,
              "#46039f"
             ],
             [
              0.2222222222222222,
              "#7201a8"
             ],
             [
              0.3333333333333333,
              "#9c179e"
             ],
             [
              0.4444444444444444,
              "#bd3786"
             ],
             [
              0.5555555555555556,
              "#d8576b"
             ],
             [
              0.6666666666666666,
              "#ed7953"
             ],
             [
              0.7777777777777778,
              "#fb9f3a"
             ],
             [
              0.8888888888888888,
              "#fdca26"
             ],
             [
              1,
              "#f0f921"
             ]
            ],
            "type": "histogram2dcontour"
           }
          ],
          "mesh3d": [
           {
            "colorbar": {
             "outlinewidth": 0,
             "ticks": ""
            },
            "type": "mesh3d"
           }
          ],
          "parcoords": [
           {
            "line": {
             "colorbar": {
              "outlinewidth": 0,
              "ticks": ""
             }
            },
            "type": "parcoords"
           }
          ],
          "pie": [
           {
            "automargin": true,
            "type": "pie"
           }
          ],
          "scatter": [
           {
            "marker": {
             "colorbar": {
              "outlinewidth": 0,
              "ticks": ""
             }
            },
            "type": "scatter"
           }
          ],
          "scatter3d": [
           {
            "line": {
             "colorbar": {
              "outlinewidth": 0,
              "ticks": ""
             }
            },
            "marker": {
             "colorbar": {
              "outlinewidth": 0,
              "ticks": ""
             }
            },
            "type": "scatter3d"
           }
          ],
          "scattercarpet": [
           {
            "marker": {
             "colorbar": {
              "outlinewidth": 0,
              "ticks": ""
             }
            },
            "type": "scattercarpet"
           }
          ],
          "scattergeo": [
           {
            "marker": {
             "colorbar": {
              "outlinewidth": 0,
              "ticks": ""
             }
            },
            "type": "scattergeo"
           }
          ],
          "scattergl": [
           {
            "marker": {
             "colorbar": {
              "outlinewidth": 0,
              "ticks": ""
             }
            },
            "type": "scattergl"
           }
          ],
          "scattermapbox": [
           {
            "marker": {
             "colorbar": {
              "outlinewidth": 0,
              "ticks": ""
             }
            },
            "type": "scattermapbox"
           }
          ],
          "scatterpolar": [
           {
            "marker": {
             "colorbar": {
              "outlinewidth": 0,
              "ticks": ""
             }
            },
            "type": "scatterpolar"
           }
          ],
          "scatterpolargl": [
           {
            "marker": {
             "colorbar": {
              "outlinewidth": 0,
              "ticks": ""
             }
            },
            "type": "scatterpolargl"
           }
          ],
          "scatterternary": [
           {
            "marker": {
             "colorbar": {
              "outlinewidth": 0,
              "ticks": ""
             }
            },
            "type": "scatterternary"
           }
          ],
          "surface": [
           {
            "colorbar": {
             "outlinewidth": 0,
             "ticks": ""
            },
            "colorscale": [
             [
              0,
              "#0d0887"
             ],
             [
              0.1111111111111111,
              "#46039f"
             ],
             [
              0.2222222222222222,
              "#7201a8"
             ],
             [
              0.3333333333333333,
              "#9c179e"
             ],
             [
              0.4444444444444444,
              "#bd3786"
             ],
             [
              0.5555555555555556,
              "#d8576b"
             ],
             [
              0.6666666666666666,
              "#ed7953"
             ],
             [
              0.7777777777777778,
              "#fb9f3a"
             ],
             [
              0.8888888888888888,
              "#fdca26"
             ],
             [
              1,
              "#f0f921"
             ]
            ],
            "type": "surface"
           }
          ],
          "table": [
           {
            "cells": {
             "fill": {
              "color": "#EBF0F8"
             },
             "line": {
              "color": "white"
             }
            },
            "header": {
             "fill": {
              "color": "#C8D4E3"
             },
             "line": {
              "color": "white"
             }
            },
            "type": "table"
           }
          ]
         },
         "layout": {
          "annotationdefaults": {
           "arrowcolor": "#2a3f5f",
           "arrowhead": 0,
           "arrowwidth": 1
          },
          "coloraxis": {
           "colorbar": {
            "outlinewidth": 0,
            "ticks": ""
           }
          },
          "colorscale": {
           "diverging": [
            [
             0,
             "#8e0152"
            ],
            [
             0.1,
             "#c51b7d"
            ],
            [
             0.2,
             "#de77ae"
            ],
            [
             0.3,
             "#f1b6da"
            ],
            [
             0.4,
             "#fde0ef"
            ],
            [
             0.5,
             "#f7f7f7"
            ],
            [
             0.6,
             "#e6f5d0"
            ],
            [
             0.7,
             "#b8e186"
            ],
            [
             0.8,
             "#7fbc41"
            ],
            [
             0.9,
             "#4d9221"
            ],
            [
             1,
             "#276419"
            ]
           ],
           "sequential": [
            [
             0,
             "#0d0887"
            ],
            [
             0.1111111111111111,
             "#46039f"
            ],
            [
             0.2222222222222222,
             "#7201a8"
            ],
            [
             0.3333333333333333,
             "#9c179e"
            ],
            [
             0.4444444444444444,
             "#bd3786"
            ],
            [
             0.5555555555555556,
             "#d8576b"
            ],
            [
             0.6666666666666666,
             "#ed7953"
            ],
            [
             0.7777777777777778,
             "#fb9f3a"
            ],
            [
             0.8888888888888888,
             "#fdca26"
            ],
            [
             1,
             "#f0f921"
            ]
           ],
           "sequentialminus": [
            [
             0,
             "#0d0887"
            ],
            [
             0.1111111111111111,
             "#46039f"
            ],
            [
             0.2222222222222222,
             "#7201a8"
            ],
            [
             0.3333333333333333,
             "#9c179e"
            ],
            [
             0.4444444444444444,
             "#bd3786"
            ],
            [
             0.5555555555555556,
             "#d8576b"
            ],
            [
             0.6666666666666666,
             "#ed7953"
            ],
            [
             0.7777777777777778,
             "#fb9f3a"
            ],
            [
             0.8888888888888888,
             "#fdca26"
            ],
            [
             1,
             "#f0f921"
            ]
           ]
          },
          "colorway": [
           "#636efa",
           "#EF553B",
           "#00cc96",
           "#ab63fa",
           "#FFA15A",
           "#19d3f3",
           "#FF6692",
           "#B6E880",
           "#FF97FF",
           "#FECB52"
          ],
          "font": {
           "color": "#2a3f5f"
          },
          "geo": {
           "bgcolor": "white",
           "lakecolor": "white",
           "landcolor": "white",
           "showlakes": true,
           "showland": true,
           "subunitcolor": "#C8D4E3"
          },
          "hoverlabel": {
           "align": "left"
          },
          "hovermode": "closest",
          "mapbox": {
           "style": "light"
          },
          "paper_bgcolor": "white",
          "plot_bgcolor": "white",
          "polar": {
           "angularaxis": {
            "gridcolor": "#EBF0F8",
            "linecolor": "#EBF0F8",
            "ticks": ""
           },
           "bgcolor": "white",
           "radialaxis": {
            "gridcolor": "#EBF0F8",
            "linecolor": "#EBF0F8",
            "ticks": ""
           }
          },
          "scene": {
           "xaxis": {
            "backgroundcolor": "white",
            "gridcolor": "#DFE8F3",
            "gridwidth": 2,
            "linecolor": "#EBF0F8",
            "showbackground": true,
            "ticks": "",
            "zerolinecolor": "#EBF0F8"
           },
           "yaxis": {
            "backgroundcolor": "white",
            "gridcolor": "#DFE8F3",
            "gridwidth": 2,
            "linecolor": "#EBF0F8",
            "showbackground": true,
            "ticks": "",
            "zerolinecolor": "#EBF0F8"
           },
           "zaxis": {
            "backgroundcolor": "white",
            "gridcolor": "#DFE8F3",
            "gridwidth": 2,
            "linecolor": "#EBF0F8",
            "showbackground": true,
            "ticks": "",
            "zerolinecolor": "#EBF0F8"
           }
          },
          "shapedefaults": {
           "line": {
            "color": "#2a3f5f"
           }
          },
          "ternary": {
           "aaxis": {
            "gridcolor": "#DFE8F3",
            "linecolor": "#A2B1C6",
            "ticks": ""
           },
           "baxis": {
            "gridcolor": "#DFE8F3",
            "linecolor": "#A2B1C6",
            "ticks": ""
           },
           "bgcolor": "white",
           "caxis": {
            "gridcolor": "#DFE8F3",
            "linecolor": "#A2B1C6",
            "ticks": ""
           }
          },
          "title": {
           "x": 0.05
          },
          "xaxis": {
           "automargin": true,
           "gridcolor": "#EBF0F8",
           "linecolor": "#EBF0F8",
           "ticks": "",
           "title": {
            "standoff": 15
           },
           "zerolinecolor": "#EBF0F8",
           "zerolinewidth": 2
          },
          "yaxis": {
           "automargin": true,
           "gridcolor": "#EBF0F8",
           "linecolor": "#EBF0F8",
           "ticks": "",
           "title": {
            "standoff": 15
           },
           "zerolinecolor": "#EBF0F8",
           "zerolinewidth": 2
          }
         }
        },
        "title": {
         "text": "Sentiment Evolution over Time (KFC)"
        }
       }
      },
      "text/html": [
       "<div>\n",
       "        \n",
       "        \n",
       "            <div id=\"96c4ddc9-5cba-4e7e-ab1c-2fc8a18127df\" class=\"plotly-graph-div\" style=\"height:525px; width:100%;\"></div>\n",
       "            <script type=\"text/javascript\">\n",
       "                require([\"plotly\"], function(Plotly) {\n",
       "                    window.PLOTLYENV=window.PLOTLYENV || {};\n",
       "                    window.PLOTLYENV.BASE_URL='https://plot.ly';\n",
       "                    \n",
       "                if (document.getElementById(\"96c4ddc9-5cba-4e7e-ab1c-2fc8a18127df\")) {\n",
       "                    Plotly.newPlot(\n",
       "                        '96c4ddc9-5cba-4e7e-ab1c-2fc8a18127df',\n",
       "                        [{\"line\": {\"color\": \"rgba(255, 153, 51, 1.0)\", \"dash\": \"solid\", \"shape\": \"linear\", \"width\": 1.3}, \"marker\": {\"size\": 7, \"symbol\": \"circle\"}, \"mode\": \"markers+lines\", \"name\": \"neg\", \"text\": \"\", \"type\": \"scatter\", \"x\": [\"2005-12-31\", \"2006-12-31\", \"2007-12-31\", \"2008-12-31\", \"2009-12-31\", \"2010-12-31\", \"2011-12-31\", \"2012-12-31\", \"2013-12-31\", \"2014-12-31\", \"2015-12-31\", \"2016-12-31\", \"2017-12-31\"], \"y\": [1.0, 0.0, 0.0, 3.0, 17.0, 18.0, 26.0, 61.0, 108.0, 204.0, 346.0, 449.0, 536.0]}, {\"line\": {\"color\": \"rgba(55, 128, 191, 1.0)\", \"dash\": \"solid\", \"shape\": \"linear\", \"width\": 1.3}, \"marker\": {\"size\": 7, \"symbol\": \"circle\"}, \"mode\": \"markers+lines\", \"name\": \"neu\", \"text\": \"\", \"type\": \"scatter\", \"x\": [\"2005-12-31\", \"2006-12-31\", \"2007-12-31\", \"2008-12-31\", \"2009-12-31\", \"2010-12-31\", \"2011-12-31\", \"2012-12-31\", \"2013-12-31\", \"2014-12-31\", \"2015-12-31\", \"2016-12-31\", \"2017-12-31\"], \"y\": [0.0, 0.0, 0.0, 1.0, 2.0, 10.0, 11.0, 16.0, 31.0, 27.0, 38.0, 28.0, 44.0]}, {\"line\": {\"color\": \"rgba(50, 171, 96, 1.0)\", \"dash\": \"solid\", \"shape\": \"linear\", \"width\": 1.3}, \"marker\": {\"size\": 7, \"symbol\": \"circle\"}, \"mode\": \"markers+lines\", \"name\": \"pos\", \"text\": \"\", \"type\": \"scatter\", \"x\": [\"2005-12-31\", \"2006-12-31\", \"2007-12-31\", \"2008-12-31\", \"2009-12-31\", \"2010-12-31\", \"2011-12-31\", \"2012-12-31\", \"2013-12-31\", \"2014-12-31\", \"2015-12-31\", \"2016-12-31\", \"2017-12-31\"], \"y\": [0.0, 0.0, 0.0, 2.0, 2.0, 8.0, 8.0, 14.0, 24.0, 26.0, 61.0, 75.0, 86.0]}],\n",
       "                        {\"template\": {\"data\": {\"bar\": [{\"error_x\": {\"color\": \"#2a3f5f\"}, \"error_y\": {\"color\": \"#2a3f5f\"}, \"marker\": {\"line\": {\"color\": \"white\", \"width\": 0.5}}, \"type\": \"bar\"}], \"barpolar\": [{\"marker\": {\"line\": {\"color\": \"white\", \"width\": 0.5}}, \"type\": \"barpolar\"}], \"carpet\": [{\"aaxis\": {\"endlinecolor\": \"#2a3f5f\", \"gridcolor\": \"#C8D4E3\", \"linecolor\": \"#C8D4E3\", \"minorgridcolor\": \"#C8D4E3\", \"startlinecolor\": \"#2a3f5f\"}, \"baxis\": {\"endlinecolor\": \"#2a3f5f\", \"gridcolor\": \"#C8D4E3\", \"linecolor\": \"#C8D4E3\", \"minorgridcolor\": \"#C8D4E3\", \"startlinecolor\": \"#2a3f5f\"}, \"type\": \"carpet\"}], \"choropleth\": [{\"colorbar\": {\"outlinewidth\": 0, \"ticks\": \"\"}, \"type\": \"choropleth\"}], \"contour\": [{\"colorbar\": {\"outlinewidth\": 0, \"ticks\": \"\"}, \"colorscale\": [[0.0, \"#0d0887\"], [0.1111111111111111, \"#46039f\"], [0.2222222222222222, \"#7201a8\"], [0.3333333333333333, \"#9c179e\"], [0.4444444444444444, \"#bd3786\"], [0.5555555555555556, \"#d8576b\"], [0.6666666666666666, \"#ed7953\"], [0.7777777777777778, \"#fb9f3a\"], [0.8888888888888888, \"#fdca26\"], [1.0, \"#f0f921\"]], \"type\": \"contour\"}], \"contourcarpet\": [{\"colorbar\": {\"outlinewidth\": 0, \"ticks\": \"\"}, \"type\": \"contourcarpet\"}], \"heatmap\": [{\"colorbar\": {\"outlinewidth\": 0, \"ticks\": \"\"}, \"colorscale\": [[0.0, \"#0d0887\"], [0.1111111111111111, \"#46039f\"], [0.2222222222222222, \"#7201a8\"], [0.3333333333333333, \"#9c179e\"], [0.4444444444444444, \"#bd3786\"], [0.5555555555555556, \"#d8576b\"], [0.6666666666666666, \"#ed7953\"], [0.7777777777777778, \"#fb9f3a\"], [0.8888888888888888, \"#fdca26\"], [1.0, \"#f0f921\"]], \"type\": \"heatmap\"}], \"heatmapgl\": [{\"colorbar\": {\"outlinewidth\": 0, \"ticks\": \"\"}, \"colorscale\": [[0.0, \"#0d0887\"], [0.1111111111111111, \"#46039f\"], [0.2222222222222222, \"#7201a8\"], [0.3333333333333333, \"#9c179e\"], [0.4444444444444444, \"#bd3786\"], [0.5555555555555556, \"#d8576b\"], [0.6666666666666666, \"#ed7953\"], [0.7777777777777778, \"#fb9f3a\"], [0.8888888888888888, \"#fdca26\"], [1.0, \"#f0f921\"]], \"type\": \"heatmapgl\"}], \"histogram\": [{\"marker\": {\"colorbar\": {\"outlinewidth\": 0, \"ticks\": \"\"}}, \"type\": \"histogram\"}], \"histogram2d\": [{\"colorbar\": {\"outlinewidth\": 0, \"ticks\": \"\"}, \"colorscale\": [[0.0, \"#0d0887\"], [0.1111111111111111, \"#46039f\"], [0.2222222222222222, \"#7201a8\"], [0.3333333333333333, \"#9c179e\"], [0.4444444444444444, \"#bd3786\"], [0.5555555555555556, \"#d8576b\"], [0.6666666666666666, \"#ed7953\"], [0.7777777777777778, \"#fb9f3a\"], [0.8888888888888888, \"#fdca26\"], [1.0, \"#f0f921\"]], \"type\": \"histogram2d\"}], \"histogram2dcontour\": [{\"colorbar\": {\"outlinewidth\": 0, \"ticks\": \"\"}, \"colorscale\": [[0.0, \"#0d0887\"], [0.1111111111111111, \"#46039f\"], [0.2222222222222222, \"#7201a8\"], [0.3333333333333333, \"#9c179e\"], [0.4444444444444444, \"#bd3786\"], [0.5555555555555556, \"#d8576b\"], [0.6666666666666666, \"#ed7953\"], [0.7777777777777778, \"#fb9f3a\"], [0.8888888888888888, \"#fdca26\"], [1.0, \"#f0f921\"]], \"type\": \"histogram2dcontour\"}], \"mesh3d\": [{\"colorbar\": {\"outlinewidth\": 0, \"ticks\": \"\"}, \"type\": \"mesh3d\"}], \"parcoords\": [{\"line\": {\"colorbar\": {\"outlinewidth\": 0, \"ticks\": \"\"}}, \"type\": \"parcoords\"}], \"pie\": [{\"automargin\": true, \"type\": \"pie\"}], \"scatter\": [{\"marker\": {\"colorbar\": {\"outlinewidth\": 0, \"ticks\": \"\"}}, \"type\": \"scatter\"}], \"scatter3d\": [{\"line\": {\"colorbar\": {\"outlinewidth\": 0, \"ticks\": \"\"}}, \"marker\": {\"colorbar\": {\"outlinewidth\": 0, \"ticks\": \"\"}}, \"type\": \"scatter3d\"}], \"scattercarpet\": [{\"marker\": {\"colorbar\": {\"outlinewidth\": 0, \"ticks\": \"\"}}, \"type\": \"scattercarpet\"}], \"scattergeo\": [{\"marker\": {\"colorbar\": {\"outlinewidth\": 0, \"ticks\": \"\"}}, \"type\": \"scattergeo\"}], \"scattergl\": [{\"marker\": {\"colorbar\": {\"outlinewidth\": 0, \"ticks\": \"\"}}, \"type\": \"scattergl\"}], \"scattermapbox\": [{\"marker\": {\"colorbar\": {\"outlinewidth\": 0, \"ticks\": \"\"}}, \"type\": \"scattermapbox\"}], \"scatterpolar\": [{\"marker\": {\"colorbar\": {\"outlinewidth\": 0, \"ticks\": \"\"}}, \"type\": \"scatterpolar\"}], \"scatterpolargl\": [{\"marker\": {\"colorbar\": {\"outlinewidth\": 0, \"ticks\": \"\"}}, \"type\": \"scatterpolargl\"}], \"scatterternary\": [{\"marker\": {\"colorbar\": {\"outlinewidth\": 0, \"ticks\": \"\"}}, \"type\": \"scatterternary\"}], \"surface\": [{\"colorbar\": {\"outlinewidth\": 0, \"ticks\": \"\"}, \"colorscale\": [[0.0, \"#0d0887\"], [0.1111111111111111, \"#46039f\"], [0.2222222222222222, \"#7201a8\"], [0.3333333333333333, \"#9c179e\"], [0.4444444444444444, \"#bd3786\"], [0.5555555555555556, \"#d8576b\"], [0.6666666666666666, \"#ed7953\"], [0.7777777777777778, \"#fb9f3a\"], [0.8888888888888888, \"#fdca26\"], [1.0, \"#f0f921\"]], \"type\": \"surface\"}], \"table\": [{\"cells\": {\"fill\": {\"color\": \"#EBF0F8\"}, \"line\": {\"color\": \"white\"}}, \"header\": {\"fill\": {\"color\": \"#C8D4E3\"}, \"line\": {\"color\": \"white\"}}, \"type\": \"table\"}]}, \"layout\": {\"annotationdefaults\": {\"arrowcolor\": \"#2a3f5f\", \"arrowhead\": 0, \"arrowwidth\": 1}, \"coloraxis\": {\"colorbar\": {\"outlinewidth\": 0, \"ticks\": \"\"}}, \"colorscale\": {\"diverging\": [[0, \"#8e0152\"], [0.1, \"#c51b7d\"], [0.2, \"#de77ae\"], [0.3, \"#f1b6da\"], [0.4, \"#fde0ef\"], [0.5, \"#f7f7f7\"], [0.6, \"#e6f5d0\"], [0.7, \"#b8e186\"], [0.8, \"#7fbc41\"], [0.9, \"#4d9221\"], [1, \"#276419\"]], \"sequential\": [[0.0, \"#0d0887\"], [0.1111111111111111, \"#46039f\"], [0.2222222222222222, \"#7201a8\"], [0.3333333333333333, \"#9c179e\"], [0.4444444444444444, \"#bd3786\"], [0.5555555555555556, \"#d8576b\"], [0.6666666666666666, \"#ed7953\"], [0.7777777777777778, \"#fb9f3a\"], [0.8888888888888888, \"#fdca26\"], [1.0, \"#f0f921\"]], \"sequentialminus\": [[0.0, \"#0d0887\"], [0.1111111111111111, \"#46039f\"], [0.2222222222222222, \"#7201a8\"], [0.3333333333333333, \"#9c179e\"], [0.4444444444444444, \"#bd3786\"], [0.5555555555555556, \"#d8576b\"], [0.6666666666666666, \"#ed7953\"], [0.7777777777777778, \"#fb9f3a\"], [0.8888888888888888, \"#fdca26\"], [1.0, \"#f0f921\"]]}, \"colorway\": [\"#636efa\", \"#EF553B\", \"#00cc96\", \"#ab63fa\", \"#FFA15A\", \"#19d3f3\", \"#FF6692\", \"#B6E880\", \"#FF97FF\", \"#FECB52\"], \"font\": {\"color\": \"#2a3f5f\"}, \"geo\": {\"bgcolor\": \"white\", \"lakecolor\": \"white\", \"landcolor\": \"white\", \"showlakes\": true, \"showland\": true, \"subunitcolor\": \"#C8D4E3\"}, \"hoverlabel\": {\"align\": \"left\"}, \"hovermode\": \"closest\", \"mapbox\": {\"style\": \"light\"}, \"paper_bgcolor\": \"white\", \"plot_bgcolor\": \"white\", \"polar\": {\"angularaxis\": {\"gridcolor\": \"#EBF0F8\", \"linecolor\": \"#EBF0F8\", \"ticks\": \"\"}, \"bgcolor\": \"white\", \"radialaxis\": {\"gridcolor\": \"#EBF0F8\", \"linecolor\": \"#EBF0F8\", \"ticks\": \"\"}}, \"scene\": {\"xaxis\": {\"backgroundcolor\": \"white\", \"gridcolor\": \"#DFE8F3\", \"gridwidth\": 2, \"linecolor\": \"#EBF0F8\", \"showbackground\": true, \"ticks\": \"\", \"zerolinecolor\": \"#EBF0F8\"}, \"yaxis\": {\"backgroundcolor\": \"white\", \"gridcolor\": \"#DFE8F3\", \"gridwidth\": 2, \"linecolor\": \"#EBF0F8\", \"showbackground\": true, \"ticks\": \"\", \"zerolinecolor\": \"#EBF0F8\"}, \"zaxis\": {\"backgroundcolor\": \"white\", \"gridcolor\": \"#DFE8F3\", \"gridwidth\": 2, \"linecolor\": \"#EBF0F8\", \"showbackground\": true, \"ticks\": \"\", \"zerolinecolor\": \"#EBF0F8\"}}, \"shapedefaults\": {\"line\": {\"color\": \"#2a3f5f\"}}, \"ternary\": {\"aaxis\": {\"gridcolor\": \"#DFE8F3\", \"linecolor\": \"#A2B1C6\", \"ticks\": \"\"}, \"baxis\": {\"gridcolor\": \"#DFE8F3\", \"linecolor\": \"#A2B1C6\", \"ticks\": \"\"}, \"bgcolor\": \"white\", \"caxis\": {\"gridcolor\": \"#DFE8F3\", \"linecolor\": \"#A2B1C6\", \"ticks\": \"\"}}, \"title\": {\"x\": 0.05}, \"xaxis\": {\"automargin\": true, \"gridcolor\": \"#EBF0F8\", \"linecolor\": \"#EBF0F8\", \"ticks\": \"\", \"title\": {\"standoff\": 15}, \"zerolinecolor\": \"#EBF0F8\", \"zerolinewidth\": 2}, \"yaxis\": {\"automargin\": true, \"gridcolor\": \"#EBF0F8\", \"linecolor\": \"#EBF0F8\", \"ticks\": \"\", \"title\": {\"standoff\": 15}, \"zerolinecolor\": \"#EBF0F8\", \"zerolinewidth\": 2}}}, \"title\": {\"text\": \"Sentiment Evolution over Time (KFC)\"}},\n",
       "                        {\"showLink\": true, \"linkText\": \"Export to plot.ly\", \"plotlyServerURL\": \"https://plot.ly\", \"responsive\": true}\n",
       "                    ).then(function(){\n",
       "                            \n",
       "var gd = document.getElementById('96c4ddc9-5cba-4e7e-ab1c-2fc8a18127df');\n",
       "var x = new MutationObserver(function (mutations, observer) {{\n",
       "        var display = window.getComputedStyle(gd).display;\n",
       "        if (!display || display === 'none') {{\n",
       "            console.log([gd, 'removed!']);\n",
       "            Plotly.purge(gd);\n",
       "            observer.disconnect();\n",
       "        }}\n",
       "}});\n",
       "\n",
       "// Listen for the removal of the full notebook cells\n",
       "var notebookContainer = gd.closest('#notebook-container');\n",
       "if (notebookContainer) {{\n",
       "    x.observe(notebookContainer, {childList: true});\n",
       "}}\n",
       "\n",
       "// Listen for the clearing of the current output cell\n",
       "var outputEl = gd.closest('.output');\n",
       "if (outputEl) {{\n",
       "    x.observe(outputEl, {childList: true});\n",
       "}}\n",
       "\n",
       "                        })\n",
       "                };\n",
       "                });\n",
       "            </script>\n",
       "        </div>"
      ]
     },
     "metadata": {},
     "output_type": "display_data"
    }
   ],
   "source": [
    "business_n = 'kfc'\n",
    "\n",
    "(reviews_big[reviews_big['business_name'].str.contains(business_n)].astype('str')\n",
    " .groupby(['sentiment'], observed=True)\n",
    " .resample('A')\n",
    " .size()\n",
    " .unstack(0)\n",
    " .fillna(0)\n",
    " .iplot(mode='markers+lines', size=7,\n",
    "        layout=dict(title='Sentiment Evolution over Time ({0})'.format(business_n.upper()))))"
   ]
  },
  {
   "cell_type": "code",
   "execution_count": null,
   "metadata": {},
   "outputs": [],
   "source": []
  },
  {
   "cell_type": "markdown",
   "metadata": {},
   "source": [
    "Automate it with a function:"
   ]
  },
  {
   "cell_type": "code",
   "execution_count": 34,
   "metadata": {},
   "outputs": [],
   "source": [
    "def sentiment_over_time(df, businesses, time_interval, start=None, end=None):\n",
    "    \n",
    "    if start or end:\n",
    "        df = df.loc[start:end]\n",
    "        \n",
    "    for business in businesses:\n",
    "        (df[df['business_name'].str.contains(business)]\n",
    "         .groupby(['sentiment'], observed=True)\n",
    "         .resample(time_interval)\n",
    "         .size()\n",
    "         .unstack(0)\n",
    "         .iplot(mode='markers+lines', size=7, colorscale='-Set1',\n",
    "                layout=dict(title='Sentiment Evolution over Time ({0})'.format(business.upper()))))"
   ]
  },
  {
   "cell_type": "markdown",
   "metadata": {},
   "source": [
    "Now let's repeat our analysis for one of the best 15 restaurants, `Postino Arcadia`, and one of the worst `Carls jr`."
   ]
  },
  {
   "cell_type": "code",
   "execution_count": 35,
   "metadata": {},
   "outputs": [
    {
     "data": {
      "application/vnd.plotly.v1+json": {
       "config": {
        "linkText": "Export to plot.ly",
        "plotlyServerURL": "https://plot.ly",
        "showLink": true
       },
       "data": [
        {
         "line": {
          "color": "rgba(77, 175, 74, 1.0)",
          "dash": "solid",
          "shape": "linear",
          "width": 1.3
         },
         "marker": {
          "size": 7,
          "symbol": "circle"
         },
         "mode": "markers+lines",
         "name": "pos",
         "text": "",
         "type": "scatter",
         "x": [
          "2006-12-31",
          "2007-12-31",
          "2008-12-31",
          "2009-12-31",
          "2010-12-31",
          "2011-12-31",
          "2012-12-31",
          "2013-12-31",
          "2014-12-31",
          "2015-12-31",
          "2016-12-31",
          "2017-12-31"
         ],
         "y": [
          5,
          15,
          40,
          64,
          144,
          127,
          106,
          168,
          173,
          98,
          86,
          59
         ]
        },
        {
         "line": {
          "color": "rgba(55, 126, 184, 1.0)",
          "dash": "solid",
          "shape": "linear",
          "width": 1.3
         },
         "marker": {
          "size": 7,
          "symbol": "circle"
         },
         "mode": "markers+lines",
         "name": "neu",
         "text": "",
         "type": "scatter",
         "x": [
          "2006-12-31",
          "2007-12-31",
          "2008-12-31",
          "2009-12-31",
          "2010-12-31",
          "2011-12-31",
          "2012-12-31",
          "2013-12-31",
          "2014-12-31",
          "2015-12-31",
          "2016-12-31",
          "2017-12-31"
         ],
         "y": [
          "",
          3,
          5,
          4,
          8,
          4,
          3,
          8,
          11,
          4,
          4,
          7
         ]
        },
        {
         "line": {
          "color": "rgba(228, 26, 28, 1.0)",
          "dash": "solid",
          "shape": "linear",
          "width": 1.3
         },
         "marker": {
          "size": 7,
          "symbol": "circle"
         },
         "mode": "markers+lines",
         "name": "neg",
         "text": "",
         "type": "scatter",
         "x": [
          "2006-12-31",
          "2007-12-31",
          "2008-12-31",
          "2009-12-31",
          "2010-12-31",
          "2011-12-31",
          "2012-12-31",
          "2013-12-31",
          "2014-12-31",
          "2015-12-31",
          "2016-12-31",
          "2017-12-31"
         ],
         "y": [
          1,
          0,
          0,
          1,
          2,
          6,
          4,
          9,
          7,
          7,
          4,
          1
         ]
        }
       ],
       "layout": {
        "template": {
         "data": {
          "bar": [
           {
            "error_x": {
             "color": "#2a3f5f"
            },
            "error_y": {
             "color": "#2a3f5f"
            },
            "marker": {
             "line": {
              "color": "white",
              "width": 0.5
             }
            },
            "type": "bar"
           }
          ],
          "barpolar": [
           {
            "marker": {
             "line": {
              "color": "white",
              "width": 0.5
             }
            },
            "type": "barpolar"
           }
          ],
          "carpet": [
           {
            "aaxis": {
             "endlinecolor": "#2a3f5f",
             "gridcolor": "#C8D4E3",
             "linecolor": "#C8D4E3",
             "minorgridcolor": "#C8D4E3",
             "startlinecolor": "#2a3f5f"
            },
            "baxis": {
             "endlinecolor": "#2a3f5f",
             "gridcolor": "#C8D4E3",
             "linecolor": "#C8D4E3",
             "minorgridcolor": "#C8D4E3",
             "startlinecolor": "#2a3f5f"
            },
            "type": "carpet"
           }
          ],
          "choropleth": [
           {
            "colorbar": {
             "outlinewidth": 0,
             "ticks": ""
            },
            "type": "choropleth"
           }
          ],
          "contour": [
           {
            "colorbar": {
             "outlinewidth": 0,
             "ticks": ""
            },
            "colorscale": [
             [
              0,
              "#0d0887"
             ],
             [
              0.1111111111111111,
              "#46039f"
             ],
             [
              0.2222222222222222,
              "#7201a8"
             ],
             [
              0.3333333333333333,
              "#9c179e"
             ],
             [
              0.4444444444444444,
              "#bd3786"
             ],
             [
              0.5555555555555556,
              "#d8576b"
             ],
             [
              0.6666666666666666,
              "#ed7953"
             ],
             [
              0.7777777777777778,
              "#fb9f3a"
             ],
             [
              0.8888888888888888,
              "#fdca26"
             ],
             [
              1,
              "#f0f921"
             ]
            ],
            "type": "contour"
           }
          ],
          "contourcarpet": [
           {
            "colorbar": {
             "outlinewidth": 0,
             "ticks": ""
            },
            "type": "contourcarpet"
           }
          ],
          "heatmap": [
           {
            "colorbar": {
             "outlinewidth": 0,
             "ticks": ""
            },
            "colorscale": [
             [
              0,
              "#0d0887"
             ],
             [
              0.1111111111111111,
              "#46039f"
             ],
             [
              0.2222222222222222,
              "#7201a8"
             ],
             [
              0.3333333333333333,
              "#9c179e"
             ],
             [
              0.4444444444444444,
              "#bd3786"
             ],
             [
              0.5555555555555556,
              "#d8576b"
             ],
             [
              0.6666666666666666,
              "#ed7953"
             ],
             [
              0.7777777777777778,
              "#fb9f3a"
             ],
             [
              0.8888888888888888,
              "#fdca26"
             ],
             [
              1,
              "#f0f921"
             ]
            ],
            "type": "heatmap"
           }
          ],
          "heatmapgl": [
           {
            "colorbar": {
             "outlinewidth": 0,
             "ticks": ""
            },
            "colorscale": [
             [
              0,
              "#0d0887"
             ],
             [
              0.1111111111111111,
              "#46039f"
             ],
             [
              0.2222222222222222,
              "#7201a8"
             ],
             [
              0.3333333333333333,
              "#9c179e"
             ],
             [
              0.4444444444444444,
              "#bd3786"
             ],
             [
              0.5555555555555556,
              "#d8576b"
             ],
             [
              0.6666666666666666,
              "#ed7953"
             ],
             [
              0.7777777777777778,
              "#fb9f3a"
             ],
             [
              0.8888888888888888,
              "#fdca26"
             ],
             [
              1,
              "#f0f921"
             ]
            ],
            "type": "heatmapgl"
           }
          ],
          "histogram": [
           {
            "marker": {
             "colorbar": {
              "outlinewidth": 0,
              "ticks": ""
             }
            },
            "type": "histogram"
           }
          ],
          "histogram2d": [
           {
            "colorbar": {
             "outlinewidth": 0,
             "ticks": ""
            },
            "colorscale": [
             [
              0,
              "#0d0887"
             ],
             [
              0.1111111111111111,
              "#46039f"
             ],
             [
              0.2222222222222222,
              "#7201a8"
             ],
             [
              0.3333333333333333,
              "#9c179e"
             ],
             [
              0.4444444444444444,
              "#bd3786"
             ],
             [
              0.5555555555555556,
              "#d8576b"
             ],
             [
              0.6666666666666666,
              "#ed7953"
             ],
             [
              0.7777777777777778,
              "#fb9f3a"
             ],
             [
              0.8888888888888888,
              "#fdca26"
             ],
             [
              1,
              "#f0f921"
             ]
            ],
            "type": "histogram2d"
           }
          ],
          "histogram2dcontour": [
           {
            "colorbar": {
             "outlinewidth": 0,
             "ticks": ""
            },
            "colorscale": [
             [
              0,
              "#0d0887"
             ],
             [
              0.1111111111111111,
              "#46039f"
             ],
             [
              0.2222222222222222,
              "#7201a8"
             ],
             [
              0.3333333333333333,
              "#9c179e"
             ],
             [
              0.4444444444444444,
              "#bd3786"
             ],
             [
              0.5555555555555556,
              "#d8576b"
             ],
             [
              0.6666666666666666,
              "#ed7953"
             ],
             [
              0.7777777777777778,
              "#fb9f3a"
             ],
             [
              0.8888888888888888,
              "#fdca26"
             ],
             [
              1,
              "#f0f921"
             ]
            ],
            "type": "histogram2dcontour"
           }
          ],
          "mesh3d": [
           {
            "colorbar": {
             "outlinewidth": 0,
             "ticks": ""
            },
            "type": "mesh3d"
           }
          ],
          "parcoords": [
           {
            "line": {
             "colorbar": {
              "outlinewidth": 0,
              "ticks": ""
             }
            },
            "type": "parcoords"
           }
          ],
          "pie": [
           {
            "automargin": true,
            "type": "pie"
           }
          ],
          "scatter": [
           {
            "marker": {
             "colorbar": {
              "outlinewidth": 0,
              "ticks": ""
             }
            },
            "type": "scatter"
           }
          ],
          "scatter3d": [
           {
            "line": {
             "colorbar": {
              "outlinewidth": 0,
              "ticks": ""
             }
            },
            "marker": {
             "colorbar": {
              "outlinewidth": 0,
              "ticks": ""
             }
            },
            "type": "scatter3d"
           }
          ],
          "scattercarpet": [
           {
            "marker": {
             "colorbar": {
              "outlinewidth": 0,
              "ticks": ""
             }
            },
            "type": "scattercarpet"
           }
          ],
          "scattergeo": [
           {
            "marker": {
             "colorbar": {
              "outlinewidth": 0,
              "ticks": ""
             }
            },
            "type": "scattergeo"
           }
          ],
          "scattergl": [
           {
            "marker": {
             "colorbar": {
              "outlinewidth": 0,
              "ticks": ""
             }
            },
            "type": "scattergl"
           }
          ],
          "scattermapbox": [
           {
            "marker": {
             "colorbar": {
              "outlinewidth": 0,
              "ticks": ""
             }
            },
            "type": "scattermapbox"
           }
          ],
          "scatterpolar": [
           {
            "marker": {
             "colorbar": {
              "outlinewidth": 0,
              "ticks": ""
             }
            },
            "type": "scatterpolar"
           }
          ],
          "scatterpolargl": [
           {
            "marker": {
             "colorbar": {
              "outlinewidth": 0,
              "ticks": ""
             }
            },
            "type": "scatterpolargl"
           }
          ],
          "scatterternary": [
           {
            "marker": {
             "colorbar": {
              "outlinewidth": 0,
              "ticks": ""
             }
            },
            "type": "scatterternary"
           }
          ],
          "surface": [
           {
            "colorbar": {
             "outlinewidth": 0,
             "ticks": ""
            },
            "colorscale": [
             [
              0,
              "#0d0887"
             ],
             [
              0.1111111111111111,
              "#46039f"
             ],
             [
              0.2222222222222222,
              "#7201a8"
             ],
             [
              0.3333333333333333,
              "#9c179e"
             ],
             [
              0.4444444444444444,
              "#bd3786"
             ],
             [
              0.5555555555555556,
              "#d8576b"
             ],
             [
              0.6666666666666666,
              "#ed7953"
             ],
             [
              0.7777777777777778,
              "#fb9f3a"
             ],
             [
              0.8888888888888888,
              "#fdca26"
             ],
             [
              1,
              "#f0f921"
             ]
            ],
            "type": "surface"
           }
          ],
          "table": [
           {
            "cells": {
             "fill": {
              "color": "#EBF0F8"
             },
             "line": {
              "color": "white"
             }
            },
            "header": {
             "fill": {
              "color": "#C8D4E3"
             },
             "line": {
              "color": "white"
             }
            },
            "type": "table"
           }
          ]
         },
         "layout": {
          "annotationdefaults": {
           "arrowcolor": "#2a3f5f",
           "arrowhead": 0,
           "arrowwidth": 1
          },
          "coloraxis": {
           "colorbar": {
            "outlinewidth": 0,
            "ticks": ""
           }
          },
          "colorscale": {
           "diverging": [
            [
             0,
             "#8e0152"
            ],
            [
             0.1,
             "#c51b7d"
            ],
            [
             0.2,
             "#de77ae"
            ],
            [
             0.3,
             "#f1b6da"
            ],
            [
             0.4,
             "#fde0ef"
            ],
            [
             0.5,
             "#f7f7f7"
            ],
            [
             0.6,
             "#e6f5d0"
            ],
            [
             0.7,
             "#b8e186"
            ],
            [
             0.8,
             "#7fbc41"
            ],
            [
             0.9,
             "#4d9221"
            ],
            [
             1,
             "#276419"
            ]
           ],
           "sequential": [
            [
             0,
             "#0d0887"
            ],
            [
             0.1111111111111111,
             "#46039f"
            ],
            [
             0.2222222222222222,
             "#7201a8"
            ],
            [
             0.3333333333333333,
             "#9c179e"
            ],
            [
             0.4444444444444444,
             "#bd3786"
            ],
            [
             0.5555555555555556,
             "#d8576b"
            ],
            [
             0.6666666666666666,
             "#ed7953"
            ],
            [
             0.7777777777777778,
             "#fb9f3a"
            ],
            [
             0.8888888888888888,
             "#fdca26"
            ],
            [
             1,
             "#f0f921"
            ]
           ],
           "sequentialminus": [
            [
             0,
             "#0d0887"
            ],
            [
             0.1111111111111111,
             "#46039f"
            ],
            [
             0.2222222222222222,
             "#7201a8"
            ],
            [
             0.3333333333333333,
             "#9c179e"
            ],
            [
             0.4444444444444444,
             "#bd3786"
            ],
            [
             0.5555555555555556,
             "#d8576b"
            ],
            [
             0.6666666666666666,
             "#ed7953"
            ],
            [
             0.7777777777777778,
             "#fb9f3a"
            ],
            [
             0.8888888888888888,
             "#fdca26"
            ],
            [
             1,
             "#f0f921"
            ]
           ]
          },
          "colorway": [
           "#636efa",
           "#EF553B",
           "#00cc96",
           "#ab63fa",
           "#FFA15A",
           "#19d3f3",
           "#FF6692",
           "#B6E880",
           "#FF97FF",
           "#FECB52"
          ],
          "font": {
           "color": "#2a3f5f"
          },
          "geo": {
           "bgcolor": "white",
           "lakecolor": "white",
           "landcolor": "white",
           "showlakes": true,
           "showland": true,
           "subunitcolor": "#C8D4E3"
          },
          "hoverlabel": {
           "align": "left"
          },
          "hovermode": "closest",
          "mapbox": {
           "style": "light"
          },
          "paper_bgcolor": "white",
          "plot_bgcolor": "white",
          "polar": {
           "angularaxis": {
            "gridcolor": "#EBF0F8",
            "linecolor": "#EBF0F8",
            "ticks": ""
           },
           "bgcolor": "white",
           "radialaxis": {
            "gridcolor": "#EBF0F8",
            "linecolor": "#EBF0F8",
            "ticks": ""
           }
          },
          "scene": {
           "xaxis": {
            "backgroundcolor": "white",
            "gridcolor": "#DFE8F3",
            "gridwidth": 2,
            "linecolor": "#EBF0F8",
            "showbackground": true,
            "ticks": "",
            "zerolinecolor": "#EBF0F8"
           },
           "yaxis": {
            "backgroundcolor": "white",
            "gridcolor": "#DFE8F3",
            "gridwidth": 2,
            "linecolor": "#EBF0F8",
            "showbackground": true,
            "ticks": "",
            "zerolinecolor": "#EBF0F8"
           },
           "zaxis": {
            "backgroundcolor": "white",
            "gridcolor": "#DFE8F3",
            "gridwidth": 2,
            "linecolor": "#EBF0F8",
            "showbackground": true,
            "ticks": "",
            "zerolinecolor": "#EBF0F8"
           }
          },
          "shapedefaults": {
           "line": {
            "color": "#2a3f5f"
           }
          },
          "ternary": {
           "aaxis": {
            "gridcolor": "#DFE8F3",
            "linecolor": "#A2B1C6",
            "ticks": ""
           },
           "baxis": {
            "gridcolor": "#DFE8F3",
            "linecolor": "#A2B1C6",
            "ticks": ""
           },
           "bgcolor": "white",
           "caxis": {
            "gridcolor": "#DFE8F3",
            "linecolor": "#A2B1C6",
            "ticks": ""
           }
          },
          "title": {
           "x": 0.05
          },
          "xaxis": {
           "automargin": true,
           "gridcolor": "#EBF0F8",
           "linecolor": "#EBF0F8",
           "ticks": "",
           "title": {
            "standoff": 15
           },
           "zerolinecolor": "#EBF0F8",
           "zerolinewidth": 2
          },
          "yaxis": {
           "automargin": true,
           "gridcolor": "#EBF0F8",
           "linecolor": "#EBF0F8",
           "ticks": "",
           "title": {
            "standoff": 15
           },
           "zerolinecolor": "#EBF0F8",
           "zerolinewidth": 2
          }
         }
        },
        "title": {
         "text": "Sentiment Evolution over Time (POSTINO ARCADIA)"
        }
       }
      },
      "text/html": [
       "<div>\n",
       "        \n",
       "        \n",
       "            <div id=\"9c5d98f8-c98a-4561-a2ed-dbd5aab9176f\" class=\"plotly-graph-div\" style=\"height:525px; width:100%;\"></div>\n",
       "            <script type=\"text/javascript\">\n",
       "                require([\"plotly\"], function(Plotly) {\n",
       "                    window.PLOTLYENV=window.PLOTLYENV || {};\n",
       "                    window.PLOTLYENV.BASE_URL='https://plot.ly';\n",
       "                    \n",
       "                if (document.getElementById(\"9c5d98f8-c98a-4561-a2ed-dbd5aab9176f\")) {\n",
       "                    Plotly.newPlot(\n",
       "                        '9c5d98f8-c98a-4561-a2ed-dbd5aab9176f',\n",
       "                        [{\"line\": {\"color\": \"rgba(77, 175, 74, 1.0)\", \"dash\": \"solid\", \"shape\": \"linear\", \"width\": 1.3}, \"marker\": {\"size\": 7, \"symbol\": \"circle\"}, \"mode\": \"markers+lines\", \"name\": \"pos\", \"text\": \"\", \"type\": \"scatter\", \"x\": [\"2006-12-31\", \"2007-12-31\", \"2008-12-31\", \"2009-12-31\", \"2010-12-31\", \"2011-12-31\", \"2012-12-31\", \"2013-12-31\", \"2014-12-31\", \"2015-12-31\", \"2016-12-31\", \"2017-12-31\"], \"y\": [5.0, 15.0, 40.0, 64.0, 144.0, 127.0, 106.0, 168.0, 173.0, 98.0, 86.0, 59.0]}, {\"line\": {\"color\": \"rgba(55, 126, 184, 1.0)\", \"dash\": \"solid\", \"shape\": \"linear\", \"width\": 1.3}, \"marker\": {\"size\": 7, \"symbol\": \"circle\"}, \"mode\": \"markers+lines\", \"name\": \"neu\", \"text\": \"\", \"type\": \"scatter\", \"x\": [\"2006-12-31\", \"2007-12-31\", \"2008-12-31\", \"2009-12-31\", \"2010-12-31\", \"2011-12-31\", \"2012-12-31\", \"2013-12-31\", \"2014-12-31\", \"2015-12-31\", \"2016-12-31\", \"2017-12-31\"], \"y\": [\"\", 3.0, 5.0, 4.0, 8.0, 4.0, 3.0, 8.0, 11.0, 4.0, 4.0, 7.0]}, {\"line\": {\"color\": \"rgba(228, 26, 28, 1.0)\", \"dash\": \"solid\", \"shape\": \"linear\", \"width\": 1.3}, \"marker\": {\"size\": 7, \"symbol\": \"circle\"}, \"mode\": \"markers+lines\", \"name\": \"neg\", \"text\": \"\", \"type\": \"scatter\", \"x\": [\"2006-12-31\", \"2007-12-31\", \"2008-12-31\", \"2009-12-31\", \"2010-12-31\", \"2011-12-31\", \"2012-12-31\", \"2013-12-31\", \"2014-12-31\", \"2015-12-31\", \"2016-12-31\", \"2017-12-31\"], \"y\": [1.0, 0.0, 0.0, 1.0, 2.0, 6.0, 4.0, 9.0, 7.0, 7.0, 4.0, 1.0]}],\n",
       "                        {\"template\": {\"data\": {\"bar\": [{\"error_x\": {\"color\": \"#2a3f5f\"}, \"error_y\": {\"color\": \"#2a3f5f\"}, \"marker\": {\"line\": {\"color\": \"white\", \"width\": 0.5}}, \"type\": \"bar\"}], \"barpolar\": [{\"marker\": {\"line\": {\"color\": \"white\", \"width\": 0.5}}, \"type\": \"barpolar\"}], \"carpet\": [{\"aaxis\": {\"endlinecolor\": \"#2a3f5f\", \"gridcolor\": \"#C8D4E3\", \"linecolor\": \"#C8D4E3\", \"minorgridcolor\": \"#C8D4E3\", \"startlinecolor\": \"#2a3f5f\"}, \"baxis\": {\"endlinecolor\": \"#2a3f5f\", \"gridcolor\": \"#C8D4E3\", \"linecolor\": \"#C8D4E3\", \"minorgridcolor\": \"#C8D4E3\", \"startlinecolor\": \"#2a3f5f\"}, \"type\": \"carpet\"}], \"choropleth\": [{\"colorbar\": {\"outlinewidth\": 0, \"ticks\": \"\"}, \"type\": \"choropleth\"}], \"contour\": [{\"colorbar\": {\"outlinewidth\": 0, \"ticks\": \"\"}, \"colorscale\": [[0.0, \"#0d0887\"], [0.1111111111111111, \"#46039f\"], [0.2222222222222222, \"#7201a8\"], [0.3333333333333333, \"#9c179e\"], [0.4444444444444444, \"#bd3786\"], [0.5555555555555556, \"#d8576b\"], [0.6666666666666666, \"#ed7953\"], [0.7777777777777778, \"#fb9f3a\"], [0.8888888888888888, \"#fdca26\"], [1.0, \"#f0f921\"]], \"type\": \"contour\"}], \"contourcarpet\": [{\"colorbar\": {\"outlinewidth\": 0, \"ticks\": \"\"}, \"type\": \"contourcarpet\"}], \"heatmap\": [{\"colorbar\": {\"outlinewidth\": 0, \"ticks\": \"\"}, \"colorscale\": [[0.0, \"#0d0887\"], [0.1111111111111111, \"#46039f\"], [0.2222222222222222, \"#7201a8\"], [0.3333333333333333, \"#9c179e\"], [0.4444444444444444, \"#bd3786\"], [0.5555555555555556, \"#d8576b\"], [0.6666666666666666, \"#ed7953\"], [0.7777777777777778, \"#fb9f3a\"], [0.8888888888888888, \"#fdca26\"], [1.0, \"#f0f921\"]], \"type\": \"heatmap\"}], \"heatmapgl\": [{\"colorbar\": {\"outlinewidth\": 0, \"ticks\": \"\"}, \"colorscale\": [[0.0, \"#0d0887\"], [0.1111111111111111, \"#46039f\"], [0.2222222222222222, \"#7201a8\"], [0.3333333333333333, \"#9c179e\"], [0.4444444444444444, \"#bd3786\"], [0.5555555555555556, \"#d8576b\"], [0.6666666666666666, \"#ed7953\"], [0.7777777777777778, \"#fb9f3a\"], [0.8888888888888888, \"#fdca26\"], [1.0, \"#f0f921\"]], \"type\": \"heatmapgl\"}], \"histogram\": [{\"marker\": {\"colorbar\": {\"outlinewidth\": 0, \"ticks\": \"\"}}, \"type\": \"histogram\"}], \"histogram2d\": [{\"colorbar\": {\"outlinewidth\": 0, \"ticks\": \"\"}, \"colorscale\": [[0.0, \"#0d0887\"], [0.1111111111111111, \"#46039f\"], [0.2222222222222222, \"#7201a8\"], [0.3333333333333333, \"#9c179e\"], [0.4444444444444444, \"#bd3786\"], [0.5555555555555556, \"#d8576b\"], [0.6666666666666666, \"#ed7953\"], [0.7777777777777778, \"#fb9f3a\"], [0.8888888888888888, \"#fdca26\"], [1.0, \"#f0f921\"]], \"type\": \"histogram2d\"}], \"histogram2dcontour\": [{\"colorbar\": {\"outlinewidth\": 0, \"ticks\": \"\"}, \"colorscale\": [[0.0, \"#0d0887\"], [0.1111111111111111, \"#46039f\"], [0.2222222222222222, \"#7201a8\"], [0.3333333333333333, \"#9c179e\"], [0.4444444444444444, \"#bd3786\"], [0.5555555555555556, \"#d8576b\"], [0.6666666666666666, \"#ed7953\"], [0.7777777777777778, \"#fb9f3a\"], [0.8888888888888888, \"#fdca26\"], [1.0, \"#f0f921\"]], \"type\": \"histogram2dcontour\"}], \"mesh3d\": [{\"colorbar\": {\"outlinewidth\": 0, \"ticks\": \"\"}, \"type\": \"mesh3d\"}], \"parcoords\": [{\"line\": {\"colorbar\": {\"outlinewidth\": 0, \"ticks\": \"\"}}, \"type\": \"parcoords\"}], \"pie\": [{\"automargin\": true, \"type\": \"pie\"}], \"scatter\": [{\"marker\": {\"colorbar\": {\"outlinewidth\": 0, \"ticks\": \"\"}}, \"type\": \"scatter\"}], \"scatter3d\": [{\"line\": {\"colorbar\": {\"outlinewidth\": 0, \"ticks\": \"\"}}, \"marker\": {\"colorbar\": {\"outlinewidth\": 0, \"ticks\": \"\"}}, \"type\": \"scatter3d\"}], \"scattercarpet\": [{\"marker\": {\"colorbar\": {\"outlinewidth\": 0, \"ticks\": \"\"}}, \"type\": \"scattercarpet\"}], \"scattergeo\": [{\"marker\": {\"colorbar\": {\"outlinewidth\": 0, \"ticks\": \"\"}}, \"type\": \"scattergeo\"}], \"scattergl\": [{\"marker\": {\"colorbar\": {\"outlinewidth\": 0, \"ticks\": \"\"}}, \"type\": \"scattergl\"}], \"scattermapbox\": [{\"marker\": {\"colorbar\": {\"outlinewidth\": 0, \"ticks\": \"\"}}, \"type\": \"scattermapbox\"}], \"scatterpolar\": [{\"marker\": {\"colorbar\": {\"outlinewidth\": 0, \"ticks\": \"\"}}, \"type\": \"scatterpolar\"}], \"scatterpolargl\": [{\"marker\": {\"colorbar\": {\"outlinewidth\": 0, \"ticks\": \"\"}}, \"type\": \"scatterpolargl\"}], \"scatterternary\": [{\"marker\": {\"colorbar\": {\"outlinewidth\": 0, \"ticks\": \"\"}}, \"type\": \"scatterternary\"}], \"surface\": [{\"colorbar\": {\"outlinewidth\": 0, \"ticks\": \"\"}, \"colorscale\": [[0.0, \"#0d0887\"], [0.1111111111111111, \"#46039f\"], [0.2222222222222222, \"#7201a8\"], [0.3333333333333333, \"#9c179e\"], [0.4444444444444444, \"#bd3786\"], [0.5555555555555556, \"#d8576b\"], [0.6666666666666666, \"#ed7953\"], [0.7777777777777778, \"#fb9f3a\"], [0.8888888888888888, \"#fdca26\"], [1.0, \"#f0f921\"]], \"type\": \"surface\"}], \"table\": [{\"cells\": {\"fill\": {\"color\": \"#EBF0F8\"}, \"line\": {\"color\": \"white\"}}, \"header\": {\"fill\": {\"color\": \"#C8D4E3\"}, \"line\": {\"color\": \"white\"}}, \"type\": \"table\"}]}, \"layout\": {\"annotationdefaults\": {\"arrowcolor\": \"#2a3f5f\", \"arrowhead\": 0, \"arrowwidth\": 1}, \"coloraxis\": {\"colorbar\": {\"outlinewidth\": 0, \"ticks\": \"\"}}, \"colorscale\": {\"diverging\": [[0, \"#8e0152\"], [0.1, \"#c51b7d\"], [0.2, \"#de77ae\"], [0.3, \"#f1b6da\"], [0.4, \"#fde0ef\"], [0.5, \"#f7f7f7\"], [0.6, \"#e6f5d0\"], [0.7, \"#b8e186\"], [0.8, \"#7fbc41\"], [0.9, \"#4d9221\"], [1, \"#276419\"]], \"sequential\": [[0.0, \"#0d0887\"], [0.1111111111111111, \"#46039f\"], [0.2222222222222222, \"#7201a8\"], [0.3333333333333333, \"#9c179e\"], [0.4444444444444444, \"#bd3786\"], [0.5555555555555556, \"#d8576b\"], [0.6666666666666666, \"#ed7953\"], [0.7777777777777778, \"#fb9f3a\"], [0.8888888888888888, \"#fdca26\"], [1.0, \"#f0f921\"]], \"sequentialminus\": [[0.0, \"#0d0887\"], [0.1111111111111111, \"#46039f\"], [0.2222222222222222, \"#7201a8\"], [0.3333333333333333, \"#9c179e\"], [0.4444444444444444, \"#bd3786\"], [0.5555555555555556, \"#d8576b\"], [0.6666666666666666, \"#ed7953\"], [0.7777777777777778, \"#fb9f3a\"], [0.8888888888888888, \"#fdca26\"], [1.0, \"#f0f921\"]]}, \"colorway\": [\"#636efa\", \"#EF553B\", \"#00cc96\", \"#ab63fa\", \"#FFA15A\", \"#19d3f3\", \"#FF6692\", \"#B6E880\", \"#FF97FF\", \"#FECB52\"], \"font\": {\"color\": \"#2a3f5f\"}, \"geo\": {\"bgcolor\": \"white\", \"lakecolor\": \"white\", \"landcolor\": \"white\", \"showlakes\": true, \"showland\": true, \"subunitcolor\": \"#C8D4E3\"}, \"hoverlabel\": {\"align\": \"left\"}, \"hovermode\": \"closest\", \"mapbox\": {\"style\": \"light\"}, \"paper_bgcolor\": \"white\", \"plot_bgcolor\": \"white\", \"polar\": {\"angularaxis\": {\"gridcolor\": \"#EBF0F8\", \"linecolor\": \"#EBF0F8\", \"ticks\": \"\"}, \"bgcolor\": \"white\", \"radialaxis\": {\"gridcolor\": \"#EBF0F8\", \"linecolor\": \"#EBF0F8\", \"ticks\": \"\"}}, \"scene\": {\"xaxis\": {\"backgroundcolor\": \"white\", \"gridcolor\": \"#DFE8F3\", \"gridwidth\": 2, \"linecolor\": \"#EBF0F8\", \"showbackground\": true, \"ticks\": \"\", \"zerolinecolor\": \"#EBF0F8\"}, \"yaxis\": {\"backgroundcolor\": \"white\", \"gridcolor\": \"#DFE8F3\", \"gridwidth\": 2, \"linecolor\": \"#EBF0F8\", \"showbackground\": true, \"ticks\": \"\", \"zerolinecolor\": \"#EBF0F8\"}, \"zaxis\": {\"backgroundcolor\": \"white\", \"gridcolor\": \"#DFE8F3\", \"gridwidth\": 2, \"linecolor\": \"#EBF0F8\", \"showbackground\": true, \"ticks\": \"\", \"zerolinecolor\": \"#EBF0F8\"}}, \"shapedefaults\": {\"line\": {\"color\": \"#2a3f5f\"}}, \"ternary\": {\"aaxis\": {\"gridcolor\": \"#DFE8F3\", \"linecolor\": \"#A2B1C6\", \"ticks\": \"\"}, \"baxis\": {\"gridcolor\": \"#DFE8F3\", \"linecolor\": \"#A2B1C6\", \"ticks\": \"\"}, \"bgcolor\": \"white\", \"caxis\": {\"gridcolor\": \"#DFE8F3\", \"linecolor\": \"#A2B1C6\", \"ticks\": \"\"}}, \"title\": {\"x\": 0.05}, \"xaxis\": {\"automargin\": true, \"gridcolor\": \"#EBF0F8\", \"linecolor\": \"#EBF0F8\", \"ticks\": \"\", \"title\": {\"standoff\": 15}, \"zerolinecolor\": \"#EBF0F8\", \"zerolinewidth\": 2}, \"yaxis\": {\"automargin\": true, \"gridcolor\": \"#EBF0F8\", \"linecolor\": \"#EBF0F8\", \"ticks\": \"\", \"title\": {\"standoff\": 15}, \"zerolinecolor\": \"#EBF0F8\", \"zerolinewidth\": 2}}}, \"title\": {\"text\": \"Sentiment Evolution over Time (POSTINO ARCADIA)\"}},\n",
       "                        {\"showLink\": true, \"linkText\": \"Export to plot.ly\", \"plotlyServerURL\": \"https://plot.ly\", \"responsive\": true}\n",
       "                    ).then(function(){\n",
       "                            \n",
       "var gd = document.getElementById('9c5d98f8-c98a-4561-a2ed-dbd5aab9176f');\n",
       "var x = new MutationObserver(function (mutations, observer) {{\n",
       "        var display = window.getComputedStyle(gd).display;\n",
       "        if (!display || display === 'none') {{\n",
       "            console.log([gd, 'removed!']);\n",
       "            Plotly.purge(gd);\n",
       "            observer.disconnect();\n",
       "        }}\n",
       "}});\n",
       "\n",
       "// Listen for the removal of the full notebook cells\n",
       "var notebookContainer = gd.closest('#notebook-container');\n",
       "if (notebookContainer) {{\n",
       "    x.observe(notebookContainer, {childList: true});\n",
       "}}\n",
       "\n",
       "// Listen for the clearing of the current output cell\n",
       "var outputEl = gd.closest('.output');\n",
       "if (outputEl) {{\n",
       "    x.observe(outputEl, {childList: true});\n",
       "}}\n",
       "\n",
       "                        })\n",
       "                };\n",
       "                });\n",
       "            </script>\n",
       "        </div>"
      ]
     },
     "metadata": {},
     "output_type": "display_data"
    },
    {
     "data": {
      "application/vnd.plotly.v1+json": {
       "config": {
        "linkText": "Export to plot.ly",
        "plotlyServerURL": "https://plot.ly",
        "showLink": true
       },
       "data": [
        {
         "line": {
          "color": "rgba(77, 175, 74, 1.0)",
          "dash": "solid",
          "shape": "linear",
          "width": 1.3
         },
         "marker": {
          "size": 7,
          "symbol": "circle"
         },
         "mode": "markers+lines",
         "name": "pos",
         "text": "",
         "type": "scatter",
         "x": [
          "2007-12-31",
          "2008-12-31",
          "2009-12-31",
          "2010-12-31",
          "2011-12-31",
          "2012-12-31",
          "2013-12-31",
          "2014-12-31",
          "2015-12-31",
          "2016-12-31",
          "2017-12-31"
         ],
         "y": [
          2,
          0,
          7,
          19,
          17,
          38,
          59,
          60,
          79,
          66,
          58
         ]
        },
        {
         "line": {
          "color": "rgba(55, 126, 184, 1.0)",
          "dash": "solid",
          "shape": "linear",
          "width": 1.3
         },
         "marker": {
          "size": 7,
          "symbol": "circle"
         },
         "mode": "markers+lines",
         "name": "neg",
         "text": "",
         "type": "scatter",
         "x": [
          "2007-12-31",
          "2008-12-31",
          "2009-12-31",
          "2010-12-31",
          "2011-12-31",
          "2012-12-31",
          "2013-12-31",
          "2014-12-31",
          "2015-12-31",
          "2016-12-31",
          "2017-12-31"
         ],
         "y": [
          "",
          "",
          4,
          7,
          15,
          37,
          49,
          98,
          191,
          166,
          202
         ]
        },
        {
         "line": {
          "color": "rgba(228, 26, 28, 1.0)",
          "dash": "solid",
          "shape": "linear",
          "width": 1.3
         },
         "marker": {
          "size": 7,
          "symbol": "circle"
         },
         "mode": "markers+lines",
         "name": "neu",
         "text": "",
         "type": "scatter",
         "x": [
          "2007-12-31",
          "2008-12-31",
          "2009-12-31",
          "2010-12-31",
          "2011-12-31",
          "2012-12-31",
          "2013-12-31",
          "2014-12-31",
          "2015-12-31",
          "2016-12-31",
          "2017-12-31"
         ],
         "y": [
          "",
          1,
          7,
          6,
          7,
          14,
          23,
          18,
          41,
          16,
          21
         ]
        }
       ],
       "layout": {
        "template": {
         "data": {
          "bar": [
           {
            "error_x": {
             "color": "#2a3f5f"
            },
            "error_y": {
             "color": "#2a3f5f"
            },
            "marker": {
             "line": {
              "color": "white",
              "width": 0.5
             }
            },
            "type": "bar"
           }
          ],
          "barpolar": [
           {
            "marker": {
             "line": {
              "color": "white",
              "width": 0.5
             }
            },
            "type": "barpolar"
           }
          ],
          "carpet": [
           {
            "aaxis": {
             "endlinecolor": "#2a3f5f",
             "gridcolor": "#C8D4E3",
             "linecolor": "#C8D4E3",
             "minorgridcolor": "#C8D4E3",
             "startlinecolor": "#2a3f5f"
            },
            "baxis": {
             "endlinecolor": "#2a3f5f",
             "gridcolor": "#C8D4E3",
             "linecolor": "#C8D4E3",
             "minorgridcolor": "#C8D4E3",
             "startlinecolor": "#2a3f5f"
            },
            "type": "carpet"
           }
          ],
          "choropleth": [
           {
            "colorbar": {
             "outlinewidth": 0,
             "ticks": ""
            },
            "type": "choropleth"
           }
          ],
          "contour": [
           {
            "colorbar": {
             "outlinewidth": 0,
             "ticks": ""
            },
            "colorscale": [
             [
              0,
              "#0d0887"
             ],
             [
              0.1111111111111111,
              "#46039f"
             ],
             [
              0.2222222222222222,
              "#7201a8"
             ],
             [
              0.3333333333333333,
              "#9c179e"
             ],
             [
              0.4444444444444444,
              "#bd3786"
             ],
             [
              0.5555555555555556,
              "#d8576b"
             ],
             [
              0.6666666666666666,
              "#ed7953"
             ],
             [
              0.7777777777777778,
              "#fb9f3a"
             ],
             [
              0.8888888888888888,
              "#fdca26"
             ],
             [
              1,
              "#f0f921"
             ]
            ],
            "type": "contour"
           }
          ],
          "contourcarpet": [
           {
            "colorbar": {
             "outlinewidth": 0,
             "ticks": ""
            },
            "type": "contourcarpet"
           }
          ],
          "heatmap": [
           {
            "colorbar": {
             "outlinewidth": 0,
             "ticks": ""
            },
            "colorscale": [
             [
              0,
              "#0d0887"
             ],
             [
              0.1111111111111111,
              "#46039f"
             ],
             [
              0.2222222222222222,
              "#7201a8"
             ],
             [
              0.3333333333333333,
              "#9c179e"
             ],
             [
              0.4444444444444444,
              "#bd3786"
             ],
             [
              0.5555555555555556,
              "#d8576b"
             ],
             [
              0.6666666666666666,
              "#ed7953"
             ],
             [
              0.7777777777777778,
              "#fb9f3a"
             ],
             [
              0.8888888888888888,
              "#fdca26"
             ],
             [
              1,
              "#f0f921"
             ]
            ],
            "type": "heatmap"
           }
          ],
          "heatmapgl": [
           {
            "colorbar": {
             "outlinewidth": 0,
             "ticks": ""
            },
            "colorscale": [
             [
              0,
              "#0d0887"
             ],
             [
              0.1111111111111111,
              "#46039f"
             ],
             [
              0.2222222222222222,
              "#7201a8"
             ],
             [
              0.3333333333333333,
              "#9c179e"
             ],
             [
              0.4444444444444444,
              "#bd3786"
             ],
             [
              0.5555555555555556,
              "#d8576b"
             ],
             [
              0.6666666666666666,
              "#ed7953"
             ],
             [
              0.7777777777777778,
              "#fb9f3a"
             ],
             [
              0.8888888888888888,
              "#fdca26"
             ],
             [
              1,
              "#f0f921"
             ]
            ],
            "type": "heatmapgl"
           }
          ],
          "histogram": [
           {
            "marker": {
             "colorbar": {
              "outlinewidth": 0,
              "ticks": ""
             }
            },
            "type": "histogram"
           }
          ],
          "histogram2d": [
           {
            "colorbar": {
             "outlinewidth": 0,
             "ticks": ""
            },
            "colorscale": [
             [
              0,
              "#0d0887"
             ],
             [
              0.1111111111111111,
              "#46039f"
             ],
             [
              0.2222222222222222,
              "#7201a8"
             ],
             [
              0.3333333333333333,
              "#9c179e"
             ],
             [
              0.4444444444444444,
              "#bd3786"
             ],
             [
              0.5555555555555556,
              "#d8576b"
             ],
             [
              0.6666666666666666,
              "#ed7953"
             ],
             [
              0.7777777777777778,
              "#fb9f3a"
             ],
             [
              0.8888888888888888,
              "#fdca26"
             ],
             [
              1,
              "#f0f921"
             ]
            ],
            "type": "histogram2d"
           }
          ],
          "histogram2dcontour": [
           {
            "colorbar": {
             "outlinewidth": 0,
             "ticks": ""
            },
            "colorscale": [
             [
              0,
              "#0d0887"
             ],
             [
              0.1111111111111111,
              "#46039f"
             ],
             [
              0.2222222222222222,
              "#7201a8"
             ],
             [
              0.3333333333333333,
              "#9c179e"
             ],
             [
              0.4444444444444444,
              "#bd3786"
             ],
             [
              0.5555555555555556,
              "#d8576b"
             ],
             [
              0.6666666666666666,
              "#ed7953"
             ],
             [
              0.7777777777777778,
              "#fb9f3a"
             ],
             [
              0.8888888888888888,
              "#fdca26"
             ],
             [
              1,
              "#f0f921"
             ]
            ],
            "type": "histogram2dcontour"
           }
          ],
          "mesh3d": [
           {
            "colorbar": {
             "outlinewidth": 0,
             "ticks": ""
            },
            "type": "mesh3d"
           }
          ],
          "parcoords": [
           {
            "line": {
             "colorbar": {
              "outlinewidth": 0,
              "ticks": ""
             }
            },
            "type": "parcoords"
           }
          ],
          "pie": [
           {
            "automargin": true,
            "type": "pie"
           }
          ],
          "scatter": [
           {
            "marker": {
             "colorbar": {
              "outlinewidth": 0,
              "ticks": ""
             }
            },
            "type": "scatter"
           }
          ],
          "scatter3d": [
           {
            "line": {
             "colorbar": {
              "outlinewidth": 0,
              "ticks": ""
             }
            },
            "marker": {
             "colorbar": {
              "outlinewidth": 0,
              "ticks": ""
             }
            },
            "type": "scatter3d"
           }
          ],
          "scattercarpet": [
           {
            "marker": {
             "colorbar": {
              "outlinewidth": 0,
              "ticks": ""
             }
            },
            "type": "scattercarpet"
           }
          ],
          "scattergeo": [
           {
            "marker": {
             "colorbar": {
              "outlinewidth": 0,
              "ticks": ""
             }
            },
            "type": "scattergeo"
           }
          ],
          "scattergl": [
           {
            "marker": {
             "colorbar": {
              "outlinewidth": 0,
              "ticks": ""
             }
            },
            "type": "scattergl"
           }
          ],
          "scattermapbox": [
           {
            "marker": {
             "colorbar": {
              "outlinewidth": 0,
              "ticks": ""
             }
            },
            "type": "scattermapbox"
           }
          ],
          "scatterpolar": [
           {
            "marker": {
             "colorbar": {
              "outlinewidth": 0,
              "ticks": ""
             }
            },
            "type": "scatterpolar"
           }
          ],
          "scatterpolargl": [
           {
            "marker": {
             "colorbar": {
              "outlinewidth": 0,
              "ticks": ""
             }
            },
            "type": "scatterpolargl"
           }
          ],
          "scatterternary": [
           {
            "marker": {
             "colorbar": {
              "outlinewidth": 0,
              "ticks": ""
             }
            },
            "type": "scatterternary"
           }
          ],
          "surface": [
           {
            "colorbar": {
             "outlinewidth": 0,
             "ticks": ""
            },
            "colorscale": [
             [
              0,
              "#0d0887"
             ],
             [
              0.1111111111111111,
              "#46039f"
             ],
             [
              0.2222222222222222,
              "#7201a8"
             ],
             [
              0.3333333333333333,
              "#9c179e"
             ],
             [
              0.4444444444444444,
              "#bd3786"
             ],
             [
              0.5555555555555556,
              "#d8576b"
             ],
             [
              0.6666666666666666,
              "#ed7953"
             ],
             [
              0.7777777777777778,
              "#fb9f3a"
             ],
             [
              0.8888888888888888,
              "#fdca26"
             ],
             [
              1,
              "#f0f921"
             ]
            ],
            "type": "surface"
           }
          ],
          "table": [
           {
            "cells": {
             "fill": {
              "color": "#EBF0F8"
             },
             "line": {
              "color": "white"
             }
            },
            "header": {
             "fill": {
              "color": "#C8D4E3"
             },
             "line": {
              "color": "white"
             }
            },
            "type": "table"
           }
          ]
         },
         "layout": {
          "annotationdefaults": {
           "arrowcolor": "#2a3f5f",
           "arrowhead": 0,
           "arrowwidth": 1
          },
          "coloraxis": {
           "colorbar": {
            "outlinewidth": 0,
            "ticks": ""
           }
          },
          "colorscale": {
           "diverging": [
            [
             0,
             "#8e0152"
            ],
            [
             0.1,
             "#c51b7d"
            ],
            [
             0.2,
             "#de77ae"
            ],
            [
             0.3,
             "#f1b6da"
            ],
            [
             0.4,
             "#fde0ef"
            ],
            [
             0.5,
             "#f7f7f7"
            ],
            [
             0.6,
             "#e6f5d0"
            ],
            [
             0.7,
             "#b8e186"
            ],
            [
             0.8,
             "#7fbc41"
            ],
            [
             0.9,
             "#4d9221"
            ],
            [
             1,
             "#276419"
            ]
           ],
           "sequential": [
            [
             0,
             "#0d0887"
            ],
            [
             0.1111111111111111,
             "#46039f"
            ],
            [
             0.2222222222222222,
             "#7201a8"
            ],
            [
             0.3333333333333333,
             "#9c179e"
            ],
            [
             0.4444444444444444,
             "#bd3786"
            ],
            [
             0.5555555555555556,
             "#d8576b"
            ],
            [
             0.6666666666666666,
             "#ed7953"
            ],
            [
             0.7777777777777778,
             "#fb9f3a"
            ],
            [
             0.8888888888888888,
             "#fdca26"
            ],
            [
             1,
             "#f0f921"
            ]
           ],
           "sequentialminus": [
            [
             0,
             "#0d0887"
            ],
            [
             0.1111111111111111,
             "#46039f"
            ],
            [
             0.2222222222222222,
             "#7201a8"
            ],
            [
             0.3333333333333333,
             "#9c179e"
            ],
            [
             0.4444444444444444,
             "#bd3786"
            ],
            [
             0.5555555555555556,
             "#d8576b"
            ],
            [
             0.6666666666666666,
             "#ed7953"
            ],
            [
             0.7777777777777778,
             "#fb9f3a"
            ],
            [
             0.8888888888888888,
             "#fdca26"
            ],
            [
             1,
             "#f0f921"
            ]
           ]
          },
          "colorway": [
           "#636efa",
           "#EF553B",
           "#00cc96",
           "#ab63fa",
           "#FFA15A",
           "#19d3f3",
           "#FF6692",
           "#B6E880",
           "#FF97FF",
           "#FECB52"
          ],
          "font": {
           "color": "#2a3f5f"
          },
          "geo": {
           "bgcolor": "white",
           "lakecolor": "white",
           "landcolor": "white",
           "showlakes": true,
           "showland": true,
           "subunitcolor": "#C8D4E3"
          },
          "hoverlabel": {
           "align": "left"
          },
          "hovermode": "closest",
          "mapbox": {
           "style": "light"
          },
          "paper_bgcolor": "white",
          "plot_bgcolor": "white",
          "polar": {
           "angularaxis": {
            "gridcolor": "#EBF0F8",
            "linecolor": "#EBF0F8",
            "ticks": ""
           },
           "bgcolor": "white",
           "radialaxis": {
            "gridcolor": "#EBF0F8",
            "linecolor": "#EBF0F8",
            "ticks": ""
           }
          },
          "scene": {
           "xaxis": {
            "backgroundcolor": "white",
            "gridcolor": "#DFE8F3",
            "gridwidth": 2,
            "linecolor": "#EBF0F8",
            "showbackground": true,
            "ticks": "",
            "zerolinecolor": "#EBF0F8"
           },
           "yaxis": {
            "backgroundcolor": "white",
            "gridcolor": "#DFE8F3",
            "gridwidth": 2,
            "linecolor": "#EBF0F8",
            "showbackground": true,
            "ticks": "",
            "zerolinecolor": "#EBF0F8"
           },
           "zaxis": {
            "backgroundcolor": "white",
            "gridcolor": "#DFE8F3",
            "gridwidth": 2,
            "linecolor": "#EBF0F8",
            "showbackground": true,
            "ticks": "",
            "zerolinecolor": "#EBF0F8"
           }
          },
          "shapedefaults": {
           "line": {
            "color": "#2a3f5f"
           }
          },
          "ternary": {
           "aaxis": {
            "gridcolor": "#DFE8F3",
            "linecolor": "#A2B1C6",
            "ticks": ""
           },
           "baxis": {
            "gridcolor": "#DFE8F3",
            "linecolor": "#A2B1C6",
            "ticks": ""
           },
           "bgcolor": "white",
           "caxis": {
            "gridcolor": "#DFE8F3",
            "linecolor": "#A2B1C6",
            "ticks": ""
           }
          },
          "title": {
           "x": 0.05
          },
          "xaxis": {
           "automargin": true,
           "gridcolor": "#EBF0F8",
           "linecolor": "#EBF0F8",
           "ticks": "",
           "title": {
            "standoff": 15
           },
           "zerolinecolor": "#EBF0F8",
           "zerolinewidth": 2
          },
          "yaxis": {
           "automargin": true,
           "gridcolor": "#EBF0F8",
           "linecolor": "#EBF0F8",
           "ticks": "",
           "title": {
            "standoff": 15
           },
           "zerolinecolor": "#EBF0F8",
           "zerolinewidth": 2
          }
         }
        },
        "title": {
         "text": "Sentiment Evolution over Time (CARLS JR)"
        }
       }
      },
      "text/html": [
       "<div>\n",
       "        \n",
       "        \n",
       "            <div id=\"3258e299-14b8-4e8a-832f-26f552ebda94\" class=\"plotly-graph-div\" style=\"height:525px; width:100%;\"></div>\n",
       "            <script type=\"text/javascript\">\n",
       "                require([\"plotly\"], function(Plotly) {\n",
       "                    window.PLOTLYENV=window.PLOTLYENV || {};\n",
       "                    window.PLOTLYENV.BASE_URL='https://plot.ly';\n",
       "                    \n",
       "                if (document.getElementById(\"3258e299-14b8-4e8a-832f-26f552ebda94\")) {\n",
       "                    Plotly.newPlot(\n",
       "                        '3258e299-14b8-4e8a-832f-26f552ebda94',\n",
       "                        [{\"line\": {\"color\": \"rgba(77, 175, 74, 1.0)\", \"dash\": \"solid\", \"shape\": \"linear\", \"width\": 1.3}, \"marker\": {\"size\": 7, \"symbol\": \"circle\"}, \"mode\": \"markers+lines\", \"name\": \"pos\", \"text\": \"\", \"type\": \"scatter\", \"x\": [\"2007-12-31\", \"2008-12-31\", \"2009-12-31\", \"2010-12-31\", \"2011-12-31\", \"2012-12-31\", \"2013-12-31\", \"2014-12-31\", \"2015-12-31\", \"2016-12-31\", \"2017-12-31\"], \"y\": [2.0, 0.0, 7.0, 19.0, 17.0, 38.0, 59.0, 60.0, 79.0, 66.0, 58.0]}, {\"line\": {\"color\": \"rgba(55, 126, 184, 1.0)\", \"dash\": \"solid\", \"shape\": \"linear\", \"width\": 1.3}, \"marker\": {\"size\": 7, \"symbol\": \"circle\"}, \"mode\": \"markers+lines\", \"name\": \"neg\", \"text\": \"\", \"type\": \"scatter\", \"x\": [\"2007-12-31\", \"2008-12-31\", \"2009-12-31\", \"2010-12-31\", \"2011-12-31\", \"2012-12-31\", \"2013-12-31\", \"2014-12-31\", \"2015-12-31\", \"2016-12-31\", \"2017-12-31\"], \"y\": [\"\", \"\", 4.0, 7.0, 15.0, 37.0, 49.0, 98.0, 191.0, 166.0, 202.0]}, {\"line\": {\"color\": \"rgba(228, 26, 28, 1.0)\", \"dash\": \"solid\", \"shape\": \"linear\", \"width\": 1.3}, \"marker\": {\"size\": 7, \"symbol\": \"circle\"}, \"mode\": \"markers+lines\", \"name\": \"neu\", \"text\": \"\", \"type\": \"scatter\", \"x\": [\"2007-12-31\", \"2008-12-31\", \"2009-12-31\", \"2010-12-31\", \"2011-12-31\", \"2012-12-31\", \"2013-12-31\", \"2014-12-31\", \"2015-12-31\", \"2016-12-31\", \"2017-12-31\"], \"y\": [\"\", 1.0, 7.0, 6.0, 7.0, 14.0, 23.0, 18.0, 41.0, 16.0, 21.0]}],\n",
       "                        {\"template\": {\"data\": {\"bar\": [{\"error_x\": {\"color\": \"#2a3f5f\"}, \"error_y\": {\"color\": \"#2a3f5f\"}, \"marker\": {\"line\": {\"color\": \"white\", \"width\": 0.5}}, \"type\": \"bar\"}], \"barpolar\": [{\"marker\": {\"line\": {\"color\": \"white\", \"width\": 0.5}}, \"type\": \"barpolar\"}], \"carpet\": [{\"aaxis\": {\"endlinecolor\": \"#2a3f5f\", \"gridcolor\": \"#C8D4E3\", \"linecolor\": \"#C8D4E3\", \"minorgridcolor\": \"#C8D4E3\", \"startlinecolor\": \"#2a3f5f\"}, \"baxis\": {\"endlinecolor\": \"#2a3f5f\", \"gridcolor\": \"#C8D4E3\", \"linecolor\": \"#C8D4E3\", \"minorgridcolor\": \"#C8D4E3\", \"startlinecolor\": \"#2a3f5f\"}, \"type\": \"carpet\"}], \"choropleth\": [{\"colorbar\": {\"outlinewidth\": 0, \"ticks\": \"\"}, \"type\": \"choropleth\"}], \"contour\": [{\"colorbar\": {\"outlinewidth\": 0, \"ticks\": \"\"}, \"colorscale\": [[0.0, \"#0d0887\"], [0.1111111111111111, \"#46039f\"], [0.2222222222222222, \"#7201a8\"], [0.3333333333333333, \"#9c179e\"], [0.4444444444444444, \"#bd3786\"], [0.5555555555555556, \"#d8576b\"], [0.6666666666666666, \"#ed7953\"], [0.7777777777777778, \"#fb9f3a\"], [0.8888888888888888, \"#fdca26\"], [1.0, \"#f0f921\"]], \"type\": \"contour\"}], \"contourcarpet\": [{\"colorbar\": {\"outlinewidth\": 0, \"ticks\": \"\"}, \"type\": \"contourcarpet\"}], \"heatmap\": [{\"colorbar\": {\"outlinewidth\": 0, \"ticks\": \"\"}, \"colorscale\": [[0.0, \"#0d0887\"], [0.1111111111111111, \"#46039f\"], [0.2222222222222222, \"#7201a8\"], [0.3333333333333333, \"#9c179e\"], [0.4444444444444444, \"#bd3786\"], [0.5555555555555556, \"#d8576b\"], [0.6666666666666666, \"#ed7953\"], [0.7777777777777778, \"#fb9f3a\"], [0.8888888888888888, \"#fdca26\"], [1.0, \"#f0f921\"]], \"type\": \"heatmap\"}], \"heatmapgl\": [{\"colorbar\": {\"outlinewidth\": 0, \"ticks\": \"\"}, \"colorscale\": [[0.0, \"#0d0887\"], [0.1111111111111111, \"#46039f\"], [0.2222222222222222, \"#7201a8\"], [0.3333333333333333, \"#9c179e\"], [0.4444444444444444, \"#bd3786\"], [0.5555555555555556, \"#d8576b\"], [0.6666666666666666, \"#ed7953\"], [0.7777777777777778, \"#fb9f3a\"], [0.8888888888888888, \"#fdca26\"], [1.0, \"#f0f921\"]], \"type\": \"heatmapgl\"}], \"histogram\": [{\"marker\": {\"colorbar\": {\"outlinewidth\": 0, \"ticks\": \"\"}}, \"type\": \"histogram\"}], \"histogram2d\": [{\"colorbar\": {\"outlinewidth\": 0, \"ticks\": \"\"}, \"colorscale\": [[0.0, \"#0d0887\"], [0.1111111111111111, \"#46039f\"], [0.2222222222222222, \"#7201a8\"], [0.3333333333333333, \"#9c179e\"], [0.4444444444444444, \"#bd3786\"], [0.5555555555555556, \"#d8576b\"], [0.6666666666666666, \"#ed7953\"], [0.7777777777777778, \"#fb9f3a\"], [0.8888888888888888, \"#fdca26\"], [1.0, \"#f0f921\"]], \"type\": \"histogram2d\"}], \"histogram2dcontour\": [{\"colorbar\": {\"outlinewidth\": 0, \"ticks\": \"\"}, \"colorscale\": [[0.0, \"#0d0887\"], [0.1111111111111111, \"#46039f\"], [0.2222222222222222, \"#7201a8\"], [0.3333333333333333, \"#9c179e\"], [0.4444444444444444, \"#bd3786\"], [0.5555555555555556, \"#d8576b\"], [0.6666666666666666, \"#ed7953\"], [0.7777777777777778, \"#fb9f3a\"], [0.8888888888888888, \"#fdca26\"], [1.0, \"#f0f921\"]], \"type\": \"histogram2dcontour\"}], \"mesh3d\": [{\"colorbar\": {\"outlinewidth\": 0, \"ticks\": \"\"}, \"type\": \"mesh3d\"}], \"parcoords\": [{\"line\": {\"colorbar\": {\"outlinewidth\": 0, \"ticks\": \"\"}}, \"type\": \"parcoords\"}], \"pie\": [{\"automargin\": true, \"type\": \"pie\"}], \"scatter\": [{\"marker\": {\"colorbar\": {\"outlinewidth\": 0, \"ticks\": \"\"}}, \"type\": \"scatter\"}], \"scatter3d\": [{\"line\": {\"colorbar\": {\"outlinewidth\": 0, \"ticks\": \"\"}}, \"marker\": {\"colorbar\": {\"outlinewidth\": 0, \"ticks\": \"\"}}, \"type\": \"scatter3d\"}], \"scattercarpet\": [{\"marker\": {\"colorbar\": {\"outlinewidth\": 0, \"ticks\": \"\"}}, \"type\": \"scattercarpet\"}], \"scattergeo\": [{\"marker\": {\"colorbar\": {\"outlinewidth\": 0, \"ticks\": \"\"}}, \"type\": \"scattergeo\"}], \"scattergl\": [{\"marker\": {\"colorbar\": {\"outlinewidth\": 0, \"ticks\": \"\"}}, \"type\": \"scattergl\"}], \"scattermapbox\": [{\"marker\": {\"colorbar\": {\"outlinewidth\": 0, \"ticks\": \"\"}}, \"type\": \"scattermapbox\"}], \"scatterpolar\": [{\"marker\": {\"colorbar\": {\"outlinewidth\": 0, \"ticks\": \"\"}}, \"type\": \"scatterpolar\"}], \"scatterpolargl\": [{\"marker\": {\"colorbar\": {\"outlinewidth\": 0, \"ticks\": \"\"}}, \"type\": \"scatterpolargl\"}], \"scatterternary\": [{\"marker\": {\"colorbar\": {\"outlinewidth\": 0, \"ticks\": \"\"}}, \"type\": \"scatterternary\"}], \"surface\": [{\"colorbar\": {\"outlinewidth\": 0, \"ticks\": \"\"}, \"colorscale\": [[0.0, \"#0d0887\"], [0.1111111111111111, \"#46039f\"], [0.2222222222222222, \"#7201a8\"], [0.3333333333333333, \"#9c179e\"], [0.4444444444444444, \"#bd3786\"], [0.5555555555555556, \"#d8576b\"], [0.6666666666666666, \"#ed7953\"], [0.7777777777777778, \"#fb9f3a\"], [0.8888888888888888, \"#fdca26\"], [1.0, \"#f0f921\"]], \"type\": \"surface\"}], \"table\": [{\"cells\": {\"fill\": {\"color\": \"#EBF0F8\"}, \"line\": {\"color\": \"white\"}}, \"header\": {\"fill\": {\"color\": \"#C8D4E3\"}, \"line\": {\"color\": \"white\"}}, \"type\": \"table\"}]}, \"layout\": {\"annotationdefaults\": {\"arrowcolor\": \"#2a3f5f\", \"arrowhead\": 0, \"arrowwidth\": 1}, \"coloraxis\": {\"colorbar\": {\"outlinewidth\": 0, \"ticks\": \"\"}}, \"colorscale\": {\"diverging\": [[0, \"#8e0152\"], [0.1, \"#c51b7d\"], [0.2, \"#de77ae\"], [0.3, \"#f1b6da\"], [0.4, \"#fde0ef\"], [0.5, \"#f7f7f7\"], [0.6, \"#e6f5d0\"], [0.7, \"#b8e186\"], [0.8, \"#7fbc41\"], [0.9, \"#4d9221\"], [1, \"#276419\"]], \"sequential\": [[0.0, \"#0d0887\"], [0.1111111111111111, \"#46039f\"], [0.2222222222222222, \"#7201a8\"], [0.3333333333333333, \"#9c179e\"], [0.4444444444444444, \"#bd3786\"], [0.5555555555555556, \"#d8576b\"], [0.6666666666666666, \"#ed7953\"], [0.7777777777777778, \"#fb9f3a\"], [0.8888888888888888, \"#fdca26\"], [1.0, \"#f0f921\"]], \"sequentialminus\": [[0.0, \"#0d0887\"], [0.1111111111111111, \"#46039f\"], [0.2222222222222222, \"#7201a8\"], [0.3333333333333333, \"#9c179e\"], [0.4444444444444444, \"#bd3786\"], [0.5555555555555556, \"#d8576b\"], [0.6666666666666666, \"#ed7953\"], [0.7777777777777778, \"#fb9f3a\"], [0.8888888888888888, \"#fdca26\"], [1.0, \"#f0f921\"]]}, \"colorway\": [\"#636efa\", \"#EF553B\", \"#00cc96\", \"#ab63fa\", \"#FFA15A\", \"#19d3f3\", \"#FF6692\", \"#B6E880\", \"#FF97FF\", \"#FECB52\"], \"font\": {\"color\": \"#2a3f5f\"}, \"geo\": {\"bgcolor\": \"white\", \"lakecolor\": \"white\", \"landcolor\": \"white\", \"showlakes\": true, \"showland\": true, \"subunitcolor\": \"#C8D4E3\"}, \"hoverlabel\": {\"align\": \"left\"}, \"hovermode\": \"closest\", \"mapbox\": {\"style\": \"light\"}, \"paper_bgcolor\": \"white\", \"plot_bgcolor\": \"white\", \"polar\": {\"angularaxis\": {\"gridcolor\": \"#EBF0F8\", \"linecolor\": \"#EBF0F8\", \"ticks\": \"\"}, \"bgcolor\": \"white\", \"radialaxis\": {\"gridcolor\": \"#EBF0F8\", \"linecolor\": \"#EBF0F8\", \"ticks\": \"\"}}, \"scene\": {\"xaxis\": {\"backgroundcolor\": \"white\", \"gridcolor\": \"#DFE8F3\", \"gridwidth\": 2, \"linecolor\": \"#EBF0F8\", \"showbackground\": true, \"ticks\": \"\", \"zerolinecolor\": \"#EBF0F8\"}, \"yaxis\": {\"backgroundcolor\": \"white\", \"gridcolor\": \"#DFE8F3\", \"gridwidth\": 2, \"linecolor\": \"#EBF0F8\", \"showbackground\": true, \"ticks\": \"\", \"zerolinecolor\": \"#EBF0F8\"}, \"zaxis\": {\"backgroundcolor\": \"white\", \"gridcolor\": \"#DFE8F3\", \"gridwidth\": 2, \"linecolor\": \"#EBF0F8\", \"showbackground\": true, \"ticks\": \"\", \"zerolinecolor\": \"#EBF0F8\"}}, \"shapedefaults\": {\"line\": {\"color\": \"#2a3f5f\"}}, \"ternary\": {\"aaxis\": {\"gridcolor\": \"#DFE8F3\", \"linecolor\": \"#A2B1C6\", \"ticks\": \"\"}, \"baxis\": {\"gridcolor\": \"#DFE8F3\", \"linecolor\": \"#A2B1C6\", \"ticks\": \"\"}, \"bgcolor\": \"white\", \"caxis\": {\"gridcolor\": \"#DFE8F3\", \"linecolor\": \"#A2B1C6\", \"ticks\": \"\"}}, \"title\": {\"x\": 0.05}, \"xaxis\": {\"automargin\": true, \"gridcolor\": \"#EBF0F8\", \"linecolor\": \"#EBF0F8\", \"ticks\": \"\", \"title\": {\"standoff\": 15}, \"zerolinecolor\": \"#EBF0F8\", \"zerolinewidth\": 2}, \"yaxis\": {\"automargin\": true, \"gridcolor\": \"#EBF0F8\", \"linecolor\": \"#EBF0F8\", \"ticks\": \"\", \"title\": {\"standoff\": 15}, \"zerolinecolor\": \"#EBF0F8\", \"zerolinewidth\": 2}}}, \"title\": {\"text\": \"Sentiment Evolution over Time (CARLS JR)\"}},\n",
       "                        {\"showLink\": true, \"linkText\": \"Export to plot.ly\", \"plotlyServerURL\": \"https://plot.ly\", \"responsive\": true}\n",
       "                    ).then(function(){\n",
       "                            \n",
       "var gd = document.getElementById('3258e299-14b8-4e8a-832f-26f552ebda94');\n",
       "var x = new MutationObserver(function (mutations, observer) {{\n",
       "        var display = window.getComputedStyle(gd).display;\n",
       "        if (!display || display === 'none') {{\n",
       "            console.log([gd, 'removed!']);\n",
       "            Plotly.purge(gd);\n",
       "            observer.disconnect();\n",
       "        }}\n",
       "}});\n",
       "\n",
       "// Listen for the removal of the full notebook cells\n",
       "var notebookContainer = gd.closest('#notebook-container');\n",
       "if (notebookContainer) {{\n",
       "    x.observe(notebookContainer, {childList: true});\n",
       "}}\n",
       "\n",
       "// Listen for the clearing of the current output cell\n",
       "var outputEl = gd.closest('.output');\n",
       "if (outputEl) {{\n",
       "    x.observe(outputEl, {childList: true});\n",
       "}}\n",
       "\n",
       "                        })\n",
       "                };\n",
       "                });\n",
       "            </script>\n",
       "        </div>"
      ]
     },
     "metadata": {},
     "output_type": "display_data"
    }
   ],
   "source": [
    "sentiment_over_time(reviews_big, ['postino arcadia', 'carls jr'], 'A')"
   ]
  },
  {
   "cell_type": "markdown",
   "metadata": {},
   "source": [
    "We can clearly see the importance of time series analysis for the two businesses!"
   ]
  },
  {
   "cell_type": "markdown",
   "metadata": {},
   "source": [
    "We can also spot long term trends  using a moving average plot"
   ]
  },
  {
   "cell_type": "code",
   "execution_count": 36,
   "metadata": {},
   "outputs": [
    {
     "data": {
      "application/vnd.plotly.v1+json": {
       "config": {
        "linkText": "Export to plot.ly",
        "plotlyServerURL": "https://plot.ly",
        "showLink": true
       },
       "data": [
        {
         "line": {
          "color": "rgba(55, 128, 191, 1.0)",
          "dash": "solid",
          "shape": "linear",
          "width": 1.3
         },
         "mode": "lines",
         "name": "stars",
         "text": "",
         "type": "scatter",
         "x": [
          "2010-06-19",
          "2010-07-04",
          "2010-07-16",
          "2010-07-26",
          "2010-07-27",
          "2010-07-27",
          "2010-07-29",
          "2010-08-09",
          "2010-08-15",
          "2010-09-02",
          "2010-10-03",
          "2010-10-11",
          "2010-10-15",
          "2010-10-16",
          "2010-10-18",
          "2010-10-23",
          "2010-11-04",
          "2010-11-22",
          "2010-11-22",
          "2010-11-24",
          "2010-11-25",
          "2010-11-28",
          "2010-11-28",
          "2010-12-08",
          "2010-12-27",
          "2011-01-25",
          "2011-02-25",
          "2011-02-28",
          "2011-03-01",
          "2011-03-01",
          "2011-03-05",
          "2011-03-08",
          "2011-03-10",
          "2011-03-11",
          "2011-03-23",
          "2011-03-26",
          "2011-04-07",
          "2011-04-14",
          "2011-04-15",
          "2011-04-18",
          "2011-05-03",
          "2011-05-15",
          "2011-05-21",
          "2011-05-21",
          "2011-06-08",
          "2011-06-08",
          "2011-06-11",
          "2011-06-21",
          "2011-06-26",
          "2011-07-02",
          "2011-07-13",
          "2011-07-16",
          "2011-07-19",
          "2011-08-01",
          "2011-08-04",
          "2011-08-06",
          "2011-08-09",
          "2011-08-13",
          "2011-08-17",
          "2011-09-06",
          "2011-09-09",
          "2011-10-03",
          "2011-10-03",
          "2011-10-05",
          "2011-10-21",
          "2011-11-07",
          "2011-11-19",
          "2011-11-28",
          "2011-11-29",
          "2011-12-14",
          "2012-01-02",
          "2012-01-05",
          "2012-01-06",
          "2012-01-06",
          "2012-01-09",
          "2012-01-14",
          "2012-01-18",
          "2012-01-20",
          "2012-01-25",
          "2012-02-08",
          "2012-02-11",
          "2012-02-21",
          "2012-02-24",
          "2012-02-24",
          "2012-03-01",
          "2012-03-04",
          "2012-03-12",
          "2012-03-12",
          "2012-03-21",
          "2012-03-22",
          "2012-04-07",
          "2012-04-13",
          "2012-04-20",
          "2012-04-28",
          "2012-05-02",
          "2012-05-08",
          "2012-05-12",
          "2012-05-15",
          "2012-05-15",
          "2012-05-21",
          "2012-05-27",
          "2012-06-04",
          "2012-06-11",
          "2012-06-12",
          "2012-06-21",
          "2012-06-25",
          "2012-07-01",
          "2012-07-07",
          "2012-07-13",
          "2012-07-14",
          "2012-07-18",
          "2012-07-22",
          "2012-07-30",
          "2012-08-01",
          "2012-08-05",
          "2012-08-10",
          "2012-08-14",
          "2012-08-14",
          "2012-08-17",
          "2012-08-21",
          "2012-08-25",
          "2012-08-31",
          "2012-09-03",
          "2012-09-05",
          "2012-09-06",
          "2012-09-09",
          "2012-09-11",
          "2012-09-13",
          "2012-09-15",
          "2012-09-16",
          "2012-09-16",
          "2012-09-18",
          "2012-09-22",
          "2012-10-09",
          "2012-10-12",
          "2012-10-13",
          "2012-10-15",
          "2012-10-17",
          "2012-10-22",
          "2012-10-27",
          "2012-10-31",
          "2012-11-04",
          "2012-11-07",
          "2012-11-09",
          "2012-11-18",
          "2012-11-20",
          "2012-11-20",
          "2012-11-24",
          "2012-11-28",
          "2012-12-02",
          "2012-12-03",
          "2012-12-05",
          "2012-12-08",
          "2012-12-11",
          "2012-12-12",
          "2012-12-13",
          "2012-12-18",
          "2012-12-25",
          "2012-12-29",
          "2012-12-30",
          "2012-12-31",
          "2013-01-06",
          "2013-01-06",
          "2013-01-11",
          "2013-01-12",
          "2013-01-13",
          "2013-01-16",
          "2013-01-16",
          "2013-01-21",
          "2013-01-24",
          "2013-01-25",
          "2013-01-25",
          "2013-01-29",
          "2013-01-30",
          "2013-02-07",
          "2013-02-07",
          "2013-02-08",
          "2013-02-10",
          "2013-02-11",
          "2013-02-13",
          "2013-02-13",
          "2013-02-15",
          "2013-02-19",
          "2013-02-20",
          "2013-02-21",
          "2013-02-24",
          "2013-02-25",
          "2013-02-28",
          "2013-03-04",
          "2013-03-04",
          "2013-03-05",
          "2013-03-12",
          "2013-03-17",
          "2013-03-19",
          "2013-03-21",
          "2013-03-22",
          "2013-03-31",
          "2013-04-07",
          "2013-04-09",
          "2013-04-21",
          "2013-04-22",
          "2013-04-23",
          "2013-04-24",
          "2013-04-25",
          "2013-04-26",
          "2013-04-27",
          "2013-04-29",
          "2013-04-29",
          "2013-04-29",
          "2013-05-01",
          "2013-05-04",
          "2013-05-04",
          "2013-05-14",
          "2013-05-14",
          "2013-05-20",
          "2013-05-24",
          "2013-05-25",
          "2013-05-29",
          "2013-06-07",
          "2013-06-08",
          "2013-06-12",
          "2013-06-13",
          "2013-06-15",
          "2013-06-25",
          "2013-06-26",
          "2013-06-29",
          "2013-06-30",
          "2013-07-01",
          "2013-07-02",
          "2013-07-06",
          "2013-07-07",
          "2013-07-10",
          "2013-07-10",
          "2013-07-17",
          "2013-07-19",
          "2013-07-20",
          "2013-07-21",
          "2013-07-23",
          "2013-07-25",
          "2013-07-27",
          "2013-07-28",
          "2013-07-29",
          "2013-07-29",
          "2013-08-12",
          "2013-08-13",
          "2013-08-13",
          "2013-08-15",
          "2013-08-16",
          "2013-08-20",
          "2013-08-20",
          "2013-08-21",
          "2013-08-21",
          "2013-08-23",
          "2013-08-31",
          "2013-09-03",
          "2013-09-03",
          "2013-09-13",
          "2013-09-13",
          "2013-09-14",
          "2013-09-15",
          "2013-09-21",
          "2013-09-22",
          "2013-09-24",
          "2013-09-27",
          "2013-09-28",
          "2013-10-02",
          "2013-10-04",
          "2013-10-04",
          "2013-10-12",
          "2013-10-12",
          "2013-10-12",
          "2013-10-13",
          "2013-10-14",
          "2013-10-15",
          "2013-10-16",
          "2013-10-17",
          "2013-10-17",
          "2013-10-18",
          "2013-10-18",
          "2013-10-21",
          "2013-10-21",
          "2013-10-21",
          "2013-10-23",
          "2013-10-24",
          "2013-10-27",
          "2013-10-28",
          "2013-10-28",
          "2013-11-04",
          "2013-11-05",
          "2013-11-05",
          "2013-11-06",
          "2013-11-06",
          "2013-11-09",
          "2013-11-10",
          "2013-11-10",
          "2013-11-13",
          "2013-11-16",
          "2013-11-18",
          "2013-11-18",
          "2013-11-19",
          "2013-11-20",
          "2013-11-21",
          "2013-11-24",
          "2013-11-25",
          "2013-11-27",
          "2013-11-28",
          "2013-12-02",
          "2013-12-07",
          "2013-12-09",
          "2013-12-09",
          "2013-12-11",
          "2013-12-11",
          "2013-12-13",
          "2013-12-16",
          "2013-12-16",
          "2013-12-16",
          "2013-12-18",
          "2013-12-19",
          "2013-12-20",
          "2013-12-22",
          "2013-12-26",
          "2013-12-28",
          "2013-12-31",
          "2013-12-31",
          "2014-01-02",
          "2014-01-03",
          "2014-01-07",
          "2014-01-08",
          "2014-01-09",
          "2014-01-11",
          "2014-01-13",
          "2014-01-18",
          "2014-01-19",
          "2014-01-25",
          "2014-01-25",
          "2014-01-26",
          "2014-01-27",
          "2014-01-27",
          "2014-01-31",
          "2014-01-31",
          "2014-02-02",
          "2014-02-05",
          "2014-02-06",
          "2014-02-06",
          "2014-02-08",
          "2014-02-09",
          "2014-02-14",
          "2014-02-14",
          "2014-02-16",
          "2014-02-16",
          "2014-02-18",
          "2014-02-20",
          "2014-02-23",
          "2014-02-23",
          "2014-02-26",
          "2014-02-27",
          "2014-02-28",
          "2014-03-03",
          "2014-03-05",
          "2014-03-06",
          "2014-03-06",
          "2014-03-06",
          "2014-03-09",
          "2014-03-11",
          "2014-03-11",
          "2014-03-11",
          "2014-03-12",
          "2014-03-12",
          "2014-03-15",
          "2014-03-15",
          "2014-03-16",
          "2014-03-19",
          "2014-03-20",
          "2014-03-20",
          "2014-03-24",
          "2014-03-24",
          "2014-03-25",
          "2014-03-26",
          "2014-03-29",
          "2014-03-30",
          "2014-03-31",
          "2014-04-02",
          "2014-04-04",
          "2014-04-06",
          "2014-04-08",
          "2014-04-08",
          "2014-04-08",
          "2014-04-10",
          "2014-04-13",
          "2014-04-14",
          "2014-04-20",
          "2014-04-21",
          "2014-04-21",
          "2014-04-22",
          "2014-04-22",
          "2014-04-24",
          "2014-04-25",
          "2014-04-26",
          "2014-04-27",
          "2014-04-29",
          "2014-04-30",
          "2014-05-01",
          "2014-05-01",
          "2014-05-03",
          "2014-05-06",
          "2014-05-06",
          "2014-05-06",
          "2014-05-07",
          "2014-05-07",
          "2014-05-08",
          "2014-05-12",
          "2014-05-13",
          "2014-05-14",
          "2014-05-14",
          "2014-05-14",
          "2014-05-19",
          "2014-05-19",
          "2014-05-21",
          "2014-05-22",
          "2014-05-22",
          "2014-05-24",
          "2014-05-25",
          "2014-05-25",
          "2014-05-26",
          "2014-05-29",
          "2014-05-30",
          "2014-05-31",
          "2014-05-31",
          "2014-06-04",
          "2014-06-05",
          "2014-06-06",
          "2014-06-09",
          "2014-06-12",
          "2014-06-12",
          "2014-06-12",
          "2014-06-15",
          "2014-06-15",
          "2014-06-17",
          "2014-06-23",
          "2014-06-24",
          "2014-06-26",
          "2014-07-01",
          "2014-07-01",
          "2014-07-06",
          "2014-07-09",
          "2014-07-11",
          "2014-07-11",
          "2014-07-13",
          "2014-07-14",
          "2014-07-15",
          "2014-07-16",
          "2014-07-16",
          "2014-07-17",
          "2014-07-17",
          "2014-07-20",
          "2014-07-20",
          "2014-07-23",
          "2014-07-23",
          "2014-07-24",
          "2014-07-26",
          "2014-07-28",
          "2014-07-28",
          "2014-07-30",
          "2014-07-30",
          "2014-07-31",
          "2014-08-02",
          "2014-08-02",
          "2014-08-04",
          "2014-08-05",
          "2014-08-06",
          "2014-08-07",
          "2014-08-08",
          "2014-08-08",
          "2014-08-08",
          "2014-08-09",
          "2014-08-10",
          "2014-08-13",
          "2014-08-14",
          "2014-08-14",
          "2014-08-16",
          "2014-08-17",
          "2014-08-17",
          "2014-08-17",
          "2014-08-18",
          "2014-08-18",
          "2014-08-22",
          "2014-08-22",
          "2014-08-22",
          "2014-08-23",
          "2014-08-23",
          "2014-08-24",
          "2014-08-24",
          "2014-08-25",
          "2014-08-26",
          "2014-08-26",
          "2014-08-26",
          "2014-08-27",
          "2014-08-29",
          "2014-08-30",
          "2014-08-30",
          "2014-09-01",
          "2014-09-05",
          "2014-09-05",
          "2014-09-06",
          "2014-09-08",
          "2014-09-09",
          "2014-09-10",
          "2014-09-12",
          "2014-09-13",
          "2014-09-13",
          "2014-09-17",
          "2014-09-17",
          "2014-09-18",
          "2014-09-19",
          "2014-09-25",
          "2014-09-26",
          "2014-09-27",
          "2014-09-28",
          "2014-09-29",
          "2014-09-30",
          "2014-10-01",
          "2014-10-05",
          "2014-10-06",
          "2014-10-06",
          "2014-10-08",
          "2014-10-09",
          "2014-10-10",
          "2014-10-11",
          "2014-10-11",
          "2014-10-15",
          "2014-10-16",
          "2014-10-17",
          "2014-10-17",
          "2014-10-19",
          "2014-10-21",
          "2014-10-23",
          "2014-10-23",
          "2014-10-23",
          "2014-10-23",
          "2014-10-24",
          "2014-10-24",
          "2014-10-25",
          "2014-10-26",
          "2014-10-29",
          "2014-10-29",
          "2014-10-29",
          "2014-10-30",
          "2014-11-01",
          "2014-11-05",
          "2014-11-06",
          "2014-11-06",
          "2014-11-10",
          "2014-11-11",
          "2014-11-11",
          "2014-11-15",
          "2014-11-17",
          "2014-11-19",
          "2014-11-21",
          "2014-11-21",
          "2014-11-22",
          "2014-11-23",
          "2014-11-24",
          "2014-11-24",
          "2014-11-24",
          "2014-11-25",
          "2014-11-29",
          "2014-12-01",
          "2014-12-05",
          "2014-12-05",
          "2014-12-07",
          "2014-12-08",
          "2014-12-08",
          "2014-12-18",
          "2014-12-21",
          "2014-12-21",
          "2014-12-22",
          "2014-12-22",
          "2014-12-23",
          "2014-12-25",
          "2014-12-27",
          "2014-12-29",
          "2015-01-01",
          "2015-01-03",
          "2015-01-04",
          "2015-01-05",
          "2015-01-07",
          "2015-01-07",
          "2015-01-08",
          "2015-01-08",
          "2015-01-10",
          "2015-01-11",
          "2015-01-12",
          "2015-01-13",
          "2015-01-14",
          "2015-01-15",
          "2015-01-17",
          "2015-01-19",
          "2015-01-19",
          "2015-01-19",
          "2015-01-19",
          "2015-01-20",
          "2015-01-21",
          "2015-01-23",
          "2015-01-25",
          "2015-01-25",
          "2015-01-25",
          "2015-01-25",
          "2015-01-26",
          "2015-01-27",
          "2015-01-27",
          "2015-01-29",
          "2015-01-29",
          "2015-02-03",
          "2015-02-03",
          "2015-02-05",
          "2015-02-06",
          "2015-02-08",
          "2015-02-09",
          "2015-02-10",
          "2015-02-10",
          "2015-02-10",
          "2015-02-14",
          "2015-02-16",
          "2015-02-18",
          "2015-02-19",
          "2015-02-22",
          "2015-02-22",
          "2015-02-22",
          "2015-02-23",
          "2015-02-23",
          "2015-02-26",
          "2015-02-26",
          "2015-02-26",
          "2015-02-26",
          "2015-02-26",
          "2015-02-28",
          "2015-03-02",
          "2015-03-03",
          "2015-03-04",
          "2015-03-04",
          "2015-03-05",
          "2015-03-07",
          "2015-03-07",
          "2015-03-09",
          "2015-03-09",
          "2015-03-09",
          "2015-03-10",
          "2015-03-13",
          "2015-03-15",
          "2015-03-18",
          "2015-03-18",
          "2015-03-20",
          "2015-03-20",
          "2015-03-21",
          "2015-03-22",
          "2015-03-23",
          "2015-03-24",
          "2015-03-26",
          "2015-03-26",
          "2015-03-28",
          "2015-03-29",
          "2015-03-29",
          "2015-03-31",
          "2015-03-31",
          "2015-04-01",
          "2015-04-02",
          "2015-04-02",
          "2015-04-04",
          "2015-04-04",
          "2015-04-05",
          "2015-04-08",
          "2015-04-08",
          "2015-04-09",
          "2015-04-11",
          "2015-04-11",
          "2015-04-12",
          "2015-04-13",
          "2015-04-13",
          "2015-04-14",
          "2015-04-14",
          "2015-04-15",
          "2015-04-16",
          "2015-04-16",
          "2015-04-16",
          "2015-04-16",
          "2015-04-16",
          "2015-04-18",
          "2015-04-19",
          "2015-04-19",
          "2015-04-19",
          "2015-04-20",
          "2015-04-20",
          "2015-04-21",
          "2015-04-21",
          "2015-04-22",
          "2015-04-22",
          "2015-04-23",
          "2015-04-24",
          "2015-04-24",
          "2015-04-25",
          "2015-04-26",
          "2015-04-26",
          "2015-04-26",
          "2015-04-27",
          "2015-04-27",
          "2015-04-27",
          "2015-04-27",
          "2015-04-29",
          "2015-04-30",
          "2015-05-01",
          "2015-05-02",
          "2015-05-03",
          "2015-05-04",
          "2015-05-04",
          "2015-05-04",
          "2015-05-05",
          "2015-05-06",
          "2015-05-07",
          "2015-05-08",
          "2015-05-11",
          "2015-05-12",
          "2015-05-13",
          "2015-05-15",
          "2015-05-16",
          "2015-05-16",
          "2015-05-16",
          "2015-05-17",
          "2015-05-17",
          "2015-05-17",
          "2015-05-17",
          "2015-05-18",
          "2015-05-21",
          "2015-05-21",
          "2015-05-21",
          "2015-05-22",
          "2015-05-25",
          "2015-05-26",
          "2015-05-26",
          "2015-05-27",
          "2015-05-27",
          "2015-05-28",
          "2015-05-28",
          "2015-05-28",
          "2015-05-28",
          "2015-05-29",
          "2015-05-30",
          "2015-06-01",
          "2015-06-01",
          "2015-06-04",
          "2015-06-04",
          "2015-06-05",
          "2015-06-05",
          "2015-06-06",
          "2015-06-09",
          "2015-06-09",
          "2015-06-10",
          "2015-06-10",
          "2015-06-10",
          "2015-06-11",
          "2015-06-12",
          "2015-06-12",
          "2015-06-12",
          "2015-06-12",
          "2015-06-12",
          "2015-06-13",
          "2015-06-15",
          "2015-06-15",
          "2015-06-16",
          "2015-06-16",
          "2015-06-17",
          "2015-06-18",
          "2015-06-18",
          "2015-06-19",
          "2015-06-22",
          "2015-06-23",
          "2015-06-23",
          "2015-06-23",
          "2015-06-26",
          "2015-06-26",
          "2015-06-27",
          "2015-06-29",
          "2015-06-30",
          "2015-07-01",
          "2015-07-01",
          "2015-07-01",
          "2015-07-02",
          "2015-07-02",
          "2015-07-02",
          "2015-07-03",
          "2015-07-03",
          "2015-07-03",
          "2015-07-05",
          "2015-07-05",
          "2015-07-05",
          "2015-07-08",
          "2015-07-08",
          "2015-07-09",
          "2015-07-09",
          "2015-07-09",
          "2015-07-13",
          "2015-07-13",
          "2015-07-13",
          "2015-07-13",
          "2015-07-14",
          "2015-07-14",
          "2015-07-14",
          "2015-07-16",
          "2015-07-16",
          "2015-07-16",
          "2015-07-17",
          "2015-07-17",
          "2015-07-17",
          "2015-07-17",
          "2015-07-19",
          "2015-07-20",
          "2015-07-20",
          "2015-07-20",
          "2015-07-20",
          "2015-07-21",
          "2015-07-21",
          "2015-07-22",
          "2015-07-22",
          "2015-07-23",
          "2015-07-23",
          "2015-07-24",
          "2015-07-25",
          "2015-07-26",
          "2015-07-27",
          "2015-07-27",
          "2015-07-30",
          "2015-07-31",
          "2015-07-31",
          "2015-07-31",
          "2015-07-31",
          "2015-07-31",
          "2015-08-01",
          "2015-08-01",
          "2015-08-01",
          "2015-08-01",
          "2015-08-03",
          "2015-08-03",
          "2015-08-03",
          "2015-08-05",
          "2015-08-05",
          "2015-08-06",
          "2015-08-06",
          "2015-08-07",
          "2015-08-08",
          "2015-08-08",
          "2015-08-10",
          "2015-08-10",
          "2015-08-11",
          "2015-08-11",
          "2015-08-11",
          "2015-08-13",
          "2015-08-14",
          "2015-08-14",
          "2015-08-14",
          "2015-08-16",
          "2015-08-16",
          "2015-08-17",
          "2015-08-19",
          "2015-08-20",
          "2015-08-21",
          "2015-08-23",
          "2015-08-24",
          "2015-08-25",
          "2015-08-26",
          "2015-08-26",
          "2015-08-26",
          "2015-08-26",
          "2015-08-26",
          "2015-08-28",
          "2015-08-31",
          "2015-08-31",
          "2015-08-31",
          "2015-09-01",
          "2015-09-01",
          "2015-09-01",
          "2015-09-03",
          "2015-09-03",
          "2015-09-04",
          "2015-09-05",
          "2015-09-05",
          "2015-09-05",
          "2015-09-05",
          "2015-09-06",
          "2015-09-09",
          "2015-09-10",
          "2015-09-11",
          "2015-09-12",
          "2015-09-12",
          "2015-09-13",
          "2015-09-14",
          "2015-09-15",
          "2015-09-17",
          "2015-09-18",
          "2015-09-18",
          "2015-09-18",
          "2015-09-20",
          "2015-09-21",
          "2015-09-21",
          "2015-09-22",
          "2015-09-23",
          "2015-09-23",
          "2015-09-23",
          "2015-09-25",
          "2015-09-26",
          "2015-09-27",
          "2015-09-28",
          "2015-09-28",
          "2015-09-28",
          "2015-09-30",
          "2015-09-30",
          "2015-09-30",
          "2015-10-02",
          "2015-10-02",
          "2015-10-03",
          "2015-10-03",
          "2015-10-03",
          "2015-10-04",
          "2015-10-05",
          "2015-10-06",
          "2015-10-07",
          "2015-10-09",
          "2015-10-10",
          "2015-10-10",
          "2015-10-12",
          "2015-10-12",
          "2015-10-13",
          "2015-10-14",
          "2015-10-15",
          "2015-10-16",
          "2015-10-16",
          "2015-10-18",
          "2015-10-18",
          "2015-10-18",
          "2015-10-18",
          "2015-10-18",
          "2015-10-19",
          "2015-10-19",
          "2015-10-20",
          "2015-10-20",
          "2015-10-21",
          "2015-10-21",
          "2015-10-24",
          "2015-10-25",
          "2015-10-25",
          "2015-10-26",
          "2015-10-27",
          "2015-10-27",
          "2015-10-28",
          "2015-10-28",
          "2015-10-30",
          "2015-10-30",
          "2015-10-30",
          "2015-11-03",
          "2015-11-03",
          "2015-11-04",
          "2015-11-04",
          "2015-11-06",
          "2015-11-06",
          "2015-11-07",
          "2015-11-07",
          "2015-11-08",
          "2015-11-08",
          "2015-11-09",
          "2015-11-09",
          "2015-11-10",
          "2015-11-10",
          "2015-11-11",
          "2015-11-11",
          "2015-11-13",
          "2015-11-15",
          "2015-11-16",
          "2015-11-18",
          "2015-11-19",
          "2015-11-20",
          "2015-11-20",
          "2015-11-22",
          "2015-11-22",
          "2015-11-23",
          "2015-11-23",
          "2015-11-23",
          "2015-11-24",
          "2015-11-26",
          "2015-11-26",
          "2015-12-01",
          "2015-12-02",
          "2015-12-04",
          "2015-12-06",
          "2015-12-07",
          "2015-12-07",
          "2015-12-08",
          "2015-12-08",
          "2015-12-08",
          "2015-12-09",
          "2015-12-09",
          "2015-12-10",
          "2015-12-12",
          "2015-12-12",
          "2015-12-12",
          "2015-12-13",
          "2015-12-13",
          "2015-12-14",
          "2015-12-15",
          "2015-12-15",
          "2015-12-16",
          "2015-12-17",
          "2015-12-18",
          "2015-12-19",
          "2015-12-19",
          "2015-12-20",
          "2015-12-20",
          "2015-12-21",
          "2015-12-22",
          "2015-12-23",
          "2015-12-23",
          "2015-12-24",
          "2015-12-25",
          "2015-12-25",
          "2015-12-29",
          "2015-12-31",
          "2015-12-31",
          "2015-12-31",
          "2015-12-31",
          "2016-01-03",
          "2016-01-03",
          "2016-01-04",
          "2016-01-05",
          "2016-01-05",
          "2016-01-05",
          "2016-01-05",
          "2016-01-06",
          "2016-01-06",
          "2016-01-08",
          "2016-01-08",
          "2016-01-10",
          "2016-01-11",
          "2016-01-11",
          "2016-01-11",
          "2016-01-12",
          "2016-01-12",
          "2016-01-13",
          "2016-01-13",
          "2016-01-13",
          "2016-01-13",
          "2016-01-14",
          "2016-01-14",
          "2016-01-14",
          "2016-01-16",
          "2016-01-17",
          "2016-01-17",
          "2016-01-17",
          "2016-01-18",
          "2016-01-18",
          "2016-01-20",
          "2016-01-20",
          "2016-01-21",
          "2016-01-21",
          "2016-01-22",
          "2016-01-23",
          "2016-01-24",
          "2016-01-26",
          "2016-01-26",
          "2016-01-27",
          "2016-01-28",
          "2016-01-28",
          "2016-01-29",
          "2016-01-29",
          "2016-01-30",
          "2016-01-31",
          "2016-02-02",
          "2016-02-03",
          "2016-02-04",
          "2016-02-04",
          "2016-02-06",
          "2016-02-06",
          "2016-02-07",
          "2016-02-07",
          "2016-02-08",
          "2016-02-08",
          "2016-02-08",
          "2016-02-08",
          "2016-02-09",
          "2016-02-09",
          "2016-02-09",
          "2016-02-10",
          "2016-02-11",
          "2016-02-11",
          "2016-02-12",
          "2016-02-13",
          "2016-02-14",
          "2016-02-17",
          "2016-02-18",
          "2016-02-19",
          "2016-02-20",
          "2016-02-20",
          "2016-02-21",
          "2016-02-21",
          "2016-02-21",
          "2016-02-21",
          "2016-02-21",
          "2016-02-24",
          "2016-02-25",
          "2016-02-25",
          "2016-02-26",
          "2016-02-26",
          "2016-02-27",
          "2016-02-27",
          "2016-02-27",
          "2016-02-28",
          "2016-02-28",
          "2016-02-29",
          "2016-02-29",
          "2016-02-29",
          "2016-03-01",
          "2016-03-01",
          "2016-03-01",
          "2016-03-02",
          "2016-03-03",
          "2016-03-03",
          "2016-03-06",
          "2016-03-08",
          "2016-03-08",
          "2016-03-08",
          "2016-03-11",
          "2016-03-11",
          "2016-03-12",
          "2016-03-12",
          "2016-03-13",
          "2016-03-13",
          "2016-03-13",
          "2016-03-14",
          "2016-03-14",
          "2016-03-14",
          "2016-03-16",
          "2016-03-19",
          "2016-03-19",
          "2016-03-19",
          "2016-03-21",
          "2016-03-21",
          "2016-03-23",
          "2016-03-24",
          "2016-03-25",
          "2016-03-26",
          "2016-03-26",
          "2016-03-26",
          "2016-03-27",
          "2016-03-29",
          "2016-03-30",
          "2016-03-30",
          "2016-03-31",
          "2016-04-02",
          "2016-04-02",
          "2016-04-03",
          "2016-04-04",
          "2016-04-04",
          "2016-04-04",
          "2016-04-04",
          "2016-04-05",
          "2016-04-06",
          "2016-04-07",
          "2016-04-07",
          "2016-04-10",
          "2016-04-11",
          "2016-04-13",
          "2016-04-13",
          "2016-04-13",
          "2016-04-13",
          "2016-04-14",
          "2016-04-15",
          "2016-04-16",
          "2016-04-17",
          "2016-04-18",
          "2016-04-18",
          "2016-04-19",
          "2016-04-19",
          "2016-04-21",
          "2016-04-21",
          "2016-04-21",
          "2016-04-22",
          "2016-04-22",
          "2016-04-23",
          "2016-04-24",
          "2016-04-26",
          "2016-04-26",
          "2016-04-27",
          "2016-04-27",
          "2016-04-28",
          "2016-04-29",
          "2016-04-29",
          "2016-04-29",
          "2016-05-01",
          "2016-05-02",
          "2016-05-02",
          "2016-05-02",
          "2016-05-04",
          "2016-05-04",
          "2016-05-05",
          "2016-05-05",
          "2016-05-05",
          "2016-05-05",
          "2016-05-06",
          "2016-05-06",
          "2016-05-06",
          "2016-05-07",
          "2016-05-08",
          "2016-05-09",
          "2016-05-10",
          "2016-05-11",
          "2016-05-13",
          "2016-05-13",
          "2016-05-14",
          "2016-05-16",
          "2016-05-16",
          "2016-05-17",
          "2016-05-17",
          "2016-05-18",
          "2016-05-19",
          "2016-05-20",
          "2016-05-22",
          "2016-05-24",
          "2016-05-24",
          "2016-05-25",
          "2016-05-25",
          "2016-05-25",
          "2016-05-25",
          "2016-05-26",
          "2016-05-27",
          "2016-05-28",
          "2016-05-29",
          "2016-05-29",
          "2016-06-01",
          "2016-06-01",
          "2016-06-02",
          "2016-06-02",
          "2016-06-03",
          "2016-06-04",
          "2016-06-05",
          "2016-06-05",
          "2016-06-06",
          "2016-06-07",
          "2016-06-08",
          "2016-06-09",
          "2016-06-09",
          "2016-06-09",
          "2016-06-09",
          "2016-06-10",
          "2016-06-10",
          "2016-06-10",
          "2016-06-11",
          "2016-06-11",
          "2016-06-11",
          "2016-06-12",
          "2016-06-14",
          "2016-06-14",
          "2016-06-14",
          "2016-06-16",
          "2016-06-17",
          "2016-06-17",
          "2016-06-17",
          "2016-06-20",
          "2016-06-21",
          "2016-06-22",
          "2016-06-23",
          "2016-06-23",
          "2016-06-23",
          "2016-06-25",
          "2016-06-25",
          "2016-06-25",
          "2016-06-25",
          "2016-06-27",
          "2016-06-27",
          "2016-06-29",
          "2016-06-30",
          "2016-06-30",
          "2016-06-30",
          "2016-07-01",
          "2016-07-01",
          "2016-07-01",
          "2016-07-01",
          "2016-07-02",
          "2016-07-03",
          "2016-07-03",
          "2016-07-03",
          "2016-07-04",
          "2016-07-09",
          "2016-07-10",
          "2016-07-10",
          "2016-07-10",
          "2016-07-10",
          "2016-07-10",
          "2016-07-11",
          "2016-07-11",
          "2016-07-11",
          "2016-07-11",
          "2016-07-11",
          "2016-07-13",
          "2016-07-15",
          "2016-07-15",
          "2016-07-16",
          "2016-07-17",
          "2016-07-17",
          "2016-07-17",
          "2016-07-17",
          "2016-07-17",
          "2016-07-19",
          "2016-07-19",
          "2016-07-19",
          "2016-07-20",
          "2016-07-20",
          "2016-07-20",
          "2016-07-21",
          "2016-07-21",
          "2016-07-22",
          "2016-07-22",
          "2016-07-22",
          "2016-07-23",
          "2016-07-23",
          "2016-07-23",
          "2016-07-24",
          "2016-07-26",
          "2016-07-26",
          "2016-07-26",
          "2016-07-28",
          "2016-07-29",
          "2016-07-29",
          "2016-07-29",
          "2016-07-30",
          "2016-07-30",
          "2016-07-30",
          "2016-07-30",
          "2016-07-31",
          "2016-07-31",
          "2016-08-01",
          "2016-08-01",
          "2016-08-01",
          "2016-08-01",
          "2016-08-02",
          "2016-08-03",
          "2016-08-03",
          "2016-08-04",
          "2016-08-04",
          "2016-08-05",
          "2016-08-06",
          "2016-08-06",
          "2016-08-10",
          "2016-08-11",
          "2016-08-11",
          "2016-08-12",
          "2016-08-14",
          "2016-08-14",
          "2016-08-14",
          "2016-08-14",
          "2016-08-15",
          "2016-08-15",
          "2016-08-15",
          "2016-08-16",
          "2016-08-16",
          "2016-08-16",
          "2016-08-16",
          "2016-08-18",
          "2016-08-19",
          "2016-08-20",
          "2016-08-21",
          "2016-08-21",
          "2016-08-21",
          "2016-08-22",
          "2016-08-22",
          "2016-08-23",
          "2016-08-23",
          "2016-08-24",
          "2016-08-25",
          "2016-08-26",
          "2016-08-26",
          "2016-08-27",
          "2016-08-27",
          "2016-08-28",
          "2016-08-28",
          "2016-08-29",
          "2016-08-30",
          "2016-08-30",
          "2016-08-31",
          "2016-08-31",
          "2016-09-01",
          "2016-09-01",
          "2016-09-01",
          "2016-09-01",
          "2016-09-02",
          "2016-09-03",
          "2016-09-04",
          "2016-09-05",
          "2016-09-05",
          "2016-09-05",
          "2016-09-07",
          "2016-09-09",
          "2016-09-09",
          "2016-09-09",
          "2016-09-10",
          "2016-09-11",
          "2016-09-11",
          "2016-09-11",
          "2016-09-12",
          "2016-09-13",
          "2016-09-14",
          "2016-09-14",
          "2016-09-16",
          "2016-09-16",
          "2016-09-17",
          "2016-09-17",
          "2016-09-18",
          "2016-09-19",
          "2016-09-19",
          "2016-09-20",
          "2016-09-21",
          "2016-09-22",
          "2016-09-23",
          "2016-09-23",
          "2016-09-24",
          "2016-09-24",
          "2016-09-24",
          "2016-09-25",
          "2016-09-25",
          "2016-09-25",
          "2016-09-25",
          "2016-09-25",
          "2016-09-26",
          "2016-09-26",
          "2016-09-26",
          "2016-09-28",
          "2016-09-29",
          "2016-09-29",
          "2016-10-01",
          "2016-10-02",
          "2016-10-02",
          "2016-10-07",
          "2016-10-08",
          "2016-10-08",
          "2016-10-09",
          "2016-10-10",
          "2016-10-10",
          "2016-10-10",
          "2016-10-11",
          "2016-10-11",
          "2016-10-12",
          "2016-10-13",
          "2016-10-14",
          "2016-10-14",
          "2016-10-14",
          "2016-10-15",
          "2016-10-17",
          "2016-10-17",
          "2016-10-17",
          "2016-10-17",
          "2016-10-19",
          "2016-10-21",
          "2016-10-21",
          "2016-10-22",
          "2016-10-22",
          "2016-10-23",
          "2016-10-24",
          "2016-10-24",
          "2016-10-24",
          "2016-10-24",
          "2016-10-24",
          "2016-10-26",
          "2016-10-26",
          "2016-10-27",
          "2016-10-27",
          "2016-10-28",
          "2016-10-28",
          "2016-10-30",
          "2016-10-30",
          "2016-10-31",
          "2016-10-31",
          "2016-10-31",
          "2016-11-01",
          "2016-11-01",
          "2016-11-02",
          "2016-11-02",
          "2016-11-02",
          "2016-11-02",
          "2016-11-02",
          "2016-11-03",
          "2016-11-03",
          "2016-11-03",
          "2016-11-03",
          "2016-11-03",
          "2016-11-03",
          "2016-11-04",
          "2016-11-04",
          "2016-11-05",
          "2016-11-05",
          "2016-11-05",
          "2016-11-06",
          "2016-11-08",
          "2016-11-08",
          "2016-11-08",
          "2016-11-08",
          "2016-11-10",
          "2016-11-11",
          "2016-11-11",
          "2016-11-11",
          "2016-11-13",
          "2016-11-13",
          "2016-11-14",
          "2016-11-15",
          "2016-11-16",
          "2016-11-16",
          "2016-11-18",
          "2016-11-18",
          "2016-11-18",
          "2016-11-18",
          "2016-11-19",
          "2016-11-20",
          "2016-11-20",
          "2016-11-21",
          "2016-11-21",
          "2016-11-21",
          "2016-11-22",
          "2016-11-22",
          "2016-11-23",
          "2016-11-23",
          "2016-11-24",
          "2016-11-24",
          "2016-11-25",
          "2016-11-26",
          "2016-11-26",
          "2016-11-27",
          "2016-11-27",
          "2016-11-27",
          "2016-11-29",
          "2016-11-30",
          "2016-11-30",
          "2016-11-30",
          "2016-12-01",
          "2016-12-02",
          "2016-12-04",
          "2016-12-05",
          "2016-12-06",
          "2016-12-07",
          "2016-12-07",
          "2016-12-07",
          "2016-12-07",
          "2016-12-08",
          "2016-12-09",
          "2016-12-09",
          "2016-12-10",
          "2016-12-11",
          "2016-12-12",
          "2016-12-12",
          "2016-12-13",
          "2016-12-14",
          "2016-12-16",
          "2016-12-16",
          "2016-12-16",
          "2016-12-17",
          "2016-12-18",
          "2016-12-18",
          "2016-12-18",
          "2016-12-19",
          "2016-12-19",
          "2016-12-19",
          "2016-12-20",
          "2016-12-20",
          "2016-12-20",
          "2016-12-21",
          "2016-12-22",
          "2016-12-22",
          "2016-12-22",
          "2016-12-23",
          "2016-12-23",
          "2016-12-24",
          "2016-12-24",
          "2016-12-26",
          "2016-12-26",
          "2016-12-28",
          "2017-01-01",
          "2017-01-01",
          "2017-01-01",
          "2017-01-01",
          "2017-01-02",
          "2017-01-03",
          "2017-01-05",
          "2017-01-05",
          "2017-01-05",
          "2017-01-06",
          "2017-01-06",
          "2017-01-07",
          "2017-01-08",
          "2017-01-08",
          "2017-01-09",
          "2017-01-09",
          "2017-01-09",
          "2017-01-11",
          "2017-01-11",
          "2017-01-13",
          "2017-01-13",
          "2017-01-14",
          "2017-01-15",
          "2017-01-15",
          "2017-01-16",
          "2017-01-16",
          "2017-01-16",
          "2017-01-17",
          "2017-01-17",
          "2017-01-18",
          "2017-01-18",
          "2017-01-18",
          "2017-01-19",
          "2017-01-19",
          "2017-01-21",
          "2017-01-21",
          "2017-01-23",
          "2017-01-23",
          "2017-01-24",
          "2017-01-24",
          "2017-01-25",
          "2017-01-26",
          "2017-01-26",
          "2017-01-27",
          "2017-01-28",
          "2017-01-29",
          "2017-01-29",
          "2017-01-30",
          "2017-01-31",
          "2017-01-31",
          "2017-01-31",
          "2017-02-01",
          "2017-02-01",
          "2017-02-02",
          "2017-02-02",
          "2017-02-03",
          "2017-02-04",
          "2017-02-04",
          "2017-02-04",
          "2017-02-06",
          "2017-02-06",
          "2017-02-07",
          "2017-02-08",
          "2017-02-08",
          "2017-02-08",
          "2017-02-09",
          "2017-02-09",
          "2017-02-10",
          "2017-02-10",
          "2017-02-11",
          "2017-02-12",
          "2017-02-12",
          "2017-02-12",
          "2017-02-14",
          "2017-02-14",
          "2017-02-15",
          "2017-02-16",
          "2017-02-16",
          "2017-02-17",
          "2017-02-18",
          "2017-02-19",
          "2017-02-19",
          "2017-02-19",
          "2017-02-19",
          "2017-02-20",
          "2017-02-20",
          "2017-02-20",
          "2017-02-21",
          "2017-02-22",
          "2017-02-23",
          "2017-02-24",
          "2017-02-24",
          "2017-02-24",
          "2017-02-26",
          "2017-02-26",
          "2017-02-27",
          "2017-02-27",
          "2017-02-27",
          "2017-02-28",
          "2017-03-01",
          "2017-03-01",
          "2017-03-03",
          "2017-03-04",
          "2017-03-04",
          "2017-03-05",
          "2017-03-05",
          "2017-03-06",
          "2017-03-06",
          "2017-03-07",
          "2017-03-07",
          "2017-03-08",
          "2017-03-08",
          "2017-03-08",
          "2017-03-09",
          "2017-03-09",
          "2017-03-09",
          "2017-03-11",
          "2017-03-12",
          "2017-03-12",
          "2017-03-13",
          "2017-03-13",
          "2017-03-13",
          "2017-03-13",
          "2017-03-14",
          "2017-03-15",
          "2017-03-15",
          "2017-03-15",
          "2017-03-16",
          "2017-03-16",
          "2017-03-16",
          "2017-03-16",
          "2017-03-16",
          "2017-03-16",
          "2017-03-17",
          "2017-03-17",
          "2017-03-18",
          "2017-03-19",
          "2017-03-20",
          "2017-03-20",
          "2017-03-20",
          "2017-03-22",
          "2017-03-23",
          "2017-03-24",
          "2017-03-24",
          "2017-03-27",
          "2017-03-27",
          "2017-03-27",
          "2017-03-28",
          "2017-03-28",
          "2017-03-28",
          "2017-03-29",
          "2017-03-30",
          "2017-03-30",
          "2017-03-31",
          "2017-04-01",
          "2017-04-03",
          "2017-04-04",
          "2017-04-05",
          "2017-04-05",
          "2017-04-05",
          "2017-04-06",
          "2017-04-07",
          "2017-04-07",
          "2017-04-07",
          "2017-04-08",
          "2017-04-08",
          "2017-04-08",
          "2017-04-09",
          "2017-04-09",
          "2017-04-09",
          "2017-04-09",
          "2017-04-09",
          "2017-04-11",
          "2017-04-11",
          "2017-04-11",
          "2017-04-12",
          "2017-04-12",
          "2017-04-13",
          "2017-04-13",
          "2017-04-13",
          "2017-04-14",
          "2017-04-15",
          "2017-04-15",
          "2017-04-16",
          "2017-04-16",
          "2017-04-16",
          "2017-04-17",
          "2017-04-19",
          "2017-04-19",
          "2017-04-20",
          "2017-04-20",
          "2017-04-20",
          "2017-04-20",
          "2017-04-21",
          "2017-04-21",
          "2017-04-22",
          "2017-04-23",
          "2017-04-23",
          "2017-04-23",
          "2017-04-23",
          "2017-04-24",
          "2017-04-24",
          "2017-04-24",
          "2017-04-25",
          "2017-04-26",
          "2017-04-26",
          "2017-04-26",
          "2017-04-27",
          "2017-04-27",
          "2017-04-27",
          "2017-04-27",
          "2017-04-29",
          "2017-04-29",
          "2017-04-30",
          "2017-05-01",
          "2017-05-01",
          "2017-05-01",
          "2017-05-02",
          "2017-05-02",
          "2017-05-02",
          "2017-05-03",
          "2017-05-03",
          "2017-05-03",
          "2017-05-04",
          "2017-05-05",
          "2017-05-05",
          "2017-05-05",
          "2017-05-07",
          "2017-05-07",
          "2017-05-08",
          "2017-05-09",
          "2017-05-09",
          "2017-05-09",
          "2017-05-10",
          "2017-05-11",
          "2017-05-12",
          "2017-05-12",
          "2017-05-14",
          "2017-05-14",
          "2017-05-14",
          "2017-05-14",
          "2017-05-15",
          "2017-05-15",
          "2017-05-15",
          "2017-05-16",
          "2017-05-16",
          "2017-05-17",
          "2017-05-18",
          "2017-05-18",
          "2017-05-18",
          "2017-05-19",
          "2017-05-20",
          "2017-05-20",
          "2017-05-20",
          "2017-05-21",
          "2017-05-21",
          "2017-05-23",
          "2017-05-25",
          "2017-05-25",
          "2017-05-26",
          "2017-05-26",
          "2017-05-26",
          "2017-05-28",
          "2017-05-29",
          "2017-05-29",
          "2017-05-30",
          "2017-05-30",
          "2017-05-31",
          "2017-05-31",
          "2017-06-01",
          "2017-06-02",
          "2017-06-04",
          "2017-06-04",
          "2017-06-05",
          "2017-06-05",
          "2017-06-06",
          "2017-06-06",
          "2017-06-06",
          "2017-06-06",
          "2017-06-06",
          "2017-06-07",
          "2017-06-07",
          "2017-06-07",
          "2017-06-08",
          "2017-06-08",
          "2017-06-09",
          "2017-06-09",
          "2017-06-10",
          "2017-06-10",
          "2017-06-10",
          "2017-06-11",
          "2017-06-11",
          "2017-06-12",
          "2017-06-13",
          "2017-06-13",
          "2017-06-14",
          "2017-06-14",
          "2017-06-14",
          "2017-06-14",
          "2017-06-14",
          "2017-06-14",
          "2017-06-15",
          "2017-06-15",
          "2017-06-15",
          "2017-06-17",
          "2017-06-18",
          "2017-06-19",
          "2017-06-19",
          "2017-06-20",
          "2017-06-20",
          "2017-06-20",
          "2017-06-21",
          "2017-06-22",
          "2017-06-22",
          "2017-06-23",
          "2017-06-23",
          "2017-06-23",
          "2017-06-24",
          "2017-06-24",
          "2017-06-24",
          "2017-06-25",
          "2017-06-26",
          "2017-06-26",
          "2017-06-26",
          "2017-06-26",
          "2017-06-27",
          "2017-06-27",
          "2017-06-27",
          "2017-06-27",
          "2017-06-28",
          "2017-06-29",
          "2017-06-29",
          "2017-06-29",
          "2017-06-29",
          "2017-06-29",
          "2017-06-29",
          "2017-06-30",
          "2017-06-30",
          "2017-06-30",
          "2017-06-30",
          "2017-07-01",
          "2017-07-01",
          "2017-07-01",
          "2017-07-02",
          "2017-07-02",
          "2017-07-03",
          "2017-07-03",
          "2017-07-04",
          "2017-07-04",
          "2017-07-06",
          "2017-07-07",
          "2017-07-08",
          "2017-07-08",
          "2017-07-09",
          "2017-07-09",
          "2017-07-09",
          "2017-07-09",
          "2017-07-10",
          "2017-07-11",
          "2017-07-11",
          "2017-07-11",
          "2017-07-11",
          "2017-07-12",
          "2017-07-12",
          "2017-07-12",
          "2017-07-13",
          "2017-07-15",
          "2017-07-16",
          "2017-07-16",
          "2017-07-16",
          "2017-07-16",
          "2017-07-16",
          "2017-07-17",
          "2017-07-17",
          "2017-07-17",
          "2017-07-18",
          "2017-07-18",
          "2017-07-18",
          "2017-07-19",
          "2017-07-19",
          "2017-07-21",
          "2017-07-21",
          "2017-07-21",
          "2017-07-22",
          "2017-07-22",
          "2017-07-22",
          "2017-07-22",
          "2017-07-22",
          "2017-07-23",
          "2017-07-23",
          "2017-07-23",
          "2017-07-24",
          "2017-07-24",
          "2017-07-24",
          "2017-07-24",
          "2017-07-25",
          "2017-07-25",
          "2017-07-25",
          "2017-07-26",
          "2017-07-26",
          "2017-07-26",
          "2017-07-27",
          "2017-07-28",
          "2017-07-28",
          "2017-07-28",
          "2017-07-29",
          "2017-07-30",
          "2017-07-30",
          "2017-07-31",
          "2017-07-31",
          "2017-07-31",
          "2017-08-01",
          "2017-08-02",
          "2017-08-02",
          "2017-08-02",
          "2017-08-03",
          "2017-08-04",
          "2017-08-04",
          "2017-08-05",
          "2017-08-05",
          "2017-08-06",
          "2017-08-06",
          "2017-08-07",
          "2017-08-07",
          "2017-08-08",
          "2017-08-08",
          "2017-08-09",
          "2017-08-09",
          "2017-08-10",
          "2017-08-11",
          "2017-08-11",
          "2017-08-11",
          "2017-08-11",
          "2017-08-11",
          "2017-08-11",
          "2017-08-12",
          "2017-08-12",
          "2017-08-13",
          "2017-08-13",
          "2017-08-14",
          "2017-08-14",
          "2017-08-14",
          "2017-08-14",
          "2017-08-16",
          "2017-08-16",
          "2017-08-17",
          "2017-08-18",
          "2017-08-18",
          "2017-08-19",
          "2017-08-20",
          "2017-08-21",
          "2017-08-21",
          "2017-08-21",
          "2017-08-22",
          "2017-08-22",
          "2017-08-22",
          "2017-08-23",
          "2017-08-23",
          "2017-08-23",
          "2017-08-24",
          "2017-08-25",
          "2017-08-25",
          "2017-08-25",
          "2017-08-25",
          "2017-08-26",
          "2017-08-26",
          "2017-08-28",
          "2017-08-29",
          "2017-08-29",
          "2017-08-29",
          "2017-08-29",
          "2017-08-29",
          "2017-08-30",
          "2017-08-30",
          "2017-08-31",
          "2017-08-31",
          "2017-09-01",
          "2017-09-01",
          "2017-09-01",
          "2017-09-02",
          "2017-09-02",
          "2017-09-03",
          "2017-09-04",
          "2017-09-05",
          "2017-09-06",
          "2017-09-06",
          "2017-09-07",
          "2017-09-07",
          "2017-09-08",
          "2017-09-08",
          "2017-09-08",
          "2017-09-10",
          "2017-09-10",
          "2017-09-11",
          "2017-09-13",
          "2017-09-13",
          "2017-09-13",
          "2017-09-14",
          "2017-09-14",
          "2017-09-14",
          "2017-09-15",
          "2017-09-17",
          "2017-09-19",
          "2017-09-19",
          "2017-09-20",
          "2017-09-20",
          "2017-09-21",
          "2017-09-21",
          "2017-09-22",
          "2017-09-22",
          "2017-09-22",
          "2017-09-22",
          "2017-09-22",
          "2017-09-22",
          "2017-09-23",
          "2017-09-23",
          "2017-09-23",
          "2017-09-24",
          "2017-09-27",
          "2017-09-27",
          "2017-09-28",
          "2017-09-28",
          "2017-09-28",
          "2017-09-29",
          "2017-09-30",
          "2017-09-30",
          "2017-10-02",
          "2017-10-02",
          "2017-10-02",
          "2017-10-02",
          "2017-10-03",
          "2017-10-03",
          "2017-10-03",
          "2017-10-05",
          "2017-10-05",
          "2017-10-05",
          "2017-10-05",
          "2017-10-05",
          "2017-10-06",
          "2017-10-06",
          "2017-10-07",
          "2017-10-07",
          "2017-10-07",
          "2017-10-07",
          "2017-10-08",
          "2017-10-09",
          "2017-10-09",
          "2017-10-10",
          "2017-10-10",
          "2017-10-11",
          "2017-10-12",
          "2017-10-13",
          "2017-10-13",
          "2017-10-13",
          "2017-10-14",
          "2017-10-15",
          "2017-10-16",
          "2017-10-16",
          "2017-10-16",
          "2017-10-17",
          "2017-10-18",
          "2017-10-18",
          "2017-10-18",
          "2017-10-18",
          "2017-10-19",
          "2017-10-20",
          "2017-10-20",
          "2017-10-21",
          "2017-10-21",
          "2017-10-21",
          "2017-10-23",
          "2017-10-24",
          "2017-10-24",
          "2017-10-25",
          "2017-10-26",
          "2017-10-26",
          "2017-10-26",
          "2017-10-27",
          "2017-10-27",
          "2017-10-27",
          "2017-10-29",
          "2017-10-29",
          "2017-10-29",
          "2017-10-30",
          "2017-10-30",
          "2017-10-31",
          "2017-11-01",
          "2017-11-02",
          "2017-11-03",
          "2017-11-03",
          "2017-11-04",
          "2017-11-04",
          "2017-11-04",
          "2017-11-05",
          "2017-11-06",
          "2017-11-06",
          "2017-11-06",
          "2017-11-06",
          "2017-11-07",
          "2017-11-07",
          "2017-11-07",
          "2017-11-07",
          "2017-11-09",
          "2017-11-10",
          "2017-11-10",
          "2017-11-11",
          "2017-11-11",
          "2017-11-11",
          "2017-11-12",
          "2017-11-13",
          "2017-11-14",
          "2017-11-14",
          "2017-11-14",
          "2017-11-14",
          "2017-11-14",
          "2017-11-14",
          "2017-11-15",
          "2017-11-15",
          "2017-11-16",
          "2017-11-16",
          "2017-11-17",
          "2017-11-17",
          "2017-11-17",
          "2017-11-18",
          "2017-11-18",
          "2017-11-19",
          "2017-11-19",
          "2017-11-20",
          "2017-11-21",
          "2017-11-21",
          "2017-11-22",
          "2017-11-22",
          "2017-11-22",
          "2017-11-22",
          "2017-11-22",
          "2017-11-23",
          "2017-11-25",
          "2017-11-26",
          "2017-11-27",
          "2017-12-01",
          "2017-12-01",
          "2017-12-01",
          "2017-12-01",
          "2017-12-02",
          "2017-12-03",
          "2017-12-03",
          "2017-12-03",
          "2017-12-03",
          "2017-12-04",
          "2017-12-05",
          "2017-12-06",
          "2017-12-06",
          "2017-12-07",
          "2017-12-07",
          "2017-12-07",
          "2017-12-07",
          "2017-12-08",
          "2017-12-08",
          "2017-12-09",
          "2017-12-09",
          "2017-12-09",
          "2017-12-09",
          "2017-12-10",
          "2017-12-10",
          "2017-12-11",
          "2017-12-11"
         ],
         "y": [
          "",
          "",
          "",
          "",
          "",
          "",
          "",
          "",
          "",
          "",
          "",
          "",
          "",
          "",
          "",
          "",
          "",
          "",
          "",
          "",
          "",
          "",
          "",
          "",
          "",
          "",
          "",
          "",
          "",
          "",
          "",
          "",
          "",
          "",
          "",
          "",
          "",
          "",
          "",
          "",
          "",
          "",
          "",
          "",
          "",
          "",
          "",
          "",
          "",
          "",
          2.3222222222222224,
          2.3555555555555556,
          2.3444444444444446,
          2.3444444444444446,
          2.3444444444444446,
          2.3444444444444446,
          2.3444444444444446,
          2.3444444444444446,
          2.3666666666666667,
          2.3555555555555556,
          2.3444444444444446,
          2.3444444444444446,
          2.3666666666666667,
          2.3555555555555556,
          2.3555555555555556,
          2.3333333333333335,
          2.3222222222222224,
          2.3222222222222224,
          2.3333333333333335,
          2.3333333333333335,
          2.3,
          2.311111111111111,
          2.3333333333333335,
          2.3333333333333335,
          2.2888888888888888,
          2.2777777777777777,
          2.2888888888888888,
          2.2888888888888888,
          2.2888888888888888,
          2.2888888888888888,
          2.2888888888888888,
          2.2888888888888888,
          2.2888888888888888,
          2.2666666666666666,
          2.2666666666666666,
          2.2555555555555555,
          2.2333333333333334,
          2.188888888888889,
          2.188888888888889,
          2.1666666666666665,
          2.1777777777777776,
          2.1777777777777776,
          2.1444444444444444,
          2.1444444444444444,
          2.1222222222222222,
          2.1444444444444444,
          2.1444444444444444,
          2.1444444444444444,
          2.1444444444444444,
          2.1444444444444444,
          2.1333333333333333,
          2.1222222222222222,
          2.1,
          2.1333333333333333,
          2.1555555555555554,
          2.1555555555555554,
          2.1333333333333333,
          2.1333333333333333,
          2.1,
          2.088888888888889,
          2.111111111111111,
          2.088888888888889,
          2.066666666666667,
          2.066666666666667,
          2.0555555555555554,
          2.0444444444444443,
          2.0555555555555554,
          2.0444444444444443,
          2.077777777777778,
          2.0444444444444443,
          2.0555555555555554,
          2.077777777777778,
          2.1,
          2.1333333333333333,
          2.1333333333333333,
          2.1,
          2.1,
          2.1222222222222222,
          2.1222222222222222,
          2.1,
          2.088888888888889,
          2.077777777777778,
          2.088888888888889,
          2.1,
          2.1222222222222222,
          2.111111111111111,
          2.088888888888889,
          2.066666666666667,
          2.077777777777778,
          2.1,
          2.1,
          2.0555555555555554,
          2.088888888888889,
          2.077777777777778,
          2.077777777777778,
          2.077777777777778,
          2.0444444444444443,
          2.0444444444444443,
          2.033333333333333,
          2.0444444444444443,
          2.0444444444444443,
          2.0555555555555554,
          2.0444444444444443,
          2.0555555555555554,
          2.033333333333333,
          2.0555555555555554,
          2.088888888888889,
          2.077777777777778,
          2.077777777777778,
          2.077777777777778,
          2.088888888888889,
          2.088888888888889,
          2.1,
          2.1222222222222222,
          2.1222222222222222,
          2.1444444444444444,
          2.1777777777777776,
          2.1666666666666665,
          2.2,
          2.2222222222222223,
          2.2222222222222223,
          2.2222222222222223,
          2.2222222222222223,
          2.2333333333333334,
          2.2111111111111112,
          2.2555555555555555,
          2.2666666666666666,
          2.2666666666666666,
          2.2888888888888888,
          2.2777777777777777,
          2.2555555555555555,
          2.2111111111111112,
          2.2222222222222223,
          2.2222222222222223,
          2.2555555555555555,
          2.2333333333333334,
          2.2111111111111112,
          2.188888888888889,
          2.188888888888889,
          2.1777777777777776,
          2.1777777777777776,
          2.1666666666666665,
          2.188888888888889,
          2.1777777777777776,
          2.1555555555555554,
          2.1777777777777776,
          2.1777777777777776,
          2.2,
          2.2111111111111112,
          2.2555555555555555,
          2.2444444444444445,
          2.2444444444444445,
          2.2666666666666666,
          2.2666666666666666,
          2.2888888888888888,
          2.2888888888888888,
          2.2777777777777777,
          2.3,
          2.2777777777777777,
          2.2777777777777777,
          2.2555555555555555,
          2.2555555555555555,
          2.2555555555555555,
          2.2111111111111112,
          2.2222222222222223,
          2.2555555555555555,
          2.2888888888888888,
          2.311111111111111,
          2.3222222222222224,
          2.3555555555555556,
          2.3555555555555556,
          2.3555555555555556,
          2.3222222222222224,
          2.311111111111111,
          2.2888888888888888,
          2.311111111111111,
          2.311111111111111,
          2.311111111111111,
          2.2888888888888888,
          2.2555555555555555,
          2.2666666666666666,
          2.2777777777777777,
          2.2555555555555555,
          2.2444444444444445,
          2.2555555555555555,
          2.3,
          2.3,
          2.2666666666666666,
          2.2555555555555555,
          2.2555555555555555,
          2.2555555555555555,
          2.2555555555555555,
          2.2333333333333334,
          2.2444444444444445,
          2.2666666666666666,
          2.2444444444444445,
          2.2111111111111112,
          2.2111111111111112,
          2.2111111111111112,
          2.2111111111111112,
          2.2111111111111112,
          2.2,
          2.1777777777777776,
          2.1555555555555554,
          2.1555555555555554,
          2.1666666666666665,
          2.1222222222222222,
          2.1444444444444444,
          2.111111111111111,
          2.088888888888889,
          2.088888888888889,
          2.088888888888889,
          2.1,
          2.1,
          2.111111111111111,
          2.066666666666667,
          2.0444444444444443,
          2.0444444444444443,
          2.022222222222222,
          2.022222222222222,
          2.022222222222222,
          2.022222222222222,
          2.022222222222222,
          2.033333333333333,
          2.011111111111111,
          1.988888888888889,
          2,
          2,
          2,
          2.022222222222222,
          2.066666666666667,
          2.066666666666667,
          2.077777777777778,
          2.077777777777778,
          2.088888888888889,
          2.066666666666667,
          2.088888888888889,
          2.066666666666667,
          2.0555555555555554,
          2.011111111111111,
          1.988888888888889,
          2.033333333333333,
          2.011111111111111,
          2.022222222222222,
          2,
          2,
          2.022222222222222,
          2.011111111111111,
          2.011111111111111,
          2.011111111111111,
          2.011111111111111,
          1.988888888888889,
          1.9666666666666666,
          1.988888888888889,
          1.9777777777777779,
          1.9444444444444444,
          1.9111111111111112,
          1.8666666666666667,
          1.8888888888888888,
          1.8888888888888888,
          1.8777777777777778,
          1.8777777777777778,
          1.8777777777777778,
          1.8555555555555556,
          1.8555555555555556,
          1.8333333333333333,
          1.8333333333333333,
          1.8666666666666667,
          1.8888888888888888,
          1.8777777777777778,
          1.8555555555555556,
          1.8444444444444446,
          1.8555555555555556,
          1.8666666666666667,
          1.8555555555555556,
          1.8111111111111111,
          1.8222222222222222,
          1.8444444444444446,
          1.8333333333333333,
          1.8222222222222222,
          1.8666666666666667,
          1.8555555555555556,
          1.8888888888888888,
          1.8666666666666667,
          1.8444444444444446,
          1.8444444444444446,
          1.8444444444444446,
          1.8444444444444446,
          1.8555555555555556,
          1.8666666666666667,
          1.8555555555555556,
          1.8777777777777778,
          1.8666666666666667,
          1.8666666666666667,
          1.9111111111111112,
          1.8777777777777778,
          1.8888888888888888,
          1.8666666666666667,
          1.9,
          1.9,
          1.9,
          1.9111111111111112,
          1.9,
          1.8777777777777778,
          1.8888888888888888,
          1.8888888888888888,
          1.9,
          1.9,
          1.9222222222222223,
          1.9666666666666666,
          1.9555555555555555,
          1.988888888888889,
          1.9777777777777779,
          1.9666666666666666,
          1.9555555555555555,
          1.9555555555555555,
          1.9444444444444444,
          1.9444444444444444,
          1.988888888888889,
          1.9666666666666666,
          1.9222222222222223,
          1.9111111111111112,
          1.9,
          1.8666666666666667,
          1.8777777777777778,
          1.8777777777777778,
          1.8555555555555556,
          1.8777777777777778,
          1.8777777777777778,
          1.8777777777777778,
          1.9111111111111112,
          1.8666666666666667,
          1.8777777777777778,
          1.8777777777777778,
          1.8777777777777778,
          1.8777777777777778,
          1.8555555555555556,
          1.8333333333333333,
          1.8222222222222222,
          1.8222222222222222,
          1.8222222222222222,
          1.8222222222222222,
          1.8222222222222222,
          1.8,
          1.8222222222222222,
          1.8333333333333333,
          1.8333333333333333,
          1.8333333333333333,
          1.8,
          1.7777777777777777,
          1.7777777777777777,
          1.788888888888889,
          1.8,
          1.8444444444444446,
          1.8444444444444446,
          1.8333333333333333,
          1.8333333333333333,
          1.8222222222222222,
          1.8222222222222222,
          1.8222222222222222,
          1.8111111111111111,
          1.8111111111111111,
          1.788888888888889,
          1.7777777777777777,
          1.788888888888889,
          1.788888888888889,
          1.7777777777777777,
          1.788888888888889,
          1.8,
          1.8,
          1.7777777777777777,
          1.7777777777777777,
          1.7444444444444445,
          1.7444444444444445,
          1.7666666666666666,
          1.7666666666666666,
          1.7666666666666666,
          1.7666666666666666,
          1.7444444444444445,
          1.7333333333333334,
          1.7444444444444445,
          1.711111111111111,
          1.7333333333333334,
          1.7333333333333334,
          1.7,
          1.7,
          1.6888888888888889,
          1.6888888888888889,
          1.6777777777777778,
          1.711111111111111,
          1.711111111111111,
          1.7,
          1.711111111111111,
          1.7333333333333334,
          1.711111111111111,
          1.711111111111111,
          1.7,
          1.7,
          1.7,
          1.6555555555555554,
          1.6555555555555554,
          1.6222222222222222,
          1.6111111111111112,
          1.6444444444444444,
          1.6444444444444444,
          1.6444444444444444,
          1.6444444444444444,
          1.6444444444444444,
          1.6,
          1.6111111111111112,
          1.6111111111111112,
          1.6111111111111112,
          1.6,
          1.6333333333333333,
          1.6111111111111112,
          1.6111111111111112,
          1.6111111111111112,
          1.5777777777777777,
          1.5777777777777777,
          1.5777777777777777,
          1.5444444444444445,
          1.5777777777777777,
          1.5666666666666667,
          1.5444444444444445,
          1.5444444444444445,
          1.5444444444444445,
          1.5444444444444445,
          1.5444444444444445,
          1.5444444444444445,
          1.5444444444444445,
          1.5444444444444445,
          1.5444444444444445,
          1.5444444444444445,
          1.5444444444444445,
          1.5444444444444445,
          1.5444444444444445,
          1.5444444444444445,
          1.5555555555555556,
          1.5555555555555556,
          1.5555555555555556,
          1.5666666666666667,
          1.5555555555555556,
          1.5444444444444445,
          1.511111111111111,
          1.511111111111111,
          1.5222222222222221,
          1.5222222222222221,
          1.5,
          1.4777777777777779,
          1.4777777777777779,
          1.4666666666666666,
          1.4666666666666666,
          1.4666666666666666,
          1.4666666666666666,
          1.4555555555555555,
          1.4555555555555555,
          1.5,
          1.4666666666666666,
          1.4555555555555555,
          1.4555555555555555,
          1.4555555555555555,
          1.4555555555555555,
          1.4777777777777779,
          1.511111111111111,
          1.5333333333333334,
          1.5555555555555556,
          1.5555555555555556,
          1.5555555555555556,
          1.5777777777777777,
          1.5777777777777777,
          1.5666666666666667,
          1.5666666666666667,
          1.5444444444444445,
          1.5444444444444445,
          1.5555555555555556,
          1.5555555555555556,
          1.5555555555555556,
          1.5555555555555556,
          1.5333333333333334,
          1.5,
          1.5222222222222221,
          1.5222222222222221,
          1.511111111111111,
          1.488888888888889,
          1.488888888888889,
          1.5,
          1.5,
          1.5,
          1.5,
          1.5,
          1.5,
          1.5,
          1.5222222222222221,
          1.488888888888889,
          1.5333333333333334,
          1.5333333333333334,
          1.5333333333333334,
          1.5444444444444445,
          1.5444444444444445,
          1.5333333333333334,
          1.5777777777777777,
          1.5777777777777777,
          1.5777777777777777,
          1.5666666666666667,
          1.5666666666666667,
          1.5777777777777777,
          1.5888888888888888,
          1.6222222222222222,
          1.6222222222222222,
          1.6222222222222222,
          1.6333333333333333,
          1.6444444444444444,
          1.6444444444444444,
          1.6444444444444444,
          1.6888888888888889,
          1.6888888888888889,
          1.7333333333333334,
          1.7333333333333334,
          1.7333333333333334,
          1.7333333333333334,
          1.7555555555555555,
          1.7555555555555555,
          1.7555555555555555,
          1.7555555555555555,
          1.7333333333333334,
          1.7222222222222223,
          1.7222222222222223,
          1.711111111111111,
          1.7555555555555555,
          1.7444444444444445,
          1.7333333333333334,
          1.7333333333333334,
          1.7444444444444445,
          1.7666666666666666,
          1.8,
          1.8111111111111111,
          1.8222222222222222,
          1.8222222222222222,
          1.8222222222222222,
          1.8444444444444446,
          1.8777777777777778,
          1.9111111111111112,
          1.9111111111111112,
          1.9111111111111112,
          1.9333333333333333,
          1.9555555555555555,
          1.9333333333333333,
          1.9666666666666666,
          2.011111111111111,
          2.011111111111111,
          1.988888888888889,
          1.988888888888889,
          2,
          1.9666666666666666,
          1.9555555555555555,
          1.9333333333333333,
          1.9666666666666666,
          1.9777777777777779,
          1.9555555555555555,
          1.9555555555555555,
          1.9555555555555555,
          1.9666666666666666,
          1.9666666666666666,
          1.9666666666666666,
          1.9777777777777779,
          1.9777777777777779,
          1.9777777777777779,
          1.9777777777777779,
          1.9777777777777779,
          1.9777777777777779,
          1.9555555555555555,
          1.9555555555555555,
          1.9666666666666666,
          1.9666666666666666,
          2.011111111111111,
          2,
          2,
          2,
          2,
          2,
          2,
          2,
          1.9777777777777779,
          1.9777777777777779,
          1.9333333333333333,
          1.9333333333333333,
          1.9333333333333333,
          1.9222222222222223,
          1.9666666666666666,
          2.011111111111111,
          1.9777777777777779,
          1.988888888888889,
          1.9777777777777779,
          1.9555555555555555,
          1.9555555555555555,
          1.988888888888889,
          1.988888888888889,
          1.9555555555555555,
          1.9555555555555555,
          1.9555555555555555,
          1.9666666666666666,
          1.9222222222222223,
          1.9222222222222223,
          1.9222222222222223,
          1.8777777777777778,
          1.9222222222222223,
          1.8888888888888888,
          1.8888888888888888,
          1.8888888888888888,
          1.9333333333333333,
          1.9222222222222223,
          1.9222222222222223,
          1.9222222222222223,
          1.9222222222222223,
          1.9444444444444444,
          1.9777777777777779,
          1.9777777777777779,
          2.022222222222222,
          2.022222222222222,
          2.0444444444444443,
          2.0444444444444443,
          2.0444444444444443,
          2.033333333333333,
          2,
          1.9777777777777779,
          1.9555555555555555,
          1.9444444444444444,
          1.9444444444444444,
          1.988888888888889,
          1.9666666666666666,
          1.9333333333333333,
          1.9,
          1.9,
          1.9111111111111112,
          1.9222222222222223,
          1.9,
          1.8777777777777778,
          1.8444444444444446,
          1.8,
          1.8,
          1.8111111111111111,
          1.8111111111111111,
          1.8,
          1.8,
          1.7666666666666666,
          1.788888888888889,
          1.7666666666666666,
          1.7777777777777777,
          1.788888888888889,
          1.788888888888889,
          1.788888888888889,
          1.7777777777777777,
          1.7777777777777777,
          1.7777777777777777,
          1.7444444444444445,
          1.7444444444444445,
          1.7444444444444445,
          1.7444444444444445,
          1.7444444444444445,
          1.7444444444444445,
          1.7444444444444445,
          1.788888888888889,
          1.788888888888889,
          1.788888888888889,
          1.7444444444444445,
          1.7444444444444445,
          1.7444444444444445,
          1.7444444444444445,
          1.7222222222222223,
          1.7222222222222223,
          1.7333333333333334,
          1.7666666666666666,
          1.7666666666666666,
          1.7666666666666666,
          1.8111111111111111,
          1.8111111111111111,
          1.8555555555555556,
          1.8555555555555556,
          1.8222222222222222,
          1.7777777777777777,
          1.7666666666666666,
          1.7555555555555555,
          1.7555555555555555,
          1.7666666666666666,
          1.7666666666666666,
          1.7444444444444445,
          1.7666666666666666,
          1.7666666666666666,
          1.7666666666666666,
          1.7666666666666666,
          1.7555555555555555,
          1.7555555555555555,
          1.7555555555555555,
          1.7555555555555555,
          1.7555555555555555,
          1.7222222222222223,
          1.711111111111111,
          1.711111111111111,
          1.711111111111111,
          1.6666666666666667,
          1.6888888888888889,
          1.6888888888888889,
          1.6888888888888889,
          1.6888888888888889,
          1.6888888888888889,
          1.6555555555555554,
          1.6555555555555554,
          1.6555555555555554,
          1.6333333333333333,
          1.6111111111111112,
          1.6444444444444444,
          1.6444444444444444,
          1.6444444444444444,
          1.6444444444444444,
          1.6333333333333333,
          1.6777777777777778,
          1.6777777777777778,
          1.7,
          1.6555555555555554,
          1.7,
          1.711111111111111,
          1.7222222222222223,
          1.7333333333333334,
          1.7333333333333334,
          1.711111111111111,
          1.7555555555555555,
          1.7555555555555555,
          1.7555555555555555,
          1.7555555555555555,
          1.7555555555555555,
          1.7444444444444445,
          1.7444444444444445,
          1.7555555555555555,
          1.7555555555555555,
          1.7555555555555555,
          1.7333333333333334,
          1.7333333333333334,
          1.711111111111111,
          1.7,
          1.7,
          1.7,
          1.7222222222222223,
          1.7333333333333334,
          1.7333333333333334,
          1.7333333333333334,
          1.7333333333333334,
          1.7333333333333334,
          1.7777777777777777,
          1.8,
          1.8,
          1.8,
          1.7666666666666666,
          1.7555555555555555,
          1.7555555555555555,
          1.7777777777777777,
          1.7777777777777777,
          1.7777777777777777,
          1.8222222222222222,
          1.8222222222222222,
          1.8444444444444446,
          1.8333333333333333,
          1.8,
          1.8111111111111111,
          1.8222222222222222,
          1.7777777777777777,
          1.8,
          1.7555555555555555,
          1.7555555555555555,
          1.7444444444444445,
          1.7444444444444445,
          1.7555555555555555,
          1.7555555555555555,
          1.7555555555555555,
          1.788888888888889,
          1.8,
          1.788888888888889,
          1.7555555555555555,
          1.8,
          1.8,
          1.8,
          1.8,
          1.8,
          1.8,
          1.8,
          1.8444444444444446,
          1.8333333333333333,
          1.8333333333333333,
          1.8333333333333333,
          1.8333333333333333,
          1.8555555555555556,
          1.8222222222222222,
          1.8444444444444446,
          1.8444444444444446,
          1.8444444444444446,
          1.8222222222222222,
          1.8222222222222222,
          1.8222222222222222,
          1.7777777777777777,
          1.7555555555555555,
          1.7555555555555555,
          1.7222222222222223,
          1.7222222222222223,
          1.7333333333333334,
          1.7333333333333334,
          1.7555555555555555,
          1.7222222222222223,
          1.7222222222222223,
          1.7333333333333334,
          1.7333333333333334,
          1.6888888888888889,
          1.6777777777777778,
          1.7,
          1.6888888888888889,
          1.6888888888888889,
          1.6777777777777778,
          1.6333333333333333,
          1.6777777777777778,
          1.6888888888888889,
          1.7333333333333334,
          1.7555555555555555,
          1.7555555555555555,
          1.7555555555555555,
          1.7222222222222223,
          1.7222222222222223,
          1.7222222222222223,
          1.7222222222222223,
          1.711111111111111,
          1.711111111111111,
          1.711111111111111,
          1.711111111111111,
          1.7222222222222223,
          1.711111111111111,
          1.7,
          1.7,
          1.7444444444444445,
          1.7444444444444445,
          1.788888888888889,
          1.7444444444444445,
          1.7222222222222223,
          1.7222222222222223,
          1.7222222222222223,
          1.711111111111111,
          1.7222222222222223,
          1.7222222222222223,
          1.711111111111111,
          1.711111111111111,
          1.711111111111111,
          1.711111111111111,
          1.711111111111111,
          1.7,
          1.7,
          1.7,
          1.6888888888888889,
          1.7,
          1.7444444444444445,
          1.7222222222222223,
          1.7444444444444445,
          1.7444444444444445,
          1.7444444444444445,
          1.7777777777777777,
          1.7666666666666666,
          1.7666666666666666,
          1.7777777777777777,
          1.7333333333333334,
          1.7222222222222223,
          1.711111111111111,
          1.711111111111111,
          1.6666666666666667,
          1.6777777777777778,
          1.6777777777777778,
          1.6666666666666667,
          1.6888888888888889,
          1.7,
          1.7,
          1.6777777777777778,
          1.6888888888888889,
          1.6888888888888889,
          1.6888888888888889,
          1.711111111111111,
          1.6888888888888889,
          1.6888888888888889,
          1.7,
          1.7,
          1.7,
          1.7444444444444445,
          1.7444444444444445,
          1.7444444444444445,
          1.7444444444444445,
          1.7444444444444445,
          1.7444444444444445,
          1.7444444444444445,
          1.7444444444444445,
          1.7333333333333334,
          1.7777777777777777,
          1.7555555555555555,
          1.7444444444444445,
          1.7777777777777777,
          1.7444444444444445,
          1.7444444444444445,
          1.7555555555555555,
          1.7555555555555555,
          1.7222222222222223,
          1.7333333333333334,
          1.7222222222222223,
          1.7333333333333334,
          1.7777777777777777,
          1.7555555555555555,
          1.7777777777777777,
          1.7333333333333334,
          1.711111111111111,
          1.711111111111111,
          1.7444444444444445,
          1.7444444444444445,
          1.7555555555555555,
          1.7666666666666666,
          1.7666666666666666,
          1.7666666666666666,
          1.7777777777777777,
          1.7777777777777777,
          1.7777777777777777,
          1.7666666666666666,
          1.7555555555555555,
          1.7555555555555555,
          1.7555555555555555,
          1.7555555555555555,
          1.7555555555555555,
          1.7222222222222223,
          1.7666666666666666,
          1.7666666666666666,
          1.788888888888889,
          1.788888888888889,
          1.788888888888889,
          1.8,
          1.8222222222222222,
          1.8333333333333333,
          1.8333333333333333,
          1.8333333333333333,
          1.8,
          1.8222222222222222,
          1.8111111111111111,
          1.8111111111111111,
          1.8222222222222222,
          1.8222222222222222,
          1.8,
          1.7555555555555555,
          1.7666666666666666,
          1.7444444444444445,
          1.7444444444444445,
          1.7444444444444445,
          1.7555555555555555,
          1.7555555555555555,
          1.8,
          1.8333333333333333,
          1.8333333333333333,
          1.8777777777777778,
          1.8777777777777778,
          1.8777777777777778,
          1.8777777777777778,
          1.8666666666666667,
          1.8666666666666667,
          1.8666666666666667,
          1.8888888888888888,
          1.8777777777777778,
          1.8777777777777778,
          1.8555555555555556,
          1.8444444444444446,
          1.8444444444444446,
          1.8444444444444446,
          1.8333333333333333,
          1.8333333333333333,
          1.8333333333333333,
          1.8222222222222222,
          1.8222222222222222,
          1.8222222222222222,
          1.7777777777777777,
          1.8,
          1.8,
          1.8,
          1.8,
          1.8333333333333333,
          1.8333333333333333,
          1.8555555555555556,
          1.8555555555555556,
          1.8222222222222222,
          1.8222222222222222,
          1.8222222222222222,
          1.8,
          1.8222222222222222,
          1.8222222222222222,
          1.8222222222222222,
          1.8222222222222222,
          1.8666666666666667,
          1.8666666666666667,
          1.9111111111111112,
          1.9333333333333333,
          1.8888888888888888,
          1.9111111111111112,
          1.8777777777777778,
          1.8888888888888888,
          1.8888888888888888,
          1.8888888888888888,
          1.8555555555555556,
          1.8555555555555556,
          1.8444444444444446,
          1.8666666666666667,
          1.8777777777777778,
          1.8777777777777778,
          1.8777777777777778,
          1.8777777777777778,
          1.8777777777777778,
          1.8777777777777778,
          1.8777777777777778,
          1.8777777777777778,
          1.8777777777777778,
          1.8333333333333333,
          1.8333333333333333,
          1.8666666666666667,
          1.8555555555555556,
          1.8555555555555556,
          1.8333333333333333,
          1.8333333333333333,
          1.8333333333333333,
          1.8111111111111111,
          1.788888888888889,
          1.7666666666666666,
          1.7777777777777777,
          1.7777777777777777,
          1.7666666666666666,
          1.7555555555555555,
          1.8,
          1.8222222222222222,
          1.8111111111111111,
          1.8555555555555556,
          1.8555555555555556,
          1.8555555555555556,
          1.8444444444444446,
          1.8444444444444446,
          1.8444444444444446,
          1.8666666666666667,
          1.8222222222222222,
          1.8222222222222222,
          1.788888888888889,
          1.7777777777777777,
          1.8111111111111111,
          1.7666666666666666,
          1.788888888888889,
          1.788888888888889,
          1.788888888888889,
          1.788888888888889,
          1.788888888888889,
          1.8111111111111111,
          1.7666666666666666,
          1.7666666666666666,
          1.7666666666666666,
          1.7666666666666666,
          1.788888888888889,
          1.8,
          1.8,
          1.8333333333333333,
          1.8333333333333333,
          1.8333333333333333,
          1.8111111111111111,
          1.8111111111111111,
          1.8555555555555556,
          1.8666666666666667,
          1.8555555555555556,
          1.8666666666666667,
          1.8666666666666667,
          1.9111111111111112,
          1.8777777777777778,
          1.8777777777777778,
          1.8555555555555556,
          1.9,
          1.8888888888888888,
          1.8888888888888888,
          1.9222222222222223,
          1.9111111111111112,
          1.8888888888888888,
          1.8888888888888888,
          1.8777777777777778,
          1.8777777777777778,
          1.8777777777777778,
          1.8666666666666667,
          1.8555555555555556,
          1.8222222222222222,
          1.8333333333333333,
          1.788888888888889,
          1.8,
          1.8,
          1.8,
          1.8111111111111111,
          1.8111111111111111,
          1.8111111111111111,
          1.8555555555555556,
          1.8222222222222222,
          1.8111111111111111,
          1.8222222222222222,
          1.8111111111111111,
          1.8111111111111111,
          1.8111111111111111,
          1.8333333333333333,
          1.8333333333333333,
          1.8333333333333333,
          1.8333333333333333,
          1.8555555555555556,
          1.8888888888888888,
          1.8444444444444446,
          1.8111111111111111,
          1.8111111111111111,
          1.8444444444444446,
          1.8444444444444446,
          1.8777777777777778,
          1.9111111111111112,
          1.9222222222222223,
          1.9222222222222223,
          1.9111111111111112,
          1.9222222222222223,
          1.9222222222222223,
          1.9555555555555555,
          1.9333333333333333,
          1.9444444444444444,
          1.988888888888889,
          1.9666666666666666,
          1.9666666666666666,
          1.9777777777777779,
          1.9777777777777779,
          1.9777777777777779,
          1.9777777777777779,
          1.9555555555555555,
          1.9666666666666666,
          1.9666666666666666,
          1.988888888888889,
          1.988888888888889,
          1.988888888888889,
          1.988888888888889,
          2,
          2,
          2,
          2,
          2.0444444444444443,
          2.022222222222222,
          2.0444444444444443,
          2.088888888888889,
          2.088888888888889,
          2.088888888888889,
          2.066666666666667,
          2.0555555555555554,
          2.0555555555555554,
          2.011111111111111,
          2.0444444444444443,
          2.0444444444444443,
          2.0444444444444443,
          2.0444444444444443,
          2,
          1.988888888888889,
          1.9777777777777779,
          1.9666666666666666,
          1.9777777777777779,
          1.9333333333333333,
          1.9444444444444444,
          1.9555555555555555,
          1.9555555555555555,
          1.9111111111111112,
          1.9555555555555555,
          1.9555555555555555,
          1.9222222222222223,
          1.9222222222222223,
          1.9444444444444444,
          1.9444444444444444,
          1.9444444444444444,
          1.9444444444444444,
          1.9,
          1.9,
          1.8666666666666667,
          1.9,
          1.9,
          1.9,
          1.9333333333333333,
          1.9222222222222223,
          1.9222222222222223,
          1.9111111111111112,
          1.9111111111111112,
          1.9111111111111112,
          1.8666666666666667,
          1.8666666666666667,
          1.8888888888888888,
          1.8777777777777778,
          1.8777777777777778,
          1.9222222222222223,
          1.9222222222222223,
          1.9333333333333333,
          1.9333333333333333,
          1.9333333333333333,
          1.9333333333333333,
          1.9111111111111112,
          1.8777777777777778,
          1.8777777777777778,
          1.8777777777777778,
          1.9222222222222223,
          1.8888888888888888,
          1.8888888888888888,
          1.8666666666666667,
          1.8555555555555556,
          1.8888888888888888,
          1.8888888888888888,
          1.8888888888888888,
          1.9111111111111112,
          1.9111111111111112,
          1.8666666666666667,
          1.8444444444444446,
          1.8111111111111111,
          1.7666666666666666,
          1.7444444444444445,
          1.7444444444444445,
          1.7333333333333334,
          1.7444444444444445,
          1.7444444444444445,
          1.7777777777777777,
          1.7777777777777777,
          1.7666666666666666,
          1.7666666666666666,
          1.7333333333333334,
          1.7,
          1.6888888888888889,
          1.6888888888888889,
          1.6888888888888889,
          1.6888888888888889,
          1.7,
          1.7,
          1.6555555555555554,
          1.6555555555555554,
          1.6555555555555554,
          1.6111111111111112,
          1.6111111111111112,
          1.6111111111111112,
          1.6111111111111112,
          1.6111111111111112,
          1.6111111111111112,
          1.6222222222222222,
          1.5888888888888888,
          1.6,
          1.6,
          1.6,
          1.6,
          1.6,
          1.6,
          1.6333333333333333,
          1.6222222222222222,
          1.6222222222222222,
          1.6111111111111112,
          1.6,
          1.6444444444444444,
          1.6888888888888889,
          1.6444444444444444,
          1.6444444444444444,
          1.6444444444444444,
          1.6666666666666667,
          1.6444444444444444,
          1.6444444444444444,
          1.6444444444444444,
          1.6444444444444444,
          1.6777777777777778,
          1.6888888888888889,
          1.6888888888888889,
          1.6555555555555554,
          1.6444444444444444,
          1.6444444444444444,
          1.6,
          1.6444444444444444,
          1.6888888888888889,
          1.6888888888888889,
          1.7333333333333334,
          1.7444444444444445,
          1.7444444444444445,
          1.7666666666666666,
          1.7444444444444445,
          1.7444444444444445,
          1.7444444444444445,
          1.7,
          1.7333333333333334,
          1.7,
          1.7,
          1.7,
          1.7,
          1.7,
          1.7,
          1.7,
          1.7,
          1.6555555555555554,
          1.6555555555555554,
          1.6555555555555554,
          1.6888888888888889,
          1.6666666666666667,
          1.6333333333333333,
          1.6333333333333333,
          1.6333333333333333,
          1.6111111111111112,
          1.6111111111111112,
          1.6111111111111112,
          1.6444444444444444,
          1.6444444444444444,
          1.6444444444444444,
          1.6444444444444444,
          1.6555555555555554,
          1.6555555555555554,
          1.6555555555555554,
          1.6555555555555554,
          1.6555555555555554,
          1.6777777777777778,
          1.6777777777777778,
          1.6777777777777778,
          1.711111111111111,
          1.711111111111111,
          1.6888888888888889,
          1.7333333333333334,
          1.711111111111111,
          1.7444444444444445,
          1.7333333333333334,
          1.7333333333333334,
          1.7333333333333334,
          1.7333333333333334,
          1.711111111111111,
          1.711111111111111,
          1.711111111111111,
          1.711111111111111,
          1.711111111111111,
          1.711111111111111,
          1.711111111111111,
          1.7,
          1.7,
          1.6888888888888889,
          1.6888888888888889,
          1.7333333333333334,
          1.7333333333333334,
          1.7333333333333334,
          1.7333333333333334,
          1.711111111111111,
          1.711111111111111,
          1.711111111111111,
          1.711111111111111,
          1.711111111111111,
          1.6666666666666667,
          1.6222222222222222,
          1.6222222222222222,
          1.6222222222222222,
          1.6222222222222222,
          1.6,
          1.6,
          1.6111111111111112,
          1.6111111111111112,
          1.6111111111111112,
          1.5888888888888888,
          1.5777777777777777,
          1.5777777777777777,
          1.5777777777777777,
          1.5777777777777777,
          1.5777777777777777,
          1.6,
          1.5555555555555556,
          1.511111111111111,
          1.511111111111111,
          1.4666666666666666,
          1.4555555555555555,
          1.4555555555555555,
          1.4333333333333333,
          1.4666666666666666,
          1.4666666666666666,
          1.4666666666666666,
          1.511111111111111,
          1.4777777777777779,
          1.4777777777777779,
          1.4777777777777779,
          1.4777777777777779,
          1.5,
          1.5,
          1.5,
          1.5,
          1.5,
          1.5,
          1.5,
          1.5,
          1.4555555555555555,
          1.4555555555555555,
          1.4444444444444444,
          1.4666666666666666,
          1.511111111111111,
          1.5222222222222221,
          1.5222222222222221,
          1.5333333333333334,
          1.5,
          1.5,
          1.511111111111111,
          1.511111111111111,
          1.5,
          1.5,
          1.488888888888889,
          1.5333333333333334,
          1.5444444444444445,
          1.5222222222222221,
          1.5222222222222221,
          1.5222222222222221,
          1.5,
          1.5,
          1.511111111111111,
          1.4666666666666666,
          1.4555555555555555,
          1.4222222222222223,
          1.4333333333333333,
          1.4333333333333333,
          1.4333333333333333,
          1.4333333333333333,
          1.4333333333333333,
          1.4444444444444444,
          1.4444444444444444,
          1.4666666666666666,
          1.5,
          1.5,
          1.5,
          1.5,
          1.5,
          1.5,
          1.5,
          1.4555555555555555,
          1.4555555555555555,
          1.4555555555555555,
          1.4555555555555555,
          1.4444444444444444,
          1.488888888888889,
          1.488888888888889,
          1.488888888888889,
          1.488888888888889,
          1.488888888888889,
          1.5333333333333334,
          1.5333333333333334,
          1.5333333333333334,
          1.5333333333333334,
          1.5555555555555556,
          1.5555555555555556,
          1.5444444444444445,
          1.5888888888888888,
          1.5888888888888888,
          1.5777777777777777,
          1.5777777777777777,
          1.5777777777777777,
          1.5777777777777777,
          1.5777777777777777,
          1.5777777777777777,
          1.5555555555555556,
          1.5666666666666667,
          1.5666666666666667,
          1.5666666666666667,
          1.5777777777777777,
          1.5777777777777777,
          1.5777777777777777,
          1.5777777777777777,
          1.5555555555555556,
          1.5666666666666667,
          1.5666666666666667,
          1.5666666666666667,
          1.5666666666666667,
          1.5666666666666667,
          1.6111111111111112,
          1.6333333333333333,
          1.6111111111111112,
          1.6111111111111112,
          1.6222222222222222,
          1.6222222222222222,
          1.6222222222222222,
          1.6222222222222222,
          1.6222222222222222,
          1.6222222222222222,
          1.6222222222222222,
          1.6222222222222222,
          1.6333333333333333,
          1.6111111111111112,
          1.5666666666666667,
          1.5555555555555556,
          1.5555555555555556,
          1.5444444444444445,
          1.5555555555555556,
          1.5555555555555556,
          1.5444444444444445,
          1.5444444444444445,
          1.5444444444444445,
          1.5666666666666667,
          1.5666666666666667,
          1.5333333333333334,
          1.5222222222222221,
          1.5222222222222221,
          1.5222222222222221,
          1.5666666666666667,
          1.5555555555555556,
          1.5555555555555556,
          1.5555555555555556,
          1.5555555555555556,
          1.5555555555555556,
          1.5555555555555556,
          1.5888888888888888,
          1.5888888888888888,
          1.5888888888888888,
          1.5888888888888888,
          1.5888888888888888,
          1.5888888888888888,
          1.5888888888888888,
          1.5666666666666667,
          1.5333333333333334,
          1.5666666666666667,
          1.5666666666666667,
          1.5666666666666667,
          1.5666666666666667,
          1.5777777777777777,
          1.5777777777777777,
          1.5777777777777777,
          1.6111111111111112,
          1.6111111111111112,
          1.6111111111111112,
          1.6111111111111112,
          1.5666666666666667,
          1.5666666666666667,
          1.5777777777777777,
          1.5777777777777777,
          1.5777777777777777,
          1.5333333333333334,
          1.5333333333333334,
          1.5333333333333334,
          1.5333333333333334,
          1.511111111111111,
          1.511111111111111,
          1.5333333333333334,
          1.488888888888889,
          1.5,
          1.5444444444444445,
          1.5444444444444445,
          1.5444444444444445,
          1.5555555555555556,
          1.5555555555555556,
          1.5555555555555556,
          1.5555555555555556,
          1.5555555555555556,
          1.5777777777777777,
          1.5777777777777777,
          1.5666666666666667,
          1.5666666666666667,
          1.5666666666666667,
          1.5777777777777777,
          1.5666666666666667,
          1.5555555555555556,
          1.5555555555555556,
          1.511111111111111,
          1.511111111111111,
          1.511111111111111,
          1.4666666666666666,
          1.4444444444444444,
          1.4444444444444444,
          1.488888888888889,
          1.4777777777777779,
          1.4777777777777779,
          1.488888888888889,
          1.488888888888889,
          1.488888888888889,
          1.488888888888889,
          1.488888888888889,
          1.488888888888889,
          1.4777777777777779,
          1.4777777777777779,
          1.4777777777777779,
          1.4666666666666666,
          1.4666666666666666,
          1.4666666666666666,
          1.4666666666666666,
          1.511111111111111,
          1.511111111111111,
          1.5222222222222221,
          1.5444444444444445,
          1.5222222222222221,
          1.5222222222222221,
          1.511111111111111,
          1.4777777777777779,
          1.4777777777777779,
          1.4777777777777779,
          1.4555555555555555,
          1.4555555555555555,
          1.4555555555555555,
          1.4444444444444444,
          1.4777777777777779,
          1.4777777777777779,
          1.4777777777777779,
          1.4333333333333333,
          1.4333333333333333,
          1.4666666666666666,
          1.511111111111111,
          1.511111111111111,
          1.5,
          1.5,
          1.5,
          1.5,
          1.4666666666666666,
          1.4666666666666666,
          1.4666666666666666,
          1.4666666666666666,
          1.4555555555555555,
          1.5,
          1.511111111111111,
          1.488888888888889,
          1.488888888888889,
          1.488888888888889,
          1.5222222222222221,
          1.5222222222222221,
          1.5222222222222221,
          1.511111111111111,
          1.511111111111111,
          1.5333333333333334,
          1.5333333333333334,
          1.5333333333333334,
          1.5555555555555556,
          1.5666666666666667,
          1.5666666666666667,
          1.5666666666666667,
          1.5444444444444445,
          1.5444444444444445,
          1.5555555555555556,
          1.5222222222222221,
          1.5333333333333334,
          1.5333333333333334,
          1.5666666666666667,
          1.5666666666666667,
          1.5666666666666667,
          1.6111111111111112,
          1.6,
          1.5777777777777777,
          1.5777777777777777,
          1.6,
          1.6,
          1.6,
          1.5888888888888888,
          1.5888888888888888,
          1.5888888888888888,
          1.6333333333333333,
          1.6333333333333333,
          1.6333333333333333,
          1.6333333333333333,
          1.6333333333333333,
          1.6333333333333333,
          1.6333333333333333,
          1.6111111111111112,
          1.6111111111111112,
          1.6111111111111112,
          1.6,
          1.6,
          1.6,
          1.6,
          1.6,
          1.6,
          1.6,
          1.6,
          1.6,
          1.6,
          1.6,
          1.6,
          1.5888888888888888,
          1.5777777777777777,
          1.5777777777777777,
          1.5888888888888888,
          1.5888888888888888,
          1.5888888888888888,
          1.5888888888888888,
          1.6111111111111112,
          1.6555555555555554,
          1.6555555555555554,
          1.6666666666666667,
          1.6666666666666667,
          1.6666666666666667,
          1.6666666666666667,
          1.6666666666666667,
          1.6333333333333333,
          1.6333333333333333,
          1.6333333333333333,
          1.6333333333333333,
          1.6333333333333333,
          1.6333333333333333,
          1.5888888888888888,
          1.6222222222222222,
          1.6222222222222222,
          1.6222222222222222,
          1.6222222222222222,
          1.6222222222222222,
          1.6222222222222222,
          1.6222222222222222,
          1.6222222222222222,
          1.6222222222222222,
          1.6222222222222222,
          1.5777777777777777,
          1.5666666666666667,
          1.5555555555555556,
          1.5555555555555556,
          1.5555555555555556,
          1.5444444444444445,
          1.5777777777777777,
          1.5777777777777777,
          1.6,
          1.6,
          1.5777777777777777,
          1.5888888888888888,
          1.5888888888888888,
          1.5666666666666667,
          1.6,
          1.6111111111111112,
          1.6111111111111112,
          1.6111111111111112,
          1.6111111111111112,
          1.5888888888888888,
          1.6,
          1.5888888888888888,
          1.5888888888888888,
          1.5444444444444445,
          1.5444444444444445,
          1.5444444444444445,
          1.5,
          1.5,
          1.5,
          1.5,
          1.4777777777777779,
          1.4777777777777779,
          1.4777777777777779,
          1.4777777777777779,
          1.4777777777777779,
          1.4777777777777779,
          1.4333333333333333,
          1.4666666666666666,
          1.511111111111111,
          1.511111111111111,
          1.511111111111111,
          1.5555555555555556,
          1.5555555555555556,
          1.5333333333333334,
          1.5777777777777777,
          1.5777777777777777,
          1.5777777777777777,
          1.5777777777777777,
          1.5777777777777777,
          1.5777777777777777,
          1.5888888888888888,
          1.5888888888888888,
          1.5888888888888888,
          1.5888888888888888,
          1.5888888888888888,
          1.5888888888888888,
          1.6,
          1.6,
          1.6,
          1.5666666666666667,
          1.5777777777777777,
          1.6,
          1.5777777777777777,
          1.5777777777777777,
          1.5777777777777777,
          1.6,
          1.5555555555555556,
          1.5555555555555556,
          1.5444444444444445,
          1.5222222222222221,
          1.5222222222222221,
          1.5222222222222221,
          1.5222222222222221,
          1.5555555555555556,
          1.6,
          1.6,
          1.6444444444444444,
          1.6444444444444444,
          1.6111111111111112,
          1.6111111111111112,
          1.6,
          1.6,
          1.6,
          1.6,
          1.6,
          1.6,
          1.6,
          1.6,
          1.6333333333333333,
          1.6777777777777778,
          1.6777777777777778,
          1.6777777777777778,
          1.6888888888888889,
          1.7222222222222223,
          1.7222222222222223,
          1.7,
          1.6666666666666667,
          1.6666666666666667,
          1.6666666666666667,
          1.6777777777777778,
          1.6777777777777778,
          1.6888888888888889,
          1.711111111111111,
          1.711111111111111,
          1.6666666666666667,
          1.6555555555555554,
          1.6555555555555554,
          1.6555555555555554,
          1.7,
          1.7,
          1.6888888888888889,
          1.7,
          1.7222222222222223,
          1.7666666666666666,
          1.8,
          1.8,
          1.8,
          1.8333333333333333,
          1.8333333333333333,
          1.8555555555555556,
          1.8555555555555556,
          1.8777777777777778,
          1.8777777777777778,
          1.8888888888888888,
          1.8888888888888888,
          1.8888888888888888,
          1.8888888888888888,
          1.8555555555555556,
          1.8111111111111111,
          1.8222222222222222,
          1.8222222222222222,
          1.7777777777777777,
          1.7777777777777777,
          1.7777777777777777,
          1.7666666666666666,
          1.7666666666666666,
          1.7666666666666666,
          1.7777777777777777,
          1.7777777777777777,
          1.7777777777777777,
          1.7666666666666666,
          1.8111111111111111,
          1.8111111111111111,
          1.8111111111111111,
          1.8555555555555556,
          1.8555555555555556,
          1.8444444444444446,
          1.8444444444444446,
          1.8888888888888888,
          1.8888888888888888,
          1.8777777777777778,
          1.8333333333333333,
          1.8777777777777778,
          1.8777777777777778,
          1.8777777777777778,
          1.8333333333333333,
          1.8333333333333333,
          1.8333333333333333,
          1.8333333333333333,
          1.8333333333333333,
          1.8333333333333333,
          1.8333333333333333,
          1.8333333333333333,
          1.8,
          1.7555555555555555,
          1.7555555555555555,
          1.711111111111111,
          1.711111111111111,
          1.711111111111111,
          1.711111111111111,
          1.6888888888888889,
          1.6888888888888889,
          1.711111111111111,
          1.711111111111111,
          1.7333333333333334,
          1.7444444444444445,
          1.788888888888889,
          1.788888888888889,
          1.788888888888889,
          1.7444444444444445,
          1.7555555555555555,
          1.7555555555555555,
          1.7444444444444445,
          1.711111111111111,
          1.7555555555555555,
          1.7555555555555555,
          1.7555555555555555,
          1.7777777777777777,
          1.7555555555555555,
          1.7777777777777777,
          1.7777777777777777,
          1.7555555555555555,
          1.7333333333333334,
          1.7333333333333334,
          1.7333333333333334,
          1.7333333333333334,
          1.7444444444444445,
          1.7444444444444445,
          1.7,
          1.7,
          1.6888888888888889,
          1.6777777777777778,
          1.6555555555555554,
          1.6111111111111112,
          1.5777777777777777,
          1.6,
          1.6111111111111112,
          1.5777777777777777,
          1.5777777777777777,
          1.5555555555555556,
          1.5555555555555556,
          1.5333333333333334,
          1.5333333333333334,
          1.5666666666666667,
          1.5666666666666667,
          1.5666666666666667,
          1.5666666666666667,
          1.5666666666666667,
          1.5666666666666667,
          1.6,
          1.6,
          1.6,
          1.6,
          1.6111111111111112,
          1.6222222222222222,
          1.6222222222222222,
          1.6222222222222222,
          1.6333333333333333,
          1.6333333333333333,
          1.6333333333333333,
          1.6333333333333333,
          1.5888888888888888,
          1.6222222222222222,
          1.6222222222222222,
          1.5777777777777777,
          1.5777777777777777,
          1.5777777777777777,
          1.5777777777777777,
          1.5333333333333334,
          1.5333333333333334,
          1.5333333333333334,
          1.5333333333333334,
          1.488888888888889,
          1.488888888888889,
          1.488888888888889,
          1.488888888888889,
          1.488888888888889,
          1.488888888888889,
          1.5,
          1.5222222222222221,
          1.5222222222222221,
          1.5222222222222221,
          1.5222222222222221,
          1.5666666666666667,
          1.5666666666666667,
          1.5666666666666667,
          1.5666666666666667,
          1.5666666666666667,
          1.5666666666666667,
          1.5777777777777777,
          1.5777777777777777,
          1.5777777777777777,
          1.5555555555555556,
          1.5555555555555556,
          1.5777777777777777,
          1.6,
          1.5777777777777777,
          1.5777777777777777,
          1.5444444444444445,
          1.5444444444444445,
          1.5333333333333334,
          1.5333333333333334,
          1.5333333333333334,
          1.5333333333333334,
          1.5333333333333334,
          1.5666666666666667,
          1.5888888888888888,
          1.5666666666666667,
          1.5666666666666667,
          1.5666666666666667,
          1.6111111111111112,
          1.6333333333333333,
          1.6333333333333333,
          1.6333333333333333,
          1.6333333333333333,
          1.6444444444444444,
          1.6333333333333333,
          1.6333333333333333,
          1.6333333333333333,
          1.6333333333333333,
          1.6333333333333333,
          1.6333333333333333,
          1.6555555555555554,
          1.6555555555555554,
          1.6555555555555554,
          1.6333333333333333,
          1.6444444444444444,
          1.6444444444444444,
          1.6444444444444444,
          1.6444444444444444,
          1.6555555555555554,
          1.6555555555555554,
          1.6555555555555554,
          1.6555555555555554,
          1.6555555555555554,
          1.6666666666666667,
          1.6666666666666667,
          1.6666666666666667,
          1.6666666666666667,
          1.6222222222222222,
          1.6222222222222222,
          1.6222222222222222,
          1.6222222222222222,
          1.6111111111111112,
          1.5666666666666667,
          1.6,
          1.6,
          1.5777777777777777,
          1.5777777777777777,
          1.5777777777777777,
          1.5777777777777777,
          1.5777777777777777,
          1.5444444444444445,
          1.5444444444444445,
          1.5888888888888888,
          1.5888888888888888,
          1.6222222222222222,
          1.6222222222222222,
          1.6222222222222222,
          1.6222222222222222,
          1.6222222222222222,
          1.6222222222222222,
          1.6222222222222222,
          1.6222222222222222,
          1.6333333333333333,
          1.6333333333333333,
          1.6333333333333333,
          1.6666666666666667,
          1.6555555555555554,
          1.6777777777777778,
          1.6777777777777778,
          1.6777777777777778,
          1.6777777777777778,
          1.6333333333333333,
          1.6333333333333333,
          1.6333333333333333,
          1.6333333333333333,
          1.6333333333333333,
          1.6444444444444444,
          1.6333333333333333,
          1.6333333333333333,
          1.6333333333333333,
          1.6333333333333333,
          1.6333333333333333,
          1.5888888888888888,
          1.5555555555555556,
          1.5333333333333334,
          1.5333333333333334,
          1.5333333333333334,
          1.5333333333333334,
          1.5333333333333334,
          1.5666666666666667,
          1.5666666666666667,
          1.5666666666666667,
          1.5222222222222221,
          1.488888888888889,
          1.4666666666666666,
          1.4666666666666666,
          1.511111111111111,
          1.4777777777777779,
          1.4333333333333333,
          1.4111111111111112,
          1.4111111111111112,
          1.4111111111111112,
          1.4444444444444444,
          1.4333333333333333,
          1.4333333333333333,
          1.4333333333333333,
          1.4333333333333333,
          1.4777777777777779,
          1.4777777777777779,
          1.488888888888889,
          1.4666666666666666,
          1.4666666666666666,
          1.4666666666666666,
          1.4666666666666666,
          1.488888888888889,
          1.488888888888889,
          1.488888888888889,
          1.488888888888889,
          1.5,
          1.5,
          1.5,
          1.4555555555555555,
          1.4555555555555555,
          1.488888888888889,
          1.488888888888889,
          1.488888888888889,
          1.5333333333333334,
          1.5333333333333334,
          1.5555555555555556,
          1.5888888888888888,
          1.5888888888888888,
          1.6222222222222222,
          1.6222222222222222,
          1.6111111111111112,
          1.6222222222222222,
          1.6666666666666667,
          1.6666666666666667,
          1.6666666666666667,
          1.6666666666666667,
          1.6666666666666667,
          1.6888888888888889,
          1.7,
          1.6555555555555554,
          1.6555555555555554,
          1.6222222222222222,
          1.6222222222222222,
          1.6444444444444444,
          1.6444444444444444,
          1.6444444444444444,
          1.6888888888888889,
          1.6888888888888889,
          1.6888888888888889,
          1.6888888888888889,
          1.7333333333333334,
          1.7333333333333334,
          1.7333333333333334,
          1.7444444444444445,
          1.7,
          1.711111111111111,
          1.7555555555555555,
          1.7555555555555555,
          1.7555555555555555,
          1.7555555555555555,
          1.788888888888889,
          1.788888888888889,
          1.788888888888889,
          1.7777777777777777,
          1.788888888888889,
          1.788888888888889,
          1.8,
          1.8222222222222222,
          1.8222222222222222,
          1.8666666666666667,
          1.8666666666666667,
          1.8666666666666667,
          1.8666666666666667,
          1.8666666666666667,
          1.8666666666666667,
          1.8666666666666667,
          1.8777777777777778,
          1.9,
          1.9222222222222223,
          1.9666666666666666,
          1.9777777777777779,
          2.022222222222222,
          2.022222222222222,
          1.988888888888889,
          2.033333333333333,
          2.033333333333333,
          2.033333333333333,
          2.077777777777778,
          2.088888888888889,
          2.1,
          2.1,
          2.111111111111111,
          2.1555555555555554,
          2.1555555555555554,
          2.111111111111111,
          2.1555555555555554,
          2.1444444444444444,
          2.1444444444444444,
          2.1444444444444444,
          2.1444444444444444,
          2.1666666666666665,
          2.1222222222222222,
          2.1222222222222222,
          2.1666666666666665,
          2.1666666666666665,
          2.1444444444444444,
          2.1444444444444444,
          2.1444444444444444,
          2.1444444444444444,
          2.1444444444444444,
          2.1,
          2.1444444444444444,
          2.1444444444444444,
          2.111111111111111,
          2.1222222222222222,
          2.1222222222222222,
          2.088888888888889,
          2.1,
          2.066666666666667,
          2.066666666666667,
          2.0444444444444443,
          2.066666666666667,
          2.022222222222222,
          2.022222222222222,
          2.022222222222222,
          2.022222222222222,
          2.022222222222222,
          2
         ]
        }
       ],
       "layout": {
        "template": {
         "data": {
          "bar": [
           {
            "error_x": {
             "color": "#2a3f5f"
            },
            "error_y": {
             "color": "#2a3f5f"
            },
            "marker": {
             "line": {
              "color": "white",
              "width": 0.5
             }
            },
            "type": "bar"
           }
          ],
          "barpolar": [
           {
            "marker": {
             "line": {
              "color": "white",
              "width": 0.5
             }
            },
            "type": "barpolar"
           }
          ],
          "carpet": [
           {
            "aaxis": {
             "endlinecolor": "#2a3f5f",
             "gridcolor": "#C8D4E3",
             "linecolor": "#C8D4E3",
             "minorgridcolor": "#C8D4E3",
             "startlinecolor": "#2a3f5f"
            },
            "baxis": {
             "endlinecolor": "#2a3f5f",
             "gridcolor": "#C8D4E3",
             "linecolor": "#C8D4E3",
             "minorgridcolor": "#C8D4E3",
             "startlinecolor": "#2a3f5f"
            },
            "type": "carpet"
           }
          ],
          "choropleth": [
           {
            "colorbar": {
             "outlinewidth": 0,
             "ticks": ""
            },
            "type": "choropleth"
           }
          ],
          "contour": [
           {
            "colorbar": {
             "outlinewidth": 0,
             "ticks": ""
            },
            "colorscale": [
             [
              0,
              "#0d0887"
             ],
             [
              0.1111111111111111,
              "#46039f"
             ],
             [
              0.2222222222222222,
              "#7201a8"
             ],
             [
              0.3333333333333333,
              "#9c179e"
             ],
             [
              0.4444444444444444,
              "#bd3786"
             ],
             [
              0.5555555555555556,
              "#d8576b"
             ],
             [
              0.6666666666666666,
              "#ed7953"
             ],
             [
              0.7777777777777778,
              "#fb9f3a"
             ],
             [
              0.8888888888888888,
              "#fdca26"
             ],
             [
              1,
              "#f0f921"
             ]
            ],
            "type": "contour"
           }
          ],
          "contourcarpet": [
           {
            "colorbar": {
             "outlinewidth": 0,
             "ticks": ""
            },
            "type": "contourcarpet"
           }
          ],
          "heatmap": [
           {
            "colorbar": {
             "outlinewidth": 0,
             "ticks": ""
            },
            "colorscale": [
             [
              0,
              "#0d0887"
             ],
             [
              0.1111111111111111,
              "#46039f"
             ],
             [
              0.2222222222222222,
              "#7201a8"
             ],
             [
              0.3333333333333333,
              "#9c179e"
             ],
             [
              0.4444444444444444,
              "#bd3786"
             ],
             [
              0.5555555555555556,
              "#d8576b"
             ],
             [
              0.6666666666666666,
              "#ed7953"
             ],
             [
              0.7777777777777778,
              "#fb9f3a"
             ],
             [
              0.8888888888888888,
              "#fdca26"
             ],
             [
              1,
              "#f0f921"
             ]
            ],
            "type": "heatmap"
           }
          ],
          "heatmapgl": [
           {
            "colorbar": {
             "outlinewidth": 0,
             "ticks": ""
            },
            "colorscale": [
             [
              0,
              "#0d0887"
             ],
             [
              0.1111111111111111,
              "#46039f"
             ],
             [
              0.2222222222222222,
              "#7201a8"
             ],
             [
              0.3333333333333333,
              "#9c179e"
             ],
             [
              0.4444444444444444,
              "#bd3786"
             ],
             [
              0.5555555555555556,
              "#d8576b"
             ],
             [
              0.6666666666666666,
              "#ed7953"
             ],
             [
              0.7777777777777778,
              "#fb9f3a"
             ],
             [
              0.8888888888888888,
              "#fdca26"
             ],
             [
              1,
              "#f0f921"
             ]
            ],
            "type": "heatmapgl"
           }
          ],
          "histogram": [
           {
            "marker": {
             "colorbar": {
              "outlinewidth": 0,
              "ticks": ""
             }
            },
            "type": "histogram"
           }
          ],
          "histogram2d": [
           {
            "colorbar": {
             "outlinewidth": 0,
             "ticks": ""
            },
            "colorscale": [
             [
              0,
              "#0d0887"
             ],
             [
              0.1111111111111111,
              "#46039f"
             ],
             [
              0.2222222222222222,
              "#7201a8"
             ],
             [
              0.3333333333333333,
              "#9c179e"
             ],
             [
              0.4444444444444444,
              "#bd3786"
             ],
             [
              0.5555555555555556,
              "#d8576b"
             ],
             [
              0.6666666666666666,
              "#ed7953"
             ],
             [
              0.7777777777777778,
              "#fb9f3a"
             ],
             [
              0.8888888888888888,
              "#fdca26"
             ],
             [
              1,
              "#f0f921"
             ]
            ],
            "type": "histogram2d"
           }
          ],
          "histogram2dcontour": [
           {
            "colorbar": {
             "outlinewidth": 0,
             "ticks": ""
            },
            "colorscale": [
             [
              0,
              "#0d0887"
             ],
             [
              0.1111111111111111,
              "#46039f"
             ],
             [
              0.2222222222222222,
              "#7201a8"
             ],
             [
              0.3333333333333333,
              "#9c179e"
             ],
             [
              0.4444444444444444,
              "#bd3786"
             ],
             [
              0.5555555555555556,
              "#d8576b"
             ],
             [
              0.6666666666666666,
              "#ed7953"
             ],
             [
              0.7777777777777778,
              "#fb9f3a"
             ],
             [
              0.8888888888888888,
              "#fdca26"
             ],
             [
              1,
              "#f0f921"
             ]
            ],
            "type": "histogram2dcontour"
           }
          ],
          "mesh3d": [
           {
            "colorbar": {
             "outlinewidth": 0,
             "ticks": ""
            },
            "type": "mesh3d"
           }
          ],
          "parcoords": [
           {
            "line": {
             "colorbar": {
              "outlinewidth": 0,
              "ticks": ""
             }
            },
            "type": "parcoords"
           }
          ],
          "pie": [
           {
            "automargin": true,
            "type": "pie"
           }
          ],
          "scatter": [
           {
            "marker": {
             "colorbar": {
              "outlinewidth": 0,
              "ticks": ""
             }
            },
            "type": "scatter"
           }
          ],
          "scatter3d": [
           {
            "line": {
             "colorbar": {
              "outlinewidth": 0,
              "ticks": ""
             }
            },
            "marker": {
             "colorbar": {
              "outlinewidth": 0,
              "ticks": ""
             }
            },
            "type": "scatter3d"
           }
          ],
          "scattercarpet": [
           {
            "marker": {
             "colorbar": {
              "outlinewidth": 0,
              "ticks": ""
             }
            },
            "type": "scattercarpet"
           }
          ],
          "scattergeo": [
           {
            "marker": {
             "colorbar": {
              "outlinewidth": 0,
              "ticks": ""
             }
            },
            "type": "scattergeo"
           }
          ],
          "scattergl": [
           {
            "marker": {
             "colorbar": {
              "outlinewidth": 0,
              "ticks": ""
             }
            },
            "type": "scattergl"
           }
          ],
          "scattermapbox": [
           {
            "marker": {
             "colorbar": {
              "outlinewidth": 0,
              "ticks": ""
             }
            },
            "type": "scattermapbox"
           }
          ],
          "scatterpolar": [
           {
            "marker": {
             "colorbar": {
              "outlinewidth": 0,
              "ticks": ""
             }
            },
            "type": "scatterpolar"
           }
          ],
          "scatterpolargl": [
           {
            "marker": {
             "colorbar": {
              "outlinewidth": 0,
              "ticks": ""
             }
            },
            "type": "scatterpolargl"
           }
          ],
          "scatterternary": [
           {
            "marker": {
             "colorbar": {
              "outlinewidth": 0,
              "ticks": ""
             }
            },
            "type": "scatterternary"
           }
          ],
          "surface": [
           {
            "colorbar": {
             "outlinewidth": 0,
             "ticks": ""
            },
            "colorscale": [
             [
              0,
              "#0d0887"
             ],
             [
              0.1111111111111111,
              "#46039f"
             ],
             [
              0.2222222222222222,
              "#7201a8"
             ],
             [
              0.3333333333333333,
              "#9c179e"
             ],
             [
              0.4444444444444444,
              "#bd3786"
             ],
             [
              0.5555555555555556,
              "#d8576b"
             ],
             [
              0.6666666666666666,
              "#ed7953"
             ],
             [
              0.7777777777777778,
              "#fb9f3a"
             ],
             [
              0.8888888888888888,
              "#fdca26"
             ],
             [
              1,
              "#f0f921"
             ]
            ],
            "type": "surface"
           }
          ],
          "table": [
           {
            "cells": {
             "fill": {
              "color": "#EBF0F8"
             },
             "line": {
              "color": "white"
             }
            },
            "header": {
             "fill": {
              "color": "#C8D4E3"
             },
             "line": {
              "color": "white"
             }
            },
            "type": "table"
           }
          ]
         },
         "layout": {
          "annotationdefaults": {
           "arrowcolor": "#2a3f5f",
           "arrowhead": 0,
           "arrowwidth": 1
          },
          "coloraxis": {
           "colorbar": {
            "outlinewidth": 0,
            "ticks": ""
           }
          },
          "colorscale": {
           "diverging": [
            [
             0,
             "#8e0152"
            ],
            [
             0.1,
             "#c51b7d"
            ],
            [
             0.2,
             "#de77ae"
            ],
            [
             0.3,
             "#f1b6da"
            ],
            [
             0.4,
             "#fde0ef"
            ],
            [
             0.5,
             "#f7f7f7"
            ],
            [
             0.6,
             "#e6f5d0"
            ],
            [
             0.7,
             "#b8e186"
            ],
            [
             0.8,
             "#7fbc41"
            ],
            [
             0.9,
             "#4d9221"
            ],
            [
             1,
             "#276419"
            ]
           ],
           "sequential": [
            [
             0,
             "#0d0887"
            ],
            [
             0.1111111111111111,
             "#46039f"
            ],
            [
             0.2222222222222222,
             "#7201a8"
            ],
            [
             0.3333333333333333,
             "#9c179e"
            ],
            [
             0.4444444444444444,
             "#bd3786"
            ],
            [
             0.5555555555555556,
             "#d8576b"
            ],
            [
             0.6666666666666666,
             "#ed7953"
            ],
            [
             0.7777777777777778,
             "#fb9f3a"
            ],
            [
             0.8888888888888888,
             "#fdca26"
            ],
            [
             1,
             "#f0f921"
            ]
           ],
           "sequentialminus": [
            [
             0,
             "#0d0887"
            ],
            [
             0.1111111111111111,
             "#46039f"
            ],
            [
             0.2222222222222222,
             "#7201a8"
            ],
            [
             0.3333333333333333,
             "#9c179e"
            ],
            [
             0.4444444444444444,
             "#bd3786"
            ],
            [
             0.5555555555555556,
             "#d8576b"
            ],
            [
             0.6666666666666666,
             "#ed7953"
            ],
            [
             0.7777777777777778,
             "#fb9f3a"
            ],
            [
             0.8888888888888888,
             "#fdca26"
            ],
            [
             1,
             "#f0f921"
            ]
           ]
          },
          "colorway": [
           "#636efa",
           "#EF553B",
           "#00cc96",
           "#ab63fa",
           "#FFA15A",
           "#19d3f3",
           "#FF6692",
           "#B6E880",
           "#FF97FF",
           "#FECB52"
          ],
          "font": {
           "color": "#2a3f5f"
          },
          "geo": {
           "bgcolor": "white",
           "lakecolor": "white",
           "landcolor": "white",
           "showlakes": true,
           "showland": true,
           "subunitcolor": "#C8D4E3"
          },
          "hoverlabel": {
           "align": "left"
          },
          "hovermode": "closest",
          "mapbox": {
           "style": "light"
          },
          "paper_bgcolor": "white",
          "plot_bgcolor": "white",
          "polar": {
           "angularaxis": {
            "gridcolor": "#EBF0F8",
            "linecolor": "#EBF0F8",
            "ticks": ""
           },
           "bgcolor": "white",
           "radialaxis": {
            "gridcolor": "#EBF0F8",
            "linecolor": "#EBF0F8",
            "ticks": ""
           }
          },
          "scene": {
           "xaxis": {
            "backgroundcolor": "white",
            "gridcolor": "#DFE8F3",
            "gridwidth": 2,
            "linecolor": "#EBF0F8",
            "showbackground": true,
            "ticks": "",
            "zerolinecolor": "#EBF0F8"
           },
           "yaxis": {
            "backgroundcolor": "white",
            "gridcolor": "#DFE8F3",
            "gridwidth": 2,
            "linecolor": "#EBF0F8",
            "showbackground": true,
            "ticks": "",
            "zerolinecolor": "#EBF0F8"
           },
           "zaxis": {
            "backgroundcolor": "white",
            "gridcolor": "#DFE8F3",
            "gridwidth": 2,
            "linecolor": "#EBF0F8",
            "showbackground": true,
            "ticks": "",
            "zerolinecolor": "#EBF0F8"
           }
          },
          "shapedefaults": {
           "line": {
            "color": "#2a3f5f"
           }
          },
          "ternary": {
           "aaxis": {
            "gridcolor": "#DFE8F3",
            "linecolor": "#A2B1C6",
            "ticks": ""
           },
           "baxis": {
            "gridcolor": "#DFE8F3",
            "linecolor": "#A2B1C6",
            "ticks": ""
           },
           "bgcolor": "white",
           "caxis": {
            "gridcolor": "#DFE8F3",
            "linecolor": "#A2B1C6",
            "ticks": ""
           }
          },
          "title": {
           "x": 0.05
          },
          "xaxis": {
           "automargin": true,
           "gridcolor": "#EBF0F8",
           "linecolor": "#EBF0F8",
           "ticks": "",
           "title": {
            "standoff": 15
           },
           "zerolinecolor": "#EBF0F8",
           "zerolinewidth": 2
          },
          "yaxis": {
           "automargin": true,
           "gridcolor": "#EBF0F8",
           "linecolor": "#EBF0F8",
           "ticks": "",
           "title": {
            "standoff": 15
           },
           "zerolinecolor": "#EBF0F8",
           "zerolinewidth": 2
          }
         }
        },
        "title": {
         "text": "90 Days Moving Avg. of KFC's Ratings"
        }
       }
      },
      "text/html": [
       "<div>\n",
       "        \n",
       "        \n",
       "            <div id=\"d90e4b99-0a81-424c-a4c9-5f78e3c54750\" class=\"plotly-graph-div\" style=\"height:525px; width:100%;\"></div>\n",
       "            <script type=\"text/javascript\">\n",
       "                require([\"plotly\"], function(Plotly) {\n",
       "                    window.PLOTLYENV=window.PLOTLYENV || {};\n",
       "                    window.PLOTLYENV.BASE_URL='https://plot.ly';\n",
       "                    \n",
       "                if (document.getElementById(\"d90e4b99-0a81-424c-a4c9-5f78e3c54750\")) {\n",
       "                    Plotly.newPlot(\n",
       "                        'd90e4b99-0a81-424c-a4c9-5f78e3c54750',\n",
       "                        [{\"line\": {\"color\": \"rgba(55, 128, 191, 1.0)\", \"dash\": \"solid\", \"shape\": \"linear\", \"width\": 1.3}, \"mode\": \"lines\", \"name\": \"stars\", \"text\": \"\", \"type\": \"scatter\", \"x\": [\"2010-06-19\", \"2010-07-04\", \"2010-07-16\", \"2010-07-26\", \"2010-07-27\", \"2010-07-27\", \"2010-07-29\", \"2010-08-09\", \"2010-08-15\", \"2010-09-02\", \"2010-10-03\", \"2010-10-11\", \"2010-10-15\", \"2010-10-16\", \"2010-10-18\", \"2010-10-23\", \"2010-11-04\", \"2010-11-22\", \"2010-11-22\", \"2010-11-24\", \"2010-11-25\", \"2010-11-28\", \"2010-11-28\", \"2010-12-08\", \"2010-12-27\", \"2011-01-25\", \"2011-02-25\", \"2011-02-28\", \"2011-03-01\", \"2011-03-01\", \"2011-03-05\", \"2011-03-08\", \"2011-03-10\", \"2011-03-11\", \"2011-03-23\", \"2011-03-26\", \"2011-04-07\", \"2011-04-14\", \"2011-04-15\", \"2011-04-18\", \"2011-05-03\", \"2011-05-15\", \"2011-05-21\", \"2011-05-21\", \"2011-06-08\", \"2011-06-08\", \"2011-06-11\", \"2011-06-21\", \"2011-06-26\", \"2011-07-02\", \"2011-07-13\", \"2011-07-16\", \"2011-07-19\", \"2011-08-01\", \"2011-08-04\", \"2011-08-06\", \"2011-08-09\", \"2011-08-13\", \"2011-08-17\", \"2011-09-06\", \"2011-09-09\", \"2011-10-03\", \"2011-10-03\", \"2011-10-05\", \"2011-10-21\", \"2011-11-07\", \"2011-11-19\", \"2011-11-28\", \"2011-11-29\", \"2011-12-14\", \"2012-01-02\", \"2012-01-05\", \"2012-01-06\", \"2012-01-06\", \"2012-01-09\", \"2012-01-14\", \"2012-01-18\", \"2012-01-20\", \"2012-01-25\", \"2012-02-08\", \"2012-02-11\", \"2012-02-21\", \"2012-02-24\", \"2012-02-24\", \"2012-03-01\", \"2012-03-04\", \"2012-03-12\", \"2012-03-12\", \"2012-03-21\", \"2012-03-22\", \"2012-04-07\", \"2012-04-13\", \"2012-04-20\", \"2012-04-28\", \"2012-05-02\", \"2012-05-08\", \"2012-05-12\", \"2012-05-15\", \"2012-05-15\", \"2012-05-21\", \"2012-05-27\", \"2012-06-04\", \"2012-06-11\", \"2012-06-12\", \"2012-06-21\", \"2012-06-25\", \"2012-07-01\", \"2012-07-07\", \"2012-07-13\", \"2012-07-14\", \"2012-07-18\", \"2012-07-22\", \"2012-07-30\", \"2012-08-01\", \"2012-08-05\", \"2012-08-10\", \"2012-08-14\", \"2012-08-14\", \"2012-08-17\", \"2012-08-21\", \"2012-08-25\", \"2012-08-31\", \"2012-09-03\", \"2012-09-05\", \"2012-09-06\", \"2012-09-09\", \"2012-09-11\", \"2012-09-13\", \"2012-09-15\", \"2012-09-16\", \"2012-09-16\", \"2012-09-18\", \"2012-09-22\", \"2012-10-09\", \"2012-10-12\", \"2012-10-13\", \"2012-10-15\", \"2012-10-17\", \"2012-10-22\", \"2012-10-27\", \"2012-10-31\", \"2012-11-04\", \"2012-11-07\", \"2012-11-09\", \"2012-11-18\", \"2012-11-20\", \"2012-11-20\", \"2012-11-24\", \"2012-11-28\", \"2012-12-02\", \"2012-12-03\", \"2012-12-05\", \"2012-12-08\", \"2012-12-11\", \"2012-12-12\", \"2012-12-13\", \"2012-12-18\", \"2012-12-25\", \"2012-12-29\", \"2012-12-30\", \"2012-12-31\", \"2013-01-06\", \"2013-01-06\", \"2013-01-11\", \"2013-01-12\", \"2013-01-13\", \"2013-01-16\", \"2013-01-16\", \"2013-01-21\", \"2013-01-24\", \"2013-01-25\", \"2013-01-25\", \"2013-01-29\", \"2013-01-30\", \"2013-02-07\", \"2013-02-07\", \"2013-02-08\", \"2013-02-10\", \"2013-02-11\", \"2013-02-13\", \"2013-02-13\", \"2013-02-15\", \"2013-02-19\", \"2013-02-20\", \"2013-02-21\", \"2013-02-24\", \"2013-02-25\", \"2013-02-28\", \"2013-03-04\", \"2013-03-04\", \"2013-03-05\", \"2013-03-12\", \"2013-03-17\", \"2013-03-19\", \"2013-03-21\", \"2013-03-22\", \"2013-03-31\", \"2013-04-07\", \"2013-04-09\", \"2013-04-21\", \"2013-04-22\", \"2013-04-23\", \"2013-04-24\", \"2013-04-25\", \"2013-04-26\", \"2013-04-27\", \"2013-04-29\", \"2013-04-29\", \"2013-04-29\", \"2013-05-01\", \"2013-05-04\", \"2013-05-04\", \"2013-05-14\", \"2013-05-14\", \"2013-05-20\", \"2013-05-24\", \"2013-05-25\", \"2013-05-29\", \"2013-06-07\", \"2013-06-08\", \"2013-06-12\", \"2013-06-13\", \"2013-06-15\", \"2013-06-25\", \"2013-06-26\", \"2013-06-29\", \"2013-06-30\", \"2013-07-01\", \"2013-07-02\", \"2013-07-06\", \"2013-07-07\", \"2013-07-10\", \"2013-07-10\", \"2013-07-17\", \"2013-07-19\", \"2013-07-20\", \"2013-07-21\", \"2013-07-23\", \"2013-07-25\", \"2013-07-27\", \"2013-07-28\", \"2013-07-29\", \"2013-07-29\", \"2013-08-12\", \"2013-08-13\", \"2013-08-13\", \"2013-08-15\", \"2013-08-16\", \"2013-08-20\", \"2013-08-20\", \"2013-08-21\", \"2013-08-21\", \"2013-08-23\", \"2013-08-31\", \"2013-09-03\", \"2013-09-03\", \"2013-09-13\", \"2013-09-13\", \"2013-09-14\", \"2013-09-15\", \"2013-09-21\", \"2013-09-22\", \"2013-09-24\", \"2013-09-27\", \"2013-09-28\", \"2013-10-02\", \"2013-10-04\", \"2013-10-04\", \"2013-10-12\", \"2013-10-12\", \"2013-10-12\", \"2013-10-13\", \"2013-10-14\", \"2013-10-15\", \"2013-10-16\", \"2013-10-17\", \"2013-10-17\", \"2013-10-18\", \"2013-10-18\", \"2013-10-21\", \"2013-10-21\", \"2013-10-21\", \"2013-10-23\", \"2013-10-24\", \"2013-10-27\", \"2013-10-28\", \"2013-10-28\", \"2013-11-04\", \"2013-11-05\", \"2013-11-05\", \"2013-11-06\", \"2013-11-06\", \"2013-11-09\", \"2013-11-10\", \"2013-11-10\", \"2013-11-13\", \"2013-11-16\", \"2013-11-18\", \"2013-11-18\", \"2013-11-19\", \"2013-11-20\", \"2013-11-21\", \"2013-11-24\", \"2013-11-25\", \"2013-11-27\", \"2013-11-28\", \"2013-12-02\", \"2013-12-07\", \"2013-12-09\", \"2013-12-09\", \"2013-12-11\", \"2013-12-11\", \"2013-12-13\", \"2013-12-16\", \"2013-12-16\", \"2013-12-16\", \"2013-12-18\", \"2013-12-19\", \"2013-12-20\", \"2013-12-22\", \"2013-12-26\", \"2013-12-28\", \"2013-12-31\", \"2013-12-31\", \"2014-01-02\", \"2014-01-03\", \"2014-01-07\", \"2014-01-08\", \"2014-01-09\", \"2014-01-11\", \"2014-01-13\", \"2014-01-18\", \"2014-01-19\", \"2014-01-25\", \"2014-01-25\", \"2014-01-26\", \"2014-01-27\", \"2014-01-27\", \"2014-01-31\", \"2014-01-31\", \"2014-02-02\", \"2014-02-05\", \"2014-02-06\", \"2014-02-06\", \"2014-02-08\", \"2014-02-09\", \"2014-02-14\", \"2014-02-14\", \"2014-02-16\", \"2014-02-16\", \"2014-02-18\", \"2014-02-20\", \"2014-02-23\", \"2014-02-23\", \"2014-02-26\", \"2014-02-27\", \"2014-02-28\", \"2014-03-03\", \"2014-03-05\", \"2014-03-06\", \"2014-03-06\", \"2014-03-06\", \"2014-03-09\", \"2014-03-11\", \"2014-03-11\", \"2014-03-11\", \"2014-03-12\", \"2014-03-12\", \"2014-03-15\", \"2014-03-15\", \"2014-03-16\", \"2014-03-19\", \"2014-03-20\", \"2014-03-20\", \"2014-03-24\", \"2014-03-24\", \"2014-03-25\", \"2014-03-26\", \"2014-03-29\", \"2014-03-30\", \"2014-03-31\", \"2014-04-02\", \"2014-04-04\", \"2014-04-06\", \"2014-04-08\", \"2014-04-08\", \"2014-04-08\", \"2014-04-10\", \"2014-04-13\", \"2014-04-14\", \"2014-04-20\", \"2014-04-21\", \"2014-04-21\", \"2014-04-22\", \"2014-04-22\", \"2014-04-24\", \"2014-04-25\", \"2014-04-26\", \"2014-04-27\", \"2014-04-29\", \"2014-04-30\", \"2014-05-01\", \"2014-05-01\", \"2014-05-03\", \"2014-05-06\", \"2014-05-06\", \"2014-05-06\", \"2014-05-07\", \"2014-05-07\", \"2014-05-08\", \"2014-05-12\", \"2014-05-13\", \"2014-05-14\", \"2014-05-14\", \"2014-05-14\", \"2014-05-19\", \"2014-05-19\", \"2014-05-21\", \"2014-05-22\", \"2014-05-22\", \"2014-05-24\", \"2014-05-25\", \"2014-05-25\", \"2014-05-26\", \"2014-05-29\", \"2014-05-30\", \"2014-05-31\", \"2014-05-31\", \"2014-06-04\", \"2014-06-05\", \"2014-06-06\", \"2014-06-09\", \"2014-06-12\", \"2014-06-12\", \"2014-06-12\", \"2014-06-15\", \"2014-06-15\", \"2014-06-17\", \"2014-06-23\", \"2014-06-24\", \"2014-06-26\", \"2014-07-01\", \"2014-07-01\", \"2014-07-06\", \"2014-07-09\", \"2014-07-11\", \"2014-07-11\", \"2014-07-13\", \"2014-07-14\", \"2014-07-15\", \"2014-07-16\", \"2014-07-16\", \"2014-07-17\", \"2014-07-17\", \"2014-07-20\", \"2014-07-20\", \"2014-07-23\", \"2014-07-23\", \"2014-07-24\", \"2014-07-26\", \"2014-07-28\", \"2014-07-28\", \"2014-07-30\", \"2014-07-30\", \"2014-07-31\", \"2014-08-02\", \"2014-08-02\", \"2014-08-04\", \"2014-08-05\", \"2014-08-06\", \"2014-08-07\", \"2014-08-08\", \"2014-08-08\", \"2014-08-08\", \"2014-08-09\", \"2014-08-10\", \"2014-08-13\", \"2014-08-14\", \"2014-08-14\", \"2014-08-16\", \"2014-08-17\", \"2014-08-17\", \"2014-08-17\", \"2014-08-18\", \"2014-08-18\", \"2014-08-22\", \"2014-08-22\", \"2014-08-22\", \"2014-08-23\", \"2014-08-23\", \"2014-08-24\", \"2014-08-24\", \"2014-08-25\", \"2014-08-26\", \"2014-08-26\", \"2014-08-26\", \"2014-08-27\", \"2014-08-29\", \"2014-08-30\", \"2014-08-30\", \"2014-09-01\", \"2014-09-05\", \"2014-09-05\", \"2014-09-06\", \"2014-09-08\", \"2014-09-09\", \"2014-09-10\", \"2014-09-12\", \"2014-09-13\", \"2014-09-13\", \"2014-09-17\", \"2014-09-17\", \"2014-09-18\", \"2014-09-19\", \"2014-09-25\", \"2014-09-26\", \"2014-09-27\", \"2014-09-28\", \"2014-09-29\", \"2014-09-30\", \"2014-10-01\", \"2014-10-05\", \"2014-10-06\", \"2014-10-06\", \"2014-10-08\", \"2014-10-09\", \"2014-10-10\", \"2014-10-11\", \"2014-10-11\", \"2014-10-15\", \"2014-10-16\", \"2014-10-17\", \"2014-10-17\", \"2014-10-19\", \"2014-10-21\", \"2014-10-23\", \"2014-10-23\", \"2014-10-23\", \"2014-10-23\", \"2014-10-24\", \"2014-10-24\", \"2014-10-25\", \"2014-10-26\", \"2014-10-29\", \"2014-10-29\", \"2014-10-29\", \"2014-10-30\", \"2014-11-01\", \"2014-11-05\", \"2014-11-06\", \"2014-11-06\", \"2014-11-10\", \"2014-11-11\", \"2014-11-11\", \"2014-11-15\", \"2014-11-17\", \"2014-11-19\", \"2014-11-21\", \"2014-11-21\", \"2014-11-22\", \"2014-11-23\", \"2014-11-24\", \"2014-11-24\", \"2014-11-24\", \"2014-11-25\", \"2014-11-29\", \"2014-12-01\", \"2014-12-05\", \"2014-12-05\", \"2014-12-07\", \"2014-12-08\", \"2014-12-08\", \"2014-12-18\", \"2014-12-21\", \"2014-12-21\", \"2014-12-22\", \"2014-12-22\", \"2014-12-23\", \"2014-12-25\", \"2014-12-27\", \"2014-12-29\", \"2015-01-01\", \"2015-01-03\", \"2015-01-04\", \"2015-01-05\", \"2015-01-07\", \"2015-01-07\", \"2015-01-08\", \"2015-01-08\", \"2015-01-10\", \"2015-01-11\", \"2015-01-12\", \"2015-01-13\", \"2015-01-14\", \"2015-01-15\", \"2015-01-17\", \"2015-01-19\", \"2015-01-19\", \"2015-01-19\", \"2015-01-19\", \"2015-01-20\", \"2015-01-21\", \"2015-01-23\", \"2015-01-25\", \"2015-01-25\", \"2015-01-25\", \"2015-01-25\", \"2015-01-26\", \"2015-01-27\", \"2015-01-27\", \"2015-01-29\", \"2015-01-29\", \"2015-02-03\", \"2015-02-03\", \"2015-02-05\", \"2015-02-06\", \"2015-02-08\", \"2015-02-09\", \"2015-02-10\", \"2015-02-10\", \"2015-02-10\", \"2015-02-14\", \"2015-02-16\", \"2015-02-18\", \"2015-02-19\", \"2015-02-22\", \"2015-02-22\", \"2015-02-22\", \"2015-02-23\", \"2015-02-23\", \"2015-02-26\", \"2015-02-26\", \"2015-02-26\", \"2015-02-26\", \"2015-02-26\", \"2015-02-28\", \"2015-03-02\", \"2015-03-03\", \"2015-03-04\", \"2015-03-04\", \"2015-03-05\", \"2015-03-07\", \"2015-03-07\", \"2015-03-09\", \"2015-03-09\", \"2015-03-09\", \"2015-03-10\", \"2015-03-13\", \"2015-03-15\", \"2015-03-18\", \"2015-03-18\", \"2015-03-20\", \"2015-03-20\", \"2015-03-21\", \"2015-03-22\", \"2015-03-23\", \"2015-03-24\", \"2015-03-26\", \"2015-03-26\", \"2015-03-28\", \"2015-03-29\", \"2015-03-29\", \"2015-03-31\", \"2015-03-31\", \"2015-04-01\", \"2015-04-02\", \"2015-04-02\", \"2015-04-04\", \"2015-04-04\", \"2015-04-05\", \"2015-04-08\", \"2015-04-08\", \"2015-04-09\", \"2015-04-11\", \"2015-04-11\", \"2015-04-12\", \"2015-04-13\", \"2015-04-13\", \"2015-04-14\", \"2015-04-14\", \"2015-04-15\", \"2015-04-16\", \"2015-04-16\", \"2015-04-16\", \"2015-04-16\", \"2015-04-16\", \"2015-04-18\", \"2015-04-19\", \"2015-04-19\", \"2015-04-19\", \"2015-04-20\", \"2015-04-20\", \"2015-04-21\", \"2015-04-21\", \"2015-04-22\", \"2015-04-22\", \"2015-04-23\", \"2015-04-24\", \"2015-04-24\", \"2015-04-25\", \"2015-04-26\", \"2015-04-26\", \"2015-04-26\", \"2015-04-27\", \"2015-04-27\", \"2015-04-27\", \"2015-04-27\", \"2015-04-29\", \"2015-04-30\", \"2015-05-01\", \"2015-05-02\", \"2015-05-03\", \"2015-05-04\", \"2015-05-04\", \"2015-05-04\", \"2015-05-05\", \"2015-05-06\", \"2015-05-07\", \"2015-05-08\", \"2015-05-11\", \"2015-05-12\", \"2015-05-13\", \"2015-05-15\", \"2015-05-16\", \"2015-05-16\", \"2015-05-16\", \"2015-05-17\", \"2015-05-17\", \"2015-05-17\", \"2015-05-17\", \"2015-05-18\", \"2015-05-21\", \"2015-05-21\", \"2015-05-21\", \"2015-05-22\", \"2015-05-25\", \"2015-05-26\", \"2015-05-26\", \"2015-05-27\", \"2015-05-27\", \"2015-05-28\", \"2015-05-28\", \"2015-05-28\", \"2015-05-28\", \"2015-05-29\", \"2015-05-30\", \"2015-06-01\", \"2015-06-01\", \"2015-06-04\", \"2015-06-04\", \"2015-06-05\", \"2015-06-05\", \"2015-06-06\", \"2015-06-09\", \"2015-06-09\", \"2015-06-10\", \"2015-06-10\", \"2015-06-10\", \"2015-06-11\", \"2015-06-12\", \"2015-06-12\", \"2015-06-12\", \"2015-06-12\", \"2015-06-12\", \"2015-06-13\", \"2015-06-15\", \"2015-06-15\", \"2015-06-16\", \"2015-06-16\", \"2015-06-17\", \"2015-06-18\", \"2015-06-18\", \"2015-06-19\", \"2015-06-22\", \"2015-06-23\", \"2015-06-23\", \"2015-06-23\", \"2015-06-26\", \"2015-06-26\", \"2015-06-27\", \"2015-06-29\", \"2015-06-30\", \"2015-07-01\", \"2015-07-01\", \"2015-07-01\", \"2015-07-02\", \"2015-07-02\", \"2015-07-02\", \"2015-07-03\", \"2015-07-03\", \"2015-07-03\", \"2015-07-05\", \"2015-07-05\", \"2015-07-05\", \"2015-07-08\", \"2015-07-08\", \"2015-07-09\", \"2015-07-09\", \"2015-07-09\", \"2015-07-13\", \"2015-07-13\", \"2015-07-13\", \"2015-07-13\", \"2015-07-14\", \"2015-07-14\", \"2015-07-14\", \"2015-07-16\", \"2015-07-16\", \"2015-07-16\", \"2015-07-17\", \"2015-07-17\", \"2015-07-17\", \"2015-07-17\", \"2015-07-19\", \"2015-07-20\", \"2015-07-20\", \"2015-07-20\", \"2015-07-20\", \"2015-07-21\", \"2015-07-21\", \"2015-07-22\", \"2015-07-22\", \"2015-07-23\", \"2015-07-23\", \"2015-07-24\", \"2015-07-25\", \"2015-07-26\", \"2015-07-27\", \"2015-07-27\", \"2015-07-30\", \"2015-07-31\", \"2015-07-31\", \"2015-07-31\", \"2015-07-31\", \"2015-07-31\", \"2015-08-01\", \"2015-08-01\", \"2015-08-01\", \"2015-08-01\", \"2015-08-03\", \"2015-08-03\", \"2015-08-03\", \"2015-08-05\", \"2015-08-05\", \"2015-08-06\", \"2015-08-06\", \"2015-08-07\", \"2015-08-08\", \"2015-08-08\", \"2015-08-10\", \"2015-08-10\", \"2015-08-11\", \"2015-08-11\", \"2015-08-11\", \"2015-08-13\", \"2015-08-14\", \"2015-08-14\", \"2015-08-14\", \"2015-08-16\", \"2015-08-16\", \"2015-08-17\", \"2015-08-19\", \"2015-08-20\", \"2015-08-21\", \"2015-08-23\", \"2015-08-24\", \"2015-08-25\", \"2015-08-26\", \"2015-08-26\", \"2015-08-26\", \"2015-08-26\", \"2015-08-26\", \"2015-08-28\", \"2015-08-31\", \"2015-08-31\", \"2015-08-31\", \"2015-09-01\", \"2015-09-01\", \"2015-09-01\", \"2015-09-03\", \"2015-09-03\", \"2015-09-04\", \"2015-09-05\", \"2015-09-05\", \"2015-09-05\", \"2015-09-05\", \"2015-09-06\", \"2015-09-09\", \"2015-09-10\", \"2015-09-11\", \"2015-09-12\", \"2015-09-12\", \"2015-09-13\", \"2015-09-14\", \"2015-09-15\", \"2015-09-17\", \"2015-09-18\", \"2015-09-18\", \"2015-09-18\", \"2015-09-20\", \"2015-09-21\", \"2015-09-21\", \"2015-09-22\", \"2015-09-23\", \"2015-09-23\", \"2015-09-23\", \"2015-09-25\", \"2015-09-26\", \"2015-09-27\", \"2015-09-28\", \"2015-09-28\", \"2015-09-28\", \"2015-09-30\", \"2015-09-30\", \"2015-09-30\", \"2015-10-02\", \"2015-10-02\", \"2015-10-03\", \"2015-10-03\", \"2015-10-03\", \"2015-10-04\", \"2015-10-05\", \"2015-10-06\", \"2015-10-07\", \"2015-10-09\", \"2015-10-10\", \"2015-10-10\", \"2015-10-12\", \"2015-10-12\", \"2015-10-13\", \"2015-10-14\", \"2015-10-15\", \"2015-10-16\", \"2015-10-16\", \"2015-10-18\", \"2015-10-18\", \"2015-10-18\", \"2015-10-18\", \"2015-10-18\", \"2015-10-19\", \"2015-10-19\", \"2015-10-20\", \"2015-10-20\", \"2015-10-21\", \"2015-10-21\", \"2015-10-24\", \"2015-10-25\", \"2015-10-25\", \"2015-10-26\", \"2015-10-27\", \"2015-10-27\", \"2015-10-28\", \"2015-10-28\", \"2015-10-30\", \"2015-10-30\", \"2015-10-30\", \"2015-11-03\", \"2015-11-03\", \"2015-11-04\", \"2015-11-04\", \"2015-11-06\", \"2015-11-06\", \"2015-11-07\", \"2015-11-07\", \"2015-11-08\", \"2015-11-08\", \"2015-11-09\", \"2015-11-09\", \"2015-11-10\", \"2015-11-10\", \"2015-11-11\", \"2015-11-11\", \"2015-11-13\", \"2015-11-15\", \"2015-11-16\", \"2015-11-18\", \"2015-11-19\", \"2015-11-20\", \"2015-11-20\", \"2015-11-22\", \"2015-11-22\", \"2015-11-23\", \"2015-11-23\", \"2015-11-23\", \"2015-11-24\", \"2015-11-26\", \"2015-11-26\", \"2015-12-01\", \"2015-12-02\", \"2015-12-04\", \"2015-12-06\", \"2015-12-07\", \"2015-12-07\", \"2015-12-08\", \"2015-12-08\", \"2015-12-08\", \"2015-12-09\", \"2015-12-09\", \"2015-12-10\", \"2015-12-12\", \"2015-12-12\", \"2015-12-12\", \"2015-12-13\", \"2015-12-13\", \"2015-12-14\", \"2015-12-15\", \"2015-12-15\", \"2015-12-16\", \"2015-12-17\", \"2015-12-18\", \"2015-12-19\", \"2015-12-19\", \"2015-12-20\", \"2015-12-20\", \"2015-12-21\", \"2015-12-22\", \"2015-12-23\", \"2015-12-23\", \"2015-12-24\", \"2015-12-25\", \"2015-12-25\", \"2015-12-29\", \"2015-12-31\", \"2015-12-31\", \"2015-12-31\", \"2015-12-31\", \"2016-01-03\", \"2016-01-03\", \"2016-01-04\", \"2016-01-05\", \"2016-01-05\", \"2016-01-05\", \"2016-01-05\", \"2016-01-06\", \"2016-01-06\", \"2016-01-08\", \"2016-01-08\", \"2016-01-10\", \"2016-01-11\", \"2016-01-11\", \"2016-01-11\", \"2016-01-12\", \"2016-01-12\", \"2016-01-13\", \"2016-01-13\", \"2016-01-13\", \"2016-01-13\", \"2016-01-14\", \"2016-01-14\", \"2016-01-14\", \"2016-01-16\", \"2016-01-17\", \"2016-01-17\", \"2016-01-17\", \"2016-01-18\", \"2016-01-18\", \"2016-01-20\", \"2016-01-20\", \"2016-01-21\", \"2016-01-21\", \"2016-01-22\", \"2016-01-23\", \"2016-01-24\", \"2016-01-26\", \"2016-01-26\", \"2016-01-27\", \"2016-01-28\", \"2016-01-28\", \"2016-01-29\", \"2016-01-29\", \"2016-01-30\", \"2016-01-31\", \"2016-02-02\", \"2016-02-03\", \"2016-02-04\", \"2016-02-04\", \"2016-02-06\", \"2016-02-06\", \"2016-02-07\", \"2016-02-07\", \"2016-02-08\", \"2016-02-08\", \"2016-02-08\", \"2016-02-08\", \"2016-02-09\", \"2016-02-09\", \"2016-02-09\", \"2016-02-10\", \"2016-02-11\", \"2016-02-11\", \"2016-02-12\", \"2016-02-13\", \"2016-02-14\", \"2016-02-17\", \"2016-02-18\", \"2016-02-19\", \"2016-02-20\", \"2016-02-20\", \"2016-02-21\", \"2016-02-21\", \"2016-02-21\", \"2016-02-21\", \"2016-02-21\", \"2016-02-24\", \"2016-02-25\", \"2016-02-25\", \"2016-02-26\", \"2016-02-26\", \"2016-02-27\", \"2016-02-27\", \"2016-02-27\", \"2016-02-28\", \"2016-02-28\", \"2016-02-29\", \"2016-02-29\", \"2016-02-29\", \"2016-03-01\", \"2016-03-01\", \"2016-03-01\", \"2016-03-02\", \"2016-03-03\", \"2016-03-03\", \"2016-03-06\", \"2016-03-08\", \"2016-03-08\", \"2016-03-08\", \"2016-03-11\", \"2016-03-11\", \"2016-03-12\", \"2016-03-12\", \"2016-03-13\", \"2016-03-13\", \"2016-03-13\", \"2016-03-14\", \"2016-03-14\", \"2016-03-14\", \"2016-03-16\", \"2016-03-19\", \"2016-03-19\", \"2016-03-19\", \"2016-03-21\", \"2016-03-21\", \"2016-03-23\", \"2016-03-24\", \"2016-03-25\", \"2016-03-26\", \"2016-03-26\", \"2016-03-26\", \"2016-03-27\", \"2016-03-29\", \"2016-03-30\", \"2016-03-30\", \"2016-03-31\", \"2016-04-02\", \"2016-04-02\", \"2016-04-03\", \"2016-04-04\", \"2016-04-04\", \"2016-04-04\", \"2016-04-04\", \"2016-04-05\", \"2016-04-06\", \"2016-04-07\", \"2016-04-07\", \"2016-04-10\", \"2016-04-11\", \"2016-04-13\", \"2016-04-13\", \"2016-04-13\", \"2016-04-13\", \"2016-04-14\", \"2016-04-15\", \"2016-04-16\", \"2016-04-17\", \"2016-04-18\", \"2016-04-18\", \"2016-04-19\", \"2016-04-19\", \"2016-04-21\", \"2016-04-21\", \"2016-04-21\", \"2016-04-22\", \"2016-04-22\", \"2016-04-23\", \"2016-04-24\", \"2016-04-26\", \"2016-04-26\", \"2016-04-27\", \"2016-04-27\", \"2016-04-28\", \"2016-04-29\", \"2016-04-29\", \"2016-04-29\", \"2016-05-01\", \"2016-05-02\", \"2016-05-02\", \"2016-05-02\", \"2016-05-04\", \"2016-05-04\", \"2016-05-05\", \"2016-05-05\", \"2016-05-05\", \"2016-05-05\", \"2016-05-06\", \"2016-05-06\", \"2016-05-06\", \"2016-05-07\", \"2016-05-08\", \"2016-05-09\", \"2016-05-10\", \"2016-05-11\", \"2016-05-13\", \"2016-05-13\", \"2016-05-14\", \"2016-05-16\", \"2016-05-16\", \"2016-05-17\", \"2016-05-17\", \"2016-05-18\", \"2016-05-19\", \"2016-05-20\", \"2016-05-22\", \"2016-05-24\", \"2016-05-24\", \"2016-05-25\", \"2016-05-25\", \"2016-05-25\", \"2016-05-25\", \"2016-05-26\", \"2016-05-27\", \"2016-05-28\", \"2016-05-29\", \"2016-05-29\", \"2016-06-01\", \"2016-06-01\", \"2016-06-02\", \"2016-06-02\", \"2016-06-03\", \"2016-06-04\", \"2016-06-05\", \"2016-06-05\", \"2016-06-06\", \"2016-06-07\", \"2016-06-08\", \"2016-06-09\", \"2016-06-09\", \"2016-06-09\", \"2016-06-09\", \"2016-06-10\", \"2016-06-10\", \"2016-06-10\", \"2016-06-11\", \"2016-06-11\", \"2016-06-11\", \"2016-06-12\", \"2016-06-14\", \"2016-06-14\", \"2016-06-14\", \"2016-06-16\", \"2016-06-17\", \"2016-06-17\", \"2016-06-17\", \"2016-06-20\", \"2016-06-21\", \"2016-06-22\", \"2016-06-23\", \"2016-06-23\", \"2016-06-23\", \"2016-06-25\", \"2016-06-25\", \"2016-06-25\", \"2016-06-25\", \"2016-06-27\", \"2016-06-27\", \"2016-06-29\", \"2016-06-30\", \"2016-06-30\", \"2016-06-30\", \"2016-07-01\", \"2016-07-01\", \"2016-07-01\", \"2016-07-01\", \"2016-07-02\", \"2016-07-03\", \"2016-07-03\", \"2016-07-03\", \"2016-07-04\", \"2016-07-09\", \"2016-07-10\", \"2016-07-10\", \"2016-07-10\", \"2016-07-10\", \"2016-07-10\", \"2016-07-11\", \"2016-07-11\", \"2016-07-11\", \"2016-07-11\", \"2016-07-11\", \"2016-07-13\", \"2016-07-15\", \"2016-07-15\", \"2016-07-16\", \"2016-07-17\", \"2016-07-17\", \"2016-07-17\", \"2016-07-17\", \"2016-07-17\", \"2016-07-19\", \"2016-07-19\", \"2016-07-19\", \"2016-07-20\", \"2016-07-20\", \"2016-07-20\", \"2016-07-21\", \"2016-07-21\", \"2016-07-22\", \"2016-07-22\", \"2016-07-22\", \"2016-07-23\", \"2016-07-23\", \"2016-07-23\", \"2016-07-24\", \"2016-07-26\", \"2016-07-26\", \"2016-07-26\", \"2016-07-28\", \"2016-07-29\", \"2016-07-29\", \"2016-07-29\", \"2016-07-30\", \"2016-07-30\", \"2016-07-30\", \"2016-07-30\", \"2016-07-31\", \"2016-07-31\", \"2016-08-01\", \"2016-08-01\", \"2016-08-01\", \"2016-08-01\", \"2016-08-02\", \"2016-08-03\", \"2016-08-03\", \"2016-08-04\", \"2016-08-04\", \"2016-08-05\", \"2016-08-06\", \"2016-08-06\", \"2016-08-10\", \"2016-08-11\", \"2016-08-11\", \"2016-08-12\", \"2016-08-14\", \"2016-08-14\", \"2016-08-14\", \"2016-08-14\", \"2016-08-15\", \"2016-08-15\", \"2016-08-15\", \"2016-08-16\", \"2016-08-16\", \"2016-08-16\", \"2016-08-16\", \"2016-08-18\", \"2016-08-19\", \"2016-08-20\", \"2016-08-21\", \"2016-08-21\", \"2016-08-21\", \"2016-08-22\", \"2016-08-22\", \"2016-08-23\", \"2016-08-23\", \"2016-08-24\", \"2016-08-25\", \"2016-08-26\", \"2016-08-26\", \"2016-08-27\", \"2016-08-27\", \"2016-08-28\", \"2016-08-28\", \"2016-08-29\", \"2016-08-30\", \"2016-08-30\", \"2016-08-31\", \"2016-08-31\", \"2016-09-01\", \"2016-09-01\", \"2016-09-01\", \"2016-09-01\", \"2016-09-02\", \"2016-09-03\", \"2016-09-04\", \"2016-09-05\", \"2016-09-05\", \"2016-09-05\", \"2016-09-07\", \"2016-09-09\", \"2016-09-09\", \"2016-09-09\", \"2016-09-10\", \"2016-09-11\", \"2016-09-11\", \"2016-09-11\", \"2016-09-12\", \"2016-09-13\", \"2016-09-14\", \"2016-09-14\", \"2016-09-16\", \"2016-09-16\", \"2016-09-17\", \"2016-09-17\", \"2016-09-18\", \"2016-09-19\", \"2016-09-19\", \"2016-09-20\", \"2016-09-21\", \"2016-09-22\", \"2016-09-23\", \"2016-09-23\", \"2016-09-24\", \"2016-09-24\", \"2016-09-24\", \"2016-09-25\", \"2016-09-25\", \"2016-09-25\", \"2016-09-25\", \"2016-09-25\", \"2016-09-26\", \"2016-09-26\", \"2016-09-26\", \"2016-09-28\", \"2016-09-29\", \"2016-09-29\", \"2016-10-01\", \"2016-10-02\", \"2016-10-02\", \"2016-10-07\", \"2016-10-08\", \"2016-10-08\", \"2016-10-09\", \"2016-10-10\", \"2016-10-10\", \"2016-10-10\", \"2016-10-11\", \"2016-10-11\", \"2016-10-12\", \"2016-10-13\", \"2016-10-14\", \"2016-10-14\", \"2016-10-14\", \"2016-10-15\", \"2016-10-17\", \"2016-10-17\", \"2016-10-17\", \"2016-10-17\", \"2016-10-19\", \"2016-10-21\", \"2016-10-21\", \"2016-10-22\", \"2016-10-22\", \"2016-10-23\", \"2016-10-24\", \"2016-10-24\", \"2016-10-24\", \"2016-10-24\", \"2016-10-24\", \"2016-10-26\", \"2016-10-26\", \"2016-10-27\", \"2016-10-27\", \"2016-10-28\", \"2016-10-28\", \"2016-10-30\", \"2016-10-30\", \"2016-10-31\", \"2016-10-31\", \"2016-10-31\", \"2016-11-01\", \"2016-11-01\", \"2016-11-02\", \"2016-11-02\", \"2016-11-02\", \"2016-11-02\", \"2016-11-02\", \"2016-11-03\", \"2016-11-03\", \"2016-11-03\", \"2016-11-03\", \"2016-11-03\", \"2016-11-03\", \"2016-11-04\", \"2016-11-04\", \"2016-11-05\", \"2016-11-05\", \"2016-11-05\", \"2016-11-06\", \"2016-11-08\", \"2016-11-08\", \"2016-11-08\", \"2016-11-08\", \"2016-11-10\", \"2016-11-11\", \"2016-11-11\", \"2016-11-11\", \"2016-11-13\", \"2016-11-13\", \"2016-11-14\", \"2016-11-15\", \"2016-11-16\", \"2016-11-16\", \"2016-11-18\", \"2016-11-18\", \"2016-11-18\", \"2016-11-18\", \"2016-11-19\", \"2016-11-20\", \"2016-11-20\", \"2016-11-21\", \"2016-11-21\", \"2016-11-21\", \"2016-11-22\", \"2016-11-22\", \"2016-11-23\", \"2016-11-23\", \"2016-11-24\", \"2016-11-24\", \"2016-11-25\", \"2016-11-26\", \"2016-11-26\", \"2016-11-27\", \"2016-11-27\", \"2016-11-27\", \"2016-11-29\", \"2016-11-30\", \"2016-11-30\", \"2016-11-30\", \"2016-12-01\", \"2016-12-02\", \"2016-12-04\", \"2016-12-05\", \"2016-12-06\", \"2016-12-07\", \"2016-12-07\", \"2016-12-07\", \"2016-12-07\", \"2016-12-08\", \"2016-12-09\", \"2016-12-09\", \"2016-12-10\", \"2016-12-11\", \"2016-12-12\", \"2016-12-12\", \"2016-12-13\", \"2016-12-14\", \"2016-12-16\", \"2016-12-16\", \"2016-12-16\", \"2016-12-17\", \"2016-12-18\", \"2016-12-18\", \"2016-12-18\", \"2016-12-19\", \"2016-12-19\", \"2016-12-19\", \"2016-12-20\", \"2016-12-20\", \"2016-12-20\", \"2016-12-21\", \"2016-12-22\", \"2016-12-22\", \"2016-12-22\", \"2016-12-23\", \"2016-12-23\", \"2016-12-24\", \"2016-12-24\", \"2016-12-26\", \"2016-12-26\", \"2016-12-28\", \"2017-01-01\", \"2017-01-01\", \"2017-01-01\", \"2017-01-01\", \"2017-01-02\", \"2017-01-03\", \"2017-01-05\", \"2017-01-05\", \"2017-01-05\", \"2017-01-06\", \"2017-01-06\", \"2017-01-07\", \"2017-01-08\", \"2017-01-08\", \"2017-01-09\", \"2017-01-09\", \"2017-01-09\", \"2017-01-11\", \"2017-01-11\", \"2017-01-13\", \"2017-01-13\", \"2017-01-14\", \"2017-01-15\", \"2017-01-15\", \"2017-01-16\", \"2017-01-16\", \"2017-01-16\", \"2017-01-17\", \"2017-01-17\", \"2017-01-18\", \"2017-01-18\", \"2017-01-18\", \"2017-01-19\", \"2017-01-19\", \"2017-01-21\", \"2017-01-21\", \"2017-01-23\", \"2017-01-23\", \"2017-01-24\", \"2017-01-24\", \"2017-01-25\", \"2017-01-26\", \"2017-01-26\", \"2017-01-27\", \"2017-01-28\", \"2017-01-29\", \"2017-01-29\", \"2017-01-30\", \"2017-01-31\", \"2017-01-31\", \"2017-01-31\", \"2017-02-01\", \"2017-02-01\", \"2017-02-02\", \"2017-02-02\", \"2017-02-03\", \"2017-02-04\", \"2017-02-04\", \"2017-02-04\", \"2017-02-06\", \"2017-02-06\", \"2017-02-07\", \"2017-02-08\", \"2017-02-08\", \"2017-02-08\", \"2017-02-09\", \"2017-02-09\", \"2017-02-10\", \"2017-02-10\", \"2017-02-11\", \"2017-02-12\", \"2017-02-12\", \"2017-02-12\", \"2017-02-14\", \"2017-02-14\", \"2017-02-15\", \"2017-02-16\", \"2017-02-16\", \"2017-02-17\", \"2017-02-18\", \"2017-02-19\", \"2017-02-19\", \"2017-02-19\", \"2017-02-19\", \"2017-02-20\", \"2017-02-20\", \"2017-02-20\", \"2017-02-21\", \"2017-02-22\", \"2017-02-23\", \"2017-02-24\", \"2017-02-24\", \"2017-02-24\", \"2017-02-26\", \"2017-02-26\", \"2017-02-27\", \"2017-02-27\", \"2017-02-27\", \"2017-02-28\", \"2017-03-01\", \"2017-03-01\", \"2017-03-03\", \"2017-03-04\", \"2017-03-04\", \"2017-03-05\", \"2017-03-05\", \"2017-03-06\", \"2017-03-06\", \"2017-03-07\", \"2017-03-07\", \"2017-03-08\", \"2017-03-08\", \"2017-03-08\", \"2017-03-09\", \"2017-03-09\", \"2017-03-09\", \"2017-03-11\", \"2017-03-12\", \"2017-03-12\", \"2017-03-13\", \"2017-03-13\", \"2017-03-13\", \"2017-03-13\", \"2017-03-14\", \"2017-03-15\", \"2017-03-15\", \"2017-03-15\", \"2017-03-16\", \"2017-03-16\", \"2017-03-16\", \"2017-03-16\", \"2017-03-16\", \"2017-03-16\", \"2017-03-17\", \"2017-03-17\", \"2017-03-18\", \"2017-03-19\", \"2017-03-20\", \"2017-03-20\", \"2017-03-20\", \"2017-03-22\", \"2017-03-23\", \"2017-03-24\", \"2017-03-24\", \"2017-03-27\", \"2017-03-27\", \"2017-03-27\", \"2017-03-28\", \"2017-03-28\", \"2017-03-28\", \"2017-03-29\", \"2017-03-30\", \"2017-03-30\", \"2017-03-31\", \"2017-04-01\", \"2017-04-03\", \"2017-04-04\", \"2017-04-05\", \"2017-04-05\", \"2017-04-05\", \"2017-04-06\", \"2017-04-07\", \"2017-04-07\", \"2017-04-07\", \"2017-04-08\", \"2017-04-08\", \"2017-04-08\", \"2017-04-09\", \"2017-04-09\", \"2017-04-09\", \"2017-04-09\", \"2017-04-09\", \"2017-04-11\", \"2017-04-11\", \"2017-04-11\", \"2017-04-12\", \"2017-04-12\", \"2017-04-13\", \"2017-04-13\", \"2017-04-13\", \"2017-04-14\", \"2017-04-15\", \"2017-04-15\", \"2017-04-16\", \"2017-04-16\", \"2017-04-16\", \"2017-04-17\", \"2017-04-19\", \"2017-04-19\", \"2017-04-20\", \"2017-04-20\", \"2017-04-20\", \"2017-04-20\", \"2017-04-21\", \"2017-04-21\", \"2017-04-22\", \"2017-04-23\", \"2017-04-23\", \"2017-04-23\", \"2017-04-23\", \"2017-04-24\", \"2017-04-24\", \"2017-04-24\", \"2017-04-25\", \"2017-04-26\", \"2017-04-26\", \"2017-04-26\", \"2017-04-27\", \"2017-04-27\", \"2017-04-27\", \"2017-04-27\", \"2017-04-29\", \"2017-04-29\", \"2017-04-30\", \"2017-05-01\", \"2017-05-01\", \"2017-05-01\", \"2017-05-02\", \"2017-05-02\", \"2017-05-02\", \"2017-05-03\", \"2017-05-03\", \"2017-05-03\", \"2017-05-04\", \"2017-05-05\", \"2017-05-05\", \"2017-05-05\", \"2017-05-07\", \"2017-05-07\", \"2017-05-08\", \"2017-05-09\", \"2017-05-09\", \"2017-05-09\", \"2017-05-10\", \"2017-05-11\", \"2017-05-12\", \"2017-05-12\", \"2017-05-14\", \"2017-05-14\", \"2017-05-14\", \"2017-05-14\", \"2017-05-15\", \"2017-05-15\", \"2017-05-15\", \"2017-05-16\", \"2017-05-16\", \"2017-05-17\", \"2017-05-18\", \"2017-05-18\", \"2017-05-18\", \"2017-05-19\", \"2017-05-20\", \"2017-05-20\", \"2017-05-20\", \"2017-05-21\", \"2017-05-21\", \"2017-05-23\", \"2017-05-25\", \"2017-05-25\", \"2017-05-26\", \"2017-05-26\", \"2017-05-26\", \"2017-05-28\", \"2017-05-29\", \"2017-05-29\", \"2017-05-30\", \"2017-05-30\", \"2017-05-31\", \"2017-05-31\", \"2017-06-01\", \"2017-06-02\", \"2017-06-04\", \"2017-06-04\", \"2017-06-05\", \"2017-06-05\", \"2017-06-06\", \"2017-06-06\", \"2017-06-06\", \"2017-06-06\", \"2017-06-06\", \"2017-06-07\", \"2017-06-07\", \"2017-06-07\", \"2017-06-08\", \"2017-06-08\", \"2017-06-09\", \"2017-06-09\", \"2017-06-10\", \"2017-06-10\", \"2017-06-10\", \"2017-06-11\", \"2017-06-11\", \"2017-06-12\", \"2017-06-13\", \"2017-06-13\", \"2017-06-14\", \"2017-06-14\", \"2017-06-14\", \"2017-06-14\", \"2017-06-14\", \"2017-06-14\", \"2017-06-15\", \"2017-06-15\", \"2017-06-15\", \"2017-06-17\", \"2017-06-18\", \"2017-06-19\", \"2017-06-19\", \"2017-06-20\", \"2017-06-20\", \"2017-06-20\", \"2017-06-21\", \"2017-06-22\", \"2017-06-22\", \"2017-06-23\", \"2017-06-23\", \"2017-06-23\", \"2017-06-24\", \"2017-06-24\", \"2017-06-24\", \"2017-06-25\", \"2017-06-26\", \"2017-06-26\", \"2017-06-26\", \"2017-06-26\", \"2017-06-27\", \"2017-06-27\", \"2017-06-27\", \"2017-06-27\", \"2017-06-28\", \"2017-06-29\", \"2017-06-29\", \"2017-06-29\", \"2017-06-29\", \"2017-06-29\", \"2017-06-29\", \"2017-06-30\", \"2017-06-30\", \"2017-06-30\", \"2017-06-30\", \"2017-07-01\", \"2017-07-01\", \"2017-07-01\", \"2017-07-02\", \"2017-07-02\", \"2017-07-03\", \"2017-07-03\", \"2017-07-04\", \"2017-07-04\", \"2017-07-06\", \"2017-07-07\", \"2017-07-08\", \"2017-07-08\", \"2017-07-09\", \"2017-07-09\", \"2017-07-09\", \"2017-07-09\", \"2017-07-10\", \"2017-07-11\", \"2017-07-11\", \"2017-07-11\", \"2017-07-11\", \"2017-07-12\", \"2017-07-12\", \"2017-07-12\", \"2017-07-13\", \"2017-07-15\", \"2017-07-16\", \"2017-07-16\", \"2017-07-16\", \"2017-07-16\", \"2017-07-16\", \"2017-07-17\", \"2017-07-17\", \"2017-07-17\", \"2017-07-18\", \"2017-07-18\", \"2017-07-18\", \"2017-07-19\", \"2017-07-19\", \"2017-07-21\", \"2017-07-21\", \"2017-07-21\", \"2017-07-22\", \"2017-07-22\", \"2017-07-22\", \"2017-07-22\", \"2017-07-22\", \"2017-07-23\", \"2017-07-23\", \"2017-07-23\", \"2017-07-24\", \"2017-07-24\", \"2017-07-24\", \"2017-07-24\", \"2017-07-25\", \"2017-07-25\", \"2017-07-25\", \"2017-07-26\", \"2017-07-26\", \"2017-07-26\", \"2017-07-27\", \"2017-07-28\", \"2017-07-28\", \"2017-07-28\", \"2017-07-29\", \"2017-07-30\", \"2017-07-30\", \"2017-07-31\", \"2017-07-31\", \"2017-07-31\", \"2017-08-01\", \"2017-08-02\", \"2017-08-02\", \"2017-08-02\", \"2017-08-03\", \"2017-08-04\", \"2017-08-04\", \"2017-08-05\", \"2017-08-05\", \"2017-08-06\", \"2017-08-06\", \"2017-08-07\", \"2017-08-07\", \"2017-08-08\", \"2017-08-08\", \"2017-08-09\", \"2017-08-09\", \"2017-08-10\", \"2017-08-11\", \"2017-08-11\", \"2017-08-11\", \"2017-08-11\", \"2017-08-11\", \"2017-08-11\", \"2017-08-12\", \"2017-08-12\", \"2017-08-13\", \"2017-08-13\", \"2017-08-14\", \"2017-08-14\", \"2017-08-14\", \"2017-08-14\", \"2017-08-16\", \"2017-08-16\", \"2017-08-17\", \"2017-08-18\", \"2017-08-18\", \"2017-08-19\", \"2017-08-20\", \"2017-08-21\", \"2017-08-21\", \"2017-08-21\", \"2017-08-22\", \"2017-08-22\", \"2017-08-22\", \"2017-08-23\", \"2017-08-23\", \"2017-08-23\", \"2017-08-24\", \"2017-08-25\", \"2017-08-25\", \"2017-08-25\", \"2017-08-25\", \"2017-08-26\", \"2017-08-26\", \"2017-08-28\", \"2017-08-29\", \"2017-08-29\", \"2017-08-29\", \"2017-08-29\", \"2017-08-29\", \"2017-08-30\", \"2017-08-30\", \"2017-08-31\", \"2017-08-31\", \"2017-09-01\", \"2017-09-01\", \"2017-09-01\", \"2017-09-02\", \"2017-09-02\", \"2017-09-03\", \"2017-09-04\", \"2017-09-05\", \"2017-09-06\", \"2017-09-06\", \"2017-09-07\", \"2017-09-07\", \"2017-09-08\", \"2017-09-08\", \"2017-09-08\", \"2017-09-10\", \"2017-09-10\", \"2017-09-11\", \"2017-09-13\", \"2017-09-13\", \"2017-09-13\", \"2017-09-14\", \"2017-09-14\", \"2017-09-14\", \"2017-09-15\", \"2017-09-17\", \"2017-09-19\", \"2017-09-19\", \"2017-09-20\", \"2017-09-20\", \"2017-09-21\", \"2017-09-21\", \"2017-09-22\", \"2017-09-22\", \"2017-09-22\", \"2017-09-22\", \"2017-09-22\", \"2017-09-22\", \"2017-09-23\", \"2017-09-23\", \"2017-09-23\", \"2017-09-24\", \"2017-09-27\", \"2017-09-27\", \"2017-09-28\", \"2017-09-28\", \"2017-09-28\", \"2017-09-29\", \"2017-09-30\", \"2017-09-30\", \"2017-10-02\", \"2017-10-02\", \"2017-10-02\", \"2017-10-02\", \"2017-10-03\", \"2017-10-03\", \"2017-10-03\", \"2017-10-05\", \"2017-10-05\", \"2017-10-05\", \"2017-10-05\", \"2017-10-05\", \"2017-10-06\", \"2017-10-06\", \"2017-10-07\", \"2017-10-07\", \"2017-10-07\", \"2017-10-07\", \"2017-10-08\", \"2017-10-09\", \"2017-10-09\", \"2017-10-10\", \"2017-10-10\", \"2017-10-11\", \"2017-10-12\", \"2017-10-13\", \"2017-10-13\", \"2017-10-13\", \"2017-10-14\", \"2017-10-15\", \"2017-10-16\", \"2017-10-16\", \"2017-10-16\", \"2017-10-17\", \"2017-10-18\", \"2017-10-18\", \"2017-10-18\", \"2017-10-18\", \"2017-10-19\", \"2017-10-20\", \"2017-10-20\", \"2017-10-21\", \"2017-10-21\", \"2017-10-21\", \"2017-10-23\", \"2017-10-24\", \"2017-10-24\", \"2017-10-25\", \"2017-10-26\", \"2017-10-26\", \"2017-10-26\", \"2017-10-27\", \"2017-10-27\", \"2017-10-27\", \"2017-10-29\", \"2017-10-29\", \"2017-10-29\", \"2017-10-30\", \"2017-10-30\", \"2017-10-31\", \"2017-11-01\", \"2017-11-02\", \"2017-11-03\", \"2017-11-03\", \"2017-11-04\", \"2017-11-04\", \"2017-11-04\", \"2017-11-05\", \"2017-11-06\", \"2017-11-06\", \"2017-11-06\", \"2017-11-06\", \"2017-11-07\", \"2017-11-07\", \"2017-11-07\", \"2017-11-07\", \"2017-11-09\", \"2017-11-10\", \"2017-11-10\", \"2017-11-11\", \"2017-11-11\", \"2017-11-11\", \"2017-11-12\", \"2017-11-13\", \"2017-11-14\", \"2017-11-14\", \"2017-11-14\", \"2017-11-14\", \"2017-11-14\", \"2017-11-14\", \"2017-11-15\", \"2017-11-15\", \"2017-11-16\", \"2017-11-16\", \"2017-11-17\", \"2017-11-17\", \"2017-11-17\", \"2017-11-18\", \"2017-11-18\", \"2017-11-19\", \"2017-11-19\", \"2017-11-20\", \"2017-11-21\", \"2017-11-21\", \"2017-11-22\", \"2017-11-22\", \"2017-11-22\", \"2017-11-22\", \"2017-11-22\", \"2017-11-23\", \"2017-11-25\", \"2017-11-26\", \"2017-11-27\", \"2017-12-01\", \"2017-12-01\", \"2017-12-01\", \"2017-12-01\", \"2017-12-02\", \"2017-12-03\", \"2017-12-03\", \"2017-12-03\", \"2017-12-03\", \"2017-12-04\", \"2017-12-05\", \"2017-12-06\", \"2017-12-06\", \"2017-12-07\", \"2017-12-07\", \"2017-12-07\", \"2017-12-07\", \"2017-12-08\", \"2017-12-08\", \"2017-12-09\", \"2017-12-09\", \"2017-12-09\", \"2017-12-09\", \"2017-12-10\", \"2017-12-10\", \"2017-12-11\", \"2017-12-11\"], \"y\": [\"\", \"\", \"\", \"\", \"\", \"\", \"\", \"\", \"\", \"\", \"\", \"\", \"\", \"\", \"\", \"\", \"\", \"\", \"\", \"\", \"\", \"\", \"\", \"\", \"\", \"\", \"\", \"\", \"\", \"\", \"\", \"\", \"\", \"\", \"\", \"\", \"\", \"\", \"\", \"\", \"\", \"\", \"\", \"\", \"\", \"\", \"\", \"\", \"\", \"\", 2.3222222222222224, 2.3555555555555556, 2.3444444444444446, 2.3444444444444446, 2.3444444444444446, 2.3444444444444446, 2.3444444444444446, 2.3444444444444446, 2.3666666666666667, 2.3555555555555556, 2.3444444444444446, 2.3444444444444446, 2.3666666666666667, 2.3555555555555556, 2.3555555555555556, 2.3333333333333335, 2.3222222222222224, 2.3222222222222224, 2.3333333333333335, 2.3333333333333335, 2.3, 2.311111111111111, 2.3333333333333335, 2.3333333333333335, 2.2888888888888888, 2.2777777777777777, 2.2888888888888888, 2.2888888888888888, 2.2888888888888888, 2.2888888888888888, 2.2888888888888888, 2.2888888888888888, 2.2888888888888888, 2.2666666666666666, 2.2666666666666666, 2.2555555555555555, 2.2333333333333334, 2.188888888888889, 2.188888888888889, 2.1666666666666665, 2.1777777777777776, 2.1777777777777776, 2.1444444444444444, 2.1444444444444444, 2.1222222222222222, 2.1444444444444444, 2.1444444444444444, 2.1444444444444444, 2.1444444444444444, 2.1444444444444444, 2.1333333333333333, 2.1222222222222222, 2.1, 2.1333333333333333, 2.1555555555555554, 2.1555555555555554, 2.1333333333333333, 2.1333333333333333, 2.1, 2.088888888888889, 2.111111111111111, 2.088888888888889, 2.066666666666667, 2.066666666666667, 2.0555555555555554, 2.0444444444444443, 2.0555555555555554, 2.0444444444444443, 2.077777777777778, 2.0444444444444443, 2.0555555555555554, 2.077777777777778, 2.1, 2.1333333333333333, 2.1333333333333333, 2.1, 2.1, 2.1222222222222222, 2.1222222222222222, 2.1, 2.088888888888889, 2.077777777777778, 2.088888888888889, 2.1, 2.1222222222222222, 2.111111111111111, 2.088888888888889, 2.066666666666667, 2.077777777777778, 2.1, 2.1, 2.0555555555555554, 2.088888888888889, 2.077777777777778, 2.077777777777778, 2.077777777777778, 2.0444444444444443, 2.0444444444444443, 2.033333333333333, 2.0444444444444443, 2.0444444444444443, 2.0555555555555554, 2.0444444444444443, 2.0555555555555554, 2.033333333333333, 2.0555555555555554, 2.088888888888889, 2.077777777777778, 2.077777777777778, 2.077777777777778, 2.088888888888889, 2.088888888888889, 2.1, 2.1222222222222222, 2.1222222222222222, 2.1444444444444444, 2.1777777777777776, 2.1666666666666665, 2.2, 2.2222222222222223, 2.2222222222222223, 2.2222222222222223, 2.2222222222222223, 2.2333333333333334, 2.2111111111111112, 2.2555555555555555, 2.2666666666666666, 2.2666666666666666, 2.2888888888888888, 2.2777777777777777, 2.2555555555555555, 2.2111111111111112, 2.2222222222222223, 2.2222222222222223, 2.2555555555555555, 2.2333333333333334, 2.2111111111111112, 2.188888888888889, 2.188888888888889, 2.1777777777777776, 2.1777777777777776, 2.1666666666666665, 2.188888888888889, 2.1777777777777776, 2.1555555555555554, 2.1777777777777776, 2.1777777777777776, 2.2, 2.2111111111111112, 2.2555555555555555, 2.2444444444444445, 2.2444444444444445, 2.2666666666666666, 2.2666666666666666, 2.2888888888888888, 2.2888888888888888, 2.2777777777777777, 2.3, 2.2777777777777777, 2.2777777777777777, 2.2555555555555555, 2.2555555555555555, 2.2555555555555555, 2.2111111111111112, 2.2222222222222223, 2.2555555555555555, 2.2888888888888888, 2.311111111111111, 2.3222222222222224, 2.3555555555555556, 2.3555555555555556, 2.3555555555555556, 2.3222222222222224, 2.311111111111111, 2.2888888888888888, 2.311111111111111, 2.311111111111111, 2.311111111111111, 2.2888888888888888, 2.2555555555555555, 2.2666666666666666, 2.2777777777777777, 2.2555555555555555, 2.2444444444444445, 2.2555555555555555, 2.3, 2.3, 2.2666666666666666, 2.2555555555555555, 2.2555555555555555, 2.2555555555555555, 2.2555555555555555, 2.2333333333333334, 2.2444444444444445, 2.2666666666666666, 2.2444444444444445, 2.2111111111111112, 2.2111111111111112, 2.2111111111111112, 2.2111111111111112, 2.2111111111111112, 2.2, 2.1777777777777776, 2.1555555555555554, 2.1555555555555554, 2.1666666666666665, 2.1222222222222222, 2.1444444444444444, 2.111111111111111, 2.088888888888889, 2.088888888888889, 2.088888888888889, 2.1, 2.1, 2.111111111111111, 2.066666666666667, 2.0444444444444443, 2.0444444444444443, 2.022222222222222, 2.022222222222222, 2.022222222222222, 2.022222222222222, 2.022222222222222, 2.033333333333333, 2.011111111111111, 1.988888888888889, 2.0, 2.0, 2.0, 2.022222222222222, 2.066666666666667, 2.066666666666667, 2.077777777777778, 2.077777777777778, 2.088888888888889, 2.066666666666667, 2.088888888888889, 2.066666666666667, 2.0555555555555554, 2.011111111111111, 1.988888888888889, 2.033333333333333, 2.011111111111111, 2.022222222222222, 2.0, 2.0, 2.022222222222222, 2.011111111111111, 2.011111111111111, 2.011111111111111, 2.011111111111111, 1.988888888888889, 1.9666666666666666, 1.988888888888889, 1.9777777777777779, 1.9444444444444444, 1.9111111111111112, 1.8666666666666667, 1.8888888888888888, 1.8888888888888888, 1.8777777777777778, 1.8777777777777778, 1.8777777777777778, 1.8555555555555556, 1.8555555555555556, 1.8333333333333333, 1.8333333333333333, 1.8666666666666667, 1.8888888888888888, 1.8777777777777778, 1.8555555555555556, 1.8444444444444446, 1.8555555555555556, 1.8666666666666667, 1.8555555555555556, 1.8111111111111111, 1.8222222222222222, 1.8444444444444446, 1.8333333333333333, 1.8222222222222222, 1.8666666666666667, 1.8555555555555556, 1.8888888888888888, 1.8666666666666667, 1.8444444444444446, 1.8444444444444446, 1.8444444444444446, 1.8444444444444446, 1.8555555555555556, 1.8666666666666667, 1.8555555555555556, 1.8777777777777778, 1.8666666666666667, 1.8666666666666667, 1.9111111111111112, 1.8777777777777778, 1.8888888888888888, 1.8666666666666667, 1.9, 1.9, 1.9, 1.9111111111111112, 1.9, 1.8777777777777778, 1.8888888888888888, 1.8888888888888888, 1.9, 1.9, 1.9222222222222223, 1.9666666666666666, 1.9555555555555555, 1.988888888888889, 1.9777777777777779, 1.9666666666666666, 1.9555555555555555, 1.9555555555555555, 1.9444444444444444, 1.9444444444444444, 1.988888888888889, 1.9666666666666666, 1.9222222222222223, 1.9111111111111112, 1.9, 1.8666666666666667, 1.8777777777777778, 1.8777777777777778, 1.8555555555555556, 1.8777777777777778, 1.8777777777777778, 1.8777777777777778, 1.9111111111111112, 1.8666666666666667, 1.8777777777777778, 1.8777777777777778, 1.8777777777777778, 1.8777777777777778, 1.8555555555555556, 1.8333333333333333, 1.8222222222222222, 1.8222222222222222, 1.8222222222222222, 1.8222222222222222, 1.8222222222222222, 1.8, 1.8222222222222222, 1.8333333333333333, 1.8333333333333333, 1.8333333333333333, 1.8, 1.7777777777777777, 1.7777777777777777, 1.788888888888889, 1.8, 1.8444444444444446, 1.8444444444444446, 1.8333333333333333, 1.8333333333333333, 1.8222222222222222, 1.8222222222222222, 1.8222222222222222, 1.8111111111111111, 1.8111111111111111, 1.788888888888889, 1.7777777777777777, 1.788888888888889, 1.788888888888889, 1.7777777777777777, 1.788888888888889, 1.8, 1.8, 1.7777777777777777, 1.7777777777777777, 1.7444444444444445, 1.7444444444444445, 1.7666666666666666, 1.7666666666666666, 1.7666666666666666, 1.7666666666666666, 1.7444444444444445, 1.7333333333333334, 1.7444444444444445, 1.711111111111111, 1.7333333333333334, 1.7333333333333334, 1.7, 1.7, 1.6888888888888889, 1.6888888888888889, 1.6777777777777778, 1.711111111111111, 1.711111111111111, 1.7, 1.711111111111111, 1.7333333333333334, 1.711111111111111, 1.711111111111111, 1.7, 1.7, 1.7, 1.6555555555555554, 1.6555555555555554, 1.6222222222222222, 1.6111111111111112, 1.6444444444444444, 1.6444444444444444, 1.6444444444444444, 1.6444444444444444, 1.6444444444444444, 1.6, 1.6111111111111112, 1.6111111111111112, 1.6111111111111112, 1.6, 1.6333333333333333, 1.6111111111111112, 1.6111111111111112, 1.6111111111111112, 1.5777777777777777, 1.5777777777777777, 1.5777777777777777, 1.5444444444444445, 1.5777777777777777, 1.5666666666666667, 1.5444444444444445, 1.5444444444444445, 1.5444444444444445, 1.5444444444444445, 1.5444444444444445, 1.5444444444444445, 1.5444444444444445, 1.5444444444444445, 1.5444444444444445, 1.5444444444444445, 1.5444444444444445, 1.5444444444444445, 1.5444444444444445, 1.5444444444444445, 1.5555555555555556, 1.5555555555555556, 1.5555555555555556, 1.5666666666666667, 1.5555555555555556, 1.5444444444444445, 1.511111111111111, 1.511111111111111, 1.5222222222222221, 1.5222222222222221, 1.5, 1.4777777777777779, 1.4777777777777779, 1.4666666666666666, 1.4666666666666666, 1.4666666666666666, 1.4666666666666666, 1.4555555555555555, 1.4555555555555555, 1.5, 1.4666666666666666, 1.4555555555555555, 1.4555555555555555, 1.4555555555555555, 1.4555555555555555, 1.4777777777777779, 1.511111111111111, 1.5333333333333334, 1.5555555555555556, 1.5555555555555556, 1.5555555555555556, 1.5777777777777777, 1.5777777777777777, 1.5666666666666667, 1.5666666666666667, 1.5444444444444445, 1.5444444444444445, 1.5555555555555556, 1.5555555555555556, 1.5555555555555556, 1.5555555555555556, 1.5333333333333334, 1.5, 1.5222222222222221, 1.5222222222222221, 1.511111111111111, 1.488888888888889, 1.488888888888889, 1.5, 1.5, 1.5, 1.5, 1.5, 1.5, 1.5, 1.5222222222222221, 1.488888888888889, 1.5333333333333334, 1.5333333333333334, 1.5333333333333334, 1.5444444444444445, 1.5444444444444445, 1.5333333333333334, 1.5777777777777777, 1.5777777777777777, 1.5777777777777777, 1.5666666666666667, 1.5666666666666667, 1.5777777777777777, 1.5888888888888888, 1.6222222222222222, 1.6222222222222222, 1.6222222222222222, 1.6333333333333333, 1.6444444444444444, 1.6444444444444444, 1.6444444444444444, 1.6888888888888889, 1.6888888888888889, 1.7333333333333334, 1.7333333333333334, 1.7333333333333334, 1.7333333333333334, 1.7555555555555555, 1.7555555555555555, 1.7555555555555555, 1.7555555555555555, 1.7333333333333334, 1.7222222222222223, 1.7222222222222223, 1.711111111111111, 1.7555555555555555, 1.7444444444444445, 1.7333333333333334, 1.7333333333333334, 1.7444444444444445, 1.7666666666666666, 1.8, 1.8111111111111111, 1.8222222222222222, 1.8222222222222222, 1.8222222222222222, 1.8444444444444446, 1.8777777777777778, 1.9111111111111112, 1.9111111111111112, 1.9111111111111112, 1.9333333333333333, 1.9555555555555555, 1.9333333333333333, 1.9666666666666666, 2.011111111111111, 2.011111111111111, 1.988888888888889, 1.988888888888889, 2.0, 1.9666666666666666, 1.9555555555555555, 1.9333333333333333, 1.9666666666666666, 1.9777777777777779, 1.9555555555555555, 1.9555555555555555, 1.9555555555555555, 1.9666666666666666, 1.9666666666666666, 1.9666666666666666, 1.9777777777777779, 1.9777777777777779, 1.9777777777777779, 1.9777777777777779, 1.9777777777777779, 1.9777777777777779, 1.9555555555555555, 1.9555555555555555, 1.9666666666666666, 1.9666666666666666, 2.011111111111111, 2.0, 2.0, 2.0, 2.0, 2.0, 2.0, 2.0, 1.9777777777777779, 1.9777777777777779, 1.9333333333333333, 1.9333333333333333, 1.9333333333333333, 1.9222222222222223, 1.9666666666666666, 2.011111111111111, 1.9777777777777779, 1.988888888888889, 1.9777777777777779, 1.9555555555555555, 1.9555555555555555, 1.988888888888889, 1.988888888888889, 1.9555555555555555, 1.9555555555555555, 1.9555555555555555, 1.9666666666666666, 1.9222222222222223, 1.9222222222222223, 1.9222222222222223, 1.8777777777777778, 1.9222222222222223, 1.8888888888888888, 1.8888888888888888, 1.8888888888888888, 1.9333333333333333, 1.9222222222222223, 1.9222222222222223, 1.9222222222222223, 1.9222222222222223, 1.9444444444444444, 1.9777777777777779, 1.9777777777777779, 2.022222222222222, 2.022222222222222, 2.0444444444444443, 2.0444444444444443, 2.0444444444444443, 2.033333333333333, 2.0, 1.9777777777777779, 1.9555555555555555, 1.9444444444444444, 1.9444444444444444, 1.988888888888889, 1.9666666666666666, 1.9333333333333333, 1.9, 1.9, 1.9111111111111112, 1.9222222222222223, 1.9, 1.8777777777777778, 1.8444444444444446, 1.8, 1.8, 1.8111111111111111, 1.8111111111111111, 1.8, 1.8, 1.7666666666666666, 1.788888888888889, 1.7666666666666666, 1.7777777777777777, 1.788888888888889, 1.788888888888889, 1.788888888888889, 1.7777777777777777, 1.7777777777777777, 1.7777777777777777, 1.7444444444444445, 1.7444444444444445, 1.7444444444444445, 1.7444444444444445, 1.7444444444444445, 1.7444444444444445, 1.7444444444444445, 1.788888888888889, 1.788888888888889, 1.788888888888889, 1.7444444444444445, 1.7444444444444445, 1.7444444444444445, 1.7444444444444445, 1.7222222222222223, 1.7222222222222223, 1.7333333333333334, 1.7666666666666666, 1.7666666666666666, 1.7666666666666666, 1.8111111111111111, 1.8111111111111111, 1.8555555555555556, 1.8555555555555556, 1.8222222222222222, 1.7777777777777777, 1.7666666666666666, 1.7555555555555555, 1.7555555555555555, 1.7666666666666666, 1.7666666666666666, 1.7444444444444445, 1.7666666666666666, 1.7666666666666666, 1.7666666666666666, 1.7666666666666666, 1.7555555555555555, 1.7555555555555555, 1.7555555555555555, 1.7555555555555555, 1.7555555555555555, 1.7222222222222223, 1.711111111111111, 1.711111111111111, 1.711111111111111, 1.6666666666666667, 1.6888888888888889, 1.6888888888888889, 1.6888888888888889, 1.6888888888888889, 1.6888888888888889, 1.6555555555555554, 1.6555555555555554, 1.6555555555555554, 1.6333333333333333, 1.6111111111111112, 1.6444444444444444, 1.6444444444444444, 1.6444444444444444, 1.6444444444444444, 1.6333333333333333, 1.6777777777777778, 1.6777777777777778, 1.7, 1.6555555555555554, 1.7, 1.711111111111111, 1.7222222222222223, 1.7333333333333334, 1.7333333333333334, 1.711111111111111, 1.7555555555555555, 1.7555555555555555, 1.7555555555555555, 1.7555555555555555, 1.7555555555555555, 1.7444444444444445, 1.7444444444444445, 1.7555555555555555, 1.7555555555555555, 1.7555555555555555, 1.7333333333333334, 1.7333333333333334, 1.711111111111111, 1.7, 1.7, 1.7, 1.7222222222222223, 1.7333333333333334, 1.7333333333333334, 1.7333333333333334, 1.7333333333333334, 1.7333333333333334, 1.7777777777777777, 1.8, 1.8, 1.8, 1.7666666666666666, 1.7555555555555555, 1.7555555555555555, 1.7777777777777777, 1.7777777777777777, 1.7777777777777777, 1.8222222222222222, 1.8222222222222222, 1.8444444444444446, 1.8333333333333333, 1.8, 1.8111111111111111, 1.8222222222222222, 1.7777777777777777, 1.8, 1.7555555555555555, 1.7555555555555555, 1.7444444444444445, 1.7444444444444445, 1.7555555555555555, 1.7555555555555555, 1.7555555555555555, 1.788888888888889, 1.8, 1.788888888888889, 1.7555555555555555, 1.8, 1.8, 1.8, 1.8, 1.8, 1.8, 1.8, 1.8444444444444446, 1.8333333333333333, 1.8333333333333333, 1.8333333333333333, 1.8333333333333333, 1.8555555555555556, 1.8222222222222222, 1.8444444444444446, 1.8444444444444446, 1.8444444444444446, 1.8222222222222222, 1.8222222222222222, 1.8222222222222222, 1.7777777777777777, 1.7555555555555555, 1.7555555555555555, 1.7222222222222223, 1.7222222222222223, 1.7333333333333334, 1.7333333333333334, 1.7555555555555555, 1.7222222222222223, 1.7222222222222223, 1.7333333333333334, 1.7333333333333334, 1.6888888888888889, 1.6777777777777778, 1.7, 1.6888888888888889, 1.6888888888888889, 1.6777777777777778, 1.6333333333333333, 1.6777777777777778, 1.6888888888888889, 1.7333333333333334, 1.7555555555555555, 1.7555555555555555, 1.7555555555555555, 1.7222222222222223, 1.7222222222222223, 1.7222222222222223, 1.7222222222222223, 1.711111111111111, 1.711111111111111, 1.711111111111111, 1.711111111111111, 1.7222222222222223, 1.711111111111111, 1.7, 1.7, 1.7444444444444445, 1.7444444444444445, 1.788888888888889, 1.7444444444444445, 1.7222222222222223, 1.7222222222222223, 1.7222222222222223, 1.711111111111111, 1.7222222222222223, 1.7222222222222223, 1.711111111111111, 1.711111111111111, 1.711111111111111, 1.711111111111111, 1.711111111111111, 1.7, 1.7, 1.7, 1.6888888888888889, 1.7, 1.7444444444444445, 1.7222222222222223, 1.7444444444444445, 1.7444444444444445, 1.7444444444444445, 1.7777777777777777, 1.7666666666666666, 1.7666666666666666, 1.7777777777777777, 1.7333333333333334, 1.7222222222222223, 1.711111111111111, 1.711111111111111, 1.6666666666666667, 1.6777777777777778, 1.6777777777777778, 1.6666666666666667, 1.6888888888888889, 1.7, 1.7, 1.6777777777777778, 1.6888888888888889, 1.6888888888888889, 1.6888888888888889, 1.711111111111111, 1.6888888888888889, 1.6888888888888889, 1.7, 1.7, 1.7, 1.7444444444444445, 1.7444444444444445, 1.7444444444444445, 1.7444444444444445, 1.7444444444444445, 1.7444444444444445, 1.7444444444444445, 1.7444444444444445, 1.7333333333333334, 1.7777777777777777, 1.7555555555555555, 1.7444444444444445, 1.7777777777777777, 1.7444444444444445, 1.7444444444444445, 1.7555555555555555, 1.7555555555555555, 1.7222222222222223, 1.7333333333333334, 1.7222222222222223, 1.7333333333333334, 1.7777777777777777, 1.7555555555555555, 1.7777777777777777, 1.7333333333333334, 1.711111111111111, 1.711111111111111, 1.7444444444444445, 1.7444444444444445, 1.7555555555555555, 1.7666666666666666, 1.7666666666666666, 1.7666666666666666, 1.7777777777777777, 1.7777777777777777, 1.7777777777777777, 1.7666666666666666, 1.7555555555555555, 1.7555555555555555, 1.7555555555555555, 1.7555555555555555, 1.7555555555555555, 1.7222222222222223, 1.7666666666666666, 1.7666666666666666, 1.788888888888889, 1.788888888888889, 1.788888888888889, 1.8, 1.8222222222222222, 1.8333333333333333, 1.8333333333333333, 1.8333333333333333, 1.8, 1.8222222222222222, 1.8111111111111111, 1.8111111111111111, 1.8222222222222222, 1.8222222222222222, 1.8, 1.7555555555555555, 1.7666666666666666, 1.7444444444444445, 1.7444444444444445, 1.7444444444444445, 1.7555555555555555, 1.7555555555555555, 1.8, 1.8333333333333333, 1.8333333333333333, 1.8777777777777778, 1.8777777777777778, 1.8777777777777778, 1.8777777777777778, 1.8666666666666667, 1.8666666666666667, 1.8666666666666667, 1.8888888888888888, 1.8777777777777778, 1.8777777777777778, 1.8555555555555556, 1.8444444444444446, 1.8444444444444446, 1.8444444444444446, 1.8333333333333333, 1.8333333333333333, 1.8333333333333333, 1.8222222222222222, 1.8222222222222222, 1.8222222222222222, 1.7777777777777777, 1.8, 1.8, 1.8, 1.8, 1.8333333333333333, 1.8333333333333333, 1.8555555555555556, 1.8555555555555556, 1.8222222222222222, 1.8222222222222222, 1.8222222222222222, 1.8, 1.8222222222222222, 1.8222222222222222, 1.8222222222222222, 1.8222222222222222, 1.8666666666666667, 1.8666666666666667, 1.9111111111111112, 1.9333333333333333, 1.8888888888888888, 1.9111111111111112, 1.8777777777777778, 1.8888888888888888, 1.8888888888888888, 1.8888888888888888, 1.8555555555555556, 1.8555555555555556, 1.8444444444444446, 1.8666666666666667, 1.8777777777777778, 1.8777777777777778, 1.8777777777777778, 1.8777777777777778, 1.8777777777777778, 1.8777777777777778, 1.8777777777777778, 1.8777777777777778, 1.8777777777777778, 1.8333333333333333, 1.8333333333333333, 1.8666666666666667, 1.8555555555555556, 1.8555555555555556, 1.8333333333333333, 1.8333333333333333, 1.8333333333333333, 1.8111111111111111, 1.788888888888889, 1.7666666666666666, 1.7777777777777777, 1.7777777777777777, 1.7666666666666666, 1.7555555555555555, 1.8, 1.8222222222222222, 1.8111111111111111, 1.8555555555555556, 1.8555555555555556, 1.8555555555555556, 1.8444444444444446, 1.8444444444444446, 1.8444444444444446, 1.8666666666666667, 1.8222222222222222, 1.8222222222222222, 1.788888888888889, 1.7777777777777777, 1.8111111111111111, 1.7666666666666666, 1.788888888888889, 1.788888888888889, 1.788888888888889, 1.788888888888889, 1.788888888888889, 1.8111111111111111, 1.7666666666666666, 1.7666666666666666, 1.7666666666666666, 1.7666666666666666, 1.788888888888889, 1.8, 1.8, 1.8333333333333333, 1.8333333333333333, 1.8333333333333333, 1.8111111111111111, 1.8111111111111111, 1.8555555555555556, 1.8666666666666667, 1.8555555555555556, 1.8666666666666667, 1.8666666666666667, 1.9111111111111112, 1.8777777777777778, 1.8777777777777778, 1.8555555555555556, 1.9, 1.8888888888888888, 1.8888888888888888, 1.9222222222222223, 1.9111111111111112, 1.8888888888888888, 1.8888888888888888, 1.8777777777777778, 1.8777777777777778, 1.8777777777777778, 1.8666666666666667, 1.8555555555555556, 1.8222222222222222, 1.8333333333333333, 1.788888888888889, 1.8, 1.8, 1.8, 1.8111111111111111, 1.8111111111111111, 1.8111111111111111, 1.8555555555555556, 1.8222222222222222, 1.8111111111111111, 1.8222222222222222, 1.8111111111111111, 1.8111111111111111, 1.8111111111111111, 1.8333333333333333, 1.8333333333333333, 1.8333333333333333, 1.8333333333333333, 1.8555555555555556, 1.8888888888888888, 1.8444444444444446, 1.8111111111111111, 1.8111111111111111, 1.8444444444444446, 1.8444444444444446, 1.8777777777777778, 1.9111111111111112, 1.9222222222222223, 1.9222222222222223, 1.9111111111111112, 1.9222222222222223, 1.9222222222222223, 1.9555555555555555, 1.9333333333333333, 1.9444444444444444, 1.988888888888889, 1.9666666666666666, 1.9666666666666666, 1.9777777777777779, 1.9777777777777779, 1.9777777777777779, 1.9777777777777779, 1.9555555555555555, 1.9666666666666666, 1.9666666666666666, 1.988888888888889, 1.988888888888889, 1.988888888888889, 1.988888888888889, 2.0, 2.0, 2.0, 2.0, 2.0444444444444443, 2.022222222222222, 2.0444444444444443, 2.088888888888889, 2.088888888888889, 2.088888888888889, 2.066666666666667, 2.0555555555555554, 2.0555555555555554, 2.011111111111111, 2.0444444444444443, 2.0444444444444443, 2.0444444444444443, 2.0444444444444443, 2.0, 1.988888888888889, 1.9777777777777779, 1.9666666666666666, 1.9777777777777779, 1.9333333333333333, 1.9444444444444444, 1.9555555555555555, 1.9555555555555555, 1.9111111111111112, 1.9555555555555555, 1.9555555555555555, 1.9222222222222223, 1.9222222222222223, 1.9444444444444444, 1.9444444444444444, 1.9444444444444444, 1.9444444444444444, 1.9, 1.9, 1.8666666666666667, 1.9, 1.9, 1.9, 1.9333333333333333, 1.9222222222222223, 1.9222222222222223, 1.9111111111111112, 1.9111111111111112, 1.9111111111111112, 1.8666666666666667, 1.8666666666666667, 1.8888888888888888, 1.8777777777777778, 1.8777777777777778, 1.9222222222222223, 1.9222222222222223, 1.9333333333333333, 1.9333333333333333, 1.9333333333333333, 1.9333333333333333, 1.9111111111111112, 1.8777777777777778, 1.8777777777777778, 1.8777777777777778, 1.9222222222222223, 1.8888888888888888, 1.8888888888888888, 1.8666666666666667, 1.8555555555555556, 1.8888888888888888, 1.8888888888888888, 1.8888888888888888, 1.9111111111111112, 1.9111111111111112, 1.8666666666666667, 1.8444444444444446, 1.8111111111111111, 1.7666666666666666, 1.7444444444444445, 1.7444444444444445, 1.7333333333333334, 1.7444444444444445, 1.7444444444444445, 1.7777777777777777, 1.7777777777777777, 1.7666666666666666, 1.7666666666666666, 1.7333333333333334, 1.7, 1.6888888888888889, 1.6888888888888889, 1.6888888888888889, 1.6888888888888889, 1.7, 1.7, 1.6555555555555554, 1.6555555555555554, 1.6555555555555554, 1.6111111111111112, 1.6111111111111112, 1.6111111111111112, 1.6111111111111112, 1.6111111111111112, 1.6111111111111112, 1.6222222222222222, 1.5888888888888888, 1.6, 1.6, 1.6, 1.6, 1.6, 1.6, 1.6333333333333333, 1.6222222222222222, 1.6222222222222222, 1.6111111111111112, 1.6, 1.6444444444444444, 1.6888888888888889, 1.6444444444444444, 1.6444444444444444, 1.6444444444444444, 1.6666666666666667, 1.6444444444444444, 1.6444444444444444, 1.6444444444444444, 1.6444444444444444, 1.6777777777777778, 1.6888888888888889, 1.6888888888888889, 1.6555555555555554, 1.6444444444444444, 1.6444444444444444, 1.6, 1.6444444444444444, 1.6888888888888889, 1.6888888888888889, 1.7333333333333334, 1.7444444444444445, 1.7444444444444445, 1.7666666666666666, 1.7444444444444445, 1.7444444444444445, 1.7444444444444445, 1.7, 1.7333333333333334, 1.7, 1.7, 1.7, 1.7, 1.7, 1.7, 1.7, 1.7, 1.6555555555555554, 1.6555555555555554, 1.6555555555555554, 1.6888888888888889, 1.6666666666666667, 1.6333333333333333, 1.6333333333333333, 1.6333333333333333, 1.6111111111111112, 1.6111111111111112, 1.6111111111111112, 1.6444444444444444, 1.6444444444444444, 1.6444444444444444, 1.6444444444444444, 1.6555555555555554, 1.6555555555555554, 1.6555555555555554, 1.6555555555555554, 1.6555555555555554, 1.6777777777777778, 1.6777777777777778, 1.6777777777777778, 1.711111111111111, 1.711111111111111, 1.6888888888888889, 1.7333333333333334, 1.711111111111111, 1.7444444444444445, 1.7333333333333334, 1.7333333333333334, 1.7333333333333334, 1.7333333333333334, 1.711111111111111, 1.711111111111111, 1.711111111111111, 1.711111111111111, 1.711111111111111, 1.711111111111111, 1.711111111111111, 1.7, 1.7, 1.6888888888888889, 1.6888888888888889, 1.7333333333333334, 1.7333333333333334, 1.7333333333333334, 1.7333333333333334, 1.711111111111111, 1.711111111111111, 1.711111111111111, 1.711111111111111, 1.711111111111111, 1.6666666666666667, 1.6222222222222222, 1.6222222222222222, 1.6222222222222222, 1.6222222222222222, 1.6, 1.6, 1.6111111111111112, 1.6111111111111112, 1.6111111111111112, 1.5888888888888888, 1.5777777777777777, 1.5777777777777777, 1.5777777777777777, 1.5777777777777777, 1.5777777777777777, 1.6, 1.5555555555555556, 1.511111111111111, 1.511111111111111, 1.4666666666666666, 1.4555555555555555, 1.4555555555555555, 1.4333333333333333, 1.4666666666666666, 1.4666666666666666, 1.4666666666666666, 1.511111111111111, 1.4777777777777779, 1.4777777777777779, 1.4777777777777779, 1.4777777777777779, 1.5, 1.5, 1.5, 1.5, 1.5, 1.5, 1.5, 1.5, 1.4555555555555555, 1.4555555555555555, 1.4444444444444444, 1.4666666666666666, 1.511111111111111, 1.5222222222222221, 1.5222222222222221, 1.5333333333333334, 1.5, 1.5, 1.511111111111111, 1.511111111111111, 1.5, 1.5, 1.488888888888889, 1.5333333333333334, 1.5444444444444445, 1.5222222222222221, 1.5222222222222221, 1.5222222222222221, 1.5, 1.5, 1.511111111111111, 1.4666666666666666, 1.4555555555555555, 1.4222222222222223, 1.4333333333333333, 1.4333333333333333, 1.4333333333333333, 1.4333333333333333, 1.4333333333333333, 1.4444444444444444, 1.4444444444444444, 1.4666666666666666, 1.5, 1.5, 1.5, 1.5, 1.5, 1.5, 1.5, 1.4555555555555555, 1.4555555555555555, 1.4555555555555555, 1.4555555555555555, 1.4444444444444444, 1.488888888888889, 1.488888888888889, 1.488888888888889, 1.488888888888889, 1.488888888888889, 1.5333333333333334, 1.5333333333333334, 1.5333333333333334, 1.5333333333333334, 1.5555555555555556, 1.5555555555555556, 1.5444444444444445, 1.5888888888888888, 1.5888888888888888, 1.5777777777777777, 1.5777777777777777, 1.5777777777777777, 1.5777777777777777, 1.5777777777777777, 1.5777777777777777, 1.5555555555555556, 1.5666666666666667, 1.5666666666666667, 1.5666666666666667, 1.5777777777777777, 1.5777777777777777, 1.5777777777777777, 1.5777777777777777, 1.5555555555555556, 1.5666666666666667, 1.5666666666666667, 1.5666666666666667, 1.5666666666666667, 1.5666666666666667, 1.6111111111111112, 1.6333333333333333, 1.6111111111111112, 1.6111111111111112, 1.6222222222222222, 1.6222222222222222, 1.6222222222222222, 1.6222222222222222, 1.6222222222222222, 1.6222222222222222, 1.6222222222222222, 1.6222222222222222, 1.6333333333333333, 1.6111111111111112, 1.5666666666666667, 1.5555555555555556, 1.5555555555555556, 1.5444444444444445, 1.5555555555555556, 1.5555555555555556, 1.5444444444444445, 1.5444444444444445, 1.5444444444444445, 1.5666666666666667, 1.5666666666666667, 1.5333333333333334, 1.5222222222222221, 1.5222222222222221, 1.5222222222222221, 1.5666666666666667, 1.5555555555555556, 1.5555555555555556, 1.5555555555555556, 1.5555555555555556, 1.5555555555555556, 1.5555555555555556, 1.5888888888888888, 1.5888888888888888, 1.5888888888888888, 1.5888888888888888, 1.5888888888888888, 1.5888888888888888, 1.5888888888888888, 1.5666666666666667, 1.5333333333333334, 1.5666666666666667, 1.5666666666666667, 1.5666666666666667, 1.5666666666666667, 1.5777777777777777, 1.5777777777777777, 1.5777777777777777, 1.6111111111111112, 1.6111111111111112, 1.6111111111111112, 1.6111111111111112, 1.5666666666666667, 1.5666666666666667, 1.5777777777777777, 1.5777777777777777, 1.5777777777777777, 1.5333333333333334, 1.5333333333333334, 1.5333333333333334, 1.5333333333333334, 1.511111111111111, 1.511111111111111, 1.5333333333333334, 1.488888888888889, 1.5, 1.5444444444444445, 1.5444444444444445, 1.5444444444444445, 1.5555555555555556, 1.5555555555555556, 1.5555555555555556, 1.5555555555555556, 1.5555555555555556, 1.5777777777777777, 1.5777777777777777, 1.5666666666666667, 1.5666666666666667, 1.5666666666666667, 1.5777777777777777, 1.5666666666666667, 1.5555555555555556, 1.5555555555555556, 1.511111111111111, 1.511111111111111, 1.511111111111111, 1.4666666666666666, 1.4444444444444444, 1.4444444444444444, 1.488888888888889, 1.4777777777777779, 1.4777777777777779, 1.488888888888889, 1.488888888888889, 1.488888888888889, 1.488888888888889, 1.488888888888889, 1.488888888888889, 1.4777777777777779, 1.4777777777777779, 1.4777777777777779, 1.4666666666666666, 1.4666666666666666, 1.4666666666666666, 1.4666666666666666, 1.511111111111111, 1.511111111111111, 1.5222222222222221, 1.5444444444444445, 1.5222222222222221, 1.5222222222222221, 1.511111111111111, 1.4777777777777779, 1.4777777777777779, 1.4777777777777779, 1.4555555555555555, 1.4555555555555555, 1.4555555555555555, 1.4444444444444444, 1.4777777777777779, 1.4777777777777779, 1.4777777777777779, 1.4333333333333333, 1.4333333333333333, 1.4666666666666666, 1.511111111111111, 1.511111111111111, 1.5, 1.5, 1.5, 1.5, 1.4666666666666666, 1.4666666666666666, 1.4666666666666666, 1.4666666666666666, 1.4555555555555555, 1.5, 1.511111111111111, 1.488888888888889, 1.488888888888889, 1.488888888888889, 1.5222222222222221, 1.5222222222222221, 1.5222222222222221, 1.511111111111111, 1.511111111111111, 1.5333333333333334, 1.5333333333333334, 1.5333333333333334, 1.5555555555555556, 1.5666666666666667, 1.5666666666666667, 1.5666666666666667, 1.5444444444444445, 1.5444444444444445, 1.5555555555555556, 1.5222222222222221, 1.5333333333333334, 1.5333333333333334, 1.5666666666666667, 1.5666666666666667, 1.5666666666666667, 1.6111111111111112, 1.6, 1.5777777777777777, 1.5777777777777777, 1.6, 1.6, 1.6, 1.5888888888888888, 1.5888888888888888, 1.5888888888888888, 1.6333333333333333, 1.6333333333333333, 1.6333333333333333, 1.6333333333333333, 1.6333333333333333, 1.6333333333333333, 1.6333333333333333, 1.6111111111111112, 1.6111111111111112, 1.6111111111111112, 1.6, 1.6, 1.6, 1.6, 1.6, 1.6, 1.6, 1.6, 1.6, 1.6, 1.6, 1.6, 1.5888888888888888, 1.5777777777777777, 1.5777777777777777, 1.5888888888888888, 1.5888888888888888, 1.5888888888888888, 1.5888888888888888, 1.6111111111111112, 1.6555555555555554, 1.6555555555555554, 1.6666666666666667, 1.6666666666666667, 1.6666666666666667, 1.6666666666666667, 1.6666666666666667, 1.6333333333333333, 1.6333333333333333, 1.6333333333333333, 1.6333333333333333, 1.6333333333333333, 1.6333333333333333, 1.5888888888888888, 1.6222222222222222, 1.6222222222222222, 1.6222222222222222, 1.6222222222222222, 1.6222222222222222, 1.6222222222222222, 1.6222222222222222, 1.6222222222222222, 1.6222222222222222, 1.6222222222222222, 1.5777777777777777, 1.5666666666666667, 1.5555555555555556, 1.5555555555555556, 1.5555555555555556, 1.5444444444444445, 1.5777777777777777, 1.5777777777777777, 1.6, 1.6, 1.5777777777777777, 1.5888888888888888, 1.5888888888888888, 1.5666666666666667, 1.6, 1.6111111111111112, 1.6111111111111112, 1.6111111111111112, 1.6111111111111112, 1.5888888888888888, 1.6, 1.5888888888888888, 1.5888888888888888, 1.5444444444444445, 1.5444444444444445, 1.5444444444444445, 1.5, 1.5, 1.5, 1.5, 1.4777777777777779, 1.4777777777777779, 1.4777777777777779, 1.4777777777777779, 1.4777777777777779, 1.4777777777777779, 1.4333333333333333, 1.4666666666666666, 1.511111111111111, 1.511111111111111, 1.511111111111111, 1.5555555555555556, 1.5555555555555556, 1.5333333333333334, 1.5777777777777777, 1.5777777777777777, 1.5777777777777777, 1.5777777777777777, 1.5777777777777777, 1.5777777777777777, 1.5888888888888888, 1.5888888888888888, 1.5888888888888888, 1.5888888888888888, 1.5888888888888888, 1.5888888888888888, 1.6, 1.6, 1.6, 1.5666666666666667, 1.5777777777777777, 1.6, 1.5777777777777777, 1.5777777777777777, 1.5777777777777777, 1.6, 1.5555555555555556, 1.5555555555555556, 1.5444444444444445, 1.5222222222222221, 1.5222222222222221, 1.5222222222222221, 1.5222222222222221, 1.5555555555555556, 1.6, 1.6, 1.6444444444444444, 1.6444444444444444, 1.6111111111111112, 1.6111111111111112, 1.6, 1.6, 1.6, 1.6, 1.6, 1.6, 1.6, 1.6, 1.6333333333333333, 1.6777777777777778, 1.6777777777777778, 1.6777777777777778, 1.6888888888888889, 1.7222222222222223, 1.7222222222222223, 1.7, 1.6666666666666667, 1.6666666666666667, 1.6666666666666667, 1.6777777777777778, 1.6777777777777778, 1.6888888888888889, 1.711111111111111, 1.711111111111111, 1.6666666666666667, 1.6555555555555554, 1.6555555555555554, 1.6555555555555554, 1.7, 1.7, 1.6888888888888889, 1.7, 1.7222222222222223, 1.7666666666666666, 1.8, 1.8, 1.8, 1.8333333333333333, 1.8333333333333333, 1.8555555555555556, 1.8555555555555556, 1.8777777777777778, 1.8777777777777778, 1.8888888888888888, 1.8888888888888888, 1.8888888888888888, 1.8888888888888888, 1.8555555555555556, 1.8111111111111111, 1.8222222222222222, 1.8222222222222222, 1.7777777777777777, 1.7777777777777777, 1.7777777777777777, 1.7666666666666666, 1.7666666666666666, 1.7666666666666666, 1.7777777777777777, 1.7777777777777777, 1.7777777777777777, 1.7666666666666666, 1.8111111111111111, 1.8111111111111111, 1.8111111111111111, 1.8555555555555556, 1.8555555555555556, 1.8444444444444446, 1.8444444444444446, 1.8888888888888888, 1.8888888888888888, 1.8777777777777778, 1.8333333333333333, 1.8777777777777778, 1.8777777777777778, 1.8777777777777778, 1.8333333333333333, 1.8333333333333333, 1.8333333333333333, 1.8333333333333333, 1.8333333333333333, 1.8333333333333333, 1.8333333333333333, 1.8333333333333333, 1.8, 1.7555555555555555, 1.7555555555555555, 1.711111111111111, 1.711111111111111, 1.711111111111111, 1.711111111111111, 1.6888888888888889, 1.6888888888888889, 1.711111111111111, 1.711111111111111, 1.7333333333333334, 1.7444444444444445, 1.788888888888889, 1.788888888888889, 1.788888888888889, 1.7444444444444445, 1.7555555555555555, 1.7555555555555555, 1.7444444444444445, 1.711111111111111, 1.7555555555555555, 1.7555555555555555, 1.7555555555555555, 1.7777777777777777, 1.7555555555555555, 1.7777777777777777, 1.7777777777777777, 1.7555555555555555, 1.7333333333333334, 1.7333333333333334, 1.7333333333333334, 1.7333333333333334, 1.7444444444444445, 1.7444444444444445, 1.7, 1.7, 1.6888888888888889, 1.6777777777777778, 1.6555555555555554, 1.6111111111111112, 1.5777777777777777, 1.6, 1.6111111111111112, 1.5777777777777777, 1.5777777777777777, 1.5555555555555556, 1.5555555555555556, 1.5333333333333334, 1.5333333333333334, 1.5666666666666667, 1.5666666666666667, 1.5666666666666667, 1.5666666666666667, 1.5666666666666667, 1.5666666666666667, 1.6, 1.6, 1.6, 1.6, 1.6111111111111112, 1.6222222222222222, 1.6222222222222222, 1.6222222222222222, 1.6333333333333333, 1.6333333333333333, 1.6333333333333333, 1.6333333333333333, 1.5888888888888888, 1.6222222222222222, 1.6222222222222222, 1.5777777777777777, 1.5777777777777777, 1.5777777777777777, 1.5777777777777777, 1.5333333333333334, 1.5333333333333334, 1.5333333333333334, 1.5333333333333334, 1.488888888888889, 1.488888888888889, 1.488888888888889, 1.488888888888889, 1.488888888888889, 1.488888888888889, 1.5, 1.5222222222222221, 1.5222222222222221, 1.5222222222222221, 1.5222222222222221, 1.5666666666666667, 1.5666666666666667, 1.5666666666666667, 1.5666666666666667, 1.5666666666666667, 1.5666666666666667, 1.5777777777777777, 1.5777777777777777, 1.5777777777777777, 1.5555555555555556, 1.5555555555555556, 1.5777777777777777, 1.6, 1.5777777777777777, 1.5777777777777777, 1.5444444444444445, 1.5444444444444445, 1.5333333333333334, 1.5333333333333334, 1.5333333333333334, 1.5333333333333334, 1.5333333333333334, 1.5666666666666667, 1.5888888888888888, 1.5666666666666667, 1.5666666666666667, 1.5666666666666667, 1.6111111111111112, 1.6333333333333333, 1.6333333333333333, 1.6333333333333333, 1.6333333333333333, 1.6444444444444444, 1.6333333333333333, 1.6333333333333333, 1.6333333333333333, 1.6333333333333333, 1.6333333333333333, 1.6333333333333333, 1.6555555555555554, 1.6555555555555554, 1.6555555555555554, 1.6333333333333333, 1.6444444444444444, 1.6444444444444444, 1.6444444444444444, 1.6444444444444444, 1.6555555555555554, 1.6555555555555554, 1.6555555555555554, 1.6555555555555554, 1.6555555555555554, 1.6666666666666667, 1.6666666666666667, 1.6666666666666667, 1.6666666666666667, 1.6222222222222222, 1.6222222222222222, 1.6222222222222222, 1.6222222222222222, 1.6111111111111112, 1.5666666666666667, 1.6, 1.6, 1.5777777777777777, 1.5777777777777777, 1.5777777777777777, 1.5777777777777777, 1.5777777777777777, 1.5444444444444445, 1.5444444444444445, 1.5888888888888888, 1.5888888888888888, 1.6222222222222222, 1.6222222222222222, 1.6222222222222222, 1.6222222222222222, 1.6222222222222222, 1.6222222222222222, 1.6222222222222222, 1.6222222222222222, 1.6333333333333333, 1.6333333333333333, 1.6333333333333333, 1.6666666666666667, 1.6555555555555554, 1.6777777777777778, 1.6777777777777778, 1.6777777777777778, 1.6777777777777778, 1.6333333333333333, 1.6333333333333333, 1.6333333333333333, 1.6333333333333333, 1.6333333333333333, 1.6444444444444444, 1.6333333333333333, 1.6333333333333333, 1.6333333333333333, 1.6333333333333333, 1.6333333333333333, 1.5888888888888888, 1.5555555555555556, 1.5333333333333334, 1.5333333333333334, 1.5333333333333334, 1.5333333333333334, 1.5333333333333334, 1.5666666666666667, 1.5666666666666667, 1.5666666666666667, 1.5222222222222221, 1.488888888888889, 1.4666666666666666, 1.4666666666666666, 1.511111111111111, 1.4777777777777779, 1.4333333333333333, 1.4111111111111112, 1.4111111111111112, 1.4111111111111112, 1.4444444444444444, 1.4333333333333333, 1.4333333333333333, 1.4333333333333333, 1.4333333333333333, 1.4777777777777779, 1.4777777777777779, 1.488888888888889, 1.4666666666666666, 1.4666666666666666, 1.4666666666666666, 1.4666666666666666, 1.488888888888889, 1.488888888888889, 1.488888888888889, 1.488888888888889, 1.5, 1.5, 1.5, 1.4555555555555555, 1.4555555555555555, 1.488888888888889, 1.488888888888889, 1.488888888888889, 1.5333333333333334, 1.5333333333333334, 1.5555555555555556, 1.5888888888888888, 1.5888888888888888, 1.6222222222222222, 1.6222222222222222, 1.6111111111111112, 1.6222222222222222, 1.6666666666666667, 1.6666666666666667, 1.6666666666666667, 1.6666666666666667, 1.6666666666666667, 1.6888888888888889, 1.7, 1.6555555555555554, 1.6555555555555554, 1.6222222222222222, 1.6222222222222222, 1.6444444444444444, 1.6444444444444444, 1.6444444444444444, 1.6888888888888889, 1.6888888888888889, 1.6888888888888889, 1.6888888888888889, 1.7333333333333334, 1.7333333333333334, 1.7333333333333334, 1.7444444444444445, 1.7, 1.711111111111111, 1.7555555555555555, 1.7555555555555555, 1.7555555555555555, 1.7555555555555555, 1.788888888888889, 1.788888888888889, 1.788888888888889, 1.7777777777777777, 1.788888888888889, 1.788888888888889, 1.8, 1.8222222222222222, 1.8222222222222222, 1.8666666666666667, 1.8666666666666667, 1.8666666666666667, 1.8666666666666667, 1.8666666666666667, 1.8666666666666667, 1.8666666666666667, 1.8777777777777778, 1.9, 1.9222222222222223, 1.9666666666666666, 1.9777777777777779, 2.022222222222222, 2.022222222222222, 1.988888888888889, 2.033333333333333, 2.033333333333333, 2.033333333333333, 2.077777777777778, 2.088888888888889, 2.1, 2.1, 2.111111111111111, 2.1555555555555554, 2.1555555555555554, 2.111111111111111, 2.1555555555555554, 2.1444444444444444, 2.1444444444444444, 2.1444444444444444, 2.1444444444444444, 2.1666666666666665, 2.1222222222222222, 2.1222222222222222, 2.1666666666666665, 2.1666666666666665, 2.1444444444444444, 2.1444444444444444, 2.1444444444444444, 2.1444444444444444, 2.1444444444444444, 2.1, 2.1444444444444444, 2.1444444444444444, 2.111111111111111, 2.1222222222222222, 2.1222222222222222, 2.088888888888889, 2.1, 2.066666666666667, 2.066666666666667, 2.0444444444444443, 2.066666666666667, 2.022222222222222, 2.022222222222222, 2.022222222222222, 2.022222222222222, 2.022222222222222, 2.0]}],\n",
       "                        {\"template\": {\"data\": {\"bar\": [{\"error_x\": {\"color\": \"#2a3f5f\"}, \"error_y\": {\"color\": \"#2a3f5f\"}, \"marker\": {\"line\": {\"color\": \"white\", \"width\": 0.5}}, \"type\": \"bar\"}], \"barpolar\": [{\"marker\": {\"line\": {\"color\": \"white\", \"width\": 0.5}}, \"type\": \"barpolar\"}], \"carpet\": [{\"aaxis\": {\"endlinecolor\": \"#2a3f5f\", \"gridcolor\": \"#C8D4E3\", \"linecolor\": \"#C8D4E3\", \"minorgridcolor\": \"#C8D4E3\", \"startlinecolor\": \"#2a3f5f\"}, \"baxis\": {\"endlinecolor\": \"#2a3f5f\", \"gridcolor\": \"#C8D4E3\", \"linecolor\": \"#C8D4E3\", \"minorgridcolor\": \"#C8D4E3\", \"startlinecolor\": \"#2a3f5f\"}, \"type\": \"carpet\"}], \"choropleth\": [{\"colorbar\": {\"outlinewidth\": 0, \"ticks\": \"\"}, \"type\": \"choropleth\"}], \"contour\": [{\"colorbar\": {\"outlinewidth\": 0, \"ticks\": \"\"}, \"colorscale\": [[0.0, \"#0d0887\"], [0.1111111111111111, \"#46039f\"], [0.2222222222222222, \"#7201a8\"], [0.3333333333333333, \"#9c179e\"], [0.4444444444444444, \"#bd3786\"], [0.5555555555555556, \"#d8576b\"], [0.6666666666666666, \"#ed7953\"], [0.7777777777777778, \"#fb9f3a\"], [0.8888888888888888, \"#fdca26\"], [1.0, \"#f0f921\"]], \"type\": \"contour\"}], \"contourcarpet\": [{\"colorbar\": {\"outlinewidth\": 0, \"ticks\": \"\"}, \"type\": \"contourcarpet\"}], \"heatmap\": [{\"colorbar\": {\"outlinewidth\": 0, \"ticks\": \"\"}, \"colorscale\": [[0.0, \"#0d0887\"], [0.1111111111111111, \"#46039f\"], [0.2222222222222222, \"#7201a8\"], [0.3333333333333333, \"#9c179e\"], [0.4444444444444444, \"#bd3786\"], [0.5555555555555556, \"#d8576b\"], [0.6666666666666666, \"#ed7953\"], [0.7777777777777778, \"#fb9f3a\"], [0.8888888888888888, \"#fdca26\"], [1.0, \"#f0f921\"]], \"type\": \"heatmap\"}], \"heatmapgl\": [{\"colorbar\": {\"outlinewidth\": 0, \"ticks\": \"\"}, \"colorscale\": [[0.0, \"#0d0887\"], [0.1111111111111111, \"#46039f\"], [0.2222222222222222, \"#7201a8\"], [0.3333333333333333, \"#9c179e\"], [0.4444444444444444, \"#bd3786\"], [0.5555555555555556, \"#d8576b\"], [0.6666666666666666, \"#ed7953\"], [0.7777777777777778, \"#fb9f3a\"], [0.8888888888888888, \"#fdca26\"], [1.0, \"#f0f921\"]], \"type\": \"heatmapgl\"}], \"histogram\": [{\"marker\": {\"colorbar\": {\"outlinewidth\": 0, \"ticks\": \"\"}}, \"type\": \"histogram\"}], \"histogram2d\": [{\"colorbar\": {\"outlinewidth\": 0, \"ticks\": \"\"}, \"colorscale\": [[0.0, \"#0d0887\"], [0.1111111111111111, \"#46039f\"], [0.2222222222222222, \"#7201a8\"], [0.3333333333333333, \"#9c179e\"], [0.4444444444444444, \"#bd3786\"], [0.5555555555555556, \"#d8576b\"], [0.6666666666666666, \"#ed7953\"], [0.7777777777777778, \"#fb9f3a\"], [0.8888888888888888, \"#fdca26\"], [1.0, \"#f0f921\"]], \"type\": \"histogram2d\"}], \"histogram2dcontour\": [{\"colorbar\": {\"outlinewidth\": 0, \"ticks\": \"\"}, \"colorscale\": [[0.0, \"#0d0887\"], [0.1111111111111111, \"#46039f\"], [0.2222222222222222, \"#7201a8\"], [0.3333333333333333, \"#9c179e\"], [0.4444444444444444, \"#bd3786\"], [0.5555555555555556, \"#d8576b\"], [0.6666666666666666, \"#ed7953\"], [0.7777777777777778, \"#fb9f3a\"], [0.8888888888888888, \"#fdca26\"], [1.0, \"#f0f921\"]], \"type\": \"histogram2dcontour\"}], \"mesh3d\": [{\"colorbar\": {\"outlinewidth\": 0, \"ticks\": \"\"}, \"type\": \"mesh3d\"}], \"parcoords\": [{\"line\": {\"colorbar\": {\"outlinewidth\": 0, \"ticks\": \"\"}}, \"type\": \"parcoords\"}], \"pie\": [{\"automargin\": true, \"type\": \"pie\"}], \"scatter\": [{\"marker\": {\"colorbar\": {\"outlinewidth\": 0, \"ticks\": \"\"}}, \"type\": \"scatter\"}], \"scatter3d\": [{\"line\": {\"colorbar\": {\"outlinewidth\": 0, \"ticks\": \"\"}}, \"marker\": {\"colorbar\": {\"outlinewidth\": 0, \"ticks\": \"\"}}, \"type\": \"scatter3d\"}], \"scattercarpet\": [{\"marker\": {\"colorbar\": {\"outlinewidth\": 0, \"ticks\": \"\"}}, \"type\": \"scattercarpet\"}], \"scattergeo\": [{\"marker\": {\"colorbar\": {\"outlinewidth\": 0, \"ticks\": \"\"}}, \"type\": \"scattergeo\"}], \"scattergl\": [{\"marker\": {\"colorbar\": {\"outlinewidth\": 0, \"ticks\": \"\"}}, \"type\": \"scattergl\"}], \"scattermapbox\": [{\"marker\": {\"colorbar\": {\"outlinewidth\": 0, \"ticks\": \"\"}}, \"type\": \"scattermapbox\"}], \"scatterpolar\": [{\"marker\": {\"colorbar\": {\"outlinewidth\": 0, \"ticks\": \"\"}}, \"type\": \"scatterpolar\"}], \"scatterpolargl\": [{\"marker\": {\"colorbar\": {\"outlinewidth\": 0, \"ticks\": \"\"}}, \"type\": \"scatterpolargl\"}], \"scatterternary\": [{\"marker\": {\"colorbar\": {\"outlinewidth\": 0, \"ticks\": \"\"}}, \"type\": \"scatterternary\"}], \"surface\": [{\"colorbar\": {\"outlinewidth\": 0, \"ticks\": \"\"}, \"colorscale\": [[0.0, \"#0d0887\"], [0.1111111111111111, \"#46039f\"], [0.2222222222222222, \"#7201a8\"], [0.3333333333333333, \"#9c179e\"], [0.4444444444444444, \"#bd3786\"], [0.5555555555555556, \"#d8576b\"], [0.6666666666666666, \"#ed7953\"], [0.7777777777777778, \"#fb9f3a\"], [0.8888888888888888, \"#fdca26\"], [1.0, \"#f0f921\"]], \"type\": \"surface\"}], \"table\": [{\"cells\": {\"fill\": {\"color\": \"#EBF0F8\"}, \"line\": {\"color\": \"white\"}}, \"header\": {\"fill\": {\"color\": \"#C8D4E3\"}, \"line\": {\"color\": \"white\"}}, \"type\": \"table\"}]}, \"layout\": {\"annotationdefaults\": {\"arrowcolor\": \"#2a3f5f\", \"arrowhead\": 0, \"arrowwidth\": 1}, \"coloraxis\": {\"colorbar\": {\"outlinewidth\": 0, \"ticks\": \"\"}}, \"colorscale\": {\"diverging\": [[0, \"#8e0152\"], [0.1, \"#c51b7d\"], [0.2, \"#de77ae\"], [0.3, \"#f1b6da\"], [0.4, \"#fde0ef\"], [0.5, \"#f7f7f7\"], [0.6, \"#e6f5d0\"], [0.7, \"#b8e186\"], [0.8, \"#7fbc41\"], [0.9, \"#4d9221\"], [1, \"#276419\"]], \"sequential\": [[0.0, \"#0d0887\"], [0.1111111111111111, \"#46039f\"], [0.2222222222222222, \"#7201a8\"], [0.3333333333333333, \"#9c179e\"], [0.4444444444444444, \"#bd3786\"], [0.5555555555555556, \"#d8576b\"], [0.6666666666666666, \"#ed7953\"], [0.7777777777777778, \"#fb9f3a\"], [0.8888888888888888, \"#fdca26\"], [1.0, \"#f0f921\"]], \"sequentialminus\": [[0.0, \"#0d0887\"], [0.1111111111111111, \"#46039f\"], [0.2222222222222222, \"#7201a8\"], [0.3333333333333333, \"#9c179e\"], [0.4444444444444444, \"#bd3786\"], [0.5555555555555556, \"#d8576b\"], [0.6666666666666666, \"#ed7953\"], [0.7777777777777778, \"#fb9f3a\"], [0.8888888888888888, \"#fdca26\"], [1.0, \"#f0f921\"]]}, \"colorway\": [\"#636efa\", \"#EF553B\", \"#00cc96\", \"#ab63fa\", \"#FFA15A\", \"#19d3f3\", \"#FF6692\", \"#B6E880\", \"#FF97FF\", \"#FECB52\"], \"font\": {\"color\": \"#2a3f5f\"}, \"geo\": {\"bgcolor\": \"white\", \"lakecolor\": \"white\", \"landcolor\": \"white\", \"showlakes\": true, \"showland\": true, \"subunitcolor\": \"#C8D4E3\"}, \"hoverlabel\": {\"align\": \"left\"}, \"hovermode\": \"closest\", \"mapbox\": {\"style\": \"light\"}, \"paper_bgcolor\": \"white\", \"plot_bgcolor\": \"white\", \"polar\": {\"angularaxis\": {\"gridcolor\": \"#EBF0F8\", \"linecolor\": \"#EBF0F8\", \"ticks\": \"\"}, \"bgcolor\": \"white\", \"radialaxis\": {\"gridcolor\": \"#EBF0F8\", \"linecolor\": \"#EBF0F8\", \"ticks\": \"\"}}, \"scene\": {\"xaxis\": {\"backgroundcolor\": \"white\", \"gridcolor\": \"#DFE8F3\", \"gridwidth\": 2, \"linecolor\": \"#EBF0F8\", \"showbackground\": true, \"ticks\": \"\", \"zerolinecolor\": \"#EBF0F8\"}, \"yaxis\": {\"backgroundcolor\": \"white\", \"gridcolor\": \"#DFE8F3\", \"gridwidth\": 2, \"linecolor\": \"#EBF0F8\", \"showbackground\": true, \"ticks\": \"\", \"zerolinecolor\": \"#EBF0F8\"}, \"zaxis\": {\"backgroundcolor\": \"white\", \"gridcolor\": \"#DFE8F3\", \"gridwidth\": 2, \"linecolor\": \"#EBF0F8\", \"showbackground\": true, \"ticks\": \"\", \"zerolinecolor\": \"#EBF0F8\"}}, \"shapedefaults\": {\"line\": {\"color\": \"#2a3f5f\"}}, \"ternary\": {\"aaxis\": {\"gridcolor\": \"#DFE8F3\", \"linecolor\": \"#A2B1C6\", \"ticks\": \"\"}, \"baxis\": {\"gridcolor\": \"#DFE8F3\", \"linecolor\": \"#A2B1C6\", \"ticks\": \"\"}, \"bgcolor\": \"white\", \"caxis\": {\"gridcolor\": \"#DFE8F3\", \"linecolor\": \"#A2B1C6\", \"ticks\": \"\"}}, \"title\": {\"x\": 0.05}, \"xaxis\": {\"automargin\": true, \"gridcolor\": \"#EBF0F8\", \"linecolor\": \"#EBF0F8\", \"ticks\": \"\", \"title\": {\"standoff\": 15}, \"zerolinecolor\": \"#EBF0F8\", \"zerolinewidth\": 2}, \"yaxis\": {\"automargin\": true, \"gridcolor\": \"#EBF0F8\", \"linecolor\": \"#EBF0F8\", \"ticks\": \"\", \"title\": {\"standoff\": 15}, \"zerolinecolor\": \"#EBF0F8\", \"zerolinewidth\": 2}}}, \"title\": {\"text\": \"90 Days Moving Avg. of KFC's Ratings\"}},\n",
       "                        {\"showLink\": true, \"linkText\": \"Export to plot.ly\", \"plotlyServerURL\": \"https://plot.ly\", \"responsive\": true}\n",
       "                    ).then(function(){\n",
       "                            \n",
       "var gd = document.getElementById('d90e4b99-0a81-424c-a4c9-5f78e3c54750');\n",
       "var x = new MutationObserver(function (mutations, observer) {{\n",
       "        var display = window.getComputedStyle(gd).display;\n",
       "        if (!display || display === 'none') {{\n",
       "            console.log([gd, 'removed!']);\n",
       "            Plotly.purge(gd);\n",
       "            observer.disconnect();\n",
       "        }}\n",
       "}});\n",
       "\n",
       "// Listen for the removal of the full notebook cells\n",
       "var notebookContainer = gd.closest('#notebook-container');\n",
       "if (notebookContainer) {{\n",
       "    x.observe(notebookContainer, {childList: true});\n",
       "}}\n",
       "\n",
       "// Listen for the clearing of the current output cell\n",
       "var outputEl = gd.closest('.output');\n",
       "if (outputEl) {{\n",
       "    x.observe(outputEl, {childList: true});\n",
       "}}\n",
       "\n",
       "                        })\n",
       "                };\n",
       "                });\n",
       "            </script>\n",
       "        </div>"
      ]
     },
     "metadata": {},
     "output_type": "display_data"
    }
   ],
   "source": [
    "business_n = 'kfc'\n",
    "window = 90\n",
    "\n",
    "(reviews_big.loc[reviews_big['business_name'].str.contains(business_n), 'stars']\n",
    " .sort_index()\n",
    " .rolling(window).mean()\n",
    " .loc['June 2010':]\n",
    " .iplot(mode='lines', color='blue',\n",
    "        layout=dict(title=f'{window} Days Moving Avg. of {business_n.upper()}\\'s Ratings')))"
   ]
  },
  {
   "cell_type": "markdown",
   "metadata": {},
   "source": [
    "The importance of moving average (MA) analysis, from Investopedia:\n",
    "> Moving averages come from statistical analysis. Their most basic function is to create a series of average values of different subsets of the full data set. A natural complement to any time series interpretation, a moving average can smooth out the noise of random outliers and emphasize long-term trends\n",
    "\n",
    "Look <a href='https://www.investopedia.com/terms/m/movingaverage.asp' target='_blank'>here</a> for explanation."
   ]
  },
  {
   "cell_type": "markdown",
   "metadata": {},
   "source": [
    "### But Where are the Worst Branches"
   ]
  },
  {
   "cell_type": "code",
   "execution_count": 37,
   "metadata": {},
   "outputs": [],
   "source": [
    "#!pip install us"
   ]
  },
  {
   "cell_type": "markdown",
   "metadata": {},
   "source": [
    "Back to the `KFC` example, the manager would like to know where are the worst performing branches to hone in on the culprits"
   ]
  },
  {
   "cell_type": "code",
   "execution_count": 38,
   "metadata": {},
   "outputs": [
    {
     "data": {
      "text/plain": [
       "'Maryland'"
      ]
     },
     "execution_count": 38,
     "metadata": {},
     "output_type": "execute_result"
    }
   ],
   "source": [
    "import us\n",
    "us.states.lookup('MD').name"
   ]
  },
  {
   "cell_type": "code",
   "execution_count": 39,
   "metadata": {},
   "outputs": [],
   "source": [
    "state_lookup = lambda state: us.states.lookup(state).name if us.states.lookup(state) else state"
   ]
  },
  {
   "cell_type": "code",
   "execution_count": 40,
   "metadata": {},
   "outputs": [
    {
     "data": {
      "text/html": [
       "<div>\n",
       "<style scoped>\n",
       "    .dataframe tbody tr th:only-of-type {\n",
       "        vertical-align: middle;\n",
       "    }\n",
       "\n",
       "    .dataframe tbody tr th {\n",
       "        vertical-align: top;\n",
       "    }\n",
       "\n",
       "    .dataframe thead th {\n",
       "        text-align: right;\n",
       "    }\n",
       "</style>\n",
       "<table border=\"1\" class=\"dataframe\">\n",
       "  <thead>\n",
       "    <tr style=\"text-align: right;\">\n",
       "      <th></th>\n",
       "      <th>state</th>\n",
       "      <th>stars</th>\n",
       "      <th>state_name</th>\n",
       "    </tr>\n",
       "  </thead>\n",
       "  <tbody>\n",
       "    <tr>\n",
       "      <th>1</th>\n",
       "      <td>CHE</td>\n",
       "      <td>3.000000</td>\n",
       "      <td>CHE</td>\n",
       "    </tr>\n",
       "    <tr>\n",
       "      <th>8</th>\n",
       "      <td>PA</td>\n",
       "      <td>2.666667</td>\n",
       "      <td>Pennsylvania</td>\n",
       "    </tr>\n",
       "    <tr>\n",
       "      <th>2</th>\n",
       "      <td>EDH</td>\n",
       "      <td>2.583333</td>\n",
       "      <td>EDH</td>\n",
       "    </tr>\n",
       "    <tr>\n",
       "      <th>3</th>\n",
       "      <td>IL</td>\n",
       "      <td>2.500000</td>\n",
       "      <td>Illinois</td>\n",
       "    </tr>\n",
       "    <tr>\n",
       "      <th>11</th>\n",
       "      <td>WLN</td>\n",
       "      <td>2.500000</td>\n",
       "      <td>WLN</td>\n",
       "    </tr>\n",
       "    <tr>\n",
       "      <th>6</th>\n",
       "      <td>OH</td>\n",
       "      <td>2.088235</td>\n",
       "      <td>Ohio</td>\n",
       "    </tr>\n",
       "    <tr>\n",
       "      <th>4</th>\n",
       "      <td>NC</td>\n",
       "      <td>2.083333</td>\n",
       "      <td>North Carolina</td>\n",
       "    </tr>\n",
       "    <tr>\n",
       "      <th>7</th>\n",
       "      <td>ON</td>\n",
       "      <td>2.016129</td>\n",
       "      <td>ON</td>\n",
       "    </tr>\n",
       "    <tr>\n",
       "      <th>9</th>\n",
       "      <td>SC</td>\n",
       "      <td>2.000000</td>\n",
       "      <td>South Carolina</td>\n",
       "    </tr>\n",
       "    <tr>\n",
       "      <th>0</th>\n",
       "      <td>AZ</td>\n",
       "      <td>1.684211</td>\n",
       "      <td>Arizona</td>\n",
       "    </tr>\n",
       "    <tr>\n",
       "      <th>5</th>\n",
       "      <td>NV</td>\n",
       "      <td>1.677419</td>\n",
       "      <td>Nevada</td>\n",
       "    </tr>\n",
       "    <tr>\n",
       "      <th>10</th>\n",
       "      <td>WI</td>\n",
       "      <td>1.428571</td>\n",
       "      <td>Wisconsin</td>\n",
       "    </tr>\n",
       "  </tbody>\n",
       "</table>\n",
       "</div>"
      ],
      "text/plain": [
       "   state     stars      state_name\n",
       "1    CHE  3.000000             CHE\n",
       "8     PA  2.666667    Pennsylvania\n",
       "2    EDH  2.583333             EDH\n",
       "3     IL  2.500000        Illinois\n",
       "11   WLN  2.500000             WLN\n",
       "6     OH  2.088235            Ohio\n",
       "4     NC  2.083333  North Carolina\n",
       "7     ON  2.016129              ON\n",
       "9     SC  2.000000  South Carolina\n",
       "0     AZ  1.684211         Arizona\n",
       "5     NV  1.677419          Nevada\n",
       "10    WI  1.428571       Wisconsin"
      ]
     },
     "execution_count": 40,
     "metadata": {},
     "output_type": "execute_result"
    }
   ],
   "source": [
    "business_n = 'kfc'\n",
    "\n",
    "kfc_by_state = (business_big[business_big['name'].str.contains(business_n)]\n",
    "                .groupby('state', as_index=False)['stars']\n",
    "                .mean())\n",
    "\n",
    "kfc_by_state['state_name'] = kfc_by_state['state'].apply(state_lookup)\n",
    "\n",
    "kfc_by_state = kfc_by_state.sort_values('stars', ascending=False)\n",
    "\n",
    "kfc_by_state"
   ]
  },
  {
   "cell_type": "code",
   "execution_count": 41,
   "metadata": {},
   "outputs": [
    {
     "data": {
      "application/vnd.plotly.v1+json": {
       "config": {
        "linkText": "Export to plot.ly",
        "plotlyServerURL": "https://plot.ly",
        "showLink": true
       },
       "data": [
        {
         "marker": {
          "color": "rgba(219, 64, 82, 0.6)",
          "line": {
           "color": "rgba(219, 64, 82, 1.0)",
           "width": 1
          }
         },
         "name": "stars",
         "orientation": "v",
         "text": "",
         "type": "bar",
         "x": [
          "CHE",
          "Pennsylvania",
          "EDH",
          "Illinois",
          "WLN",
          "Ohio",
          "North Carolina",
          "ON",
          "South Carolina",
          "Arizona",
          "Nevada",
          "Wisconsin"
         ],
         "y": [
          3,
          2.6666666666666665,
          2.5833333333333335,
          2.5,
          2.5,
          2.088235294117647,
          2.0833333333333335,
          2.0161290322580645,
          2,
          1.6842105263157894,
          1.6774193548387097,
          1.4285714285714286
         ]
        }
       ],
       "layout": {
        "template": {
         "data": {
          "bar": [
           {
            "error_x": {
             "color": "#2a3f5f"
            },
            "error_y": {
             "color": "#2a3f5f"
            },
            "marker": {
             "line": {
              "color": "white",
              "width": 0.5
             }
            },
            "type": "bar"
           }
          ],
          "barpolar": [
           {
            "marker": {
             "line": {
              "color": "white",
              "width": 0.5
             }
            },
            "type": "barpolar"
           }
          ],
          "carpet": [
           {
            "aaxis": {
             "endlinecolor": "#2a3f5f",
             "gridcolor": "#C8D4E3",
             "linecolor": "#C8D4E3",
             "minorgridcolor": "#C8D4E3",
             "startlinecolor": "#2a3f5f"
            },
            "baxis": {
             "endlinecolor": "#2a3f5f",
             "gridcolor": "#C8D4E3",
             "linecolor": "#C8D4E3",
             "minorgridcolor": "#C8D4E3",
             "startlinecolor": "#2a3f5f"
            },
            "type": "carpet"
           }
          ],
          "choropleth": [
           {
            "colorbar": {
             "outlinewidth": 0,
             "ticks": ""
            },
            "type": "choropleth"
           }
          ],
          "contour": [
           {
            "colorbar": {
             "outlinewidth": 0,
             "ticks": ""
            },
            "colorscale": [
             [
              0,
              "#0d0887"
             ],
             [
              0.1111111111111111,
              "#46039f"
             ],
             [
              0.2222222222222222,
              "#7201a8"
             ],
             [
              0.3333333333333333,
              "#9c179e"
             ],
             [
              0.4444444444444444,
              "#bd3786"
             ],
             [
              0.5555555555555556,
              "#d8576b"
             ],
             [
              0.6666666666666666,
              "#ed7953"
             ],
             [
              0.7777777777777778,
              "#fb9f3a"
             ],
             [
              0.8888888888888888,
              "#fdca26"
             ],
             [
              1,
              "#f0f921"
             ]
            ],
            "type": "contour"
           }
          ],
          "contourcarpet": [
           {
            "colorbar": {
             "outlinewidth": 0,
             "ticks": ""
            },
            "type": "contourcarpet"
           }
          ],
          "heatmap": [
           {
            "colorbar": {
             "outlinewidth": 0,
             "ticks": ""
            },
            "colorscale": [
             [
              0,
              "#0d0887"
             ],
             [
              0.1111111111111111,
              "#46039f"
             ],
             [
              0.2222222222222222,
              "#7201a8"
             ],
             [
              0.3333333333333333,
              "#9c179e"
             ],
             [
              0.4444444444444444,
              "#bd3786"
             ],
             [
              0.5555555555555556,
              "#d8576b"
             ],
             [
              0.6666666666666666,
              "#ed7953"
             ],
             [
              0.7777777777777778,
              "#fb9f3a"
             ],
             [
              0.8888888888888888,
              "#fdca26"
             ],
             [
              1,
              "#f0f921"
             ]
            ],
            "type": "heatmap"
           }
          ],
          "heatmapgl": [
           {
            "colorbar": {
             "outlinewidth": 0,
             "ticks": ""
            },
            "colorscale": [
             [
              0,
              "#0d0887"
             ],
             [
              0.1111111111111111,
              "#46039f"
             ],
             [
              0.2222222222222222,
              "#7201a8"
             ],
             [
              0.3333333333333333,
              "#9c179e"
             ],
             [
              0.4444444444444444,
              "#bd3786"
             ],
             [
              0.5555555555555556,
              "#d8576b"
             ],
             [
              0.6666666666666666,
              "#ed7953"
             ],
             [
              0.7777777777777778,
              "#fb9f3a"
             ],
             [
              0.8888888888888888,
              "#fdca26"
             ],
             [
              1,
              "#f0f921"
             ]
            ],
            "type": "heatmapgl"
           }
          ],
          "histogram": [
           {
            "marker": {
             "colorbar": {
              "outlinewidth": 0,
              "ticks": ""
             }
            },
            "type": "histogram"
           }
          ],
          "histogram2d": [
           {
            "colorbar": {
             "outlinewidth": 0,
             "ticks": ""
            },
            "colorscale": [
             [
              0,
              "#0d0887"
             ],
             [
              0.1111111111111111,
              "#46039f"
             ],
             [
              0.2222222222222222,
              "#7201a8"
             ],
             [
              0.3333333333333333,
              "#9c179e"
             ],
             [
              0.4444444444444444,
              "#bd3786"
             ],
             [
              0.5555555555555556,
              "#d8576b"
             ],
             [
              0.6666666666666666,
              "#ed7953"
             ],
             [
              0.7777777777777778,
              "#fb9f3a"
             ],
             [
              0.8888888888888888,
              "#fdca26"
             ],
             [
              1,
              "#f0f921"
             ]
            ],
            "type": "histogram2d"
           }
          ],
          "histogram2dcontour": [
           {
            "colorbar": {
             "outlinewidth": 0,
             "ticks": ""
            },
            "colorscale": [
             [
              0,
              "#0d0887"
             ],
             [
              0.1111111111111111,
              "#46039f"
             ],
             [
              0.2222222222222222,
              "#7201a8"
             ],
             [
              0.3333333333333333,
              "#9c179e"
             ],
             [
              0.4444444444444444,
              "#bd3786"
             ],
             [
              0.5555555555555556,
              "#d8576b"
             ],
             [
              0.6666666666666666,
              "#ed7953"
             ],
             [
              0.7777777777777778,
              "#fb9f3a"
             ],
             [
              0.8888888888888888,
              "#fdca26"
             ],
             [
              1,
              "#f0f921"
             ]
            ],
            "type": "histogram2dcontour"
           }
          ],
          "mesh3d": [
           {
            "colorbar": {
             "outlinewidth": 0,
             "ticks": ""
            },
            "type": "mesh3d"
           }
          ],
          "parcoords": [
           {
            "line": {
             "colorbar": {
              "outlinewidth": 0,
              "ticks": ""
             }
            },
            "type": "parcoords"
           }
          ],
          "pie": [
           {
            "automargin": true,
            "type": "pie"
           }
          ],
          "scatter": [
           {
            "marker": {
             "colorbar": {
              "outlinewidth": 0,
              "ticks": ""
             }
            },
            "type": "scatter"
           }
          ],
          "scatter3d": [
           {
            "line": {
             "colorbar": {
              "outlinewidth": 0,
              "ticks": ""
             }
            },
            "marker": {
             "colorbar": {
              "outlinewidth": 0,
              "ticks": ""
             }
            },
            "type": "scatter3d"
           }
          ],
          "scattercarpet": [
           {
            "marker": {
             "colorbar": {
              "outlinewidth": 0,
              "ticks": ""
             }
            },
            "type": "scattercarpet"
           }
          ],
          "scattergeo": [
           {
            "marker": {
             "colorbar": {
              "outlinewidth": 0,
              "ticks": ""
             }
            },
            "type": "scattergeo"
           }
          ],
          "scattergl": [
           {
            "marker": {
             "colorbar": {
              "outlinewidth": 0,
              "ticks": ""
             }
            },
            "type": "scattergl"
           }
          ],
          "scattermapbox": [
           {
            "marker": {
             "colorbar": {
              "outlinewidth": 0,
              "ticks": ""
             }
            },
            "type": "scattermapbox"
           }
          ],
          "scatterpolar": [
           {
            "marker": {
             "colorbar": {
              "outlinewidth": 0,
              "ticks": ""
             }
            },
            "type": "scatterpolar"
           }
          ],
          "scatterpolargl": [
           {
            "marker": {
             "colorbar": {
              "outlinewidth": 0,
              "ticks": ""
             }
            },
            "type": "scatterpolargl"
           }
          ],
          "scatterternary": [
           {
            "marker": {
             "colorbar": {
              "outlinewidth": 0,
              "ticks": ""
             }
            },
            "type": "scatterternary"
           }
          ],
          "surface": [
           {
            "colorbar": {
             "outlinewidth": 0,
             "ticks": ""
            },
            "colorscale": [
             [
              0,
              "#0d0887"
             ],
             [
              0.1111111111111111,
              "#46039f"
             ],
             [
              0.2222222222222222,
              "#7201a8"
             ],
             [
              0.3333333333333333,
              "#9c179e"
             ],
             [
              0.4444444444444444,
              "#bd3786"
             ],
             [
              0.5555555555555556,
              "#d8576b"
             ],
             [
              0.6666666666666666,
              "#ed7953"
             ],
             [
              0.7777777777777778,
              "#fb9f3a"
             ],
             [
              0.8888888888888888,
              "#fdca26"
             ],
             [
              1,
              "#f0f921"
             ]
            ],
            "type": "surface"
           }
          ],
          "table": [
           {
            "cells": {
             "fill": {
              "color": "#EBF0F8"
             },
             "line": {
              "color": "white"
             }
            },
            "header": {
             "fill": {
              "color": "#C8D4E3"
             },
             "line": {
              "color": "white"
             }
            },
            "type": "table"
           }
          ]
         },
         "layout": {
          "annotationdefaults": {
           "arrowcolor": "#2a3f5f",
           "arrowhead": 0,
           "arrowwidth": 1
          },
          "coloraxis": {
           "colorbar": {
            "outlinewidth": 0,
            "ticks": ""
           }
          },
          "colorscale": {
           "diverging": [
            [
             0,
             "#8e0152"
            ],
            [
             0.1,
             "#c51b7d"
            ],
            [
             0.2,
             "#de77ae"
            ],
            [
             0.3,
             "#f1b6da"
            ],
            [
             0.4,
             "#fde0ef"
            ],
            [
             0.5,
             "#f7f7f7"
            ],
            [
             0.6,
             "#e6f5d0"
            ],
            [
             0.7,
             "#b8e186"
            ],
            [
             0.8,
             "#7fbc41"
            ],
            [
             0.9,
             "#4d9221"
            ],
            [
             1,
             "#276419"
            ]
           ],
           "sequential": [
            [
             0,
             "#0d0887"
            ],
            [
             0.1111111111111111,
             "#46039f"
            ],
            [
             0.2222222222222222,
             "#7201a8"
            ],
            [
             0.3333333333333333,
             "#9c179e"
            ],
            [
             0.4444444444444444,
             "#bd3786"
            ],
            [
             0.5555555555555556,
             "#d8576b"
            ],
            [
             0.6666666666666666,
             "#ed7953"
            ],
            [
             0.7777777777777778,
             "#fb9f3a"
            ],
            [
             0.8888888888888888,
             "#fdca26"
            ],
            [
             1,
             "#f0f921"
            ]
           ],
           "sequentialminus": [
            [
             0,
             "#0d0887"
            ],
            [
             0.1111111111111111,
             "#46039f"
            ],
            [
             0.2222222222222222,
             "#7201a8"
            ],
            [
             0.3333333333333333,
             "#9c179e"
            ],
            [
             0.4444444444444444,
             "#bd3786"
            ],
            [
             0.5555555555555556,
             "#d8576b"
            ],
            [
             0.6666666666666666,
             "#ed7953"
            ],
            [
             0.7777777777777778,
             "#fb9f3a"
            ],
            [
             0.8888888888888888,
             "#fdca26"
            ],
            [
             1,
             "#f0f921"
            ]
           ]
          },
          "colorway": [
           "#636efa",
           "#EF553B",
           "#00cc96",
           "#ab63fa",
           "#FFA15A",
           "#19d3f3",
           "#FF6692",
           "#B6E880",
           "#FF97FF",
           "#FECB52"
          ],
          "font": {
           "color": "#2a3f5f"
          },
          "geo": {
           "bgcolor": "white",
           "lakecolor": "white",
           "landcolor": "white",
           "showlakes": true,
           "showland": true,
           "subunitcolor": "#C8D4E3"
          },
          "hoverlabel": {
           "align": "left"
          },
          "hovermode": "closest",
          "mapbox": {
           "style": "light"
          },
          "paper_bgcolor": "white",
          "plot_bgcolor": "white",
          "polar": {
           "angularaxis": {
            "gridcolor": "#EBF0F8",
            "linecolor": "#EBF0F8",
            "ticks": ""
           },
           "bgcolor": "white",
           "radialaxis": {
            "gridcolor": "#EBF0F8",
            "linecolor": "#EBF0F8",
            "ticks": ""
           }
          },
          "scene": {
           "xaxis": {
            "backgroundcolor": "white",
            "gridcolor": "#DFE8F3",
            "gridwidth": 2,
            "linecolor": "#EBF0F8",
            "showbackground": true,
            "ticks": "",
            "zerolinecolor": "#EBF0F8"
           },
           "yaxis": {
            "backgroundcolor": "white",
            "gridcolor": "#DFE8F3",
            "gridwidth": 2,
            "linecolor": "#EBF0F8",
            "showbackground": true,
            "ticks": "",
            "zerolinecolor": "#EBF0F8"
           },
           "zaxis": {
            "backgroundcolor": "white",
            "gridcolor": "#DFE8F3",
            "gridwidth": 2,
            "linecolor": "#EBF0F8",
            "showbackground": true,
            "ticks": "",
            "zerolinecolor": "#EBF0F8"
           }
          },
          "shapedefaults": {
           "line": {
            "color": "#2a3f5f"
           }
          },
          "ternary": {
           "aaxis": {
            "gridcolor": "#DFE8F3",
            "linecolor": "#A2B1C6",
            "ticks": ""
           },
           "baxis": {
            "gridcolor": "#DFE8F3",
            "linecolor": "#A2B1C6",
            "ticks": ""
           },
           "bgcolor": "white",
           "caxis": {
            "gridcolor": "#DFE8F3",
            "linecolor": "#A2B1C6",
            "ticks": ""
           }
          },
          "title": {
           "x": 0.05
          },
          "xaxis": {
           "automargin": true,
           "gridcolor": "#EBF0F8",
           "linecolor": "#EBF0F8",
           "ticks": "",
           "title": {
            "standoff": 15
           },
           "zerolinecolor": "#EBF0F8",
           "zerolinewidth": 2
          },
          "yaxis": {
           "automargin": true,
           "gridcolor": "#EBF0F8",
           "linecolor": "#EBF0F8",
           "ticks": "",
           "title": {
            "standoff": 15
           },
           "zerolinecolor": "#EBF0F8",
           "zerolinewidth": 2
          }
         }
        },
        "title": {
         "text": "kfc Avg. Ratings by State"
        }
       }
      },
      "text/html": [
       "<div>\n",
       "        \n",
       "        \n",
       "            <div id=\"2b3be48f-6a2e-4c96-878f-dfaab6da8d63\" class=\"plotly-graph-div\" style=\"height:525px; width:100%;\"></div>\n",
       "            <script type=\"text/javascript\">\n",
       "                require([\"plotly\"], function(Plotly) {\n",
       "                    window.PLOTLYENV=window.PLOTLYENV || {};\n",
       "                    window.PLOTLYENV.BASE_URL='https://plot.ly';\n",
       "                    \n",
       "                if (document.getElementById(\"2b3be48f-6a2e-4c96-878f-dfaab6da8d63\")) {\n",
       "                    Plotly.newPlot(\n",
       "                        '2b3be48f-6a2e-4c96-878f-dfaab6da8d63',\n",
       "                        [{\"marker\": {\"color\": \"rgba(219, 64, 82, 0.6)\", \"line\": {\"color\": \"rgba(219, 64, 82, 1.0)\", \"width\": 1}}, \"name\": \"stars\", \"orientation\": \"v\", \"text\": \"\", \"type\": \"bar\", \"x\": [\"CHE\", \"Pennsylvania\", \"EDH\", \"Illinois\", \"WLN\", \"Ohio\", \"North Carolina\", \"ON\", \"South Carolina\", \"Arizona\", \"Nevada\", \"Wisconsin\"], \"y\": [3.0, 2.6666666666666665, 2.5833333333333335, 2.5, 2.5, 2.088235294117647, 2.0833333333333335, 2.0161290322580645, 2.0, 1.6842105263157894, 1.6774193548387097, 1.4285714285714286]}],\n",
       "                        {\"template\": {\"data\": {\"bar\": [{\"error_x\": {\"color\": \"#2a3f5f\"}, \"error_y\": {\"color\": \"#2a3f5f\"}, \"marker\": {\"line\": {\"color\": \"white\", \"width\": 0.5}}, \"type\": \"bar\"}], \"barpolar\": [{\"marker\": {\"line\": {\"color\": \"white\", \"width\": 0.5}}, \"type\": \"barpolar\"}], \"carpet\": [{\"aaxis\": {\"endlinecolor\": \"#2a3f5f\", \"gridcolor\": \"#C8D4E3\", \"linecolor\": \"#C8D4E3\", \"minorgridcolor\": \"#C8D4E3\", \"startlinecolor\": \"#2a3f5f\"}, \"baxis\": {\"endlinecolor\": \"#2a3f5f\", \"gridcolor\": \"#C8D4E3\", \"linecolor\": \"#C8D4E3\", \"minorgridcolor\": \"#C8D4E3\", \"startlinecolor\": \"#2a3f5f\"}, \"type\": \"carpet\"}], \"choropleth\": [{\"colorbar\": {\"outlinewidth\": 0, \"ticks\": \"\"}, \"type\": \"choropleth\"}], \"contour\": [{\"colorbar\": {\"outlinewidth\": 0, \"ticks\": \"\"}, \"colorscale\": [[0.0, \"#0d0887\"], [0.1111111111111111, \"#46039f\"], [0.2222222222222222, \"#7201a8\"], [0.3333333333333333, \"#9c179e\"], [0.4444444444444444, \"#bd3786\"], [0.5555555555555556, \"#d8576b\"], [0.6666666666666666, \"#ed7953\"], [0.7777777777777778, \"#fb9f3a\"], [0.8888888888888888, \"#fdca26\"], [1.0, \"#f0f921\"]], \"type\": \"contour\"}], \"contourcarpet\": [{\"colorbar\": {\"outlinewidth\": 0, \"ticks\": \"\"}, \"type\": \"contourcarpet\"}], \"heatmap\": [{\"colorbar\": {\"outlinewidth\": 0, \"ticks\": \"\"}, \"colorscale\": [[0.0, \"#0d0887\"], [0.1111111111111111, \"#46039f\"], [0.2222222222222222, \"#7201a8\"], [0.3333333333333333, \"#9c179e\"], [0.4444444444444444, \"#bd3786\"], [0.5555555555555556, \"#d8576b\"], [0.6666666666666666, \"#ed7953\"], [0.7777777777777778, \"#fb9f3a\"], [0.8888888888888888, \"#fdca26\"], [1.0, \"#f0f921\"]], \"type\": \"heatmap\"}], \"heatmapgl\": [{\"colorbar\": {\"outlinewidth\": 0, \"ticks\": \"\"}, \"colorscale\": [[0.0, \"#0d0887\"], [0.1111111111111111, \"#46039f\"], [0.2222222222222222, \"#7201a8\"], [0.3333333333333333, \"#9c179e\"], [0.4444444444444444, \"#bd3786\"], [0.5555555555555556, \"#d8576b\"], [0.6666666666666666, \"#ed7953\"], [0.7777777777777778, \"#fb9f3a\"], [0.8888888888888888, \"#fdca26\"], [1.0, \"#f0f921\"]], \"type\": \"heatmapgl\"}], \"histogram\": [{\"marker\": {\"colorbar\": {\"outlinewidth\": 0, \"ticks\": \"\"}}, \"type\": \"histogram\"}], \"histogram2d\": [{\"colorbar\": {\"outlinewidth\": 0, \"ticks\": \"\"}, \"colorscale\": [[0.0, \"#0d0887\"], [0.1111111111111111, \"#46039f\"], [0.2222222222222222, \"#7201a8\"], [0.3333333333333333, \"#9c179e\"], [0.4444444444444444, \"#bd3786\"], [0.5555555555555556, \"#d8576b\"], [0.6666666666666666, \"#ed7953\"], [0.7777777777777778, \"#fb9f3a\"], [0.8888888888888888, \"#fdca26\"], [1.0, \"#f0f921\"]], \"type\": \"histogram2d\"}], \"histogram2dcontour\": [{\"colorbar\": {\"outlinewidth\": 0, \"ticks\": \"\"}, \"colorscale\": [[0.0, \"#0d0887\"], [0.1111111111111111, \"#46039f\"], [0.2222222222222222, \"#7201a8\"], [0.3333333333333333, \"#9c179e\"], [0.4444444444444444, \"#bd3786\"], [0.5555555555555556, \"#d8576b\"], [0.6666666666666666, \"#ed7953\"], [0.7777777777777778, \"#fb9f3a\"], [0.8888888888888888, \"#fdca26\"], [1.0, \"#f0f921\"]], \"type\": \"histogram2dcontour\"}], \"mesh3d\": [{\"colorbar\": {\"outlinewidth\": 0, \"ticks\": \"\"}, \"type\": \"mesh3d\"}], \"parcoords\": [{\"line\": {\"colorbar\": {\"outlinewidth\": 0, \"ticks\": \"\"}}, \"type\": \"parcoords\"}], \"pie\": [{\"automargin\": true, \"type\": \"pie\"}], \"scatter\": [{\"marker\": {\"colorbar\": {\"outlinewidth\": 0, \"ticks\": \"\"}}, \"type\": \"scatter\"}], \"scatter3d\": [{\"line\": {\"colorbar\": {\"outlinewidth\": 0, \"ticks\": \"\"}}, \"marker\": {\"colorbar\": {\"outlinewidth\": 0, \"ticks\": \"\"}}, \"type\": \"scatter3d\"}], \"scattercarpet\": [{\"marker\": {\"colorbar\": {\"outlinewidth\": 0, \"ticks\": \"\"}}, \"type\": \"scattercarpet\"}], \"scattergeo\": [{\"marker\": {\"colorbar\": {\"outlinewidth\": 0, \"ticks\": \"\"}}, \"type\": \"scattergeo\"}], \"scattergl\": [{\"marker\": {\"colorbar\": {\"outlinewidth\": 0, \"ticks\": \"\"}}, \"type\": \"scattergl\"}], \"scattermapbox\": [{\"marker\": {\"colorbar\": {\"outlinewidth\": 0, \"ticks\": \"\"}}, \"type\": \"scattermapbox\"}], \"scatterpolar\": [{\"marker\": {\"colorbar\": {\"outlinewidth\": 0, \"ticks\": \"\"}}, \"type\": \"scatterpolar\"}], \"scatterpolargl\": [{\"marker\": {\"colorbar\": {\"outlinewidth\": 0, \"ticks\": \"\"}}, \"type\": \"scatterpolargl\"}], \"scatterternary\": [{\"marker\": {\"colorbar\": {\"outlinewidth\": 0, \"ticks\": \"\"}}, \"type\": \"scatterternary\"}], \"surface\": [{\"colorbar\": {\"outlinewidth\": 0, \"ticks\": \"\"}, \"colorscale\": [[0.0, \"#0d0887\"], [0.1111111111111111, \"#46039f\"], [0.2222222222222222, \"#7201a8\"], [0.3333333333333333, \"#9c179e\"], [0.4444444444444444, \"#bd3786\"], [0.5555555555555556, \"#d8576b\"], [0.6666666666666666, \"#ed7953\"], [0.7777777777777778, \"#fb9f3a\"], [0.8888888888888888, \"#fdca26\"], [1.0, \"#f0f921\"]], \"type\": \"surface\"}], \"table\": [{\"cells\": {\"fill\": {\"color\": \"#EBF0F8\"}, \"line\": {\"color\": \"white\"}}, \"header\": {\"fill\": {\"color\": \"#C8D4E3\"}, \"line\": {\"color\": \"white\"}}, \"type\": \"table\"}]}, \"layout\": {\"annotationdefaults\": {\"arrowcolor\": \"#2a3f5f\", \"arrowhead\": 0, \"arrowwidth\": 1}, \"coloraxis\": {\"colorbar\": {\"outlinewidth\": 0, \"ticks\": \"\"}}, \"colorscale\": {\"diverging\": [[0, \"#8e0152\"], [0.1, \"#c51b7d\"], [0.2, \"#de77ae\"], [0.3, \"#f1b6da\"], [0.4, \"#fde0ef\"], [0.5, \"#f7f7f7\"], [0.6, \"#e6f5d0\"], [0.7, \"#b8e186\"], [0.8, \"#7fbc41\"], [0.9, \"#4d9221\"], [1, \"#276419\"]], \"sequential\": [[0.0, \"#0d0887\"], [0.1111111111111111, \"#46039f\"], [0.2222222222222222, \"#7201a8\"], [0.3333333333333333, \"#9c179e\"], [0.4444444444444444, \"#bd3786\"], [0.5555555555555556, \"#d8576b\"], [0.6666666666666666, \"#ed7953\"], [0.7777777777777778, \"#fb9f3a\"], [0.8888888888888888, \"#fdca26\"], [1.0, \"#f0f921\"]], \"sequentialminus\": [[0.0, \"#0d0887\"], [0.1111111111111111, \"#46039f\"], [0.2222222222222222, \"#7201a8\"], [0.3333333333333333, \"#9c179e\"], [0.4444444444444444, \"#bd3786\"], [0.5555555555555556, \"#d8576b\"], [0.6666666666666666, \"#ed7953\"], [0.7777777777777778, \"#fb9f3a\"], [0.8888888888888888, \"#fdca26\"], [1.0, \"#f0f921\"]]}, \"colorway\": [\"#636efa\", \"#EF553B\", \"#00cc96\", \"#ab63fa\", \"#FFA15A\", \"#19d3f3\", \"#FF6692\", \"#B6E880\", \"#FF97FF\", \"#FECB52\"], \"font\": {\"color\": \"#2a3f5f\"}, \"geo\": {\"bgcolor\": \"white\", \"lakecolor\": \"white\", \"landcolor\": \"white\", \"showlakes\": true, \"showland\": true, \"subunitcolor\": \"#C8D4E3\"}, \"hoverlabel\": {\"align\": \"left\"}, \"hovermode\": \"closest\", \"mapbox\": {\"style\": \"light\"}, \"paper_bgcolor\": \"white\", \"plot_bgcolor\": \"white\", \"polar\": {\"angularaxis\": {\"gridcolor\": \"#EBF0F8\", \"linecolor\": \"#EBF0F8\", \"ticks\": \"\"}, \"bgcolor\": \"white\", \"radialaxis\": {\"gridcolor\": \"#EBF0F8\", \"linecolor\": \"#EBF0F8\", \"ticks\": \"\"}}, \"scene\": {\"xaxis\": {\"backgroundcolor\": \"white\", \"gridcolor\": \"#DFE8F3\", \"gridwidth\": 2, \"linecolor\": \"#EBF0F8\", \"showbackground\": true, \"ticks\": \"\", \"zerolinecolor\": \"#EBF0F8\"}, \"yaxis\": {\"backgroundcolor\": \"white\", \"gridcolor\": \"#DFE8F3\", \"gridwidth\": 2, \"linecolor\": \"#EBF0F8\", \"showbackground\": true, \"ticks\": \"\", \"zerolinecolor\": \"#EBF0F8\"}, \"zaxis\": {\"backgroundcolor\": \"white\", \"gridcolor\": \"#DFE8F3\", \"gridwidth\": 2, \"linecolor\": \"#EBF0F8\", \"showbackground\": true, \"ticks\": \"\", \"zerolinecolor\": \"#EBF0F8\"}}, \"shapedefaults\": {\"line\": {\"color\": \"#2a3f5f\"}}, \"ternary\": {\"aaxis\": {\"gridcolor\": \"#DFE8F3\", \"linecolor\": \"#A2B1C6\", \"ticks\": \"\"}, \"baxis\": {\"gridcolor\": \"#DFE8F3\", \"linecolor\": \"#A2B1C6\", \"ticks\": \"\"}, \"bgcolor\": \"white\", \"caxis\": {\"gridcolor\": \"#DFE8F3\", \"linecolor\": \"#A2B1C6\", \"ticks\": \"\"}}, \"title\": {\"x\": 0.05}, \"xaxis\": {\"automargin\": true, \"gridcolor\": \"#EBF0F8\", \"linecolor\": \"#EBF0F8\", \"ticks\": \"\", \"title\": {\"standoff\": 15}, \"zerolinecolor\": \"#EBF0F8\", \"zerolinewidth\": 2}, \"yaxis\": {\"automargin\": true, \"gridcolor\": \"#EBF0F8\", \"linecolor\": \"#EBF0F8\", \"ticks\": \"\", \"title\": {\"standoff\": 15}, \"zerolinecolor\": \"#EBF0F8\", \"zerolinewidth\": 2}}}, \"title\": {\"text\": \"kfc Avg. Ratings by State\"}},\n",
       "                        {\"showLink\": true, \"linkText\": \"Export to plot.ly\", \"plotlyServerURL\": \"https://plot.ly\", \"responsive\": true}\n",
       "                    ).then(function(){\n",
       "                            \n",
       "var gd = document.getElementById('2b3be48f-6a2e-4c96-878f-dfaab6da8d63');\n",
       "var x = new MutationObserver(function (mutations, observer) {{\n",
       "        var display = window.getComputedStyle(gd).display;\n",
       "        if (!display || display === 'none') {{\n",
       "            console.log([gd, 'removed!']);\n",
       "            Plotly.purge(gd);\n",
       "            observer.disconnect();\n",
       "        }}\n",
       "}});\n",
       "\n",
       "// Listen for the removal of the full notebook cells\n",
       "var notebookContainer = gd.closest('#notebook-container');\n",
       "if (notebookContainer) {{\n",
       "    x.observe(notebookContainer, {childList: true});\n",
       "}}\n",
       "\n",
       "// Listen for the clearing of the current output cell\n",
       "var outputEl = gd.closest('.output');\n",
       "if (outputEl) {{\n",
       "    x.observe(outputEl, {childList: true});\n",
       "}}\n",
       "\n",
       "                        })\n",
       "                };\n",
       "                });\n",
       "            </script>\n",
       "        </div>"
      ]
     },
     "metadata": {},
     "output_type": "display_data"
    }
   ],
   "source": [
    "business_n = 'kfc'\n",
    "\n",
    "(kfc_by_state.set_index('state_name')['stars']\n",
    " .iplot(kind='bar', color='red',\n",
    "        layout=dict(title=f'{business_n} Avg. Ratings by State')))"
   ]
  },
  {
   "cell_type": "code",
   "execution_count": 42,
   "metadata": {},
   "outputs": [
    {
     "data": {
      "application/vnd.plotly.v1+json": {
       "config": {
        "plotlyServerURL": "https://plot.ly"
       },
       "data": [
        {
         "coloraxis": "coloraxis",
         "customdata": [
          [
           "CHE"
          ],
          [
           "Pennsylvania"
          ],
          [
           "EDH"
          ],
          [
           "Illinois"
          ],
          [
           "WLN"
          ],
          [
           "Ohio"
          ],
          [
           "North Carolina"
          ],
          [
           "ON"
          ],
          [
           "South Carolina"
          ],
          [
           "Arizona"
          ],
          [
           "Nevada"
          ],
          [
           "Wisconsin"
          ]
         ],
         "geo": "geo",
         "hoverlabel": {
          "namelength": 0
         },
         "hovertemplate": "state_name=%{customdata[0]}<br>state=%{location}<br>stars=%{z}",
         "locationmode": "USA-states",
         "locations": [
          "CHE",
          "PA",
          "EDH",
          "IL",
          "WLN",
          "OH",
          "NC",
          "ON",
          "SC",
          "AZ",
          "NV",
          "WI"
         ],
         "name": "",
         "type": "choropleth",
         "z": [
          3,
          2.6666666666666665,
          2.5833333333333335,
          2.5,
          2.5,
          2.088235294117647,
          2.0833333333333335,
          2.0161290322580645,
          2,
          1.6842105263157894,
          1.6774193548387097,
          1.4285714285714286
         ]
        }
       ],
       "layout": {
        "coloraxis": {
         "colorbar": {
          "title": {
           "text": "stars"
          }
         },
         "colorscale": [
          [
           0,
           "rgb(247,251,255)"
          ],
          [
           0.125,
           "rgb(222,235,247)"
          ],
          [
           0.25,
           "rgb(198,219,239)"
          ],
          [
           0.375,
           "rgb(158,202,225)"
          ],
          [
           0.5,
           "rgb(107,174,214)"
          ],
          [
           0.625,
           "rgb(66,146,198)"
          ],
          [
           0.75,
           "rgb(33,113,181)"
          ],
          [
           0.875,
           "rgb(8,81,156)"
          ],
          [
           1,
           "rgb(8,48,107)"
          ]
         ]
        },
        "geo": {
         "center": {},
         "domain": {
          "x": [
           0,
           1
          ],
          "y": [
           0,
           1
          ]
         },
         "scope": "usa"
        },
        "legend": {
         "tracegroupgap": 0
        },
        "template": {
         "data": {
          "bar": [
           {
            "error_x": {
             "color": "#2a3f5f"
            },
            "error_y": {
             "color": "#2a3f5f"
            },
            "marker": {
             "line": {
              "color": "white",
              "width": 0.5
             }
            },
            "type": "bar"
           }
          ],
          "barpolar": [
           {
            "marker": {
             "line": {
              "color": "white",
              "width": 0.5
             }
            },
            "type": "barpolar"
           }
          ],
          "carpet": [
           {
            "aaxis": {
             "endlinecolor": "#2a3f5f",
             "gridcolor": "#C8D4E3",
             "linecolor": "#C8D4E3",
             "minorgridcolor": "#C8D4E3",
             "startlinecolor": "#2a3f5f"
            },
            "baxis": {
             "endlinecolor": "#2a3f5f",
             "gridcolor": "#C8D4E3",
             "linecolor": "#C8D4E3",
             "minorgridcolor": "#C8D4E3",
             "startlinecolor": "#2a3f5f"
            },
            "type": "carpet"
           }
          ],
          "choropleth": [
           {
            "colorbar": {
             "outlinewidth": 0,
             "ticks": ""
            },
            "type": "choropleth"
           }
          ],
          "contour": [
           {
            "colorbar": {
             "outlinewidth": 0,
             "ticks": ""
            },
            "colorscale": [
             [
              0,
              "#0d0887"
             ],
             [
              0.1111111111111111,
              "#46039f"
             ],
             [
              0.2222222222222222,
              "#7201a8"
             ],
             [
              0.3333333333333333,
              "#9c179e"
             ],
             [
              0.4444444444444444,
              "#bd3786"
             ],
             [
              0.5555555555555556,
              "#d8576b"
             ],
             [
              0.6666666666666666,
              "#ed7953"
             ],
             [
              0.7777777777777778,
              "#fb9f3a"
             ],
             [
              0.8888888888888888,
              "#fdca26"
             ],
             [
              1,
              "#f0f921"
             ]
            ],
            "type": "contour"
           }
          ],
          "contourcarpet": [
           {
            "colorbar": {
             "outlinewidth": 0,
             "ticks": ""
            },
            "type": "contourcarpet"
           }
          ],
          "heatmap": [
           {
            "colorbar": {
             "outlinewidth": 0,
             "ticks": ""
            },
            "colorscale": [
             [
              0,
              "#0d0887"
             ],
             [
              0.1111111111111111,
              "#46039f"
             ],
             [
              0.2222222222222222,
              "#7201a8"
             ],
             [
              0.3333333333333333,
              "#9c179e"
             ],
             [
              0.4444444444444444,
              "#bd3786"
             ],
             [
              0.5555555555555556,
              "#d8576b"
             ],
             [
              0.6666666666666666,
              "#ed7953"
             ],
             [
              0.7777777777777778,
              "#fb9f3a"
             ],
             [
              0.8888888888888888,
              "#fdca26"
             ],
             [
              1,
              "#f0f921"
             ]
            ],
            "type": "heatmap"
           }
          ],
          "heatmapgl": [
           {
            "colorbar": {
             "outlinewidth": 0,
             "ticks": ""
            },
            "colorscale": [
             [
              0,
              "#0d0887"
             ],
             [
              0.1111111111111111,
              "#46039f"
             ],
             [
              0.2222222222222222,
              "#7201a8"
             ],
             [
              0.3333333333333333,
              "#9c179e"
             ],
             [
              0.4444444444444444,
              "#bd3786"
             ],
             [
              0.5555555555555556,
              "#d8576b"
             ],
             [
              0.6666666666666666,
              "#ed7953"
             ],
             [
              0.7777777777777778,
              "#fb9f3a"
             ],
             [
              0.8888888888888888,
              "#fdca26"
             ],
             [
              1,
              "#f0f921"
             ]
            ],
            "type": "heatmapgl"
           }
          ],
          "histogram": [
           {
            "marker": {
             "colorbar": {
              "outlinewidth": 0,
              "ticks": ""
             }
            },
            "type": "histogram"
           }
          ],
          "histogram2d": [
           {
            "colorbar": {
             "outlinewidth": 0,
             "ticks": ""
            },
            "colorscale": [
             [
              0,
              "#0d0887"
             ],
             [
              0.1111111111111111,
              "#46039f"
             ],
             [
              0.2222222222222222,
              "#7201a8"
             ],
             [
              0.3333333333333333,
              "#9c179e"
             ],
             [
              0.4444444444444444,
              "#bd3786"
             ],
             [
              0.5555555555555556,
              "#d8576b"
             ],
             [
              0.6666666666666666,
              "#ed7953"
             ],
             [
              0.7777777777777778,
              "#fb9f3a"
             ],
             [
              0.8888888888888888,
              "#fdca26"
             ],
             [
              1,
              "#f0f921"
             ]
            ],
            "type": "histogram2d"
           }
          ],
          "histogram2dcontour": [
           {
            "colorbar": {
             "outlinewidth": 0,
             "ticks": ""
            },
            "colorscale": [
             [
              0,
              "#0d0887"
             ],
             [
              0.1111111111111111,
              "#46039f"
             ],
             [
              0.2222222222222222,
              "#7201a8"
             ],
             [
              0.3333333333333333,
              "#9c179e"
             ],
             [
              0.4444444444444444,
              "#bd3786"
             ],
             [
              0.5555555555555556,
              "#d8576b"
             ],
             [
              0.6666666666666666,
              "#ed7953"
             ],
             [
              0.7777777777777778,
              "#fb9f3a"
             ],
             [
              0.8888888888888888,
              "#fdca26"
             ],
             [
              1,
              "#f0f921"
             ]
            ],
            "type": "histogram2dcontour"
           }
          ],
          "mesh3d": [
           {
            "colorbar": {
             "outlinewidth": 0,
             "ticks": ""
            },
            "type": "mesh3d"
           }
          ],
          "parcoords": [
           {
            "line": {
             "colorbar": {
              "outlinewidth": 0,
              "ticks": ""
             }
            },
            "type": "parcoords"
           }
          ],
          "pie": [
           {
            "automargin": true,
            "type": "pie"
           }
          ],
          "scatter": [
           {
            "marker": {
             "colorbar": {
              "outlinewidth": 0,
              "ticks": ""
             }
            },
            "type": "scatter"
           }
          ],
          "scatter3d": [
           {
            "line": {
             "colorbar": {
              "outlinewidth": 0,
              "ticks": ""
             }
            },
            "marker": {
             "colorbar": {
              "outlinewidth": 0,
              "ticks": ""
             }
            },
            "type": "scatter3d"
           }
          ],
          "scattercarpet": [
           {
            "marker": {
             "colorbar": {
              "outlinewidth": 0,
              "ticks": ""
             }
            },
            "type": "scattercarpet"
           }
          ],
          "scattergeo": [
           {
            "marker": {
             "colorbar": {
              "outlinewidth": 0,
              "ticks": ""
             }
            },
            "type": "scattergeo"
           }
          ],
          "scattergl": [
           {
            "marker": {
             "colorbar": {
              "outlinewidth": 0,
              "ticks": ""
             }
            },
            "type": "scattergl"
           }
          ],
          "scattermapbox": [
           {
            "marker": {
             "colorbar": {
              "outlinewidth": 0,
              "ticks": ""
             }
            },
            "type": "scattermapbox"
           }
          ],
          "scatterpolar": [
           {
            "marker": {
             "colorbar": {
              "outlinewidth": 0,
              "ticks": ""
             }
            },
            "type": "scatterpolar"
           }
          ],
          "scatterpolargl": [
           {
            "marker": {
             "colorbar": {
              "outlinewidth": 0,
              "ticks": ""
             }
            },
            "type": "scatterpolargl"
           }
          ],
          "scatterternary": [
           {
            "marker": {
             "colorbar": {
              "outlinewidth": 0,
              "ticks": ""
             }
            },
            "type": "scatterternary"
           }
          ],
          "surface": [
           {
            "colorbar": {
             "outlinewidth": 0,
             "ticks": ""
            },
            "colorscale": [
             [
              0,
              "#0d0887"
             ],
             [
              0.1111111111111111,
              "#46039f"
             ],
             [
              0.2222222222222222,
              "#7201a8"
             ],
             [
              0.3333333333333333,
              "#9c179e"
             ],
             [
              0.4444444444444444,
              "#bd3786"
             ],
             [
              0.5555555555555556,
              "#d8576b"
             ],
             [
              0.6666666666666666,
              "#ed7953"
             ],
             [
              0.7777777777777778,
              "#fb9f3a"
             ],
             [
              0.8888888888888888,
              "#fdca26"
             ],
             [
              1,
              "#f0f921"
             ]
            ],
            "type": "surface"
           }
          ],
          "table": [
           {
            "cells": {
             "fill": {
              "color": "#EBF0F8"
             },
             "line": {
              "color": "white"
             }
            },
            "header": {
             "fill": {
              "color": "#C8D4E3"
             },
             "line": {
              "color": "white"
             }
            },
            "type": "table"
           }
          ]
         },
         "layout": {
          "annotationdefaults": {
           "arrowcolor": "#2a3f5f",
           "arrowhead": 0,
           "arrowwidth": 1
          },
          "coloraxis": {
           "colorbar": {
            "outlinewidth": 0,
            "ticks": ""
           }
          },
          "colorscale": {
           "diverging": [
            [
             0,
             "#8e0152"
            ],
            [
             0.1,
             "#c51b7d"
            ],
            [
             0.2,
             "#de77ae"
            ],
            [
             0.3,
             "#f1b6da"
            ],
            [
             0.4,
             "#fde0ef"
            ],
            [
             0.5,
             "#f7f7f7"
            ],
            [
             0.6,
             "#e6f5d0"
            ],
            [
             0.7,
             "#b8e186"
            ],
            [
             0.8,
             "#7fbc41"
            ],
            [
             0.9,
             "#4d9221"
            ],
            [
             1,
             "#276419"
            ]
           ],
           "sequential": [
            [
             0,
             "#0d0887"
            ],
            [
             0.1111111111111111,
             "#46039f"
            ],
            [
             0.2222222222222222,
             "#7201a8"
            ],
            [
             0.3333333333333333,
             "#9c179e"
            ],
            [
             0.4444444444444444,
             "#bd3786"
            ],
            [
             0.5555555555555556,
             "#d8576b"
            ],
            [
             0.6666666666666666,
             "#ed7953"
            ],
            [
             0.7777777777777778,
             "#fb9f3a"
            ],
            [
             0.8888888888888888,
             "#fdca26"
            ],
            [
             1,
             "#f0f921"
            ]
           ],
           "sequentialminus": [
            [
             0,
             "#0d0887"
            ],
            [
             0.1111111111111111,
             "#46039f"
            ],
            [
             0.2222222222222222,
             "#7201a8"
            ],
            [
             0.3333333333333333,
             "#9c179e"
            ],
            [
             0.4444444444444444,
             "#bd3786"
            ],
            [
             0.5555555555555556,
             "#d8576b"
            ],
            [
             0.6666666666666666,
             "#ed7953"
            ],
            [
             0.7777777777777778,
             "#fb9f3a"
            ],
            [
             0.8888888888888888,
             "#fdca26"
            ],
            [
             1,
             "#f0f921"
            ]
           ]
          },
          "colorway": [
           "#636efa",
           "#EF553B",
           "#00cc96",
           "#ab63fa",
           "#FFA15A",
           "#19d3f3",
           "#FF6692",
           "#B6E880",
           "#FF97FF",
           "#FECB52"
          ],
          "font": {
           "color": "#2a3f5f"
          },
          "geo": {
           "bgcolor": "white",
           "lakecolor": "white",
           "landcolor": "white",
           "showlakes": true,
           "showland": true,
           "subunitcolor": "#C8D4E3"
          },
          "hoverlabel": {
           "align": "left"
          },
          "hovermode": "closest",
          "mapbox": {
           "style": "light"
          },
          "paper_bgcolor": "white",
          "plot_bgcolor": "white",
          "polar": {
           "angularaxis": {
            "gridcolor": "#EBF0F8",
            "linecolor": "#EBF0F8",
            "ticks": ""
           },
           "bgcolor": "white",
           "radialaxis": {
            "gridcolor": "#EBF0F8",
            "linecolor": "#EBF0F8",
            "ticks": ""
           }
          },
          "scene": {
           "xaxis": {
            "backgroundcolor": "white",
            "gridcolor": "#DFE8F3",
            "gridwidth": 2,
            "linecolor": "#EBF0F8",
            "showbackground": true,
            "ticks": "",
            "zerolinecolor": "#EBF0F8"
           },
           "yaxis": {
            "backgroundcolor": "white",
            "gridcolor": "#DFE8F3",
            "gridwidth": 2,
            "linecolor": "#EBF0F8",
            "showbackground": true,
            "ticks": "",
            "zerolinecolor": "#EBF0F8"
           },
           "zaxis": {
            "backgroundcolor": "white",
            "gridcolor": "#DFE8F3",
            "gridwidth": 2,
            "linecolor": "#EBF0F8",
            "showbackground": true,
            "ticks": "",
            "zerolinecolor": "#EBF0F8"
           }
          },
          "shapedefaults": {
           "line": {
            "color": "#2a3f5f"
           }
          },
          "ternary": {
           "aaxis": {
            "gridcolor": "#DFE8F3",
            "linecolor": "#A2B1C6",
            "ticks": ""
           },
           "baxis": {
            "gridcolor": "#DFE8F3",
            "linecolor": "#A2B1C6",
            "ticks": ""
           },
           "bgcolor": "white",
           "caxis": {
            "gridcolor": "#DFE8F3",
            "linecolor": "#A2B1C6",
            "ticks": ""
           }
          },
          "title": {
           "x": 0.05
          },
          "xaxis": {
           "automargin": true,
           "gridcolor": "#EBF0F8",
           "linecolor": "#EBF0F8",
           "ticks": "",
           "title": {
            "standoff": 15
           },
           "zerolinecolor": "#EBF0F8",
           "zerolinewidth": 2
          },
          "yaxis": {
           "automargin": true,
           "gridcolor": "#EBF0F8",
           "linecolor": "#EBF0F8",
           "ticks": "",
           "title": {
            "standoff": 15
           },
           "zerolinecolor": "#EBF0F8",
           "zerolinewidth": 2
          }
         }
        },
        "title": {
         "text": "KFC Avg. Rating by State"
        }
       }
      },
      "text/html": [
       "<div>\n",
       "        \n",
       "        \n",
       "            <div id=\"fdef5869-abea-48df-be5f-1afe047ab663\" class=\"plotly-graph-div\" style=\"height:525px; width:100%;\"></div>\n",
       "            <script type=\"text/javascript\">\n",
       "                require([\"plotly\"], function(Plotly) {\n",
       "                    window.PLOTLYENV=window.PLOTLYENV || {};\n",
       "                    \n",
       "                if (document.getElementById(\"fdef5869-abea-48df-be5f-1afe047ab663\")) {\n",
       "                    Plotly.newPlot(\n",
       "                        'fdef5869-abea-48df-be5f-1afe047ab663',\n",
       "                        [{\"coloraxis\": \"coloraxis\", \"customdata\": [[\"CHE\"], [\"Pennsylvania\"], [\"EDH\"], [\"Illinois\"], [\"WLN\"], [\"Ohio\"], [\"North Carolina\"], [\"ON\"], [\"South Carolina\"], [\"Arizona\"], [\"Nevada\"], [\"Wisconsin\"]], \"geo\": \"geo\", \"hoverlabel\": {\"namelength\": 0}, \"hovertemplate\": \"state_name=%{customdata[0]}<br>state=%{location}<br>stars=%{z}\", \"locationmode\": \"USA-states\", \"locations\": [\"CHE\", \"PA\", \"EDH\", \"IL\", \"WLN\", \"OH\", \"NC\", \"ON\", \"SC\", \"AZ\", \"NV\", \"WI\"], \"name\": \"\", \"type\": \"choropleth\", \"z\": [3.0, 2.6666666666666665, 2.5833333333333335, 2.5, 2.5, 2.088235294117647, 2.0833333333333335, 2.0161290322580645, 2.0, 1.6842105263157894, 1.6774193548387097, 1.4285714285714286]}],\n",
       "                        {\"coloraxis\": {\"colorbar\": {\"title\": {\"text\": \"stars\"}}, \"colorscale\": [[0.0, \"rgb(247,251,255)\"], [0.125, \"rgb(222,235,247)\"], [0.25, \"rgb(198,219,239)\"], [0.375, \"rgb(158,202,225)\"], [0.5, \"rgb(107,174,214)\"], [0.625, \"rgb(66,146,198)\"], [0.75, \"rgb(33,113,181)\"], [0.875, \"rgb(8,81,156)\"], [1.0, \"rgb(8,48,107)\"]]}, \"geo\": {\"center\": {}, \"domain\": {\"x\": [0.0, 1.0], \"y\": [0.0, 1.0]}, \"scope\": \"usa\"}, \"legend\": {\"tracegroupgap\": 0}, \"template\": {\"data\": {\"bar\": [{\"error_x\": {\"color\": \"#2a3f5f\"}, \"error_y\": {\"color\": \"#2a3f5f\"}, \"marker\": {\"line\": {\"color\": \"white\", \"width\": 0.5}}, \"type\": \"bar\"}], \"barpolar\": [{\"marker\": {\"line\": {\"color\": \"white\", \"width\": 0.5}}, \"type\": \"barpolar\"}], \"carpet\": [{\"aaxis\": {\"endlinecolor\": \"#2a3f5f\", \"gridcolor\": \"#C8D4E3\", \"linecolor\": \"#C8D4E3\", \"minorgridcolor\": \"#C8D4E3\", \"startlinecolor\": \"#2a3f5f\"}, \"baxis\": {\"endlinecolor\": \"#2a3f5f\", \"gridcolor\": \"#C8D4E3\", \"linecolor\": \"#C8D4E3\", \"minorgridcolor\": \"#C8D4E3\", \"startlinecolor\": \"#2a3f5f\"}, \"type\": \"carpet\"}], \"choropleth\": [{\"colorbar\": {\"outlinewidth\": 0, \"ticks\": \"\"}, \"type\": \"choropleth\"}], \"contour\": [{\"colorbar\": {\"outlinewidth\": 0, \"ticks\": \"\"}, \"colorscale\": [[0.0, \"#0d0887\"], [0.1111111111111111, \"#46039f\"], [0.2222222222222222, \"#7201a8\"], [0.3333333333333333, \"#9c179e\"], [0.4444444444444444, \"#bd3786\"], [0.5555555555555556, \"#d8576b\"], [0.6666666666666666, \"#ed7953\"], [0.7777777777777778, \"#fb9f3a\"], [0.8888888888888888, \"#fdca26\"], [1.0, \"#f0f921\"]], \"type\": \"contour\"}], \"contourcarpet\": [{\"colorbar\": {\"outlinewidth\": 0, \"ticks\": \"\"}, \"type\": \"contourcarpet\"}], \"heatmap\": [{\"colorbar\": {\"outlinewidth\": 0, \"ticks\": \"\"}, \"colorscale\": [[0.0, \"#0d0887\"], [0.1111111111111111, \"#46039f\"], [0.2222222222222222, \"#7201a8\"], [0.3333333333333333, \"#9c179e\"], [0.4444444444444444, \"#bd3786\"], [0.5555555555555556, \"#d8576b\"], [0.6666666666666666, \"#ed7953\"], [0.7777777777777778, \"#fb9f3a\"], [0.8888888888888888, \"#fdca26\"], [1.0, \"#f0f921\"]], \"type\": \"heatmap\"}], \"heatmapgl\": [{\"colorbar\": {\"outlinewidth\": 0, \"ticks\": \"\"}, \"colorscale\": [[0.0, \"#0d0887\"], [0.1111111111111111, \"#46039f\"], [0.2222222222222222, \"#7201a8\"], [0.3333333333333333, \"#9c179e\"], [0.4444444444444444, \"#bd3786\"], [0.5555555555555556, \"#d8576b\"], [0.6666666666666666, \"#ed7953\"], [0.7777777777777778, \"#fb9f3a\"], [0.8888888888888888, \"#fdca26\"], [1.0, \"#f0f921\"]], \"type\": \"heatmapgl\"}], \"histogram\": [{\"marker\": {\"colorbar\": {\"outlinewidth\": 0, \"ticks\": \"\"}}, \"type\": \"histogram\"}], \"histogram2d\": [{\"colorbar\": {\"outlinewidth\": 0, \"ticks\": \"\"}, \"colorscale\": [[0.0, \"#0d0887\"], [0.1111111111111111, \"#46039f\"], [0.2222222222222222, \"#7201a8\"], [0.3333333333333333, \"#9c179e\"], [0.4444444444444444, \"#bd3786\"], [0.5555555555555556, \"#d8576b\"], [0.6666666666666666, \"#ed7953\"], [0.7777777777777778, \"#fb9f3a\"], [0.8888888888888888, \"#fdca26\"], [1.0, \"#f0f921\"]], \"type\": \"histogram2d\"}], \"histogram2dcontour\": [{\"colorbar\": {\"outlinewidth\": 0, \"ticks\": \"\"}, \"colorscale\": [[0.0, \"#0d0887\"], [0.1111111111111111, \"#46039f\"], [0.2222222222222222, \"#7201a8\"], [0.3333333333333333, \"#9c179e\"], [0.4444444444444444, \"#bd3786\"], [0.5555555555555556, \"#d8576b\"], [0.6666666666666666, \"#ed7953\"], [0.7777777777777778, \"#fb9f3a\"], [0.8888888888888888, \"#fdca26\"], [1.0, \"#f0f921\"]], \"type\": \"histogram2dcontour\"}], \"mesh3d\": [{\"colorbar\": {\"outlinewidth\": 0, \"ticks\": \"\"}, \"type\": \"mesh3d\"}], \"parcoords\": [{\"line\": {\"colorbar\": {\"outlinewidth\": 0, \"ticks\": \"\"}}, \"type\": \"parcoords\"}], \"pie\": [{\"automargin\": true, \"type\": \"pie\"}], \"scatter\": [{\"marker\": {\"colorbar\": {\"outlinewidth\": 0, \"ticks\": \"\"}}, \"type\": \"scatter\"}], \"scatter3d\": [{\"line\": {\"colorbar\": {\"outlinewidth\": 0, \"ticks\": \"\"}}, \"marker\": {\"colorbar\": {\"outlinewidth\": 0, \"ticks\": \"\"}}, \"type\": \"scatter3d\"}], \"scattercarpet\": [{\"marker\": {\"colorbar\": {\"outlinewidth\": 0, \"ticks\": \"\"}}, \"type\": \"scattercarpet\"}], \"scattergeo\": [{\"marker\": {\"colorbar\": {\"outlinewidth\": 0, \"ticks\": \"\"}}, \"type\": \"scattergeo\"}], \"scattergl\": [{\"marker\": {\"colorbar\": {\"outlinewidth\": 0, \"ticks\": \"\"}}, \"type\": \"scattergl\"}], \"scattermapbox\": [{\"marker\": {\"colorbar\": {\"outlinewidth\": 0, \"ticks\": \"\"}}, \"type\": \"scattermapbox\"}], \"scatterpolar\": [{\"marker\": {\"colorbar\": {\"outlinewidth\": 0, \"ticks\": \"\"}}, \"type\": \"scatterpolar\"}], \"scatterpolargl\": [{\"marker\": {\"colorbar\": {\"outlinewidth\": 0, \"ticks\": \"\"}}, \"type\": \"scatterpolargl\"}], \"scatterternary\": [{\"marker\": {\"colorbar\": {\"outlinewidth\": 0, \"ticks\": \"\"}}, \"type\": \"scatterternary\"}], \"surface\": [{\"colorbar\": {\"outlinewidth\": 0, \"ticks\": \"\"}, \"colorscale\": [[0.0, \"#0d0887\"], [0.1111111111111111, \"#46039f\"], [0.2222222222222222, \"#7201a8\"], [0.3333333333333333, \"#9c179e\"], [0.4444444444444444, \"#bd3786\"], [0.5555555555555556, \"#d8576b\"], [0.6666666666666666, \"#ed7953\"], [0.7777777777777778, \"#fb9f3a\"], [0.8888888888888888, \"#fdca26\"], [1.0, \"#f0f921\"]], \"type\": \"surface\"}], \"table\": [{\"cells\": {\"fill\": {\"color\": \"#EBF0F8\"}, \"line\": {\"color\": \"white\"}}, \"header\": {\"fill\": {\"color\": \"#C8D4E3\"}, \"line\": {\"color\": \"white\"}}, \"type\": \"table\"}]}, \"layout\": {\"annotationdefaults\": {\"arrowcolor\": \"#2a3f5f\", \"arrowhead\": 0, \"arrowwidth\": 1}, \"coloraxis\": {\"colorbar\": {\"outlinewidth\": 0, \"ticks\": \"\"}}, \"colorscale\": {\"diverging\": [[0, \"#8e0152\"], [0.1, \"#c51b7d\"], [0.2, \"#de77ae\"], [0.3, \"#f1b6da\"], [0.4, \"#fde0ef\"], [0.5, \"#f7f7f7\"], [0.6, \"#e6f5d0\"], [0.7, \"#b8e186\"], [0.8, \"#7fbc41\"], [0.9, \"#4d9221\"], [1, \"#276419\"]], \"sequential\": [[0.0, \"#0d0887\"], [0.1111111111111111, \"#46039f\"], [0.2222222222222222, \"#7201a8\"], [0.3333333333333333, \"#9c179e\"], [0.4444444444444444, \"#bd3786\"], [0.5555555555555556, \"#d8576b\"], [0.6666666666666666, \"#ed7953\"], [0.7777777777777778, \"#fb9f3a\"], [0.8888888888888888, \"#fdca26\"], [1.0, \"#f0f921\"]], \"sequentialminus\": [[0.0, \"#0d0887\"], [0.1111111111111111, \"#46039f\"], [0.2222222222222222, \"#7201a8\"], [0.3333333333333333, \"#9c179e\"], [0.4444444444444444, \"#bd3786\"], [0.5555555555555556, \"#d8576b\"], [0.6666666666666666, \"#ed7953\"], [0.7777777777777778, \"#fb9f3a\"], [0.8888888888888888, \"#fdca26\"], [1.0, \"#f0f921\"]]}, \"colorway\": [\"#636efa\", \"#EF553B\", \"#00cc96\", \"#ab63fa\", \"#FFA15A\", \"#19d3f3\", \"#FF6692\", \"#B6E880\", \"#FF97FF\", \"#FECB52\"], \"font\": {\"color\": \"#2a3f5f\"}, \"geo\": {\"bgcolor\": \"white\", \"lakecolor\": \"white\", \"landcolor\": \"white\", \"showlakes\": true, \"showland\": true, \"subunitcolor\": \"#C8D4E3\"}, \"hoverlabel\": {\"align\": \"left\"}, \"hovermode\": \"closest\", \"mapbox\": {\"style\": \"light\"}, \"paper_bgcolor\": \"white\", \"plot_bgcolor\": \"white\", \"polar\": {\"angularaxis\": {\"gridcolor\": \"#EBF0F8\", \"linecolor\": \"#EBF0F8\", \"ticks\": \"\"}, \"bgcolor\": \"white\", \"radialaxis\": {\"gridcolor\": \"#EBF0F8\", \"linecolor\": \"#EBF0F8\", \"ticks\": \"\"}}, \"scene\": {\"xaxis\": {\"backgroundcolor\": \"white\", \"gridcolor\": \"#DFE8F3\", \"gridwidth\": 2, \"linecolor\": \"#EBF0F8\", \"showbackground\": true, \"ticks\": \"\", \"zerolinecolor\": \"#EBF0F8\"}, \"yaxis\": {\"backgroundcolor\": \"white\", \"gridcolor\": \"#DFE8F3\", \"gridwidth\": 2, \"linecolor\": \"#EBF0F8\", \"showbackground\": true, \"ticks\": \"\", \"zerolinecolor\": \"#EBF0F8\"}, \"zaxis\": {\"backgroundcolor\": \"white\", \"gridcolor\": \"#DFE8F3\", \"gridwidth\": 2, \"linecolor\": \"#EBF0F8\", \"showbackground\": true, \"ticks\": \"\", \"zerolinecolor\": \"#EBF0F8\"}}, \"shapedefaults\": {\"line\": {\"color\": \"#2a3f5f\"}}, \"ternary\": {\"aaxis\": {\"gridcolor\": \"#DFE8F3\", \"linecolor\": \"#A2B1C6\", \"ticks\": \"\"}, \"baxis\": {\"gridcolor\": \"#DFE8F3\", \"linecolor\": \"#A2B1C6\", \"ticks\": \"\"}, \"bgcolor\": \"white\", \"caxis\": {\"gridcolor\": \"#DFE8F3\", \"linecolor\": \"#A2B1C6\", \"ticks\": \"\"}}, \"title\": {\"x\": 0.05}, \"xaxis\": {\"automargin\": true, \"gridcolor\": \"#EBF0F8\", \"linecolor\": \"#EBF0F8\", \"ticks\": \"\", \"title\": {\"standoff\": 15}, \"zerolinecolor\": \"#EBF0F8\", \"zerolinewidth\": 2}, \"yaxis\": {\"automargin\": true, \"gridcolor\": \"#EBF0F8\", \"linecolor\": \"#EBF0F8\", \"ticks\": \"\", \"title\": {\"standoff\": 15}, \"zerolinecolor\": \"#EBF0F8\", \"zerolinewidth\": 2}}}, \"title\": {\"text\": \"KFC Avg. Rating by State\"}},\n",
       "                        {\"responsive\": true}\n",
       "                    ).then(function(){\n",
       "                            \n",
       "var gd = document.getElementById('fdef5869-abea-48df-be5f-1afe047ab663');\n",
       "var x = new MutationObserver(function (mutations, observer) {{\n",
       "        var display = window.getComputedStyle(gd).display;\n",
       "        if (!display || display === 'none') {{\n",
       "            console.log([gd, 'removed!']);\n",
       "            Plotly.purge(gd);\n",
       "            observer.disconnect();\n",
       "        }}\n",
       "}});\n",
       "\n",
       "// Listen for the removal of the full notebook cells\n",
       "var notebookContainer = gd.closest('#notebook-container');\n",
       "if (notebookContainer) {{\n",
       "    x.observe(notebookContainer, {childList: true});\n",
       "}}\n",
       "\n",
       "// Listen for the clearing of the current output cell\n",
       "var outputEl = gd.closest('.output');\n",
       "if (outputEl) {{\n",
       "    x.observe(outputEl, {childList: true});\n",
       "}}\n",
       "\n",
       "                        })\n",
       "                };\n",
       "                });\n",
       "            </script>\n",
       "        </div>"
      ]
     },
     "metadata": {},
     "output_type": "display_data"
    }
   ],
   "source": [
    "px.choropleth(kfc_by_state, \n",
    "              locations='state',\n",
    "              hover_data=['state_name'],\n",
    "              locationmode='USA-states', \n",
    "              color='stars',\n",
    "              color_continuous_scale='Blues',\n",
    "              scope='usa',\n",
    "              title='KFC Avg. Rating by State')"
   ]
  },
  {
   "cell_type": "markdown",
   "metadata": {},
   "source": [
    "See <a href='https://plot.ly/python/colorscales/#:~:text=Most%20Plotly%20Express%20functions%20accept,known%20as%20categorical%20or%20qualitative).' target='_blank'>here</a> for more on plotly express colors"
   ]
  },
  {
   "cell_type": "markdown",
   "metadata": {},
   "source": [
    "How about the cities?"
   ]
  },
  {
   "cell_type": "code",
   "execution_count": 43,
   "metadata": {},
   "outputs": [
    {
     "data": {
      "text/html": [
       "<div>\n",
       "<style scoped>\n",
       "    .dataframe tbody tr th:only-of-type {\n",
       "        vertical-align: middle;\n",
       "    }\n",
       "\n",
       "    .dataframe tbody tr th {\n",
       "        vertical-align: top;\n",
       "    }\n",
       "\n",
       "    .dataframe thead th {\n",
       "        text-align: right;\n",
       "    }\n",
       "</style>\n",
       "<table border=\"1\" class=\"dataframe\">\n",
       "  <thead>\n",
       "    <tr style=\"text-align: right;\">\n",
       "      <th></th>\n",
       "      <th>name</th>\n",
       "      <th>neighborhood</th>\n",
       "      <th>address</th>\n",
       "      <th>city</th>\n",
       "      <th>state</th>\n",
       "      <th>postal_code</th>\n",
       "      <th>latitude</th>\n",
       "      <th>longitude</th>\n",
       "      <th>stars</th>\n",
       "      <th>review_count</th>\n",
       "      <th>is_open</th>\n",
       "      <th>categories</th>\n",
       "    </tr>\n",
       "    <tr>\n",
       "      <th>business_id</th>\n",
       "      <th></th>\n",
       "      <th></th>\n",
       "      <th></th>\n",
       "      <th></th>\n",
       "      <th></th>\n",
       "      <th></th>\n",
       "      <th></th>\n",
       "      <th></th>\n",
       "      <th></th>\n",
       "      <th></th>\n",
       "      <th></th>\n",
       "      <th></th>\n",
       "    </tr>\n",
       "  </thead>\n",
       "  <tbody>\n",
       "    <tr>\n",
       "      <th>lHYiCS-y8AFjUitv6MGpxg</th>\n",
       "      <td>starbucks</td>\n",
       "      <td>Liberty Village</td>\n",
       "      <td>\"85 Hanna Avenue\"</td>\n",
       "      <td>Toronto</td>\n",
       "      <td>ON</td>\n",
       "      <td>M6K 3S3</td>\n",
       "      <td>43.639863</td>\n",
       "      <td>-79.419533</td>\n",
       "      <td>4.0</td>\n",
       "      <td>21</td>\n",
       "      <td>1</td>\n",
       "      <td>Food;Coffee &amp; Tea</td>\n",
       "    </tr>\n",
       "  </tbody>\n",
       "</table>\n",
       "</div>"
      ],
      "text/plain": [
       "                             name     neighborhood            address  \\\n",
       "business_id                                                             \n",
       "lHYiCS-y8AFjUitv6MGpxg  starbucks  Liberty Village  \"85 Hanna Avenue\"   \n",
       "\n",
       "                           city state postal_code   latitude  longitude  \\\n",
       "business_id                                                               \n",
       "lHYiCS-y8AFjUitv6MGpxg  Toronto    ON     M6K 3S3  43.639863 -79.419533   \n",
       "\n",
       "                        stars  review_count  is_open         categories  \n",
       "business_id                                                              \n",
       "lHYiCS-y8AFjUitv6MGpxg    4.0            21        1  Food;Coffee & Tea  "
      ]
     },
     "execution_count": 43,
     "metadata": {},
     "output_type": "execute_result"
    }
   ],
   "source": [
    "business_big.head(1)"
   ]
  },
  {
   "cell_type": "code",
   "execution_count": 44,
   "metadata": {},
   "outputs": [],
   "source": [
    "business_big['city'] = business_big['city'].str.lower()"
   ]
  },
  {
   "cell_type": "code",
   "execution_count": 45,
   "metadata": {},
   "outputs": [
    {
     "data": {
      "text/html": [
       "<div>\n",
       "<style scoped>\n",
       "    .dataframe tbody tr th:only-of-type {\n",
       "        vertical-align: middle;\n",
       "    }\n",
       "\n",
       "    .dataframe tbody tr th {\n",
       "        vertical-align: top;\n",
       "    }\n",
       "\n",
       "    .dataframe thead th {\n",
       "        text-align: right;\n",
       "    }\n",
       "</style>\n",
       "<table border=\"1\" class=\"dataframe\">\n",
       "  <thead>\n",
       "    <tr style=\"text-align: right;\">\n",
       "      <th></th>\n",
       "      <th>Avg. Rating</th>\n",
       "      <th>Total Reviews</th>\n",
       "    </tr>\n",
       "    <tr>\n",
       "      <th>city</th>\n",
       "      <th></th>\n",
       "      <th></th>\n",
       "    </tr>\n",
       "  </thead>\n",
       "  <tbody>\n",
       "    <tr>\n",
       "      <th>las vegas</th>\n",
       "      <td>1.650</td>\n",
       "      <td>523</td>\n",
       "    </tr>\n",
       "    <tr>\n",
       "      <th>phoenix</th>\n",
       "      <td>1.708</td>\n",
       "      <td>312</td>\n",
       "    </tr>\n",
       "    <tr>\n",
       "      <th>henderson</th>\n",
       "      <td>1.750</td>\n",
       "      <td>146</td>\n",
       "    </tr>\n",
       "    <tr>\n",
       "      <th>mesa</th>\n",
       "      <td>1.571</td>\n",
       "      <td>135</td>\n",
       "    </tr>\n",
       "    <tr>\n",
       "      <th>north las vegas</th>\n",
       "      <td>1.714</td>\n",
       "      <td>106</td>\n",
       "    </tr>\n",
       "    <tr>\n",
       "      <th>...</th>\n",
       "      <td>...</td>\n",
       "      <td>...</td>\n",
       "    </tr>\n",
       "    <tr>\n",
       "      <th>mckees rocks</th>\n",
       "      <td>3.500</td>\n",
       "      <td>3</td>\n",
       "    </tr>\n",
       "    <tr>\n",
       "      <th>monroeville</th>\n",
       "      <td>1.500</td>\n",
       "      <td>3</td>\n",
       "    </tr>\n",
       "    <tr>\n",
       "      <th>murrysville</th>\n",
       "      <td>3.500</td>\n",
       "      <td>3</td>\n",
       "    </tr>\n",
       "    <tr>\n",
       "      <th>north olmsted</th>\n",
       "      <td>2.500</td>\n",
       "      <td>3</td>\n",
       "    </tr>\n",
       "    <tr>\n",
       "      <th>woodbridge</th>\n",
       "      <td>2.500</td>\n",
       "      <td>3</td>\n",
       "    </tr>\n",
       "  </tbody>\n",
       "</table>\n",
       "<p>73 rows × 2 columns</p>\n",
       "</div>"
      ],
      "text/plain": [
       "                 Avg. Rating  Total Reviews\n",
       "city                                       \n",
       "las vegas              1.650            523\n",
       "phoenix                1.708            312\n",
       "henderson              1.750            146\n",
       "mesa                   1.571            135\n",
       "north las vegas        1.714            106\n",
       "...                      ...            ...\n",
       "mckees rocks           3.500              3\n",
       "monroeville            1.500              3\n",
       "murrysville            3.500              3\n",
       "north olmsted          2.500              3\n",
       "woodbridge             2.500              3\n",
       "\n",
       "[73 rows x 2 columns]"
      ]
     },
     "execution_count": 45,
     "metadata": {},
     "output_type": "execute_result"
    }
   ],
   "source": [
    "business_n = 'kfc'\n",
    "kfc_df = business_big[business_big['name'].str.contains(business_n)]\n",
    "\n",
    "rating_by_city = (kfc_df\n",
    "                  .groupby(['city'])\n",
    "                  .agg({'stars': lambda x: round(np.mean(x), 3), 'review_count': np.sum})\n",
    "                  .rename(columns={'review_count': 'Total Reviews', 'stars': 'Avg. Rating'})\n",
    "                  .sort_values(['Total Reviews'], ascending=False))\n",
    "\n",
    "rating_by_city"
   ]
  },
  {
   "cell_type": "markdown",
   "metadata": {},
   "source": [
    "For a manager, it's important to analyze not jost the worst performing branches, but to focus first on those ones which recieve the highest number of visitors. As an example will look at the most two popular cities as per the table above: `Las Vegas` and `Phoenix`"
   ]
  },
  {
   "cell_type": "markdown",
   "metadata": {},
   "source": [
    "### Sentiment Distribution over Cities and Restaurants"
   ]
  },
  {
   "cell_type": "code",
   "execution_count": 46,
   "metadata": {},
   "outputs": [
    {
     "data": {
      "application/vnd.plotly.v1+json": {
       "config": {
        "linkText": "Export to plot.ly",
        "plotlyServerURL": "https://plot.ly",
        "showLink": true
       },
       "data": [
        {
         "marker": {
          "color": "rgba(31, 119, 180, 0.6)",
          "line": {
           "color": "rgba(31, 119, 180, 1.0)",
           "width": 1
          }
         },
         "name": "Avg. Rating",
         "orientation": "v",
         "text": "",
         "type": "bar",
         "x": [
          "las vegas",
          "phoenix",
          "henderson",
          "mesa",
          "north las vegas",
          "peoria",
          "charlotte",
          "glendale",
          "toronto",
          "scottsdale",
          "surprise",
          "chandler",
          "gilbert",
          "madison",
          "edinburgh",
          "mississauga",
          "tempe",
          "litchfield park",
          "pittsburgh",
          "avondale"
         ],
         "xaxis": "x",
         "y": [
          1.65,
          1.708,
          1.75,
          1.571,
          1.714,
          1.875,
          1.85,
          1.833,
          2.15,
          1.5,
          1.5,
          1.5,
          2,
          1.4,
          2.583,
          1.9,
          2,
          1.5,
          2.333,
          1
         ],
         "yaxis": "y"
        },
        {
         "marker": {
          "color": "rgba(255, 127, 14, 0.6)",
          "line": {
           "color": "rgba(255, 127, 14, 1.0)",
           "width": 1
          }
         },
         "name": "Total Reviews",
         "orientation": "v",
         "text": "",
         "type": "bar",
         "x": [
          "las vegas",
          "phoenix",
          "henderson",
          "mesa",
          "north las vegas",
          "peoria",
          "charlotte",
          "glendale",
          "toronto",
          "scottsdale",
          "surprise",
          "chandler",
          "gilbert",
          "madison",
          "edinburgh",
          "mississauga",
          "tempe",
          "litchfield park",
          "pittsburgh",
          "avondale"
         ],
         "xaxis": "x2",
         "y": [
          523,
          312,
          146,
          135,
          106,
          96,
          73,
          73,
          65,
          62,
          61,
          51,
          40,
          38,
          32,
          27,
          25,
          25,
          21,
          21
         ],
         "yaxis": "y2"
        }
       ],
       "layout": {
        "annotations": [
         {
          "font": {
           "size": 16
          },
          "showarrow": false,
          "text": "Avg. Rating",
          "x": 0.225,
          "xanchor": "center",
          "xref": "paper",
          "y": 1,
          "yanchor": "bottom",
          "yref": "paper"
         },
         {
          "font": {
           "size": 16
          },
          "showarrow": false,
          "text": "Total Reviews",
          "x": 0.775,
          "xanchor": "center",
          "xref": "paper",
          "y": 1,
          "yanchor": "bottom",
          "yref": "paper"
         }
        ],
        "template": {
         "data": {
          "bar": [
           {
            "error_x": {
             "color": "#2a3f5f"
            },
            "error_y": {
             "color": "#2a3f5f"
            },
            "marker": {
             "line": {
              "color": "white",
              "width": 0.5
             }
            },
            "type": "bar"
           }
          ],
          "barpolar": [
           {
            "marker": {
             "line": {
              "color": "white",
              "width": 0.5
             }
            },
            "type": "barpolar"
           }
          ],
          "carpet": [
           {
            "aaxis": {
             "endlinecolor": "#2a3f5f",
             "gridcolor": "#C8D4E3",
             "linecolor": "#C8D4E3",
             "minorgridcolor": "#C8D4E3",
             "startlinecolor": "#2a3f5f"
            },
            "baxis": {
             "endlinecolor": "#2a3f5f",
             "gridcolor": "#C8D4E3",
             "linecolor": "#C8D4E3",
             "minorgridcolor": "#C8D4E3",
             "startlinecolor": "#2a3f5f"
            },
            "type": "carpet"
           }
          ],
          "choropleth": [
           {
            "colorbar": {
             "outlinewidth": 0,
             "ticks": ""
            },
            "type": "choropleth"
           }
          ],
          "contour": [
           {
            "colorbar": {
             "outlinewidth": 0,
             "ticks": ""
            },
            "colorscale": [
             [
              0,
              "#0d0887"
             ],
             [
              0.1111111111111111,
              "#46039f"
             ],
             [
              0.2222222222222222,
              "#7201a8"
             ],
             [
              0.3333333333333333,
              "#9c179e"
             ],
             [
              0.4444444444444444,
              "#bd3786"
             ],
             [
              0.5555555555555556,
              "#d8576b"
             ],
             [
              0.6666666666666666,
              "#ed7953"
             ],
             [
              0.7777777777777778,
              "#fb9f3a"
             ],
             [
              0.8888888888888888,
              "#fdca26"
             ],
             [
              1,
              "#f0f921"
             ]
            ],
            "type": "contour"
           }
          ],
          "contourcarpet": [
           {
            "colorbar": {
             "outlinewidth": 0,
             "ticks": ""
            },
            "type": "contourcarpet"
           }
          ],
          "heatmap": [
           {
            "colorbar": {
             "outlinewidth": 0,
             "ticks": ""
            },
            "colorscale": [
             [
              0,
              "#0d0887"
             ],
             [
              0.1111111111111111,
              "#46039f"
             ],
             [
              0.2222222222222222,
              "#7201a8"
             ],
             [
              0.3333333333333333,
              "#9c179e"
             ],
             [
              0.4444444444444444,
              "#bd3786"
             ],
             [
              0.5555555555555556,
              "#d8576b"
             ],
             [
              0.6666666666666666,
              "#ed7953"
             ],
             [
              0.7777777777777778,
              "#fb9f3a"
             ],
             [
              0.8888888888888888,
              "#fdca26"
             ],
             [
              1,
              "#f0f921"
             ]
            ],
            "type": "heatmap"
           }
          ],
          "heatmapgl": [
           {
            "colorbar": {
             "outlinewidth": 0,
             "ticks": ""
            },
            "colorscale": [
             [
              0,
              "#0d0887"
             ],
             [
              0.1111111111111111,
              "#46039f"
             ],
             [
              0.2222222222222222,
              "#7201a8"
             ],
             [
              0.3333333333333333,
              "#9c179e"
             ],
             [
              0.4444444444444444,
              "#bd3786"
             ],
             [
              0.5555555555555556,
              "#d8576b"
             ],
             [
              0.6666666666666666,
              "#ed7953"
             ],
             [
              0.7777777777777778,
              "#fb9f3a"
             ],
             [
              0.8888888888888888,
              "#fdca26"
             ],
             [
              1,
              "#f0f921"
             ]
            ],
            "type": "heatmapgl"
           }
          ],
          "histogram": [
           {
            "marker": {
             "colorbar": {
              "outlinewidth": 0,
              "ticks": ""
             }
            },
            "type": "histogram"
           }
          ],
          "histogram2d": [
           {
            "colorbar": {
             "outlinewidth": 0,
             "ticks": ""
            },
            "colorscale": [
             [
              0,
              "#0d0887"
             ],
             [
              0.1111111111111111,
              "#46039f"
             ],
             [
              0.2222222222222222,
              "#7201a8"
             ],
             [
              0.3333333333333333,
              "#9c179e"
             ],
             [
              0.4444444444444444,
              "#bd3786"
             ],
             [
              0.5555555555555556,
              "#d8576b"
             ],
             [
              0.6666666666666666,
              "#ed7953"
             ],
             [
              0.7777777777777778,
              "#fb9f3a"
             ],
             [
              0.8888888888888888,
              "#fdca26"
             ],
             [
              1,
              "#f0f921"
             ]
            ],
            "type": "histogram2d"
           }
          ],
          "histogram2dcontour": [
           {
            "colorbar": {
             "outlinewidth": 0,
             "ticks": ""
            },
            "colorscale": [
             [
              0,
              "#0d0887"
             ],
             [
              0.1111111111111111,
              "#46039f"
             ],
             [
              0.2222222222222222,
              "#7201a8"
             ],
             [
              0.3333333333333333,
              "#9c179e"
             ],
             [
              0.4444444444444444,
              "#bd3786"
             ],
             [
              0.5555555555555556,
              "#d8576b"
             ],
             [
              0.6666666666666666,
              "#ed7953"
             ],
             [
              0.7777777777777778,
              "#fb9f3a"
             ],
             [
              0.8888888888888888,
              "#fdca26"
             ],
             [
              1,
              "#f0f921"
             ]
            ],
            "type": "histogram2dcontour"
           }
          ],
          "mesh3d": [
           {
            "colorbar": {
             "outlinewidth": 0,
             "ticks": ""
            },
            "type": "mesh3d"
           }
          ],
          "parcoords": [
           {
            "line": {
             "colorbar": {
              "outlinewidth": 0,
              "ticks": ""
             }
            },
            "type": "parcoords"
           }
          ],
          "pie": [
           {
            "automargin": true,
            "type": "pie"
           }
          ],
          "scatter": [
           {
            "marker": {
             "colorbar": {
              "outlinewidth": 0,
              "ticks": ""
             }
            },
            "type": "scatter"
           }
          ],
          "scatter3d": [
           {
            "line": {
             "colorbar": {
              "outlinewidth": 0,
              "ticks": ""
             }
            },
            "marker": {
             "colorbar": {
              "outlinewidth": 0,
              "ticks": ""
             }
            },
            "type": "scatter3d"
           }
          ],
          "scattercarpet": [
           {
            "marker": {
             "colorbar": {
              "outlinewidth": 0,
              "ticks": ""
             }
            },
            "type": "scattercarpet"
           }
          ],
          "scattergeo": [
           {
            "marker": {
             "colorbar": {
              "outlinewidth": 0,
              "ticks": ""
             }
            },
            "type": "scattergeo"
           }
          ],
          "scattergl": [
           {
            "marker": {
             "colorbar": {
              "outlinewidth": 0,
              "ticks": ""
             }
            },
            "type": "scattergl"
           }
          ],
          "scattermapbox": [
           {
            "marker": {
             "colorbar": {
              "outlinewidth": 0,
              "ticks": ""
             }
            },
            "type": "scattermapbox"
           }
          ],
          "scatterpolar": [
           {
            "marker": {
             "colorbar": {
              "outlinewidth": 0,
              "ticks": ""
             }
            },
            "type": "scatterpolar"
           }
          ],
          "scatterpolargl": [
           {
            "marker": {
             "colorbar": {
              "outlinewidth": 0,
              "ticks": ""
             }
            },
            "type": "scatterpolargl"
           }
          ],
          "scatterternary": [
           {
            "marker": {
             "colorbar": {
              "outlinewidth": 0,
              "ticks": ""
             }
            },
            "type": "scatterternary"
           }
          ],
          "surface": [
           {
            "colorbar": {
             "outlinewidth": 0,
             "ticks": ""
            },
            "colorscale": [
             [
              0,
              "#0d0887"
             ],
             [
              0.1111111111111111,
              "#46039f"
             ],
             [
              0.2222222222222222,
              "#7201a8"
             ],
             [
              0.3333333333333333,
              "#9c179e"
             ],
             [
              0.4444444444444444,
              "#bd3786"
             ],
             [
              0.5555555555555556,
              "#d8576b"
             ],
             [
              0.6666666666666666,
              "#ed7953"
             ],
             [
              0.7777777777777778,
              "#fb9f3a"
             ],
             [
              0.8888888888888888,
              "#fdca26"
             ],
             [
              1,
              "#f0f921"
             ]
            ],
            "type": "surface"
           }
          ],
          "table": [
           {
            "cells": {
             "fill": {
              "color": "#EBF0F8"
             },
             "line": {
              "color": "white"
             }
            },
            "header": {
             "fill": {
              "color": "#C8D4E3"
             },
             "line": {
              "color": "white"
             }
            },
            "type": "table"
           }
          ]
         },
         "layout": {
          "annotationdefaults": {
           "arrowcolor": "#2a3f5f",
           "arrowhead": 0,
           "arrowwidth": 1
          },
          "coloraxis": {
           "colorbar": {
            "outlinewidth": 0,
            "ticks": ""
           }
          },
          "colorscale": {
           "diverging": [
            [
             0,
             "#8e0152"
            ],
            [
             0.1,
             "#c51b7d"
            ],
            [
             0.2,
             "#de77ae"
            ],
            [
             0.3,
             "#f1b6da"
            ],
            [
             0.4,
             "#fde0ef"
            ],
            [
             0.5,
             "#f7f7f7"
            ],
            [
             0.6,
             "#e6f5d0"
            ],
            [
             0.7,
             "#b8e186"
            ],
            [
             0.8,
             "#7fbc41"
            ],
            [
             0.9,
             "#4d9221"
            ],
            [
             1,
             "#276419"
            ]
           ],
           "sequential": [
            [
             0,
             "#0d0887"
            ],
            [
             0.1111111111111111,
             "#46039f"
            ],
            [
             0.2222222222222222,
             "#7201a8"
            ],
            [
             0.3333333333333333,
             "#9c179e"
            ],
            [
             0.4444444444444444,
             "#bd3786"
            ],
            [
             0.5555555555555556,
             "#d8576b"
            ],
            [
             0.6666666666666666,
             "#ed7953"
            ],
            [
             0.7777777777777778,
             "#fb9f3a"
            ],
            [
             0.8888888888888888,
             "#fdca26"
            ],
            [
             1,
             "#f0f921"
            ]
           ],
           "sequentialminus": [
            [
             0,
             "#0d0887"
            ],
            [
             0.1111111111111111,
             "#46039f"
            ],
            [
             0.2222222222222222,
             "#7201a8"
            ],
            [
             0.3333333333333333,
             "#9c179e"
            ],
            [
             0.4444444444444444,
             "#bd3786"
            ],
            [
             0.5555555555555556,
             "#d8576b"
            ],
            [
             0.6666666666666666,
             "#ed7953"
            ],
            [
             0.7777777777777778,
             "#fb9f3a"
            ],
            [
             0.8888888888888888,
             "#fdca26"
            ],
            [
             1,
             "#f0f921"
            ]
           ]
          },
          "colorway": [
           "#636efa",
           "#EF553B",
           "#00cc96",
           "#ab63fa",
           "#FFA15A",
           "#19d3f3",
           "#FF6692",
           "#B6E880",
           "#FF97FF",
           "#FECB52"
          ],
          "font": {
           "color": "#2a3f5f"
          },
          "geo": {
           "bgcolor": "white",
           "lakecolor": "white",
           "landcolor": "white",
           "showlakes": true,
           "showland": true,
           "subunitcolor": "#C8D4E3"
          },
          "hoverlabel": {
           "align": "left"
          },
          "hovermode": "closest",
          "mapbox": {
           "style": "light"
          },
          "paper_bgcolor": "white",
          "plot_bgcolor": "white",
          "polar": {
           "angularaxis": {
            "gridcolor": "#EBF0F8",
            "linecolor": "#EBF0F8",
            "ticks": ""
           },
           "bgcolor": "white",
           "radialaxis": {
            "gridcolor": "#EBF0F8",
            "linecolor": "#EBF0F8",
            "ticks": ""
           }
          },
          "scene": {
           "xaxis": {
            "backgroundcolor": "white",
            "gridcolor": "#DFE8F3",
            "gridwidth": 2,
            "linecolor": "#EBF0F8",
            "showbackground": true,
            "ticks": "",
            "zerolinecolor": "#EBF0F8"
           },
           "yaxis": {
            "backgroundcolor": "white",
            "gridcolor": "#DFE8F3",
            "gridwidth": 2,
            "linecolor": "#EBF0F8",
            "showbackground": true,
            "ticks": "",
            "zerolinecolor": "#EBF0F8"
           },
           "zaxis": {
            "backgroundcolor": "white",
            "gridcolor": "#DFE8F3",
            "gridwidth": 2,
            "linecolor": "#EBF0F8",
            "showbackground": true,
            "ticks": "",
            "zerolinecolor": "#EBF0F8"
           }
          },
          "shapedefaults": {
           "line": {
            "color": "#2a3f5f"
           }
          },
          "ternary": {
           "aaxis": {
            "gridcolor": "#DFE8F3",
            "linecolor": "#A2B1C6",
            "ticks": ""
           },
           "baxis": {
            "gridcolor": "#DFE8F3",
            "linecolor": "#A2B1C6",
            "ticks": ""
           },
           "bgcolor": "white",
           "caxis": {
            "gridcolor": "#DFE8F3",
            "linecolor": "#A2B1C6",
            "ticks": ""
           }
          },
          "title": {
           "x": 0.05
          },
          "xaxis": {
           "automargin": true,
           "gridcolor": "#EBF0F8",
           "linecolor": "#EBF0F8",
           "ticks": "",
           "title": {
            "standoff": 15
           },
           "zerolinecolor": "#EBF0F8",
           "zerolinewidth": 2
          },
          "yaxis": {
           "automargin": true,
           "gridcolor": "#EBF0F8",
           "linecolor": "#EBF0F8",
           "ticks": "",
           "title": {
            "standoff": 15
           },
           "zerolinecolor": "#EBF0F8",
           "zerolinewidth": 2
          }
         }
        },
        "title": {
         "text": "Most Popular Cities"
        },
        "xaxis": {
         "anchor": "y",
         "domain": [
          0,
          0.45
         ]
        },
        "xaxis2": {
         "anchor": "y2",
         "domain": [
          0.55,
          1
         ]
        },
        "yaxis": {
         "anchor": "x",
         "domain": [
          0,
          1
         ]
        },
        "yaxis2": {
         "anchor": "x2",
         "domain": [
          0,
          1
         ]
        }
       }
      },
      "text/html": [
       "<div>\n",
       "        \n",
       "        \n",
       "            <div id=\"ac0d5630-6af5-4577-a8a7-6a68228e0758\" class=\"plotly-graph-div\" style=\"height:525px; width:100%;\"></div>\n",
       "            <script type=\"text/javascript\">\n",
       "                require([\"plotly\"], function(Plotly) {\n",
       "                    window.PLOTLYENV=window.PLOTLYENV || {};\n",
       "                    window.PLOTLYENV.BASE_URL='https://plot.ly';\n",
       "                    \n",
       "                if (document.getElementById(\"ac0d5630-6af5-4577-a8a7-6a68228e0758\")) {\n",
       "                    Plotly.newPlot(\n",
       "                        'ac0d5630-6af5-4577-a8a7-6a68228e0758',\n",
       "                        [{\"marker\": {\"color\": \"rgba(31, 119, 180, 0.6)\", \"line\": {\"color\": \"rgba(31, 119, 180, 1.0)\", \"width\": 1}}, \"name\": \"Avg. Rating\", \"orientation\": \"v\", \"text\": \"\", \"type\": \"bar\", \"x\": [\"las vegas\", \"phoenix\", \"henderson\", \"mesa\", \"north las vegas\", \"peoria\", \"charlotte\", \"glendale\", \"toronto\", \"scottsdale\", \"surprise\", \"chandler\", \"gilbert\", \"madison\", \"edinburgh\", \"mississauga\", \"tempe\", \"litchfield park\", \"pittsburgh\", \"avondale\"], \"xaxis\": \"x\", \"y\": [1.65, 1.708, 1.75, 1.571, 1.714, 1.875, 1.85, 1.833, 2.15, 1.5, 1.5, 1.5, 2.0, 1.4, 2.583, 1.9, 2.0, 1.5, 2.333, 1.0], \"yaxis\": \"y\"}, {\"marker\": {\"color\": \"rgba(255, 127, 14, 0.6)\", \"line\": {\"color\": \"rgba(255, 127, 14, 1.0)\", \"width\": 1}}, \"name\": \"Total Reviews\", \"orientation\": \"v\", \"text\": \"\", \"type\": \"bar\", \"x\": [\"las vegas\", \"phoenix\", \"henderson\", \"mesa\", \"north las vegas\", \"peoria\", \"charlotte\", \"glendale\", \"toronto\", \"scottsdale\", \"surprise\", \"chandler\", \"gilbert\", \"madison\", \"edinburgh\", \"mississauga\", \"tempe\", \"litchfield park\", \"pittsburgh\", \"avondale\"], \"xaxis\": \"x2\", \"y\": [523, 312, 146, 135, 106, 96, 73, 73, 65, 62, 61, 51, 40, 38, 32, 27, 25, 25, 21, 21], \"yaxis\": \"y2\"}],\n",
       "                        {\"annotations\": [{\"font\": {\"size\": 16}, \"showarrow\": false, \"text\": \"Avg. Rating\", \"x\": 0.225, \"xanchor\": \"center\", \"xref\": \"paper\", \"y\": 1.0, \"yanchor\": \"bottom\", \"yref\": \"paper\"}, {\"font\": {\"size\": 16}, \"showarrow\": false, \"text\": \"Total Reviews\", \"x\": 0.775, \"xanchor\": \"center\", \"xref\": \"paper\", \"y\": 1.0, \"yanchor\": \"bottom\", \"yref\": \"paper\"}], \"template\": {\"data\": {\"bar\": [{\"error_x\": {\"color\": \"#2a3f5f\"}, \"error_y\": {\"color\": \"#2a3f5f\"}, \"marker\": {\"line\": {\"color\": \"white\", \"width\": 0.5}}, \"type\": \"bar\"}], \"barpolar\": [{\"marker\": {\"line\": {\"color\": \"white\", \"width\": 0.5}}, \"type\": \"barpolar\"}], \"carpet\": [{\"aaxis\": {\"endlinecolor\": \"#2a3f5f\", \"gridcolor\": \"#C8D4E3\", \"linecolor\": \"#C8D4E3\", \"minorgridcolor\": \"#C8D4E3\", \"startlinecolor\": \"#2a3f5f\"}, \"baxis\": {\"endlinecolor\": \"#2a3f5f\", \"gridcolor\": \"#C8D4E3\", \"linecolor\": \"#C8D4E3\", \"minorgridcolor\": \"#C8D4E3\", \"startlinecolor\": \"#2a3f5f\"}, \"type\": \"carpet\"}], \"choropleth\": [{\"colorbar\": {\"outlinewidth\": 0, \"ticks\": \"\"}, \"type\": \"choropleth\"}], \"contour\": [{\"colorbar\": {\"outlinewidth\": 0, \"ticks\": \"\"}, \"colorscale\": [[0.0, \"#0d0887\"], [0.1111111111111111, \"#46039f\"], [0.2222222222222222, \"#7201a8\"], [0.3333333333333333, \"#9c179e\"], [0.4444444444444444, \"#bd3786\"], [0.5555555555555556, \"#d8576b\"], [0.6666666666666666, \"#ed7953\"], [0.7777777777777778, \"#fb9f3a\"], [0.8888888888888888, \"#fdca26\"], [1.0, \"#f0f921\"]], \"type\": \"contour\"}], \"contourcarpet\": [{\"colorbar\": {\"outlinewidth\": 0, \"ticks\": \"\"}, \"type\": \"contourcarpet\"}], \"heatmap\": [{\"colorbar\": {\"outlinewidth\": 0, \"ticks\": \"\"}, \"colorscale\": [[0.0, \"#0d0887\"], [0.1111111111111111, \"#46039f\"], [0.2222222222222222, \"#7201a8\"], [0.3333333333333333, \"#9c179e\"], [0.4444444444444444, \"#bd3786\"], [0.5555555555555556, \"#d8576b\"], [0.6666666666666666, \"#ed7953\"], [0.7777777777777778, \"#fb9f3a\"], [0.8888888888888888, \"#fdca26\"], [1.0, \"#f0f921\"]], \"type\": \"heatmap\"}], \"heatmapgl\": [{\"colorbar\": {\"outlinewidth\": 0, \"ticks\": \"\"}, \"colorscale\": [[0.0, \"#0d0887\"], [0.1111111111111111, \"#46039f\"], [0.2222222222222222, \"#7201a8\"], [0.3333333333333333, \"#9c179e\"], [0.4444444444444444, \"#bd3786\"], [0.5555555555555556, \"#d8576b\"], [0.6666666666666666, \"#ed7953\"], [0.7777777777777778, \"#fb9f3a\"], [0.8888888888888888, \"#fdca26\"], [1.0, \"#f0f921\"]], \"type\": \"heatmapgl\"}], \"histogram\": [{\"marker\": {\"colorbar\": {\"outlinewidth\": 0, \"ticks\": \"\"}}, \"type\": \"histogram\"}], \"histogram2d\": [{\"colorbar\": {\"outlinewidth\": 0, \"ticks\": \"\"}, \"colorscale\": [[0.0, \"#0d0887\"], [0.1111111111111111, \"#46039f\"], [0.2222222222222222, \"#7201a8\"], [0.3333333333333333, \"#9c179e\"], [0.4444444444444444, \"#bd3786\"], [0.5555555555555556, \"#d8576b\"], [0.6666666666666666, \"#ed7953\"], [0.7777777777777778, \"#fb9f3a\"], [0.8888888888888888, \"#fdca26\"], [1.0, \"#f0f921\"]], \"type\": \"histogram2d\"}], \"histogram2dcontour\": [{\"colorbar\": {\"outlinewidth\": 0, \"ticks\": \"\"}, \"colorscale\": [[0.0, \"#0d0887\"], [0.1111111111111111, \"#46039f\"], [0.2222222222222222, \"#7201a8\"], [0.3333333333333333, \"#9c179e\"], [0.4444444444444444, \"#bd3786\"], [0.5555555555555556, \"#d8576b\"], [0.6666666666666666, \"#ed7953\"], [0.7777777777777778, \"#fb9f3a\"], [0.8888888888888888, \"#fdca26\"], [1.0, \"#f0f921\"]], \"type\": \"histogram2dcontour\"}], \"mesh3d\": [{\"colorbar\": {\"outlinewidth\": 0, \"ticks\": \"\"}, \"type\": \"mesh3d\"}], \"parcoords\": [{\"line\": {\"colorbar\": {\"outlinewidth\": 0, \"ticks\": \"\"}}, \"type\": \"parcoords\"}], \"pie\": [{\"automargin\": true, \"type\": \"pie\"}], \"scatter\": [{\"marker\": {\"colorbar\": {\"outlinewidth\": 0, \"ticks\": \"\"}}, \"type\": \"scatter\"}], \"scatter3d\": [{\"line\": {\"colorbar\": {\"outlinewidth\": 0, \"ticks\": \"\"}}, \"marker\": {\"colorbar\": {\"outlinewidth\": 0, \"ticks\": \"\"}}, \"type\": \"scatter3d\"}], \"scattercarpet\": [{\"marker\": {\"colorbar\": {\"outlinewidth\": 0, \"ticks\": \"\"}}, \"type\": \"scattercarpet\"}], \"scattergeo\": [{\"marker\": {\"colorbar\": {\"outlinewidth\": 0, \"ticks\": \"\"}}, \"type\": \"scattergeo\"}], \"scattergl\": [{\"marker\": {\"colorbar\": {\"outlinewidth\": 0, \"ticks\": \"\"}}, \"type\": \"scattergl\"}], \"scattermapbox\": [{\"marker\": {\"colorbar\": {\"outlinewidth\": 0, \"ticks\": \"\"}}, \"type\": \"scattermapbox\"}], \"scatterpolar\": [{\"marker\": {\"colorbar\": {\"outlinewidth\": 0, \"ticks\": \"\"}}, \"type\": \"scatterpolar\"}], \"scatterpolargl\": [{\"marker\": {\"colorbar\": {\"outlinewidth\": 0, \"ticks\": \"\"}}, \"type\": \"scatterpolargl\"}], \"scatterternary\": [{\"marker\": {\"colorbar\": {\"outlinewidth\": 0, \"ticks\": \"\"}}, \"type\": \"scatterternary\"}], \"surface\": [{\"colorbar\": {\"outlinewidth\": 0, \"ticks\": \"\"}, \"colorscale\": [[0.0, \"#0d0887\"], [0.1111111111111111, \"#46039f\"], [0.2222222222222222, \"#7201a8\"], [0.3333333333333333, \"#9c179e\"], [0.4444444444444444, \"#bd3786\"], [0.5555555555555556, \"#d8576b\"], [0.6666666666666666, \"#ed7953\"], [0.7777777777777778, \"#fb9f3a\"], [0.8888888888888888, \"#fdca26\"], [1.0, \"#f0f921\"]], \"type\": \"surface\"}], \"table\": [{\"cells\": {\"fill\": {\"color\": \"#EBF0F8\"}, \"line\": {\"color\": \"white\"}}, \"header\": {\"fill\": {\"color\": \"#C8D4E3\"}, \"line\": {\"color\": \"white\"}}, \"type\": \"table\"}]}, \"layout\": {\"annotationdefaults\": {\"arrowcolor\": \"#2a3f5f\", \"arrowhead\": 0, \"arrowwidth\": 1}, \"coloraxis\": {\"colorbar\": {\"outlinewidth\": 0, \"ticks\": \"\"}}, \"colorscale\": {\"diverging\": [[0, \"#8e0152\"], [0.1, \"#c51b7d\"], [0.2, \"#de77ae\"], [0.3, \"#f1b6da\"], [0.4, \"#fde0ef\"], [0.5, \"#f7f7f7\"], [0.6, \"#e6f5d0\"], [0.7, \"#b8e186\"], [0.8, \"#7fbc41\"], [0.9, \"#4d9221\"], [1, \"#276419\"]], \"sequential\": [[0.0, \"#0d0887\"], [0.1111111111111111, \"#46039f\"], [0.2222222222222222, \"#7201a8\"], [0.3333333333333333, \"#9c179e\"], [0.4444444444444444, \"#bd3786\"], [0.5555555555555556, \"#d8576b\"], [0.6666666666666666, \"#ed7953\"], [0.7777777777777778, \"#fb9f3a\"], [0.8888888888888888, \"#fdca26\"], [1.0, \"#f0f921\"]], \"sequentialminus\": [[0.0, \"#0d0887\"], [0.1111111111111111, \"#46039f\"], [0.2222222222222222, \"#7201a8\"], [0.3333333333333333, \"#9c179e\"], [0.4444444444444444, \"#bd3786\"], [0.5555555555555556, \"#d8576b\"], [0.6666666666666666, \"#ed7953\"], [0.7777777777777778, \"#fb9f3a\"], [0.8888888888888888, \"#fdca26\"], [1.0, \"#f0f921\"]]}, \"colorway\": [\"#636efa\", \"#EF553B\", \"#00cc96\", \"#ab63fa\", \"#FFA15A\", \"#19d3f3\", \"#FF6692\", \"#B6E880\", \"#FF97FF\", \"#FECB52\"], \"font\": {\"color\": \"#2a3f5f\"}, \"geo\": {\"bgcolor\": \"white\", \"lakecolor\": \"white\", \"landcolor\": \"white\", \"showlakes\": true, \"showland\": true, \"subunitcolor\": \"#C8D4E3\"}, \"hoverlabel\": {\"align\": \"left\"}, \"hovermode\": \"closest\", \"mapbox\": {\"style\": \"light\"}, \"paper_bgcolor\": \"white\", \"plot_bgcolor\": \"white\", \"polar\": {\"angularaxis\": {\"gridcolor\": \"#EBF0F8\", \"linecolor\": \"#EBF0F8\", \"ticks\": \"\"}, \"bgcolor\": \"white\", \"radialaxis\": {\"gridcolor\": \"#EBF0F8\", \"linecolor\": \"#EBF0F8\", \"ticks\": \"\"}}, \"scene\": {\"xaxis\": {\"backgroundcolor\": \"white\", \"gridcolor\": \"#DFE8F3\", \"gridwidth\": 2, \"linecolor\": \"#EBF0F8\", \"showbackground\": true, \"ticks\": \"\", \"zerolinecolor\": \"#EBF0F8\"}, \"yaxis\": {\"backgroundcolor\": \"white\", \"gridcolor\": \"#DFE8F3\", \"gridwidth\": 2, \"linecolor\": \"#EBF0F8\", \"showbackground\": true, \"ticks\": \"\", \"zerolinecolor\": \"#EBF0F8\"}, \"zaxis\": {\"backgroundcolor\": \"white\", \"gridcolor\": \"#DFE8F3\", \"gridwidth\": 2, \"linecolor\": \"#EBF0F8\", \"showbackground\": true, \"ticks\": \"\", \"zerolinecolor\": \"#EBF0F8\"}}, \"shapedefaults\": {\"line\": {\"color\": \"#2a3f5f\"}}, \"ternary\": {\"aaxis\": {\"gridcolor\": \"#DFE8F3\", \"linecolor\": \"#A2B1C6\", \"ticks\": \"\"}, \"baxis\": {\"gridcolor\": \"#DFE8F3\", \"linecolor\": \"#A2B1C6\", \"ticks\": \"\"}, \"bgcolor\": \"white\", \"caxis\": {\"gridcolor\": \"#DFE8F3\", \"linecolor\": \"#A2B1C6\", \"ticks\": \"\"}}, \"title\": {\"x\": 0.05}, \"xaxis\": {\"automargin\": true, \"gridcolor\": \"#EBF0F8\", \"linecolor\": \"#EBF0F8\", \"ticks\": \"\", \"title\": {\"standoff\": 15}, \"zerolinecolor\": \"#EBF0F8\", \"zerolinewidth\": 2}, \"yaxis\": {\"automargin\": true, \"gridcolor\": \"#EBF0F8\", \"linecolor\": \"#EBF0F8\", \"ticks\": \"\", \"title\": {\"standoff\": 15}, \"zerolinecolor\": \"#EBF0F8\", \"zerolinewidth\": 2}}}, \"title\": {\"text\": \"Most Popular Cities\"}, \"xaxis\": {\"anchor\": \"y\", \"domain\": [0.0, 0.45]}, \"xaxis2\": {\"anchor\": \"y2\", \"domain\": [0.55, 1.0]}, \"yaxis\": {\"anchor\": \"x\", \"domain\": [0.0, 1.0]}, \"yaxis2\": {\"anchor\": \"x2\", \"domain\": [0.0, 1.0]}},\n",
       "                        {\"showLink\": true, \"linkText\": \"Export to plot.ly\", \"plotlyServerURL\": \"https://plot.ly\", \"responsive\": true}\n",
       "                    ).then(function(){\n",
       "                            \n",
       "var gd = document.getElementById('ac0d5630-6af5-4577-a8a7-6a68228e0758');\n",
       "var x = new MutationObserver(function (mutations, observer) {{\n",
       "        var display = window.getComputedStyle(gd).display;\n",
       "        if (!display || display === 'none') {{\n",
       "            console.log([gd, 'removed!']);\n",
       "            Plotly.purge(gd);\n",
       "            observer.disconnect();\n",
       "        }}\n",
       "}});\n",
       "\n",
       "// Listen for the removal of the full notebook cells\n",
       "var notebookContainer = gd.closest('#notebook-container');\n",
       "if (notebookContainer) {{\n",
       "    x.observe(notebookContainer, {childList: true});\n",
       "}}\n",
       "\n",
       "// Listen for the clearing of the current output cell\n",
       "var outputEl = gd.closest('.output');\n",
       "if (outputEl) {{\n",
       "    x.observe(outputEl, {childList: true});\n",
       "}}\n",
       "\n",
       "                        })\n",
       "                };\n",
       "                });\n",
       "            </script>\n",
       "        </div>"
      ]
     },
     "metadata": {},
     "output_type": "display_data"
    }
   ],
   "source": [
    "(rating_by_city\n",
    " .head(20)\n",
    " .iplot(kind='bar', subplots=True, subplot_titles=True, colorscale='plotly',\n",
    "        layout=dict(title='Most Popular Cities',\n",
    "                    xaxis=dict(), yaxis=dict())))"
   ]
  },
  {
   "cell_type": "code",
   "execution_count": 47,
   "metadata": {},
   "outputs": [
    {
     "data": {
      "text/html": [
       "<div>\n",
       "<style scoped>\n",
       "    .dataframe tbody tr th:only-of-type {\n",
       "        vertical-align: middle;\n",
       "    }\n",
       "\n",
       "    .dataframe tbody tr th {\n",
       "        vertical-align: top;\n",
       "    }\n",
       "\n",
       "    .dataframe thead th {\n",
       "        text-align: right;\n",
       "    }\n",
       "</style>\n",
       "<table border=\"1\" class=\"dataframe\">\n",
       "  <thead>\n",
       "    <tr style=\"text-align: right;\">\n",
       "      <th></th>\n",
       "      <th>name</th>\n",
       "      <th>neighborhood</th>\n",
       "      <th>address</th>\n",
       "      <th>city</th>\n",
       "      <th>state</th>\n",
       "      <th>postal_code</th>\n",
       "      <th>latitude</th>\n",
       "      <th>longitude</th>\n",
       "      <th>stars</th>\n",
       "      <th>review_count</th>\n",
       "      <th>is_open</th>\n",
       "      <th>categories</th>\n",
       "    </tr>\n",
       "    <tr>\n",
       "      <th>business_id</th>\n",
       "      <th></th>\n",
       "      <th></th>\n",
       "      <th></th>\n",
       "      <th></th>\n",
       "      <th></th>\n",
       "      <th></th>\n",
       "      <th></th>\n",
       "      <th></th>\n",
       "      <th></th>\n",
       "      <th></th>\n",
       "      <th></th>\n",
       "      <th></th>\n",
       "    </tr>\n",
       "  </thead>\n",
       "  <tbody>\n",
       "    <tr>\n",
       "      <th>lHYiCS-y8AFjUitv6MGpxg</th>\n",
       "      <td>starbucks</td>\n",
       "      <td>Liberty Village</td>\n",
       "      <td>\"85 Hanna Avenue\"</td>\n",
       "      <td>toronto</td>\n",
       "      <td>ON</td>\n",
       "      <td>M6K 3S3</td>\n",
       "      <td>43.639863</td>\n",
       "      <td>-79.419533</td>\n",
       "      <td>4.0</td>\n",
       "      <td>21</td>\n",
       "      <td>1</td>\n",
       "      <td>Food;Coffee &amp; Tea</td>\n",
       "    </tr>\n",
       "  </tbody>\n",
       "</table>\n",
       "</div>"
      ],
      "text/plain": [
       "                             name     neighborhood            address  \\\n",
       "business_id                                                             \n",
       "lHYiCS-y8AFjUitv6MGpxg  starbucks  Liberty Village  \"85 Hanna Avenue\"   \n",
       "\n",
       "                           city state postal_code   latitude  longitude  \\\n",
       "business_id                                                               \n",
       "lHYiCS-y8AFjUitv6MGpxg  toronto    ON     M6K 3S3  43.639863 -79.419533   \n",
       "\n",
       "                        stars  review_count  is_open         categories  \n",
       "business_id                                                              \n",
       "lHYiCS-y8AFjUitv6MGpxg    4.0            21        1  Food;Coffee & Tea  "
      ]
     },
     "execution_count": 47,
     "metadata": {},
     "output_type": "execute_result"
    }
   ],
   "source": [
    "business_big.head(1)"
   ]
  },
  {
   "cell_type": "code",
   "execution_count": 48,
   "metadata": {},
   "outputs": [
    {
     "data": {
      "text/html": [
       "<div>\n",
       "<style scoped>\n",
       "    .dataframe tbody tr th:only-of-type {\n",
       "        vertical-align: middle;\n",
       "    }\n",
       "\n",
       "    .dataframe tbody tr th {\n",
       "        vertical-align: top;\n",
       "    }\n",
       "\n",
       "    .dataframe thead th {\n",
       "        text-align: right;\n",
       "    }\n",
       "</style>\n",
       "<table border=\"1\" class=\"dataframe\">\n",
       "  <thead>\n",
       "    <tr style=\"text-align: right;\">\n",
       "      <th></th>\n",
       "      <th>name</th>\n",
       "      <th>city</th>\n",
       "      <th>latitude</th>\n",
       "      <th>longitude</th>\n",
       "      <th>stars</th>\n",
       "      <th>review_count</th>\n",
       "    </tr>\n",
       "  </thead>\n",
       "  <tbody>\n",
       "    <tr>\n",
       "      <th>2889</th>\n",
       "      <td>federicos mexican food</td>\n",
       "      <td>phoenix</td>\n",
       "      <td>33.394</td>\n",
       "      <td>-112.074</td>\n",
       "      <td>1.0</td>\n",
       "      <td>3</td>\n",
       "    </tr>\n",
       "    <tr>\n",
       "      <th>5316</th>\n",
       "      <td>mcdonalds</td>\n",
       "      <td>phoenix</td>\n",
       "      <td>33.495</td>\n",
       "      <td>-112.167</td>\n",
       "      <td>1.0</td>\n",
       "      <td>9</td>\n",
       "    </tr>\n",
       "    <tr>\n",
       "      <th>1137</th>\n",
       "      <td>burger king</td>\n",
       "      <td>seven hills</td>\n",
       "      <td>41.357</td>\n",
       "      <td>-81.684</td>\n",
       "      <td>1.0</td>\n",
       "      <td>3</td>\n",
       "    </tr>\n",
       "    <tr>\n",
       "      <th>4339</th>\n",
       "      <td>kfc</td>\n",
       "      <td>north york</td>\n",
       "      <td>43.715</td>\n",
       "      <td>-79.508</td>\n",
       "      <td>1.0</td>\n",
       "      <td>3</td>\n",
       "    </tr>\n",
       "    <tr>\n",
       "      <th>9343</th>\n",
       "      <td>subway</td>\n",
       "      <td>las vegas</td>\n",
       "      <td>36.136</td>\n",
       "      <td>-115.163</td>\n",
       "      <td>1.0</td>\n",
       "      <td>12</td>\n",
       "    </tr>\n",
       "    <tr>\n",
       "      <th>...</th>\n",
       "      <td>...</td>\n",
       "      <td>...</td>\n",
       "      <td>...</td>\n",
       "      <td>...</td>\n",
       "      <td>...</td>\n",
       "      <td>...</td>\n",
       "    </tr>\n",
       "    <tr>\n",
       "      <th>6557</th>\n",
       "      <td>papa murphys</td>\n",
       "      <td>mesa</td>\n",
       "      <td>33.417</td>\n",
       "      <td>-111.874</td>\n",
       "      <td>5.0</td>\n",
       "      <td>12</td>\n",
       "    </tr>\n",
       "    <tr>\n",
       "      <th>11421</th>\n",
       "      <td>windsor</td>\n",
       "      <td>concord</td>\n",
       "      <td>35.369</td>\n",
       "      <td>-80.722</td>\n",
       "      <td>5.0</td>\n",
       "      <td>3</td>\n",
       "    </tr>\n",
       "    <tr>\n",
       "      <th>9106</th>\n",
       "      <td>subway</td>\n",
       "      <td>chandler</td>\n",
       "      <td>33.246</td>\n",
       "      <td>-111.791</td>\n",
       "      <td>5.0</td>\n",
       "      <td>4</td>\n",
       "    </tr>\n",
       "    <tr>\n",
       "      <th>5462</th>\n",
       "      <td>mcdonalds</td>\n",
       "      <td>toronto</td>\n",
       "      <td>43.649</td>\n",
       "      <td>-79.382</td>\n",
       "      <td>5.0</td>\n",
       "      <td>6</td>\n",
       "    </tr>\n",
       "    <tr>\n",
       "      <th>7452</th>\n",
       "      <td>rachels kitchen</td>\n",
       "      <td>las vegas</td>\n",
       "      <td>36.167</td>\n",
       "      <td>-115.155</td>\n",
       "      <td>5.0</td>\n",
       "      <td>18</td>\n",
       "    </tr>\n",
       "  </tbody>\n",
       "</table>\n",
       "<p>11560 rows × 6 columns</p>\n",
       "</div>"
      ],
      "text/plain": [
       "                         name         city  latitude  longitude  stars  \\\n",
       "2889   federicos mexican food      phoenix    33.394   -112.074    1.0   \n",
       "5316                mcdonalds      phoenix    33.495   -112.167    1.0   \n",
       "1137              burger king  seven hills    41.357    -81.684    1.0   \n",
       "4339                      kfc   north york    43.715    -79.508    1.0   \n",
       "9343                   subway    las vegas    36.136   -115.163    1.0   \n",
       "...                       ...          ...       ...        ...    ...   \n",
       "6557             papa murphys         mesa    33.417   -111.874    5.0   \n",
       "11421                 windsor      concord    35.369    -80.722    5.0   \n",
       "9106                   subway     chandler    33.246   -111.791    5.0   \n",
       "5462                mcdonalds      toronto    43.649    -79.382    5.0   \n",
       "7452          rachels kitchen    las vegas    36.167   -115.155    5.0   \n",
       "\n",
       "       review_count  \n",
       "2889              3  \n",
       "5316              9  \n",
       "1137              3  \n",
       "4339              3  \n",
       "9343             12  \n",
       "...             ...  \n",
       "6557             12  \n",
       "11421             3  \n",
       "9106              4  \n",
       "5462              6  \n",
       "7452             18  \n",
       "\n",
       "[11560 rows x 6 columns]"
      ]
     },
     "execution_count": 48,
     "metadata": {},
     "output_type": "execute_result"
    }
   ],
   "source": [
    "city_stats = (business_big\n",
    "             [['name', 'city', 'latitude', 'longitude', 'stars', 'review_count']]\n",
    "             .apply(lambda col: col.round(3) if col.name in ['latitude', 'longitude'] else col)\n",
    "             .groupby(['name', 'city', 'latitude', 'longitude'], as_index=False)\n",
    "             .agg({'stars': np.mean,\n",
    "                   'review_count': np.sum}))\n",
    "city_stats.sort_values('stars')"
   ]
  },
  {
   "cell_type": "markdown",
   "metadata": {},
   "source": [
    "Now we need to zone in on `Las Vegas` and `Phoenix` for `KFC`"
   ]
  },
  {
   "cell_type": "code",
   "execution_count": 49,
   "metadata": {},
   "outputs": [],
   "source": [
    "# access_token='pk.eyJ1IjoiaGlzaGFtLWh1c3NlaW4iLCJhIjoiY2p6OXVsM3hjMDBmOTNtcHI0a2o3MHEzcyJ9.Ii4E_GmYN1bi_9_AOYaJLg'\n",
    "px.set_mapbox_access_token(open(\"mapbox_token.txt\").read())\n",
    "def scatter_map(df, city, restaurant='kfc'):\n",
    "    \n",
    "    if restaurant:\n",
    "        df = df[df['name'].str.contains(restaurant)]\n",
    "        \n",
    "    return px.scatter_mapbox(df[df['city'] == city], lat=\"latitude\", lon=\"longitude\", \n",
    "                             title=f'Restaurants in {city}<br>(Locations are rounded)',\n",
    "                             color=\"stars\", \n",
    "                             size=\"review_count\",\n",
    "                             color_continuous_scale=px.colors.sequential.Viridis,#px.colors.cyclical.IceFire, \n",
    "                             size_max=30,\n",
    "                             zoom=9)"
   ]
  },
  {
   "cell_type": "code",
   "execution_count": 50,
   "metadata": {},
   "outputs": [
    {
     "data": {
      "application/vnd.plotly.v1+json": {
       "config": {
        "plotlyServerURL": "https://plot.ly"
       },
       "data": [
        {
         "hoverlabel": {
          "namelength": 0
         },
         "hovertemplate": "review_count=%{marker.size}<br>latitude=%{lat}<br>longitude=%{lon}<br>stars=%{marker.color}",
         "lat": [
          33.305,
          33.378,
          33.424,
          33.465,
          33.48,
          33.48,
          33.495,
          33.495,
          33.524,
          33.611,
          33.641,
          33.655
         ],
         "legendgroup": "",
         "lon": [
          -112,
          -112.073,
          -112.221,
          -112.152,
          -112.083,
          -112.001,
          -112.225,
          -112.029,
          -112.097,
          -112.135,
          -111.993,
          -112.1
         ],
         "marker": {
          "color": [
           1.5,
           1.5,
           1.5,
           2,
           2,
           1.5,
           1.5,
           2,
           1.5,
           1.5,
           2,
           2
          ],
          "coloraxis": "coloraxis",
          "size": [
           43,
           32,
           21,
           12,
           27,
           15,
           15,
           18,
           41,
           26,
           24,
           38
          ],
          "sizemode": "area",
          "sizeref": 0.04777777777777778
         },
         "mode": "markers",
         "name": "",
         "showlegend": false,
         "subplot": "mapbox",
         "type": "scattermapbox"
        }
       ],
       "layout": {
        "coloraxis": {
         "colorbar": {
          "title": {
           "text": "stars"
          }
         },
         "colorscale": [
          [
           0,
           "#440154"
          ],
          [
           0.1111111111111111,
           "#482878"
          ],
          [
           0.2222222222222222,
           "#3e4989"
          ],
          [
           0.3333333333333333,
           "#31688e"
          ],
          [
           0.4444444444444444,
           "#26828e"
          ],
          [
           0.5555555555555556,
           "#1f9e89"
          ],
          [
           0.6666666666666666,
           "#35b779"
          ],
          [
           0.7777777777777778,
           "#6ece58"
          ],
          [
           0.8888888888888888,
           "#b5de2b"
          ],
          [
           1,
           "#fde725"
          ]
         ]
        },
        "legend": {
         "itemsizing": "constant",
         "tracegroupgap": 0
        },
        "mapbox": {
         "accesstoken": "pk.eyJ1IjoiaGlzaGFtLWh1c3NlaW4iLCJhIjoiY2p6OXVsM3hjMDBmOTNtcHI0a2o3MHEzcyJ9.Ii4E_GmYN1bi_9_AOYaJLg",
         "center": {
          "lat": 33.49608333333333,
          "lon": -112.09241666666667
         },
         "domain": {
          "x": [
           0,
           1
          ],
          "y": [
           0,
           1
          ]
         },
         "zoom": 9
        },
        "template": {
         "data": {
          "bar": [
           {
            "error_x": {
             "color": "#2a3f5f"
            },
            "error_y": {
             "color": "#2a3f5f"
            },
            "marker": {
             "line": {
              "color": "white",
              "width": 0.5
             }
            },
            "type": "bar"
           }
          ],
          "barpolar": [
           {
            "marker": {
             "line": {
              "color": "white",
              "width": 0.5
             }
            },
            "type": "barpolar"
           }
          ],
          "carpet": [
           {
            "aaxis": {
             "endlinecolor": "#2a3f5f",
             "gridcolor": "#C8D4E3",
             "linecolor": "#C8D4E3",
             "minorgridcolor": "#C8D4E3",
             "startlinecolor": "#2a3f5f"
            },
            "baxis": {
             "endlinecolor": "#2a3f5f",
             "gridcolor": "#C8D4E3",
             "linecolor": "#C8D4E3",
             "minorgridcolor": "#C8D4E3",
             "startlinecolor": "#2a3f5f"
            },
            "type": "carpet"
           }
          ],
          "choropleth": [
           {
            "colorbar": {
             "outlinewidth": 0,
             "ticks": ""
            },
            "type": "choropleth"
           }
          ],
          "contour": [
           {
            "colorbar": {
             "outlinewidth": 0,
             "ticks": ""
            },
            "colorscale": [
             [
              0,
              "#0d0887"
             ],
             [
              0.1111111111111111,
              "#46039f"
             ],
             [
              0.2222222222222222,
              "#7201a8"
             ],
             [
              0.3333333333333333,
              "#9c179e"
             ],
             [
              0.4444444444444444,
              "#bd3786"
             ],
             [
              0.5555555555555556,
              "#d8576b"
             ],
             [
              0.6666666666666666,
              "#ed7953"
             ],
             [
              0.7777777777777778,
              "#fb9f3a"
             ],
             [
              0.8888888888888888,
              "#fdca26"
             ],
             [
              1,
              "#f0f921"
             ]
            ],
            "type": "contour"
           }
          ],
          "contourcarpet": [
           {
            "colorbar": {
             "outlinewidth": 0,
             "ticks": ""
            },
            "type": "contourcarpet"
           }
          ],
          "heatmap": [
           {
            "colorbar": {
             "outlinewidth": 0,
             "ticks": ""
            },
            "colorscale": [
             [
              0,
              "#0d0887"
             ],
             [
              0.1111111111111111,
              "#46039f"
             ],
             [
              0.2222222222222222,
              "#7201a8"
             ],
             [
              0.3333333333333333,
              "#9c179e"
             ],
             [
              0.4444444444444444,
              "#bd3786"
             ],
             [
              0.5555555555555556,
              "#d8576b"
             ],
             [
              0.6666666666666666,
              "#ed7953"
             ],
             [
              0.7777777777777778,
              "#fb9f3a"
             ],
             [
              0.8888888888888888,
              "#fdca26"
             ],
             [
              1,
              "#f0f921"
             ]
            ],
            "type": "heatmap"
           }
          ],
          "heatmapgl": [
           {
            "colorbar": {
             "outlinewidth": 0,
             "ticks": ""
            },
            "colorscale": [
             [
              0,
              "#0d0887"
             ],
             [
              0.1111111111111111,
              "#46039f"
             ],
             [
              0.2222222222222222,
              "#7201a8"
             ],
             [
              0.3333333333333333,
              "#9c179e"
             ],
             [
              0.4444444444444444,
              "#bd3786"
             ],
             [
              0.5555555555555556,
              "#d8576b"
             ],
             [
              0.6666666666666666,
              "#ed7953"
             ],
             [
              0.7777777777777778,
              "#fb9f3a"
             ],
             [
              0.8888888888888888,
              "#fdca26"
             ],
             [
              1,
              "#f0f921"
             ]
            ],
            "type": "heatmapgl"
           }
          ],
          "histogram": [
           {
            "marker": {
             "colorbar": {
              "outlinewidth": 0,
              "ticks": ""
             }
            },
            "type": "histogram"
           }
          ],
          "histogram2d": [
           {
            "colorbar": {
             "outlinewidth": 0,
             "ticks": ""
            },
            "colorscale": [
             [
              0,
              "#0d0887"
             ],
             [
              0.1111111111111111,
              "#46039f"
             ],
             [
              0.2222222222222222,
              "#7201a8"
             ],
             [
              0.3333333333333333,
              "#9c179e"
             ],
             [
              0.4444444444444444,
              "#bd3786"
             ],
             [
              0.5555555555555556,
              "#d8576b"
             ],
             [
              0.6666666666666666,
              "#ed7953"
             ],
             [
              0.7777777777777778,
              "#fb9f3a"
             ],
             [
              0.8888888888888888,
              "#fdca26"
             ],
             [
              1,
              "#f0f921"
             ]
            ],
            "type": "histogram2d"
           }
          ],
          "histogram2dcontour": [
           {
            "colorbar": {
             "outlinewidth": 0,
             "ticks": ""
            },
            "colorscale": [
             [
              0,
              "#0d0887"
             ],
             [
              0.1111111111111111,
              "#46039f"
             ],
             [
              0.2222222222222222,
              "#7201a8"
             ],
             [
              0.3333333333333333,
              "#9c179e"
             ],
             [
              0.4444444444444444,
              "#bd3786"
             ],
             [
              0.5555555555555556,
              "#d8576b"
             ],
             [
              0.6666666666666666,
              "#ed7953"
             ],
             [
              0.7777777777777778,
              "#fb9f3a"
             ],
             [
              0.8888888888888888,
              "#fdca26"
             ],
             [
              1,
              "#f0f921"
             ]
            ],
            "type": "histogram2dcontour"
           }
          ],
          "mesh3d": [
           {
            "colorbar": {
             "outlinewidth": 0,
             "ticks": ""
            },
            "type": "mesh3d"
           }
          ],
          "parcoords": [
           {
            "line": {
             "colorbar": {
              "outlinewidth": 0,
              "ticks": ""
             }
            },
            "type": "parcoords"
           }
          ],
          "pie": [
           {
            "automargin": true,
            "type": "pie"
           }
          ],
          "scatter": [
           {
            "marker": {
             "colorbar": {
              "outlinewidth": 0,
              "ticks": ""
             }
            },
            "type": "scatter"
           }
          ],
          "scatter3d": [
           {
            "line": {
             "colorbar": {
              "outlinewidth": 0,
              "ticks": ""
             }
            },
            "marker": {
             "colorbar": {
              "outlinewidth": 0,
              "ticks": ""
             }
            },
            "type": "scatter3d"
           }
          ],
          "scattercarpet": [
           {
            "marker": {
             "colorbar": {
              "outlinewidth": 0,
              "ticks": ""
             }
            },
            "type": "scattercarpet"
           }
          ],
          "scattergeo": [
           {
            "marker": {
             "colorbar": {
              "outlinewidth": 0,
              "ticks": ""
             }
            },
            "type": "scattergeo"
           }
          ],
          "scattergl": [
           {
            "marker": {
             "colorbar": {
              "outlinewidth": 0,
              "ticks": ""
             }
            },
            "type": "scattergl"
           }
          ],
          "scattermapbox": [
           {
            "marker": {
             "colorbar": {
              "outlinewidth": 0,
              "ticks": ""
             }
            },
            "type": "scattermapbox"
           }
          ],
          "scatterpolar": [
           {
            "marker": {
             "colorbar": {
              "outlinewidth": 0,
              "ticks": ""
             }
            },
            "type": "scatterpolar"
           }
          ],
          "scatterpolargl": [
           {
            "marker": {
             "colorbar": {
              "outlinewidth": 0,
              "ticks": ""
             }
            },
            "type": "scatterpolargl"
           }
          ],
          "scatterternary": [
           {
            "marker": {
             "colorbar": {
              "outlinewidth": 0,
              "ticks": ""
             }
            },
            "type": "scatterternary"
           }
          ],
          "surface": [
           {
            "colorbar": {
             "outlinewidth": 0,
             "ticks": ""
            },
            "colorscale": [
             [
              0,
              "#0d0887"
             ],
             [
              0.1111111111111111,
              "#46039f"
             ],
             [
              0.2222222222222222,
              "#7201a8"
             ],
             [
              0.3333333333333333,
              "#9c179e"
             ],
             [
              0.4444444444444444,
              "#bd3786"
             ],
             [
              0.5555555555555556,
              "#d8576b"
             ],
             [
              0.6666666666666666,
              "#ed7953"
             ],
             [
              0.7777777777777778,
              "#fb9f3a"
             ],
             [
              0.8888888888888888,
              "#fdca26"
             ],
             [
              1,
              "#f0f921"
             ]
            ],
            "type": "surface"
           }
          ],
          "table": [
           {
            "cells": {
             "fill": {
              "color": "#EBF0F8"
             },
             "line": {
              "color": "white"
             }
            },
            "header": {
             "fill": {
              "color": "#C8D4E3"
             },
             "line": {
              "color": "white"
             }
            },
            "type": "table"
           }
          ]
         },
         "layout": {
          "annotationdefaults": {
           "arrowcolor": "#2a3f5f",
           "arrowhead": 0,
           "arrowwidth": 1
          },
          "coloraxis": {
           "colorbar": {
            "outlinewidth": 0,
            "ticks": ""
           }
          },
          "colorscale": {
           "diverging": [
            [
             0,
             "#8e0152"
            ],
            [
             0.1,
             "#c51b7d"
            ],
            [
             0.2,
             "#de77ae"
            ],
            [
             0.3,
             "#f1b6da"
            ],
            [
             0.4,
             "#fde0ef"
            ],
            [
             0.5,
             "#f7f7f7"
            ],
            [
             0.6,
             "#e6f5d0"
            ],
            [
             0.7,
             "#b8e186"
            ],
            [
             0.8,
             "#7fbc41"
            ],
            [
             0.9,
             "#4d9221"
            ],
            [
             1,
             "#276419"
            ]
           ],
           "sequential": [
            [
             0,
             "#0d0887"
            ],
            [
             0.1111111111111111,
             "#46039f"
            ],
            [
             0.2222222222222222,
             "#7201a8"
            ],
            [
             0.3333333333333333,
             "#9c179e"
            ],
            [
             0.4444444444444444,
             "#bd3786"
            ],
            [
             0.5555555555555556,
             "#d8576b"
            ],
            [
             0.6666666666666666,
             "#ed7953"
            ],
            [
             0.7777777777777778,
             "#fb9f3a"
            ],
            [
             0.8888888888888888,
             "#fdca26"
            ],
            [
             1,
             "#f0f921"
            ]
           ],
           "sequentialminus": [
            [
             0,
             "#0d0887"
            ],
            [
             0.1111111111111111,
             "#46039f"
            ],
            [
             0.2222222222222222,
             "#7201a8"
            ],
            [
             0.3333333333333333,
             "#9c179e"
            ],
            [
             0.4444444444444444,
             "#bd3786"
            ],
            [
             0.5555555555555556,
             "#d8576b"
            ],
            [
             0.6666666666666666,
             "#ed7953"
            ],
            [
             0.7777777777777778,
             "#fb9f3a"
            ],
            [
             0.8888888888888888,
             "#fdca26"
            ],
            [
             1,
             "#f0f921"
            ]
           ]
          },
          "colorway": [
           "#636efa",
           "#EF553B",
           "#00cc96",
           "#ab63fa",
           "#FFA15A",
           "#19d3f3",
           "#FF6692",
           "#B6E880",
           "#FF97FF",
           "#FECB52"
          ],
          "font": {
           "color": "#2a3f5f"
          },
          "geo": {
           "bgcolor": "white",
           "lakecolor": "white",
           "landcolor": "white",
           "showlakes": true,
           "showland": true,
           "subunitcolor": "#C8D4E3"
          },
          "hoverlabel": {
           "align": "left"
          },
          "hovermode": "closest",
          "mapbox": {
           "style": "light"
          },
          "paper_bgcolor": "white",
          "plot_bgcolor": "white",
          "polar": {
           "angularaxis": {
            "gridcolor": "#EBF0F8",
            "linecolor": "#EBF0F8",
            "ticks": ""
           },
           "bgcolor": "white",
           "radialaxis": {
            "gridcolor": "#EBF0F8",
            "linecolor": "#EBF0F8",
            "ticks": ""
           }
          },
          "scene": {
           "xaxis": {
            "backgroundcolor": "white",
            "gridcolor": "#DFE8F3",
            "gridwidth": 2,
            "linecolor": "#EBF0F8",
            "showbackground": true,
            "ticks": "",
            "zerolinecolor": "#EBF0F8"
           },
           "yaxis": {
            "backgroundcolor": "white",
            "gridcolor": "#DFE8F3",
            "gridwidth": 2,
            "linecolor": "#EBF0F8",
            "showbackground": true,
            "ticks": "",
            "zerolinecolor": "#EBF0F8"
           },
           "zaxis": {
            "backgroundcolor": "white",
            "gridcolor": "#DFE8F3",
            "gridwidth": 2,
            "linecolor": "#EBF0F8",
            "showbackground": true,
            "ticks": "",
            "zerolinecolor": "#EBF0F8"
           }
          },
          "shapedefaults": {
           "line": {
            "color": "#2a3f5f"
           }
          },
          "ternary": {
           "aaxis": {
            "gridcolor": "#DFE8F3",
            "linecolor": "#A2B1C6",
            "ticks": ""
           },
           "baxis": {
            "gridcolor": "#DFE8F3",
            "linecolor": "#A2B1C6",
            "ticks": ""
           },
           "bgcolor": "white",
           "caxis": {
            "gridcolor": "#DFE8F3",
            "linecolor": "#A2B1C6",
            "ticks": ""
           }
          },
          "title": {
           "x": 0.05
          },
          "xaxis": {
           "automargin": true,
           "gridcolor": "#EBF0F8",
           "linecolor": "#EBF0F8",
           "ticks": "",
           "title": {
            "standoff": 15
           },
           "zerolinecolor": "#EBF0F8",
           "zerolinewidth": 2
          },
          "yaxis": {
           "automargin": true,
           "gridcolor": "#EBF0F8",
           "linecolor": "#EBF0F8",
           "ticks": "",
           "title": {
            "standoff": 15
           },
           "zerolinecolor": "#EBF0F8",
           "zerolinewidth": 2
          }
         }
        },
        "title": {
         "text": "Restaurants in phoenix<br>(Locations are rounded)"
        }
       }
      },
      "text/html": [
       "<div>\n",
       "        \n",
       "        \n",
       "            <div id=\"9b645e44-b12e-4a18-bf4e-d2a99461844d\" class=\"plotly-graph-div\" style=\"height:525px; width:100%;\"></div>\n",
       "            <script type=\"text/javascript\">\n",
       "                require([\"plotly\"], function(Plotly) {\n",
       "                    window.PLOTLYENV=window.PLOTLYENV || {};\n",
       "                    \n",
       "                if (document.getElementById(\"9b645e44-b12e-4a18-bf4e-d2a99461844d\")) {\n",
       "                    Plotly.newPlot(\n",
       "                        '9b645e44-b12e-4a18-bf4e-d2a99461844d',\n",
       "                        [{\"hoverlabel\": {\"namelength\": 0}, \"hovertemplate\": \"review_count=%{marker.size}<br>latitude=%{lat}<br>longitude=%{lon}<br>stars=%{marker.color}\", \"lat\": [33.305, 33.378, 33.424, 33.465, 33.48, 33.48, 33.495, 33.495, 33.524, 33.611, 33.641, 33.655], \"legendgroup\": \"\", \"lon\": [-112.0, -112.073, -112.221, -112.152, -112.083, -112.001, -112.225, -112.029, -112.097, -112.135, -111.993, -112.1], \"marker\": {\"color\": [1.5, 1.5, 1.5, 2.0, 2.0, 1.5, 1.5, 2.0, 1.5, 1.5, 2.0, 2.0], \"coloraxis\": \"coloraxis\", \"size\": [43, 32, 21, 12, 27, 15, 15, 18, 41, 26, 24, 38], \"sizemode\": \"area\", \"sizeref\": 0.04777777777777778}, \"mode\": \"markers\", \"name\": \"\", \"showlegend\": false, \"subplot\": \"mapbox\", \"type\": \"scattermapbox\"}],\n",
       "                        {\"coloraxis\": {\"colorbar\": {\"title\": {\"text\": \"stars\"}}, \"colorscale\": [[0.0, \"#440154\"], [0.1111111111111111, \"#482878\"], [0.2222222222222222, \"#3e4989\"], [0.3333333333333333, \"#31688e\"], [0.4444444444444444, \"#26828e\"], [0.5555555555555556, \"#1f9e89\"], [0.6666666666666666, \"#35b779\"], [0.7777777777777778, \"#6ece58\"], [0.8888888888888888, \"#b5de2b\"], [1.0, \"#fde725\"]]}, \"legend\": {\"itemsizing\": \"constant\", \"tracegroupgap\": 0}, \"mapbox\": {\"accesstoken\": \"pk.eyJ1IjoiaGlzaGFtLWh1c3NlaW4iLCJhIjoiY2p6OXVsM3hjMDBmOTNtcHI0a2o3MHEzcyJ9.Ii4E_GmYN1bi_9_AOYaJLg\", \"center\": {\"lat\": 33.49608333333333, \"lon\": -112.09241666666667}, \"domain\": {\"x\": [0.0, 1.0], \"y\": [0.0, 1.0]}, \"zoom\": 9}, \"template\": {\"data\": {\"bar\": [{\"error_x\": {\"color\": \"#2a3f5f\"}, \"error_y\": {\"color\": \"#2a3f5f\"}, \"marker\": {\"line\": {\"color\": \"white\", \"width\": 0.5}}, \"type\": \"bar\"}], \"barpolar\": [{\"marker\": {\"line\": {\"color\": \"white\", \"width\": 0.5}}, \"type\": \"barpolar\"}], \"carpet\": [{\"aaxis\": {\"endlinecolor\": \"#2a3f5f\", \"gridcolor\": \"#C8D4E3\", \"linecolor\": \"#C8D4E3\", \"minorgridcolor\": \"#C8D4E3\", \"startlinecolor\": \"#2a3f5f\"}, \"baxis\": {\"endlinecolor\": \"#2a3f5f\", \"gridcolor\": \"#C8D4E3\", \"linecolor\": \"#C8D4E3\", \"minorgridcolor\": \"#C8D4E3\", \"startlinecolor\": \"#2a3f5f\"}, \"type\": \"carpet\"}], \"choropleth\": [{\"colorbar\": {\"outlinewidth\": 0, \"ticks\": \"\"}, \"type\": \"choropleth\"}], \"contour\": [{\"colorbar\": {\"outlinewidth\": 0, \"ticks\": \"\"}, \"colorscale\": [[0.0, \"#0d0887\"], [0.1111111111111111, \"#46039f\"], [0.2222222222222222, \"#7201a8\"], [0.3333333333333333, \"#9c179e\"], [0.4444444444444444, \"#bd3786\"], [0.5555555555555556, \"#d8576b\"], [0.6666666666666666, \"#ed7953\"], [0.7777777777777778, \"#fb9f3a\"], [0.8888888888888888, \"#fdca26\"], [1.0, \"#f0f921\"]], \"type\": \"contour\"}], \"contourcarpet\": [{\"colorbar\": {\"outlinewidth\": 0, \"ticks\": \"\"}, \"type\": \"contourcarpet\"}], \"heatmap\": [{\"colorbar\": {\"outlinewidth\": 0, \"ticks\": \"\"}, \"colorscale\": [[0.0, \"#0d0887\"], [0.1111111111111111, \"#46039f\"], [0.2222222222222222, \"#7201a8\"], [0.3333333333333333, \"#9c179e\"], [0.4444444444444444, \"#bd3786\"], [0.5555555555555556, \"#d8576b\"], [0.6666666666666666, \"#ed7953\"], [0.7777777777777778, \"#fb9f3a\"], [0.8888888888888888, \"#fdca26\"], [1.0, \"#f0f921\"]], \"type\": \"heatmap\"}], \"heatmapgl\": [{\"colorbar\": {\"outlinewidth\": 0, \"ticks\": \"\"}, \"colorscale\": [[0.0, \"#0d0887\"], [0.1111111111111111, \"#46039f\"], [0.2222222222222222, \"#7201a8\"], [0.3333333333333333, \"#9c179e\"], [0.4444444444444444, \"#bd3786\"], [0.5555555555555556, \"#d8576b\"], [0.6666666666666666, \"#ed7953\"], [0.7777777777777778, \"#fb9f3a\"], [0.8888888888888888, \"#fdca26\"], [1.0, \"#f0f921\"]], \"type\": \"heatmapgl\"}], \"histogram\": [{\"marker\": {\"colorbar\": {\"outlinewidth\": 0, \"ticks\": \"\"}}, \"type\": \"histogram\"}], \"histogram2d\": [{\"colorbar\": {\"outlinewidth\": 0, \"ticks\": \"\"}, \"colorscale\": [[0.0, \"#0d0887\"], [0.1111111111111111, \"#46039f\"], [0.2222222222222222, \"#7201a8\"], [0.3333333333333333, \"#9c179e\"], [0.4444444444444444, \"#bd3786\"], [0.5555555555555556, \"#d8576b\"], [0.6666666666666666, \"#ed7953\"], [0.7777777777777778, \"#fb9f3a\"], [0.8888888888888888, \"#fdca26\"], [1.0, \"#f0f921\"]], \"type\": \"histogram2d\"}], \"histogram2dcontour\": [{\"colorbar\": {\"outlinewidth\": 0, \"ticks\": \"\"}, \"colorscale\": [[0.0, \"#0d0887\"], [0.1111111111111111, \"#46039f\"], [0.2222222222222222, \"#7201a8\"], [0.3333333333333333, \"#9c179e\"], [0.4444444444444444, \"#bd3786\"], [0.5555555555555556, \"#d8576b\"], [0.6666666666666666, \"#ed7953\"], [0.7777777777777778, \"#fb9f3a\"], [0.8888888888888888, \"#fdca26\"], [1.0, \"#f0f921\"]], \"type\": \"histogram2dcontour\"}], \"mesh3d\": [{\"colorbar\": {\"outlinewidth\": 0, \"ticks\": \"\"}, \"type\": \"mesh3d\"}], \"parcoords\": [{\"line\": {\"colorbar\": {\"outlinewidth\": 0, \"ticks\": \"\"}}, \"type\": \"parcoords\"}], \"pie\": [{\"automargin\": true, \"type\": \"pie\"}], \"scatter\": [{\"marker\": {\"colorbar\": {\"outlinewidth\": 0, \"ticks\": \"\"}}, \"type\": \"scatter\"}], \"scatter3d\": [{\"line\": {\"colorbar\": {\"outlinewidth\": 0, \"ticks\": \"\"}}, \"marker\": {\"colorbar\": {\"outlinewidth\": 0, \"ticks\": \"\"}}, \"type\": \"scatter3d\"}], \"scattercarpet\": [{\"marker\": {\"colorbar\": {\"outlinewidth\": 0, \"ticks\": \"\"}}, \"type\": \"scattercarpet\"}], \"scattergeo\": [{\"marker\": {\"colorbar\": {\"outlinewidth\": 0, \"ticks\": \"\"}}, \"type\": \"scattergeo\"}], \"scattergl\": [{\"marker\": {\"colorbar\": {\"outlinewidth\": 0, \"ticks\": \"\"}}, \"type\": \"scattergl\"}], \"scattermapbox\": [{\"marker\": {\"colorbar\": {\"outlinewidth\": 0, \"ticks\": \"\"}}, \"type\": \"scattermapbox\"}], \"scatterpolar\": [{\"marker\": {\"colorbar\": {\"outlinewidth\": 0, \"ticks\": \"\"}}, \"type\": \"scatterpolar\"}], \"scatterpolargl\": [{\"marker\": {\"colorbar\": {\"outlinewidth\": 0, \"ticks\": \"\"}}, \"type\": \"scatterpolargl\"}], \"scatterternary\": [{\"marker\": {\"colorbar\": {\"outlinewidth\": 0, \"ticks\": \"\"}}, \"type\": \"scatterternary\"}], \"surface\": [{\"colorbar\": {\"outlinewidth\": 0, \"ticks\": \"\"}, \"colorscale\": [[0.0, \"#0d0887\"], [0.1111111111111111, \"#46039f\"], [0.2222222222222222, \"#7201a8\"], [0.3333333333333333, \"#9c179e\"], [0.4444444444444444, \"#bd3786\"], [0.5555555555555556, \"#d8576b\"], [0.6666666666666666, \"#ed7953\"], [0.7777777777777778, \"#fb9f3a\"], [0.8888888888888888, \"#fdca26\"], [1.0, \"#f0f921\"]], \"type\": \"surface\"}], \"table\": [{\"cells\": {\"fill\": {\"color\": \"#EBF0F8\"}, \"line\": {\"color\": \"white\"}}, \"header\": {\"fill\": {\"color\": \"#C8D4E3\"}, \"line\": {\"color\": \"white\"}}, \"type\": \"table\"}]}, \"layout\": {\"annotationdefaults\": {\"arrowcolor\": \"#2a3f5f\", \"arrowhead\": 0, \"arrowwidth\": 1}, \"coloraxis\": {\"colorbar\": {\"outlinewidth\": 0, \"ticks\": \"\"}}, \"colorscale\": {\"diverging\": [[0, \"#8e0152\"], [0.1, \"#c51b7d\"], [0.2, \"#de77ae\"], [0.3, \"#f1b6da\"], [0.4, \"#fde0ef\"], [0.5, \"#f7f7f7\"], [0.6, \"#e6f5d0\"], [0.7, \"#b8e186\"], [0.8, \"#7fbc41\"], [0.9, \"#4d9221\"], [1, \"#276419\"]], \"sequential\": [[0.0, \"#0d0887\"], [0.1111111111111111, \"#46039f\"], [0.2222222222222222, \"#7201a8\"], [0.3333333333333333, \"#9c179e\"], [0.4444444444444444, \"#bd3786\"], [0.5555555555555556, \"#d8576b\"], [0.6666666666666666, \"#ed7953\"], [0.7777777777777778, \"#fb9f3a\"], [0.8888888888888888, \"#fdca26\"], [1.0, \"#f0f921\"]], \"sequentialminus\": [[0.0, \"#0d0887\"], [0.1111111111111111, \"#46039f\"], [0.2222222222222222, \"#7201a8\"], [0.3333333333333333, \"#9c179e\"], [0.4444444444444444, \"#bd3786\"], [0.5555555555555556, \"#d8576b\"], [0.6666666666666666, \"#ed7953\"], [0.7777777777777778, \"#fb9f3a\"], [0.8888888888888888, \"#fdca26\"], [1.0, \"#f0f921\"]]}, \"colorway\": [\"#636efa\", \"#EF553B\", \"#00cc96\", \"#ab63fa\", \"#FFA15A\", \"#19d3f3\", \"#FF6692\", \"#B6E880\", \"#FF97FF\", \"#FECB52\"], \"font\": {\"color\": \"#2a3f5f\"}, \"geo\": {\"bgcolor\": \"white\", \"lakecolor\": \"white\", \"landcolor\": \"white\", \"showlakes\": true, \"showland\": true, \"subunitcolor\": \"#C8D4E3\"}, \"hoverlabel\": {\"align\": \"left\"}, \"hovermode\": \"closest\", \"mapbox\": {\"style\": \"light\"}, \"paper_bgcolor\": \"white\", \"plot_bgcolor\": \"white\", \"polar\": {\"angularaxis\": {\"gridcolor\": \"#EBF0F8\", \"linecolor\": \"#EBF0F8\", \"ticks\": \"\"}, \"bgcolor\": \"white\", \"radialaxis\": {\"gridcolor\": \"#EBF0F8\", \"linecolor\": \"#EBF0F8\", \"ticks\": \"\"}}, \"scene\": {\"xaxis\": {\"backgroundcolor\": \"white\", \"gridcolor\": \"#DFE8F3\", \"gridwidth\": 2, \"linecolor\": \"#EBF0F8\", \"showbackground\": true, \"ticks\": \"\", \"zerolinecolor\": \"#EBF0F8\"}, \"yaxis\": {\"backgroundcolor\": \"white\", \"gridcolor\": \"#DFE8F3\", \"gridwidth\": 2, \"linecolor\": \"#EBF0F8\", \"showbackground\": true, \"ticks\": \"\", \"zerolinecolor\": \"#EBF0F8\"}, \"zaxis\": {\"backgroundcolor\": \"white\", \"gridcolor\": \"#DFE8F3\", \"gridwidth\": 2, \"linecolor\": \"#EBF0F8\", \"showbackground\": true, \"ticks\": \"\", \"zerolinecolor\": \"#EBF0F8\"}}, \"shapedefaults\": {\"line\": {\"color\": \"#2a3f5f\"}}, \"ternary\": {\"aaxis\": {\"gridcolor\": \"#DFE8F3\", \"linecolor\": \"#A2B1C6\", \"ticks\": \"\"}, \"baxis\": {\"gridcolor\": \"#DFE8F3\", \"linecolor\": \"#A2B1C6\", \"ticks\": \"\"}, \"bgcolor\": \"white\", \"caxis\": {\"gridcolor\": \"#DFE8F3\", \"linecolor\": \"#A2B1C6\", \"ticks\": \"\"}}, \"title\": {\"x\": 0.05}, \"xaxis\": {\"automargin\": true, \"gridcolor\": \"#EBF0F8\", \"linecolor\": \"#EBF0F8\", \"ticks\": \"\", \"title\": {\"standoff\": 15}, \"zerolinecolor\": \"#EBF0F8\", \"zerolinewidth\": 2}, \"yaxis\": {\"automargin\": true, \"gridcolor\": \"#EBF0F8\", \"linecolor\": \"#EBF0F8\", \"ticks\": \"\", \"title\": {\"standoff\": 15}, \"zerolinecolor\": \"#EBF0F8\", \"zerolinewidth\": 2}}}, \"title\": {\"text\": \"Restaurants in phoenix<br>(Locations are rounded)\"}},\n",
       "                        {\"responsive\": true}\n",
       "                    ).then(function(){\n",
       "                            \n",
       "var gd = document.getElementById('9b645e44-b12e-4a18-bf4e-d2a99461844d');\n",
       "var x = new MutationObserver(function (mutations, observer) {{\n",
       "        var display = window.getComputedStyle(gd).display;\n",
       "        if (!display || display === 'none') {{\n",
       "            console.log([gd, 'removed!']);\n",
       "            Plotly.purge(gd);\n",
       "            observer.disconnect();\n",
       "        }}\n",
       "}});\n",
       "\n",
       "// Listen for the removal of the full notebook cells\n",
       "var notebookContainer = gd.closest('#notebook-container');\n",
       "if (notebookContainer) {{\n",
       "    x.observe(notebookContainer, {childList: true});\n",
       "}}\n",
       "\n",
       "// Listen for the clearing of the current output cell\n",
       "var outputEl = gd.closest('.output');\n",
       "if (outputEl) {{\n",
       "    x.observe(outputEl, {childList: true});\n",
       "}}\n",
       "\n",
       "                        })\n",
       "                };\n",
       "                });\n",
       "            </script>\n",
       "        </div>"
      ]
     },
     "metadata": {},
     "output_type": "display_data"
    }
   ],
   "source": [
    "scatter_map(city_stats, 'phoenix', 'kfc')"
   ]
  },
  {
   "cell_type": "code",
   "execution_count": 51,
   "metadata": {},
   "outputs": [
    {
     "data": {
      "application/vnd.plotly.v1+json": {
       "config": {
        "plotlyServerURL": "https://plot.ly"
       },
       "data": [
        {
         "hoverlabel": {
          "namelength": 0
         },
         "hovertemplate": "review_count=%{marker.size}<br>latitude=%{lat}<br>longitude=%{lon}<br>stars=%{marker.color}",
         "lat": [
          36.013,
          36.021,
          36.042,
          36.051,
          36.06,
          36.1,
          36.101,
          36.114,
          36.126,
          36.127,
          36.145,
          36.145,
          36.159,
          36.161,
          36.196,
          36.196,
          36.219,
          36.219,
          36.24,
          36.271
         ],
         "legendgroup": "",
         "lon": [
          -115.134,
          -115.278,
          -115.121,
          -115.244,
          -115.279,
          -115.105,
          -115.298,
          -115.066,
          -115.223,
          -115.169,
          -115.201,
          -115.137,
          -115.316,
          -115.063,
          -115.227,
          -115.062,
          -115.281,
          -115.28,
          -115.233,
          -115.263
         ],
         "marker": {
          "color": [
           1.5,
           1,
           2,
           1.5,
           2,
           1.5,
           1.5,
           2,
           2,
           2.5,
           2,
           1.5,
           1.5,
           1.5,
           1.5,
           1.5,
           1.5,
           1.5,
           1.5,
           1.5
          ],
          "coloraxis": "coloraxis",
          "size": [
           54,
           3,
           27,
           27,
           50,
           18,
           38,
           19,
           24,
           3,
           22,
           31,
           38,
           23,
           27,
           12,
           24,
           9,
           17,
           57
          ],
          "sizemode": "area",
          "sizeref": 0.06333333333333334
         },
         "mode": "markers",
         "name": "",
         "showlegend": false,
         "subplot": "mapbox",
         "type": "scattermapbox"
        }
       ],
       "layout": {
        "coloraxis": {
         "colorbar": {
          "title": {
           "text": "stars"
          }
         },
         "colorscale": [
          [
           0,
           "#440154"
          ],
          [
           0.1111111111111111,
           "#482878"
          ],
          [
           0.2222222222222222,
           "#3e4989"
          ],
          [
           0.3333333333333333,
           "#31688e"
          ],
          [
           0.4444444444444444,
           "#26828e"
          ],
          [
           0.5555555555555556,
           "#1f9e89"
          ],
          [
           0.6666666666666666,
           "#35b779"
          ],
          [
           0.7777777777777778,
           "#6ece58"
          ],
          [
           0.8888888888888888,
           "#b5de2b"
          ],
          [
           1,
           "#fde725"
          ]
         ]
        },
        "legend": {
         "itemsizing": "constant",
         "tracegroupgap": 0
        },
        "mapbox": {
         "accesstoken": "pk.eyJ1IjoiaGlzaGFtLWh1c3NlaW4iLCJhIjoiY2p6OXVsM3hjMDBmOTNtcHI0a2o3MHEzcyJ9.Ii4E_GmYN1bi_9_AOYaJLg",
         "center": {
          "lat": 36.1353,
          "lon": -115.19900000000003
         },
         "domain": {
          "x": [
           0,
           1
          ],
          "y": [
           0,
           1
          ]
         },
         "zoom": 9
        },
        "template": {
         "data": {
          "bar": [
           {
            "error_x": {
             "color": "#2a3f5f"
            },
            "error_y": {
             "color": "#2a3f5f"
            },
            "marker": {
             "line": {
              "color": "white",
              "width": 0.5
             }
            },
            "type": "bar"
           }
          ],
          "barpolar": [
           {
            "marker": {
             "line": {
              "color": "white",
              "width": 0.5
             }
            },
            "type": "barpolar"
           }
          ],
          "carpet": [
           {
            "aaxis": {
             "endlinecolor": "#2a3f5f",
             "gridcolor": "#C8D4E3",
             "linecolor": "#C8D4E3",
             "minorgridcolor": "#C8D4E3",
             "startlinecolor": "#2a3f5f"
            },
            "baxis": {
             "endlinecolor": "#2a3f5f",
             "gridcolor": "#C8D4E3",
             "linecolor": "#C8D4E3",
             "minorgridcolor": "#C8D4E3",
             "startlinecolor": "#2a3f5f"
            },
            "type": "carpet"
           }
          ],
          "choropleth": [
           {
            "colorbar": {
             "outlinewidth": 0,
             "ticks": ""
            },
            "type": "choropleth"
           }
          ],
          "contour": [
           {
            "colorbar": {
             "outlinewidth": 0,
             "ticks": ""
            },
            "colorscale": [
             [
              0,
              "#0d0887"
             ],
             [
              0.1111111111111111,
              "#46039f"
             ],
             [
              0.2222222222222222,
              "#7201a8"
             ],
             [
              0.3333333333333333,
              "#9c179e"
             ],
             [
              0.4444444444444444,
              "#bd3786"
             ],
             [
              0.5555555555555556,
              "#d8576b"
             ],
             [
              0.6666666666666666,
              "#ed7953"
             ],
             [
              0.7777777777777778,
              "#fb9f3a"
             ],
             [
              0.8888888888888888,
              "#fdca26"
             ],
             [
              1,
              "#f0f921"
             ]
            ],
            "type": "contour"
           }
          ],
          "contourcarpet": [
           {
            "colorbar": {
             "outlinewidth": 0,
             "ticks": ""
            },
            "type": "contourcarpet"
           }
          ],
          "heatmap": [
           {
            "colorbar": {
             "outlinewidth": 0,
             "ticks": ""
            },
            "colorscale": [
             [
              0,
              "#0d0887"
             ],
             [
              0.1111111111111111,
              "#46039f"
             ],
             [
              0.2222222222222222,
              "#7201a8"
             ],
             [
              0.3333333333333333,
              "#9c179e"
             ],
             [
              0.4444444444444444,
              "#bd3786"
             ],
             [
              0.5555555555555556,
              "#d8576b"
             ],
             [
              0.6666666666666666,
              "#ed7953"
             ],
             [
              0.7777777777777778,
              "#fb9f3a"
             ],
             [
              0.8888888888888888,
              "#fdca26"
             ],
             [
              1,
              "#f0f921"
             ]
            ],
            "type": "heatmap"
           }
          ],
          "heatmapgl": [
           {
            "colorbar": {
             "outlinewidth": 0,
             "ticks": ""
            },
            "colorscale": [
             [
              0,
              "#0d0887"
             ],
             [
              0.1111111111111111,
              "#46039f"
             ],
             [
              0.2222222222222222,
              "#7201a8"
             ],
             [
              0.3333333333333333,
              "#9c179e"
             ],
             [
              0.4444444444444444,
              "#bd3786"
             ],
             [
              0.5555555555555556,
              "#d8576b"
             ],
             [
              0.6666666666666666,
              "#ed7953"
             ],
             [
              0.7777777777777778,
              "#fb9f3a"
             ],
             [
              0.8888888888888888,
              "#fdca26"
             ],
             [
              1,
              "#f0f921"
             ]
            ],
            "type": "heatmapgl"
           }
          ],
          "histogram": [
           {
            "marker": {
             "colorbar": {
              "outlinewidth": 0,
              "ticks": ""
             }
            },
            "type": "histogram"
           }
          ],
          "histogram2d": [
           {
            "colorbar": {
             "outlinewidth": 0,
             "ticks": ""
            },
            "colorscale": [
             [
              0,
              "#0d0887"
             ],
             [
              0.1111111111111111,
              "#46039f"
             ],
             [
              0.2222222222222222,
              "#7201a8"
             ],
             [
              0.3333333333333333,
              "#9c179e"
             ],
             [
              0.4444444444444444,
              "#bd3786"
             ],
             [
              0.5555555555555556,
              "#d8576b"
             ],
             [
              0.6666666666666666,
              "#ed7953"
             ],
             [
              0.7777777777777778,
              "#fb9f3a"
             ],
             [
              0.8888888888888888,
              "#fdca26"
             ],
             [
              1,
              "#f0f921"
             ]
            ],
            "type": "histogram2d"
           }
          ],
          "histogram2dcontour": [
           {
            "colorbar": {
             "outlinewidth": 0,
             "ticks": ""
            },
            "colorscale": [
             [
              0,
              "#0d0887"
             ],
             [
              0.1111111111111111,
              "#46039f"
             ],
             [
              0.2222222222222222,
              "#7201a8"
             ],
             [
              0.3333333333333333,
              "#9c179e"
             ],
             [
              0.4444444444444444,
              "#bd3786"
             ],
             [
              0.5555555555555556,
              "#d8576b"
             ],
             [
              0.6666666666666666,
              "#ed7953"
             ],
             [
              0.7777777777777778,
              "#fb9f3a"
             ],
             [
              0.8888888888888888,
              "#fdca26"
             ],
             [
              1,
              "#f0f921"
             ]
            ],
            "type": "histogram2dcontour"
           }
          ],
          "mesh3d": [
           {
            "colorbar": {
             "outlinewidth": 0,
             "ticks": ""
            },
            "type": "mesh3d"
           }
          ],
          "parcoords": [
           {
            "line": {
             "colorbar": {
              "outlinewidth": 0,
              "ticks": ""
             }
            },
            "type": "parcoords"
           }
          ],
          "pie": [
           {
            "automargin": true,
            "type": "pie"
           }
          ],
          "scatter": [
           {
            "marker": {
             "colorbar": {
              "outlinewidth": 0,
              "ticks": ""
             }
            },
            "type": "scatter"
           }
          ],
          "scatter3d": [
           {
            "line": {
             "colorbar": {
              "outlinewidth": 0,
              "ticks": ""
             }
            },
            "marker": {
             "colorbar": {
              "outlinewidth": 0,
              "ticks": ""
             }
            },
            "type": "scatter3d"
           }
          ],
          "scattercarpet": [
           {
            "marker": {
             "colorbar": {
              "outlinewidth": 0,
              "ticks": ""
             }
            },
            "type": "scattercarpet"
           }
          ],
          "scattergeo": [
           {
            "marker": {
             "colorbar": {
              "outlinewidth": 0,
              "ticks": ""
             }
            },
            "type": "scattergeo"
           }
          ],
          "scattergl": [
           {
            "marker": {
             "colorbar": {
              "outlinewidth": 0,
              "ticks": ""
             }
            },
            "type": "scattergl"
           }
          ],
          "scattermapbox": [
           {
            "marker": {
             "colorbar": {
              "outlinewidth": 0,
              "ticks": ""
             }
            },
            "type": "scattermapbox"
           }
          ],
          "scatterpolar": [
           {
            "marker": {
             "colorbar": {
              "outlinewidth": 0,
              "ticks": ""
             }
            },
            "type": "scatterpolar"
           }
          ],
          "scatterpolargl": [
           {
            "marker": {
             "colorbar": {
              "outlinewidth": 0,
              "ticks": ""
             }
            },
            "type": "scatterpolargl"
           }
          ],
          "scatterternary": [
           {
            "marker": {
             "colorbar": {
              "outlinewidth": 0,
              "ticks": ""
             }
            },
            "type": "scatterternary"
           }
          ],
          "surface": [
           {
            "colorbar": {
             "outlinewidth": 0,
             "ticks": ""
            },
            "colorscale": [
             [
              0,
              "#0d0887"
             ],
             [
              0.1111111111111111,
              "#46039f"
             ],
             [
              0.2222222222222222,
              "#7201a8"
             ],
             [
              0.3333333333333333,
              "#9c179e"
             ],
             [
              0.4444444444444444,
              "#bd3786"
             ],
             [
              0.5555555555555556,
              "#d8576b"
             ],
             [
              0.6666666666666666,
              "#ed7953"
             ],
             [
              0.7777777777777778,
              "#fb9f3a"
             ],
             [
              0.8888888888888888,
              "#fdca26"
             ],
             [
              1,
              "#f0f921"
             ]
            ],
            "type": "surface"
           }
          ],
          "table": [
           {
            "cells": {
             "fill": {
              "color": "#EBF0F8"
             },
             "line": {
              "color": "white"
             }
            },
            "header": {
             "fill": {
              "color": "#C8D4E3"
             },
             "line": {
              "color": "white"
             }
            },
            "type": "table"
           }
          ]
         },
         "layout": {
          "annotationdefaults": {
           "arrowcolor": "#2a3f5f",
           "arrowhead": 0,
           "arrowwidth": 1
          },
          "coloraxis": {
           "colorbar": {
            "outlinewidth": 0,
            "ticks": ""
           }
          },
          "colorscale": {
           "diverging": [
            [
             0,
             "#8e0152"
            ],
            [
             0.1,
             "#c51b7d"
            ],
            [
             0.2,
             "#de77ae"
            ],
            [
             0.3,
             "#f1b6da"
            ],
            [
             0.4,
             "#fde0ef"
            ],
            [
             0.5,
             "#f7f7f7"
            ],
            [
             0.6,
             "#e6f5d0"
            ],
            [
             0.7,
             "#b8e186"
            ],
            [
             0.8,
             "#7fbc41"
            ],
            [
             0.9,
             "#4d9221"
            ],
            [
             1,
             "#276419"
            ]
           ],
           "sequential": [
            [
             0,
             "#0d0887"
            ],
            [
             0.1111111111111111,
             "#46039f"
            ],
            [
             0.2222222222222222,
             "#7201a8"
            ],
            [
             0.3333333333333333,
             "#9c179e"
            ],
            [
             0.4444444444444444,
             "#bd3786"
            ],
            [
             0.5555555555555556,
             "#d8576b"
            ],
            [
             0.6666666666666666,
             "#ed7953"
            ],
            [
             0.7777777777777778,
             "#fb9f3a"
            ],
            [
             0.8888888888888888,
             "#fdca26"
            ],
            [
             1,
             "#f0f921"
            ]
           ],
           "sequentialminus": [
            [
             0,
             "#0d0887"
            ],
            [
             0.1111111111111111,
             "#46039f"
            ],
            [
             0.2222222222222222,
             "#7201a8"
            ],
            [
             0.3333333333333333,
             "#9c179e"
            ],
            [
             0.4444444444444444,
             "#bd3786"
            ],
            [
             0.5555555555555556,
             "#d8576b"
            ],
            [
             0.6666666666666666,
             "#ed7953"
            ],
            [
             0.7777777777777778,
             "#fb9f3a"
            ],
            [
             0.8888888888888888,
             "#fdca26"
            ],
            [
             1,
             "#f0f921"
            ]
           ]
          },
          "colorway": [
           "#636efa",
           "#EF553B",
           "#00cc96",
           "#ab63fa",
           "#FFA15A",
           "#19d3f3",
           "#FF6692",
           "#B6E880",
           "#FF97FF",
           "#FECB52"
          ],
          "font": {
           "color": "#2a3f5f"
          },
          "geo": {
           "bgcolor": "white",
           "lakecolor": "white",
           "landcolor": "white",
           "showlakes": true,
           "showland": true,
           "subunitcolor": "#C8D4E3"
          },
          "hoverlabel": {
           "align": "left"
          },
          "hovermode": "closest",
          "mapbox": {
           "style": "light"
          },
          "paper_bgcolor": "white",
          "plot_bgcolor": "white",
          "polar": {
           "angularaxis": {
            "gridcolor": "#EBF0F8",
            "linecolor": "#EBF0F8",
            "ticks": ""
           },
           "bgcolor": "white",
           "radialaxis": {
            "gridcolor": "#EBF0F8",
            "linecolor": "#EBF0F8",
            "ticks": ""
           }
          },
          "scene": {
           "xaxis": {
            "backgroundcolor": "white",
            "gridcolor": "#DFE8F3",
            "gridwidth": 2,
            "linecolor": "#EBF0F8",
            "showbackground": true,
            "ticks": "",
            "zerolinecolor": "#EBF0F8"
           },
           "yaxis": {
            "backgroundcolor": "white",
            "gridcolor": "#DFE8F3",
            "gridwidth": 2,
            "linecolor": "#EBF0F8",
            "showbackground": true,
            "ticks": "",
            "zerolinecolor": "#EBF0F8"
           },
           "zaxis": {
            "backgroundcolor": "white",
            "gridcolor": "#DFE8F3",
            "gridwidth": 2,
            "linecolor": "#EBF0F8",
            "showbackground": true,
            "ticks": "",
            "zerolinecolor": "#EBF0F8"
           }
          },
          "shapedefaults": {
           "line": {
            "color": "#2a3f5f"
           }
          },
          "ternary": {
           "aaxis": {
            "gridcolor": "#DFE8F3",
            "linecolor": "#A2B1C6",
            "ticks": ""
           },
           "baxis": {
            "gridcolor": "#DFE8F3",
            "linecolor": "#A2B1C6",
            "ticks": ""
           },
           "bgcolor": "white",
           "caxis": {
            "gridcolor": "#DFE8F3",
            "linecolor": "#A2B1C6",
            "ticks": ""
           }
          },
          "title": {
           "x": 0.05
          },
          "xaxis": {
           "automargin": true,
           "gridcolor": "#EBF0F8",
           "linecolor": "#EBF0F8",
           "ticks": "",
           "title": {
            "standoff": 15
           },
           "zerolinecolor": "#EBF0F8",
           "zerolinewidth": 2
          },
          "yaxis": {
           "automargin": true,
           "gridcolor": "#EBF0F8",
           "linecolor": "#EBF0F8",
           "ticks": "",
           "title": {
            "standoff": 15
           },
           "zerolinecolor": "#EBF0F8",
           "zerolinewidth": 2
          }
         }
        },
        "title": {
         "text": "Restaurants in las vegas<br>(Locations are rounded)"
        }
       }
      },
      "text/html": [
       "<div>\n",
       "        \n",
       "        \n",
       "            <div id=\"3c5d8ad3-5452-414b-a6e6-9f6d6b00c2e5\" class=\"plotly-graph-div\" style=\"height:525px; width:100%;\"></div>\n",
       "            <script type=\"text/javascript\">\n",
       "                require([\"plotly\"], function(Plotly) {\n",
       "                    window.PLOTLYENV=window.PLOTLYENV || {};\n",
       "                    \n",
       "                if (document.getElementById(\"3c5d8ad3-5452-414b-a6e6-9f6d6b00c2e5\")) {\n",
       "                    Plotly.newPlot(\n",
       "                        '3c5d8ad3-5452-414b-a6e6-9f6d6b00c2e5',\n",
       "                        [{\"hoverlabel\": {\"namelength\": 0}, \"hovertemplate\": \"review_count=%{marker.size}<br>latitude=%{lat}<br>longitude=%{lon}<br>stars=%{marker.color}\", \"lat\": [36.013, 36.021, 36.042, 36.051, 36.06, 36.1, 36.101, 36.114, 36.126, 36.127, 36.145, 36.145, 36.159, 36.161, 36.196, 36.196, 36.219, 36.219, 36.24, 36.271], \"legendgroup\": \"\", \"lon\": [-115.134, -115.278, -115.121, -115.244, -115.279, -115.105, -115.298, -115.066, -115.223, -115.169, -115.201, -115.137, -115.316, -115.063, -115.227, -115.062, -115.281, -115.28, -115.233, -115.263], \"marker\": {\"color\": [1.5, 1.0, 2.0, 1.5, 2.0, 1.5, 1.5, 2.0, 2.0, 2.5, 2.0, 1.5, 1.5, 1.5, 1.5, 1.5, 1.5, 1.5, 1.5, 1.5], \"coloraxis\": \"coloraxis\", \"size\": [54, 3, 27, 27, 50, 18, 38, 19, 24, 3, 22, 31, 38, 23, 27, 12, 24, 9, 17, 57], \"sizemode\": \"area\", \"sizeref\": 0.06333333333333334}, \"mode\": \"markers\", \"name\": \"\", \"showlegend\": false, \"subplot\": \"mapbox\", \"type\": \"scattermapbox\"}],\n",
       "                        {\"coloraxis\": {\"colorbar\": {\"title\": {\"text\": \"stars\"}}, \"colorscale\": [[0.0, \"#440154\"], [0.1111111111111111, \"#482878\"], [0.2222222222222222, \"#3e4989\"], [0.3333333333333333, \"#31688e\"], [0.4444444444444444, \"#26828e\"], [0.5555555555555556, \"#1f9e89\"], [0.6666666666666666, \"#35b779\"], [0.7777777777777778, \"#6ece58\"], [0.8888888888888888, \"#b5de2b\"], [1.0, \"#fde725\"]]}, \"legend\": {\"itemsizing\": \"constant\", \"tracegroupgap\": 0}, \"mapbox\": {\"accesstoken\": \"pk.eyJ1IjoiaGlzaGFtLWh1c3NlaW4iLCJhIjoiY2p6OXVsM3hjMDBmOTNtcHI0a2o3MHEzcyJ9.Ii4E_GmYN1bi_9_AOYaJLg\", \"center\": {\"lat\": 36.1353, \"lon\": -115.19900000000003}, \"domain\": {\"x\": [0.0, 1.0], \"y\": [0.0, 1.0]}, \"zoom\": 9}, \"template\": {\"data\": {\"bar\": [{\"error_x\": {\"color\": \"#2a3f5f\"}, \"error_y\": {\"color\": \"#2a3f5f\"}, \"marker\": {\"line\": {\"color\": \"white\", \"width\": 0.5}}, \"type\": \"bar\"}], \"barpolar\": [{\"marker\": {\"line\": {\"color\": \"white\", \"width\": 0.5}}, \"type\": \"barpolar\"}], \"carpet\": [{\"aaxis\": {\"endlinecolor\": \"#2a3f5f\", \"gridcolor\": \"#C8D4E3\", \"linecolor\": \"#C8D4E3\", \"minorgridcolor\": \"#C8D4E3\", \"startlinecolor\": \"#2a3f5f\"}, \"baxis\": {\"endlinecolor\": \"#2a3f5f\", \"gridcolor\": \"#C8D4E3\", \"linecolor\": \"#C8D4E3\", \"minorgridcolor\": \"#C8D4E3\", \"startlinecolor\": \"#2a3f5f\"}, \"type\": \"carpet\"}], \"choropleth\": [{\"colorbar\": {\"outlinewidth\": 0, \"ticks\": \"\"}, \"type\": \"choropleth\"}], \"contour\": [{\"colorbar\": {\"outlinewidth\": 0, \"ticks\": \"\"}, \"colorscale\": [[0.0, \"#0d0887\"], [0.1111111111111111, \"#46039f\"], [0.2222222222222222, \"#7201a8\"], [0.3333333333333333, \"#9c179e\"], [0.4444444444444444, \"#bd3786\"], [0.5555555555555556, \"#d8576b\"], [0.6666666666666666, \"#ed7953\"], [0.7777777777777778, \"#fb9f3a\"], [0.8888888888888888, \"#fdca26\"], [1.0, \"#f0f921\"]], \"type\": \"contour\"}], \"contourcarpet\": [{\"colorbar\": {\"outlinewidth\": 0, \"ticks\": \"\"}, \"type\": \"contourcarpet\"}], \"heatmap\": [{\"colorbar\": {\"outlinewidth\": 0, \"ticks\": \"\"}, \"colorscale\": [[0.0, \"#0d0887\"], [0.1111111111111111, \"#46039f\"], [0.2222222222222222, \"#7201a8\"], [0.3333333333333333, \"#9c179e\"], [0.4444444444444444, \"#bd3786\"], [0.5555555555555556, \"#d8576b\"], [0.6666666666666666, \"#ed7953\"], [0.7777777777777778, \"#fb9f3a\"], [0.8888888888888888, \"#fdca26\"], [1.0, \"#f0f921\"]], \"type\": \"heatmap\"}], \"heatmapgl\": [{\"colorbar\": {\"outlinewidth\": 0, \"ticks\": \"\"}, \"colorscale\": [[0.0, \"#0d0887\"], [0.1111111111111111, \"#46039f\"], [0.2222222222222222, \"#7201a8\"], [0.3333333333333333, \"#9c179e\"], [0.4444444444444444, \"#bd3786\"], [0.5555555555555556, \"#d8576b\"], [0.6666666666666666, \"#ed7953\"], [0.7777777777777778, \"#fb9f3a\"], [0.8888888888888888, \"#fdca26\"], [1.0, \"#f0f921\"]], \"type\": \"heatmapgl\"}], \"histogram\": [{\"marker\": {\"colorbar\": {\"outlinewidth\": 0, \"ticks\": \"\"}}, \"type\": \"histogram\"}], \"histogram2d\": [{\"colorbar\": {\"outlinewidth\": 0, \"ticks\": \"\"}, \"colorscale\": [[0.0, \"#0d0887\"], [0.1111111111111111, \"#46039f\"], [0.2222222222222222, \"#7201a8\"], [0.3333333333333333, \"#9c179e\"], [0.4444444444444444, \"#bd3786\"], [0.5555555555555556, \"#d8576b\"], [0.6666666666666666, \"#ed7953\"], [0.7777777777777778, \"#fb9f3a\"], [0.8888888888888888, \"#fdca26\"], [1.0, \"#f0f921\"]], \"type\": \"histogram2d\"}], \"histogram2dcontour\": [{\"colorbar\": {\"outlinewidth\": 0, \"ticks\": \"\"}, \"colorscale\": [[0.0, \"#0d0887\"], [0.1111111111111111, \"#46039f\"], [0.2222222222222222, \"#7201a8\"], [0.3333333333333333, \"#9c179e\"], [0.4444444444444444, \"#bd3786\"], [0.5555555555555556, \"#d8576b\"], [0.6666666666666666, \"#ed7953\"], [0.7777777777777778, \"#fb9f3a\"], [0.8888888888888888, \"#fdca26\"], [1.0, \"#f0f921\"]], \"type\": \"histogram2dcontour\"}], \"mesh3d\": [{\"colorbar\": {\"outlinewidth\": 0, \"ticks\": \"\"}, \"type\": \"mesh3d\"}], \"parcoords\": [{\"line\": {\"colorbar\": {\"outlinewidth\": 0, \"ticks\": \"\"}}, \"type\": \"parcoords\"}], \"pie\": [{\"automargin\": true, \"type\": \"pie\"}], \"scatter\": [{\"marker\": {\"colorbar\": {\"outlinewidth\": 0, \"ticks\": \"\"}}, \"type\": \"scatter\"}], \"scatter3d\": [{\"line\": {\"colorbar\": {\"outlinewidth\": 0, \"ticks\": \"\"}}, \"marker\": {\"colorbar\": {\"outlinewidth\": 0, \"ticks\": \"\"}}, \"type\": \"scatter3d\"}], \"scattercarpet\": [{\"marker\": {\"colorbar\": {\"outlinewidth\": 0, \"ticks\": \"\"}}, \"type\": \"scattercarpet\"}], \"scattergeo\": [{\"marker\": {\"colorbar\": {\"outlinewidth\": 0, \"ticks\": \"\"}}, \"type\": \"scattergeo\"}], \"scattergl\": [{\"marker\": {\"colorbar\": {\"outlinewidth\": 0, \"ticks\": \"\"}}, \"type\": \"scattergl\"}], \"scattermapbox\": [{\"marker\": {\"colorbar\": {\"outlinewidth\": 0, \"ticks\": \"\"}}, \"type\": \"scattermapbox\"}], \"scatterpolar\": [{\"marker\": {\"colorbar\": {\"outlinewidth\": 0, \"ticks\": \"\"}}, \"type\": \"scatterpolar\"}], \"scatterpolargl\": [{\"marker\": {\"colorbar\": {\"outlinewidth\": 0, \"ticks\": \"\"}}, \"type\": \"scatterpolargl\"}], \"scatterternary\": [{\"marker\": {\"colorbar\": {\"outlinewidth\": 0, \"ticks\": \"\"}}, \"type\": \"scatterternary\"}], \"surface\": [{\"colorbar\": {\"outlinewidth\": 0, \"ticks\": \"\"}, \"colorscale\": [[0.0, \"#0d0887\"], [0.1111111111111111, \"#46039f\"], [0.2222222222222222, \"#7201a8\"], [0.3333333333333333, \"#9c179e\"], [0.4444444444444444, \"#bd3786\"], [0.5555555555555556, \"#d8576b\"], [0.6666666666666666, \"#ed7953\"], [0.7777777777777778, \"#fb9f3a\"], [0.8888888888888888, \"#fdca26\"], [1.0, \"#f0f921\"]], \"type\": \"surface\"}], \"table\": [{\"cells\": {\"fill\": {\"color\": \"#EBF0F8\"}, \"line\": {\"color\": \"white\"}}, \"header\": {\"fill\": {\"color\": \"#C8D4E3\"}, \"line\": {\"color\": \"white\"}}, \"type\": \"table\"}]}, \"layout\": {\"annotationdefaults\": {\"arrowcolor\": \"#2a3f5f\", \"arrowhead\": 0, \"arrowwidth\": 1}, \"coloraxis\": {\"colorbar\": {\"outlinewidth\": 0, \"ticks\": \"\"}}, \"colorscale\": {\"diverging\": [[0, \"#8e0152\"], [0.1, \"#c51b7d\"], [0.2, \"#de77ae\"], [0.3, \"#f1b6da\"], [0.4, \"#fde0ef\"], [0.5, \"#f7f7f7\"], [0.6, \"#e6f5d0\"], [0.7, \"#b8e186\"], [0.8, \"#7fbc41\"], [0.9, \"#4d9221\"], [1, \"#276419\"]], \"sequential\": [[0.0, \"#0d0887\"], [0.1111111111111111, \"#46039f\"], [0.2222222222222222, \"#7201a8\"], [0.3333333333333333, \"#9c179e\"], [0.4444444444444444, \"#bd3786\"], [0.5555555555555556, \"#d8576b\"], [0.6666666666666666, \"#ed7953\"], [0.7777777777777778, \"#fb9f3a\"], [0.8888888888888888, \"#fdca26\"], [1.0, \"#f0f921\"]], \"sequentialminus\": [[0.0, \"#0d0887\"], [0.1111111111111111, \"#46039f\"], [0.2222222222222222, \"#7201a8\"], [0.3333333333333333, \"#9c179e\"], [0.4444444444444444, \"#bd3786\"], [0.5555555555555556, \"#d8576b\"], [0.6666666666666666, \"#ed7953\"], [0.7777777777777778, \"#fb9f3a\"], [0.8888888888888888, \"#fdca26\"], [1.0, \"#f0f921\"]]}, \"colorway\": [\"#636efa\", \"#EF553B\", \"#00cc96\", \"#ab63fa\", \"#FFA15A\", \"#19d3f3\", \"#FF6692\", \"#B6E880\", \"#FF97FF\", \"#FECB52\"], \"font\": {\"color\": \"#2a3f5f\"}, \"geo\": {\"bgcolor\": \"white\", \"lakecolor\": \"white\", \"landcolor\": \"white\", \"showlakes\": true, \"showland\": true, \"subunitcolor\": \"#C8D4E3\"}, \"hoverlabel\": {\"align\": \"left\"}, \"hovermode\": \"closest\", \"mapbox\": {\"style\": \"light\"}, \"paper_bgcolor\": \"white\", \"plot_bgcolor\": \"white\", \"polar\": {\"angularaxis\": {\"gridcolor\": \"#EBF0F8\", \"linecolor\": \"#EBF0F8\", \"ticks\": \"\"}, \"bgcolor\": \"white\", \"radialaxis\": {\"gridcolor\": \"#EBF0F8\", \"linecolor\": \"#EBF0F8\", \"ticks\": \"\"}}, \"scene\": {\"xaxis\": {\"backgroundcolor\": \"white\", \"gridcolor\": \"#DFE8F3\", \"gridwidth\": 2, \"linecolor\": \"#EBF0F8\", \"showbackground\": true, \"ticks\": \"\", \"zerolinecolor\": \"#EBF0F8\"}, \"yaxis\": {\"backgroundcolor\": \"white\", \"gridcolor\": \"#DFE8F3\", \"gridwidth\": 2, \"linecolor\": \"#EBF0F8\", \"showbackground\": true, \"ticks\": \"\", \"zerolinecolor\": \"#EBF0F8\"}, \"zaxis\": {\"backgroundcolor\": \"white\", \"gridcolor\": \"#DFE8F3\", \"gridwidth\": 2, \"linecolor\": \"#EBF0F8\", \"showbackground\": true, \"ticks\": \"\", \"zerolinecolor\": \"#EBF0F8\"}}, \"shapedefaults\": {\"line\": {\"color\": \"#2a3f5f\"}}, \"ternary\": {\"aaxis\": {\"gridcolor\": \"#DFE8F3\", \"linecolor\": \"#A2B1C6\", \"ticks\": \"\"}, \"baxis\": {\"gridcolor\": \"#DFE8F3\", \"linecolor\": \"#A2B1C6\", \"ticks\": \"\"}, \"bgcolor\": \"white\", \"caxis\": {\"gridcolor\": \"#DFE8F3\", \"linecolor\": \"#A2B1C6\", \"ticks\": \"\"}}, \"title\": {\"x\": 0.05}, \"xaxis\": {\"automargin\": true, \"gridcolor\": \"#EBF0F8\", \"linecolor\": \"#EBF0F8\", \"ticks\": \"\", \"title\": {\"standoff\": 15}, \"zerolinecolor\": \"#EBF0F8\", \"zerolinewidth\": 2}, \"yaxis\": {\"automargin\": true, \"gridcolor\": \"#EBF0F8\", \"linecolor\": \"#EBF0F8\", \"ticks\": \"\", \"title\": {\"standoff\": 15}, \"zerolinecolor\": \"#EBF0F8\", \"zerolinewidth\": 2}}}, \"title\": {\"text\": \"Restaurants in las vegas<br>(Locations are rounded)\"}},\n",
       "                        {\"responsive\": true}\n",
       "                    ).then(function(){\n",
       "                            \n",
       "var gd = document.getElementById('3c5d8ad3-5452-414b-a6e6-9f6d6b00c2e5');\n",
       "var x = new MutationObserver(function (mutations, observer) {{\n",
       "        var display = window.getComputedStyle(gd).display;\n",
       "        if (!display || display === 'none') {{\n",
       "            console.log([gd, 'removed!']);\n",
       "            Plotly.purge(gd);\n",
       "            observer.disconnect();\n",
       "        }}\n",
       "}});\n",
       "\n",
       "// Listen for the removal of the full notebook cells\n",
       "var notebookContainer = gd.closest('#notebook-container');\n",
       "if (notebookContainer) {{\n",
       "    x.observe(notebookContainer, {childList: true});\n",
       "}}\n",
       "\n",
       "// Listen for the clearing of the current output cell\n",
       "var outputEl = gd.closest('.output');\n",
       "if (outputEl) {{\n",
       "    x.observe(outputEl, {childList: true});\n",
       "}}\n",
       "\n",
       "                        })\n",
       "                };\n",
       "                });\n",
       "            </script>\n",
       "        </div>"
      ]
     },
     "metadata": {},
     "output_type": "display_data"
    }
   ],
   "source": [
    "scatter_map(city_stats, 'las vegas')"
   ]
  },
  {
   "cell_type": "code",
   "execution_count": null,
   "metadata": {},
   "outputs": [],
   "source": []
  },
  {
   "cell_type": "code",
   "execution_count": null,
   "metadata": {},
   "outputs": [],
   "source": []
  },
  {
   "cell_type": "code",
   "execution_count": null,
   "metadata": {},
   "outputs": [],
   "source": []
  }
 ],
 "metadata": {
  "kernelspec": {
   "display_name": "Python 3",
   "language": "python",
   "name": "python3"
  },
  "language_info": {
   "codemirror_mode": {
    "name": "ipython",
    "version": 3
   },
   "file_extension": ".py",
   "mimetype": "text/x-python",
   "name": "python",
   "nbconvert_exporter": "python",
   "pygments_lexer": "ipython3",
   "version": "3.7.6"
  }
 },
 "nbformat": 4,
 "nbformat_minor": 2
}
